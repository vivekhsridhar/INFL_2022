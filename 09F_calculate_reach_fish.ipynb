{
 "cells": [
  {
   "cell_type": "code",
   "execution_count": 1,
   "id": "482c44ea",
   "metadata": {},
   "outputs": [],
   "source": [
    "import numpy as np\n",
    "import pandas as pd\n",
    "import networkx as nx\n",
    "\n",
    "from time import sleep\n",
    "from tqdm import tqdm"
   ]
  },
  {
   "cell_type": "code",
   "execution_count": 2,
   "id": "edf53c3a",
   "metadata": {},
   "outputs": [],
   "source": [
    "foldername = '0084'\n",
    "n_inds = 30\n",
    "scale = \"30\"\n",
    "\n",
    "angle_thresh = 30\n",
    "time_thresh = 5\n",
    "thresh_folder = 'angle' + str(angle_thresh) + '_time' + str(time_thresh)"
   ]
  },
  {
   "cell_type": "code",
   "execution_count": 3,
   "id": "3066b20a",
   "metadata": {},
   "outputs": [
    {
     "data": {
      "text/html": [
       "<div>\n",
       "<style scoped>\n",
       "    .dataframe tbody tr th:only-of-type {\n",
       "        vertical-align: middle;\n",
       "    }\n",
       "\n",
       "    .dataframe tbody tr th {\n",
       "        vertical-align: top;\n",
       "    }\n",
       "\n",
       "    .dataframe thead th {\n",
       "        text-align: right;\n",
       "    }\n",
       "</style>\n",
       "<table border=\"1\" class=\"dataframe\">\n",
       "  <thead>\n",
       "    <tr style=\"text-align: right;\">\n",
       "      <th></th>\n",
       "      <th>f_id</th>\n",
       "      <th>n_id</th>\n",
       "      <th>dist</th>\n",
       "      <th>ang_area</th>\n",
       "      <th>speed_diff</th>\n",
       "      <th>acc_diff</th>\n",
       "      <th>frame</th>\n",
       "      <th>tau</th>\n",
       "      <th>cc</th>\n",
       "      <th>ang_pos</th>\n",
       "    </tr>\n",
       "  </thead>\n",
       "  <tbody>\n",
       "    <tr>\n",
       "      <th>0</th>\n",
       "      <td>0</td>\n",
       "      <td>1</td>\n",
       "      <td>315.757818</td>\n",
       "      <td>0.000000</td>\n",
       "      <td>0.551799</td>\n",
       "      <td>0.005935</td>\n",
       "      <td>450</td>\n",
       "      <td>-128</td>\n",
       "      <td>0.0</td>\n",
       "      <td>0.961767</td>\n",
       "    </tr>\n",
       "    <tr>\n",
       "      <th>1</th>\n",
       "      <td>0</td>\n",
       "      <td>2</td>\n",
       "      <td>111.924099</td>\n",
       "      <td>0.367566</td>\n",
       "      <td>-0.082841</td>\n",
       "      <td>-0.009714</td>\n",
       "      <td>450</td>\n",
       "      <td>0</td>\n",
       "      <td>0.0</td>\n",
       "      <td>1.648288</td>\n",
       "    </tr>\n",
       "    <tr>\n",
       "      <th>2</th>\n",
       "      <td>0</td>\n",
       "      <td>3</td>\n",
       "      <td>154.803262</td>\n",
       "      <td>0.075398</td>\n",
       "      <td>0.156155</td>\n",
       "      <td>0.001394</td>\n",
       "      <td>450</td>\n",
       "      <td>-12</td>\n",
       "      <td>0.0</td>\n",
       "      <td>1.113337</td>\n",
       "    </tr>\n",
       "    <tr>\n",
       "      <th>3</th>\n",
       "      <td>0</td>\n",
       "      <td>4</td>\n",
       "      <td>290.640091</td>\n",
       "      <td>0.000000</td>\n",
       "      <td>0.435032</td>\n",
       "      <td>0.013989</td>\n",
       "      <td>450</td>\n",
       "      <td>-150</td>\n",
       "      <td>0.0</td>\n",
       "      <td>0.881489</td>\n",
       "    </tr>\n",
       "    <tr>\n",
       "      <th>4</th>\n",
       "      <td>0</td>\n",
       "      <td>5</td>\n",
       "      <td>300.684983</td>\n",
       "      <td>0.000000</td>\n",
       "      <td>0.687985</td>\n",
       "      <td>0.032424</td>\n",
       "      <td>450</td>\n",
       "      <td>-92</td>\n",
       "      <td>0.0</td>\n",
       "      <td>0.624697</td>\n",
       "    </tr>\n",
       "  </tbody>\n",
       "</table>\n",
       "</div>"
      ],
      "text/plain": [
       "   f_id  n_id        dist  ang_area  speed_diff  acc_diff  frame  tau   cc  \\\n",
       "0     0     1  315.757818  0.000000    0.551799  0.005935    450 -128  0.0   \n",
       "1     0     2  111.924099  0.367566   -0.082841 -0.009714    450    0  0.0   \n",
       "2     0     3  154.803262  0.075398    0.156155  0.001394    450  -12  0.0   \n",
       "3     0     4  290.640091  0.000000    0.435032  0.013989    450 -150  0.0   \n",
       "4     0     5  300.684983  0.000000    0.687985  0.032424    450  -92  0.0   \n",
       "\n",
       "    ang_pos  \n",
       "0  0.961767  \n",
       "1  1.648288  \n",
       "2  1.113337  \n",
       "3  0.881489  \n",
       "4  0.624697  "
      ]
     },
     "execution_count": 3,
     "metadata": {},
     "output_type": "execute_result"
    }
   ],
   "source": [
    "ind = pd.read_csv('/Users/vivekhsridhar/Library/Mobile Documents/com~apple~CloudDocs/Documents/Code/DirectionalCorrelation/Data/Output/golden_shiners/' + str(n_inds) + '_fish/' + foldername + '/' + thresh_folder + '/individual_' + scale + '.csv')\n",
    "ind.drop(['Unnamed: 0'], axis=1, inplace=True)\n",
    "\n",
    "pair = pd.read_csv('/Users/vivekhsridhar/Library/Mobile Documents/com~apple~CloudDocs/Documents/Code/DirectionalCorrelation/Data/Output/golden_shiners/' + str(n_inds) + '_fish/' + foldername + '/' + thresh_folder + '/pairwise_' + scale + '.csv')\n",
    "pair.drop(['Unnamed: 0'], axis=1, inplace=True)\n",
    "pair.head()"
   ]
  },
  {
   "cell_type": "code",
   "execution_count": 4,
   "id": "1901b586",
   "metadata": {},
   "outputs": [],
   "source": [
    "assert(np.min(ind['frame']) == np.min(pair['frame'])) \n",
    "assert(np.max(ind['frame']) == np.max(pair['frame']))"
   ]
  },
  {
   "cell_type": "code",
   "execution_count": 5,
   "id": "763bd475",
   "metadata": {
    "scrolled": true
   },
   "outputs": [
    {
     "name": "stderr",
     "output_type": "stream",
     "text": [
      "100%|██████████████████████████████████| 23692/23692 [21:38:43<00:00,  3.29s/it]\n"
     ]
    }
   ],
   "source": [
    "df_ind = pair.loc[:,['f_id', 'frame']].drop_duplicates()\n",
    "df_ind['reach'] = 0\n",
    "\n",
    "for fr in tqdm(np.unique(pair['frame'])):\n",
    "    tmp = pair[(pair['frame'] == fr) & (pair['cc'] == 1)].reset_index()\n",
    "    \n",
    "    G = nx.DiGraph()\n",
    "    G.add_nodes_from(np.unique(pair['f_id']))\n",
    "    \n",
    "    list_a = list(tmp.loc[tmp['cc'] == 1, 'n_id'].values) \n",
    "    list_b = list(tmp.loc[tmp['cc'] == 1, 'f_id'].values)\n",
    "    \n",
    "    if len(list_a) != 0:\n",
    "        G.add_edges_from(list(zip(list_a, list_b)))\n",
    "\n",
    "        for idx in np.unique(pair['n_id']):\n",
    "            df_ind.loc[(pair['frame'] == fr) & (pair['f_id'] == idx), 'reach'] = nx.local_reaching_centrality(G, idx)\n",
    "        \n",
    "    sleep(0.001)\n",
    "    \n",
    "df = pd.merge(ind,df_ind)"
   ]
  },
  {
   "cell_type": "code",
   "execution_count": 6,
   "id": "260bcbed",
   "metadata": {},
   "outputs": [],
   "source": [
    "df.to_csv('/Users/vivekhsridhar/Library/Mobile Documents/com~apple~CloudDocs/Documents/Code/DirectionalCorrelation/Data/Output/golden_shiners/' + str(n_inds) + '_fish/' + foldername + '/' + thresh_folder + '/individual_' + scale + '.csv', mode='w')"
   ]
  },
  {
   "cell_type": "code",
   "execution_count": null,
   "id": "3a6dd7e1",
   "metadata": {},
   "outputs": [],
   "source": []
  }
 ],
 "metadata": {
  "kernelspec": {
   "display_name": "Python 3 (ipykernel)",
   "language": "python",
   "name": "python3"
  },
  "language_info": {
   "codemirror_mode": {
    "name": "ipython",
    "version": 3
   },
   "file_extension": ".py",
   "mimetype": "text/x-python",
   "name": "python",
   "nbconvert_exporter": "python",
   "pygments_lexer": "ipython3",
   "version": "3.8.9"
  }
 },
 "nbformat": 4,
 "nbformat_minor": 5
}
