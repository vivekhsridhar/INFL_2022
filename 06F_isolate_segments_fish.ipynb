{
 "cells": [
  {
   "cell_type": "code",
   "execution_count": 1,
   "metadata": {},
   "outputs": [],
   "source": [
    "import gc\n",
    "import numpy as np\n",
    "import pandas as pd\n",
    "import matplotlib.pyplot as plt"
   ]
  },
  {
   "cell_type": "code",
   "execution_count": 2,
   "metadata": {},
   "outputs": [],
   "source": [
    "n_inds = 30\n",
    "scale = \"15\"\n",
    "fps = 30\n",
    "seq_length = 30\n",
    "full_length = 600\n",
    "\n",
    "folders = ['0084', '0115', '0120']"
   ]
  },
  {
   "cell_type": "code",
   "execution_count": 3,
   "metadata": {
    "scrolled": false
   },
   "outputs": [],
   "source": [
    "for i,name in enumerate(folders):\n",
    "    tmp = pd.read_csv('/home/user/Documents/Vivek/cuda/DirectionalCorrelation/Data/Output/golden_shiners/' + str(n_inds) + '_fish/' + name + '/' + 'pairwise_' + scale + '.csv')\n",
    "    tmp2 = pd.read_csv('/home/user/Documents/Vivek/cuda/DirectionalCorrelation/Data/Output/golden_shiners/' + str(n_inds) + '_fish/' + name + '/' + 'individual_' + scale + '.csv')\n",
    "    tmp['vid_id'] = i\n",
    "    tmp2['vid_id'] = i\n",
    "    \n",
    "    pair_drops = ['Unnamed: 0', 'ang_area', 'tau']\n",
    "    ind_drops = ['Unnamed: 0', 'size', 'dev_gspeed', 'dev_gacc', 'rx', 'ry', 'lscore', 'lfinal']\n",
    "    tmp.drop(pair_drops, axis=1, inplace=True)\n",
    "    tmp2.drop(ind_drops, axis=1, inplace=True)\n",
    "    \n",
    "    if i != 0:\n",
    "        pair1 = np.concatenate((pair1,tmp), axis=0)\n",
    "        ind1 = np.concatenate((ind1,tmp2), axis=0)\n",
    "    else:\n",
    "        pair1 = tmp\n",
    "        ind1 = tmp2\n",
    "        cols = list(tmp)\n",
    "        col_ind = list(tmp2)\n",
    "        \n",
    "pair1 = pd.DataFrame(pair1)\n",
    "pair1.columns = cols\n",
    "\n",
    "ind1 = pd.DataFrame(ind1)\n",
    "ind1.columns = col_ind"
   ]
  },
  {
   "cell_type": "code",
   "execution_count": 4,
   "metadata": {},
   "outputs": [],
   "source": [
    "n_inds = 10\n",
    "folders = ['0066', '0105', '0126']"
   ]
  },
  {
   "cell_type": "code",
   "execution_count": 5,
   "metadata": {
    "scrolled": true
   },
   "outputs": [],
   "source": [
    "for i,name in enumerate(folders):\n",
    "    tmp = pd.read_csv('/home/user/Documents/Vivek/cuda/DirectionalCorrelation/Data/Output/golden_shiners/' + str(n_inds) + '_fish/' + name + '/' + 'pairwise_' + scale + '.csv')\n",
    "    tmp2 = pd.read_csv('/home/user/Documents/Vivek/cuda/DirectionalCorrelation/Data/Output/golden_shiners/' + str(n_inds) + '_fish/' + name + '/' + 'individual_' + scale + '.csv')\n",
    "    tmp['vid_id'] = i+3\n",
    "    tmp2['vid_id'] = i+3\n",
    "    \n",
    "    pair_drops = ['Unnamed: 0', 'ang_area', 'tau']\n",
    "    ind_drops = ['Unnamed: 0', 'size', 'dev_gspeed', 'dev_gacc', 'rx', 'ry', 'lscore', 'lfinal']\n",
    "    tmp.drop(pair_drops, axis=1, inplace=True)\n",
    "    tmp2.drop(ind_drops, axis=1, inplace=True)\n",
    "    \n",
    "    if i != 0:\n",
    "        pair2 = np.concatenate((pair2,tmp), axis=0)\n",
    "        ind2 = np.concatenate((ind2,tmp2), axis=0)\n",
    "    else:\n",
    "        pair2 = tmp\n",
    "        ind2 = tmp2\n",
    "        cols = list(tmp)\n",
    "        col_ind = list(tmp2)\n",
    "        \n",
    "pair2 = pd.DataFrame(pair2)\n",
    "pair2.columns = cols\n",
    "\n",
    "ind2 = pd.DataFrame(ind2)\n",
    "ind2.columns = col_ind"
   ]
  },
  {
   "cell_type": "code",
   "execution_count": 6,
   "metadata": {},
   "outputs": [],
   "source": [
    "ind1 = ind1.rename(index=str, columns={'speed':'f_speed', 'acceleration':'f_acc'})\n",
    "ind2 = ind2.rename(index=str, columns={'speed':'f_speed', 'acceleration':'f_acc'})\n",
    "\n",
    "rev_ind1 = ind1.rename(index=str, columns={'f_id':'n_id', 'f_speed':'n_speed', 'f_acc':'n_acc'})\n",
    "rev_ind2 = ind2.rename(index=str, columns={'f_id':'n_id', 'f_speed':'n_speed', 'f_acc':'n_acc'})"
   ]
  },
  {
   "cell_type": "code",
   "execution_count": 7,
   "metadata": {},
   "outputs": [],
   "source": [
    "pairs = pd.concat([pair1,pair2], axis=0, sort=True)\n",
    "inds = pd.concat([ind1,ind2], axis=0, sort=True)\n",
    "rev_inds = pd.concat([rev_ind1, rev_ind2], axis=0, sort=True)"
   ]
  },
  {
   "cell_type": "code",
   "execution_count": 8,
   "metadata": {},
   "outputs": [
    {
     "data": {
      "text/plain": [
       "217"
      ]
     },
     "execution_count": 8,
     "metadata": {},
     "output_type": "execute_result"
    }
   ],
   "source": [
    "del tmp\n",
    "del tmp2\n",
    "\n",
    "del pair1\n",
    "del pair2\n",
    "del ind1\n",
    "del ind2\n",
    "del rev_ind1\n",
    "del rev_ind2\n",
    "\n",
    "gc.collect()"
   ]
  },
  {
   "cell_type": "code",
   "execution_count": 9,
   "metadata": {},
   "outputs": [
    {
     "data": {
      "text/plain": [
       "77"
      ]
     },
     "execution_count": 9,
     "metadata": {},
     "output_type": "execute_result"
    }
   ],
   "source": [
    "df = pd.merge(pairs,inds)\n",
    "df = pd.merge(df,rev_inds)\n",
    "\n",
    "del pairs\n",
    "del inds\n",
    "del rev_inds\n",
    "\n",
    "gc.collect()"
   ]
  },
  {
   "cell_type": "markdown",
   "metadata": {},
   "source": [
    "### Isolate timeseries segments where \n",
    "#### a pair switches from having a leader-follower relationship to not having one—segments_upward (0 -> 1)\n",
    "#### OR\n",
    "#### a pair switches from not having a leader-follower relationship to having one—segments_downward (1 -> 0)"
   ]
  },
  {
   "cell_type": "code",
   "execution_count": 10,
   "metadata": {
    "scrolled": true
   },
   "outputs": [
    {
     "name": "stdout",
     "output_type": "stream",
     "text": [
      "0.0\n",
      "1.0\n",
      "2.0\n",
      "3.0\n",
      "4.0\n",
      "5.0\n"
     ]
    }
   ],
   "source": [
    "segments_upward = pd.DataFrame()\n",
    "e = 0\n",
    "\n",
    "for i in np.unique(df['vid_id']):\n",
    "    for j in np.unique(df['f_id']):\n",
    "        for k in np.unique(df['n_id']):\n",
    "            tmp = df[(df['vid_id'] == i) & (df['f_id'] == j) & (df['n_id'] == k) & (df['cc'] == 1)].reset_index()\n",
    "            tmp = tmp[(tmp['frame'] - tmp['frame'].shift() != 1) & (tmp['frame'].shift(-seq_length) - tmp['frame'] == seq_length)].reset_index()\n",
    "            if tmp.empty == True:\n",
    "                break\n",
    "            else:\n",
    "                for l in np.unique(tmp['frame']):\n",
    "                    if l > int(scale)*fps//2+full_length and l < np.max(tmp['frame']) - (int(scale)*fps//2+full_length):\n",
    "                        tmp2 = df[(df['vid_id'] == i) & (df['f_id'] == j) & (df['n_id'] == k) & (df['frame'] >= l-seq_length) & (df['frame'] < l+seq_length)].reset_index()\n",
    "                        if len(tmp2[tmp2['cc'] == 0]) == seq_length:\n",
    "                            tmp2 = df[(df['vid_id'] == i) & (df['f_id'] == j) & (df['n_id'] == k) & (df['frame'] >= l-full_length) & (df['frame'] < l+full_length)].reset_index()\n",
    "                            tmp2 = tmp2.drop('index', axis=1)\n",
    "                            tmp2['frame'] = np.arange(-full_length,full_length)\n",
    "                            tmp2['event'] = e\n",
    "                            tmp2 = tmp2.drop(['vid_id'], axis=1)\n",
    "                            \n",
    "                            segments_upward = pd.concat([segments_upward,tmp2])\n",
    "                            e+=1\n",
    "    print(i)\n",
    "                            \n",
    "segments_upward.to_csv('/home/user/Documents/Vivek/cuda/DirectionalCorrelation/Data/Output/golden_shiners/' + 'segup_' + scale + '_seq' + str(int(seq_length/fps)) + '.csv', mode='w')"
   ]
  },
  {
   "cell_type": "code",
   "execution_count": 11,
   "metadata": {
    "scrolled": true
   },
   "outputs": [
    {
     "name": "stdout",
     "output_type": "stream",
     "text": [
      "0.0\n",
      "1.0\n",
      "2.0\n",
      "3.0\n",
      "4.0\n",
      "5.0\n"
     ]
    }
   ],
   "source": [
    "segments_downward = pd.DataFrame()\n",
    "e = 0\n",
    "\n",
    "for i in np.unique(df['vid_id']):\n",
    "    for j in np.unique(df['f_id']):\n",
    "        for k in np.unique(df['n_id']):\n",
    "            tmp = df[(df['vid_id'] == i) & (df['f_id'] == j) & (df['n_id'] == k) & (df['cc'] == 1)].reset_index()\n",
    "            tmp = tmp[(tmp['frame'].shift(-1) - tmp['frame'] != 1) & (tmp['frame'] - tmp['frame'].shift(seq_length) == seq_length)].reset_index()\n",
    "            if tmp.empty == True:\n",
    "                break\n",
    "            else:\n",
    "                for l in np.unique(tmp['frame']):\n",
    "                    if l > int(scale)*fps//2+full_length and l < np.max(tmp['frame']) - (int(scale)*fps//2+full_length):\n",
    "                        tmp2 = df[(df['vid_id'] == i) & (df['f_id'] == j) & (df['n_id'] == k) & (df['frame'] > l-seq_length) & (df['frame'] <= l+seq_length)].reset_index()\n",
    "                        if len(tmp2[tmp2['cc'] == 0]) == seq_length:\n",
    "                            tmp2 = df[(df['vid_id'] == i) & (df['f_id'] == j) & (df['n_id'] == k) & (df['frame'] > l-full_length) & (df['frame'] <= l+full_length)].reset_index()\n",
    "                            tmp2 = tmp2.drop('index', axis=1)\n",
    "                            tmp2['frame'] = np.arange(-full_length,full_length)\n",
    "                            tmp2['event'] = e\n",
    "                            \n",
    "                            tmp2 = tmp2.drop(['vid_id'], axis=1)\n",
    "                            \n",
    "                            segments_downward = pd.concat([segments_downward,tmp2])\n",
    "                            e+=1\n",
    "    print(i)\n",
    "                            \n",
    "segments_downward.to_csv('/home/user/Documents/Vivek/cuda/DirectionalCorrelation/Data/Output/golden_shiners/' + 'segdown_' + scale + '_seq' + str(int(seq_length/fps)) + '.csv', mode='w')"
   ]
  },
  {
   "cell_type": "code",
   "execution_count": null,
   "metadata": {},
   "outputs": [],
   "source": []
  }
 ],
 "metadata": {
  "kernelspec": {
   "display_name": "Python 3 (ipykernel)",
   "language": "python",
   "name": "python3"
  },
  "language_info": {
   "codemirror_mode": {
    "name": "ipython",
    "version": 3
   },
   "file_extension": ".py",
   "mimetype": "text/x-python",
   "name": "python",
   "nbconvert_exporter": "python",
   "pygments_lexer": "ipython3",
   "version": "3.8.9"
  }
 },
 "nbformat": 4,
 "nbformat_minor": 2
}
