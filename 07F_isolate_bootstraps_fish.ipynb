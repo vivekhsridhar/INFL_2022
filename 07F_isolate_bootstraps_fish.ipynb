{
 "cells": [
  {
   "cell_type": "code",
   "execution_count": 1,
   "metadata": {},
   "outputs": [],
   "source": [
    "import gc\n",
    "import numpy as np\n",
    "import pandas as pd\n",
    "import matplotlib.pyplot as plt"
   ]
  },
  {
   "cell_type": "code",
   "execution_count": 2,
   "metadata": {},
   "outputs": [],
   "source": [
    "scale = \"07\"\n",
    "fps = 30\n",
    "seq_length = 30\n",
    "full_length = 600\n",
    "n_boots = 100\n",
    "\n",
    "angle_thresh = 30\n",
    "time_thresh = 2\n",
    "thresh_folder = 'angle' + str(angle_thresh) + '_time' + str(time_thresh)"
   ]
  },
  {
   "cell_type": "code",
   "execution_count": 3,
   "metadata": {},
   "outputs": [],
   "source": [
    "segments_upward = pd.read_csv('/Users/vivekhsridhar/Library/Mobile Documents/com~apple~CloudDocs/Documents/Code/DirectionalCorrelation/Data/Output/golden_shiners/' + thresh_folder + '/segup_' + scale + '_seq' + str(int(seq_length/fps)) + '.csv')\n",
    "segments_downward = pd.read_csv('/Users/vivekhsridhar/Library/Mobile Documents/com~apple~CloudDocs/Documents/Code/DirectionalCorrelation/Data/Output/golden_shiners/' + thresh_folder + '/segdown_' + scale + '_seq' + str(int(seq_length/fps)) + '.csv')"
   ]
  },
  {
   "cell_type": "code",
   "execution_count": 11,
   "metadata": {
    "scrolled": true
   },
   "outputs": [
    {
     "name": "stderr",
     "output_type": "stream",
     "text": [
      "/var/folders/ng/l4j590g95vl5r33ctw59y6cr0000gn/T/ipykernel_80698/3859670624.py:12: FutureWarning: Indexing with multiple keys (implicitly converted to a tuple of keys) will be deprecated, use a list instead.\n",
      "  bootstrapped_upward = tmp.groupby(['frame'])['ang_pos', 'dist', 'speed_diff', 'acc_diff', 'cc'].mean().reset_index()\n"
     ]
    },
    {
     "name": "stdout",
     "output_type": "stream",
     "text": [
      "0\n"
     ]
    },
    {
     "name": "stderr",
     "output_type": "stream",
     "text": [
      "/var/folders/ng/l4j590g95vl5r33ctw59y6cr0000gn/T/ipykernel_80698/3859670624.py:12: FutureWarning: Indexing with multiple keys (implicitly converted to a tuple of keys) will be deprecated, use a list instead.\n",
      "  bootstrapped_upward = tmp.groupby(['frame'])['ang_pos', 'dist', 'speed_diff', 'acc_diff', 'cc'].mean().reset_index()\n",
      "/var/folders/ng/l4j590g95vl5r33ctw59y6cr0000gn/T/ipykernel_80698/3859670624.py:12: FutureWarning: Indexing with multiple keys (implicitly converted to a tuple of keys) will be deprecated, use a list instead.\n",
      "  bootstrapped_upward = tmp.groupby(['frame'])['ang_pos', 'dist', 'speed_diff', 'acc_diff', 'cc'].mean().reset_index()\n",
      "/var/folders/ng/l4j590g95vl5r33ctw59y6cr0000gn/T/ipykernel_80698/3859670624.py:12: FutureWarning: Indexing with multiple keys (implicitly converted to a tuple of keys) will be deprecated, use a list instead.\n",
      "  bootstrapped_upward = tmp.groupby(['frame'])['ang_pos', 'dist', 'speed_diff', 'acc_diff', 'cc'].mean().reset_index()\n",
      "/var/folders/ng/l4j590g95vl5r33ctw59y6cr0000gn/T/ipykernel_80698/3859670624.py:12: FutureWarning: Indexing with multiple keys (implicitly converted to a tuple of keys) will be deprecated, use a list instead.\n",
      "  bootstrapped_upward = tmp.groupby(['frame'])['ang_pos', 'dist', 'speed_diff', 'acc_diff', 'cc'].mean().reset_index()\n",
      "/var/folders/ng/l4j590g95vl5r33ctw59y6cr0000gn/T/ipykernel_80698/3859670624.py:12: FutureWarning: Indexing with multiple keys (implicitly converted to a tuple of keys) will be deprecated, use a list instead.\n",
      "  bootstrapped_upward = tmp.groupby(['frame'])['ang_pos', 'dist', 'speed_diff', 'acc_diff', 'cc'].mean().reset_index()\n",
      "/var/folders/ng/l4j590g95vl5r33ctw59y6cr0000gn/T/ipykernel_80698/3859670624.py:12: FutureWarning: Indexing with multiple keys (implicitly converted to a tuple of keys) will be deprecated, use a list instead.\n",
      "  bootstrapped_upward = tmp.groupby(['frame'])['ang_pos', 'dist', 'speed_diff', 'acc_diff', 'cc'].mean().reset_index()\n",
      "/var/folders/ng/l4j590g95vl5r33ctw59y6cr0000gn/T/ipykernel_80698/3859670624.py:12: FutureWarning: Indexing with multiple keys (implicitly converted to a tuple of keys) will be deprecated, use a list instead.\n",
      "  bootstrapped_upward = tmp.groupby(['frame'])['ang_pos', 'dist', 'speed_diff', 'acc_diff', 'cc'].mean().reset_index()\n",
      "/var/folders/ng/l4j590g95vl5r33ctw59y6cr0000gn/T/ipykernel_80698/3859670624.py:12: FutureWarning: Indexing with multiple keys (implicitly converted to a tuple of keys) will be deprecated, use a list instead.\n",
      "  bootstrapped_upward = tmp.groupby(['frame'])['ang_pos', 'dist', 'speed_diff', 'acc_diff', 'cc'].mean().reset_index()\n",
      "/var/folders/ng/l4j590g95vl5r33ctw59y6cr0000gn/T/ipykernel_80698/3859670624.py:12: FutureWarning: Indexing with multiple keys (implicitly converted to a tuple of keys) will be deprecated, use a list instead.\n",
      "  bootstrapped_upward = tmp.groupby(['frame'])['ang_pos', 'dist', 'speed_diff', 'acc_diff', 'cc'].mean().reset_index()\n",
      "/var/folders/ng/l4j590g95vl5r33ctw59y6cr0000gn/T/ipykernel_80698/3859670624.py:12: FutureWarning: Indexing with multiple keys (implicitly converted to a tuple of keys) will be deprecated, use a list instead.\n",
      "  bootstrapped_upward = tmp.groupby(['frame'])['ang_pos', 'dist', 'speed_diff', 'acc_diff', 'cc'].mean().reset_index()\n"
     ]
    },
    {
     "name": "stdout",
     "output_type": "stream",
     "text": [
      "10\n"
     ]
    },
    {
     "name": "stderr",
     "output_type": "stream",
     "text": [
      "/var/folders/ng/l4j590g95vl5r33ctw59y6cr0000gn/T/ipykernel_80698/3859670624.py:12: FutureWarning: Indexing with multiple keys (implicitly converted to a tuple of keys) will be deprecated, use a list instead.\n",
      "  bootstrapped_upward = tmp.groupby(['frame'])['ang_pos', 'dist', 'speed_diff', 'acc_diff', 'cc'].mean().reset_index()\n",
      "/var/folders/ng/l4j590g95vl5r33ctw59y6cr0000gn/T/ipykernel_80698/3859670624.py:12: FutureWarning: Indexing with multiple keys (implicitly converted to a tuple of keys) will be deprecated, use a list instead.\n",
      "  bootstrapped_upward = tmp.groupby(['frame'])['ang_pos', 'dist', 'speed_diff', 'acc_diff', 'cc'].mean().reset_index()\n",
      "/var/folders/ng/l4j590g95vl5r33ctw59y6cr0000gn/T/ipykernel_80698/3859670624.py:12: FutureWarning: Indexing with multiple keys (implicitly converted to a tuple of keys) will be deprecated, use a list instead.\n",
      "  bootstrapped_upward = tmp.groupby(['frame'])['ang_pos', 'dist', 'speed_diff', 'acc_diff', 'cc'].mean().reset_index()\n",
      "/var/folders/ng/l4j590g95vl5r33ctw59y6cr0000gn/T/ipykernel_80698/3859670624.py:12: FutureWarning: Indexing with multiple keys (implicitly converted to a tuple of keys) will be deprecated, use a list instead.\n",
      "  bootstrapped_upward = tmp.groupby(['frame'])['ang_pos', 'dist', 'speed_diff', 'acc_diff', 'cc'].mean().reset_index()\n",
      "/var/folders/ng/l4j590g95vl5r33ctw59y6cr0000gn/T/ipykernel_80698/3859670624.py:12: FutureWarning: Indexing with multiple keys (implicitly converted to a tuple of keys) will be deprecated, use a list instead.\n",
      "  bootstrapped_upward = tmp.groupby(['frame'])['ang_pos', 'dist', 'speed_diff', 'acc_diff', 'cc'].mean().reset_index()\n",
      "/var/folders/ng/l4j590g95vl5r33ctw59y6cr0000gn/T/ipykernel_80698/3859670624.py:12: FutureWarning: Indexing with multiple keys (implicitly converted to a tuple of keys) will be deprecated, use a list instead.\n",
      "  bootstrapped_upward = tmp.groupby(['frame'])['ang_pos', 'dist', 'speed_diff', 'acc_diff', 'cc'].mean().reset_index()\n",
      "/var/folders/ng/l4j590g95vl5r33ctw59y6cr0000gn/T/ipykernel_80698/3859670624.py:12: FutureWarning: Indexing with multiple keys (implicitly converted to a tuple of keys) will be deprecated, use a list instead.\n",
      "  bootstrapped_upward = tmp.groupby(['frame'])['ang_pos', 'dist', 'speed_diff', 'acc_diff', 'cc'].mean().reset_index()\n",
      "/var/folders/ng/l4j590g95vl5r33ctw59y6cr0000gn/T/ipykernel_80698/3859670624.py:12: FutureWarning: Indexing with multiple keys (implicitly converted to a tuple of keys) will be deprecated, use a list instead.\n",
      "  bootstrapped_upward = tmp.groupby(['frame'])['ang_pos', 'dist', 'speed_diff', 'acc_diff', 'cc'].mean().reset_index()\n",
      "/var/folders/ng/l4j590g95vl5r33ctw59y6cr0000gn/T/ipykernel_80698/3859670624.py:12: FutureWarning: Indexing with multiple keys (implicitly converted to a tuple of keys) will be deprecated, use a list instead.\n",
      "  bootstrapped_upward = tmp.groupby(['frame'])['ang_pos', 'dist', 'speed_diff', 'acc_diff', 'cc'].mean().reset_index()\n",
      "/var/folders/ng/l4j590g95vl5r33ctw59y6cr0000gn/T/ipykernel_80698/3859670624.py:12: FutureWarning: Indexing with multiple keys (implicitly converted to a tuple of keys) will be deprecated, use a list instead.\n",
      "  bootstrapped_upward = tmp.groupby(['frame'])['ang_pos', 'dist', 'speed_diff', 'acc_diff', 'cc'].mean().reset_index()\n"
     ]
    },
    {
     "name": "stdout",
     "output_type": "stream",
     "text": [
      "20\n"
     ]
    },
    {
     "name": "stderr",
     "output_type": "stream",
     "text": [
      "/var/folders/ng/l4j590g95vl5r33ctw59y6cr0000gn/T/ipykernel_80698/3859670624.py:12: FutureWarning: Indexing with multiple keys (implicitly converted to a tuple of keys) will be deprecated, use a list instead.\n",
      "  bootstrapped_upward = tmp.groupby(['frame'])['ang_pos', 'dist', 'speed_diff', 'acc_diff', 'cc'].mean().reset_index()\n",
      "/var/folders/ng/l4j590g95vl5r33ctw59y6cr0000gn/T/ipykernel_80698/3859670624.py:12: FutureWarning: Indexing with multiple keys (implicitly converted to a tuple of keys) will be deprecated, use a list instead.\n",
      "  bootstrapped_upward = tmp.groupby(['frame'])['ang_pos', 'dist', 'speed_diff', 'acc_diff', 'cc'].mean().reset_index()\n",
      "/var/folders/ng/l4j590g95vl5r33ctw59y6cr0000gn/T/ipykernel_80698/3859670624.py:12: FutureWarning: Indexing with multiple keys (implicitly converted to a tuple of keys) will be deprecated, use a list instead.\n",
      "  bootstrapped_upward = tmp.groupby(['frame'])['ang_pos', 'dist', 'speed_diff', 'acc_diff', 'cc'].mean().reset_index()\n",
      "/var/folders/ng/l4j590g95vl5r33ctw59y6cr0000gn/T/ipykernel_80698/3859670624.py:12: FutureWarning: Indexing with multiple keys (implicitly converted to a tuple of keys) will be deprecated, use a list instead.\n",
      "  bootstrapped_upward = tmp.groupby(['frame'])['ang_pos', 'dist', 'speed_diff', 'acc_diff', 'cc'].mean().reset_index()\n",
      "/var/folders/ng/l4j590g95vl5r33ctw59y6cr0000gn/T/ipykernel_80698/3859670624.py:12: FutureWarning: Indexing with multiple keys (implicitly converted to a tuple of keys) will be deprecated, use a list instead.\n",
      "  bootstrapped_upward = tmp.groupby(['frame'])['ang_pos', 'dist', 'speed_diff', 'acc_diff', 'cc'].mean().reset_index()\n",
      "/var/folders/ng/l4j590g95vl5r33ctw59y6cr0000gn/T/ipykernel_80698/3859670624.py:12: FutureWarning: Indexing with multiple keys (implicitly converted to a tuple of keys) will be deprecated, use a list instead.\n",
      "  bootstrapped_upward = tmp.groupby(['frame'])['ang_pos', 'dist', 'speed_diff', 'acc_diff', 'cc'].mean().reset_index()\n",
      "/var/folders/ng/l4j590g95vl5r33ctw59y6cr0000gn/T/ipykernel_80698/3859670624.py:12: FutureWarning: Indexing with multiple keys (implicitly converted to a tuple of keys) will be deprecated, use a list instead.\n",
      "  bootstrapped_upward = tmp.groupby(['frame'])['ang_pos', 'dist', 'speed_diff', 'acc_diff', 'cc'].mean().reset_index()\n",
      "/var/folders/ng/l4j590g95vl5r33ctw59y6cr0000gn/T/ipykernel_80698/3859670624.py:12: FutureWarning: Indexing with multiple keys (implicitly converted to a tuple of keys) will be deprecated, use a list instead.\n",
      "  bootstrapped_upward = tmp.groupby(['frame'])['ang_pos', 'dist', 'speed_diff', 'acc_diff', 'cc'].mean().reset_index()\n",
      "/var/folders/ng/l4j590g95vl5r33ctw59y6cr0000gn/T/ipykernel_80698/3859670624.py:12: FutureWarning: Indexing with multiple keys (implicitly converted to a tuple of keys) will be deprecated, use a list instead.\n",
      "  bootstrapped_upward = tmp.groupby(['frame'])['ang_pos', 'dist', 'speed_diff', 'acc_diff', 'cc'].mean().reset_index()\n",
      "/var/folders/ng/l4j590g95vl5r33ctw59y6cr0000gn/T/ipykernel_80698/3859670624.py:12: FutureWarning: Indexing with multiple keys (implicitly converted to a tuple of keys) will be deprecated, use a list instead.\n",
      "  bootstrapped_upward = tmp.groupby(['frame'])['ang_pos', 'dist', 'speed_diff', 'acc_diff', 'cc'].mean().reset_index()\n"
     ]
    },
    {
     "name": "stdout",
     "output_type": "stream",
     "text": [
      "30\n"
     ]
    },
    {
     "name": "stderr",
     "output_type": "stream",
     "text": [
      "/var/folders/ng/l4j590g95vl5r33ctw59y6cr0000gn/T/ipykernel_80698/3859670624.py:12: FutureWarning: Indexing with multiple keys (implicitly converted to a tuple of keys) will be deprecated, use a list instead.\n",
      "  bootstrapped_upward = tmp.groupby(['frame'])['ang_pos', 'dist', 'speed_diff', 'acc_diff', 'cc'].mean().reset_index()\n",
      "/var/folders/ng/l4j590g95vl5r33ctw59y6cr0000gn/T/ipykernel_80698/3859670624.py:12: FutureWarning: Indexing with multiple keys (implicitly converted to a tuple of keys) will be deprecated, use a list instead.\n",
      "  bootstrapped_upward = tmp.groupby(['frame'])['ang_pos', 'dist', 'speed_diff', 'acc_diff', 'cc'].mean().reset_index()\n",
      "/var/folders/ng/l4j590g95vl5r33ctw59y6cr0000gn/T/ipykernel_80698/3859670624.py:12: FutureWarning: Indexing with multiple keys (implicitly converted to a tuple of keys) will be deprecated, use a list instead.\n",
      "  bootstrapped_upward = tmp.groupby(['frame'])['ang_pos', 'dist', 'speed_diff', 'acc_diff', 'cc'].mean().reset_index()\n",
      "/var/folders/ng/l4j590g95vl5r33ctw59y6cr0000gn/T/ipykernel_80698/3859670624.py:12: FutureWarning: Indexing with multiple keys (implicitly converted to a tuple of keys) will be deprecated, use a list instead.\n",
      "  bootstrapped_upward = tmp.groupby(['frame'])['ang_pos', 'dist', 'speed_diff', 'acc_diff', 'cc'].mean().reset_index()\n",
      "/var/folders/ng/l4j590g95vl5r33ctw59y6cr0000gn/T/ipykernel_80698/3859670624.py:12: FutureWarning: Indexing with multiple keys (implicitly converted to a tuple of keys) will be deprecated, use a list instead.\n",
      "  bootstrapped_upward = tmp.groupby(['frame'])['ang_pos', 'dist', 'speed_diff', 'acc_diff', 'cc'].mean().reset_index()\n",
      "/var/folders/ng/l4j590g95vl5r33ctw59y6cr0000gn/T/ipykernel_80698/3859670624.py:12: FutureWarning: Indexing with multiple keys (implicitly converted to a tuple of keys) will be deprecated, use a list instead.\n",
      "  bootstrapped_upward = tmp.groupby(['frame'])['ang_pos', 'dist', 'speed_diff', 'acc_diff', 'cc'].mean().reset_index()\n",
      "/var/folders/ng/l4j590g95vl5r33ctw59y6cr0000gn/T/ipykernel_80698/3859670624.py:12: FutureWarning: Indexing with multiple keys (implicitly converted to a tuple of keys) will be deprecated, use a list instead.\n",
      "  bootstrapped_upward = tmp.groupby(['frame'])['ang_pos', 'dist', 'speed_diff', 'acc_diff', 'cc'].mean().reset_index()\n",
      "/var/folders/ng/l4j590g95vl5r33ctw59y6cr0000gn/T/ipykernel_80698/3859670624.py:12: FutureWarning: Indexing with multiple keys (implicitly converted to a tuple of keys) will be deprecated, use a list instead.\n",
      "  bootstrapped_upward = tmp.groupby(['frame'])['ang_pos', 'dist', 'speed_diff', 'acc_diff', 'cc'].mean().reset_index()\n",
      "/var/folders/ng/l4j590g95vl5r33ctw59y6cr0000gn/T/ipykernel_80698/3859670624.py:12: FutureWarning: Indexing with multiple keys (implicitly converted to a tuple of keys) will be deprecated, use a list instead.\n",
      "  bootstrapped_upward = tmp.groupby(['frame'])['ang_pos', 'dist', 'speed_diff', 'acc_diff', 'cc'].mean().reset_index()\n",
      "/var/folders/ng/l4j590g95vl5r33ctw59y6cr0000gn/T/ipykernel_80698/3859670624.py:12: FutureWarning: Indexing with multiple keys (implicitly converted to a tuple of keys) will be deprecated, use a list instead.\n",
      "  bootstrapped_upward = tmp.groupby(['frame'])['ang_pos', 'dist', 'speed_diff', 'acc_diff', 'cc'].mean().reset_index()\n"
     ]
    },
    {
     "name": "stdout",
     "output_type": "stream",
     "text": [
      "40\n"
     ]
    },
    {
     "name": "stderr",
     "output_type": "stream",
     "text": [
      "/var/folders/ng/l4j590g95vl5r33ctw59y6cr0000gn/T/ipykernel_80698/3859670624.py:12: FutureWarning: Indexing with multiple keys (implicitly converted to a tuple of keys) will be deprecated, use a list instead.\n",
      "  bootstrapped_upward = tmp.groupby(['frame'])['ang_pos', 'dist', 'speed_diff', 'acc_diff', 'cc'].mean().reset_index()\n",
      "/var/folders/ng/l4j590g95vl5r33ctw59y6cr0000gn/T/ipykernel_80698/3859670624.py:12: FutureWarning: Indexing with multiple keys (implicitly converted to a tuple of keys) will be deprecated, use a list instead.\n",
      "  bootstrapped_upward = tmp.groupby(['frame'])['ang_pos', 'dist', 'speed_diff', 'acc_diff', 'cc'].mean().reset_index()\n",
      "/var/folders/ng/l4j590g95vl5r33ctw59y6cr0000gn/T/ipykernel_80698/3859670624.py:12: FutureWarning: Indexing with multiple keys (implicitly converted to a tuple of keys) will be deprecated, use a list instead.\n",
      "  bootstrapped_upward = tmp.groupby(['frame'])['ang_pos', 'dist', 'speed_diff', 'acc_diff', 'cc'].mean().reset_index()\n",
      "/var/folders/ng/l4j590g95vl5r33ctw59y6cr0000gn/T/ipykernel_80698/3859670624.py:12: FutureWarning: Indexing with multiple keys (implicitly converted to a tuple of keys) will be deprecated, use a list instead.\n",
      "  bootstrapped_upward = tmp.groupby(['frame'])['ang_pos', 'dist', 'speed_diff', 'acc_diff', 'cc'].mean().reset_index()\n",
      "/var/folders/ng/l4j590g95vl5r33ctw59y6cr0000gn/T/ipykernel_80698/3859670624.py:12: FutureWarning: Indexing with multiple keys (implicitly converted to a tuple of keys) will be deprecated, use a list instead.\n",
      "  bootstrapped_upward = tmp.groupby(['frame'])['ang_pos', 'dist', 'speed_diff', 'acc_diff', 'cc'].mean().reset_index()\n",
      "/var/folders/ng/l4j590g95vl5r33ctw59y6cr0000gn/T/ipykernel_80698/3859670624.py:12: FutureWarning: Indexing with multiple keys (implicitly converted to a tuple of keys) will be deprecated, use a list instead.\n",
      "  bootstrapped_upward = tmp.groupby(['frame'])['ang_pos', 'dist', 'speed_diff', 'acc_diff', 'cc'].mean().reset_index()\n",
      "/var/folders/ng/l4j590g95vl5r33ctw59y6cr0000gn/T/ipykernel_80698/3859670624.py:12: FutureWarning: Indexing with multiple keys (implicitly converted to a tuple of keys) will be deprecated, use a list instead.\n",
      "  bootstrapped_upward = tmp.groupby(['frame'])['ang_pos', 'dist', 'speed_diff', 'acc_diff', 'cc'].mean().reset_index()\n",
      "/var/folders/ng/l4j590g95vl5r33ctw59y6cr0000gn/T/ipykernel_80698/3859670624.py:12: FutureWarning: Indexing with multiple keys (implicitly converted to a tuple of keys) will be deprecated, use a list instead.\n",
      "  bootstrapped_upward = tmp.groupby(['frame'])['ang_pos', 'dist', 'speed_diff', 'acc_diff', 'cc'].mean().reset_index()\n",
      "/var/folders/ng/l4j590g95vl5r33ctw59y6cr0000gn/T/ipykernel_80698/3859670624.py:12: FutureWarning: Indexing with multiple keys (implicitly converted to a tuple of keys) will be deprecated, use a list instead.\n",
      "  bootstrapped_upward = tmp.groupby(['frame'])['ang_pos', 'dist', 'speed_diff', 'acc_diff', 'cc'].mean().reset_index()\n",
      "/var/folders/ng/l4j590g95vl5r33ctw59y6cr0000gn/T/ipykernel_80698/3859670624.py:12: FutureWarning: Indexing with multiple keys (implicitly converted to a tuple of keys) will be deprecated, use a list instead.\n",
      "  bootstrapped_upward = tmp.groupby(['frame'])['ang_pos', 'dist', 'speed_diff', 'acc_diff', 'cc'].mean().reset_index()\n"
     ]
    },
    {
     "name": "stdout",
     "output_type": "stream",
     "text": [
      "50\n"
     ]
    },
    {
     "name": "stderr",
     "output_type": "stream",
     "text": [
      "/var/folders/ng/l4j590g95vl5r33ctw59y6cr0000gn/T/ipykernel_80698/3859670624.py:12: FutureWarning: Indexing with multiple keys (implicitly converted to a tuple of keys) will be deprecated, use a list instead.\n",
      "  bootstrapped_upward = tmp.groupby(['frame'])['ang_pos', 'dist', 'speed_diff', 'acc_diff', 'cc'].mean().reset_index()\n",
      "/var/folders/ng/l4j590g95vl5r33ctw59y6cr0000gn/T/ipykernel_80698/3859670624.py:12: FutureWarning: Indexing with multiple keys (implicitly converted to a tuple of keys) will be deprecated, use a list instead.\n",
      "  bootstrapped_upward = tmp.groupby(['frame'])['ang_pos', 'dist', 'speed_diff', 'acc_diff', 'cc'].mean().reset_index()\n",
      "/var/folders/ng/l4j590g95vl5r33ctw59y6cr0000gn/T/ipykernel_80698/3859670624.py:12: FutureWarning: Indexing with multiple keys (implicitly converted to a tuple of keys) will be deprecated, use a list instead.\n",
      "  bootstrapped_upward = tmp.groupby(['frame'])['ang_pos', 'dist', 'speed_diff', 'acc_diff', 'cc'].mean().reset_index()\n",
      "/var/folders/ng/l4j590g95vl5r33ctw59y6cr0000gn/T/ipykernel_80698/3859670624.py:12: FutureWarning: Indexing with multiple keys (implicitly converted to a tuple of keys) will be deprecated, use a list instead.\n",
      "  bootstrapped_upward = tmp.groupby(['frame'])['ang_pos', 'dist', 'speed_diff', 'acc_diff', 'cc'].mean().reset_index()\n",
      "/var/folders/ng/l4j590g95vl5r33ctw59y6cr0000gn/T/ipykernel_80698/3859670624.py:12: FutureWarning: Indexing with multiple keys (implicitly converted to a tuple of keys) will be deprecated, use a list instead.\n",
      "  bootstrapped_upward = tmp.groupby(['frame'])['ang_pos', 'dist', 'speed_diff', 'acc_diff', 'cc'].mean().reset_index()\n",
      "/var/folders/ng/l4j590g95vl5r33ctw59y6cr0000gn/T/ipykernel_80698/3859670624.py:12: FutureWarning: Indexing with multiple keys (implicitly converted to a tuple of keys) will be deprecated, use a list instead.\n",
      "  bootstrapped_upward = tmp.groupby(['frame'])['ang_pos', 'dist', 'speed_diff', 'acc_diff', 'cc'].mean().reset_index()\n",
      "/var/folders/ng/l4j590g95vl5r33ctw59y6cr0000gn/T/ipykernel_80698/3859670624.py:12: FutureWarning: Indexing with multiple keys (implicitly converted to a tuple of keys) will be deprecated, use a list instead.\n",
      "  bootstrapped_upward = tmp.groupby(['frame'])['ang_pos', 'dist', 'speed_diff', 'acc_diff', 'cc'].mean().reset_index()\n",
      "/var/folders/ng/l4j590g95vl5r33ctw59y6cr0000gn/T/ipykernel_80698/3859670624.py:12: FutureWarning: Indexing with multiple keys (implicitly converted to a tuple of keys) will be deprecated, use a list instead.\n",
      "  bootstrapped_upward = tmp.groupby(['frame'])['ang_pos', 'dist', 'speed_diff', 'acc_diff', 'cc'].mean().reset_index()\n",
      "/var/folders/ng/l4j590g95vl5r33ctw59y6cr0000gn/T/ipykernel_80698/3859670624.py:12: FutureWarning: Indexing with multiple keys (implicitly converted to a tuple of keys) will be deprecated, use a list instead.\n",
      "  bootstrapped_upward = tmp.groupby(['frame'])['ang_pos', 'dist', 'speed_diff', 'acc_diff', 'cc'].mean().reset_index()\n",
      "/var/folders/ng/l4j590g95vl5r33ctw59y6cr0000gn/T/ipykernel_80698/3859670624.py:12: FutureWarning: Indexing with multiple keys (implicitly converted to a tuple of keys) will be deprecated, use a list instead.\n",
      "  bootstrapped_upward = tmp.groupby(['frame'])['ang_pos', 'dist', 'speed_diff', 'acc_diff', 'cc'].mean().reset_index()\n"
     ]
    },
    {
     "name": "stdout",
     "output_type": "stream",
     "text": [
      "60\n"
     ]
    },
    {
     "name": "stderr",
     "output_type": "stream",
     "text": [
      "/var/folders/ng/l4j590g95vl5r33ctw59y6cr0000gn/T/ipykernel_80698/3859670624.py:12: FutureWarning: Indexing with multiple keys (implicitly converted to a tuple of keys) will be deprecated, use a list instead.\n",
      "  bootstrapped_upward = tmp.groupby(['frame'])['ang_pos', 'dist', 'speed_diff', 'acc_diff', 'cc'].mean().reset_index()\n",
      "/var/folders/ng/l4j590g95vl5r33ctw59y6cr0000gn/T/ipykernel_80698/3859670624.py:12: FutureWarning: Indexing with multiple keys (implicitly converted to a tuple of keys) will be deprecated, use a list instead.\n",
      "  bootstrapped_upward = tmp.groupby(['frame'])['ang_pos', 'dist', 'speed_diff', 'acc_diff', 'cc'].mean().reset_index()\n",
      "/var/folders/ng/l4j590g95vl5r33ctw59y6cr0000gn/T/ipykernel_80698/3859670624.py:12: FutureWarning: Indexing with multiple keys (implicitly converted to a tuple of keys) will be deprecated, use a list instead.\n",
      "  bootstrapped_upward = tmp.groupby(['frame'])['ang_pos', 'dist', 'speed_diff', 'acc_diff', 'cc'].mean().reset_index()\n",
      "/var/folders/ng/l4j590g95vl5r33ctw59y6cr0000gn/T/ipykernel_80698/3859670624.py:12: FutureWarning: Indexing with multiple keys (implicitly converted to a tuple of keys) will be deprecated, use a list instead.\n",
      "  bootstrapped_upward = tmp.groupby(['frame'])['ang_pos', 'dist', 'speed_diff', 'acc_diff', 'cc'].mean().reset_index()\n",
      "/var/folders/ng/l4j590g95vl5r33ctw59y6cr0000gn/T/ipykernel_80698/3859670624.py:12: FutureWarning: Indexing with multiple keys (implicitly converted to a tuple of keys) will be deprecated, use a list instead.\n",
      "  bootstrapped_upward = tmp.groupby(['frame'])['ang_pos', 'dist', 'speed_diff', 'acc_diff', 'cc'].mean().reset_index()\n",
      "/var/folders/ng/l4j590g95vl5r33ctw59y6cr0000gn/T/ipykernel_80698/3859670624.py:12: FutureWarning: Indexing with multiple keys (implicitly converted to a tuple of keys) will be deprecated, use a list instead.\n",
      "  bootstrapped_upward = tmp.groupby(['frame'])['ang_pos', 'dist', 'speed_diff', 'acc_diff', 'cc'].mean().reset_index()\n",
      "/var/folders/ng/l4j590g95vl5r33ctw59y6cr0000gn/T/ipykernel_80698/3859670624.py:12: FutureWarning: Indexing with multiple keys (implicitly converted to a tuple of keys) will be deprecated, use a list instead.\n",
      "  bootstrapped_upward = tmp.groupby(['frame'])['ang_pos', 'dist', 'speed_diff', 'acc_diff', 'cc'].mean().reset_index()\n",
      "/var/folders/ng/l4j590g95vl5r33ctw59y6cr0000gn/T/ipykernel_80698/3859670624.py:12: FutureWarning: Indexing with multiple keys (implicitly converted to a tuple of keys) will be deprecated, use a list instead.\n",
      "  bootstrapped_upward = tmp.groupby(['frame'])['ang_pos', 'dist', 'speed_diff', 'acc_diff', 'cc'].mean().reset_index()\n",
      "/var/folders/ng/l4j590g95vl5r33ctw59y6cr0000gn/T/ipykernel_80698/3859670624.py:12: FutureWarning: Indexing with multiple keys (implicitly converted to a tuple of keys) will be deprecated, use a list instead.\n",
      "  bootstrapped_upward = tmp.groupby(['frame'])['ang_pos', 'dist', 'speed_diff', 'acc_diff', 'cc'].mean().reset_index()\n",
      "/var/folders/ng/l4j590g95vl5r33ctw59y6cr0000gn/T/ipykernel_80698/3859670624.py:12: FutureWarning: Indexing with multiple keys (implicitly converted to a tuple of keys) will be deprecated, use a list instead.\n",
      "  bootstrapped_upward = tmp.groupby(['frame'])['ang_pos', 'dist', 'speed_diff', 'acc_diff', 'cc'].mean().reset_index()\n"
     ]
    },
    {
     "name": "stdout",
     "output_type": "stream",
     "text": [
      "70\n"
     ]
    },
    {
     "name": "stderr",
     "output_type": "stream",
     "text": [
      "/var/folders/ng/l4j590g95vl5r33ctw59y6cr0000gn/T/ipykernel_80698/3859670624.py:12: FutureWarning: Indexing with multiple keys (implicitly converted to a tuple of keys) will be deprecated, use a list instead.\n",
      "  bootstrapped_upward = tmp.groupby(['frame'])['ang_pos', 'dist', 'speed_diff', 'acc_diff', 'cc'].mean().reset_index()\n",
      "/var/folders/ng/l4j590g95vl5r33ctw59y6cr0000gn/T/ipykernel_80698/3859670624.py:12: FutureWarning: Indexing with multiple keys (implicitly converted to a tuple of keys) will be deprecated, use a list instead.\n",
      "  bootstrapped_upward = tmp.groupby(['frame'])['ang_pos', 'dist', 'speed_diff', 'acc_diff', 'cc'].mean().reset_index()\n",
      "/var/folders/ng/l4j590g95vl5r33ctw59y6cr0000gn/T/ipykernel_80698/3859670624.py:12: FutureWarning: Indexing with multiple keys (implicitly converted to a tuple of keys) will be deprecated, use a list instead.\n",
      "  bootstrapped_upward = tmp.groupby(['frame'])['ang_pos', 'dist', 'speed_diff', 'acc_diff', 'cc'].mean().reset_index()\n",
      "/var/folders/ng/l4j590g95vl5r33ctw59y6cr0000gn/T/ipykernel_80698/3859670624.py:12: FutureWarning: Indexing with multiple keys (implicitly converted to a tuple of keys) will be deprecated, use a list instead.\n",
      "  bootstrapped_upward = tmp.groupby(['frame'])['ang_pos', 'dist', 'speed_diff', 'acc_diff', 'cc'].mean().reset_index()\n",
      "/var/folders/ng/l4j590g95vl5r33ctw59y6cr0000gn/T/ipykernel_80698/3859670624.py:12: FutureWarning: Indexing with multiple keys (implicitly converted to a tuple of keys) will be deprecated, use a list instead.\n",
      "  bootstrapped_upward = tmp.groupby(['frame'])['ang_pos', 'dist', 'speed_diff', 'acc_diff', 'cc'].mean().reset_index()\n",
      "/var/folders/ng/l4j590g95vl5r33ctw59y6cr0000gn/T/ipykernel_80698/3859670624.py:12: FutureWarning: Indexing with multiple keys (implicitly converted to a tuple of keys) will be deprecated, use a list instead.\n",
      "  bootstrapped_upward = tmp.groupby(['frame'])['ang_pos', 'dist', 'speed_diff', 'acc_diff', 'cc'].mean().reset_index()\n",
      "/var/folders/ng/l4j590g95vl5r33ctw59y6cr0000gn/T/ipykernel_80698/3859670624.py:12: FutureWarning: Indexing with multiple keys (implicitly converted to a tuple of keys) will be deprecated, use a list instead.\n",
      "  bootstrapped_upward = tmp.groupby(['frame'])['ang_pos', 'dist', 'speed_diff', 'acc_diff', 'cc'].mean().reset_index()\n",
      "/var/folders/ng/l4j590g95vl5r33ctw59y6cr0000gn/T/ipykernel_80698/3859670624.py:12: FutureWarning: Indexing with multiple keys (implicitly converted to a tuple of keys) will be deprecated, use a list instead.\n",
      "  bootstrapped_upward = tmp.groupby(['frame'])['ang_pos', 'dist', 'speed_diff', 'acc_diff', 'cc'].mean().reset_index()\n",
      "/var/folders/ng/l4j590g95vl5r33ctw59y6cr0000gn/T/ipykernel_80698/3859670624.py:12: FutureWarning: Indexing with multiple keys (implicitly converted to a tuple of keys) will be deprecated, use a list instead.\n",
      "  bootstrapped_upward = tmp.groupby(['frame'])['ang_pos', 'dist', 'speed_diff', 'acc_diff', 'cc'].mean().reset_index()\n",
      "/var/folders/ng/l4j590g95vl5r33ctw59y6cr0000gn/T/ipykernel_80698/3859670624.py:12: FutureWarning: Indexing with multiple keys (implicitly converted to a tuple of keys) will be deprecated, use a list instead.\n",
      "  bootstrapped_upward = tmp.groupby(['frame'])['ang_pos', 'dist', 'speed_diff', 'acc_diff', 'cc'].mean().reset_index()\n"
     ]
    },
    {
     "name": "stdout",
     "output_type": "stream",
     "text": [
      "80\n"
     ]
    },
    {
     "name": "stderr",
     "output_type": "stream",
     "text": [
      "/var/folders/ng/l4j590g95vl5r33ctw59y6cr0000gn/T/ipykernel_80698/3859670624.py:12: FutureWarning: Indexing with multiple keys (implicitly converted to a tuple of keys) will be deprecated, use a list instead.\n",
      "  bootstrapped_upward = tmp.groupby(['frame'])['ang_pos', 'dist', 'speed_diff', 'acc_diff', 'cc'].mean().reset_index()\n",
      "/var/folders/ng/l4j590g95vl5r33ctw59y6cr0000gn/T/ipykernel_80698/3859670624.py:12: FutureWarning: Indexing with multiple keys (implicitly converted to a tuple of keys) will be deprecated, use a list instead.\n",
      "  bootstrapped_upward = tmp.groupby(['frame'])['ang_pos', 'dist', 'speed_diff', 'acc_diff', 'cc'].mean().reset_index()\n",
      "/var/folders/ng/l4j590g95vl5r33ctw59y6cr0000gn/T/ipykernel_80698/3859670624.py:12: FutureWarning: Indexing with multiple keys (implicitly converted to a tuple of keys) will be deprecated, use a list instead.\n",
      "  bootstrapped_upward = tmp.groupby(['frame'])['ang_pos', 'dist', 'speed_diff', 'acc_diff', 'cc'].mean().reset_index()\n",
      "/var/folders/ng/l4j590g95vl5r33ctw59y6cr0000gn/T/ipykernel_80698/3859670624.py:12: FutureWarning: Indexing with multiple keys (implicitly converted to a tuple of keys) will be deprecated, use a list instead.\n",
      "  bootstrapped_upward = tmp.groupby(['frame'])['ang_pos', 'dist', 'speed_diff', 'acc_diff', 'cc'].mean().reset_index()\n",
      "/var/folders/ng/l4j590g95vl5r33ctw59y6cr0000gn/T/ipykernel_80698/3859670624.py:12: FutureWarning: Indexing with multiple keys (implicitly converted to a tuple of keys) will be deprecated, use a list instead.\n",
      "  bootstrapped_upward = tmp.groupby(['frame'])['ang_pos', 'dist', 'speed_diff', 'acc_diff', 'cc'].mean().reset_index()\n",
      "/var/folders/ng/l4j590g95vl5r33ctw59y6cr0000gn/T/ipykernel_80698/3859670624.py:12: FutureWarning: Indexing with multiple keys (implicitly converted to a tuple of keys) will be deprecated, use a list instead.\n",
      "  bootstrapped_upward = tmp.groupby(['frame'])['ang_pos', 'dist', 'speed_diff', 'acc_diff', 'cc'].mean().reset_index()\n",
      "/var/folders/ng/l4j590g95vl5r33ctw59y6cr0000gn/T/ipykernel_80698/3859670624.py:12: FutureWarning: Indexing with multiple keys (implicitly converted to a tuple of keys) will be deprecated, use a list instead.\n",
      "  bootstrapped_upward = tmp.groupby(['frame'])['ang_pos', 'dist', 'speed_diff', 'acc_diff', 'cc'].mean().reset_index()\n",
      "/var/folders/ng/l4j590g95vl5r33ctw59y6cr0000gn/T/ipykernel_80698/3859670624.py:12: FutureWarning: Indexing with multiple keys (implicitly converted to a tuple of keys) will be deprecated, use a list instead.\n",
      "  bootstrapped_upward = tmp.groupby(['frame'])['ang_pos', 'dist', 'speed_diff', 'acc_diff', 'cc'].mean().reset_index()\n",
      "/var/folders/ng/l4j590g95vl5r33ctw59y6cr0000gn/T/ipykernel_80698/3859670624.py:12: FutureWarning: Indexing with multiple keys (implicitly converted to a tuple of keys) will be deprecated, use a list instead.\n",
      "  bootstrapped_upward = tmp.groupby(['frame'])['ang_pos', 'dist', 'speed_diff', 'acc_diff', 'cc'].mean().reset_index()\n",
      "/var/folders/ng/l4j590g95vl5r33ctw59y6cr0000gn/T/ipykernel_80698/3859670624.py:12: FutureWarning: Indexing with multiple keys (implicitly converted to a tuple of keys) will be deprecated, use a list instead.\n",
      "  bootstrapped_upward = tmp.groupby(['frame'])['ang_pos', 'dist', 'speed_diff', 'acc_diff', 'cc'].mean().reset_index()\n"
     ]
    },
    {
     "name": "stdout",
     "output_type": "stream",
     "text": [
      "90\n"
     ]
    },
    {
     "name": "stderr",
     "output_type": "stream",
     "text": [
      "/var/folders/ng/l4j590g95vl5r33ctw59y6cr0000gn/T/ipykernel_80698/3859670624.py:12: FutureWarning: Indexing with multiple keys (implicitly converted to a tuple of keys) will be deprecated, use a list instead.\n",
      "  bootstrapped_upward = tmp.groupby(['frame'])['ang_pos', 'dist', 'speed_diff', 'acc_diff', 'cc'].mean().reset_index()\n",
      "/var/folders/ng/l4j590g95vl5r33ctw59y6cr0000gn/T/ipykernel_80698/3859670624.py:12: FutureWarning: Indexing with multiple keys (implicitly converted to a tuple of keys) will be deprecated, use a list instead.\n",
      "  bootstrapped_upward = tmp.groupby(['frame'])['ang_pos', 'dist', 'speed_diff', 'acc_diff', 'cc'].mean().reset_index()\n",
      "/var/folders/ng/l4j590g95vl5r33ctw59y6cr0000gn/T/ipykernel_80698/3859670624.py:12: FutureWarning: Indexing with multiple keys (implicitly converted to a tuple of keys) will be deprecated, use a list instead.\n",
      "  bootstrapped_upward = tmp.groupby(['frame'])['ang_pos', 'dist', 'speed_diff', 'acc_diff', 'cc'].mean().reset_index()\n",
      "/var/folders/ng/l4j590g95vl5r33ctw59y6cr0000gn/T/ipykernel_80698/3859670624.py:12: FutureWarning: Indexing with multiple keys (implicitly converted to a tuple of keys) will be deprecated, use a list instead.\n",
      "  bootstrapped_upward = tmp.groupby(['frame'])['ang_pos', 'dist', 'speed_diff', 'acc_diff', 'cc'].mean().reset_index()\n",
      "/var/folders/ng/l4j590g95vl5r33ctw59y6cr0000gn/T/ipykernel_80698/3859670624.py:12: FutureWarning: Indexing with multiple keys (implicitly converted to a tuple of keys) will be deprecated, use a list instead.\n",
      "  bootstrapped_upward = tmp.groupby(['frame'])['ang_pos', 'dist', 'speed_diff', 'acc_diff', 'cc'].mean().reset_index()\n",
      "/var/folders/ng/l4j590g95vl5r33ctw59y6cr0000gn/T/ipykernel_80698/3859670624.py:12: FutureWarning: Indexing with multiple keys (implicitly converted to a tuple of keys) will be deprecated, use a list instead.\n",
      "  bootstrapped_upward = tmp.groupby(['frame'])['ang_pos', 'dist', 'speed_diff', 'acc_diff', 'cc'].mean().reset_index()\n",
      "/var/folders/ng/l4j590g95vl5r33ctw59y6cr0000gn/T/ipykernel_80698/3859670624.py:12: FutureWarning: Indexing with multiple keys (implicitly converted to a tuple of keys) will be deprecated, use a list instead.\n",
      "  bootstrapped_upward = tmp.groupby(['frame'])['ang_pos', 'dist', 'speed_diff', 'acc_diff', 'cc'].mean().reset_index()\n",
      "/var/folders/ng/l4j590g95vl5r33ctw59y6cr0000gn/T/ipykernel_80698/3859670624.py:12: FutureWarning: Indexing with multiple keys (implicitly converted to a tuple of keys) will be deprecated, use a list instead.\n",
      "  bootstrapped_upward = tmp.groupby(['frame'])['ang_pos', 'dist', 'speed_diff', 'acc_diff', 'cc'].mean().reset_index()\n",
      "/var/folders/ng/l4j590g95vl5r33ctw59y6cr0000gn/T/ipykernel_80698/3859670624.py:12: FutureWarning: Indexing with multiple keys (implicitly converted to a tuple of keys) will be deprecated, use a list instead.\n",
      "  bootstrapped_upward = tmp.groupby(['frame'])['ang_pos', 'dist', 'speed_diff', 'acc_diff', 'cc'].mean().reset_index()\n"
     ]
    }
   ],
   "source": [
    "bootu = pd.DataFrame()\n",
    "\n",
    "for i in range(n_boots):\n",
    "    tmp_list = []\n",
    "    events = np.random.choice(np.unique(segments_upward['event']), size=len(np.unique(segments_upward['event'])))\n",
    "    for j,ev in enumerate(events):\n",
    "        tmp = segments_upward[segments_upward['event'] == ev].values.tolist()\n",
    "        tmp_list.extend(tmp)\n",
    "    \n",
    "    tmp = pd.DataFrame(np.array(tmp_list), columns=list(segments_upward))\n",
    "    \n",
    "    bootstrapped_upward = tmp.groupby(['frame'])['ang_pos', 'dist', 'speed_diff', 'acc_diff', 'cc'].mean().reset_index()\n",
    "    bootstrapped_upward.columns = ['frame', 'apu', 'distu', 'sdu', 'adu', 'ccu']\n",
    "    \n",
    "    bootu = pd.concat([bootu, bootstrapped_upward])\n",
    "    bootu['perm'] = i+900\n",
    "    \n",
    "    if i%10==0:\n",
    "        print(i)\n",
    "    \n",
    "    del tmp\n",
    "    del tmp_list\n",
    "    del bootstrapped_upward\n",
    "    gc.collect()\n",
    "    \n",
    "bootu.to_csv('/Users/vivekhsridhar/Library/Mobile Documents/com~apple~CloudDocs/Documents/Code/DirectionalCorrelation/Data/Output/golden_shiners/' + thresh_folder + '/bootup_' + scale + '_seq' + str(int(seq_length/fps)) + '9.csv', mode='w')"
   ]
  },
  {
   "cell_type": "code",
   "execution_count": 12,
   "metadata": {
    "scrolled": true
   },
   "outputs": [
    {
     "name": "stderr",
     "output_type": "stream",
     "text": [
      "/var/folders/ng/l4j590g95vl5r33ctw59y6cr0000gn/T/ipykernel_80698/3326045070.py:12: FutureWarning: Indexing with multiple keys (implicitly converted to a tuple of keys) will be deprecated, use a list instead.\n",
      "  bootstrapped_downward = tmp.groupby(['frame'])['ang_pos', 'dist', 'speed_diff', 'acc_diff', 'cc'].mean().reset_index()\n"
     ]
    },
    {
     "name": "stdout",
     "output_type": "stream",
     "text": [
      "0\n"
     ]
    },
    {
     "name": "stderr",
     "output_type": "stream",
     "text": [
      "/var/folders/ng/l4j590g95vl5r33ctw59y6cr0000gn/T/ipykernel_80698/3326045070.py:12: FutureWarning: Indexing with multiple keys (implicitly converted to a tuple of keys) will be deprecated, use a list instead.\n",
      "  bootstrapped_downward = tmp.groupby(['frame'])['ang_pos', 'dist', 'speed_diff', 'acc_diff', 'cc'].mean().reset_index()\n",
      "/var/folders/ng/l4j590g95vl5r33ctw59y6cr0000gn/T/ipykernel_80698/3326045070.py:12: FutureWarning: Indexing with multiple keys (implicitly converted to a tuple of keys) will be deprecated, use a list instead.\n",
      "  bootstrapped_downward = tmp.groupby(['frame'])['ang_pos', 'dist', 'speed_diff', 'acc_diff', 'cc'].mean().reset_index()\n",
      "/var/folders/ng/l4j590g95vl5r33ctw59y6cr0000gn/T/ipykernel_80698/3326045070.py:12: FutureWarning: Indexing with multiple keys (implicitly converted to a tuple of keys) will be deprecated, use a list instead.\n",
      "  bootstrapped_downward = tmp.groupby(['frame'])['ang_pos', 'dist', 'speed_diff', 'acc_diff', 'cc'].mean().reset_index()\n",
      "/var/folders/ng/l4j590g95vl5r33ctw59y6cr0000gn/T/ipykernel_80698/3326045070.py:12: FutureWarning: Indexing with multiple keys (implicitly converted to a tuple of keys) will be deprecated, use a list instead.\n",
      "  bootstrapped_downward = tmp.groupby(['frame'])['ang_pos', 'dist', 'speed_diff', 'acc_diff', 'cc'].mean().reset_index()\n",
      "/var/folders/ng/l4j590g95vl5r33ctw59y6cr0000gn/T/ipykernel_80698/3326045070.py:12: FutureWarning: Indexing with multiple keys (implicitly converted to a tuple of keys) will be deprecated, use a list instead.\n",
      "  bootstrapped_downward = tmp.groupby(['frame'])['ang_pos', 'dist', 'speed_diff', 'acc_diff', 'cc'].mean().reset_index()\n",
      "/var/folders/ng/l4j590g95vl5r33ctw59y6cr0000gn/T/ipykernel_80698/3326045070.py:12: FutureWarning: Indexing with multiple keys (implicitly converted to a tuple of keys) will be deprecated, use a list instead.\n",
      "  bootstrapped_downward = tmp.groupby(['frame'])['ang_pos', 'dist', 'speed_diff', 'acc_diff', 'cc'].mean().reset_index()\n",
      "/var/folders/ng/l4j590g95vl5r33ctw59y6cr0000gn/T/ipykernel_80698/3326045070.py:12: FutureWarning: Indexing with multiple keys (implicitly converted to a tuple of keys) will be deprecated, use a list instead.\n",
      "  bootstrapped_downward = tmp.groupby(['frame'])['ang_pos', 'dist', 'speed_diff', 'acc_diff', 'cc'].mean().reset_index()\n",
      "/var/folders/ng/l4j590g95vl5r33ctw59y6cr0000gn/T/ipykernel_80698/3326045070.py:12: FutureWarning: Indexing with multiple keys (implicitly converted to a tuple of keys) will be deprecated, use a list instead.\n",
      "  bootstrapped_downward = tmp.groupby(['frame'])['ang_pos', 'dist', 'speed_diff', 'acc_diff', 'cc'].mean().reset_index()\n",
      "/var/folders/ng/l4j590g95vl5r33ctw59y6cr0000gn/T/ipykernel_80698/3326045070.py:12: FutureWarning: Indexing with multiple keys (implicitly converted to a tuple of keys) will be deprecated, use a list instead.\n",
      "  bootstrapped_downward = tmp.groupby(['frame'])['ang_pos', 'dist', 'speed_diff', 'acc_diff', 'cc'].mean().reset_index()\n",
      "/var/folders/ng/l4j590g95vl5r33ctw59y6cr0000gn/T/ipykernel_80698/3326045070.py:12: FutureWarning: Indexing with multiple keys (implicitly converted to a tuple of keys) will be deprecated, use a list instead.\n",
      "  bootstrapped_downward = tmp.groupby(['frame'])['ang_pos', 'dist', 'speed_diff', 'acc_diff', 'cc'].mean().reset_index()\n"
     ]
    },
    {
     "name": "stdout",
     "output_type": "stream",
     "text": [
      "10\n"
     ]
    },
    {
     "name": "stderr",
     "output_type": "stream",
     "text": [
      "/var/folders/ng/l4j590g95vl5r33ctw59y6cr0000gn/T/ipykernel_80698/3326045070.py:12: FutureWarning: Indexing with multiple keys (implicitly converted to a tuple of keys) will be deprecated, use a list instead.\n",
      "  bootstrapped_downward = tmp.groupby(['frame'])['ang_pos', 'dist', 'speed_diff', 'acc_diff', 'cc'].mean().reset_index()\n",
      "/var/folders/ng/l4j590g95vl5r33ctw59y6cr0000gn/T/ipykernel_80698/3326045070.py:12: FutureWarning: Indexing with multiple keys (implicitly converted to a tuple of keys) will be deprecated, use a list instead.\n",
      "  bootstrapped_downward = tmp.groupby(['frame'])['ang_pos', 'dist', 'speed_diff', 'acc_diff', 'cc'].mean().reset_index()\n",
      "/var/folders/ng/l4j590g95vl5r33ctw59y6cr0000gn/T/ipykernel_80698/3326045070.py:12: FutureWarning: Indexing with multiple keys (implicitly converted to a tuple of keys) will be deprecated, use a list instead.\n",
      "  bootstrapped_downward = tmp.groupby(['frame'])['ang_pos', 'dist', 'speed_diff', 'acc_diff', 'cc'].mean().reset_index()\n",
      "/var/folders/ng/l4j590g95vl5r33ctw59y6cr0000gn/T/ipykernel_80698/3326045070.py:12: FutureWarning: Indexing with multiple keys (implicitly converted to a tuple of keys) will be deprecated, use a list instead.\n",
      "  bootstrapped_downward = tmp.groupby(['frame'])['ang_pos', 'dist', 'speed_diff', 'acc_diff', 'cc'].mean().reset_index()\n",
      "/var/folders/ng/l4j590g95vl5r33ctw59y6cr0000gn/T/ipykernel_80698/3326045070.py:12: FutureWarning: Indexing with multiple keys (implicitly converted to a tuple of keys) will be deprecated, use a list instead.\n",
      "  bootstrapped_downward = tmp.groupby(['frame'])['ang_pos', 'dist', 'speed_diff', 'acc_diff', 'cc'].mean().reset_index()\n",
      "/var/folders/ng/l4j590g95vl5r33ctw59y6cr0000gn/T/ipykernel_80698/3326045070.py:12: FutureWarning: Indexing with multiple keys (implicitly converted to a tuple of keys) will be deprecated, use a list instead.\n",
      "  bootstrapped_downward = tmp.groupby(['frame'])['ang_pos', 'dist', 'speed_diff', 'acc_diff', 'cc'].mean().reset_index()\n",
      "/var/folders/ng/l4j590g95vl5r33ctw59y6cr0000gn/T/ipykernel_80698/3326045070.py:12: FutureWarning: Indexing with multiple keys (implicitly converted to a tuple of keys) will be deprecated, use a list instead.\n",
      "  bootstrapped_downward = tmp.groupby(['frame'])['ang_pos', 'dist', 'speed_diff', 'acc_diff', 'cc'].mean().reset_index()\n",
      "/var/folders/ng/l4j590g95vl5r33ctw59y6cr0000gn/T/ipykernel_80698/3326045070.py:12: FutureWarning: Indexing with multiple keys (implicitly converted to a tuple of keys) will be deprecated, use a list instead.\n",
      "  bootstrapped_downward = tmp.groupby(['frame'])['ang_pos', 'dist', 'speed_diff', 'acc_diff', 'cc'].mean().reset_index()\n",
      "/var/folders/ng/l4j590g95vl5r33ctw59y6cr0000gn/T/ipykernel_80698/3326045070.py:12: FutureWarning: Indexing with multiple keys (implicitly converted to a tuple of keys) will be deprecated, use a list instead.\n",
      "  bootstrapped_downward = tmp.groupby(['frame'])['ang_pos', 'dist', 'speed_diff', 'acc_diff', 'cc'].mean().reset_index()\n",
      "/var/folders/ng/l4j590g95vl5r33ctw59y6cr0000gn/T/ipykernel_80698/3326045070.py:12: FutureWarning: Indexing with multiple keys (implicitly converted to a tuple of keys) will be deprecated, use a list instead.\n",
      "  bootstrapped_downward = tmp.groupby(['frame'])['ang_pos', 'dist', 'speed_diff', 'acc_diff', 'cc'].mean().reset_index()\n"
     ]
    },
    {
     "name": "stdout",
     "output_type": "stream",
     "text": [
      "20\n"
     ]
    },
    {
     "name": "stderr",
     "output_type": "stream",
     "text": [
      "/var/folders/ng/l4j590g95vl5r33ctw59y6cr0000gn/T/ipykernel_80698/3326045070.py:12: FutureWarning: Indexing with multiple keys (implicitly converted to a tuple of keys) will be deprecated, use a list instead.\n",
      "  bootstrapped_downward = tmp.groupby(['frame'])['ang_pos', 'dist', 'speed_diff', 'acc_diff', 'cc'].mean().reset_index()\n",
      "/var/folders/ng/l4j590g95vl5r33ctw59y6cr0000gn/T/ipykernel_80698/3326045070.py:12: FutureWarning: Indexing with multiple keys (implicitly converted to a tuple of keys) will be deprecated, use a list instead.\n",
      "  bootstrapped_downward = tmp.groupby(['frame'])['ang_pos', 'dist', 'speed_diff', 'acc_diff', 'cc'].mean().reset_index()\n",
      "/var/folders/ng/l4j590g95vl5r33ctw59y6cr0000gn/T/ipykernel_80698/3326045070.py:12: FutureWarning: Indexing with multiple keys (implicitly converted to a tuple of keys) will be deprecated, use a list instead.\n",
      "  bootstrapped_downward = tmp.groupby(['frame'])['ang_pos', 'dist', 'speed_diff', 'acc_diff', 'cc'].mean().reset_index()\n",
      "/var/folders/ng/l4j590g95vl5r33ctw59y6cr0000gn/T/ipykernel_80698/3326045070.py:12: FutureWarning: Indexing with multiple keys (implicitly converted to a tuple of keys) will be deprecated, use a list instead.\n",
      "  bootstrapped_downward = tmp.groupby(['frame'])['ang_pos', 'dist', 'speed_diff', 'acc_diff', 'cc'].mean().reset_index()\n",
      "/var/folders/ng/l4j590g95vl5r33ctw59y6cr0000gn/T/ipykernel_80698/3326045070.py:12: FutureWarning: Indexing with multiple keys (implicitly converted to a tuple of keys) will be deprecated, use a list instead.\n",
      "  bootstrapped_downward = tmp.groupby(['frame'])['ang_pos', 'dist', 'speed_diff', 'acc_diff', 'cc'].mean().reset_index()\n",
      "/var/folders/ng/l4j590g95vl5r33ctw59y6cr0000gn/T/ipykernel_80698/3326045070.py:12: FutureWarning: Indexing with multiple keys (implicitly converted to a tuple of keys) will be deprecated, use a list instead.\n",
      "  bootstrapped_downward = tmp.groupby(['frame'])['ang_pos', 'dist', 'speed_diff', 'acc_diff', 'cc'].mean().reset_index()\n",
      "/var/folders/ng/l4j590g95vl5r33ctw59y6cr0000gn/T/ipykernel_80698/3326045070.py:12: FutureWarning: Indexing with multiple keys (implicitly converted to a tuple of keys) will be deprecated, use a list instead.\n",
      "  bootstrapped_downward = tmp.groupby(['frame'])['ang_pos', 'dist', 'speed_diff', 'acc_diff', 'cc'].mean().reset_index()\n",
      "/var/folders/ng/l4j590g95vl5r33ctw59y6cr0000gn/T/ipykernel_80698/3326045070.py:12: FutureWarning: Indexing with multiple keys (implicitly converted to a tuple of keys) will be deprecated, use a list instead.\n",
      "  bootstrapped_downward = tmp.groupby(['frame'])['ang_pos', 'dist', 'speed_diff', 'acc_diff', 'cc'].mean().reset_index()\n",
      "/var/folders/ng/l4j590g95vl5r33ctw59y6cr0000gn/T/ipykernel_80698/3326045070.py:12: FutureWarning: Indexing with multiple keys (implicitly converted to a tuple of keys) will be deprecated, use a list instead.\n",
      "  bootstrapped_downward = tmp.groupby(['frame'])['ang_pos', 'dist', 'speed_diff', 'acc_diff', 'cc'].mean().reset_index()\n",
      "/var/folders/ng/l4j590g95vl5r33ctw59y6cr0000gn/T/ipykernel_80698/3326045070.py:12: FutureWarning: Indexing with multiple keys (implicitly converted to a tuple of keys) will be deprecated, use a list instead.\n",
      "  bootstrapped_downward = tmp.groupby(['frame'])['ang_pos', 'dist', 'speed_diff', 'acc_diff', 'cc'].mean().reset_index()\n"
     ]
    },
    {
     "name": "stdout",
     "output_type": "stream",
     "text": [
      "30\n"
     ]
    },
    {
     "name": "stderr",
     "output_type": "stream",
     "text": [
      "/var/folders/ng/l4j590g95vl5r33ctw59y6cr0000gn/T/ipykernel_80698/3326045070.py:12: FutureWarning: Indexing with multiple keys (implicitly converted to a tuple of keys) will be deprecated, use a list instead.\n",
      "  bootstrapped_downward = tmp.groupby(['frame'])['ang_pos', 'dist', 'speed_diff', 'acc_diff', 'cc'].mean().reset_index()\n",
      "/var/folders/ng/l4j590g95vl5r33ctw59y6cr0000gn/T/ipykernel_80698/3326045070.py:12: FutureWarning: Indexing with multiple keys (implicitly converted to a tuple of keys) will be deprecated, use a list instead.\n",
      "  bootstrapped_downward = tmp.groupby(['frame'])['ang_pos', 'dist', 'speed_diff', 'acc_diff', 'cc'].mean().reset_index()\n",
      "/var/folders/ng/l4j590g95vl5r33ctw59y6cr0000gn/T/ipykernel_80698/3326045070.py:12: FutureWarning: Indexing with multiple keys (implicitly converted to a tuple of keys) will be deprecated, use a list instead.\n",
      "  bootstrapped_downward = tmp.groupby(['frame'])['ang_pos', 'dist', 'speed_diff', 'acc_diff', 'cc'].mean().reset_index()\n",
      "/var/folders/ng/l4j590g95vl5r33ctw59y6cr0000gn/T/ipykernel_80698/3326045070.py:12: FutureWarning: Indexing with multiple keys (implicitly converted to a tuple of keys) will be deprecated, use a list instead.\n",
      "  bootstrapped_downward = tmp.groupby(['frame'])['ang_pos', 'dist', 'speed_diff', 'acc_diff', 'cc'].mean().reset_index()\n",
      "/var/folders/ng/l4j590g95vl5r33ctw59y6cr0000gn/T/ipykernel_80698/3326045070.py:12: FutureWarning: Indexing with multiple keys (implicitly converted to a tuple of keys) will be deprecated, use a list instead.\n",
      "  bootstrapped_downward = tmp.groupby(['frame'])['ang_pos', 'dist', 'speed_diff', 'acc_diff', 'cc'].mean().reset_index()\n",
      "/var/folders/ng/l4j590g95vl5r33ctw59y6cr0000gn/T/ipykernel_80698/3326045070.py:12: FutureWarning: Indexing with multiple keys (implicitly converted to a tuple of keys) will be deprecated, use a list instead.\n",
      "  bootstrapped_downward = tmp.groupby(['frame'])['ang_pos', 'dist', 'speed_diff', 'acc_diff', 'cc'].mean().reset_index()\n",
      "/var/folders/ng/l4j590g95vl5r33ctw59y6cr0000gn/T/ipykernel_80698/3326045070.py:12: FutureWarning: Indexing with multiple keys (implicitly converted to a tuple of keys) will be deprecated, use a list instead.\n",
      "  bootstrapped_downward = tmp.groupby(['frame'])['ang_pos', 'dist', 'speed_diff', 'acc_diff', 'cc'].mean().reset_index()\n",
      "/var/folders/ng/l4j590g95vl5r33ctw59y6cr0000gn/T/ipykernel_80698/3326045070.py:12: FutureWarning: Indexing with multiple keys (implicitly converted to a tuple of keys) will be deprecated, use a list instead.\n",
      "  bootstrapped_downward = tmp.groupby(['frame'])['ang_pos', 'dist', 'speed_diff', 'acc_diff', 'cc'].mean().reset_index()\n",
      "/var/folders/ng/l4j590g95vl5r33ctw59y6cr0000gn/T/ipykernel_80698/3326045070.py:12: FutureWarning: Indexing with multiple keys (implicitly converted to a tuple of keys) will be deprecated, use a list instead.\n",
      "  bootstrapped_downward = tmp.groupby(['frame'])['ang_pos', 'dist', 'speed_diff', 'acc_diff', 'cc'].mean().reset_index()\n",
      "/var/folders/ng/l4j590g95vl5r33ctw59y6cr0000gn/T/ipykernel_80698/3326045070.py:12: FutureWarning: Indexing with multiple keys (implicitly converted to a tuple of keys) will be deprecated, use a list instead.\n",
      "  bootstrapped_downward = tmp.groupby(['frame'])['ang_pos', 'dist', 'speed_diff', 'acc_diff', 'cc'].mean().reset_index()\n"
     ]
    },
    {
     "name": "stdout",
     "output_type": "stream",
     "text": [
      "40\n"
     ]
    },
    {
     "name": "stderr",
     "output_type": "stream",
     "text": [
      "/var/folders/ng/l4j590g95vl5r33ctw59y6cr0000gn/T/ipykernel_80698/3326045070.py:12: FutureWarning: Indexing with multiple keys (implicitly converted to a tuple of keys) will be deprecated, use a list instead.\n",
      "  bootstrapped_downward = tmp.groupby(['frame'])['ang_pos', 'dist', 'speed_diff', 'acc_diff', 'cc'].mean().reset_index()\n",
      "/var/folders/ng/l4j590g95vl5r33ctw59y6cr0000gn/T/ipykernel_80698/3326045070.py:12: FutureWarning: Indexing with multiple keys (implicitly converted to a tuple of keys) will be deprecated, use a list instead.\n",
      "  bootstrapped_downward = tmp.groupby(['frame'])['ang_pos', 'dist', 'speed_diff', 'acc_diff', 'cc'].mean().reset_index()\n",
      "/var/folders/ng/l4j590g95vl5r33ctw59y6cr0000gn/T/ipykernel_80698/3326045070.py:12: FutureWarning: Indexing with multiple keys (implicitly converted to a tuple of keys) will be deprecated, use a list instead.\n",
      "  bootstrapped_downward = tmp.groupby(['frame'])['ang_pos', 'dist', 'speed_diff', 'acc_diff', 'cc'].mean().reset_index()\n",
      "/var/folders/ng/l4j590g95vl5r33ctw59y6cr0000gn/T/ipykernel_80698/3326045070.py:12: FutureWarning: Indexing with multiple keys (implicitly converted to a tuple of keys) will be deprecated, use a list instead.\n",
      "  bootstrapped_downward = tmp.groupby(['frame'])['ang_pos', 'dist', 'speed_diff', 'acc_diff', 'cc'].mean().reset_index()\n",
      "/var/folders/ng/l4j590g95vl5r33ctw59y6cr0000gn/T/ipykernel_80698/3326045070.py:12: FutureWarning: Indexing with multiple keys (implicitly converted to a tuple of keys) will be deprecated, use a list instead.\n",
      "  bootstrapped_downward = tmp.groupby(['frame'])['ang_pos', 'dist', 'speed_diff', 'acc_diff', 'cc'].mean().reset_index()\n",
      "/var/folders/ng/l4j590g95vl5r33ctw59y6cr0000gn/T/ipykernel_80698/3326045070.py:12: FutureWarning: Indexing with multiple keys (implicitly converted to a tuple of keys) will be deprecated, use a list instead.\n",
      "  bootstrapped_downward = tmp.groupby(['frame'])['ang_pos', 'dist', 'speed_diff', 'acc_diff', 'cc'].mean().reset_index()\n",
      "/var/folders/ng/l4j590g95vl5r33ctw59y6cr0000gn/T/ipykernel_80698/3326045070.py:12: FutureWarning: Indexing with multiple keys (implicitly converted to a tuple of keys) will be deprecated, use a list instead.\n",
      "  bootstrapped_downward = tmp.groupby(['frame'])['ang_pos', 'dist', 'speed_diff', 'acc_diff', 'cc'].mean().reset_index()\n",
      "/var/folders/ng/l4j590g95vl5r33ctw59y6cr0000gn/T/ipykernel_80698/3326045070.py:12: FutureWarning: Indexing with multiple keys (implicitly converted to a tuple of keys) will be deprecated, use a list instead.\n",
      "  bootstrapped_downward = tmp.groupby(['frame'])['ang_pos', 'dist', 'speed_diff', 'acc_diff', 'cc'].mean().reset_index()\n",
      "/var/folders/ng/l4j590g95vl5r33ctw59y6cr0000gn/T/ipykernel_80698/3326045070.py:12: FutureWarning: Indexing with multiple keys (implicitly converted to a tuple of keys) will be deprecated, use a list instead.\n",
      "  bootstrapped_downward = tmp.groupby(['frame'])['ang_pos', 'dist', 'speed_diff', 'acc_diff', 'cc'].mean().reset_index()\n",
      "/var/folders/ng/l4j590g95vl5r33ctw59y6cr0000gn/T/ipykernel_80698/3326045070.py:12: FutureWarning: Indexing with multiple keys (implicitly converted to a tuple of keys) will be deprecated, use a list instead.\n",
      "  bootstrapped_downward = tmp.groupby(['frame'])['ang_pos', 'dist', 'speed_diff', 'acc_diff', 'cc'].mean().reset_index()\n"
     ]
    },
    {
     "name": "stdout",
     "output_type": "stream",
     "text": [
      "50\n"
     ]
    },
    {
     "name": "stderr",
     "output_type": "stream",
     "text": [
      "/var/folders/ng/l4j590g95vl5r33ctw59y6cr0000gn/T/ipykernel_80698/3326045070.py:12: FutureWarning: Indexing with multiple keys (implicitly converted to a tuple of keys) will be deprecated, use a list instead.\n",
      "  bootstrapped_downward = tmp.groupby(['frame'])['ang_pos', 'dist', 'speed_diff', 'acc_diff', 'cc'].mean().reset_index()\n",
      "/var/folders/ng/l4j590g95vl5r33ctw59y6cr0000gn/T/ipykernel_80698/3326045070.py:12: FutureWarning: Indexing with multiple keys (implicitly converted to a tuple of keys) will be deprecated, use a list instead.\n",
      "  bootstrapped_downward = tmp.groupby(['frame'])['ang_pos', 'dist', 'speed_diff', 'acc_diff', 'cc'].mean().reset_index()\n",
      "/var/folders/ng/l4j590g95vl5r33ctw59y6cr0000gn/T/ipykernel_80698/3326045070.py:12: FutureWarning: Indexing with multiple keys (implicitly converted to a tuple of keys) will be deprecated, use a list instead.\n",
      "  bootstrapped_downward = tmp.groupby(['frame'])['ang_pos', 'dist', 'speed_diff', 'acc_diff', 'cc'].mean().reset_index()\n",
      "/var/folders/ng/l4j590g95vl5r33ctw59y6cr0000gn/T/ipykernel_80698/3326045070.py:12: FutureWarning: Indexing with multiple keys (implicitly converted to a tuple of keys) will be deprecated, use a list instead.\n",
      "  bootstrapped_downward = tmp.groupby(['frame'])['ang_pos', 'dist', 'speed_diff', 'acc_diff', 'cc'].mean().reset_index()\n",
      "/var/folders/ng/l4j590g95vl5r33ctw59y6cr0000gn/T/ipykernel_80698/3326045070.py:12: FutureWarning: Indexing with multiple keys (implicitly converted to a tuple of keys) will be deprecated, use a list instead.\n",
      "  bootstrapped_downward = tmp.groupby(['frame'])['ang_pos', 'dist', 'speed_diff', 'acc_diff', 'cc'].mean().reset_index()\n",
      "/var/folders/ng/l4j590g95vl5r33ctw59y6cr0000gn/T/ipykernel_80698/3326045070.py:12: FutureWarning: Indexing with multiple keys (implicitly converted to a tuple of keys) will be deprecated, use a list instead.\n",
      "  bootstrapped_downward = tmp.groupby(['frame'])['ang_pos', 'dist', 'speed_diff', 'acc_diff', 'cc'].mean().reset_index()\n",
      "/var/folders/ng/l4j590g95vl5r33ctw59y6cr0000gn/T/ipykernel_80698/3326045070.py:12: FutureWarning: Indexing with multiple keys (implicitly converted to a tuple of keys) will be deprecated, use a list instead.\n",
      "  bootstrapped_downward = tmp.groupby(['frame'])['ang_pos', 'dist', 'speed_diff', 'acc_diff', 'cc'].mean().reset_index()\n",
      "/var/folders/ng/l4j590g95vl5r33ctw59y6cr0000gn/T/ipykernel_80698/3326045070.py:12: FutureWarning: Indexing with multiple keys (implicitly converted to a tuple of keys) will be deprecated, use a list instead.\n",
      "  bootstrapped_downward = tmp.groupby(['frame'])['ang_pos', 'dist', 'speed_diff', 'acc_diff', 'cc'].mean().reset_index()\n",
      "/var/folders/ng/l4j590g95vl5r33ctw59y6cr0000gn/T/ipykernel_80698/3326045070.py:12: FutureWarning: Indexing with multiple keys (implicitly converted to a tuple of keys) will be deprecated, use a list instead.\n",
      "  bootstrapped_downward = tmp.groupby(['frame'])['ang_pos', 'dist', 'speed_diff', 'acc_diff', 'cc'].mean().reset_index()\n",
      "/var/folders/ng/l4j590g95vl5r33ctw59y6cr0000gn/T/ipykernel_80698/3326045070.py:12: FutureWarning: Indexing with multiple keys (implicitly converted to a tuple of keys) will be deprecated, use a list instead.\n",
      "  bootstrapped_downward = tmp.groupby(['frame'])['ang_pos', 'dist', 'speed_diff', 'acc_diff', 'cc'].mean().reset_index()\n"
     ]
    },
    {
     "name": "stdout",
     "output_type": "stream",
     "text": [
      "60\n"
     ]
    },
    {
     "name": "stderr",
     "output_type": "stream",
     "text": [
      "/var/folders/ng/l4j590g95vl5r33ctw59y6cr0000gn/T/ipykernel_80698/3326045070.py:12: FutureWarning: Indexing with multiple keys (implicitly converted to a tuple of keys) will be deprecated, use a list instead.\n",
      "  bootstrapped_downward = tmp.groupby(['frame'])['ang_pos', 'dist', 'speed_diff', 'acc_diff', 'cc'].mean().reset_index()\n",
      "/var/folders/ng/l4j590g95vl5r33ctw59y6cr0000gn/T/ipykernel_80698/3326045070.py:12: FutureWarning: Indexing with multiple keys (implicitly converted to a tuple of keys) will be deprecated, use a list instead.\n",
      "  bootstrapped_downward = tmp.groupby(['frame'])['ang_pos', 'dist', 'speed_diff', 'acc_diff', 'cc'].mean().reset_index()\n",
      "/var/folders/ng/l4j590g95vl5r33ctw59y6cr0000gn/T/ipykernel_80698/3326045070.py:12: FutureWarning: Indexing with multiple keys (implicitly converted to a tuple of keys) will be deprecated, use a list instead.\n",
      "  bootstrapped_downward = tmp.groupby(['frame'])['ang_pos', 'dist', 'speed_diff', 'acc_diff', 'cc'].mean().reset_index()\n",
      "/var/folders/ng/l4j590g95vl5r33ctw59y6cr0000gn/T/ipykernel_80698/3326045070.py:12: FutureWarning: Indexing with multiple keys (implicitly converted to a tuple of keys) will be deprecated, use a list instead.\n",
      "  bootstrapped_downward = tmp.groupby(['frame'])['ang_pos', 'dist', 'speed_diff', 'acc_diff', 'cc'].mean().reset_index()\n",
      "/var/folders/ng/l4j590g95vl5r33ctw59y6cr0000gn/T/ipykernel_80698/3326045070.py:12: FutureWarning: Indexing with multiple keys (implicitly converted to a tuple of keys) will be deprecated, use a list instead.\n",
      "  bootstrapped_downward = tmp.groupby(['frame'])['ang_pos', 'dist', 'speed_diff', 'acc_diff', 'cc'].mean().reset_index()\n",
      "/var/folders/ng/l4j590g95vl5r33ctw59y6cr0000gn/T/ipykernel_80698/3326045070.py:12: FutureWarning: Indexing with multiple keys (implicitly converted to a tuple of keys) will be deprecated, use a list instead.\n",
      "  bootstrapped_downward = tmp.groupby(['frame'])['ang_pos', 'dist', 'speed_diff', 'acc_diff', 'cc'].mean().reset_index()\n",
      "/var/folders/ng/l4j590g95vl5r33ctw59y6cr0000gn/T/ipykernel_80698/3326045070.py:12: FutureWarning: Indexing with multiple keys (implicitly converted to a tuple of keys) will be deprecated, use a list instead.\n",
      "  bootstrapped_downward = tmp.groupby(['frame'])['ang_pos', 'dist', 'speed_diff', 'acc_diff', 'cc'].mean().reset_index()\n",
      "/var/folders/ng/l4j590g95vl5r33ctw59y6cr0000gn/T/ipykernel_80698/3326045070.py:12: FutureWarning: Indexing with multiple keys (implicitly converted to a tuple of keys) will be deprecated, use a list instead.\n",
      "  bootstrapped_downward = tmp.groupby(['frame'])['ang_pos', 'dist', 'speed_diff', 'acc_diff', 'cc'].mean().reset_index()\n",
      "/var/folders/ng/l4j590g95vl5r33ctw59y6cr0000gn/T/ipykernel_80698/3326045070.py:12: FutureWarning: Indexing with multiple keys (implicitly converted to a tuple of keys) will be deprecated, use a list instead.\n",
      "  bootstrapped_downward = tmp.groupby(['frame'])['ang_pos', 'dist', 'speed_diff', 'acc_diff', 'cc'].mean().reset_index()\n",
      "/var/folders/ng/l4j590g95vl5r33ctw59y6cr0000gn/T/ipykernel_80698/3326045070.py:12: FutureWarning: Indexing with multiple keys (implicitly converted to a tuple of keys) will be deprecated, use a list instead.\n",
      "  bootstrapped_downward = tmp.groupby(['frame'])['ang_pos', 'dist', 'speed_diff', 'acc_diff', 'cc'].mean().reset_index()\n"
     ]
    },
    {
     "name": "stdout",
     "output_type": "stream",
     "text": [
      "70\n"
     ]
    },
    {
     "name": "stderr",
     "output_type": "stream",
     "text": [
      "/var/folders/ng/l4j590g95vl5r33ctw59y6cr0000gn/T/ipykernel_80698/3326045070.py:12: FutureWarning: Indexing with multiple keys (implicitly converted to a tuple of keys) will be deprecated, use a list instead.\n",
      "  bootstrapped_downward = tmp.groupby(['frame'])['ang_pos', 'dist', 'speed_diff', 'acc_diff', 'cc'].mean().reset_index()\n",
      "/var/folders/ng/l4j590g95vl5r33ctw59y6cr0000gn/T/ipykernel_80698/3326045070.py:12: FutureWarning: Indexing with multiple keys (implicitly converted to a tuple of keys) will be deprecated, use a list instead.\n",
      "  bootstrapped_downward = tmp.groupby(['frame'])['ang_pos', 'dist', 'speed_diff', 'acc_diff', 'cc'].mean().reset_index()\n",
      "/var/folders/ng/l4j590g95vl5r33ctw59y6cr0000gn/T/ipykernel_80698/3326045070.py:12: FutureWarning: Indexing with multiple keys (implicitly converted to a tuple of keys) will be deprecated, use a list instead.\n",
      "  bootstrapped_downward = tmp.groupby(['frame'])['ang_pos', 'dist', 'speed_diff', 'acc_diff', 'cc'].mean().reset_index()\n",
      "/var/folders/ng/l4j590g95vl5r33ctw59y6cr0000gn/T/ipykernel_80698/3326045070.py:12: FutureWarning: Indexing with multiple keys (implicitly converted to a tuple of keys) will be deprecated, use a list instead.\n",
      "  bootstrapped_downward = tmp.groupby(['frame'])['ang_pos', 'dist', 'speed_diff', 'acc_diff', 'cc'].mean().reset_index()\n",
      "/var/folders/ng/l4j590g95vl5r33ctw59y6cr0000gn/T/ipykernel_80698/3326045070.py:12: FutureWarning: Indexing with multiple keys (implicitly converted to a tuple of keys) will be deprecated, use a list instead.\n",
      "  bootstrapped_downward = tmp.groupby(['frame'])['ang_pos', 'dist', 'speed_diff', 'acc_diff', 'cc'].mean().reset_index()\n",
      "/var/folders/ng/l4j590g95vl5r33ctw59y6cr0000gn/T/ipykernel_80698/3326045070.py:12: FutureWarning: Indexing with multiple keys (implicitly converted to a tuple of keys) will be deprecated, use a list instead.\n",
      "  bootstrapped_downward = tmp.groupby(['frame'])['ang_pos', 'dist', 'speed_diff', 'acc_diff', 'cc'].mean().reset_index()\n",
      "/var/folders/ng/l4j590g95vl5r33ctw59y6cr0000gn/T/ipykernel_80698/3326045070.py:12: FutureWarning: Indexing with multiple keys (implicitly converted to a tuple of keys) will be deprecated, use a list instead.\n",
      "  bootstrapped_downward = tmp.groupby(['frame'])['ang_pos', 'dist', 'speed_diff', 'acc_diff', 'cc'].mean().reset_index()\n",
      "/var/folders/ng/l4j590g95vl5r33ctw59y6cr0000gn/T/ipykernel_80698/3326045070.py:12: FutureWarning: Indexing with multiple keys (implicitly converted to a tuple of keys) will be deprecated, use a list instead.\n",
      "  bootstrapped_downward = tmp.groupby(['frame'])['ang_pos', 'dist', 'speed_diff', 'acc_diff', 'cc'].mean().reset_index()\n",
      "/var/folders/ng/l4j590g95vl5r33ctw59y6cr0000gn/T/ipykernel_80698/3326045070.py:12: FutureWarning: Indexing with multiple keys (implicitly converted to a tuple of keys) will be deprecated, use a list instead.\n",
      "  bootstrapped_downward = tmp.groupby(['frame'])['ang_pos', 'dist', 'speed_diff', 'acc_diff', 'cc'].mean().reset_index()\n",
      "/var/folders/ng/l4j590g95vl5r33ctw59y6cr0000gn/T/ipykernel_80698/3326045070.py:12: FutureWarning: Indexing with multiple keys (implicitly converted to a tuple of keys) will be deprecated, use a list instead.\n",
      "  bootstrapped_downward = tmp.groupby(['frame'])['ang_pos', 'dist', 'speed_diff', 'acc_diff', 'cc'].mean().reset_index()\n"
     ]
    },
    {
     "name": "stdout",
     "output_type": "stream",
     "text": [
      "80\n"
     ]
    },
    {
     "name": "stderr",
     "output_type": "stream",
     "text": [
      "/var/folders/ng/l4j590g95vl5r33ctw59y6cr0000gn/T/ipykernel_80698/3326045070.py:12: FutureWarning: Indexing with multiple keys (implicitly converted to a tuple of keys) will be deprecated, use a list instead.\n",
      "  bootstrapped_downward = tmp.groupby(['frame'])['ang_pos', 'dist', 'speed_diff', 'acc_diff', 'cc'].mean().reset_index()\n",
      "/var/folders/ng/l4j590g95vl5r33ctw59y6cr0000gn/T/ipykernel_80698/3326045070.py:12: FutureWarning: Indexing with multiple keys (implicitly converted to a tuple of keys) will be deprecated, use a list instead.\n",
      "  bootstrapped_downward = tmp.groupby(['frame'])['ang_pos', 'dist', 'speed_diff', 'acc_diff', 'cc'].mean().reset_index()\n",
      "/var/folders/ng/l4j590g95vl5r33ctw59y6cr0000gn/T/ipykernel_80698/3326045070.py:12: FutureWarning: Indexing with multiple keys (implicitly converted to a tuple of keys) will be deprecated, use a list instead.\n",
      "  bootstrapped_downward = tmp.groupby(['frame'])['ang_pos', 'dist', 'speed_diff', 'acc_diff', 'cc'].mean().reset_index()\n",
      "/var/folders/ng/l4j590g95vl5r33ctw59y6cr0000gn/T/ipykernel_80698/3326045070.py:12: FutureWarning: Indexing with multiple keys (implicitly converted to a tuple of keys) will be deprecated, use a list instead.\n",
      "  bootstrapped_downward = tmp.groupby(['frame'])['ang_pos', 'dist', 'speed_diff', 'acc_diff', 'cc'].mean().reset_index()\n",
      "/var/folders/ng/l4j590g95vl5r33ctw59y6cr0000gn/T/ipykernel_80698/3326045070.py:12: FutureWarning: Indexing with multiple keys (implicitly converted to a tuple of keys) will be deprecated, use a list instead.\n",
      "  bootstrapped_downward = tmp.groupby(['frame'])['ang_pos', 'dist', 'speed_diff', 'acc_diff', 'cc'].mean().reset_index()\n",
      "/var/folders/ng/l4j590g95vl5r33ctw59y6cr0000gn/T/ipykernel_80698/3326045070.py:12: FutureWarning: Indexing with multiple keys (implicitly converted to a tuple of keys) will be deprecated, use a list instead.\n",
      "  bootstrapped_downward = tmp.groupby(['frame'])['ang_pos', 'dist', 'speed_diff', 'acc_diff', 'cc'].mean().reset_index()\n",
      "/var/folders/ng/l4j590g95vl5r33ctw59y6cr0000gn/T/ipykernel_80698/3326045070.py:12: FutureWarning: Indexing with multiple keys (implicitly converted to a tuple of keys) will be deprecated, use a list instead.\n",
      "  bootstrapped_downward = tmp.groupby(['frame'])['ang_pos', 'dist', 'speed_diff', 'acc_diff', 'cc'].mean().reset_index()\n",
      "/var/folders/ng/l4j590g95vl5r33ctw59y6cr0000gn/T/ipykernel_80698/3326045070.py:12: FutureWarning: Indexing with multiple keys (implicitly converted to a tuple of keys) will be deprecated, use a list instead.\n",
      "  bootstrapped_downward = tmp.groupby(['frame'])['ang_pos', 'dist', 'speed_diff', 'acc_diff', 'cc'].mean().reset_index()\n",
      "/var/folders/ng/l4j590g95vl5r33ctw59y6cr0000gn/T/ipykernel_80698/3326045070.py:12: FutureWarning: Indexing with multiple keys (implicitly converted to a tuple of keys) will be deprecated, use a list instead.\n",
      "  bootstrapped_downward = tmp.groupby(['frame'])['ang_pos', 'dist', 'speed_diff', 'acc_diff', 'cc'].mean().reset_index()\n",
      "/var/folders/ng/l4j590g95vl5r33ctw59y6cr0000gn/T/ipykernel_80698/3326045070.py:12: FutureWarning: Indexing with multiple keys (implicitly converted to a tuple of keys) will be deprecated, use a list instead.\n",
      "  bootstrapped_downward = tmp.groupby(['frame'])['ang_pos', 'dist', 'speed_diff', 'acc_diff', 'cc'].mean().reset_index()\n"
     ]
    },
    {
     "name": "stdout",
     "output_type": "stream",
     "text": [
      "90\n"
     ]
    },
    {
     "name": "stderr",
     "output_type": "stream",
     "text": [
      "/var/folders/ng/l4j590g95vl5r33ctw59y6cr0000gn/T/ipykernel_80698/3326045070.py:12: FutureWarning: Indexing with multiple keys (implicitly converted to a tuple of keys) will be deprecated, use a list instead.\n",
      "  bootstrapped_downward = tmp.groupby(['frame'])['ang_pos', 'dist', 'speed_diff', 'acc_diff', 'cc'].mean().reset_index()\n",
      "/var/folders/ng/l4j590g95vl5r33ctw59y6cr0000gn/T/ipykernel_80698/3326045070.py:12: FutureWarning: Indexing with multiple keys (implicitly converted to a tuple of keys) will be deprecated, use a list instead.\n",
      "  bootstrapped_downward = tmp.groupby(['frame'])['ang_pos', 'dist', 'speed_diff', 'acc_diff', 'cc'].mean().reset_index()\n",
      "/var/folders/ng/l4j590g95vl5r33ctw59y6cr0000gn/T/ipykernel_80698/3326045070.py:12: FutureWarning: Indexing with multiple keys (implicitly converted to a tuple of keys) will be deprecated, use a list instead.\n",
      "  bootstrapped_downward = tmp.groupby(['frame'])['ang_pos', 'dist', 'speed_diff', 'acc_diff', 'cc'].mean().reset_index()\n",
      "/var/folders/ng/l4j590g95vl5r33ctw59y6cr0000gn/T/ipykernel_80698/3326045070.py:12: FutureWarning: Indexing with multiple keys (implicitly converted to a tuple of keys) will be deprecated, use a list instead.\n",
      "  bootstrapped_downward = tmp.groupby(['frame'])['ang_pos', 'dist', 'speed_diff', 'acc_diff', 'cc'].mean().reset_index()\n",
      "/var/folders/ng/l4j590g95vl5r33ctw59y6cr0000gn/T/ipykernel_80698/3326045070.py:12: FutureWarning: Indexing with multiple keys (implicitly converted to a tuple of keys) will be deprecated, use a list instead.\n",
      "  bootstrapped_downward = tmp.groupby(['frame'])['ang_pos', 'dist', 'speed_diff', 'acc_diff', 'cc'].mean().reset_index()\n",
      "/var/folders/ng/l4j590g95vl5r33ctw59y6cr0000gn/T/ipykernel_80698/3326045070.py:12: FutureWarning: Indexing with multiple keys (implicitly converted to a tuple of keys) will be deprecated, use a list instead.\n",
      "  bootstrapped_downward = tmp.groupby(['frame'])['ang_pos', 'dist', 'speed_diff', 'acc_diff', 'cc'].mean().reset_index()\n",
      "/var/folders/ng/l4j590g95vl5r33ctw59y6cr0000gn/T/ipykernel_80698/3326045070.py:12: FutureWarning: Indexing with multiple keys (implicitly converted to a tuple of keys) will be deprecated, use a list instead.\n",
      "  bootstrapped_downward = tmp.groupby(['frame'])['ang_pos', 'dist', 'speed_diff', 'acc_diff', 'cc'].mean().reset_index()\n",
      "/var/folders/ng/l4j590g95vl5r33ctw59y6cr0000gn/T/ipykernel_80698/3326045070.py:12: FutureWarning: Indexing with multiple keys (implicitly converted to a tuple of keys) will be deprecated, use a list instead.\n",
      "  bootstrapped_downward = tmp.groupby(['frame'])['ang_pos', 'dist', 'speed_diff', 'acc_diff', 'cc'].mean().reset_index()\n",
      "/var/folders/ng/l4j590g95vl5r33ctw59y6cr0000gn/T/ipykernel_80698/3326045070.py:12: FutureWarning: Indexing with multiple keys (implicitly converted to a tuple of keys) will be deprecated, use a list instead.\n",
      "  bootstrapped_downward = tmp.groupby(['frame'])['ang_pos', 'dist', 'speed_diff', 'acc_diff', 'cc'].mean().reset_index()\n"
     ]
    }
   ],
   "source": [
    "bootd = pd.DataFrame()\n",
    "\n",
    "for i in range(n_boots):\n",
    "    tmp_list = []\n",
    "    events = np.random.choice(np.unique(segments_downward['event']), size=len(np.unique(segments_downward['event'])))\n",
    "    for j,ev in enumerate(events):\n",
    "        tmp = segments_downward[segments_downward['event'] == ev].values.tolist()\n",
    "        tmp_list.extend(tmp)\n",
    "    \n",
    "    tmp = pd.DataFrame(np.array(tmp_list), columns=list(segments_downward))\n",
    "    \n",
    "    bootstrapped_downward = tmp.groupby(['frame'])['ang_pos', 'dist', 'speed_diff', 'acc_diff', 'cc'].mean().reset_index()\n",
    "    bootstrapped_downward.columns = ['frame', 'apd', 'distd', 'sdd', 'add', 'ccd']\n",
    "    \n",
    "    bootd = pd.concat([bootd, bootstrapped_downward])\n",
    "    bootd['perm'] = i+900\n",
    "    \n",
    "    if i%10==0:\n",
    "        print(i)\n",
    "    \n",
    "    del tmp\n",
    "    del tmp_list\n",
    "    del bootstrapped_downward\n",
    "    gc.collect()\n",
    "    \n",
    "bootd.to_csv('/Users/vivekhsridhar/Library/Mobile Documents/com~apple~CloudDocs/Documents/Code/DirectionalCorrelation/Data/Output/golden_shiners/' + thresh_folder + '/bootdown_' + scale + '_seq' + str(int(seq_length/fps)) + '9.csv', mode='w')"
   ]
  },
  {
   "cell_type": "code",
   "execution_count": null,
   "metadata": {},
   "outputs": [],
   "source": []
  }
 ],
 "metadata": {
  "kernelspec": {
   "display_name": "Python 3 (ipykernel)",
   "language": "python",
   "name": "python3"
  },
  "language_info": {
   "codemirror_mode": {
    "name": "ipython",
    "version": 3
   },
   "file_extension": ".py",
   "mimetype": "text/x-python",
   "name": "python",
   "nbconvert_exporter": "python",
   "pygments_lexer": "ipython3",
   "version": "3.8.9"
  }
 },
 "nbformat": 4,
 "nbformat_minor": 2
}
