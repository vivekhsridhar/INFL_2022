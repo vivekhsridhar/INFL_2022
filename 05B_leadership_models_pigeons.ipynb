{
 "cells": [
  {
   "cell_type": "code",
   "execution_count": 1,
   "metadata": {},
   "outputs": [],
   "source": [
    "import numpy as np\n",
    "import pandas as pd\n",
    "import matplotlib.pyplot as plt\n",
    "import seaborn as sns\n",
    "import pystan\n",
    "import gc\n",
    "from sklearn.preprocessing import RobustScaler"
   ]
  },
  {
   "cell_type": "code",
   "execution_count": 2,
   "metadata": {},
   "outputs": [],
   "source": [
    "n_inds = 30\n",
    "bayes_sample = 5000\n",
    "\n",
    "fps = 10\n",
    "scale = \"07\"\n",
    "folders = ['ffABC1']\n",
    "\n",
    "angle_thresh = 30\n",
    "time_thresh = 5\n",
    "thresh_folder = 'angle' + str(angle_thresh) + '_time' + str(time_thresh)"
   ]
  },
  {
   "cell_type": "code",
   "execution_count": 3,
   "metadata": {},
   "outputs": [],
   "source": [
    "for i,name in enumerate(folders):\n",
    "    tmp = pd.read_csv('/Users/vivekhsridhar/Library/Mobile Documents/com~apple~CloudDocs/Documents/Code/DirectionalCorrelation/Data/Output/pigeons/' + str(n_inds) + '_birds/' + name + '/' + thresh_folder + '/pairwise_' + scale + '.csv')\n",
    "    tmp2 = pd.read_csv('/Users/vivekhsridhar/Library/Mobile Documents/com~apple~CloudDocs/Documents/Code/DirectionalCorrelation/Data/Output/pigeons/' + str(n_inds) + '_birds/' + name + '/' + thresh_folder + '/individual_' + scale + '.csv')\n",
    "    tmp['vid_id'] = i\n",
    "    tmp2['vid_id'] = i\n",
    "    \n",
    "    pair_drops = ['Unnamed: 0', 'tau']\n",
    "    ind_drops = ['Unnamed: 0', 'rx', 'ry', 'lscore', 'lfinal']\n",
    "    tmp.drop(pair_drops, axis=1, inplace=True)\n",
    "    tmp2.drop(ind_drops, axis=1, inplace=True)\n",
    "    \n",
    "    if i != 0:\n",
    "        pair1 = np.concatenate((pair1,tmp), axis=0)\n",
    "        ind1 = np.concatenate((ind1,tmp2), axis=0)\n",
    "    else:\n",
    "        pair1 = tmp\n",
    "        ind1 = tmp2\n",
    "        cols = list(tmp)\n",
    "        col_ind = list(tmp2)\n",
    "        \n",
    "pair1 = pd.DataFrame(pair1)\n",
    "pair1.columns = cols\n",
    "\n",
    "ind1 = pd.DataFrame(ind1)\n",
    "ind1.columns = col_ind"
   ]
  },
  {
   "cell_type": "code",
   "execution_count": 4,
   "metadata": {},
   "outputs": [],
   "source": [
    "n_inds = 10\n",
    "folders = ['ffA3', 'ffA4', 'ffB3', 'ffB4', 'ffC3', 'ffC4']"
   ]
  },
  {
   "cell_type": "code",
   "execution_count": 5,
   "metadata": {},
   "outputs": [],
   "source": [
    "for i,name in enumerate(folders):\n",
    "    tmp = pd.read_csv('/Users/vivekhsridhar/Library/Mobile Documents/com~apple~CloudDocs/Documents/Code/DirectionalCorrelation/Data/Output/pigeons/' + str(n_inds) + '_birds/' + name + '/' + thresh_folder + '/pairwise_' + scale + '.csv')\n",
    "    tmp2 = pd.read_csv('/Users/vivekhsridhar/Library/Mobile Documents/com~apple~CloudDocs/Documents/Code/DirectionalCorrelation/Data/Output/pigeons/' + str(n_inds) + '_birds/' + name + '/' + thresh_folder + '/individual_' + scale + '.csv')\n",
    "    tmp['vid_id'] = i+1\n",
    "    tmp2['vid_id'] = i+1\n",
    "    \n",
    "    pair_drops = ['Unnamed: 0', 'tau']\n",
    "    ind_drops = ['Unnamed: 0', 'rx', 'ry', 'lscore', 'lfinal']\n",
    "    tmp.drop(pair_drops, axis=1, inplace=True)\n",
    "    tmp2.drop(ind_drops, axis=1, inplace=True)\n",
    "    \n",
    "    if i != 0:\n",
    "        pair2 = np.concatenate((pair2,tmp), axis=0)\n",
    "        ind2 = np.concatenate((ind2,tmp2), axis=0)\n",
    "    else:\n",
    "        pair2 = tmp\n",
    "        ind2 = tmp2\n",
    "        cols = list(tmp)\n",
    "        col_ind = list(tmp2)\n",
    "        \n",
    "pair2 = pd.DataFrame(pair2)\n",
    "pair2.columns = cols\n",
    "\n",
    "ind2 = pd.DataFrame(ind2)\n",
    "ind2.columns = col_ind"
   ]
  },
  {
   "cell_type": "code",
   "execution_count": 6,
   "metadata": {
    "scrolled": false
   },
   "outputs": [],
   "source": [
    "pairs = pd.concat([pair1,pair2], axis=0, sort=True)\n",
    "inds = pd.concat([ind1,ind2], axis=0, sort=True)"
   ]
  },
  {
   "cell_type": "code",
   "execution_count": 7,
   "metadata": {},
   "outputs": [
    {
     "data": {
      "text/plain": [
       "32"
      ]
     },
     "execution_count": 7,
     "metadata": {},
     "output_type": "execute_result"
    }
   ],
   "source": [
    "del tmp\n",
    "del tmp2\n",
    "del pair1\n",
    "del pair2\n",
    "del ind1\n",
    "del ind2\n",
    "\n",
    "gc.collect()"
   ]
  },
  {
   "cell_type": "code",
   "execution_count": 8,
   "metadata": {},
   "outputs": [
    {
     "data": {
      "text/plain": [
       "0"
      ]
     },
     "execution_count": 8,
     "metadata": {},
     "output_type": "execute_result"
    }
   ],
   "source": [
    "df = pd.merge(pairs, inds)\n",
    "\n",
    "del pairs\n",
    "del inds\n",
    "\n",
    "gc.collect()"
   ]
  },
  {
   "cell_type": "code",
   "execution_count": 9,
   "metadata": {},
   "outputs": [],
   "source": [
    "df['cc'] = df['cc'].astype(np.int8)\n",
    "\n",
    "df = df.dropna()"
   ]
  },
  {
   "cell_type": "code",
   "execution_count": 20,
   "metadata": {},
   "outputs": [
    {
     "data": {
      "image/png": "[encoded data removed]",
      "text/plain": [
       "<Figure size 432x288 with 1 Axes>"
      ]
     },
     "metadata": {
      "needs_background": "light"
     },
     "output_type": "display_data"
    }
   ],
   "source": [
    "plt.rcParams['patch.linewidth'] = 0\n",
    "sns.histplot(df.loc[df['cc'] == 0, 'dist'], label='$l_{ij}=0$', color='#808080', stat='density', log_scale=True, kde=True, line_kws={'linewidth': 3}, bins=100, common_bins=True)\n",
    "sns.histplot(df.loc[df['cc'] == 1, 'dist'], label='$l_{ij}=1$', color='#282828', stat='density', log_scale=True, kde=True, line_kws={'linewidth': 3}, bins=100, common_bins=True)\n",
    "plt.legend(loc=1, prop={'size' : 14}, frameon=False)#, bbox_to_anchor=(1.03, 1.4))\n",
    "plt.title('Homing pigeons')\n",
    "plt.xlabel('Distance', fontsize=18)\n",
    "plt.ylabel('Density', fontsize=18)\n",
    "\n",
    "plt.savefig('/Users/vivekhsridhar/Library/Mobile Documents/com~apple~CloudDocs/Documents/Code/DirectionalCorrelation/Figures/pigeons/angle30_time5/distances_pigeons.png', format='png', dpi=600, bbox_inches=\"tight\")"
   ]
  },
  {
   "cell_type": "code",
   "execution_count": null,
   "metadata": {},
   "outputs": [],
   "source": [
    "scaler = RobustScaler()\n",
    "scaled = scaler.fit_transform(df[['ang_pos', 'dist', 'speed_diff', 'acc_diff', 'speed', 'acceleration']].values)\n",
    "\n",
    "cols = ['ang_pos', 'dist', 'speed_diff', 'acc_diff', 'speed', 'acceleration']\n",
    "df = df.drop(cols, axis=1)\n",
    "\n",
    "for idx, col in enumerate(['ang_pos_scaled', 'dist_scaled', 'speed_diff_scaled', 'acc_diff_scaled', 'speed_scaled', 'acceleration_scaled']):\n",
    "    df[col] = scaled[:, idx]\n",
    "    \n",
    "df.head()"
   ]
  },
  {
   "cell_type": "markdown",
   "metadata": {},
   "source": [
    "### Run a bayesian model to predict leadership"
   ]
  },
  {
   "cell_type": "code",
   "execution_count": null,
   "metadata": {},
   "outputs": [],
   "source": [
    "bayes_df0 = df[df['cc'] == 0].sample(n = bayes_sample//2)\n",
    "bayes_df1 = df[df['cc'] == 1].sample(n = bayes_sample//2)\n",
    "bayes_df = pd.concat((bayes_df0, bayes_df1), axis=0)\n",
    "bayes_df = bayes_df.sample(frac=1).reset_index(drop=True)\n",
    "\n",
    "del bayes_df0\n",
    "del bayes_df1"
   ]
  },
  {
   "cell_type": "code",
   "execution_count": null,
   "metadata": {},
   "outputs": [],
   "source": [
    "# Save the dataframe\n",
    "bayes_df.to_csv('/Users/vivekhsridhar/Library/Mobile Documents/com~apple~CloudDocs/Documents/Code/DirectionalCorrelation/Data/Output/pigeons/' + thresh_folder + 'bayes_df_s' + scale + '.csv', mode='w')"
   ]
  },
  {
   "cell_type": "markdown",
   "metadata": {},
   "source": [
    "#### a) from a neural representation"
   ]
  },
  {
   "cell_type": "code",
   "execution_count": null,
   "metadata": {},
   "outputs": [],
   "source": [
    "mod = \"\"\"\n",
    "data {\n",
    "    int<lower=0> n;\n",
    "    int cc[n];\n",
    "    real dist[n];\n",
    "    real apos[n];\n",
    "}\n",
    "transformed data {}\n",
    "parameters {\n",
    "    real a;\n",
    "    real b;\n",
    "    real c;\n",
    "}\n",
    "transformed parameters {}\n",
    "model {\n",
    "    a ~ normal(0, 10);\n",
    "    b ~ normal(0, 10);\n",
    "    c ~ normal(0, 10);\n",
    "    \n",
    "    for(i in 1:n) {\n",
    "        cc[i] ~ bernoulli(inv_logit(a + b*dist[i] + c*apos[i]));\n",
    "    }\n",
    "}\n",
    "generated quantities {\n",
    "    int cc_pred[n];\n",
    "    for(i in 1:n) {\n",
    "        cc_pred[i] = bernoulli_rng(inv_logit(a + b*dist[i] + c*apos[i]));\n",
    "    }\n",
    "}\n",
    "\"\"\"\n",
    "\n",
    "data = {\n",
    "        'n': len(bayes_df),\n",
    "        'cc': bayes_df.cc,\n",
    "        'dist': bayes_df.dist_scaled,\n",
    "        'apos': bayes_df.ang_pos_scaled,\n",
    "        }\n",
    "\n",
    "neural_model = pystan.StanModel(model_code=mod, model_name='scale_' + scale)\n",
    "# dd.io.save('Data/Output/pigeons/' + str(n_inds) + '_birds/nmod_s' + scale + '.h5', neural_model)"
   ]
  },
  {
   "cell_type": "code",
   "execution_count": null,
   "metadata": {},
   "outputs": [],
   "source": [
    "neural_fit = neural_model.sampling(data=data, chains=4, iter=2000, control = dict(max_treedepth=15))\n",
    "# dd.io.save('Data/Output/pigeons/' + str(n_inds) + '_birds/nfit_s' + scale + '.h5', neural_fit)"
   ]
  },
  {
   "cell_type": "code",
   "execution_count": null,
   "metadata": {
    "scrolled": true
   },
   "outputs": [],
   "source": [
    "acc_n = np.sum(neural_fit['cc_pred'] == np.array(bayes_df['cc']), axis=1) / len(bayes_df)\n",
    "print(np.quantile(acc_n, 0.025), np.median(acc_n), np.quantile(acc_n, 0.975))\n",
    "\n",
    "ax = sns.distplot(acc_n, hist=True, kde=True, color = '#0799b9', kde_kws={'linewidth': 4})\n",
    "plt.axvline(x=0.5, color='black', linestyle='dashed')"
   ]
  },
  {
   "cell_type": "markdown",
   "metadata": {},
   "source": [
    "#### b) from kinematics"
   ]
  },
  {
   "cell_type": "code",
   "execution_count": null,
   "metadata": {},
   "outputs": [],
   "source": [
    "mod = \"\"\"\n",
    "data {\n",
    "    int<lower=0> n;\n",
    "    int cc[n];\n",
    "    real speed[n];\n",
    "    real acc[n];\n",
    "    real sdiff[n];\n",
    "    real adiff[n];\n",
    "}\n",
    "transformed data {}\n",
    "parameters {\n",
    "    real a;\n",
    "    real b;\n",
    "    real c;\n",
    "    real d;\n",
    "    real e;\n",
    "}\n",
    "transformed parameters {}\n",
    "model {\n",
    "    a ~ normal(0, 10);\n",
    "    b ~ normal(0, 10);\n",
    "    c ~ normal(0, 10);\n",
    "    d ~ normal(0, 10);\n",
    "    e ~ normal(0, 10);\n",
    "    \n",
    "    for(i in 1:n) {\n",
    "        cc[i] ~ bernoulli(inv_logit(a + b*speed[i] + c*acc[i] + d*sdiff[i] + e*adiff[i]));\n",
    "    }\n",
    "}\n",
    "generated quantities {\n",
    "    int cc_pred[n];\n",
    "    for(i in 1:n) {\n",
    "        cc_pred[i] = bernoulli_rng(inv_logit(a + b*speed[i] + c*acc[i] + d*sdiff[i] + e*adiff[i]));\n",
    "    }\n",
    "}\n",
    "\"\"\"\n",
    "\n",
    "data = {\n",
    "        'n': len(bayes_df),\n",
    "        'cc': bayes_df.cc,\n",
    "        'speed': bayes_df.speed_scaled,\n",
    "        'acc': bayes_df.acceleration_scaled,\n",
    "        'sdiff': bayes_df.speed_diff_scaled,\n",
    "        'adiff': bayes_df.acc_diff_scaled,\n",
    "        }\n",
    "\n",
    "k_model = pystan.StanModel(model_code=mod, model_name='scale_' + scale)\n",
    "# dd.io.save('Data/Output/pigeons/' + str(n_inds) + '_birds/kmod_s' + scale + '.h5', k_model)"
   ]
  },
  {
   "cell_type": "code",
   "execution_count": null,
   "metadata": {},
   "outputs": [],
   "source": [
    "k_fit = k_model.sampling(data=data, chains=4, iter=2000, control = dict(max_treedepth=15))\n",
    "# dd.io.save('Data/Output/pigeons/' + str(n_inds) + '_birds/kfit_s' + scale + '.h5', k_fit)"
   ]
  },
  {
   "cell_type": "code",
   "execution_count": null,
   "metadata": {},
   "outputs": [],
   "source": [
    "acc_k = np.sum(k_fit['cc_pred'] == np.array(bayes_df['cc']), axis=1) / len(bayes_df)\n",
    "print(np.quantile(acc_k, 0.025), np.median(acc_k), np.quantile(acc_k, 0.975))\n",
    "\n",
    "sns.distplot(acc_k, hist=True, kde=True, color = '#ff0000', kde_kws={'linewidth': 4})\n",
    "plt.axvline(x=0.5, color='black', linestyle='dashed')"
   ]
  },
  {
   "cell_type": "markdown",
   "metadata": {},
   "source": [
    "#### c) from a neural representation + kinematics"
   ]
  },
  {
   "cell_type": "code",
   "execution_count": null,
   "metadata": {},
   "outputs": [],
   "source": [
    "mod = \"\"\"\n",
    "data {\n",
    "    int<lower=0> n;\n",
    "    int cc[n];\n",
    "    real dist[n];\n",
    "    real apos[n];\n",
    "    real speed_med[n];\n",
    "    real acc_med[n];\n",
    "    real sdiff_med[n];\n",
    "    real adiff_med[n];\n",
    "}\n",
    "transformed data {}\n",
    "parameters {\n",
    "    real a;\n",
    "    real b;\n",
    "    real c;\n",
    "    real d;\n",
    "    real e;\n",
    "    real f;\n",
    "    real g;\n",
    "}\n",
    "transformed parameters {}\n",
    "model {\n",
    "    a ~ normal(0, 10);\n",
    "    b ~ normal(0, 10);\n",
    "    c ~ normal(0, 10);\n",
    "    d ~ normal(0, 10);\n",
    "    e ~ normal(0, 10);\n",
    "    f ~ normal(0, 10);\n",
    "    g ~ normal(0, 10);\n",
    "    \n",
    "    for(i in 1:n) {\n",
    "        cc[i] ~ bernoulli(inv_logit(a + b*dist[i] + c*apos[i] + d*speed_med[i] + e*acc_med[i] + f*sdiff_med[i] + g*adiff_med[i]));\n",
    "    }\n",
    "}\n",
    "generated quantities {\n",
    "    int cc_pred[n];\n",
    "    for(i in 1:n) {\n",
    "        cc_pred[i] = bernoulli_rng(inv_logit(a + b*dist[i] + c*apos[i]  + d*speed_med[i] + e*acc_med[i] + f*sdiff_med[i] + g*adiff_med[i]));\n",
    "    }\n",
    "}\n",
    "\"\"\"\n",
    "\n",
    "data = {\n",
    "        'n': len(bayes_df),\n",
    "        'cc': bayes_df.cc,\n",
    "        'dist': bayes_df.dist_scaled,\n",
    "        'apos': bayes_df.ang_pos_scaled,\n",
    "        'speed_med': bayes_df.speed_scaled,\n",
    "        'acc_med': bayes_df.acceleration_scaled,\n",
    "        'sdiff_med': bayes_df.speed_diff_scaled,\n",
    "        'adiff_med': bayes_df.acc_diff_scaled,\n",
    "        }\n",
    "\n",
    "nk_model = pystan.StanModel(model_code=mod, model_name='scale_' + scale)\n",
    "# dd.io.save('Data/Output/pigeons/' + str(n_inds) + '_birds/nkmod_s' + scale + '.h5', nk_model)"
   ]
  },
  {
   "cell_type": "code",
   "execution_count": null,
   "metadata": {
    "scrolled": true
   },
   "outputs": [],
   "source": [
    "nk_fit = nk_model.sampling(data=data, chains=4, iter=2000, control = dict(max_treedepth=15))\n",
    "# dd.io.save('Data/Output/pigeons/' + str(n_inds) + '_birds/nkfit_s' + scale + '.h5', nk_fit)"
   ]
  },
  {
   "cell_type": "code",
   "execution_count": null,
   "metadata": {},
   "outputs": [],
   "source": [
    "acc_nk = np.sum(nk_fit['cc_pred'] == np.array(bayes_df['cc']), axis=1) / len(bayes_df)\n",
    "print(np.quantile(acc_nk, 0.025), np.median(acc_nk), np.quantile(acc_nk, 0.975))\n",
    "\n",
    "sns.distplot(acc_nk, hist=True, kde=True, color = '#800080', kde_kws={'linewidth': 4})\n",
    "plt.axvline(x=0.5, color='black', linestyle='dashed')"
   ]
  },
  {
   "cell_type": "markdown",
   "metadata": {},
   "source": [
    "### Accuracies over all models"
   ]
  },
  {
   "cell_type": "code",
   "execution_count": null,
   "metadata": {},
   "outputs": [],
   "source": [
    "sns.distplot(acc_n, label='relative position (M1)', color='#0799b9', hist=True, kde=True, kde_kws={'linewidth': 1})\n",
    "sns.distplot(acc_k, label='kinematics (M2)', color='#ff0000', hist=True, kde=True, kde_kws={'linewidth': 1})\n",
    "sns.distplot(acc_nk, label='M1+M2', color='#800080', hist=True, kde=True, kde_kws={'linewidth': 1})\n",
    "\n",
    "plt.axvline(x=0.5, color='black', linestyle='dashed')\n",
    "# plt.legend(loc=1, prop={'size' : 14}, frameon=False) # bbox_to_anchor=(1.03, 1.4)\n",
    "plt.xticks(fontsize=12)\n",
    "plt.yticks(fontsize=12)\n",
    "plt.xlim(0.48,0.80)\n",
    "plt.yticks([0,20,40,60,80])\n",
    "plt.ylim(0,90)\n",
    "plt.savefig('/Users/vivekhsridhar/Library/Mobile Documents/com~apple~CloudDocs/Documents/Code/DirectionalCorrelation/Figures/pigeons/' + thresh_folder + 'accuracies_s' + scale + '_mod.png', format='png', dpi=600, bbox_inches=\"tight\")"
   ]
  },
  {
   "cell_type": "code",
   "execution_count": null,
   "metadata": {},
   "outputs": [],
   "source": []
  }
 ],
 "metadata": {
  "kernelspec": {
   "display_name": "Python 3 (ipykernel)",
   "language": "python",
   "name": "python3"
  },
  "language_info": {
   "codemirror_mode": {
    "name": "ipython",
    "version": 3
   },
   "file_extension": ".py",
   "mimetype": "text/x-python",
   "name": "python",
   "nbconvert_exporter": "python",
   "pygments_lexer": "ipython3",
   "version": "3.8.9"
  }
 },
 "nbformat": 4,
 "nbformat_minor": 2
}
