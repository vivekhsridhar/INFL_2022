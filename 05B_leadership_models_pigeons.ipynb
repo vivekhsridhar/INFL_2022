{
 "cells": [
  {
   "cell_type": "code",
   "execution_count": 1,
   "metadata": {},
   "outputs": [],
   "source": [
    "import numpy as np\n",
    "import deepdish as dd\n",
    "import pandas as pd\n",
    "import matplotlib.pyplot as plt\n",
    "import seaborn as sns\n",
    "import pystan\n",
    "import gc\n",
    "from sklearn.preprocessing import RobustScaler"
   ]
  },
  {
   "cell_type": "code",
   "execution_count": 2,
   "metadata": {},
   "outputs": [],
   "source": [
    "n_inds = 30\n",
    "bayes_sample = 5000\n",
    "\n",
    "fps = 10\n",
    "scale = \"07\"\n",
    "folders = ['ffABC1']"
   ]
  },
  {
   "cell_type": "code",
   "execution_count": 3,
   "metadata": {},
   "outputs": [],
   "source": [
    "for i,name in enumerate(folders):\n",
    "    tmp = pd.read_csv('/home/user/Documents/Vivek/cuda/DirectionalCorrelation/Data/Output/pigeons/' + str(n_inds) + '_birds/' + name + '/' + 'pairwise_' + scale + '.csv')\n",
    "    tmp2 = pd.read_csv('/home/user/Documents/Vivek/cuda/DirectionalCorrelation/Data/Output/pigeons/' + str(n_inds) + '_birds/' + name + '/' + 'individual_' + scale + '.csv')\n",
    "    tmp['vid_id'] = i\n",
    "    tmp2['vid_id'] = i\n",
    "    \n",
    "    pair_drops = ['Unnamed: 0', 'tau']\n",
    "    ind_drops = ['Unnamed: 0', 'rx', 'ry', 'lscore', 'lfinal']\n",
    "    tmp.drop(pair_drops, axis=1, inplace=True)\n",
    "    tmp2.drop(ind_drops, axis=1, inplace=True)\n",
    "    \n",
    "    if i != 0:\n",
    "        pair1 = np.concatenate((pair1,tmp), axis=0)\n",
    "        ind1 = np.concatenate((ind1,tmp2), axis=0)\n",
    "    else:\n",
    "        pair1 = tmp\n",
    "        ind1 = tmp2\n",
    "        cols = list(tmp)\n",
    "        col_ind = list(tmp2)\n",
    "        \n",
    "pair1 = pd.DataFrame(pair1)\n",
    "pair1.columns = cols\n",
    "\n",
    "ind1 = pd.DataFrame(ind1)\n",
    "ind1.columns = col_ind"
   ]
  },
  {
   "cell_type": "code",
   "execution_count": 4,
   "metadata": {},
   "outputs": [],
   "source": [
    "n_inds = 10\n",
    "folders = ['ffA3', 'ffA4', 'ffB3', 'ffB4', 'ffC3', 'ffC4']"
   ]
  },
  {
   "cell_type": "code",
   "execution_count": 5,
   "metadata": {},
   "outputs": [],
   "source": [
    "for i,name in enumerate(folders):\n",
    "    tmp = pd.read_csv('/home/user/Documents/Vivek/cuda/DirectionalCorrelation/Data/Output/pigeons/' + str(n_inds) + '_birds/' + name + '/' + 'pairwise_' + scale + '.csv')\n",
    "    tmp2 = pd.read_csv('/home/user/Documents/Vivek/cuda/DirectionalCorrelation/Data/Output/pigeons/' + str(n_inds) + '_birds/' + name + '/' + 'individual_' + scale + '.csv')\n",
    "    tmp['vid_id'] = i+1\n",
    "    tmp2['vid_id'] = i+1\n",
    "    \n",
    "    pair_drops = ['Unnamed: 0', 'tau']\n",
    "    ind_drops = ['Unnamed: 0', 'rx', 'ry', 'lscore', 'lfinal']\n",
    "    tmp.drop(pair_drops, axis=1, inplace=True)\n",
    "    tmp2.drop(ind_drops, axis=1, inplace=True)\n",
    "    \n",
    "    if i != 0:\n",
    "        pair2 = np.concatenate((pair2,tmp), axis=0)\n",
    "        ind2 = np.concatenate((ind2,tmp2), axis=0)\n",
    "    else:\n",
    "        pair2 = tmp\n",
    "        ind2 = tmp2\n",
    "        cols = list(tmp)\n",
    "        col_ind = list(tmp2)\n",
    "        \n",
    "pair2 = pd.DataFrame(pair2)\n",
    "pair2.columns = cols\n",
    "\n",
    "ind2 = pd.DataFrame(ind2)\n",
    "ind2.columns = col_ind"
   ]
  },
  {
   "cell_type": "code",
   "execution_count": 6,
   "metadata": {
    "scrolled": false
   },
   "outputs": [],
   "source": [
    "pairs = pd.concat([pair1,pair2], axis=0, sort=True)\n",
    "inds = pd.concat([ind1,ind2], axis=0, sort=True)"
   ]
  },
  {
   "cell_type": "code",
   "execution_count": 7,
   "metadata": {},
   "outputs": [
    {
     "data": {
      "text/plain": [
       "110"
      ]
     },
     "execution_count": 7,
     "metadata": {},
     "output_type": "execute_result"
    }
   ],
   "source": [
    "del tmp\n",
    "del tmp2\n",
    "del pair1\n",
    "del pair2\n",
    "del ind1\n",
    "del ind2\n",
    "\n",
    "gc.collect()"
   ]
  },
  {
   "cell_type": "code",
   "execution_count": 8,
   "metadata": {},
   "outputs": [
    {
     "data": {
      "text/plain": [
       "35"
      ]
     },
     "execution_count": 8,
     "metadata": {},
     "output_type": "execute_result"
    }
   ],
   "source": [
    "df = pd.merge(pairs, inds)\n",
    "\n",
    "del pairs\n",
    "del inds\n",
    "\n",
    "gc.collect()"
   ]
  },
  {
   "cell_type": "code",
   "execution_count": 9,
   "metadata": {},
   "outputs": [
    {
     "data": {
      "text/html": [
       "<div>\n",
       "<style scoped>\n",
       "    .dataframe tbody tr th:only-of-type {\n",
       "        vertical-align: middle;\n",
       "    }\n",
       "\n",
       "    .dataframe tbody tr th {\n",
       "        vertical-align: top;\n",
       "    }\n",
       "\n",
       "    .dataframe thead th {\n",
       "        text-align: right;\n",
       "    }\n",
       "</style>\n",
       "<table border=\"1\" class=\"dataframe\">\n",
       "  <thead>\n",
       "    <tr style=\"text-align: right;\">\n",
       "      <th></th>\n",
       "      <th>#t(centisec)</th>\n",
       "      <th>cc</th>\n",
       "      <th>f_id</th>\n",
       "      <th>n_id</th>\n",
       "      <th>vid_id</th>\n",
       "      <th>dev_gacc</th>\n",
       "      <th>dev_gspeed</th>\n",
       "      <th>ang_pos_scaled</th>\n",
       "      <th>dist_scaled</th>\n",
       "      <th>speed_diff_scaled</th>\n",
       "      <th>acc_diff_scaled</th>\n",
       "      <th>speed_scaled</th>\n",
       "      <th>acceleration_scaled</th>\n",
       "    </tr>\n",
       "  </thead>\n",
       "  <tbody>\n",
       "    <tr>\n",
       "      <th>0</th>\n",
       "      <td>35.0</td>\n",
       "      <td>0.0</td>\n",
       "      <td>0.0</td>\n",
       "      <td>1.0</td>\n",
       "      <td>0.0</td>\n",
       "      <td>0.822576</td>\n",
       "      <td>-0.466144</td>\n",
       "      <td>-0.085426</td>\n",
       "      <td>0.504605</td>\n",
       "      <td>1.738051</td>\n",
       "      <td>-0.476137</td>\n",
       "      <td>-0.005515</td>\n",
       "      <td>0.526142</td>\n",
       "    </tr>\n",
       "    <tr>\n",
       "      <th>1</th>\n",
       "      <td>35.0</td>\n",
       "      <td>0.0</td>\n",
       "      <td>0.0</td>\n",
       "      <td>2.0</td>\n",
       "      <td>0.0</td>\n",
       "      <td>0.822576</td>\n",
       "      <td>-0.466144</td>\n",
       "      <td>-0.712271</td>\n",
       "      <td>0.263719</td>\n",
       "      <td>0.834195</td>\n",
       "      <td>-0.550252</td>\n",
       "      <td>-0.005515</td>\n",
       "      <td>0.526142</td>\n",
       "    </tr>\n",
       "    <tr>\n",
       "      <th>2</th>\n",
       "      <td>35.0</td>\n",
       "      <td>1.0</td>\n",
       "      <td>0.0</td>\n",
       "      <td>3.0</td>\n",
       "      <td>0.0</td>\n",
       "      <td>0.822576</td>\n",
       "      <td>-0.466144</td>\n",
       "      <td>-0.473042</td>\n",
       "      <td>1.151804</td>\n",
       "      <td>2.550128</td>\n",
       "      <td>-0.043349</td>\n",
       "      <td>-0.005515</td>\n",
       "      <td>0.526142</td>\n",
       "    </tr>\n",
       "    <tr>\n",
       "      <th>3</th>\n",
       "      <td>35.0</td>\n",
       "      <td>0.0</td>\n",
       "      <td>0.0</td>\n",
       "      <td>4.0</td>\n",
       "      <td>0.0</td>\n",
       "      <td>0.822576</td>\n",
       "      <td>-0.466144</td>\n",
       "      <td>-0.474788</td>\n",
       "      <td>0.937747</td>\n",
       "      <td>0.808754</td>\n",
       "      <td>0.250558</td>\n",
       "      <td>-0.005515</td>\n",
       "      <td>0.526142</td>\n",
       "    </tr>\n",
       "    <tr>\n",
       "      <th>4</th>\n",
       "      <td>35.0</td>\n",
       "      <td>0.0</td>\n",
       "      <td>0.0</td>\n",
       "      <td>5.0</td>\n",
       "      <td>0.0</td>\n",
       "      <td>0.822576</td>\n",
       "      <td>-0.466144</td>\n",
       "      <td>-0.825394</td>\n",
       "      <td>-0.206240</td>\n",
       "      <td>0.051655</td>\n",
       "      <td>-1.666547</td>\n",
       "      <td>-0.005515</td>\n",
       "      <td>0.526142</td>\n",
       "    </tr>\n",
       "  </tbody>\n",
       "</table>\n",
       "</div>"
      ],
      "text/plain": [
       "   #t(centisec)   cc  f_id  n_id  vid_id  dev_gacc  dev_gspeed  \\\n",
       "0          35.0  0.0   0.0   1.0     0.0  0.822576   -0.466144   \n",
       "1          35.0  0.0   0.0   2.0     0.0  0.822576   -0.466144   \n",
       "2          35.0  1.0   0.0   3.0     0.0  0.822576   -0.466144   \n",
       "3          35.0  0.0   0.0   4.0     0.0  0.822576   -0.466144   \n",
       "4          35.0  0.0   0.0   5.0     0.0  0.822576   -0.466144   \n",
       "\n",
       "   ang_pos_scaled  dist_scaled  speed_diff_scaled  acc_diff_scaled  \\\n",
       "0       -0.085426     0.504605           1.738051        -0.476137   \n",
       "1       -0.712271     0.263719           0.834195        -0.550252   \n",
       "2       -0.473042     1.151804           2.550128        -0.043349   \n",
       "3       -0.474788     0.937747           0.808754         0.250558   \n",
       "4       -0.825394    -0.206240           0.051655        -1.666547   \n",
       "\n",
       "   speed_scaled  acceleration_scaled  \n",
       "0     -0.005515             0.526142  \n",
       "1     -0.005515             0.526142  \n",
       "2     -0.005515             0.526142  \n",
       "3     -0.005515             0.526142  \n",
       "4     -0.005515             0.526142  "
      ]
     },
     "execution_count": 9,
     "metadata": {},
     "output_type": "execute_result"
    }
   ],
   "source": [
    "scaler = RobustScaler()\n",
    "scaled = scaler.fit_transform(df[['ang_pos', 'dist', 'speed_diff', 'acc_diff', 'speed', 'acceleration']].values)\n",
    "\n",
    "cols = ['ang_pos', 'dist', 'speed_diff', 'acc_diff', 'speed', 'acceleration']\n",
    "df = df.drop(cols, axis=1)\n",
    "\n",
    "for idx, col in enumerate(['ang_pos_scaled', 'dist_scaled', 'speed_diff_scaled', 'acc_diff_scaled', 'speed_scaled', 'acceleration_scaled']):\n",
    "    df[col] = scaled[:, idx]\n",
    "    \n",
    "df.head()"
   ]
  },
  {
   "cell_type": "code",
   "execution_count": 10,
   "metadata": {},
   "outputs": [],
   "source": [
    "df['cc'] = df['cc'].astype(np.int8)\n",
    "\n",
    "df = df.dropna()"
   ]
  },
  {
   "cell_type": "markdown",
   "metadata": {},
   "source": [
    "### Run a bayesian model to predict leadership"
   ]
  },
  {
   "cell_type": "code",
   "execution_count": 11,
   "metadata": {},
   "outputs": [],
   "source": [
    "bayes_df0 = df[df['cc'] == 0].sample(n = bayes_sample//2)\n",
    "bayes_df1 = df[df['cc'] == 1].sample(n = bayes_sample//2)\n",
    "bayes_df = pd.concat((bayes_df0, bayes_df1), axis=0)\n",
    "bayes_df = bayes_df.sample(frac=1).reset_index(drop=True)\n",
    "\n",
    "del bayes_df0\n",
    "del bayes_df1"
   ]
  },
  {
   "cell_type": "code",
   "execution_count": 12,
   "metadata": {},
   "outputs": [],
   "source": [
    "# Save the dataframe\n",
    "bayes_df.to_csv('/home/user/Documents/Vivek/cuda/DirectionalCorrelation/Data/Output/pigeons/bayes_df_s' + scale + '.csv', mode='w')"
   ]
  },
  {
   "cell_type": "markdown",
   "metadata": {},
   "source": [
    "#### a) from a neural representation"
   ]
  },
  {
   "cell_type": "code",
   "execution_count": 12,
   "metadata": {},
   "outputs": [
    {
     "name": "stderr",
     "output_type": "stream",
     "text": [
      "INFO:pystan:COMPILING THE C++ CODE FOR MODEL scale_07_8252edb6095465b836890d0a76837b20 NOW.\n"
     ]
    }
   ],
   "source": [
    "mod = \"\"\"\n",
    "data {\n",
    "    int<lower=0> n;\n",
    "    int cc[n];\n",
    "    real dist[n];\n",
    "    real apos[n];\n",
    "}\n",
    "transformed data {}\n",
    "parameters {\n",
    "    real a;\n",
    "    real b;\n",
    "    real c;\n",
    "}\n",
    "transformed parameters {}\n",
    "model {\n",
    "    a ~ normal(0, 10);\n",
    "    b ~ normal(0, 10);\n",
    "    c ~ normal(0, 10);\n",
    "    \n",
    "    for(i in 1:n) {\n",
    "        cc[i] ~ bernoulli(inv_logit(a + b*dist[i] + c*apos[i]));\n",
    "    }\n",
    "}\n",
    "generated quantities {\n",
    "    int cc_pred[n];\n",
    "    for(i in 1:n) {\n",
    "        cc_pred[i] = bernoulli_rng(inv_logit(a + b*dist[i] + c*apos[i]));\n",
    "    }\n",
    "}\n",
    "\"\"\"\n",
    "\n",
    "data = {\n",
    "        'n': len(bayes_df),\n",
    "        'cc': bayes_df.cc,\n",
    "        'dist': bayes_df.dist_scaled,\n",
    "        'apos': bayes_df.ang_pos_scaled,\n",
    "        }\n",
    "\n",
    "neural_model = pystan.StanModel(model_code=mod, model_name='scale_' + scale)\n",
    "# dd.io.save('Data/Output/pigeons/' + str(n_inds) + '_birds/nmod_s' + scale + '.h5', neural_model)"
   ]
  },
  {
   "cell_type": "code",
   "execution_count": 13,
   "metadata": {},
   "outputs": [],
   "source": [
    "neural_fit = neural_model.sampling(data=data, chains=4, iter=2000, control = dict(max_treedepth=15))\n",
    "# dd.io.save('Data/Output/pigeons/' + str(n_inds) + '_birds/nfit_s' + scale + '.h5', neural_fit)"
   ]
  },
  {
   "cell_type": "code",
   "execution_count": 14,
   "metadata": {
    "scrolled": true
   },
   "outputs": [
    {
     "name": "stdout",
     "output_type": "stream",
     "text": [
      "0.523 0.5366 0.5502\n"
     ]
    },
    {
     "data": {
      "text/plain": [
       "<matplotlib.lines.Line2D at 0x7fddb14e5a58>"
      ]
     },
     "execution_count": 14,
     "metadata": {},
     "output_type": "execute_result"
    },
    {
     "data": {
      "image/png": "[encoded data removed]",
      "text/plain": [
       "<Figure size 432x288 with 1 Axes>"
      ]
     },
     "metadata": {},
     "output_type": "display_data"
    }
   ],
   "source": [
    "acc_n = np.sum(neural_fit['cc_pred'] == np.array(bayes_df['cc']), axis=1) / len(bayes_df)\n",
    "print(np.quantile(acc_n, 0.025), np.median(acc_n), np.quantile(acc_n, 0.975))\n",
    "\n",
    "ax = sns.distplot(acc_n, hist=True, kde=True, color = '#0799b9', kde_kws={'linewidth': 4})\n",
    "plt.axvline(x=0.5, color='black', linestyle='dashed')"
   ]
  },
  {
   "cell_type": "markdown",
   "metadata": {},
   "source": [
    "#### b) from kinematics"
   ]
  },
  {
   "cell_type": "code",
   "execution_count": 15,
   "metadata": {},
   "outputs": [
    {
     "name": "stderr",
     "output_type": "stream",
     "text": [
      "INFO:pystan:COMPILING THE C++ CODE FOR MODEL scale_07_4bce8efd1e6da14169ef2ea58b606909 NOW.\n"
     ]
    }
   ],
   "source": [
    "mod = \"\"\"\n",
    "data {\n",
    "    int<lower=0> n;\n",
    "    int cc[n];\n",
    "    real speed[n];\n",
    "    real acc[n];\n",
    "    real sdiff[n];\n",
    "    real adiff[n];\n",
    "}\n",
    "transformed data {}\n",
    "parameters {\n",
    "    real a;\n",
    "    real b;\n",
    "    real c;\n",
    "    real d;\n",
    "    real e;\n",
    "}\n",
    "transformed parameters {}\n",
    "model {\n",
    "    a ~ normal(0, 10);\n",
    "    b ~ normal(0, 10);\n",
    "    c ~ normal(0, 10);\n",
    "    d ~ normal(0, 10);\n",
    "    e ~ normal(0, 10);\n",
    "    \n",
    "    for(i in 1:n) {\n",
    "        cc[i] ~ bernoulli(inv_logit(a + b*speed[i] + c*acc[i] + d*sdiff[i] + e*adiff[i]));\n",
    "    }\n",
    "}\n",
    "generated quantities {\n",
    "    int cc_pred[n];\n",
    "    for(i in 1:n) {\n",
    "        cc_pred[i] = bernoulli_rng(inv_logit(a + b*speed[i] + c*acc[i] + d*sdiff[i] + e*adiff[i]));\n",
    "    }\n",
    "}\n",
    "\"\"\"\n",
    "\n",
    "data = {\n",
    "        'n': len(bayes_df),\n",
    "        'cc': bayes_df.cc,\n",
    "        'speed': bayes_df.speed_scaled,\n",
    "        'acc': bayes_df.acceleration_scaled,\n",
    "        'sdiff': bayes_df.speed_diff_scaled,\n",
    "        'adiff': bayes_df.acc_diff_scaled,\n",
    "        }\n",
    "\n",
    "k_model = pystan.StanModel(model_code=mod, model_name='scale_' + scale)\n",
    "# dd.io.save('Data/Output/pigeons/' + str(n_inds) + '_birds/kmod_s' + scale + '.h5', k_model)"
   ]
  },
  {
   "cell_type": "code",
   "execution_count": 16,
   "metadata": {},
   "outputs": [],
   "source": [
    "k_fit = k_model.sampling(data=data, chains=4, iter=2000, control = dict(max_treedepth=15))\n",
    "# dd.io.save('Data/Output/pigeons/' + str(n_inds) + '_birds/kfit_s' + scale + '.h5', k_fit)"
   ]
  },
  {
   "cell_type": "code",
   "execution_count": 18,
   "metadata": {},
   "outputs": [
    {
     "name": "stdout",
     "output_type": "stream",
     "text": [
      "0.5016 0.516 0.5298\n"
     ]
    },
    {
     "data": {
      "text/plain": [
       "<matplotlib.lines.Line2D at 0x7fddcd81f978>"
      ]
     },
     "execution_count": 18,
     "metadata": {},
     "output_type": "execute_result"
    },
    {
     "data": {
      "image/png": "[encoded data removed]",
      "text/plain": [
       "<Figure size 432x288 with 1 Axes>"
      ]
     },
     "metadata": {},
     "output_type": "display_data"
    }
   ],
   "source": [
    "acc_k = np.sum(k_fit['cc_pred'] == np.array(bayes_df['cc']), axis=1) / len(bayes_df)\n",
    "print(np.quantile(acc_k, 0.025), np.median(acc_k), np.quantile(acc_k, 0.975))\n",
    "\n",
    "sns.distplot(acc_k, hist=True, kde=True, color = '#ff0000', kde_kws={'linewidth': 4})\n",
    "plt.axvline(x=0.5, color='black', linestyle='dashed')"
   ]
  },
  {
   "cell_type": "markdown",
   "metadata": {},
   "source": [
    "#### c) from a neural representation + kinematics"
   ]
  },
  {
   "cell_type": "code",
   "execution_count": 19,
   "metadata": {},
   "outputs": [
    {
     "name": "stderr",
     "output_type": "stream",
     "text": [
      "INFO:pystan:COMPILING THE C++ CODE FOR MODEL scale_07_4f8cfce39ff1ae96ff5d86dc84f3f976 NOW.\n"
     ]
    },
    {
     "ename": "KeyboardInterrupt",
     "evalue": "",
     "output_type": "error",
     "traceback": [
      "\u001b[0;31m---------------------------------------------------------------------------\u001b[0m",
      "\u001b[0;31mKeyboardInterrupt\u001b[0m                         Traceback (most recent call last)",
      "\u001b[0;32m<ipython-input-19-c25433c17e46>\u001b[0m in \u001b[0;36m<module>\u001b[0;34m\u001b[0m\n\u001b[1;32m     53\u001b[0m         }\n\u001b[1;32m     54\u001b[0m \u001b[0;34m\u001b[0m\u001b[0m\n\u001b[0;32m---> 55\u001b[0;31m \u001b[0mnk_model\u001b[0m \u001b[0;34m=\u001b[0m \u001b[0mpystan\u001b[0m\u001b[0;34m.\u001b[0m\u001b[0mStanModel\u001b[0m\u001b[0;34m(\u001b[0m\u001b[0mmodel_code\u001b[0m\u001b[0;34m=\u001b[0m\u001b[0mmod\u001b[0m\u001b[0;34m,\u001b[0m \u001b[0mmodel_name\u001b[0m\u001b[0;34m=\u001b[0m\u001b[0;34m'scale_'\u001b[0m \u001b[0;34m+\u001b[0m \u001b[0mscale\u001b[0m\u001b[0;34m)\u001b[0m\u001b[0;34m\u001b[0m\u001b[0m\n\u001b[0m\u001b[1;32m     56\u001b[0m \u001b[0;31m# dd.io.save('Data/Output/pigeons/' + str(n_inds) + '_birds/nkmod_s' + scale + '.h5', nk_model)\u001b[0m\u001b[0;34m\u001b[0m\u001b[0;34m\u001b[0m\u001b[0m\n",
      "\u001b[0;32m~/.local/lib/python3.6/site-packages/pystan/model.py\u001b[0m in \u001b[0;36m__init__\u001b[0;34m(self, file, charset, model_name, model_code, stanc_ret, include_paths, boost_lib, eigen_lib, verbose, obfuscate_model_name, extra_compile_args)\u001b[0m\n\u001b[1;32m    348\u001b[0m \u001b[0;34m\u001b[0m\u001b[0m\n\u001b[1;32m    349\u001b[0m         \u001b[0;32mtry\u001b[0m\u001b[0;34m:\u001b[0m\u001b[0;34m\u001b[0m\u001b[0m\n\u001b[0;32m--> 350\u001b[0;31m             \u001b[0mbuild_extension\u001b[0m\u001b[0;34m.\u001b[0m\u001b[0mrun\u001b[0m\u001b[0;34m(\u001b[0m\u001b[0;34m)\u001b[0m\u001b[0;34m\u001b[0m\u001b[0m\n\u001b[0m\u001b[1;32m    351\u001b[0m         \u001b[0;32mfinally\u001b[0m\u001b[0;34m:\u001b[0m\u001b[0;34m\u001b[0m\u001b[0m\n\u001b[1;32m    352\u001b[0m             \u001b[0;32mif\u001b[0m \u001b[0mredirect_stderr\u001b[0m\u001b[0;34m:\u001b[0m\u001b[0;34m\u001b[0m\u001b[0m\n",
      "\u001b[0;32m/usr/lib/python3.6/distutils/command/build_ext.py\u001b[0m in \u001b[0;36mrun\u001b[0;34m(self)\u001b[0m\n\u001b[1;32m    337\u001b[0m \u001b[0;34m\u001b[0m\u001b[0m\n\u001b[1;32m    338\u001b[0m         \u001b[0;31m# Now actually compile and link everything.\u001b[0m\u001b[0;34m\u001b[0m\u001b[0;34m\u001b[0m\u001b[0m\n\u001b[0;32m--> 339\u001b[0;31m         \u001b[0mself\u001b[0m\u001b[0;34m.\u001b[0m\u001b[0mbuild_extensions\u001b[0m\u001b[0;34m(\u001b[0m\u001b[0;34m)\u001b[0m\u001b[0;34m\u001b[0m\u001b[0m\n\u001b[0m\u001b[1;32m    340\u001b[0m \u001b[0;34m\u001b[0m\u001b[0m\n\u001b[1;32m    341\u001b[0m     \u001b[0;32mdef\u001b[0m \u001b[0mcheck_extensions_list\u001b[0m\u001b[0;34m(\u001b[0m\u001b[0mself\u001b[0m\u001b[0;34m,\u001b[0m \u001b[0mextensions\u001b[0m\u001b[0;34m)\u001b[0m\u001b[0;34m:\u001b[0m\u001b[0;34m\u001b[0m\u001b[0m\n",
      "\u001b[0;32m/usr/lib/python3.6/distutils/command/build_ext.py\u001b[0m in \u001b[0;36mbuild_extensions\u001b[0;34m(self)\u001b[0m\n\u001b[1;32m    446\u001b[0m             \u001b[0mself\u001b[0m\u001b[0;34m.\u001b[0m\u001b[0m_build_extensions_parallel\u001b[0m\u001b[0;34m(\u001b[0m\u001b[0;34m)\u001b[0m\u001b[0;34m\u001b[0m\u001b[0m\n\u001b[1;32m    447\u001b[0m         \u001b[0;32melse\u001b[0m\u001b[0;34m:\u001b[0m\u001b[0;34m\u001b[0m\u001b[0m\n\u001b[0;32m--> 448\u001b[0;31m             \u001b[0mself\u001b[0m\u001b[0;34m.\u001b[0m\u001b[0m_build_extensions_serial\u001b[0m\u001b[0;34m(\u001b[0m\u001b[0;34m)\u001b[0m\u001b[0;34m\u001b[0m\u001b[0m\n\u001b[0m\u001b[1;32m    449\u001b[0m \u001b[0;34m\u001b[0m\u001b[0m\n\u001b[1;32m    450\u001b[0m     \u001b[0;32mdef\u001b[0m \u001b[0m_build_extensions_parallel\u001b[0m\u001b[0;34m(\u001b[0m\u001b[0mself\u001b[0m\u001b[0;34m)\u001b[0m\u001b[0;34m:\u001b[0m\u001b[0;34m\u001b[0m\u001b[0m\n",
      "\u001b[0;32m/usr/lib/python3.6/distutils/command/build_ext.py\u001b[0m in \u001b[0;36m_build_extensions_serial\u001b[0;34m(self)\u001b[0m\n\u001b[1;32m    471\u001b[0m         \u001b[0;32mfor\u001b[0m \u001b[0mext\u001b[0m \u001b[0;32min\u001b[0m \u001b[0mself\u001b[0m\u001b[0;34m.\u001b[0m\u001b[0mextensions\u001b[0m\u001b[0;34m:\u001b[0m\u001b[0;34m\u001b[0m\u001b[0m\n\u001b[1;32m    472\u001b[0m             \u001b[0;32mwith\u001b[0m \u001b[0mself\u001b[0m\u001b[0;34m.\u001b[0m\u001b[0m_filter_build_errors\u001b[0m\u001b[0;34m(\u001b[0m\u001b[0mext\u001b[0m\u001b[0;34m)\u001b[0m\u001b[0;34m:\u001b[0m\u001b[0;34m\u001b[0m\u001b[0m\n\u001b[0;32m--> 473\u001b[0;31m                 \u001b[0mself\u001b[0m\u001b[0;34m.\u001b[0m\u001b[0mbuild_extension\u001b[0m\u001b[0;34m(\u001b[0m\u001b[0mext\u001b[0m\u001b[0;34m)\u001b[0m\u001b[0;34m\u001b[0m\u001b[0m\n\u001b[0m\u001b[1;32m    474\u001b[0m \u001b[0;34m\u001b[0m\u001b[0m\n\u001b[1;32m    475\u001b[0m     \u001b[0;34m@\u001b[0m\u001b[0mcontextlib\u001b[0m\u001b[0;34m.\u001b[0m\u001b[0mcontextmanager\u001b[0m\u001b[0;34m\u001b[0m\u001b[0m\n",
      "\u001b[0;32m/usr/lib/python3.6/distutils/command/build_ext.py\u001b[0m in \u001b[0;36mbuild_extension\u001b[0;34m(self, ext)\u001b[0m\n\u001b[1;32m    531\u001b[0m                                          \u001b[0mdebug\u001b[0m\u001b[0;34m=\u001b[0m\u001b[0mself\u001b[0m\u001b[0;34m.\u001b[0m\u001b[0mdebug\u001b[0m\u001b[0;34m,\u001b[0m\u001b[0;34m\u001b[0m\u001b[0m\n\u001b[1;32m    532\u001b[0m                                          \u001b[0mextra_postargs\u001b[0m\u001b[0;34m=\u001b[0m\u001b[0mextra_args\u001b[0m\u001b[0;34m,\u001b[0m\u001b[0;34m\u001b[0m\u001b[0m\n\u001b[0;32m--> 533\u001b[0;31m                                          depends=ext.depends)\n\u001b[0m\u001b[1;32m    534\u001b[0m \u001b[0;34m\u001b[0m\u001b[0m\n\u001b[1;32m    535\u001b[0m         \u001b[0;31m# XXX outdated variable, kept here in case third-part code\u001b[0m\u001b[0;34m\u001b[0m\u001b[0;34m\u001b[0m\u001b[0m\n",
      "\u001b[0;32m/usr/lib/python3.6/distutils/ccompiler.py\u001b[0m in \u001b[0;36mcompile\u001b[0;34m(self, sources, output_dir, macros, include_dirs, debug, extra_preargs, extra_postargs, depends)\u001b[0m\n\u001b[1;32m    572\u001b[0m             \u001b[0;32mexcept\u001b[0m \u001b[0mKeyError\u001b[0m\u001b[0;34m:\u001b[0m\u001b[0;34m\u001b[0m\u001b[0m\n\u001b[1;32m    573\u001b[0m                 \u001b[0;32mcontinue\u001b[0m\u001b[0;34m\u001b[0m\u001b[0m\n\u001b[0;32m--> 574\u001b[0;31m             \u001b[0mself\u001b[0m\u001b[0;34m.\u001b[0m\u001b[0m_compile\u001b[0m\u001b[0;34m(\u001b[0m\u001b[0mobj\u001b[0m\u001b[0;34m,\u001b[0m \u001b[0msrc\u001b[0m\u001b[0;34m,\u001b[0m \u001b[0mext\u001b[0m\u001b[0;34m,\u001b[0m \u001b[0mcc_args\u001b[0m\u001b[0;34m,\u001b[0m \u001b[0mextra_postargs\u001b[0m\u001b[0;34m,\u001b[0m \u001b[0mpp_opts\u001b[0m\u001b[0;34m)\u001b[0m\u001b[0;34m\u001b[0m\u001b[0m\n\u001b[0m\u001b[1;32m    575\u001b[0m \u001b[0;34m\u001b[0m\u001b[0m\n\u001b[1;32m    576\u001b[0m         \u001b[0;31m# Return *all* object filenames, not just the ones we just built.\u001b[0m\u001b[0;34m\u001b[0m\u001b[0;34m\u001b[0m\u001b[0m\n",
      "\u001b[0;32m/usr/lib/python3.6/distutils/unixccompiler.py\u001b[0m in \u001b[0;36m_compile\u001b[0;34m(self, obj, src, ext, cc_args, extra_postargs, pp_opts)\u001b[0m\n\u001b[1;32m    116\u001b[0m         \u001b[0;32mtry\u001b[0m\u001b[0;34m:\u001b[0m\u001b[0;34m\u001b[0m\u001b[0m\n\u001b[1;32m    117\u001b[0m             self.spawn(compiler_so + cc_args + [src, '-o', obj] +\n\u001b[0;32m--> 118\u001b[0;31m                        extra_postargs)\n\u001b[0m\u001b[1;32m    119\u001b[0m         \u001b[0;32mexcept\u001b[0m \u001b[0mDistutilsExecError\u001b[0m \u001b[0;32mas\u001b[0m \u001b[0mmsg\u001b[0m\u001b[0;34m:\u001b[0m\u001b[0;34m\u001b[0m\u001b[0m\n\u001b[1;32m    120\u001b[0m             \u001b[0;32mraise\u001b[0m \u001b[0mCompileError\u001b[0m\u001b[0;34m(\u001b[0m\u001b[0mmsg\u001b[0m\u001b[0;34m)\u001b[0m\u001b[0;34m\u001b[0m\u001b[0m\n",
      "\u001b[0;32m/usr/lib/python3.6/distutils/ccompiler.py\u001b[0m in \u001b[0;36mspawn\u001b[0;34m(self, cmd)\u001b[0m\n\u001b[1;32m    907\u001b[0m \u001b[0;34m\u001b[0m\u001b[0m\n\u001b[1;32m    908\u001b[0m     \u001b[0;32mdef\u001b[0m \u001b[0mspawn\u001b[0m\u001b[0;34m(\u001b[0m\u001b[0mself\u001b[0m\u001b[0;34m,\u001b[0m \u001b[0mcmd\u001b[0m\u001b[0;34m)\u001b[0m\u001b[0;34m:\u001b[0m\u001b[0;34m\u001b[0m\u001b[0m\n\u001b[0;32m--> 909\u001b[0;31m         \u001b[0mspawn\u001b[0m\u001b[0;34m(\u001b[0m\u001b[0mcmd\u001b[0m\u001b[0;34m,\u001b[0m \u001b[0mdry_run\u001b[0m\u001b[0;34m=\u001b[0m\u001b[0mself\u001b[0m\u001b[0;34m.\u001b[0m\u001b[0mdry_run\u001b[0m\u001b[0;34m)\u001b[0m\u001b[0;34m\u001b[0m\u001b[0m\n\u001b[0m\u001b[1;32m    910\u001b[0m \u001b[0;34m\u001b[0m\u001b[0m\n\u001b[1;32m    911\u001b[0m     \u001b[0;32mdef\u001b[0m \u001b[0mmove_file\u001b[0m\u001b[0;34m(\u001b[0m\u001b[0mself\u001b[0m\u001b[0;34m,\u001b[0m \u001b[0msrc\u001b[0m\u001b[0;34m,\u001b[0m \u001b[0mdst\u001b[0m\u001b[0;34m)\u001b[0m\u001b[0;34m:\u001b[0m\u001b[0;34m\u001b[0m\u001b[0m\n",
      "\u001b[0;32m/usr/lib/python3.6/distutils/spawn.py\u001b[0m in \u001b[0;36mspawn\u001b[0;34m(cmd, search_path, verbose, dry_run)\u001b[0m\n\u001b[1;32m     34\u001b[0m     \u001b[0mcmd\u001b[0m \u001b[0;34m=\u001b[0m \u001b[0mlist\u001b[0m\u001b[0;34m(\u001b[0m\u001b[0mcmd\u001b[0m\u001b[0;34m)\u001b[0m\u001b[0;34m\u001b[0m\u001b[0m\n\u001b[1;32m     35\u001b[0m     \u001b[0;32mif\u001b[0m \u001b[0mos\u001b[0m\u001b[0;34m.\u001b[0m\u001b[0mname\u001b[0m \u001b[0;34m==\u001b[0m \u001b[0;34m'posix'\u001b[0m\u001b[0;34m:\u001b[0m\u001b[0;34m\u001b[0m\u001b[0m\n\u001b[0;32m---> 36\u001b[0;31m         \u001b[0m_spawn_posix\u001b[0m\u001b[0;34m(\u001b[0m\u001b[0mcmd\u001b[0m\u001b[0;34m,\u001b[0m \u001b[0msearch_path\u001b[0m\u001b[0;34m,\u001b[0m \u001b[0mdry_run\u001b[0m\u001b[0;34m=\u001b[0m\u001b[0mdry_run\u001b[0m\u001b[0;34m)\u001b[0m\u001b[0;34m\u001b[0m\u001b[0m\n\u001b[0m\u001b[1;32m     37\u001b[0m     \u001b[0;32melif\u001b[0m \u001b[0mos\u001b[0m\u001b[0;34m.\u001b[0m\u001b[0mname\u001b[0m \u001b[0;34m==\u001b[0m \u001b[0;34m'nt'\u001b[0m\u001b[0;34m:\u001b[0m\u001b[0;34m\u001b[0m\u001b[0m\n\u001b[1;32m     38\u001b[0m         \u001b[0m_spawn_nt\u001b[0m\u001b[0;34m(\u001b[0m\u001b[0mcmd\u001b[0m\u001b[0;34m,\u001b[0m \u001b[0msearch_path\u001b[0m\u001b[0;34m,\u001b[0m \u001b[0mdry_run\u001b[0m\u001b[0;34m=\u001b[0m\u001b[0mdry_run\u001b[0m\u001b[0;34m)\u001b[0m\u001b[0;34m\u001b[0m\u001b[0m\n",
      "\u001b[0;32m/usr/lib/python3.6/distutils/spawn.py\u001b[0m in \u001b[0;36m_spawn_posix\u001b[0;34m(cmd, search_path, verbose, dry_run)\u001b[0m\n\u001b[1;32m    136\u001b[0m         \u001b[0;32mwhile\u001b[0m \u001b[0;32mTrue\u001b[0m\u001b[0;34m:\u001b[0m\u001b[0;34m\u001b[0m\u001b[0m\n\u001b[1;32m    137\u001b[0m             \u001b[0;32mtry\u001b[0m\u001b[0;34m:\u001b[0m\u001b[0;34m\u001b[0m\u001b[0m\n\u001b[0;32m--> 138\u001b[0;31m                 \u001b[0mpid\u001b[0m\u001b[0;34m,\u001b[0m \u001b[0mstatus\u001b[0m \u001b[0;34m=\u001b[0m \u001b[0mos\u001b[0m\u001b[0;34m.\u001b[0m\u001b[0mwaitpid\u001b[0m\u001b[0;34m(\u001b[0m\u001b[0mpid\u001b[0m\u001b[0;34m,\u001b[0m \u001b[0;36m0\u001b[0m\u001b[0;34m)\u001b[0m\u001b[0;34m\u001b[0m\u001b[0m\n\u001b[0m\u001b[1;32m    139\u001b[0m             \u001b[0;32mexcept\u001b[0m \u001b[0mOSError\u001b[0m \u001b[0;32mas\u001b[0m \u001b[0mexc\u001b[0m\u001b[0;34m:\u001b[0m\u001b[0;34m\u001b[0m\u001b[0m\n\u001b[1;32m    140\u001b[0m                 \u001b[0;32mif\u001b[0m \u001b[0;32mnot\u001b[0m \u001b[0mDEBUG\u001b[0m\u001b[0;34m:\u001b[0m\u001b[0;34m\u001b[0m\u001b[0m\n",
      "\u001b[0;31mKeyboardInterrupt\u001b[0m: "
     ]
    }
   ],
   "source": [
    "mod = \"\"\"\n",
    "data {\n",
    "    int<lower=0> n;\n",
    "    int cc[n];\n",
    "    real dist[n];\n",
    "    real apos[n];\n",
    "    real speed_med[n];\n",
    "    real acc_med[n];\n",
    "    real sdiff_med[n];\n",
    "    real adiff_med[n];\n",
    "}\n",
    "transformed data {}\n",
    "parameters {\n",
    "    real a;\n",
    "    real b;\n",
    "    real c;\n",
    "    real d;\n",
    "    real e;\n",
    "    real f;\n",
    "    real g;\n",
    "}\n",
    "transformed parameters {}\n",
    "model {\n",
    "    a ~ normal(0, 10);\n",
    "    b ~ normal(0, 10);\n",
    "    c ~ normal(0, 10);\n",
    "    d ~ normal(0, 10);\n",
    "    e ~ normal(0, 10);\n",
    "    f ~ normal(0, 10);\n",
    "    g ~ normal(0, 10);\n",
    "    \n",
    "    for(i in 1:n) {\n",
    "        cc[i] ~ bernoulli(inv_logit(a + b*dist[i] + c*apos[i] + d*speed_med[i] + e*acc_med[i] + f*sdiff_med[i] + g*adiff_med[i]));\n",
    "    }\n",
    "}\n",
    "generated quantities {\n",
    "    int cc_pred[n];\n",
    "    for(i in 1:n) {\n",
    "        cc_pred[i] = bernoulli_rng(inv_logit(a + b*dist[i] + c*apos[i]  + d*speed_med[i] + e*acc_med[i] + f*sdiff_med[i] + g*adiff_med[i]));\n",
    "    }\n",
    "}\n",
    "\"\"\"\n",
    "\n",
    "data = {\n",
    "        'n': len(bayes_df),\n",
    "        'cc': bayes_df.cc,\n",
    "        'dist': bayes_df.dist_scaled,\n",
    "        'apos': bayes_df.ang_pos_scaled,\n",
    "        'speed_med': bayes_df.speed_scaled,\n",
    "        'acc_med': bayes_df.acceleration_scaled,\n",
    "        'sdiff_med': bayes_df.speed_diff_scaled,\n",
    "        'adiff_med': bayes_df.acc_diff_scaled,\n",
    "        }\n",
    "\n",
    "nk_model = pystan.StanModel(model_code=mod, model_name='scale_' + scale)\n",
    "# dd.io.save('Data/Output/pigeons/' + str(n_inds) + '_birds/nkmod_s' + scale + '.h5', nk_model)"
   ]
  },
  {
   "cell_type": "code",
   "execution_count": 20,
   "metadata": {
    "scrolled": true
   },
   "outputs": [],
   "source": [
    "nk_fit = nk_model.sampling(data=data, chains=4, iter=2000, control = dict(max_treedepth=15))\n",
    "# dd.io.save('Data/Output/pigeons/' + str(n_inds) + '_birds/nkfit_s' + scale + '.h5', nk_fit)"
   ]
  },
  {
   "cell_type": "code",
   "execution_count": 21,
   "metadata": {},
   "outputs": [
    {
     "name": "stdout",
     "output_type": "stream",
     "text": [
      "0.6193949999999999 0.6326 0.645605\n"
     ]
    },
    {
     "data": {
      "text/plain": [
       "<matplotlib.lines.Line2D at 0x7f0fb3b28ba8>"
      ]
     },
     "execution_count": 21,
     "metadata": {},
     "output_type": "execute_result"
    },
    {
     "data": {
      "image/png": "[encoded data removed]",
      "text/plain": [
       "<Figure size 432x288 with 1 Axes>"
      ]
     },
     "metadata": {},
     "output_type": "display_data"
    }
   ],
   "source": [
    "acc_nk = np.sum(nk_fit['cc_pred'] == np.array(bayes_df['cc']), axis=1) / len(bayes_df)\n",
    "print(np.quantile(acc_nk, 0.025), np.median(acc_nk), np.quantile(acc_nk, 0.975))\n",
    "\n",
    "sns.distplot(acc_nk, hist=True, kde=True, color = '#800080', kde_kws={'linewidth': 4})\n",
    "plt.axvline(x=0.5, color='black', linestyle='dashed')"
   ]
  },
  {
   "cell_type": "markdown",
   "metadata": {},
   "source": [
    "### Accuracies over all models"
   ]
  },
  {
   "cell_type": "code",
   "execution_count": 22,
   "metadata": {},
   "outputs": [
    {
     "data": {
      "image/png": "[encoded data removed]",
      "text/plain": [
       "<Figure size 432x288 with 1 Axes>"
      ]
     },
     "metadata": {},
     "output_type": "display_data"
    }
   ],
   "source": [
    "sns.distplot(acc_n, label='relative position (M1)', color='#0799b9', hist=True, kde=True, kde_kws={'linewidth': 1})\n",
    "sns.distplot(acc_k, label='kinematics (M2)', color='#ff0000', hist=True, kde=True, kde_kws={'linewidth': 1})\n",
    "sns.distplot(acc_nk, label='M1+M2', color='#800080', hist=True, kde=True, kde_kws={'linewidth': 1})\n",
    "\n",
    "plt.axvline(x=0.5, color='black', linestyle='dashed')\n",
    "# plt.legend(loc=1, prop={'size' : 14}, frameon=False) # bbox_to_anchor=(1.03, 1.4)\n",
    "plt.xticks(fontsize=12)\n",
    "plt.yticks(fontsize=12)\n",
    "plt.xlim(0.48,0.80)\n",
    "plt.yticks([0,20,40,60,80])\n",
    "plt.ylim(0,90)\n",
    "plt.savefig('/home/user/Documents/Vivek/cuda/DirectionalCorrelation/Figures/pigeons/accuracies_s' + scale + '_mod.png', format='png', dpi=600, bbox_inches=\"tight\")"
   ]
  },
  {
   "cell_type": "code",
   "execution_count": null,
   "metadata": {},
   "outputs": [],
   "source": []
  }
 ],
 "metadata": {
  "kernelspec": {
   "display_name": "Python 3",
   "language": "python",
   "name": "python3"
  },
  "language_info": {
   "codemirror_mode": {
    "name": "ipython",
    "version": 3
   },
   "file_extension": ".py",
   "mimetype": "text/x-python",
   "name": "python",
   "nbconvert_exporter": "python",
   "pygments_lexer": "ipython3",
   "version": "3.6.3"
  }
 },
 "nbformat": 4,
 "nbformat_minor": 2
}
