{
 "cells": [
  {
   "cell_type": "code",
   "execution_count": 1,
   "id": "cab4a1cd",
   "metadata": {},
   "outputs": [],
   "source": [
    "import numpy as np\n",
    "import pandas as pd\n",
    "import networkx as nx\n",
    "\n",
    "from time import sleep\n",
    "from tqdm import tqdm"
   ]
  },
  {
   "cell_type": "code",
   "execution_count": 2,
   "id": "2f81047e",
   "metadata": {},
   "outputs": [],
   "source": [
    "foldername = 'ffABC1'\n",
    "n_inds = 30\n",
    "scale = \"60\"\n",
    "\n",
    "angle_thresh = 30\n",
    "time_thresh = 5\n",
    "thresh_folder = 'angle' + str(angle_thresh) + '_time' + str(time_thresh)"
   ]
  },
  {
   "cell_type": "code",
   "execution_count": 3,
   "id": "bec44abf",
   "metadata": {},
   "outputs": [
    {
     "data": {
      "text/html": [
       "<div>\n",
       "<style scoped>\n",
       "    .dataframe tbody tr th:only-of-type {\n",
       "        vertical-align: middle;\n",
       "    }\n",
       "\n",
       "    .dataframe tbody tr th {\n",
       "        vertical-align: top;\n",
       "    }\n",
       "\n",
       "    .dataframe thead th {\n",
       "        text-align: right;\n",
       "    }\n",
       "</style>\n",
       "<table border=\"1\" class=\"dataframe\">\n",
       "  <thead>\n",
       "    <tr style=\"text-align: right;\">\n",
       "      <th></th>\n",
       "      <th>f_id</th>\n",
       "      <th>n_id</th>\n",
       "      <th>dist</th>\n",
       "      <th>speed_diff</th>\n",
       "      <th>acc_diff</th>\n",
       "      <th>#t(centisec)</th>\n",
       "      <th>tau</th>\n",
       "      <th>cc</th>\n",
       "      <th>ang_pos</th>\n",
       "    </tr>\n",
       "  </thead>\n",
       "  <tbody>\n",
       "    <tr>\n",
       "      <th>0</th>\n",
       "      <td>0</td>\n",
       "      <td>1</td>\n",
       "      <td>6.857518</td>\n",
       "      <td>1.198974</td>\n",
       "      <td>0.418019</td>\n",
       "      <td>300</td>\n",
       "      <td>2</td>\n",
       "      <td>0.0</td>\n",
       "      <td>2.683285</td>\n",
       "    </tr>\n",
       "    <tr>\n",
       "      <th>1</th>\n",
       "      <td>0</td>\n",
       "      <td>2</td>\n",
       "      <td>3.755912</td>\n",
       "      <td>-0.728026</td>\n",
       "      <td>-0.380283</td>\n",
       "      <td>300</td>\n",
       "      <td>0</td>\n",
       "      <td>0.0</td>\n",
       "      <td>0.218072</td>\n",
       "    </tr>\n",
       "    <tr>\n",
       "      <th>2</th>\n",
       "      <td>0</td>\n",
       "      <td>3</td>\n",
       "      <td>4.044581</td>\n",
       "      <td>-0.364281</td>\n",
       "      <td>-0.429167</td>\n",
       "      <td>300</td>\n",
       "      <td>0</td>\n",
       "      <td>0.0</td>\n",
       "      <td>2.139774</td>\n",
       "    </tr>\n",
       "    <tr>\n",
       "      <th>3</th>\n",
       "      <td>0</td>\n",
       "      <td>4</td>\n",
       "      <td>4.507002</td>\n",
       "      <td>-0.580222</td>\n",
       "      <td>-0.360962</td>\n",
       "      <td>300</td>\n",
       "      <td>0</td>\n",
       "      <td>0.0</td>\n",
       "      <td>3.076962</td>\n",
       "    </tr>\n",
       "    <tr>\n",
       "      <th>4</th>\n",
       "      <td>0</td>\n",
       "      <td>5</td>\n",
       "      <td>3.997078</td>\n",
       "      <td>-0.028310</td>\n",
       "      <td>-0.040836</td>\n",
       "      <td>300</td>\n",
       "      <td>0</td>\n",
       "      <td>0.0</td>\n",
       "      <td>0.082241</td>\n",
       "    </tr>\n",
       "  </tbody>\n",
       "</table>\n",
       "</div>"
      ],
      "text/plain": [
       "   f_id  n_id      dist  speed_diff  acc_diff  #t(centisec)  tau   cc  \\\n",
       "0     0     1  6.857518    1.198974  0.418019           300    2  0.0   \n",
       "1     0     2  3.755912   -0.728026 -0.380283           300    0  0.0   \n",
       "2     0     3  4.044581   -0.364281 -0.429167           300    0  0.0   \n",
       "3     0     4  4.507002   -0.580222 -0.360962           300    0  0.0   \n",
       "4     0     5  3.997078   -0.028310 -0.040836           300    0  0.0   \n",
       "\n",
       "    ang_pos  \n",
       "0  2.683285  \n",
       "1  0.218072  \n",
       "2  2.139774  \n",
       "3  3.076962  \n",
       "4  0.082241  "
      ]
     },
     "execution_count": 3,
     "metadata": {},
     "output_type": "execute_result"
    }
   ],
   "source": [
    "ind = pd.read_csv('/Users/vivekhsridhar/Library/Mobile Documents/com~apple~CloudDocs/Documents/Code/DirectionalCorrelation/Data/Output/pigeons/' + str(n_inds) + '_birds/' + foldername + '/' + thresh_folder + '/individual_' + scale + '.csv')\n",
    "ind.drop(['Unnamed: 0'], axis=1, inplace=True)\n",
    "\n",
    "pair = pd.read_csv('/Users/vivekhsridhar/Library/Mobile Documents/com~apple~CloudDocs/Documents/Code/DirectionalCorrelation/Data/Output/pigeons/' + str(n_inds) + '_birds/' + foldername + '/' + thresh_folder + '/pairwise_' + scale + '.csv')\n",
    "pair.drop(['Unnamed: 0'], axis=1, inplace=True)\n",
    "pair.head()"
   ]
  },
  {
   "cell_type": "code",
   "execution_count": 4,
   "id": "2a458cc3",
   "metadata": {},
   "outputs": [],
   "source": [
    "assert(np.min(ind['#t(centisec)']) == np.min(pair['#t(centisec)'])) \n",
    "assert(np.max(ind['#t(centisec)']) == np.max(pair['#t(centisec)']))"
   ]
  },
  {
   "cell_type": "code",
   "execution_count": 5,
   "id": "93a615ac",
   "metadata": {
    "scrolled": true
   },
   "outputs": [
    {
     "name": "stderr",
     "output_type": "stream",
     "text": [
      "100%|███████████████████████████████████| 11481/11481 [2:51:55<00:00,  1.11it/s]\n"
     ]
    }
   ],
   "source": [
    "df_ind = pair.loc[:,['f_id', '#t(centisec)']].drop_duplicates()\n",
    "df_ind['reach'] = 0\n",
    "\n",
    "for fr in tqdm(np.unique(pair['#t(centisec)'])):\n",
    "    tmp = pair[(pair['#t(centisec)'] == fr) & (pair['cc'] == 1)].reset_index()\n",
    "    \n",
    "    G = nx.DiGraph()\n",
    "    G.add_nodes_from(np.unique(pair['f_id']))\n",
    "    \n",
    "    list_a = list(tmp.loc[tmp['cc'] == 1, 'n_id'].values) \n",
    "    list_b = list(tmp.loc[tmp['cc'] == 1, 'f_id'].values)\n",
    "    \n",
    "    if len(list_a) != 0:\n",
    "        G.add_edges_from(list(zip(list_a, list_b)))\n",
    "\n",
    "        for idx in np.unique(pair['n_id']):\n",
    "            df_ind.loc[(pair['#t(centisec)'] == fr) & (pair['f_id'] == idx), 'reach'] = nx.local_reaching_centrality(G, idx)\n",
    "        \n",
    "    sleep(0.001)\n",
    "    \n",
    "df = pd.merge(ind,df_ind)"
   ]
  },
  {
   "cell_type": "code",
   "execution_count": 6,
   "id": "aefc02b5",
   "metadata": {},
   "outputs": [],
   "source": [
    "df.to_csv('/Users/vivekhsridhar/Library/Mobile Documents/com~apple~CloudDocs/Documents/Code/DirectionalCorrelation/Data/Output/pigeons/' + str(n_inds) + '_birds/' + foldername + '/' + thresh_folder + '/individual_' + scale + '.csv', mode='w')"
   ]
  },
  {
   "cell_type": "code",
   "execution_count": null,
   "id": "41ed250a",
   "metadata": {},
   "outputs": [],
   "source": []
  }
 ],
 "metadata": {
  "kernelspec": {
   "display_name": "Python 3 (ipykernel)",
   "language": "python",
   "name": "python3"
  },
  "language_info": {
   "codemirror_mode": {
    "name": "ipython",
    "version": 3
   },
   "file_extension": ".py",
   "mimetype": "text/x-python",
   "name": "python",
   "nbconvert_exporter": "python",
   "pygments_lexer": "ipython3",
   "version": "3.8.9"
  }
 },
 "nbformat": 4,
 "nbformat_minor": 5
}
