{
 "cells": [
  {
   "cell_type": "code",
   "execution_count": 1,
   "metadata": {},
   "outputs": [],
   "source": [
    "import numpy as np\n",
    "import deepdish as dd\n",
    "import pandas as pd\n",
    "import matplotlib.pyplot as plt\n",
    "import seaborn as sns\n",
    "import pystan\n",
    "import gc\n",
    "from sklearn.preprocessing import RobustScaler"
   ]
  },
  {
   "cell_type": "code",
   "execution_count": 2,
   "metadata": {},
   "outputs": [],
   "source": [
    "n_inds = 30\n",
    "bayes_sample = 5000\n",
    "\n",
    "fps = 30\n",
    "scale = \"07\"\n",
    "folders = ['0084', '0115', '0120']"
   ]
  },
  {
   "cell_type": "code",
   "execution_count": 3,
   "metadata": {},
   "outputs": [],
   "source": [
    "for i,name in enumerate(folders):\n",
    "    tmp = pd.read_csv('/home/user/Documents/Vivek/cuda/DirectionalCorrelation/Data/Output/golden_shiners/' + str(n_inds) + '_fish/' + name + '/' + 'pairwise_' + scale + '.csv')\n",
    "    tmp2 = pd.read_csv('/home/user/Documents/Vivek/cuda/DirectionalCorrelation/Data/Output/golden_shiners/' + str(n_inds) + '_fish/' + name + '/' + 'individual_' + scale + '.csv')\n",
    "    tmp['vid_id'] = i\n",
    "    tmp2['vid_id'] = i\n",
    "    \n",
    "    pair_drops = ['Unnamed: 0', 'tau', 'ang_area']\n",
    "    ind_drops = ['Unnamed: 0', 'rx', 'ry', 'lscore', 'lfinal', 'size']\n",
    "    tmp.drop(pair_drops, axis=1, inplace=True)\n",
    "    tmp2.drop(ind_drops, axis=1, inplace=True)\n",
    "    \n",
    "    if i != 0:\n",
    "        pair1 = np.concatenate((pair1,tmp), axis=0)\n",
    "        ind1 = np.concatenate((ind1,tmp2), axis=0)\n",
    "    else:\n",
    "        pair1 = tmp\n",
    "        ind1 = tmp2\n",
    "        cols = list(tmp)\n",
    "        col_ind = list(tmp2)\n",
    "        \n",
    "pair1 = pd.DataFrame(pair1)\n",
    "pair1.columns = cols\n",
    "\n",
    "ind1 = pd.DataFrame(ind1)\n",
    "ind1.columns = col_ind"
   ]
  },
  {
   "cell_type": "code",
   "execution_count": 3,
   "metadata": {},
   "outputs": [],
   "source": [
    "n_inds = 10\n",
    "folders = ['0066', '0105', '0126']"
   ]
  },
  {
   "cell_type": "code",
   "execution_count": 5,
   "metadata": {},
   "outputs": [],
   "source": [
    "for i,name in enumerate(folders):\n",
    "    tmp = pd.read_csv('/home/user/Documents/Vivek/cuda/DirectionalCorrelation/Data/Output/golden_shiners/' + str(n_inds) + '_fish/' + name + '/' + 'pairwise_' + scale + '.csv')\n",
    "    tmp2 = pd.read_csv('/home/user/Documents/Vivek/cuda/DirectionalCorrelation/Data/Output/golden_shiners/' + str(n_inds) + '_fish/' + name + '/' + 'individual_' + scale + '.csv')\n",
    "    tmp['vid_id'] = i+3\n",
    "    tmp2['vid_id'] = i+3\n",
    "    \n",
    "    pair_drops = ['Unnamed: 0', 'tau', 'ang_area']\n",
    "    ind_drops = ['Unnamed: 0', 'rx', 'ry', 'lscore', 'lfinal', 'size']\n",
    "    tmp.drop(pair_drops, axis=1, inplace=True)\n",
    "    tmp2.drop(ind_drops, axis=1, inplace=True)\n",
    "    \n",
    "    if i != 0:\n",
    "        pair2 = np.concatenate((pair2,tmp), axis=0)\n",
    "        ind2 = np.concatenate((ind2,tmp2), axis=0)\n",
    "    else:\n",
    "        pair2 = tmp\n",
    "        ind2 = tmp2\n",
    "        cols = list(tmp)\n",
    "        col_ind = list(tmp2)\n",
    "        \n",
    "pair2 = pd.DataFrame(pair2)\n",
    "pair2.columns = cols\n",
    "\n",
    "ind2 = pd.DataFrame(ind2)\n",
    "ind2.columns = col_ind"
   ]
  },
  {
   "cell_type": "code",
   "execution_count": 6,
   "metadata": {},
   "outputs": [],
   "source": [
    "pairs = pd.concat([pair1,pair2], axis=0, sort=True)\n",
    "inds = pd.concat([ind1,ind2], axis=0, sort=True)"
   ]
  },
  {
   "cell_type": "code",
   "execution_count": 7,
   "metadata": {},
   "outputs": [
    {
     "data": {
      "text/plain": [
       "215"
      ]
     },
     "execution_count": 7,
     "metadata": {},
     "output_type": "execute_result"
    }
   ],
   "source": [
    "del tmp\n",
    "del tmp2\n",
    "del pair1\n",
    "del pair2\n",
    "del ind1\n",
    "del ind2\n",
    "\n",
    "gc.collect()"
   ]
  },
  {
   "cell_type": "code",
   "execution_count": 8,
   "metadata": {
    "scrolled": false
   },
   "outputs": [
    {
     "data": {
      "text/plain": [
       "35"
      ]
     },
     "execution_count": 8,
     "metadata": {},
     "output_type": "execute_result"
    }
   ],
   "source": [
    "df = pd.merge(pairs, inds)\n",
    "\n",
    "del pairs\n",
    "del inds\n",
    "\n",
    "gc.collect()"
   ]
  },
  {
   "cell_type": "code",
   "execution_count": 9,
   "metadata": {
    "scrolled": false
   },
   "outputs": [
    {
     "data": {
      "text/html": [
       "<div>\n",
       "<style scoped>\n",
       "    .dataframe tbody tr th:only-of-type {\n",
       "        vertical-align: middle;\n",
       "    }\n",
       "\n",
       "    .dataframe tbody tr th {\n",
       "        vertical-align: top;\n",
       "    }\n",
       "\n",
       "    .dataframe thead th {\n",
       "        text-align: right;\n",
       "    }\n",
       "</style>\n",
       "<table border=\"1\" class=\"dataframe\">\n",
       "  <thead>\n",
       "    <tr style=\"text-align: right;\">\n",
       "      <th></th>\n",
       "      <th>cc</th>\n",
       "      <th>f_id</th>\n",
       "      <th>frame</th>\n",
       "      <th>n_id</th>\n",
       "      <th>vid_id</th>\n",
       "      <th>dev_gacc</th>\n",
       "      <th>dev_gspeed</th>\n",
       "      <th>ang_pos_scaled</th>\n",
       "      <th>dist_scaled</th>\n",
       "      <th>speed_diff_scaled</th>\n",
       "      <th>acc_diff_scaled</th>\n",
       "      <th>speed_scaled</th>\n",
       "      <th>acceleration_scaled</th>\n",
       "    </tr>\n",
       "  </thead>\n",
       "  <tbody>\n",
       "    <tr>\n",
       "      <th>0</th>\n",
       "      <td>0.0</td>\n",
       "      <td>0.0</td>\n",
       "      <td>105.0</td>\n",
       "      <td>1.0</td>\n",
       "      <td>0.0</td>\n",
       "      <td>0.002821</td>\n",
       "      <td>-0.392939</td>\n",
       "      <td>0.048155</td>\n",
       "      <td>0.755151</td>\n",
       "      <td>1.199831</td>\n",
       "      <td>-0.995425</td>\n",
       "      <td>1.12271</td>\n",
       "      <td>1.122791</td>\n",
       "    </tr>\n",
       "    <tr>\n",
       "      <th>1</th>\n",
       "      <td>0.0</td>\n",
       "      <td>0.0</td>\n",
       "      <td>105.0</td>\n",
       "      <td>2.0</td>\n",
       "      <td>0.0</td>\n",
       "      <td>0.002821</td>\n",
       "      <td>-0.392939</td>\n",
       "      <td>0.483038</td>\n",
       "      <td>-0.094128</td>\n",
       "      <td>0.242054</td>\n",
       "      <td>-0.204439</td>\n",
       "      <td>1.12271</td>\n",
       "      <td>1.122791</td>\n",
       "    </tr>\n",
       "    <tr>\n",
       "      <th>2</th>\n",
       "      <td>0.0</td>\n",
       "      <td>0.0</td>\n",
       "      <td>105.0</td>\n",
       "      <td>3.0</td>\n",
       "      <td>0.0</td>\n",
       "      <td>0.002821</td>\n",
       "      <td>-0.392939</td>\n",
       "      <td>0.172684</td>\n",
       "      <td>-0.221378</td>\n",
       "      <td>0.396146</td>\n",
       "      <td>-0.562816</td>\n",
       "      <td>1.12271</td>\n",
       "      <td>1.122791</td>\n",
       "    </tr>\n",
       "    <tr>\n",
       "      <th>3</th>\n",
       "      <td>0.0</td>\n",
       "      <td>0.0</td>\n",
       "      <td>105.0</td>\n",
       "      <td>4.0</td>\n",
       "      <td>0.0</td>\n",
       "      <td>0.002821</td>\n",
       "      <td>-0.392939</td>\n",
       "      <td>0.093252</td>\n",
       "      <td>0.358396</td>\n",
       "      <td>1.103917</td>\n",
       "      <td>0.697165</td>\n",
       "      <td>1.12271</td>\n",
       "      <td>1.122791</td>\n",
       "    </tr>\n",
       "    <tr>\n",
       "      <th>4</th>\n",
       "      <td>0.0</td>\n",
       "      <td>0.0</td>\n",
       "      <td>105.0</td>\n",
       "      <td>5.0</td>\n",
       "      <td>0.0</td>\n",
       "      <td>0.002821</td>\n",
       "      <td>-0.392939</td>\n",
       "      <td>0.119945</td>\n",
       "      <td>0.579448</td>\n",
       "      <td>0.376473</td>\n",
       "      <td>0.287381</td>\n",
       "      <td>1.12271</td>\n",
       "      <td>1.122791</td>\n",
       "    </tr>\n",
       "  </tbody>\n",
       "</table>\n",
       "</div>"
      ],
      "text/plain": [
       "    cc  f_id  frame  n_id  vid_id  dev_gacc  dev_gspeed  ang_pos_scaled  \\\n",
       "0  0.0   0.0  105.0   1.0     0.0  0.002821   -0.392939        0.048155   \n",
       "1  0.0   0.0  105.0   2.0     0.0  0.002821   -0.392939        0.483038   \n",
       "2  0.0   0.0  105.0   3.0     0.0  0.002821   -0.392939        0.172684   \n",
       "3  0.0   0.0  105.0   4.0     0.0  0.002821   -0.392939        0.093252   \n",
       "4  0.0   0.0  105.0   5.0     0.0  0.002821   -0.392939        0.119945   \n",
       "\n",
       "   dist_scaled  speed_diff_scaled  acc_diff_scaled  speed_scaled  \\\n",
       "0     0.755151           1.199831        -0.995425       1.12271   \n",
       "1    -0.094128           0.242054        -0.204439       1.12271   \n",
       "2    -0.221378           0.396146        -0.562816       1.12271   \n",
       "3     0.358396           1.103917         0.697165       1.12271   \n",
       "4     0.579448           0.376473         0.287381       1.12271   \n",
       "\n",
       "   acceleration_scaled  \n",
       "0             1.122791  \n",
       "1             1.122791  \n",
       "2             1.122791  \n",
       "3             1.122791  \n",
       "4             1.122791  "
      ]
     },
     "execution_count": 9,
     "metadata": {},
     "output_type": "execute_result"
    }
   ],
   "source": [
    "scaler = RobustScaler()\n",
    "scaled = scaler.fit_transform(df[['ang_pos', 'dist', 'speed_diff', 'acc_diff', 'speed', 'acceleration']].values)\n",
    "\n",
    "cols = ['ang_pos', 'dist', 'speed_diff', 'acc_diff', 'speed', 'acceleration']\n",
    "df = df.drop(cols, axis=1)\n",
    "\n",
    "for idx, col in enumerate(['ang_pos_scaled', 'dist_scaled', 'speed_diff_scaled', 'acc_diff_scaled', 'speed_scaled', 'acceleration_scaled']):\n",
    "    df[col] = scaled[:, idx]\n",
    "    \n",
    "df.head()"
   ]
  },
  {
   "cell_type": "code",
   "execution_count": 10,
   "metadata": {},
   "outputs": [],
   "source": [
    "df['cc'] = df['cc'].astype(np.int8)\n",
    "\n",
    "df = df.dropna()"
   ]
  },
  {
   "cell_type": "markdown",
   "metadata": {},
   "source": [
    "### Run a bayesian model to predict leadership"
   ]
  },
  {
   "cell_type": "code",
   "execution_count": null,
   "metadata": {},
   "outputs": [],
   "source": [
    "bayes_df0 = df[df['cc2'] == 0].sample(n = bayes_sample//2)\n",
    "bayes_df1 = df[df['cc2'] == 1].sample(n = bayes_sample//2)\n",
    "bayes_df = pd.concat((bayes_df0, bayes_df1), axis=0)\n",
    "bayes_df = bayes_df.sample(frac=1).reset_index(drop=True)\n",
    "\n",
    "del bayes_df0\n",
    "del bayes_df1\n",
    "\n",
    "bayes_df['cc_rand'] = bayes_df['cc']\n",
    "bayes_df['cc_rand'] = bayes_df['cc_rand'].sample(frac=1).values\n",
    "bayes_df.head()"
   ]
  },
  {
   "cell_type": "code",
   "execution_count": 12,
   "metadata": {},
   "outputs": [],
   "source": [
    "# Save the dataframe\n",
    "bayes_df.to_csv('/home/user/Documents/Vivek/cuda/DirectionalCorrelation/Data/Output/golden_shiners/' + str(n_inds) + '_fish/bayes_df_s' + scale + '.csv', mode='w')"
   ]
  },
  {
   "cell_type": "markdown",
   "metadata": {},
   "source": [
    "#### a) from a neural representation"
   ]
  },
  {
   "cell_type": "code",
   "execution_count": 5,
   "metadata": {},
   "outputs": [
    {
     "name": "stderr",
     "output_type": "stream",
     "text": [
      "INFO:pystan:COMPILING THE C++ CODE FOR MODEL scale_07_8252edb6095465b836890d0a76837b20 NOW.\n"
     ]
    }
   ],
   "source": [
    "mod = \"\"\"\n",
    "data {\n",
    "    int<lower=0> n;\n",
    "    int cc[n];\n",
    "    real dist[n];\n",
    "    real apos[n];\n",
    "}\n",
    "transformed data {}\n",
    "parameters {\n",
    "    real a;\n",
    "    real b;\n",
    "    real c;\n",
    "}\n",
    "transformed parameters {}\n",
    "model {\n",
    "    a ~ normal(0, 10);\n",
    "    b ~ normal(0, 10);\n",
    "    c ~ normal(0, 10);\n",
    "    \n",
    "    for(i in 1:n) {\n",
    "        cc[i] ~ bernoulli(inv_logit(a + b*dist[i] + c*apos[i]));\n",
    "    }\n",
    "}\n",
    "generated quantities {\n",
    "    int cc_pred[n];\n",
    "    for(i in 1:n) {\n",
    "        cc_pred[i] = bernoulli_rng(inv_logit(a + b*dist[i] + c*apos[i]));\n",
    "    }\n",
    "}\n",
    "\"\"\"\n",
    "\n",
    "data = {\n",
    "        'n': len(bayes_df),\n",
    "        'cc': bayes_df.cc,\n",
    "        'dist': bayes_df.dist_scaled,\n",
    "        'apos': bayes_df.ang_pos_scaled,\n",
    "        }\n",
    "\n",
    "neural_model = pystan.StanModel(model_code=mod, model_name='scale_' + scale)\n",
    "# dd.io.save('Data/Output/golden_shiners/' + str(n_inds) + '_fish/nmod_s' + scale + '.h5', neural_model)"
   ]
  },
  {
   "cell_type": "code",
   "execution_count": 6,
   "metadata": {
    "scrolled": true
   },
   "outputs": [
    {
     "name": "stderr",
     "output_type": "stream",
     "text": [
      "WARNING:pystan:n_eff / iter for parameter cc_pred[215] is nan!\n",
      "WARNING:pystan:n_eff / iter for parameter cc_pred[2274] is nan!\n",
      "WARNING:pystan:n_eff / iter for parameter cc_pred[2742] is nan!\n",
      "WARNING:pystan:n_eff / iter for parameter cc_pred[4930] is nan!\n",
      "WARNING:pystan:n_eff / iter below 0.001 indicates that the effective sample size has likely been overestimated\n"
     ]
    }
   ],
   "source": [
    "neural_fit = neural_model.sampling(data=data, chains=4, iter=2000, control = dict(max_treedepth=15))\n",
    "# dd.io.save('Data/Output/golden_shiners/' + str(n_inds) + '_fish/nfit_s' + scale + '.h5', neural_fit)"
   ]
  },
  {
   "cell_type": "code",
   "execution_count": 7,
   "metadata": {
    "scrolled": false
   },
   "outputs": [
    {
     "name": "stdout",
     "output_type": "stream",
     "text": [
      "0.552395 0.5662 0.5806\n"
     ]
    },
    {
     "data": {
      "text/plain": [
       "<matplotlib.lines.Line2D at 0x7f8eba6392e8>"
      ]
     },
     "execution_count": 7,
     "metadata": {},
     "output_type": "execute_result"
    },
    {
     "data": {
      "image/png": "[encoded data removed]",
      "text/plain": [
       "<Figure size 432x288 with 1 Axes>"
      ]
     },
     "metadata": {},
     "output_type": "display_data"
    }
   ],
   "source": [
    "acc_n = np.sum(neural_fit['cc_pred'] == np.array(bayes_df['cc']), axis=1) / len(bayes_df)\n",
    "print(np.quantile(acc_n, 0.025), np.median(acc_n), np.quantile(acc_n, 0.975))\n",
    "\n",
    "sns.distplot(acc_n, hist=True, kde=True, color = '#0799b9', kde_kws={'linewidth': 4})\n",
    "plt.axvline(x=0.5, color='black', linestyle='dashed')"
   ]
  },
  {
   "cell_type": "markdown",
   "metadata": {},
   "source": [
    "#### b) from kinematics"
   ]
  },
  {
   "cell_type": "code",
   "execution_count": 8,
   "metadata": {},
   "outputs": [
    {
     "name": "stderr",
     "output_type": "stream",
     "text": [
      "INFO:pystan:COMPILING THE C++ CODE FOR MODEL scale_07_4bce8efd1e6da14169ef2ea58b606909 NOW.\n"
     ]
    }
   ],
   "source": [
    "mod = \"\"\"\n",
    "data {\n",
    "    int<lower=0> n;\n",
    "    int cc[n];\n",
    "    real speed[n];\n",
    "    real acc[n];\n",
    "    real sdiff[n];\n",
    "    real adiff[n];\n",
    "}\n",
    "transformed data {}\n",
    "parameters {\n",
    "    real a;\n",
    "    real b;\n",
    "    real c;\n",
    "    real d;\n",
    "    real e;\n",
    "}\n",
    "transformed parameters {}\n",
    "model {\n",
    "    a ~ normal(0, 10);\n",
    "    b ~ normal(0, 10);\n",
    "    c ~ normal(0, 10);\n",
    "    d ~ normal(0, 10);\n",
    "    e ~ normal(0, 10);\n",
    "    \n",
    "    for(i in 1:n) {\n",
    "        cc[i] ~ bernoulli(inv_logit(a + b*speed[i] + c*acc[i] + d*sdiff[i] + e*adiff[i]));\n",
    "    }\n",
    "}\n",
    "generated quantities {\n",
    "    int cc_pred[n];\n",
    "    for(i in 1:n) {\n",
    "        cc_pred[i] = bernoulli_rng(inv_logit(a + b*speed[i] + c*acc[i] + d*sdiff[i] + e*adiff[i]));\n",
    "    }\n",
    "}\n",
    "\"\"\"\n",
    "\n",
    "data = {\n",
    "        'n': len(bayes_df),\n",
    "        'cc': bayes_df.cc,\n",
    "        'speed': bayes_df.speed_scaled,\n",
    "        'acc': bayes_df.acceleration_scaled,\n",
    "        'sdiff': bayes_df.speed_diff_scaled,\n",
    "        'adiff': bayes_df.acc_diff_scaled,\n",
    "        }\n",
    "\n",
    "k_model = pystan.StanModel(model_code=mod, model_name='scale_' + scale)\n",
    "# dd.io.save('Data/Output/golden_shiners/' + str(n_inds) + '_fish/kmod_s' + scale + '.h5', k_model)"
   ]
  },
  {
   "cell_type": "code",
   "execution_count": 9,
   "metadata": {},
   "outputs": [],
   "source": [
    "k_fit = k_model.sampling(data=data, chains=4, iter=2000, control = dict(max_treedepth=15))\n",
    "# dd.io.save('Data/Output/golden_shiners/' + str(n_inds) + '_fish/kfit_s' + scale + '.h5', k_fit)"
   ]
  },
  {
   "cell_type": "code",
   "execution_count": 10,
   "metadata": {},
   "outputs": [
    {
     "name": "stdout",
     "output_type": "stream",
     "text": [
      "0.4928 0.5066 0.52\n"
     ]
    },
    {
     "data": {
      "text/plain": [
       "<matplotlib.lines.Line2D at 0x7f8ed18b3be0>"
      ]
     },
     "execution_count": 10,
     "metadata": {},
     "output_type": "execute_result"
    },
    {
     "data": {
      "image/png": "[encoded data removed]",
      "text/plain": [
       "<Figure size 432x288 with 1 Axes>"
      ]
     },
     "metadata": {},
     "output_type": "display_data"
    }
   ],
   "source": [
    "acc_k = np.sum(k_fit['cc_pred'] == np.array(bayes_df['cc']), axis=1) / len(bayes_df)\n",
    "print(np.quantile(acc_k, 0.025), np.median(acc_k), np.quantile(acc_k, 0.975))\n",
    "\n",
    "sns.distplot(acc_k, hist=True, kde=True, color = '#ff0000', kde_kws={'linewidth': 4})\n",
    "plt.axvline(x=0.5, color='black', linestyle='dashed')"
   ]
  },
  {
   "cell_type": "markdown",
   "metadata": {},
   "source": [
    "#### c) from a neural representation + kinematics"
   ]
  },
  {
   "cell_type": "code",
   "execution_count": 11,
   "metadata": {},
   "outputs": [
    {
     "name": "stderr",
     "output_type": "stream",
     "text": [
      "INFO:pystan:COMPILING THE C++ CODE FOR MODEL scale_07_11498de69a9afdc5a4d4983d0ef492f3 NOW.\n"
     ]
    }
   ],
   "source": [
    "mod = \"\"\"\n",
    "data {\n",
    "    int<lower=0> n;\n",
    "    int cc[n];\n",
    "    real dist[n];\n",
    "    real apos[n];\n",
    "    real speed[n];\n",
    "    real acc[n];\n",
    "    real sdiff[n];\n",
    "    real adiff[n];\n",
    "}\n",
    "transformed data {}\n",
    "parameters {\n",
    "    real a;\n",
    "    real b;\n",
    "    real c;\n",
    "    real d;\n",
    "    real e;\n",
    "    real f;\n",
    "    real g;\n",
    "}\n",
    "transformed parameters {}\n",
    "model {\n",
    "    a ~ normal(0, 10);\n",
    "    b ~ normal(0, 10);\n",
    "    c ~ normal(0, 10);\n",
    "    d ~ normal(0, 10);\n",
    "    e ~ normal(0, 10);\n",
    "    f ~ normal(0, 10);\n",
    "    g ~ normal(0, 10);\n",
    "    \n",
    "    for(i in 1:n) {\n",
    "        cc[i] ~ bernoulli(inv_logit(a + b*dist[i] + c*apos[i] + d*speed[i] + e*acc[i] + f*sdiff[i] + g*adiff[i]));\n",
    "    }\n",
    "}\n",
    "generated quantities {\n",
    "    int cc_pred[n];\n",
    "    for(i in 1:n) {\n",
    "        cc_pred[i] = bernoulli_rng(inv_logit(a + b*dist[i] + c*apos[i]  + d*speed[i] + e*acc[i] + f*sdiff[i] + g*adiff[i]));\n",
    "    }\n",
    "}\n",
    "\"\"\"\n",
    "\n",
    "data = {\n",
    "        'n': len(bayes_df),\n",
    "        'cc': bayes_df.cc,\n",
    "        'dist': bayes_df.dist_scaled,\n",
    "        'apos': bayes_df.ang_pos_scaled,\n",
    "        'speed': bayes_df.speed_scaled,\n",
    "        'acc': bayes_df.acceleration_scaled,\n",
    "        'sdiff': bayes_df.speed_diff_scaled,\n",
    "        'adiff': bayes_df.acc_diff_scaled,\n",
    "        }\n",
    "\n",
    "nk_model = pystan.StanModel(model_code=mod, model_name='scale_' + scale)\n",
    "# dd.io.save('Data/Output/golden_shiners/' + str(n_inds) + '_fish/nkmod_s' + scale + '.h5', nk_model)"
   ]
  },
  {
   "cell_type": "code",
   "execution_count": 12,
   "metadata": {
    "scrolled": true
   },
   "outputs": [
    {
     "name": "stderr",
     "output_type": "stream",
     "text": [
      "WARNING:pystan:n_eff / iter for parameter cc_pred[215] is nan!\n",
      "WARNING:pystan:n_eff / iter for parameter cc_pred[2274] is nan!\n",
      "WARNING:pystan:n_eff / iter for parameter cc_pred[4930] is nan!\n",
      "WARNING:pystan:n_eff / iter below 0.001 indicates that the effective sample size has likely been overestimated\n",
      "WARNING:pystan:Rhat for parameter cc_pred[215] is nan!\n",
      "WARNING:pystan:Rhat for parameter cc_pred[2274] is nan!\n",
      "WARNING:pystan:Rhat above 1.1 or below 0.9 indicates that the chains very likely have not mixed\n"
     ]
    }
   ],
   "source": [
    "nk_fit = nk_model.sampling(data=data, chains=4, iter=2000, control = dict(max_treedepth=15))\n",
    "# dd.io.save('Data/Output/golden_shiners/' + str(n_inds) + '_fish/nkfit_s' + scale + '.h5', nk_fit)"
   ]
  },
  {
   "cell_type": "code",
   "execution_count": 13,
   "metadata": {},
   "outputs": [
    {
     "name": "stdout",
     "output_type": "stream",
     "text": [
      "0.5584 0.572 0.586\n"
     ]
    },
    {
     "data": {
      "text/plain": [
       "<matplotlib.lines.Line2D at 0x7f8ed19abfd0>"
      ]
     },
     "execution_count": 13,
     "metadata": {},
     "output_type": "execute_result"
    },
    {
     "data": {
      "image/png": "[encoded data removed]",
      "text/plain": [
       "<Figure size 432x288 with 1 Axes>"
      ]
     },
     "metadata": {},
     "output_type": "display_data"
    }
   ],
   "source": [
    "acc_nk = np.sum(nk_fit['cc_pred'] == np.array(bayes_df['cc']), axis=1) / len(bayes_df)\n",
    "print(np.quantile(acc_nk, 0.025), np.median(acc_nk), np.quantile(acc_nk, 0.975))\n",
    "\n",
    "sns.distplot(acc_nk, hist=True, kde=True, color = '#800080', kde_kws={'linewidth': 4})\n",
    "plt.axvline(x=0.5, color='black', linestyle='dashed')"
   ]
  },
  {
   "cell_type": "markdown",
   "metadata": {},
   "source": [
    "### Accuracies over all models"
   ]
  },
  {
   "cell_type": "code",
   "execution_count": 19,
   "metadata": {},
   "outputs": [
    {
     "data": {
      "image/png": "[encoded data removed]",
      "text/plain": [
       "<Figure size 432x288 with 1 Axes>"
      ]
     },
     "metadata": {},
     "output_type": "display_data"
    }
   ],
   "source": [
    "sns.distplot(acc_n, label='relative position (M1)', color='#0799b9', hist=True, kde=True, kde_kws={'linewidth': 1})\n",
    "sns.distplot(acc_k, label='kinematics (M2)', color='#ff0000', hist=True, kde=True, kde_kws={'linewidth': 1})\n",
    "sns.distplot(acc_nk, label='relative position and kinematics (M3)', color='#800080', hist=True, kde=True, kde_kws={'linewidth': 1})\n",
    "\n",
    "plt.axvline(x=0.5, color='black', linestyle='dashed')\n",
    "# plt.legend(loc=1, prop={'size' : 13}, edgecolor='black') # bbox_to_anchor=(1.03, 1.4)\n",
    "plt.xticks(fontsize=12)\n",
    "plt.yticks(fontsize=12)\n",
    "plt.xlim(0.48,0.80)\n",
    "plt.yticks([0,20,40,60,80])\n",
    "plt.ylim(0,90)\n",
    "plt.savefig('/home/user/Documents/Vivek/cuda/DirectionalCorrelation/Figures/golden_shiners/accuracies_s' + scale + '_mody.png', format='png', dpi=600, bbox_inches=\"tight\")"
   ]
  },
  {
   "cell_type": "code",
   "execution_count": null,
   "metadata": {},
   "outputs": [],
   "source": []
  }
 ],
 "metadata": {
  "kernelspec": {
   "display_name": "Python 3 (ipykernel)",
   "language": "python",
   "name": "python3"
  },
  "language_info": {
   "codemirror_mode": {
    "name": "ipython",
    "version": 3
   },
   "file_extension": ".py",
   "mimetype": "text/x-python",
   "name": "python",
   "nbconvert_exporter": "python",
   "pygments_lexer": "ipython3",
   "version": "3.8.9"
  }
 },
 "nbformat": 4,
 "nbformat_minor": 2
}
