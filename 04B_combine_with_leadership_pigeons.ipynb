{
 "cells": [
  {
   "cell_type": "code",
   "execution_count": 1,
   "metadata": {},
   "outputs": [],
   "source": [
    "import numpy as np\n",
    "import pandas as pd\n",
    "import matplotlib.pyplot as plt\n",
    "import itertools\n",
    "import os\n",
    "import gc\n",
    "import glob\n",
    "import numba\n",
    "import numpy.linalg as la\n",
    "from scipy import stats\n",
    "from scipy.stats import circmean\n",
    "from scipy.optimize import linear_sum_assignment\n",
    "from scipy.spatial.distance import cdist"
   ]
  },
  {
   "cell_type": "code",
   "execution_count": 2,
   "metadata": {},
   "outputs": [],
   "source": [
    "foldername = 'ffA3'\n",
    "n_inds = 10\n",
    "\n",
    "window_size = '01' # sliding window size in seconds\n",
    "fps = 10"
   ]
  },
  {
   "cell_type": "code",
   "execution_count": 16,
   "metadata": {},
   "outputs": [],
   "source": [
    "df = pd.read_csv('/home/user/Documents/Vivek/cuda/DirectionalCorrelation/Data/Output/pigeons/' + str(n_inds) + '_birds/' + foldername + '/' + 'alltracks.csv')\n",
    "df.head()"
   ]
  },
  {
   "cell_type": "markdown",
   "metadata": {},
   "source": [
    "#### Rescale trajectory data to match the timescale of directional correlations while retaining pairwise nature of the measures"
   ]
  },
  {
   "cell_type": "code",
   "execution_count": 17,
   "metadata": {
    "scrolled": false
   },
   "outputs": [
    {
     "data": {
      "text/html": [
       "<div>\n",
       "<style scoped>\n",
       "    .dataframe tbody tr th:only-of-type {\n",
       "        vertical-align: middle;\n",
       "    }\n",
       "\n",
       "    .dataframe tbody tr th {\n",
       "        vertical-align: top;\n",
       "    }\n",
       "\n",
       "    .dataframe thead th {\n",
       "        text-align: right;\n",
       "    }\n",
       "</style>\n",
       "<table border=\"1\" class=\"dataframe\">\n",
       "  <thead>\n",
       "    <tr style=\"text-align: right;\">\n",
       "      <th></th>\n",
       "      <th>f_id</th>\n",
       "      <th>n_id</th>\n",
       "      <th>dist</th>\n",
       "      <th>speed_diff</th>\n",
       "      <th>acc_diff</th>\n",
       "      <th>ang_pos_x</th>\n",
       "      <th>ang_pos_y</th>\n",
       "      <th>#t(centisec)</th>\n",
       "    </tr>\n",
       "  </thead>\n",
       "  <tbody>\n",
       "    <tr>\n",
       "      <th>0</th>\n",
       "      <td>0</td>\n",
       "      <td>0</td>\n",
       "      <td>0.000000</td>\n",
       "      <td>0.000000</td>\n",
       "      <td>0.000000</td>\n",
       "      <td>NaN</td>\n",
       "      <td>NaN</td>\n",
       "      <td>150</td>\n",
       "    </tr>\n",
       "    <tr>\n",
       "      <th>1</th>\n",
       "      <td>0</td>\n",
       "      <td>1</td>\n",
       "      <td>7.452045</td>\n",
       "      <td>0.153359</td>\n",
       "      <td>-0.009048</td>\n",
       "      <td>-0.156380</td>\n",
       "      <td>-0.096019</td>\n",
       "      <td>150</td>\n",
       "    </tr>\n",
       "    <tr>\n",
       "      <th>2</th>\n",
       "      <td>0</td>\n",
       "      <td>2</td>\n",
       "      <td>4.197391</td>\n",
       "      <td>0.134417</td>\n",
       "      <td>-0.016236</td>\n",
       "      <td>-0.193548</td>\n",
       "      <td>-0.085239</td>\n",
       "      <td>150</td>\n",
       "    </tr>\n",
       "    <tr>\n",
       "      <th>3</th>\n",
       "      <td>0</td>\n",
       "      <td>3</td>\n",
       "      <td>4.422501</td>\n",
       "      <td>0.402323</td>\n",
       "      <td>0.027554</td>\n",
       "      <td>-0.192663</td>\n",
       "      <td>0.136224</td>\n",
       "      <td>150</td>\n",
       "    </tr>\n",
       "    <tr>\n",
       "      <th>4</th>\n",
       "      <td>0</td>\n",
       "      <td>4</td>\n",
       "      <td>4.159805</td>\n",
       "      <td>0.443118</td>\n",
       "      <td>-0.571681</td>\n",
       "      <td>-0.052083</td>\n",
       "      <td>-0.213041</td>\n",
       "      <td>150</td>\n",
       "    </tr>\n",
       "  </tbody>\n",
       "</table>\n",
       "</div>"
      ],
      "text/plain": [
       "   f_id  n_id      dist  speed_diff  acc_diff  ang_pos_x  ang_pos_y  \\\n",
       "0     0     0  0.000000    0.000000  0.000000        NaN        NaN   \n",
       "1     0     1  7.452045    0.153359 -0.009048  -0.156380  -0.096019   \n",
       "2     0     2  4.197391    0.134417 -0.016236  -0.193548  -0.085239   \n",
       "3     0     3  4.422501    0.402323  0.027554  -0.192663   0.136224   \n",
       "4     0     4  4.159805    0.443118 -0.571681  -0.052083  -0.213041   \n",
       "\n",
       "   #t(centisec)  \n",
       "0           150  \n",
       "1           150  \n",
       "2           150  \n",
       "3           150  \n",
       "4           150  "
      ]
     },
     "execution_count": 17,
     "metadata": {},
     "output_type": "execute_result"
    }
   ],
   "source": [
    "for fr in range(int(window_size)*fps//2, int(df['#t(centisec)'].max() - int(window_size)*fps//2)):\n",
    "    tmp = df[(df['#t(centisec)'] >= fr - int(window_size)*fps//2) & (df['#t(centisec)'] <= fr + int(window_size)*fps//2)]\n",
    "\n",
    "    tmp1 = tmp.loc[:,[\"f_id\", \"n_id\", \"dist\", \"speed_diff\", \"acc_diff\"]]\n",
    "    tmp2 = tmp.loc[:,[\"f_id\", \"n_id\", \"ang_pos_x\", \"ang_pos_y\"]]\n",
    "\n",
    "    tmp_ord1 = tmp1.groupby(['f_id', 'n_id']).median()\n",
    "    tmp_ord1 = tmp_ord1.reset_index()\n",
    "    tmp_ord1 = tmp_ord1.rename(index=str, columns={'dist':'dist', 'speed_diff':'speed_diff', 'acc_diff':'acc_diff'})\n",
    "    tmp_ord2 = tmp2.groupby(['f_id', 'n_id']).mean()\n",
    "    tmp_ord2 = tmp_ord2.reset_index()\n",
    "    tmp_ord2 = tmp_ord2.rename(index=str, columns={'ang_pos_x':'ang_pos_x', 'ang_pos_y':'ang_pos_y'})\n",
    "    \n",
    "    tmp_ord = pd.merge(tmp_ord1, tmp_ord2, how='left')\n",
    "    tmp_ord['#t(centisec)'] = fr\n",
    "    \n",
    "    df_rescaled = tmp_ord if fr == int(window_size)*fps//2 else df_rescaled.append(tmp_ord)\n",
    "        \n",
    "df_rescaled.head()"
   ]
  },
  {
   "cell_type": "markdown",
   "metadata": {},
   "source": [
    "#### Rescale trajectory data to match timescale of directional correlations and get individual level measures"
   ]
  },
  {
   "cell_type": "code",
   "execution_count": 18,
   "metadata": {
    "scrolled": true
   },
   "outputs": [
    {
     "data": {
      "text/html": [
       "<div>\n",
       "<style scoped>\n",
       "    .dataframe tbody tr th:only-of-type {\n",
       "        vertical-align: middle;\n",
       "    }\n",
       "\n",
       "    .dataframe tbody tr th {\n",
       "        vertical-align: top;\n",
       "    }\n",
       "\n",
       "    .dataframe thead th {\n",
       "        text-align: right;\n",
       "    }\n",
       "</style>\n",
       "<table border=\"1\" class=\"dataframe\">\n",
       "  <thead>\n",
       "    <tr style=\"text-align: right;\">\n",
       "      <th></th>\n",
       "      <th>f_id</th>\n",
       "      <th>speed</th>\n",
       "      <th>acceleration</th>\n",
       "      <th>dev_gspeed</th>\n",
       "      <th>dev_gacc</th>\n",
       "      <th>rx</th>\n",
       "      <th>ry</th>\n",
       "      <th>#t(centisec)</th>\n",
       "    </tr>\n",
       "  </thead>\n",
       "  <tbody>\n",
       "    <tr>\n",
       "      <th>0</th>\n",
       "      <td>0</td>\n",
       "      <td>9.449549</td>\n",
       "      <td>4.620616</td>\n",
       "      <td>-0.243411</td>\n",
       "      <td>-0.003783</td>\n",
       "      <td>0.038930</td>\n",
       "      <td>-0.202239</td>\n",
       "      <td>150</td>\n",
       "    </tr>\n",
       "    <tr>\n",
       "      <th>1</th>\n",
       "      <td>1</td>\n",
       "      <td>9.571283</td>\n",
       "      <td>4.243177</td>\n",
       "      <td>0.040898</td>\n",
       "      <td>-0.005618</td>\n",
       "      <td>-2.455753</td>\n",
       "      <td>0.449590</td>\n",
       "      <td>150</td>\n",
       "    </tr>\n",
       "    <tr>\n",
       "      <th>2</th>\n",
       "      <td>2</td>\n",
       "      <td>9.532832</td>\n",
       "      <td>4.319635</td>\n",
       "      <td>-0.076442</td>\n",
       "      <td>-0.014211</td>\n",
       "      <td>-0.240393</td>\n",
       "      <td>-0.207771</td>\n",
       "      <td>150</td>\n",
       "    </tr>\n",
       "    <tr>\n",
       "      <th>3</th>\n",
       "      <td>3</td>\n",
       "      <td>9.840300</td>\n",
       "      <td>4.266960</td>\n",
       "      <td>-0.012301</td>\n",
       "      <td>-0.002535</td>\n",
       "      <td>0.121400</td>\n",
       "      <td>0.830338</td>\n",
       "      <td>150</td>\n",
       "    </tr>\n",
       "    <tr>\n",
       "      <th>4</th>\n",
       "      <td>4</td>\n",
       "      <td>8.749629</td>\n",
       "      <td>4.178941</td>\n",
       "      <td>0.047937</td>\n",
       "      <td>-0.173310</td>\n",
       "      <td>0.061512</td>\n",
       "      <td>-2.158862</td>\n",
       "      <td>150</td>\n",
       "    </tr>\n",
       "  </tbody>\n",
       "</table>\n",
       "</div>"
      ],
      "text/plain": [
       "   f_id     speed  acceleration  dev_gspeed  dev_gacc        rx        ry  \\\n",
       "0     0  9.449549      4.620616   -0.243411 -0.003783  0.038930 -0.202239   \n",
       "1     1  9.571283      4.243177    0.040898 -0.005618 -2.455753  0.449590   \n",
       "2     2  9.532832      4.319635   -0.076442 -0.014211 -0.240393 -0.207771   \n",
       "3     3  9.840300      4.266960   -0.012301 -0.002535  0.121400  0.830338   \n",
       "4     4  8.749629      4.178941    0.047937 -0.173310  0.061512 -2.158862   \n",
       "\n",
       "   #t(centisec)  \n",
       "0           150  \n",
       "1           150  \n",
       "2           150  \n",
       "3           150  \n",
       "4           150  "
      ]
     },
     "execution_count": 18,
     "metadata": {},
     "output_type": "execute_result"
    }
   ],
   "source": [
    "for fr in range(int(window_size)*fps//2, int(df['#t(centisec)'].max() - int(window_size)*fps//2)):\n",
    "    tmp = df[(df['#t(centisec)'] >= fr - int(window_size)*fps//2) & (df['#t(centisec)'] <= fr + int(window_size)*fps//2)]\n",
    "\n",
    "    tmp1 = tmp.loc[:,[\"f_id\", \"speed\", \"acceleration\", \"dev_gspeed\", \"dev_gacc\"]]\n",
    "    tmp2 = tmp.loc[:,[\"f_id\", \"rotated_x\", \"rotated_y\"]]\n",
    "\n",
    "    tmp_ord1 = tmp1.groupby(['f_id']).median()\n",
    "    tmp_ord1 = tmp_ord1.reset_index()\n",
    "    tmp_ord1 = tmp_ord1.rename(index=str, columns={'speed':'speed', 'acceleration':'acceleration', 'dev_gspeed':'dev_gspeed', 'dev_gacc':'dev_gacc'})\n",
    "    tmp_ord2 = tmp2.groupby(['f_id']).mean()\n",
    "    tmp_ord2 = tmp_ord2.reset_index()\n",
    "    tmp_ord2 = tmp_ord2.rename(index=str, columns={'rotated_x':'rx', 'rotated_y':'ry'})\n",
    "    \n",
    "    tmp_ord = pd.merge(tmp_ord1, tmp_ord2, how='left')\n",
    "    tmp_ord['#t(centisec)'] = fr\n",
    "    \n",
    "    df2 = tmp_ord if fr == int(window_size)*fps//2 else df2.append(tmp_ord)\n",
    "        \n",
    "df2.head()"
   ]
  },
  {
   "cell_type": "code",
   "execution_count": 19,
   "metadata": {
    "scrolled": true
   },
   "outputs": [
    {
     "data": {
      "text/plain": [
       "2667"
      ]
     },
     "execution_count": 19,
     "metadata": {},
     "output_type": "execute_result"
    }
   ],
   "source": [
    "del tmp\n",
    "del tmp1\n",
    "del tmp2\n",
    "del tmp_ord1\n",
    "del tmp_ord2\n",
    "del tmp_ord\n",
    "gc.collect()"
   ]
  },
  {
   "cell_type": "markdown",
   "metadata": {},
   "source": [
    "### Handle directional correlation data\n",
    "Below, we binarise pairwise output obtained from the directional correlation cuda code. We then convert this measure of leadership per individual per frame."
   ]
  },
  {
   "cell_type": "markdown",
   "metadata": {},
   "source": [
    "#### Binarise pairwise events to 'leadership' or 'not leadership'"
   ]
  },
  {
   "cell_type": "code",
   "execution_count": 3,
   "metadata": {},
   "outputs": [],
   "source": [
    "dcorr = pd.read_csv(\"/home/user/Documents/Vivek/cuda/DirectionalCorrelation/Data/Output/pigeons/\" + str(n_inds) + \"_birds/\" + foldername + '/cross_correlation_' + window_size + '.csv')\n",
    "dcorr.columns = ['#t(centisec)', 'f_id', 'n_id', 'tau', 'cc']\n",
    "\n",
    "dcorr.loc[dcorr['cc'] < np.sqrt(3)/2,'cc'] = 0\n",
    "dcorr.loc[np.abs(dcorr['tau']) <= 5/3,'tau'] = 0\n",
    "\n",
    "@numba.njit(fastmath=True, parallel=True)\n",
    "def binarise_leadership(frame, f_id, tau, cc):\n",
    "    cc_out = np.zeros(cc.shape)\n",
    "    frs = np.unique(frame)\n",
    "    f_ids = np.unique(f_id)\n",
    "    for fr in numba.prange(frs.shape[0]):\n",
    "        for idx in numba.prange(f_ids.shape[0]):\n",
    "            subset_idxs = np.where((frame == frs[fr]) & (f_id == f_ids[idx]) & (tau < 0))[0]\n",
    "            if len(subset_idxs) > 0:\n",
    "                ccvals = cc[subset_idxs]\n",
    "                if ccvals.max() > np.sqrt(3.)/2.:\n",
    "                    max_idx = subset_idxs[np.where(ccvals == ccvals.max())[0]]\n",
    "                    cc_out[max_idx] = 1\n",
    "    \n",
    "    return cc_out"
   ]
  },
  {
   "cell_type": "code",
   "execution_count": 4,
   "metadata": {
    "scrolled": false
   },
   "outputs": [],
   "source": [
    "frame = dcorr['#t(centisec)'].values\n",
    "f_id = dcorr['f_id'].values\n",
    "tau = dcorr['tau'].values\n",
    "cc = dcorr['cc'].values\n",
    "\n",
    "dcorr['cc'] = binarise_leadership(frame, f_id, tau, cc)"
   ]
  },
  {
   "cell_type": "code",
   "execution_count": 5,
   "metadata": {},
   "outputs": [],
   "source": [
    "dcorr.to_csv('/home/user/Documents/Vivek/cuda/DirectionalCorrelation/Data/Output/pigeons/' + str(n_inds) + '_birds/' + foldername + '/' + 'leadership_' + window_size + '.csv', mode='w')"
   ]
  },
  {
   "cell_type": "markdown",
   "metadata": {},
   "source": [
    "#### Convert 'leadership' to an individual level metric over time (rather than a pairwise metric)"
   ]
  },
  {
   "cell_type": "code",
   "execution_count": null,
   "metadata": {},
   "outputs": [],
   "source": [
    "@numba.njit(fastmath=True, parallel=True)\n",
    "def individual_leadership(frame, f_id, n_id, cc):\n",
    "    fr_out = np.zeros((np.unique(frame).shape[0]*n_inds,), dtype=np.int64)\n",
    "    fid_out = np.zeros((np.unique(frame).shape[0]*n_inds,), dtype=np.int64)\n",
    "    lscore = np.zeros((np.unique(frame).shape[0]*n_inds,), dtype=np.float64)\n",
    "    \n",
    "    frs = np.unique(frame)\n",
    "    f_ids = np.unique(f_id)\n",
    "    for fr in numba.prange(frs.shape[0]):\n",
    "        for idx in numba.prange(f_ids.shape[0]):\n",
    "            lead_idxs = np.where((frame == frs[fr]) & (n_id == f_ids[idx]))[0]\n",
    "            follow_idxs = np.where((frame == frs[fr]) & (f_id == f_ids[idx]))[0]\n",
    "            \n",
    "            fr_out[fr*n_inds + idx] = frs[fr]\n",
    "            fid_out[fr*n_inds + idx] = f_ids[idx]\n",
    "            lscore[fr*n_inds + idx] = np.sum(cc[lead_idxs]) - np.sum(cc[follow_idxs])\n",
    "            \n",
    "    return fr_out, fid_out, lscore"
   ]
  },
  {
   "cell_type": "code",
   "execution_count": null,
   "metadata": {},
   "outputs": [],
   "source": [
    "frame = dcorr['#t(centisec)'].values\n",
    "f_id = dcorr['f_id'].values\n",
    "n_id = dcorr['n_id'].values\n",
    "cc = dcorr['cc'].values\n",
    "\n",
    "fr_out, fid_out, lscore = individual_leadership(frame, f_id, n_id, cc)"
   ]
  },
  {
   "cell_type": "code",
   "execution_count": null,
   "metadata": {},
   "outputs": [],
   "source": [
    "dcorr2 = pd.DataFrame(np.array([fr_out, fid_out, lscore]).T, columns=['#t(centisec)', 'f_id', 'lscore'])\n",
    "dcorr2['lscore'] /= n_inds\n",
    "\n",
    "tmp = dcorr2.loc[:,[\"f_id\", \"lscore\"]]\n",
    "tmp_ord = tmp.groupby(['f_id']).sum()\n",
    "tmp_ord = tmp_ord.reset_index()\n",
    "tmp_ord = tmp_ord.rename(index=str, columns={'lscore':'lfinal'})\n",
    "\n",
    "dcorr2 = pd.merge(dcorr2, tmp_ord, how='left')\n",
    "dcorr2.head()"
   ]
  },
  {
   "cell_type": "markdown",
   "metadata": {},
   "source": [
    "### Create final datasets - individual and pairwise\n",
    "These two dataframes will contain all data about morphology, movement, vision and leadership. The only way the two dataframes differ is based on whether the data is presented at the individual or pairwise level."
   ]
  },
  {
   "cell_type": "markdown",
   "metadata": {},
   "source": [
    "#### Individual data"
   ]
  },
  {
   "cell_type": "code",
   "execution_count": 25,
   "metadata": {
    "scrolled": false
   },
   "outputs": [
    {
     "data": {
      "text/html": [
       "<div>\n",
       "<style scoped>\n",
       "    .dataframe tbody tr th:only-of-type {\n",
       "        vertical-align: middle;\n",
       "    }\n",
       "\n",
       "    .dataframe tbody tr th {\n",
       "        vertical-align: top;\n",
       "    }\n",
       "\n",
       "    .dataframe thead th {\n",
       "        text-align: right;\n",
       "    }\n",
       "</style>\n",
       "<table border=\"1\" class=\"dataframe\">\n",
       "  <thead>\n",
       "    <tr style=\"text-align: right;\">\n",
       "      <th></th>\n",
       "      <th>f_id</th>\n",
       "      <th>speed</th>\n",
       "      <th>acceleration</th>\n",
       "      <th>dev_gspeed</th>\n",
       "      <th>dev_gacc</th>\n",
       "      <th>rx</th>\n",
       "      <th>ry</th>\n",
       "      <th>#t(centisec)</th>\n",
       "      <th>lscore</th>\n",
       "      <th>lfinal</th>\n",
       "    </tr>\n",
       "  </thead>\n",
       "  <tbody>\n",
       "    <tr>\n",
       "      <th>0</th>\n",
       "      <td>0</td>\n",
       "      <td>9.449549</td>\n",
       "      <td>4.620616</td>\n",
       "      <td>-0.243411</td>\n",
       "      <td>-0.003783</td>\n",
       "      <td>0.038930</td>\n",
       "      <td>-0.202239</td>\n",
       "      <td>150</td>\n",
       "      <td>0.0</td>\n",
       "      <td>-475.0</td>\n",
       "    </tr>\n",
       "    <tr>\n",
       "      <th>1</th>\n",
       "      <td>1</td>\n",
       "      <td>9.571283</td>\n",
       "      <td>4.243177</td>\n",
       "      <td>0.040898</td>\n",
       "      <td>-0.005618</td>\n",
       "      <td>-2.455753</td>\n",
       "      <td>0.449590</td>\n",
       "      <td>150</td>\n",
       "      <td>0.0</td>\n",
       "      <td>-124.5</td>\n",
       "    </tr>\n",
       "    <tr>\n",
       "      <th>2</th>\n",
       "      <td>2</td>\n",
       "      <td>9.532832</td>\n",
       "      <td>4.319635</td>\n",
       "      <td>-0.076442</td>\n",
       "      <td>-0.014211</td>\n",
       "      <td>-0.240393</td>\n",
       "      <td>-0.207771</td>\n",
       "      <td>150</td>\n",
       "      <td>0.1</td>\n",
       "      <td>-455.9</td>\n",
       "    </tr>\n",
       "    <tr>\n",
       "      <th>3</th>\n",
       "      <td>3</td>\n",
       "      <td>9.840300</td>\n",
       "      <td>4.266960</td>\n",
       "      <td>-0.012301</td>\n",
       "      <td>-0.002535</td>\n",
       "      <td>0.121400</td>\n",
       "      <td>0.830338</td>\n",
       "      <td>150</td>\n",
       "      <td>-0.1</td>\n",
       "      <td>-74.4</td>\n",
       "    </tr>\n",
       "    <tr>\n",
       "      <th>4</th>\n",
       "      <td>4</td>\n",
       "      <td>8.749629</td>\n",
       "      <td>4.178941</td>\n",
       "      <td>0.047937</td>\n",
       "      <td>-0.173310</td>\n",
       "      <td>0.061512</td>\n",
       "      <td>-2.158862</td>\n",
       "      <td>150</td>\n",
       "      <td>0.0</td>\n",
       "      <td>-64.8</td>\n",
       "    </tr>\n",
       "  </tbody>\n",
       "</table>\n",
       "</div>"
      ],
      "text/plain": [
       "   f_id     speed  acceleration  dev_gspeed  dev_gacc        rx        ry  \\\n",
       "0     0  9.449549      4.620616   -0.243411 -0.003783  0.038930 -0.202239   \n",
       "1     1  9.571283      4.243177    0.040898 -0.005618 -2.455753  0.449590   \n",
       "2     2  9.532832      4.319635   -0.076442 -0.014211 -0.240393 -0.207771   \n",
       "3     3  9.840300      4.266960   -0.012301 -0.002535  0.121400  0.830338   \n",
       "4     4  8.749629      4.178941    0.047937 -0.173310  0.061512 -2.158862   \n",
       "\n",
       "   #t(centisec)  lscore  lfinal  \n",
       "0           150     0.0  -475.0  \n",
       "1           150     0.0  -124.5  \n",
       "2           150     0.1  -455.9  \n",
       "3           150    -0.1   -74.4  \n",
       "4           150     0.0   -64.8  "
      ]
     },
     "execution_count": 25,
     "metadata": {},
     "output_type": "execute_result"
    }
   ],
   "source": [
    "df = pd.merge(df2, dcorr2)\n",
    "\n",
    "cols = ['#t(centisec)', 'f_id']\n",
    "df[cols] = df[cols].astype(np.int32)\n",
    "\n",
    "df.head()"
   ]
  },
  {
   "cell_type": "code",
   "execution_count": 26,
   "metadata": {},
   "outputs": [],
   "source": [
    "df.to_csv('/home/user/Documents/Vivek/cuda/DirectionalCorrelation/Data/Output/pigeons/' + str(n_inds) + '_birds/' + foldername + '/' + 'individual_' + window_size + '.csv', mode='w')"
   ]
  },
  {
   "cell_type": "markdown",
   "metadata": {},
   "source": [
    "#### Pairwise data"
   ]
  },
  {
   "cell_type": "code",
   "execution_count": 27,
   "metadata": {},
   "outputs": [
    {
     "data": {
      "text/html": [
       "<div>\n",
       "<style scoped>\n",
       "    .dataframe tbody tr th:only-of-type {\n",
       "        vertical-align: middle;\n",
       "    }\n",
       "\n",
       "    .dataframe tbody tr th {\n",
       "        vertical-align: top;\n",
       "    }\n",
       "\n",
       "    .dataframe thead th {\n",
       "        text-align: right;\n",
       "    }\n",
       "</style>\n",
       "<table border=\"1\" class=\"dataframe\">\n",
       "  <thead>\n",
       "    <tr style=\"text-align: right;\">\n",
       "      <th></th>\n",
       "      <th>f_id</th>\n",
       "      <th>n_id</th>\n",
       "      <th>dist</th>\n",
       "      <th>speed_diff</th>\n",
       "      <th>acc_diff</th>\n",
       "      <th>ang_pos_x</th>\n",
       "      <th>ang_pos_y</th>\n",
       "      <th>#t(centisec)</th>\n",
       "      <th>tau</th>\n",
       "      <th>cc</th>\n",
       "    </tr>\n",
       "  </thead>\n",
       "  <tbody>\n",
       "    <tr>\n",
       "      <th>0</th>\n",
       "      <td>0</td>\n",
       "      <td>1</td>\n",
       "      <td>7.452045</td>\n",
       "      <td>0.153359</td>\n",
       "      <td>-0.009048</td>\n",
       "      <td>-0.156380</td>\n",
       "      <td>-0.096019</td>\n",
       "      <td>150</td>\n",
       "      <td>8</td>\n",
       "      <td>0.0</td>\n",
       "    </tr>\n",
       "    <tr>\n",
       "      <th>1</th>\n",
       "      <td>0</td>\n",
       "      <td>2</td>\n",
       "      <td>4.197391</td>\n",
       "      <td>0.134417</td>\n",
       "      <td>-0.016236</td>\n",
       "      <td>-0.193548</td>\n",
       "      <td>-0.085239</td>\n",
       "      <td>150</td>\n",
       "      <td>2</td>\n",
       "      <td>0.0</td>\n",
       "    </tr>\n",
       "    <tr>\n",
       "      <th>2</th>\n",
       "      <td>0</td>\n",
       "      <td>3</td>\n",
       "      <td>4.422501</td>\n",
       "      <td>0.402323</td>\n",
       "      <td>0.027554</td>\n",
       "      <td>-0.192663</td>\n",
       "      <td>0.136224</td>\n",
       "      <td>150</td>\n",
       "      <td>-2</td>\n",
       "      <td>0.0</td>\n",
       "    </tr>\n",
       "    <tr>\n",
       "      <th>3</th>\n",
       "      <td>0</td>\n",
       "      <td>4</td>\n",
       "      <td>4.159805</td>\n",
       "      <td>0.443118</td>\n",
       "      <td>-0.571681</td>\n",
       "      <td>-0.052083</td>\n",
       "      <td>-0.213041</td>\n",
       "      <td>150</td>\n",
       "      <td>-5</td>\n",
       "      <td>0.0</td>\n",
       "    </tr>\n",
       "    <tr>\n",
       "      <th>4</th>\n",
       "      <td>0</td>\n",
       "      <td>5</td>\n",
       "      <td>3.881257</td>\n",
       "      <td>0.784452</td>\n",
       "      <td>0.009779</td>\n",
       "      <td>0.116579</td>\n",
       "      <td>-0.293543</td>\n",
       "      <td>150</td>\n",
       "      <td>0</td>\n",
       "      <td>0.0</td>\n",
       "    </tr>\n",
       "  </tbody>\n",
       "</table>\n",
       "</div>"
      ],
      "text/plain": [
       "   f_id  n_id      dist  speed_diff  acc_diff  ang_pos_x  ang_pos_y  \\\n",
       "0     0     1  7.452045    0.153359 -0.009048  -0.156380  -0.096019   \n",
       "1     0     2  4.197391    0.134417 -0.016236  -0.193548  -0.085239   \n",
       "2     0     3  4.422501    0.402323  0.027554  -0.192663   0.136224   \n",
       "3     0     4  4.159805    0.443118 -0.571681  -0.052083  -0.213041   \n",
       "4     0     5  3.881257    0.784452  0.009779   0.116579  -0.293543   \n",
       "\n",
       "   #t(centisec)  tau   cc  \n",
       "0           150    8  0.0  \n",
       "1           150    2  0.0  \n",
       "2           150   -2  0.0  \n",
       "3           150   -5  0.0  \n",
       "4           150    0  0.0  "
      ]
     },
     "execution_count": 27,
     "metadata": {},
     "output_type": "execute_result"
    }
   ],
   "source": [
    "df = pd.merge(df_rescaled, dcorr)\n",
    "\n",
    "cols = ['#t(centisec)', 'f_id', 'n_id', 'tau']\n",
    "df[cols] = df[cols].astype(np.int32)\n",
    "\n",
    "df.head()"
   ]
  },
  {
   "cell_type": "code",
   "execution_count": 28,
   "metadata": {},
   "outputs": [],
   "source": [
    "df['ang_pos'] = np.arctan2(df['ang_pos_y'], df['ang_pos_x'])\n",
    "df['ang_pos'] = np.abs(df['ang_pos'])\n",
    "\n",
    "df.drop(['ang_pos_x', 'ang_pos_y'], axis=1, inplace=True) "
   ]
  },
  {
   "cell_type": "code",
   "execution_count": 29,
   "metadata": {},
   "outputs": [],
   "source": [
    "df.to_csv('/home/user/Documents/Vivek/cuda/DirectionalCorrelation/Data/Output/pigeons/' + str(n_inds) + '_birds/' + foldername + '/' + 'pairwise_' + window_size + '.csv', mode='w')"
   ]
  },
  {
   "cell_type": "code",
   "execution_count": null,
   "metadata": {},
   "outputs": [],
   "source": []
  }
 ],
 "metadata": {
  "kernelspec": {
   "display_name": "Python 3 (ipykernel)",
   "language": "python",
   "name": "python3"
  },
  "language_info": {
   "codemirror_mode": {
    "name": "ipython",
    "version": 3
   },
   "file_extension": ".py",
   "mimetype": "text/x-python",
   "name": "python",
   "nbconvert_exporter": "python",
   "pygments_lexer": "ipython3",
   "version": "3.8.9"
  }
 },
 "nbformat": 4,
 "nbformat_minor": 2
}
