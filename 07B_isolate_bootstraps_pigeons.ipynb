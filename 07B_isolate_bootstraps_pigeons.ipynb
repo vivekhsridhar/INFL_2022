{
 "cells": [
  {
   "cell_type": "code",
   "execution_count": 1,
   "metadata": {},
   "outputs": [],
   "source": [
    "import gc\n",
    "import numpy as np\n",
    "import pandas as pd\n",
    "import matplotlib.pyplot as plt"
   ]
  },
  {
   "cell_type": "code",
   "execution_count": 2,
   "metadata": {},
   "outputs": [],
   "source": [
    "scale = \"07\"\n",
    "fps = 10\n",
    "seq_length = 10\n",
    "full_length = 200\n",
    "n_boots = 1000\n",
    "\n",
    "angle_thresh = 15\n",
    "time_thresh = 5\n",
    "thresh_folder = 'angle' + str(angle_thresh) + '_time' + str(time_thresh)"
   ]
  },
  {
   "cell_type": "code",
   "execution_count": 3,
   "metadata": {},
   "outputs": [],
   "source": [
    "segments_upward = pd.read_csv('/Users/vivekhsridhar/Library/Mobile Documents/com~apple~CloudDocs/Documents/Code/DirectionalCorrelation/Data/Output/pigeons/' + thresh_folder + '/segup_' + scale + '_seq' + str(int(seq_length/fps)) + '.csv')\n",
    "segments_downward = pd.read_csv('/Users/vivekhsridhar/Library/Mobile Documents/com~apple~CloudDocs/Documents/Code/DirectionalCorrelation/Data/Output/pigeons/' + thresh_folder + '/segdown_' + scale + '_seq' + str(int(seq_length/fps)) + '.csv')"
   ]
  },
  {
   "cell_type": "code",
   "execution_count": 4,
   "metadata": {
    "scrolled": true
   },
   "outputs": [
    {
     "name": "stderr",
     "output_type": "stream",
     "text": [
      "/var/folders/ng/l4j590g95vl5r33ctw59y6cr0000gn/T/ipykernel_26977/3673897783.py:12: FutureWarning: Indexing with multiple keys (implicitly converted to a tuple of keys) will be deprecated, use a list instead.\n",
      "  bootstrapped_upward = tmp.groupby(['#t(centisec)'])['ang_pos', 'dist', 'speed_diff', 'acc_diff', 'cc'].mean().reset_index()\n"
     ]
    },
    {
     "name": "stdout",
     "output_type": "stream",
     "text": [
      "0\n"
     ]
    },
    {
     "name": "stderr",
     "output_type": "stream",
     "text": [
      "/var/folders/ng/l4j590g95vl5r33ctw59y6cr0000gn/T/ipykernel_26977/3673897783.py:12: FutureWarning: Indexing with multiple keys (implicitly converted to a tuple of keys) will be deprecated, use a list instead.\n",
      "  bootstrapped_upward = tmp.groupby(['#t(centisec)'])['ang_pos', 'dist', 'speed_diff', 'acc_diff', 'cc'].mean().reset_index()\n",
      "/var/folders/ng/l4j590g95vl5r33ctw59y6cr0000gn/T/ipykernel_26977/3673897783.py:12: FutureWarning: Indexing with multiple keys (implicitly converted to a tuple of keys) will be deprecated, use a list instead.\n",
      "  bootstrapped_upward = tmp.groupby(['#t(centisec)'])['ang_pos', 'dist', 'speed_diff', 'acc_diff', 'cc'].mean().reset_index()\n",
      "/var/folders/ng/l4j590g95vl5r33ctw59y6cr0000gn/T/ipykernel_26977/3673897783.py:12: FutureWarning: Indexing with multiple keys (implicitly converted to a tuple of keys) will be deprecated, use a list instead.\n",
      "  bootstrapped_upward = tmp.groupby(['#t(centisec)'])['ang_pos', 'dist', 'speed_diff', 'acc_diff', 'cc'].mean().reset_index()\n",
      "/var/folders/ng/l4j590g95vl5r33ctw59y6cr0000gn/T/ipykernel_26977/3673897783.py:12: FutureWarning: Indexing with multiple keys (implicitly converted to a tuple of keys) will be deprecated, use a list instead.\n",
      "  bootstrapped_upward = tmp.groupby(['#t(centisec)'])['ang_pos', 'dist', 'speed_diff', 'acc_diff', 'cc'].mean().reset_index()\n",
      "/var/folders/ng/l4j590g95vl5r33ctw59y6cr0000gn/T/ipykernel_26977/3673897783.py:12: FutureWarning: Indexing with multiple keys (implicitly converted to a tuple of keys) will be deprecated, use a list instead.\n",
      "  bootstrapped_upward = tmp.groupby(['#t(centisec)'])['ang_pos', 'dist', 'speed_diff', 'acc_diff', 'cc'].mean().reset_index()\n",
      "/var/folders/ng/l4j590g95vl5r33ctw59y6cr0000gn/T/ipykernel_26977/3673897783.py:12: FutureWarning: Indexing with multiple keys (implicitly converted to a tuple of keys) will be deprecated, use a list instead.\n",
      "  bootstrapped_upward = tmp.groupby(['#t(centisec)'])['ang_pos', 'dist', 'speed_diff', 'acc_diff', 'cc'].mean().reset_index()\n",
      "/var/folders/ng/l4j590g95vl5r33ctw59y6cr0000gn/T/ipykernel_26977/3673897783.py:12: FutureWarning: Indexing with multiple keys (implicitly converted to a tuple of keys) will be deprecated, use a list instead.\n",
      "  bootstrapped_upward = tmp.groupby(['#t(centisec)'])['ang_pos', 'dist', 'speed_diff', 'acc_diff', 'cc'].mean().reset_index()\n",
      "/var/folders/ng/l4j590g95vl5r33ctw59y6cr0000gn/T/ipykernel_26977/3673897783.py:12: FutureWarning: Indexing with multiple keys (implicitly converted to a tuple of keys) will be deprecated, use a list instead.\n",
      "  bootstrapped_upward = tmp.groupby(['#t(centisec)'])['ang_pos', 'dist', 'speed_diff', 'acc_diff', 'cc'].mean().reset_index()\n",
      "/var/folders/ng/l4j590g95vl5r33ctw59y6cr0000gn/T/ipykernel_26977/3673897783.py:12: FutureWarning: Indexing with multiple keys (implicitly converted to a tuple of keys) will be deprecated, use a list instead.\n",
      "  bootstrapped_upward = tmp.groupby(['#t(centisec)'])['ang_pos', 'dist', 'speed_diff', 'acc_diff', 'cc'].mean().reset_index()\n",
      "/var/folders/ng/l4j590g95vl5r33ctw59y6cr0000gn/T/ipykernel_26977/3673897783.py:12: FutureWarning: Indexing with multiple keys (implicitly converted to a tuple of keys) will be deprecated, use a list instead.\n",
      "  bootstrapped_upward = tmp.groupby(['#t(centisec)'])['ang_pos', 'dist', 'speed_diff', 'acc_diff', 'cc'].mean().reset_index()\n"
     ]
    },
    {
     "name": "stdout",
     "output_type": "stream",
     "text": [
      "10\n"
     ]
    },
    {
     "name": "stderr",
     "output_type": "stream",
     "text": [
      "/var/folders/ng/l4j590g95vl5r33ctw59y6cr0000gn/T/ipykernel_26977/3673897783.py:12: FutureWarning: Indexing with multiple keys (implicitly converted to a tuple of keys) will be deprecated, use a list instead.\n",
      "  bootstrapped_upward = tmp.groupby(['#t(centisec)'])['ang_pos', 'dist', 'speed_diff', 'acc_diff', 'cc'].mean().reset_index()\n",
      "/var/folders/ng/l4j590g95vl5r33ctw59y6cr0000gn/T/ipykernel_26977/3673897783.py:12: FutureWarning: Indexing with multiple keys (implicitly converted to a tuple of keys) will be deprecated, use a list instead.\n",
      "  bootstrapped_upward = tmp.groupby(['#t(centisec)'])['ang_pos', 'dist', 'speed_diff', 'acc_diff', 'cc'].mean().reset_index()\n",
      "/var/folders/ng/l4j590g95vl5r33ctw59y6cr0000gn/T/ipykernel_26977/3673897783.py:12: FutureWarning: Indexing with multiple keys (implicitly converted to a tuple of keys) will be deprecated, use a list instead.\n",
      "  bootstrapped_upward = tmp.groupby(['#t(centisec)'])['ang_pos', 'dist', 'speed_diff', 'acc_diff', 'cc'].mean().reset_index()\n",
      "/var/folders/ng/l4j590g95vl5r33ctw59y6cr0000gn/T/ipykernel_26977/3673897783.py:12: FutureWarning: Indexing with multiple keys (implicitly converted to a tuple of keys) will be deprecated, use a list instead.\n",
      "  bootstrapped_upward = tmp.groupby(['#t(centisec)'])['ang_pos', 'dist', 'speed_diff', 'acc_diff', 'cc'].mean().reset_index()\n",
      "/var/folders/ng/l4j590g95vl5r33ctw59y6cr0000gn/T/ipykernel_26977/3673897783.py:12: FutureWarning: Indexing with multiple keys (implicitly converted to a tuple of keys) will be deprecated, use a list instead.\n",
      "  bootstrapped_upward = tmp.groupby(['#t(centisec)'])['ang_pos', 'dist', 'speed_diff', 'acc_diff', 'cc'].mean().reset_index()\n",
      "/var/folders/ng/l4j590g95vl5r33ctw59y6cr0000gn/T/ipykernel_26977/3673897783.py:12: FutureWarning: Indexing with multiple keys (implicitly converted to a tuple of keys) will be deprecated, use a list instead.\n",
      "  bootstrapped_upward = tmp.groupby(['#t(centisec)'])['ang_pos', 'dist', 'speed_diff', 'acc_diff', 'cc'].mean().reset_index()\n",
      "/var/folders/ng/l4j590g95vl5r33ctw59y6cr0000gn/T/ipykernel_26977/3673897783.py:12: FutureWarning: Indexing with multiple keys (implicitly converted to a tuple of keys) will be deprecated, use a list instead.\n",
      "  bootstrapped_upward = tmp.groupby(['#t(centisec)'])['ang_pos', 'dist', 'speed_diff', 'acc_diff', 'cc'].mean().reset_index()\n",
      "/var/folders/ng/l4j590g95vl5r33ctw59y6cr0000gn/T/ipykernel_26977/3673897783.py:12: FutureWarning: Indexing with multiple keys (implicitly converted to a tuple of keys) will be deprecated, use a list instead.\n",
      "  bootstrapped_upward = tmp.groupby(['#t(centisec)'])['ang_pos', 'dist', 'speed_diff', 'acc_diff', 'cc'].mean().reset_index()\n",
      "/var/folders/ng/l4j590g95vl5r33ctw59y6cr0000gn/T/ipykernel_26977/3673897783.py:12: FutureWarning: Indexing with multiple keys (implicitly converted to a tuple of keys) will be deprecated, use a list instead.\n",
      "  bootstrapped_upward = tmp.groupby(['#t(centisec)'])['ang_pos', 'dist', 'speed_diff', 'acc_diff', 'cc'].mean().reset_index()\n",
      "/var/folders/ng/l4j590g95vl5r33ctw59y6cr0000gn/T/ipykernel_26977/3673897783.py:12: FutureWarning: Indexing with multiple keys (implicitly converted to a tuple of keys) will be deprecated, use a list instead.\n",
      "  bootstrapped_upward = tmp.groupby(['#t(centisec)'])['ang_pos', 'dist', 'speed_diff', 'acc_diff', 'cc'].mean().reset_index()\n"
     ]
    },
    {
     "name": "stdout",
     "output_type": "stream",
     "text": [
      "20\n"
     ]
    },
    {
     "name": "stderr",
     "output_type": "stream",
     "text": [
      "/var/folders/ng/l4j590g95vl5r33ctw59y6cr0000gn/T/ipykernel_26977/3673897783.py:12: FutureWarning: Indexing with multiple keys (implicitly converted to a tuple of keys) will be deprecated, use a list instead.\n",
      "  bootstrapped_upward = tmp.groupby(['#t(centisec)'])['ang_pos', 'dist', 'speed_diff', 'acc_diff', 'cc'].mean().reset_index()\n",
      "/var/folders/ng/l4j590g95vl5r33ctw59y6cr0000gn/T/ipykernel_26977/3673897783.py:12: FutureWarning: Indexing with multiple keys (implicitly converted to a tuple of keys) will be deprecated, use a list instead.\n",
      "  bootstrapped_upward = tmp.groupby(['#t(centisec)'])['ang_pos', 'dist', 'speed_diff', 'acc_diff', 'cc'].mean().reset_index()\n",
      "/var/folders/ng/l4j590g95vl5r33ctw59y6cr0000gn/T/ipykernel_26977/3673897783.py:12: FutureWarning: Indexing with multiple keys (implicitly converted to a tuple of keys) will be deprecated, use a list instead.\n",
      "  bootstrapped_upward = tmp.groupby(['#t(centisec)'])['ang_pos', 'dist', 'speed_diff', 'acc_diff', 'cc'].mean().reset_index()\n",
      "/var/folders/ng/l4j590g95vl5r33ctw59y6cr0000gn/T/ipykernel_26977/3673897783.py:12: FutureWarning: Indexing with multiple keys (implicitly converted to a tuple of keys) will be deprecated, use a list instead.\n",
      "  bootstrapped_upward = tmp.groupby(['#t(centisec)'])['ang_pos', 'dist', 'speed_diff', 'acc_diff', 'cc'].mean().reset_index()\n",
      "/var/folders/ng/l4j590g95vl5r33ctw59y6cr0000gn/T/ipykernel_26977/3673897783.py:12: FutureWarning: Indexing with multiple keys (implicitly converted to a tuple of keys) will be deprecated, use a list instead.\n",
      "  bootstrapped_upward = tmp.groupby(['#t(centisec)'])['ang_pos', 'dist', 'speed_diff', 'acc_diff', 'cc'].mean().reset_index()\n",
      "/var/folders/ng/l4j590g95vl5r33ctw59y6cr0000gn/T/ipykernel_26977/3673897783.py:12: FutureWarning: Indexing with multiple keys (implicitly converted to a tuple of keys) will be deprecated, use a list instead.\n",
      "  bootstrapped_upward = tmp.groupby(['#t(centisec)'])['ang_pos', 'dist', 'speed_diff', 'acc_diff', 'cc'].mean().reset_index()\n",
      "/var/folders/ng/l4j590g95vl5r33ctw59y6cr0000gn/T/ipykernel_26977/3673897783.py:12: FutureWarning: Indexing with multiple keys (implicitly converted to a tuple of keys) will be deprecated, use a list instead.\n",
      "  bootstrapped_upward = tmp.groupby(['#t(centisec)'])['ang_pos', 'dist', 'speed_diff', 'acc_diff', 'cc'].mean().reset_index()\n",
      "/var/folders/ng/l4j590g95vl5r33ctw59y6cr0000gn/T/ipykernel_26977/3673897783.py:12: FutureWarning: Indexing with multiple keys (implicitly converted to a tuple of keys) will be deprecated, use a list instead.\n",
      "  bootstrapped_upward = tmp.groupby(['#t(centisec)'])['ang_pos', 'dist', 'speed_diff', 'acc_diff', 'cc'].mean().reset_index()\n",
      "/var/folders/ng/l4j590g95vl5r33ctw59y6cr0000gn/T/ipykernel_26977/3673897783.py:12: FutureWarning: Indexing with multiple keys (implicitly converted to a tuple of keys) will be deprecated, use a list instead.\n",
      "  bootstrapped_upward = tmp.groupby(['#t(centisec)'])['ang_pos', 'dist', 'speed_diff', 'acc_diff', 'cc'].mean().reset_index()\n",
      "/var/folders/ng/l4j590g95vl5r33ctw59y6cr0000gn/T/ipykernel_26977/3673897783.py:12: FutureWarning: Indexing with multiple keys (implicitly converted to a tuple of keys) will be deprecated, use a list instead.\n",
      "  bootstrapped_upward = tmp.groupby(['#t(centisec)'])['ang_pos', 'dist', 'speed_diff', 'acc_diff', 'cc'].mean().reset_index()\n"
     ]
    },
    {
     "name": "stdout",
     "output_type": "stream",
     "text": [
      "30\n"
     ]
    },
    {
     "name": "stderr",
     "output_type": "stream",
     "text": [
      "/var/folders/ng/l4j590g95vl5r33ctw59y6cr0000gn/T/ipykernel_26977/3673897783.py:12: FutureWarning: Indexing with multiple keys (implicitly converted to a tuple of keys) will be deprecated, use a list instead.\n",
      "  bootstrapped_upward = tmp.groupby(['#t(centisec)'])['ang_pos', 'dist', 'speed_diff', 'acc_diff', 'cc'].mean().reset_index()\n",
      "/var/folders/ng/l4j590g95vl5r33ctw59y6cr0000gn/T/ipykernel_26977/3673897783.py:12: FutureWarning: Indexing with multiple keys (implicitly converted to a tuple of keys) will be deprecated, use a list instead.\n",
      "  bootstrapped_upward = tmp.groupby(['#t(centisec)'])['ang_pos', 'dist', 'speed_diff', 'acc_diff', 'cc'].mean().reset_index()\n",
      "/var/folders/ng/l4j590g95vl5r33ctw59y6cr0000gn/T/ipykernel_26977/3673897783.py:12: FutureWarning: Indexing with multiple keys (implicitly converted to a tuple of keys) will be deprecated, use a list instead.\n",
      "  bootstrapped_upward = tmp.groupby(['#t(centisec)'])['ang_pos', 'dist', 'speed_diff', 'acc_diff', 'cc'].mean().reset_index()\n",
      "/var/folders/ng/l4j590g95vl5r33ctw59y6cr0000gn/T/ipykernel_26977/3673897783.py:12: FutureWarning: Indexing with multiple keys (implicitly converted to a tuple of keys) will be deprecated, use a list instead.\n",
      "  bootstrapped_upward = tmp.groupby(['#t(centisec)'])['ang_pos', 'dist', 'speed_diff', 'acc_diff', 'cc'].mean().reset_index()\n",
      "/var/folders/ng/l4j590g95vl5r33ctw59y6cr0000gn/T/ipykernel_26977/3673897783.py:12: FutureWarning: Indexing with multiple keys (implicitly converted to a tuple of keys) will be deprecated, use a list instead.\n",
      "  bootstrapped_upward = tmp.groupby(['#t(centisec)'])['ang_pos', 'dist', 'speed_diff', 'acc_diff', 'cc'].mean().reset_index()\n",
      "/var/folders/ng/l4j590g95vl5r33ctw59y6cr0000gn/T/ipykernel_26977/3673897783.py:12: FutureWarning: Indexing with multiple keys (implicitly converted to a tuple of keys) will be deprecated, use a list instead.\n",
      "  bootstrapped_upward = tmp.groupby(['#t(centisec)'])['ang_pos', 'dist', 'speed_diff', 'acc_diff', 'cc'].mean().reset_index()\n",
      "/var/folders/ng/l4j590g95vl5r33ctw59y6cr0000gn/T/ipykernel_26977/3673897783.py:12: FutureWarning: Indexing with multiple keys (implicitly converted to a tuple of keys) will be deprecated, use a list instead.\n",
      "  bootstrapped_upward = tmp.groupby(['#t(centisec)'])['ang_pos', 'dist', 'speed_diff', 'acc_diff', 'cc'].mean().reset_index()\n",
      "/var/folders/ng/l4j590g95vl5r33ctw59y6cr0000gn/T/ipykernel_26977/3673897783.py:12: FutureWarning: Indexing with multiple keys (implicitly converted to a tuple of keys) will be deprecated, use a list instead.\n",
      "  bootstrapped_upward = tmp.groupby(['#t(centisec)'])['ang_pos', 'dist', 'speed_diff', 'acc_diff', 'cc'].mean().reset_index()\n",
      "/var/folders/ng/l4j590g95vl5r33ctw59y6cr0000gn/T/ipykernel_26977/3673897783.py:12: FutureWarning: Indexing with multiple keys (implicitly converted to a tuple of keys) will be deprecated, use a list instead.\n",
      "  bootstrapped_upward = tmp.groupby(['#t(centisec)'])['ang_pos', 'dist', 'speed_diff', 'acc_diff', 'cc'].mean().reset_index()\n",
      "/var/folders/ng/l4j590g95vl5r33ctw59y6cr0000gn/T/ipykernel_26977/3673897783.py:12: FutureWarning: Indexing with multiple keys (implicitly converted to a tuple of keys) will be deprecated, use a list instead.\n",
      "  bootstrapped_upward = tmp.groupby(['#t(centisec)'])['ang_pos', 'dist', 'speed_diff', 'acc_diff', 'cc'].mean().reset_index()\n"
     ]
    },
    {
     "name": "stdout",
     "output_type": "stream",
     "text": [
      "40\n"
     ]
    },
    {
     "name": "stderr",
     "output_type": "stream",
     "text": [
      "/var/folders/ng/l4j590g95vl5r33ctw59y6cr0000gn/T/ipykernel_26977/3673897783.py:12: FutureWarning: Indexing with multiple keys (implicitly converted to a tuple of keys) will be deprecated, use a list instead.\n",
      "  bootstrapped_upward = tmp.groupby(['#t(centisec)'])['ang_pos', 'dist', 'speed_diff', 'acc_diff', 'cc'].mean().reset_index()\n",
      "/var/folders/ng/l4j590g95vl5r33ctw59y6cr0000gn/T/ipykernel_26977/3673897783.py:12: FutureWarning: Indexing with multiple keys (implicitly converted to a tuple of keys) will be deprecated, use a list instead.\n",
      "  bootstrapped_upward = tmp.groupby(['#t(centisec)'])['ang_pos', 'dist', 'speed_diff', 'acc_diff', 'cc'].mean().reset_index()\n",
      "/var/folders/ng/l4j590g95vl5r33ctw59y6cr0000gn/T/ipykernel_26977/3673897783.py:12: FutureWarning: Indexing with multiple keys (implicitly converted to a tuple of keys) will be deprecated, use a list instead.\n",
      "  bootstrapped_upward = tmp.groupby(['#t(centisec)'])['ang_pos', 'dist', 'speed_diff', 'acc_diff', 'cc'].mean().reset_index()\n",
      "/var/folders/ng/l4j590g95vl5r33ctw59y6cr0000gn/T/ipykernel_26977/3673897783.py:12: FutureWarning: Indexing with multiple keys (implicitly converted to a tuple of keys) will be deprecated, use a list instead.\n",
      "  bootstrapped_upward = tmp.groupby(['#t(centisec)'])['ang_pos', 'dist', 'speed_diff', 'acc_diff', 'cc'].mean().reset_index()\n",
      "/var/folders/ng/l4j590g95vl5r33ctw59y6cr0000gn/T/ipykernel_26977/3673897783.py:12: FutureWarning: Indexing with multiple keys (implicitly converted to a tuple of keys) will be deprecated, use a list instead.\n",
      "  bootstrapped_upward = tmp.groupby(['#t(centisec)'])['ang_pos', 'dist', 'speed_diff', 'acc_diff', 'cc'].mean().reset_index()\n",
      "/var/folders/ng/l4j590g95vl5r33ctw59y6cr0000gn/T/ipykernel_26977/3673897783.py:12: FutureWarning: Indexing with multiple keys (implicitly converted to a tuple of keys) will be deprecated, use a list instead.\n",
      "  bootstrapped_upward = tmp.groupby(['#t(centisec)'])['ang_pos', 'dist', 'speed_diff', 'acc_diff', 'cc'].mean().reset_index()\n",
      "/var/folders/ng/l4j590g95vl5r33ctw59y6cr0000gn/T/ipykernel_26977/3673897783.py:12: FutureWarning: Indexing with multiple keys (implicitly converted to a tuple of keys) will be deprecated, use a list instead.\n",
      "  bootstrapped_upward = tmp.groupby(['#t(centisec)'])['ang_pos', 'dist', 'speed_diff', 'acc_diff', 'cc'].mean().reset_index()\n",
      "/var/folders/ng/l4j590g95vl5r33ctw59y6cr0000gn/T/ipykernel_26977/3673897783.py:12: FutureWarning: Indexing with multiple keys (implicitly converted to a tuple of keys) will be deprecated, use a list instead.\n",
      "  bootstrapped_upward = tmp.groupby(['#t(centisec)'])['ang_pos', 'dist', 'speed_diff', 'acc_diff', 'cc'].mean().reset_index()\n",
      "/var/folders/ng/l4j590g95vl5r33ctw59y6cr0000gn/T/ipykernel_26977/3673897783.py:12: FutureWarning: Indexing with multiple keys (implicitly converted to a tuple of keys) will be deprecated, use a list instead.\n",
      "  bootstrapped_upward = tmp.groupby(['#t(centisec)'])['ang_pos', 'dist', 'speed_diff', 'acc_diff', 'cc'].mean().reset_index()\n",
      "/var/folders/ng/l4j590g95vl5r33ctw59y6cr0000gn/T/ipykernel_26977/3673897783.py:12: FutureWarning: Indexing with multiple keys (implicitly converted to a tuple of keys) will be deprecated, use a list instead.\n",
      "  bootstrapped_upward = tmp.groupby(['#t(centisec)'])['ang_pos', 'dist', 'speed_diff', 'acc_diff', 'cc'].mean().reset_index()\n"
     ]
    },
    {
     "name": "stdout",
     "output_type": "stream",
     "text": [
      "50\n"
     ]
    },
    {
     "name": "stderr",
     "output_type": "stream",
     "text": [
      "/var/folders/ng/l4j590g95vl5r33ctw59y6cr0000gn/T/ipykernel_26977/3673897783.py:12: FutureWarning: Indexing with multiple keys (implicitly converted to a tuple of keys) will be deprecated, use a list instead.\n",
      "  bootstrapped_upward = tmp.groupby(['#t(centisec)'])['ang_pos', 'dist', 'speed_diff', 'acc_diff', 'cc'].mean().reset_index()\n",
      "/var/folders/ng/l4j590g95vl5r33ctw59y6cr0000gn/T/ipykernel_26977/3673897783.py:12: FutureWarning: Indexing with multiple keys (implicitly converted to a tuple of keys) will be deprecated, use a list instead.\n",
      "  bootstrapped_upward = tmp.groupby(['#t(centisec)'])['ang_pos', 'dist', 'speed_diff', 'acc_diff', 'cc'].mean().reset_index()\n",
      "/var/folders/ng/l4j590g95vl5r33ctw59y6cr0000gn/T/ipykernel_26977/3673897783.py:12: FutureWarning: Indexing with multiple keys (implicitly converted to a tuple of keys) will be deprecated, use a list instead.\n",
      "  bootstrapped_upward = tmp.groupby(['#t(centisec)'])['ang_pos', 'dist', 'speed_diff', 'acc_diff', 'cc'].mean().reset_index()\n",
      "/var/folders/ng/l4j590g95vl5r33ctw59y6cr0000gn/T/ipykernel_26977/3673897783.py:12: FutureWarning: Indexing with multiple keys (implicitly converted to a tuple of keys) will be deprecated, use a list instead.\n",
      "  bootstrapped_upward = tmp.groupby(['#t(centisec)'])['ang_pos', 'dist', 'speed_diff', 'acc_diff', 'cc'].mean().reset_index()\n",
      "/var/folders/ng/l4j590g95vl5r33ctw59y6cr0000gn/T/ipykernel_26977/3673897783.py:12: FutureWarning: Indexing with multiple keys (implicitly converted to a tuple of keys) will be deprecated, use a list instead.\n",
      "  bootstrapped_upward = tmp.groupby(['#t(centisec)'])['ang_pos', 'dist', 'speed_diff', 'acc_diff', 'cc'].mean().reset_index()\n",
      "/var/folders/ng/l4j590g95vl5r33ctw59y6cr0000gn/T/ipykernel_26977/3673897783.py:12: FutureWarning: Indexing with multiple keys (implicitly converted to a tuple of keys) will be deprecated, use a list instead.\n",
      "  bootstrapped_upward = tmp.groupby(['#t(centisec)'])['ang_pos', 'dist', 'speed_diff', 'acc_diff', 'cc'].mean().reset_index()\n",
      "/var/folders/ng/l4j590g95vl5r33ctw59y6cr0000gn/T/ipykernel_26977/3673897783.py:12: FutureWarning: Indexing with multiple keys (implicitly converted to a tuple of keys) will be deprecated, use a list instead.\n",
      "  bootstrapped_upward = tmp.groupby(['#t(centisec)'])['ang_pos', 'dist', 'speed_diff', 'acc_diff', 'cc'].mean().reset_index()\n",
      "/var/folders/ng/l4j590g95vl5r33ctw59y6cr0000gn/T/ipykernel_26977/3673897783.py:12: FutureWarning: Indexing with multiple keys (implicitly converted to a tuple of keys) will be deprecated, use a list instead.\n",
      "  bootstrapped_upward = tmp.groupby(['#t(centisec)'])['ang_pos', 'dist', 'speed_diff', 'acc_diff', 'cc'].mean().reset_index()\n",
      "/var/folders/ng/l4j590g95vl5r33ctw59y6cr0000gn/T/ipykernel_26977/3673897783.py:12: FutureWarning: Indexing with multiple keys (implicitly converted to a tuple of keys) will be deprecated, use a list instead.\n",
      "  bootstrapped_upward = tmp.groupby(['#t(centisec)'])['ang_pos', 'dist', 'speed_diff', 'acc_diff', 'cc'].mean().reset_index()\n",
      "/var/folders/ng/l4j590g95vl5r33ctw59y6cr0000gn/T/ipykernel_26977/3673897783.py:12: FutureWarning: Indexing with multiple keys (implicitly converted to a tuple of keys) will be deprecated, use a list instead.\n",
      "  bootstrapped_upward = tmp.groupby(['#t(centisec)'])['ang_pos', 'dist', 'speed_diff', 'acc_diff', 'cc'].mean().reset_index()\n"
     ]
    },
    {
     "name": "stdout",
     "output_type": "stream",
     "text": [
      "60\n"
     ]
    },
    {
     "name": "stderr",
     "output_type": "stream",
     "text": [
      "/var/folders/ng/l4j590g95vl5r33ctw59y6cr0000gn/T/ipykernel_26977/3673897783.py:12: FutureWarning: Indexing with multiple keys (implicitly converted to a tuple of keys) will be deprecated, use a list instead.\n",
      "  bootstrapped_upward = tmp.groupby(['#t(centisec)'])['ang_pos', 'dist', 'speed_diff', 'acc_diff', 'cc'].mean().reset_index()\n",
      "/var/folders/ng/l4j590g95vl5r33ctw59y6cr0000gn/T/ipykernel_26977/3673897783.py:12: FutureWarning: Indexing with multiple keys (implicitly converted to a tuple of keys) will be deprecated, use a list instead.\n",
      "  bootstrapped_upward = tmp.groupby(['#t(centisec)'])['ang_pos', 'dist', 'speed_diff', 'acc_diff', 'cc'].mean().reset_index()\n",
      "/var/folders/ng/l4j590g95vl5r33ctw59y6cr0000gn/T/ipykernel_26977/3673897783.py:12: FutureWarning: Indexing with multiple keys (implicitly converted to a tuple of keys) will be deprecated, use a list instead.\n",
      "  bootstrapped_upward = tmp.groupby(['#t(centisec)'])['ang_pos', 'dist', 'speed_diff', 'acc_diff', 'cc'].mean().reset_index()\n",
      "/var/folders/ng/l4j590g95vl5r33ctw59y6cr0000gn/T/ipykernel_26977/3673897783.py:12: FutureWarning: Indexing with multiple keys (implicitly converted to a tuple of keys) will be deprecated, use a list instead.\n",
      "  bootstrapped_upward = tmp.groupby(['#t(centisec)'])['ang_pos', 'dist', 'speed_diff', 'acc_diff', 'cc'].mean().reset_index()\n",
      "/var/folders/ng/l4j590g95vl5r33ctw59y6cr0000gn/T/ipykernel_26977/3673897783.py:12: FutureWarning: Indexing with multiple keys (implicitly converted to a tuple of keys) will be deprecated, use a list instead.\n",
      "  bootstrapped_upward = tmp.groupby(['#t(centisec)'])['ang_pos', 'dist', 'speed_diff', 'acc_diff', 'cc'].mean().reset_index()\n",
      "/var/folders/ng/l4j590g95vl5r33ctw59y6cr0000gn/T/ipykernel_26977/3673897783.py:12: FutureWarning: Indexing with multiple keys (implicitly converted to a tuple of keys) will be deprecated, use a list instead.\n",
      "  bootstrapped_upward = tmp.groupby(['#t(centisec)'])['ang_pos', 'dist', 'speed_diff', 'acc_diff', 'cc'].mean().reset_index()\n",
      "/var/folders/ng/l4j590g95vl5r33ctw59y6cr0000gn/T/ipykernel_26977/3673897783.py:12: FutureWarning: Indexing with multiple keys (implicitly converted to a tuple of keys) will be deprecated, use a list instead.\n",
      "  bootstrapped_upward = tmp.groupby(['#t(centisec)'])['ang_pos', 'dist', 'speed_diff', 'acc_diff', 'cc'].mean().reset_index()\n",
      "/var/folders/ng/l4j590g95vl5r33ctw59y6cr0000gn/T/ipykernel_26977/3673897783.py:12: FutureWarning: Indexing with multiple keys (implicitly converted to a tuple of keys) will be deprecated, use a list instead.\n",
      "  bootstrapped_upward = tmp.groupby(['#t(centisec)'])['ang_pos', 'dist', 'speed_diff', 'acc_diff', 'cc'].mean().reset_index()\n",
      "/var/folders/ng/l4j590g95vl5r33ctw59y6cr0000gn/T/ipykernel_26977/3673897783.py:12: FutureWarning: Indexing with multiple keys (implicitly converted to a tuple of keys) will be deprecated, use a list instead.\n",
      "  bootstrapped_upward = tmp.groupby(['#t(centisec)'])['ang_pos', 'dist', 'speed_diff', 'acc_diff', 'cc'].mean().reset_index()\n",
      "/var/folders/ng/l4j590g95vl5r33ctw59y6cr0000gn/T/ipykernel_26977/3673897783.py:12: FutureWarning: Indexing with multiple keys (implicitly converted to a tuple of keys) will be deprecated, use a list instead.\n",
      "  bootstrapped_upward = tmp.groupby(['#t(centisec)'])['ang_pos', 'dist', 'speed_diff', 'acc_diff', 'cc'].mean().reset_index()\n"
     ]
    },
    {
     "name": "stdout",
     "output_type": "stream",
     "text": [
      "70\n"
     ]
    },
    {
     "name": "stderr",
     "output_type": "stream",
     "text": [
      "/var/folders/ng/l4j590g95vl5r33ctw59y6cr0000gn/T/ipykernel_26977/3673897783.py:12: FutureWarning: Indexing with multiple keys (implicitly converted to a tuple of keys) will be deprecated, use a list instead.\n",
      "  bootstrapped_upward = tmp.groupby(['#t(centisec)'])['ang_pos', 'dist', 'speed_diff', 'acc_diff', 'cc'].mean().reset_index()\n",
      "/var/folders/ng/l4j590g95vl5r33ctw59y6cr0000gn/T/ipykernel_26977/3673897783.py:12: FutureWarning: Indexing with multiple keys (implicitly converted to a tuple of keys) will be deprecated, use a list instead.\n",
      "  bootstrapped_upward = tmp.groupby(['#t(centisec)'])['ang_pos', 'dist', 'speed_diff', 'acc_diff', 'cc'].mean().reset_index()\n",
      "/var/folders/ng/l4j590g95vl5r33ctw59y6cr0000gn/T/ipykernel_26977/3673897783.py:12: FutureWarning: Indexing with multiple keys (implicitly converted to a tuple of keys) will be deprecated, use a list instead.\n",
      "  bootstrapped_upward = tmp.groupby(['#t(centisec)'])['ang_pos', 'dist', 'speed_diff', 'acc_diff', 'cc'].mean().reset_index()\n",
      "/var/folders/ng/l4j590g95vl5r33ctw59y6cr0000gn/T/ipykernel_26977/3673897783.py:12: FutureWarning: Indexing with multiple keys (implicitly converted to a tuple of keys) will be deprecated, use a list instead.\n",
      "  bootstrapped_upward = tmp.groupby(['#t(centisec)'])['ang_pos', 'dist', 'speed_diff', 'acc_diff', 'cc'].mean().reset_index()\n",
      "/var/folders/ng/l4j590g95vl5r33ctw59y6cr0000gn/T/ipykernel_26977/3673897783.py:12: FutureWarning: Indexing with multiple keys (implicitly converted to a tuple of keys) will be deprecated, use a list instead.\n",
      "  bootstrapped_upward = tmp.groupby(['#t(centisec)'])['ang_pos', 'dist', 'speed_diff', 'acc_diff', 'cc'].mean().reset_index()\n",
      "/var/folders/ng/l4j590g95vl5r33ctw59y6cr0000gn/T/ipykernel_26977/3673897783.py:12: FutureWarning: Indexing with multiple keys (implicitly converted to a tuple of keys) will be deprecated, use a list instead.\n",
      "  bootstrapped_upward = tmp.groupby(['#t(centisec)'])['ang_pos', 'dist', 'speed_diff', 'acc_diff', 'cc'].mean().reset_index()\n",
      "/var/folders/ng/l4j590g95vl5r33ctw59y6cr0000gn/T/ipykernel_26977/3673897783.py:12: FutureWarning: Indexing with multiple keys (implicitly converted to a tuple of keys) will be deprecated, use a list instead.\n",
      "  bootstrapped_upward = tmp.groupby(['#t(centisec)'])['ang_pos', 'dist', 'speed_diff', 'acc_diff', 'cc'].mean().reset_index()\n",
      "/var/folders/ng/l4j590g95vl5r33ctw59y6cr0000gn/T/ipykernel_26977/3673897783.py:12: FutureWarning: Indexing with multiple keys (implicitly converted to a tuple of keys) will be deprecated, use a list instead.\n",
      "  bootstrapped_upward = tmp.groupby(['#t(centisec)'])['ang_pos', 'dist', 'speed_diff', 'acc_diff', 'cc'].mean().reset_index()\n",
      "/var/folders/ng/l4j590g95vl5r33ctw59y6cr0000gn/T/ipykernel_26977/3673897783.py:12: FutureWarning: Indexing with multiple keys (implicitly converted to a tuple of keys) will be deprecated, use a list instead.\n",
      "  bootstrapped_upward = tmp.groupby(['#t(centisec)'])['ang_pos', 'dist', 'speed_diff', 'acc_diff', 'cc'].mean().reset_index()\n",
      "/var/folders/ng/l4j590g95vl5r33ctw59y6cr0000gn/T/ipykernel_26977/3673897783.py:12: FutureWarning: Indexing with multiple keys (implicitly converted to a tuple of keys) will be deprecated, use a list instead.\n",
      "  bootstrapped_upward = tmp.groupby(['#t(centisec)'])['ang_pos', 'dist', 'speed_diff', 'acc_diff', 'cc'].mean().reset_index()\n"
     ]
    },
    {
     "name": "stdout",
     "output_type": "stream",
     "text": [
      "80\n"
     ]
    },
    {
     "name": "stderr",
     "output_type": "stream",
     "text": [
      "/var/folders/ng/l4j590g95vl5r33ctw59y6cr0000gn/T/ipykernel_26977/3673897783.py:12: FutureWarning: Indexing with multiple keys (implicitly converted to a tuple of keys) will be deprecated, use a list instead.\n",
      "  bootstrapped_upward = tmp.groupby(['#t(centisec)'])['ang_pos', 'dist', 'speed_diff', 'acc_diff', 'cc'].mean().reset_index()\n",
      "/var/folders/ng/l4j590g95vl5r33ctw59y6cr0000gn/T/ipykernel_26977/3673897783.py:12: FutureWarning: Indexing with multiple keys (implicitly converted to a tuple of keys) will be deprecated, use a list instead.\n",
      "  bootstrapped_upward = tmp.groupby(['#t(centisec)'])['ang_pos', 'dist', 'speed_diff', 'acc_diff', 'cc'].mean().reset_index()\n",
      "/var/folders/ng/l4j590g95vl5r33ctw59y6cr0000gn/T/ipykernel_26977/3673897783.py:12: FutureWarning: Indexing with multiple keys (implicitly converted to a tuple of keys) will be deprecated, use a list instead.\n",
      "  bootstrapped_upward = tmp.groupby(['#t(centisec)'])['ang_pos', 'dist', 'speed_diff', 'acc_diff', 'cc'].mean().reset_index()\n",
      "/var/folders/ng/l4j590g95vl5r33ctw59y6cr0000gn/T/ipykernel_26977/3673897783.py:12: FutureWarning: Indexing with multiple keys (implicitly converted to a tuple of keys) will be deprecated, use a list instead.\n",
      "  bootstrapped_upward = tmp.groupby(['#t(centisec)'])['ang_pos', 'dist', 'speed_diff', 'acc_diff', 'cc'].mean().reset_index()\n",
      "/var/folders/ng/l4j590g95vl5r33ctw59y6cr0000gn/T/ipykernel_26977/3673897783.py:12: FutureWarning: Indexing with multiple keys (implicitly converted to a tuple of keys) will be deprecated, use a list instead.\n",
      "  bootstrapped_upward = tmp.groupby(['#t(centisec)'])['ang_pos', 'dist', 'speed_diff', 'acc_diff', 'cc'].mean().reset_index()\n",
      "/var/folders/ng/l4j590g95vl5r33ctw59y6cr0000gn/T/ipykernel_26977/3673897783.py:12: FutureWarning: Indexing with multiple keys (implicitly converted to a tuple of keys) will be deprecated, use a list instead.\n",
      "  bootstrapped_upward = tmp.groupby(['#t(centisec)'])['ang_pos', 'dist', 'speed_diff', 'acc_diff', 'cc'].mean().reset_index()\n",
      "/var/folders/ng/l4j590g95vl5r33ctw59y6cr0000gn/T/ipykernel_26977/3673897783.py:12: FutureWarning: Indexing with multiple keys (implicitly converted to a tuple of keys) will be deprecated, use a list instead.\n",
      "  bootstrapped_upward = tmp.groupby(['#t(centisec)'])['ang_pos', 'dist', 'speed_diff', 'acc_diff', 'cc'].mean().reset_index()\n",
      "/var/folders/ng/l4j590g95vl5r33ctw59y6cr0000gn/T/ipykernel_26977/3673897783.py:12: FutureWarning: Indexing with multiple keys (implicitly converted to a tuple of keys) will be deprecated, use a list instead.\n",
      "  bootstrapped_upward = tmp.groupby(['#t(centisec)'])['ang_pos', 'dist', 'speed_diff', 'acc_diff', 'cc'].mean().reset_index()\n",
      "/var/folders/ng/l4j590g95vl5r33ctw59y6cr0000gn/T/ipykernel_26977/3673897783.py:12: FutureWarning: Indexing with multiple keys (implicitly converted to a tuple of keys) will be deprecated, use a list instead.\n",
      "  bootstrapped_upward = tmp.groupby(['#t(centisec)'])['ang_pos', 'dist', 'speed_diff', 'acc_diff', 'cc'].mean().reset_index()\n",
      "/var/folders/ng/l4j590g95vl5r33ctw59y6cr0000gn/T/ipykernel_26977/3673897783.py:12: FutureWarning: Indexing with multiple keys (implicitly converted to a tuple of keys) will be deprecated, use a list instead.\n",
      "  bootstrapped_upward = tmp.groupby(['#t(centisec)'])['ang_pos', 'dist', 'speed_diff', 'acc_diff', 'cc'].mean().reset_index()\n"
     ]
    },
    {
     "name": "stdout",
     "output_type": "stream",
     "text": [
      "90\n"
     ]
    },
    {
     "name": "stderr",
     "output_type": "stream",
     "text": [
      "/var/folders/ng/l4j590g95vl5r33ctw59y6cr0000gn/T/ipykernel_26977/3673897783.py:12: FutureWarning: Indexing with multiple keys (implicitly converted to a tuple of keys) will be deprecated, use a list instead.\n",
      "  bootstrapped_upward = tmp.groupby(['#t(centisec)'])['ang_pos', 'dist', 'speed_diff', 'acc_diff', 'cc'].mean().reset_index()\n",
      "/var/folders/ng/l4j590g95vl5r33ctw59y6cr0000gn/T/ipykernel_26977/3673897783.py:12: FutureWarning: Indexing with multiple keys (implicitly converted to a tuple of keys) will be deprecated, use a list instead.\n",
      "  bootstrapped_upward = tmp.groupby(['#t(centisec)'])['ang_pos', 'dist', 'speed_diff', 'acc_diff', 'cc'].mean().reset_index()\n",
      "/var/folders/ng/l4j590g95vl5r33ctw59y6cr0000gn/T/ipykernel_26977/3673897783.py:12: FutureWarning: Indexing with multiple keys (implicitly converted to a tuple of keys) will be deprecated, use a list instead.\n",
      "  bootstrapped_upward = tmp.groupby(['#t(centisec)'])['ang_pos', 'dist', 'speed_diff', 'acc_diff', 'cc'].mean().reset_index()\n",
      "/var/folders/ng/l4j590g95vl5r33ctw59y6cr0000gn/T/ipykernel_26977/3673897783.py:12: FutureWarning: Indexing with multiple keys (implicitly converted to a tuple of keys) will be deprecated, use a list instead.\n",
      "  bootstrapped_upward = tmp.groupby(['#t(centisec)'])['ang_pos', 'dist', 'speed_diff', 'acc_diff', 'cc'].mean().reset_index()\n",
      "/var/folders/ng/l4j590g95vl5r33ctw59y6cr0000gn/T/ipykernel_26977/3673897783.py:12: FutureWarning: Indexing with multiple keys (implicitly converted to a tuple of keys) will be deprecated, use a list instead.\n",
      "  bootstrapped_upward = tmp.groupby(['#t(centisec)'])['ang_pos', 'dist', 'speed_diff', 'acc_diff', 'cc'].mean().reset_index()\n",
      "/var/folders/ng/l4j590g95vl5r33ctw59y6cr0000gn/T/ipykernel_26977/3673897783.py:12: FutureWarning: Indexing with multiple keys (implicitly converted to a tuple of keys) will be deprecated, use a list instead.\n",
      "  bootstrapped_upward = tmp.groupby(['#t(centisec)'])['ang_pos', 'dist', 'speed_diff', 'acc_diff', 'cc'].mean().reset_index()\n",
      "/var/folders/ng/l4j590g95vl5r33ctw59y6cr0000gn/T/ipykernel_26977/3673897783.py:12: FutureWarning: Indexing with multiple keys (implicitly converted to a tuple of keys) will be deprecated, use a list instead.\n",
      "  bootstrapped_upward = tmp.groupby(['#t(centisec)'])['ang_pos', 'dist', 'speed_diff', 'acc_diff', 'cc'].mean().reset_index()\n",
      "/var/folders/ng/l4j590g95vl5r33ctw59y6cr0000gn/T/ipykernel_26977/3673897783.py:12: FutureWarning: Indexing with multiple keys (implicitly converted to a tuple of keys) will be deprecated, use a list instead.\n",
      "  bootstrapped_upward = tmp.groupby(['#t(centisec)'])['ang_pos', 'dist', 'speed_diff', 'acc_diff', 'cc'].mean().reset_index()\n",
      "/var/folders/ng/l4j590g95vl5r33ctw59y6cr0000gn/T/ipykernel_26977/3673897783.py:12: FutureWarning: Indexing with multiple keys (implicitly converted to a tuple of keys) will be deprecated, use a list instead.\n",
      "  bootstrapped_upward = tmp.groupby(['#t(centisec)'])['ang_pos', 'dist', 'speed_diff', 'acc_diff', 'cc'].mean().reset_index()\n",
      "/var/folders/ng/l4j590g95vl5r33ctw59y6cr0000gn/T/ipykernel_26977/3673897783.py:12: FutureWarning: Indexing with multiple keys (implicitly converted to a tuple of keys) will be deprecated, use a list instead.\n",
      "  bootstrapped_upward = tmp.groupby(['#t(centisec)'])['ang_pos', 'dist', 'speed_diff', 'acc_diff', 'cc'].mean().reset_index()\n"
     ]
    },
    {
     "name": "stdout",
     "output_type": "stream",
     "text": [
      "100\n"
     ]
    },
    {
     "name": "stderr",
     "output_type": "stream",
     "text": [
      "/var/folders/ng/l4j590g95vl5r33ctw59y6cr0000gn/T/ipykernel_26977/3673897783.py:12: FutureWarning: Indexing with multiple keys (implicitly converted to a tuple of keys) will be deprecated, use a list instead.\n",
      "  bootstrapped_upward = tmp.groupby(['#t(centisec)'])['ang_pos', 'dist', 'speed_diff', 'acc_diff', 'cc'].mean().reset_index()\n",
      "/var/folders/ng/l4j590g95vl5r33ctw59y6cr0000gn/T/ipykernel_26977/3673897783.py:12: FutureWarning: Indexing with multiple keys (implicitly converted to a tuple of keys) will be deprecated, use a list instead.\n",
      "  bootstrapped_upward = tmp.groupby(['#t(centisec)'])['ang_pos', 'dist', 'speed_diff', 'acc_diff', 'cc'].mean().reset_index()\n",
      "/var/folders/ng/l4j590g95vl5r33ctw59y6cr0000gn/T/ipykernel_26977/3673897783.py:12: FutureWarning: Indexing with multiple keys (implicitly converted to a tuple of keys) will be deprecated, use a list instead.\n",
      "  bootstrapped_upward = tmp.groupby(['#t(centisec)'])['ang_pos', 'dist', 'speed_diff', 'acc_diff', 'cc'].mean().reset_index()\n",
      "/var/folders/ng/l4j590g95vl5r33ctw59y6cr0000gn/T/ipykernel_26977/3673897783.py:12: FutureWarning: Indexing with multiple keys (implicitly converted to a tuple of keys) will be deprecated, use a list instead.\n",
      "  bootstrapped_upward = tmp.groupby(['#t(centisec)'])['ang_pos', 'dist', 'speed_diff', 'acc_diff', 'cc'].mean().reset_index()\n",
      "/var/folders/ng/l4j590g95vl5r33ctw59y6cr0000gn/T/ipykernel_26977/3673897783.py:12: FutureWarning: Indexing with multiple keys (implicitly converted to a tuple of keys) will be deprecated, use a list instead.\n",
      "  bootstrapped_upward = tmp.groupby(['#t(centisec)'])['ang_pos', 'dist', 'speed_diff', 'acc_diff', 'cc'].mean().reset_index()\n",
      "/var/folders/ng/l4j590g95vl5r33ctw59y6cr0000gn/T/ipykernel_26977/3673897783.py:12: FutureWarning: Indexing with multiple keys (implicitly converted to a tuple of keys) will be deprecated, use a list instead.\n",
      "  bootstrapped_upward = tmp.groupby(['#t(centisec)'])['ang_pos', 'dist', 'speed_diff', 'acc_diff', 'cc'].mean().reset_index()\n",
      "/var/folders/ng/l4j590g95vl5r33ctw59y6cr0000gn/T/ipykernel_26977/3673897783.py:12: FutureWarning: Indexing with multiple keys (implicitly converted to a tuple of keys) will be deprecated, use a list instead.\n",
      "  bootstrapped_upward = tmp.groupby(['#t(centisec)'])['ang_pos', 'dist', 'speed_diff', 'acc_diff', 'cc'].mean().reset_index()\n",
      "/var/folders/ng/l4j590g95vl5r33ctw59y6cr0000gn/T/ipykernel_26977/3673897783.py:12: FutureWarning: Indexing with multiple keys (implicitly converted to a tuple of keys) will be deprecated, use a list instead.\n",
      "  bootstrapped_upward = tmp.groupby(['#t(centisec)'])['ang_pos', 'dist', 'speed_diff', 'acc_diff', 'cc'].mean().reset_index()\n",
      "/var/folders/ng/l4j590g95vl5r33ctw59y6cr0000gn/T/ipykernel_26977/3673897783.py:12: FutureWarning: Indexing with multiple keys (implicitly converted to a tuple of keys) will be deprecated, use a list instead.\n",
      "  bootstrapped_upward = tmp.groupby(['#t(centisec)'])['ang_pos', 'dist', 'speed_diff', 'acc_diff', 'cc'].mean().reset_index()\n",
      "/var/folders/ng/l4j590g95vl5r33ctw59y6cr0000gn/T/ipykernel_26977/3673897783.py:12: FutureWarning: Indexing with multiple keys (implicitly converted to a tuple of keys) will be deprecated, use a list instead.\n",
      "  bootstrapped_upward = tmp.groupby(['#t(centisec)'])['ang_pos', 'dist', 'speed_diff', 'acc_diff', 'cc'].mean().reset_index()\n"
     ]
    },
    {
     "name": "stdout",
     "output_type": "stream",
     "text": [
      "110\n"
     ]
    },
    {
     "name": "stderr",
     "output_type": "stream",
     "text": [
      "/var/folders/ng/l4j590g95vl5r33ctw59y6cr0000gn/T/ipykernel_26977/3673897783.py:12: FutureWarning: Indexing with multiple keys (implicitly converted to a tuple of keys) will be deprecated, use a list instead.\n",
      "  bootstrapped_upward = tmp.groupby(['#t(centisec)'])['ang_pos', 'dist', 'speed_diff', 'acc_diff', 'cc'].mean().reset_index()\n",
      "/var/folders/ng/l4j590g95vl5r33ctw59y6cr0000gn/T/ipykernel_26977/3673897783.py:12: FutureWarning: Indexing with multiple keys (implicitly converted to a tuple of keys) will be deprecated, use a list instead.\n",
      "  bootstrapped_upward = tmp.groupby(['#t(centisec)'])['ang_pos', 'dist', 'speed_diff', 'acc_diff', 'cc'].mean().reset_index()\n",
      "/var/folders/ng/l4j590g95vl5r33ctw59y6cr0000gn/T/ipykernel_26977/3673897783.py:12: FutureWarning: Indexing with multiple keys (implicitly converted to a tuple of keys) will be deprecated, use a list instead.\n",
      "  bootstrapped_upward = tmp.groupby(['#t(centisec)'])['ang_pos', 'dist', 'speed_diff', 'acc_diff', 'cc'].mean().reset_index()\n",
      "/var/folders/ng/l4j590g95vl5r33ctw59y6cr0000gn/T/ipykernel_26977/3673897783.py:12: FutureWarning: Indexing with multiple keys (implicitly converted to a tuple of keys) will be deprecated, use a list instead.\n",
      "  bootstrapped_upward = tmp.groupby(['#t(centisec)'])['ang_pos', 'dist', 'speed_diff', 'acc_diff', 'cc'].mean().reset_index()\n",
      "/var/folders/ng/l4j590g95vl5r33ctw59y6cr0000gn/T/ipykernel_26977/3673897783.py:12: FutureWarning: Indexing with multiple keys (implicitly converted to a tuple of keys) will be deprecated, use a list instead.\n",
      "  bootstrapped_upward = tmp.groupby(['#t(centisec)'])['ang_pos', 'dist', 'speed_diff', 'acc_diff', 'cc'].mean().reset_index()\n",
      "/var/folders/ng/l4j590g95vl5r33ctw59y6cr0000gn/T/ipykernel_26977/3673897783.py:12: FutureWarning: Indexing with multiple keys (implicitly converted to a tuple of keys) will be deprecated, use a list instead.\n",
      "  bootstrapped_upward = tmp.groupby(['#t(centisec)'])['ang_pos', 'dist', 'speed_diff', 'acc_diff', 'cc'].mean().reset_index()\n",
      "/var/folders/ng/l4j590g95vl5r33ctw59y6cr0000gn/T/ipykernel_26977/3673897783.py:12: FutureWarning: Indexing with multiple keys (implicitly converted to a tuple of keys) will be deprecated, use a list instead.\n",
      "  bootstrapped_upward = tmp.groupby(['#t(centisec)'])['ang_pos', 'dist', 'speed_diff', 'acc_diff', 'cc'].mean().reset_index()\n",
      "/var/folders/ng/l4j590g95vl5r33ctw59y6cr0000gn/T/ipykernel_26977/3673897783.py:12: FutureWarning: Indexing with multiple keys (implicitly converted to a tuple of keys) will be deprecated, use a list instead.\n",
      "  bootstrapped_upward = tmp.groupby(['#t(centisec)'])['ang_pos', 'dist', 'speed_diff', 'acc_diff', 'cc'].mean().reset_index()\n",
      "/var/folders/ng/l4j590g95vl5r33ctw59y6cr0000gn/T/ipykernel_26977/3673897783.py:12: FutureWarning: Indexing with multiple keys (implicitly converted to a tuple of keys) will be deprecated, use a list instead.\n",
      "  bootstrapped_upward = tmp.groupby(['#t(centisec)'])['ang_pos', 'dist', 'speed_diff', 'acc_diff', 'cc'].mean().reset_index()\n",
      "/var/folders/ng/l4j590g95vl5r33ctw59y6cr0000gn/T/ipykernel_26977/3673897783.py:12: FutureWarning: Indexing with multiple keys (implicitly converted to a tuple of keys) will be deprecated, use a list instead.\n",
      "  bootstrapped_upward = tmp.groupby(['#t(centisec)'])['ang_pos', 'dist', 'speed_diff', 'acc_diff', 'cc'].mean().reset_index()\n"
     ]
    },
    {
     "name": "stdout",
     "output_type": "stream",
     "text": [
      "120\n"
     ]
    },
    {
     "name": "stderr",
     "output_type": "stream",
     "text": [
      "/var/folders/ng/l4j590g95vl5r33ctw59y6cr0000gn/T/ipykernel_26977/3673897783.py:12: FutureWarning: Indexing with multiple keys (implicitly converted to a tuple of keys) will be deprecated, use a list instead.\n",
      "  bootstrapped_upward = tmp.groupby(['#t(centisec)'])['ang_pos', 'dist', 'speed_diff', 'acc_diff', 'cc'].mean().reset_index()\n",
      "/var/folders/ng/l4j590g95vl5r33ctw59y6cr0000gn/T/ipykernel_26977/3673897783.py:12: FutureWarning: Indexing with multiple keys (implicitly converted to a tuple of keys) will be deprecated, use a list instead.\n",
      "  bootstrapped_upward = tmp.groupby(['#t(centisec)'])['ang_pos', 'dist', 'speed_diff', 'acc_diff', 'cc'].mean().reset_index()\n",
      "/var/folders/ng/l4j590g95vl5r33ctw59y6cr0000gn/T/ipykernel_26977/3673897783.py:12: FutureWarning: Indexing with multiple keys (implicitly converted to a tuple of keys) will be deprecated, use a list instead.\n",
      "  bootstrapped_upward = tmp.groupby(['#t(centisec)'])['ang_pos', 'dist', 'speed_diff', 'acc_diff', 'cc'].mean().reset_index()\n",
      "/var/folders/ng/l4j590g95vl5r33ctw59y6cr0000gn/T/ipykernel_26977/3673897783.py:12: FutureWarning: Indexing with multiple keys (implicitly converted to a tuple of keys) will be deprecated, use a list instead.\n",
      "  bootstrapped_upward = tmp.groupby(['#t(centisec)'])['ang_pos', 'dist', 'speed_diff', 'acc_diff', 'cc'].mean().reset_index()\n",
      "/var/folders/ng/l4j590g95vl5r33ctw59y6cr0000gn/T/ipykernel_26977/3673897783.py:12: FutureWarning: Indexing with multiple keys (implicitly converted to a tuple of keys) will be deprecated, use a list instead.\n",
      "  bootstrapped_upward = tmp.groupby(['#t(centisec)'])['ang_pos', 'dist', 'speed_diff', 'acc_diff', 'cc'].mean().reset_index()\n",
      "/var/folders/ng/l4j590g95vl5r33ctw59y6cr0000gn/T/ipykernel_26977/3673897783.py:12: FutureWarning: Indexing with multiple keys (implicitly converted to a tuple of keys) will be deprecated, use a list instead.\n",
      "  bootstrapped_upward = tmp.groupby(['#t(centisec)'])['ang_pos', 'dist', 'speed_diff', 'acc_diff', 'cc'].mean().reset_index()\n",
      "/var/folders/ng/l4j590g95vl5r33ctw59y6cr0000gn/T/ipykernel_26977/3673897783.py:12: FutureWarning: Indexing with multiple keys (implicitly converted to a tuple of keys) will be deprecated, use a list instead.\n",
      "  bootstrapped_upward = tmp.groupby(['#t(centisec)'])['ang_pos', 'dist', 'speed_diff', 'acc_diff', 'cc'].mean().reset_index()\n",
      "/var/folders/ng/l4j590g95vl5r33ctw59y6cr0000gn/T/ipykernel_26977/3673897783.py:12: FutureWarning: Indexing with multiple keys (implicitly converted to a tuple of keys) will be deprecated, use a list instead.\n",
      "  bootstrapped_upward = tmp.groupby(['#t(centisec)'])['ang_pos', 'dist', 'speed_diff', 'acc_diff', 'cc'].mean().reset_index()\n",
      "/var/folders/ng/l4j590g95vl5r33ctw59y6cr0000gn/T/ipykernel_26977/3673897783.py:12: FutureWarning: Indexing with multiple keys (implicitly converted to a tuple of keys) will be deprecated, use a list instead.\n",
      "  bootstrapped_upward = tmp.groupby(['#t(centisec)'])['ang_pos', 'dist', 'speed_diff', 'acc_diff', 'cc'].mean().reset_index()\n",
      "/var/folders/ng/l4j590g95vl5r33ctw59y6cr0000gn/T/ipykernel_26977/3673897783.py:12: FutureWarning: Indexing with multiple keys (implicitly converted to a tuple of keys) will be deprecated, use a list instead.\n",
      "  bootstrapped_upward = tmp.groupby(['#t(centisec)'])['ang_pos', 'dist', 'speed_diff', 'acc_diff', 'cc'].mean().reset_index()\n"
     ]
    },
    {
     "name": "stdout",
     "output_type": "stream",
     "text": [
      "130\n"
     ]
    },
    {
     "name": "stderr",
     "output_type": "stream",
     "text": [
      "/var/folders/ng/l4j590g95vl5r33ctw59y6cr0000gn/T/ipykernel_26977/3673897783.py:12: FutureWarning: Indexing with multiple keys (implicitly converted to a tuple of keys) will be deprecated, use a list instead.\n",
      "  bootstrapped_upward = tmp.groupby(['#t(centisec)'])['ang_pos', 'dist', 'speed_diff', 'acc_diff', 'cc'].mean().reset_index()\n",
      "/var/folders/ng/l4j590g95vl5r33ctw59y6cr0000gn/T/ipykernel_26977/3673897783.py:12: FutureWarning: Indexing with multiple keys (implicitly converted to a tuple of keys) will be deprecated, use a list instead.\n",
      "  bootstrapped_upward = tmp.groupby(['#t(centisec)'])['ang_pos', 'dist', 'speed_diff', 'acc_diff', 'cc'].mean().reset_index()\n",
      "/var/folders/ng/l4j590g95vl5r33ctw59y6cr0000gn/T/ipykernel_26977/3673897783.py:12: FutureWarning: Indexing with multiple keys (implicitly converted to a tuple of keys) will be deprecated, use a list instead.\n",
      "  bootstrapped_upward = tmp.groupby(['#t(centisec)'])['ang_pos', 'dist', 'speed_diff', 'acc_diff', 'cc'].mean().reset_index()\n",
      "/var/folders/ng/l4j590g95vl5r33ctw59y6cr0000gn/T/ipykernel_26977/3673897783.py:12: FutureWarning: Indexing with multiple keys (implicitly converted to a tuple of keys) will be deprecated, use a list instead.\n",
      "  bootstrapped_upward = tmp.groupby(['#t(centisec)'])['ang_pos', 'dist', 'speed_diff', 'acc_diff', 'cc'].mean().reset_index()\n",
      "/var/folders/ng/l4j590g95vl5r33ctw59y6cr0000gn/T/ipykernel_26977/3673897783.py:12: FutureWarning: Indexing with multiple keys (implicitly converted to a tuple of keys) will be deprecated, use a list instead.\n",
      "  bootstrapped_upward = tmp.groupby(['#t(centisec)'])['ang_pos', 'dist', 'speed_diff', 'acc_diff', 'cc'].mean().reset_index()\n",
      "/var/folders/ng/l4j590g95vl5r33ctw59y6cr0000gn/T/ipykernel_26977/3673897783.py:12: FutureWarning: Indexing with multiple keys (implicitly converted to a tuple of keys) will be deprecated, use a list instead.\n",
      "  bootstrapped_upward = tmp.groupby(['#t(centisec)'])['ang_pos', 'dist', 'speed_diff', 'acc_diff', 'cc'].mean().reset_index()\n",
      "/var/folders/ng/l4j590g95vl5r33ctw59y6cr0000gn/T/ipykernel_26977/3673897783.py:12: FutureWarning: Indexing with multiple keys (implicitly converted to a tuple of keys) will be deprecated, use a list instead.\n",
      "  bootstrapped_upward = tmp.groupby(['#t(centisec)'])['ang_pos', 'dist', 'speed_diff', 'acc_diff', 'cc'].mean().reset_index()\n",
      "/var/folders/ng/l4j590g95vl5r33ctw59y6cr0000gn/T/ipykernel_26977/3673897783.py:12: FutureWarning: Indexing with multiple keys (implicitly converted to a tuple of keys) will be deprecated, use a list instead.\n",
      "  bootstrapped_upward = tmp.groupby(['#t(centisec)'])['ang_pos', 'dist', 'speed_diff', 'acc_diff', 'cc'].mean().reset_index()\n",
      "/var/folders/ng/l4j590g95vl5r33ctw59y6cr0000gn/T/ipykernel_26977/3673897783.py:12: FutureWarning: Indexing with multiple keys (implicitly converted to a tuple of keys) will be deprecated, use a list instead.\n",
      "  bootstrapped_upward = tmp.groupby(['#t(centisec)'])['ang_pos', 'dist', 'speed_diff', 'acc_diff', 'cc'].mean().reset_index()\n",
      "/var/folders/ng/l4j590g95vl5r33ctw59y6cr0000gn/T/ipykernel_26977/3673897783.py:12: FutureWarning: Indexing with multiple keys (implicitly converted to a tuple of keys) will be deprecated, use a list instead.\n",
      "  bootstrapped_upward = tmp.groupby(['#t(centisec)'])['ang_pos', 'dist', 'speed_diff', 'acc_diff', 'cc'].mean().reset_index()\n"
     ]
    },
    {
     "name": "stdout",
     "output_type": "stream",
     "text": [
      "140\n"
     ]
    },
    {
     "name": "stderr",
     "output_type": "stream",
     "text": [
      "/var/folders/ng/l4j590g95vl5r33ctw59y6cr0000gn/T/ipykernel_26977/3673897783.py:12: FutureWarning: Indexing with multiple keys (implicitly converted to a tuple of keys) will be deprecated, use a list instead.\n",
      "  bootstrapped_upward = tmp.groupby(['#t(centisec)'])['ang_pos', 'dist', 'speed_diff', 'acc_diff', 'cc'].mean().reset_index()\n",
      "/var/folders/ng/l4j590g95vl5r33ctw59y6cr0000gn/T/ipykernel_26977/3673897783.py:12: FutureWarning: Indexing with multiple keys (implicitly converted to a tuple of keys) will be deprecated, use a list instead.\n",
      "  bootstrapped_upward = tmp.groupby(['#t(centisec)'])['ang_pos', 'dist', 'speed_diff', 'acc_diff', 'cc'].mean().reset_index()\n",
      "/var/folders/ng/l4j590g95vl5r33ctw59y6cr0000gn/T/ipykernel_26977/3673897783.py:12: FutureWarning: Indexing with multiple keys (implicitly converted to a tuple of keys) will be deprecated, use a list instead.\n",
      "  bootstrapped_upward = tmp.groupby(['#t(centisec)'])['ang_pos', 'dist', 'speed_diff', 'acc_diff', 'cc'].mean().reset_index()\n",
      "/var/folders/ng/l4j590g95vl5r33ctw59y6cr0000gn/T/ipykernel_26977/3673897783.py:12: FutureWarning: Indexing with multiple keys (implicitly converted to a tuple of keys) will be deprecated, use a list instead.\n",
      "  bootstrapped_upward = tmp.groupby(['#t(centisec)'])['ang_pos', 'dist', 'speed_diff', 'acc_diff', 'cc'].mean().reset_index()\n",
      "/var/folders/ng/l4j590g95vl5r33ctw59y6cr0000gn/T/ipykernel_26977/3673897783.py:12: FutureWarning: Indexing with multiple keys (implicitly converted to a tuple of keys) will be deprecated, use a list instead.\n",
      "  bootstrapped_upward = tmp.groupby(['#t(centisec)'])['ang_pos', 'dist', 'speed_diff', 'acc_diff', 'cc'].mean().reset_index()\n",
      "/var/folders/ng/l4j590g95vl5r33ctw59y6cr0000gn/T/ipykernel_26977/3673897783.py:12: FutureWarning: Indexing with multiple keys (implicitly converted to a tuple of keys) will be deprecated, use a list instead.\n",
      "  bootstrapped_upward = tmp.groupby(['#t(centisec)'])['ang_pos', 'dist', 'speed_diff', 'acc_diff', 'cc'].mean().reset_index()\n",
      "/var/folders/ng/l4j590g95vl5r33ctw59y6cr0000gn/T/ipykernel_26977/3673897783.py:12: FutureWarning: Indexing with multiple keys (implicitly converted to a tuple of keys) will be deprecated, use a list instead.\n",
      "  bootstrapped_upward = tmp.groupby(['#t(centisec)'])['ang_pos', 'dist', 'speed_diff', 'acc_diff', 'cc'].mean().reset_index()\n",
      "/var/folders/ng/l4j590g95vl5r33ctw59y6cr0000gn/T/ipykernel_26977/3673897783.py:12: FutureWarning: Indexing with multiple keys (implicitly converted to a tuple of keys) will be deprecated, use a list instead.\n",
      "  bootstrapped_upward = tmp.groupby(['#t(centisec)'])['ang_pos', 'dist', 'speed_diff', 'acc_diff', 'cc'].mean().reset_index()\n",
      "/var/folders/ng/l4j590g95vl5r33ctw59y6cr0000gn/T/ipykernel_26977/3673897783.py:12: FutureWarning: Indexing with multiple keys (implicitly converted to a tuple of keys) will be deprecated, use a list instead.\n",
      "  bootstrapped_upward = tmp.groupby(['#t(centisec)'])['ang_pos', 'dist', 'speed_diff', 'acc_diff', 'cc'].mean().reset_index()\n",
      "/var/folders/ng/l4j590g95vl5r33ctw59y6cr0000gn/T/ipykernel_26977/3673897783.py:12: FutureWarning: Indexing with multiple keys (implicitly converted to a tuple of keys) will be deprecated, use a list instead.\n",
      "  bootstrapped_upward = tmp.groupby(['#t(centisec)'])['ang_pos', 'dist', 'speed_diff', 'acc_diff', 'cc'].mean().reset_index()\n"
     ]
    },
    {
     "name": "stdout",
     "output_type": "stream",
     "text": [
      "150\n"
     ]
    },
    {
     "name": "stderr",
     "output_type": "stream",
     "text": [
      "/var/folders/ng/l4j590g95vl5r33ctw59y6cr0000gn/T/ipykernel_26977/3673897783.py:12: FutureWarning: Indexing with multiple keys (implicitly converted to a tuple of keys) will be deprecated, use a list instead.\n",
      "  bootstrapped_upward = tmp.groupby(['#t(centisec)'])['ang_pos', 'dist', 'speed_diff', 'acc_diff', 'cc'].mean().reset_index()\n",
      "/var/folders/ng/l4j590g95vl5r33ctw59y6cr0000gn/T/ipykernel_26977/3673897783.py:12: FutureWarning: Indexing with multiple keys (implicitly converted to a tuple of keys) will be deprecated, use a list instead.\n",
      "  bootstrapped_upward = tmp.groupby(['#t(centisec)'])['ang_pos', 'dist', 'speed_diff', 'acc_diff', 'cc'].mean().reset_index()\n",
      "/var/folders/ng/l4j590g95vl5r33ctw59y6cr0000gn/T/ipykernel_26977/3673897783.py:12: FutureWarning: Indexing with multiple keys (implicitly converted to a tuple of keys) will be deprecated, use a list instead.\n",
      "  bootstrapped_upward = tmp.groupby(['#t(centisec)'])['ang_pos', 'dist', 'speed_diff', 'acc_diff', 'cc'].mean().reset_index()\n",
      "/var/folders/ng/l4j590g95vl5r33ctw59y6cr0000gn/T/ipykernel_26977/3673897783.py:12: FutureWarning: Indexing with multiple keys (implicitly converted to a tuple of keys) will be deprecated, use a list instead.\n",
      "  bootstrapped_upward = tmp.groupby(['#t(centisec)'])['ang_pos', 'dist', 'speed_diff', 'acc_diff', 'cc'].mean().reset_index()\n",
      "/var/folders/ng/l4j590g95vl5r33ctw59y6cr0000gn/T/ipykernel_26977/3673897783.py:12: FutureWarning: Indexing with multiple keys (implicitly converted to a tuple of keys) will be deprecated, use a list instead.\n",
      "  bootstrapped_upward = tmp.groupby(['#t(centisec)'])['ang_pos', 'dist', 'speed_diff', 'acc_diff', 'cc'].mean().reset_index()\n",
      "/var/folders/ng/l4j590g95vl5r33ctw59y6cr0000gn/T/ipykernel_26977/3673897783.py:12: FutureWarning: Indexing with multiple keys (implicitly converted to a tuple of keys) will be deprecated, use a list instead.\n",
      "  bootstrapped_upward = tmp.groupby(['#t(centisec)'])['ang_pos', 'dist', 'speed_diff', 'acc_diff', 'cc'].mean().reset_index()\n",
      "/var/folders/ng/l4j590g95vl5r33ctw59y6cr0000gn/T/ipykernel_26977/3673897783.py:12: FutureWarning: Indexing with multiple keys (implicitly converted to a tuple of keys) will be deprecated, use a list instead.\n",
      "  bootstrapped_upward = tmp.groupby(['#t(centisec)'])['ang_pos', 'dist', 'speed_diff', 'acc_diff', 'cc'].mean().reset_index()\n",
      "/var/folders/ng/l4j590g95vl5r33ctw59y6cr0000gn/T/ipykernel_26977/3673897783.py:12: FutureWarning: Indexing with multiple keys (implicitly converted to a tuple of keys) will be deprecated, use a list instead.\n",
      "  bootstrapped_upward = tmp.groupby(['#t(centisec)'])['ang_pos', 'dist', 'speed_diff', 'acc_diff', 'cc'].mean().reset_index()\n",
      "/var/folders/ng/l4j590g95vl5r33ctw59y6cr0000gn/T/ipykernel_26977/3673897783.py:12: FutureWarning: Indexing with multiple keys (implicitly converted to a tuple of keys) will be deprecated, use a list instead.\n",
      "  bootstrapped_upward = tmp.groupby(['#t(centisec)'])['ang_pos', 'dist', 'speed_diff', 'acc_diff', 'cc'].mean().reset_index()\n",
      "/var/folders/ng/l4j590g95vl5r33ctw59y6cr0000gn/T/ipykernel_26977/3673897783.py:12: FutureWarning: Indexing with multiple keys (implicitly converted to a tuple of keys) will be deprecated, use a list instead.\n",
      "  bootstrapped_upward = tmp.groupby(['#t(centisec)'])['ang_pos', 'dist', 'speed_diff', 'acc_diff', 'cc'].mean().reset_index()\n"
     ]
    },
    {
     "name": "stdout",
     "output_type": "stream",
     "text": [
      "160\n"
     ]
    },
    {
     "name": "stderr",
     "output_type": "stream",
     "text": [
      "/var/folders/ng/l4j590g95vl5r33ctw59y6cr0000gn/T/ipykernel_26977/3673897783.py:12: FutureWarning: Indexing with multiple keys (implicitly converted to a tuple of keys) will be deprecated, use a list instead.\n",
      "  bootstrapped_upward = tmp.groupby(['#t(centisec)'])['ang_pos', 'dist', 'speed_diff', 'acc_diff', 'cc'].mean().reset_index()\n",
      "/var/folders/ng/l4j590g95vl5r33ctw59y6cr0000gn/T/ipykernel_26977/3673897783.py:12: FutureWarning: Indexing with multiple keys (implicitly converted to a tuple of keys) will be deprecated, use a list instead.\n",
      "  bootstrapped_upward = tmp.groupby(['#t(centisec)'])['ang_pos', 'dist', 'speed_diff', 'acc_diff', 'cc'].mean().reset_index()\n",
      "/var/folders/ng/l4j590g95vl5r33ctw59y6cr0000gn/T/ipykernel_26977/3673897783.py:12: FutureWarning: Indexing with multiple keys (implicitly converted to a tuple of keys) will be deprecated, use a list instead.\n",
      "  bootstrapped_upward = tmp.groupby(['#t(centisec)'])['ang_pos', 'dist', 'speed_diff', 'acc_diff', 'cc'].mean().reset_index()\n",
      "/var/folders/ng/l4j590g95vl5r33ctw59y6cr0000gn/T/ipykernel_26977/3673897783.py:12: FutureWarning: Indexing with multiple keys (implicitly converted to a tuple of keys) will be deprecated, use a list instead.\n",
      "  bootstrapped_upward = tmp.groupby(['#t(centisec)'])['ang_pos', 'dist', 'speed_diff', 'acc_diff', 'cc'].mean().reset_index()\n",
      "/var/folders/ng/l4j590g95vl5r33ctw59y6cr0000gn/T/ipykernel_26977/3673897783.py:12: FutureWarning: Indexing with multiple keys (implicitly converted to a tuple of keys) will be deprecated, use a list instead.\n",
      "  bootstrapped_upward = tmp.groupby(['#t(centisec)'])['ang_pos', 'dist', 'speed_diff', 'acc_diff', 'cc'].mean().reset_index()\n",
      "/var/folders/ng/l4j590g95vl5r33ctw59y6cr0000gn/T/ipykernel_26977/3673897783.py:12: FutureWarning: Indexing with multiple keys (implicitly converted to a tuple of keys) will be deprecated, use a list instead.\n",
      "  bootstrapped_upward = tmp.groupby(['#t(centisec)'])['ang_pos', 'dist', 'speed_diff', 'acc_diff', 'cc'].mean().reset_index()\n",
      "/var/folders/ng/l4j590g95vl5r33ctw59y6cr0000gn/T/ipykernel_26977/3673897783.py:12: FutureWarning: Indexing with multiple keys (implicitly converted to a tuple of keys) will be deprecated, use a list instead.\n",
      "  bootstrapped_upward = tmp.groupby(['#t(centisec)'])['ang_pos', 'dist', 'speed_diff', 'acc_diff', 'cc'].mean().reset_index()\n",
      "/var/folders/ng/l4j590g95vl5r33ctw59y6cr0000gn/T/ipykernel_26977/3673897783.py:12: FutureWarning: Indexing with multiple keys (implicitly converted to a tuple of keys) will be deprecated, use a list instead.\n",
      "  bootstrapped_upward = tmp.groupby(['#t(centisec)'])['ang_pos', 'dist', 'speed_diff', 'acc_diff', 'cc'].mean().reset_index()\n",
      "/var/folders/ng/l4j590g95vl5r33ctw59y6cr0000gn/T/ipykernel_26977/3673897783.py:12: FutureWarning: Indexing with multiple keys (implicitly converted to a tuple of keys) will be deprecated, use a list instead.\n",
      "  bootstrapped_upward = tmp.groupby(['#t(centisec)'])['ang_pos', 'dist', 'speed_diff', 'acc_diff', 'cc'].mean().reset_index()\n",
      "/var/folders/ng/l4j590g95vl5r33ctw59y6cr0000gn/T/ipykernel_26977/3673897783.py:12: FutureWarning: Indexing with multiple keys (implicitly converted to a tuple of keys) will be deprecated, use a list instead.\n",
      "  bootstrapped_upward = tmp.groupby(['#t(centisec)'])['ang_pos', 'dist', 'speed_diff', 'acc_diff', 'cc'].mean().reset_index()\n"
     ]
    },
    {
     "name": "stdout",
     "output_type": "stream",
     "text": [
      "170\n"
     ]
    },
    {
     "name": "stderr",
     "output_type": "stream",
     "text": [
      "/var/folders/ng/l4j590g95vl5r33ctw59y6cr0000gn/T/ipykernel_26977/3673897783.py:12: FutureWarning: Indexing with multiple keys (implicitly converted to a tuple of keys) will be deprecated, use a list instead.\n",
      "  bootstrapped_upward = tmp.groupby(['#t(centisec)'])['ang_pos', 'dist', 'speed_diff', 'acc_diff', 'cc'].mean().reset_index()\n",
      "/var/folders/ng/l4j590g95vl5r33ctw59y6cr0000gn/T/ipykernel_26977/3673897783.py:12: FutureWarning: Indexing with multiple keys (implicitly converted to a tuple of keys) will be deprecated, use a list instead.\n",
      "  bootstrapped_upward = tmp.groupby(['#t(centisec)'])['ang_pos', 'dist', 'speed_diff', 'acc_diff', 'cc'].mean().reset_index()\n",
      "/var/folders/ng/l4j590g95vl5r33ctw59y6cr0000gn/T/ipykernel_26977/3673897783.py:12: FutureWarning: Indexing with multiple keys (implicitly converted to a tuple of keys) will be deprecated, use a list instead.\n",
      "  bootstrapped_upward = tmp.groupby(['#t(centisec)'])['ang_pos', 'dist', 'speed_diff', 'acc_diff', 'cc'].mean().reset_index()\n",
      "/var/folders/ng/l4j590g95vl5r33ctw59y6cr0000gn/T/ipykernel_26977/3673897783.py:12: FutureWarning: Indexing with multiple keys (implicitly converted to a tuple of keys) will be deprecated, use a list instead.\n",
      "  bootstrapped_upward = tmp.groupby(['#t(centisec)'])['ang_pos', 'dist', 'speed_diff', 'acc_diff', 'cc'].mean().reset_index()\n",
      "/var/folders/ng/l4j590g95vl5r33ctw59y6cr0000gn/T/ipykernel_26977/3673897783.py:12: FutureWarning: Indexing with multiple keys (implicitly converted to a tuple of keys) will be deprecated, use a list instead.\n",
      "  bootstrapped_upward = tmp.groupby(['#t(centisec)'])['ang_pos', 'dist', 'speed_diff', 'acc_diff', 'cc'].mean().reset_index()\n",
      "/var/folders/ng/l4j590g95vl5r33ctw59y6cr0000gn/T/ipykernel_26977/3673897783.py:12: FutureWarning: Indexing with multiple keys (implicitly converted to a tuple of keys) will be deprecated, use a list instead.\n",
      "  bootstrapped_upward = tmp.groupby(['#t(centisec)'])['ang_pos', 'dist', 'speed_diff', 'acc_diff', 'cc'].mean().reset_index()\n",
      "/var/folders/ng/l4j590g95vl5r33ctw59y6cr0000gn/T/ipykernel_26977/3673897783.py:12: FutureWarning: Indexing with multiple keys (implicitly converted to a tuple of keys) will be deprecated, use a list instead.\n",
      "  bootstrapped_upward = tmp.groupby(['#t(centisec)'])['ang_pos', 'dist', 'speed_diff', 'acc_diff', 'cc'].mean().reset_index()\n",
      "/var/folders/ng/l4j590g95vl5r33ctw59y6cr0000gn/T/ipykernel_26977/3673897783.py:12: FutureWarning: Indexing with multiple keys (implicitly converted to a tuple of keys) will be deprecated, use a list instead.\n",
      "  bootstrapped_upward = tmp.groupby(['#t(centisec)'])['ang_pos', 'dist', 'speed_diff', 'acc_diff', 'cc'].mean().reset_index()\n",
      "/var/folders/ng/l4j590g95vl5r33ctw59y6cr0000gn/T/ipykernel_26977/3673897783.py:12: FutureWarning: Indexing with multiple keys (implicitly converted to a tuple of keys) will be deprecated, use a list instead.\n",
      "  bootstrapped_upward = tmp.groupby(['#t(centisec)'])['ang_pos', 'dist', 'speed_diff', 'acc_diff', 'cc'].mean().reset_index()\n",
      "/var/folders/ng/l4j590g95vl5r33ctw59y6cr0000gn/T/ipykernel_26977/3673897783.py:12: FutureWarning: Indexing with multiple keys (implicitly converted to a tuple of keys) will be deprecated, use a list instead.\n",
      "  bootstrapped_upward = tmp.groupby(['#t(centisec)'])['ang_pos', 'dist', 'speed_diff', 'acc_diff', 'cc'].mean().reset_index()\n"
     ]
    },
    {
     "name": "stdout",
     "output_type": "stream",
     "text": [
      "180\n"
     ]
    },
    {
     "name": "stderr",
     "output_type": "stream",
     "text": [
      "/var/folders/ng/l4j590g95vl5r33ctw59y6cr0000gn/T/ipykernel_26977/3673897783.py:12: FutureWarning: Indexing with multiple keys (implicitly converted to a tuple of keys) will be deprecated, use a list instead.\n",
      "  bootstrapped_upward = tmp.groupby(['#t(centisec)'])['ang_pos', 'dist', 'speed_diff', 'acc_diff', 'cc'].mean().reset_index()\n",
      "/var/folders/ng/l4j590g95vl5r33ctw59y6cr0000gn/T/ipykernel_26977/3673897783.py:12: FutureWarning: Indexing with multiple keys (implicitly converted to a tuple of keys) will be deprecated, use a list instead.\n",
      "  bootstrapped_upward = tmp.groupby(['#t(centisec)'])['ang_pos', 'dist', 'speed_diff', 'acc_diff', 'cc'].mean().reset_index()\n",
      "/var/folders/ng/l4j590g95vl5r33ctw59y6cr0000gn/T/ipykernel_26977/3673897783.py:12: FutureWarning: Indexing with multiple keys (implicitly converted to a tuple of keys) will be deprecated, use a list instead.\n",
      "  bootstrapped_upward = tmp.groupby(['#t(centisec)'])['ang_pos', 'dist', 'speed_diff', 'acc_diff', 'cc'].mean().reset_index()\n",
      "/var/folders/ng/l4j590g95vl5r33ctw59y6cr0000gn/T/ipykernel_26977/3673897783.py:12: FutureWarning: Indexing with multiple keys (implicitly converted to a tuple of keys) will be deprecated, use a list instead.\n",
      "  bootstrapped_upward = tmp.groupby(['#t(centisec)'])['ang_pos', 'dist', 'speed_diff', 'acc_diff', 'cc'].mean().reset_index()\n",
      "/var/folders/ng/l4j590g95vl5r33ctw59y6cr0000gn/T/ipykernel_26977/3673897783.py:12: FutureWarning: Indexing with multiple keys (implicitly converted to a tuple of keys) will be deprecated, use a list instead.\n",
      "  bootstrapped_upward = tmp.groupby(['#t(centisec)'])['ang_pos', 'dist', 'speed_diff', 'acc_diff', 'cc'].mean().reset_index()\n",
      "/var/folders/ng/l4j590g95vl5r33ctw59y6cr0000gn/T/ipykernel_26977/3673897783.py:12: FutureWarning: Indexing with multiple keys (implicitly converted to a tuple of keys) will be deprecated, use a list instead.\n",
      "  bootstrapped_upward = tmp.groupby(['#t(centisec)'])['ang_pos', 'dist', 'speed_diff', 'acc_diff', 'cc'].mean().reset_index()\n",
      "/var/folders/ng/l4j590g95vl5r33ctw59y6cr0000gn/T/ipykernel_26977/3673897783.py:12: FutureWarning: Indexing with multiple keys (implicitly converted to a tuple of keys) will be deprecated, use a list instead.\n",
      "  bootstrapped_upward = tmp.groupby(['#t(centisec)'])['ang_pos', 'dist', 'speed_diff', 'acc_diff', 'cc'].mean().reset_index()\n",
      "/var/folders/ng/l4j590g95vl5r33ctw59y6cr0000gn/T/ipykernel_26977/3673897783.py:12: FutureWarning: Indexing with multiple keys (implicitly converted to a tuple of keys) will be deprecated, use a list instead.\n",
      "  bootstrapped_upward = tmp.groupby(['#t(centisec)'])['ang_pos', 'dist', 'speed_diff', 'acc_diff', 'cc'].mean().reset_index()\n",
      "/var/folders/ng/l4j590g95vl5r33ctw59y6cr0000gn/T/ipykernel_26977/3673897783.py:12: FutureWarning: Indexing with multiple keys (implicitly converted to a tuple of keys) will be deprecated, use a list instead.\n",
      "  bootstrapped_upward = tmp.groupby(['#t(centisec)'])['ang_pos', 'dist', 'speed_diff', 'acc_diff', 'cc'].mean().reset_index()\n",
      "/var/folders/ng/l4j590g95vl5r33ctw59y6cr0000gn/T/ipykernel_26977/3673897783.py:12: FutureWarning: Indexing with multiple keys (implicitly converted to a tuple of keys) will be deprecated, use a list instead.\n",
      "  bootstrapped_upward = tmp.groupby(['#t(centisec)'])['ang_pos', 'dist', 'speed_diff', 'acc_diff', 'cc'].mean().reset_index()\n"
     ]
    },
    {
     "name": "stdout",
     "output_type": "stream",
     "text": [
      "190\n"
     ]
    },
    {
     "name": "stderr",
     "output_type": "stream",
     "text": [
      "/var/folders/ng/l4j590g95vl5r33ctw59y6cr0000gn/T/ipykernel_26977/3673897783.py:12: FutureWarning: Indexing with multiple keys (implicitly converted to a tuple of keys) will be deprecated, use a list instead.\n",
      "  bootstrapped_upward = tmp.groupby(['#t(centisec)'])['ang_pos', 'dist', 'speed_diff', 'acc_diff', 'cc'].mean().reset_index()\n",
      "/var/folders/ng/l4j590g95vl5r33ctw59y6cr0000gn/T/ipykernel_26977/3673897783.py:12: FutureWarning: Indexing with multiple keys (implicitly converted to a tuple of keys) will be deprecated, use a list instead.\n",
      "  bootstrapped_upward = tmp.groupby(['#t(centisec)'])['ang_pos', 'dist', 'speed_diff', 'acc_diff', 'cc'].mean().reset_index()\n",
      "/var/folders/ng/l4j590g95vl5r33ctw59y6cr0000gn/T/ipykernel_26977/3673897783.py:12: FutureWarning: Indexing with multiple keys (implicitly converted to a tuple of keys) will be deprecated, use a list instead.\n",
      "  bootstrapped_upward = tmp.groupby(['#t(centisec)'])['ang_pos', 'dist', 'speed_diff', 'acc_diff', 'cc'].mean().reset_index()\n",
      "/var/folders/ng/l4j590g95vl5r33ctw59y6cr0000gn/T/ipykernel_26977/3673897783.py:12: FutureWarning: Indexing with multiple keys (implicitly converted to a tuple of keys) will be deprecated, use a list instead.\n",
      "  bootstrapped_upward = tmp.groupby(['#t(centisec)'])['ang_pos', 'dist', 'speed_diff', 'acc_diff', 'cc'].mean().reset_index()\n",
      "/var/folders/ng/l4j590g95vl5r33ctw59y6cr0000gn/T/ipykernel_26977/3673897783.py:12: FutureWarning: Indexing with multiple keys (implicitly converted to a tuple of keys) will be deprecated, use a list instead.\n",
      "  bootstrapped_upward = tmp.groupby(['#t(centisec)'])['ang_pos', 'dist', 'speed_diff', 'acc_diff', 'cc'].mean().reset_index()\n",
      "/var/folders/ng/l4j590g95vl5r33ctw59y6cr0000gn/T/ipykernel_26977/3673897783.py:12: FutureWarning: Indexing with multiple keys (implicitly converted to a tuple of keys) will be deprecated, use a list instead.\n",
      "  bootstrapped_upward = tmp.groupby(['#t(centisec)'])['ang_pos', 'dist', 'speed_diff', 'acc_diff', 'cc'].mean().reset_index()\n",
      "/var/folders/ng/l4j590g95vl5r33ctw59y6cr0000gn/T/ipykernel_26977/3673897783.py:12: FutureWarning: Indexing with multiple keys (implicitly converted to a tuple of keys) will be deprecated, use a list instead.\n",
      "  bootstrapped_upward = tmp.groupby(['#t(centisec)'])['ang_pos', 'dist', 'speed_diff', 'acc_diff', 'cc'].mean().reset_index()\n",
      "/var/folders/ng/l4j590g95vl5r33ctw59y6cr0000gn/T/ipykernel_26977/3673897783.py:12: FutureWarning: Indexing with multiple keys (implicitly converted to a tuple of keys) will be deprecated, use a list instead.\n",
      "  bootstrapped_upward = tmp.groupby(['#t(centisec)'])['ang_pos', 'dist', 'speed_diff', 'acc_diff', 'cc'].mean().reset_index()\n",
      "/var/folders/ng/l4j590g95vl5r33ctw59y6cr0000gn/T/ipykernel_26977/3673897783.py:12: FutureWarning: Indexing with multiple keys (implicitly converted to a tuple of keys) will be deprecated, use a list instead.\n",
      "  bootstrapped_upward = tmp.groupby(['#t(centisec)'])['ang_pos', 'dist', 'speed_diff', 'acc_diff', 'cc'].mean().reset_index()\n",
      "/var/folders/ng/l4j590g95vl5r33ctw59y6cr0000gn/T/ipykernel_26977/3673897783.py:12: FutureWarning: Indexing with multiple keys (implicitly converted to a tuple of keys) will be deprecated, use a list instead.\n",
      "  bootstrapped_upward = tmp.groupby(['#t(centisec)'])['ang_pos', 'dist', 'speed_diff', 'acc_diff', 'cc'].mean().reset_index()\n"
     ]
    },
    {
     "name": "stdout",
     "output_type": "stream",
     "text": [
      "200\n"
     ]
    },
    {
     "name": "stderr",
     "output_type": "stream",
     "text": [
      "/var/folders/ng/l4j590g95vl5r33ctw59y6cr0000gn/T/ipykernel_26977/3673897783.py:12: FutureWarning: Indexing with multiple keys (implicitly converted to a tuple of keys) will be deprecated, use a list instead.\n",
      "  bootstrapped_upward = tmp.groupby(['#t(centisec)'])['ang_pos', 'dist', 'speed_diff', 'acc_diff', 'cc'].mean().reset_index()\n",
      "/var/folders/ng/l4j590g95vl5r33ctw59y6cr0000gn/T/ipykernel_26977/3673897783.py:12: FutureWarning: Indexing with multiple keys (implicitly converted to a tuple of keys) will be deprecated, use a list instead.\n",
      "  bootstrapped_upward = tmp.groupby(['#t(centisec)'])['ang_pos', 'dist', 'speed_diff', 'acc_diff', 'cc'].mean().reset_index()\n",
      "/var/folders/ng/l4j590g95vl5r33ctw59y6cr0000gn/T/ipykernel_26977/3673897783.py:12: FutureWarning: Indexing with multiple keys (implicitly converted to a tuple of keys) will be deprecated, use a list instead.\n",
      "  bootstrapped_upward = tmp.groupby(['#t(centisec)'])['ang_pos', 'dist', 'speed_diff', 'acc_diff', 'cc'].mean().reset_index()\n",
      "/var/folders/ng/l4j590g95vl5r33ctw59y6cr0000gn/T/ipykernel_26977/3673897783.py:12: FutureWarning: Indexing with multiple keys (implicitly converted to a tuple of keys) will be deprecated, use a list instead.\n",
      "  bootstrapped_upward = tmp.groupby(['#t(centisec)'])['ang_pos', 'dist', 'speed_diff', 'acc_diff', 'cc'].mean().reset_index()\n",
      "/var/folders/ng/l4j590g95vl5r33ctw59y6cr0000gn/T/ipykernel_26977/3673897783.py:12: FutureWarning: Indexing with multiple keys (implicitly converted to a tuple of keys) will be deprecated, use a list instead.\n",
      "  bootstrapped_upward = tmp.groupby(['#t(centisec)'])['ang_pos', 'dist', 'speed_diff', 'acc_diff', 'cc'].mean().reset_index()\n",
      "/var/folders/ng/l4j590g95vl5r33ctw59y6cr0000gn/T/ipykernel_26977/3673897783.py:12: FutureWarning: Indexing with multiple keys (implicitly converted to a tuple of keys) will be deprecated, use a list instead.\n",
      "  bootstrapped_upward = tmp.groupby(['#t(centisec)'])['ang_pos', 'dist', 'speed_diff', 'acc_diff', 'cc'].mean().reset_index()\n",
      "/var/folders/ng/l4j590g95vl5r33ctw59y6cr0000gn/T/ipykernel_26977/3673897783.py:12: FutureWarning: Indexing with multiple keys (implicitly converted to a tuple of keys) will be deprecated, use a list instead.\n",
      "  bootstrapped_upward = tmp.groupby(['#t(centisec)'])['ang_pos', 'dist', 'speed_diff', 'acc_diff', 'cc'].mean().reset_index()\n",
      "/var/folders/ng/l4j590g95vl5r33ctw59y6cr0000gn/T/ipykernel_26977/3673897783.py:12: FutureWarning: Indexing with multiple keys (implicitly converted to a tuple of keys) will be deprecated, use a list instead.\n",
      "  bootstrapped_upward = tmp.groupby(['#t(centisec)'])['ang_pos', 'dist', 'speed_diff', 'acc_diff', 'cc'].mean().reset_index()\n",
      "/var/folders/ng/l4j590g95vl5r33ctw59y6cr0000gn/T/ipykernel_26977/3673897783.py:12: FutureWarning: Indexing with multiple keys (implicitly converted to a tuple of keys) will be deprecated, use a list instead.\n",
      "  bootstrapped_upward = tmp.groupby(['#t(centisec)'])['ang_pos', 'dist', 'speed_diff', 'acc_diff', 'cc'].mean().reset_index()\n",
      "/var/folders/ng/l4j590g95vl5r33ctw59y6cr0000gn/T/ipykernel_26977/3673897783.py:12: FutureWarning: Indexing with multiple keys (implicitly converted to a tuple of keys) will be deprecated, use a list instead.\n",
      "  bootstrapped_upward = tmp.groupby(['#t(centisec)'])['ang_pos', 'dist', 'speed_diff', 'acc_diff', 'cc'].mean().reset_index()\n"
     ]
    },
    {
     "name": "stdout",
     "output_type": "stream",
     "text": [
      "210\n"
     ]
    },
    {
     "name": "stderr",
     "output_type": "stream",
     "text": [
      "/var/folders/ng/l4j590g95vl5r33ctw59y6cr0000gn/T/ipykernel_26977/3673897783.py:12: FutureWarning: Indexing with multiple keys (implicitly converted to a tuple of keys) will be deprecated, use a list instead.\n",
      "  bootstrapped_upward = tmp.groupby(['#t(centisec)'])['ang_pos', 'dist', 'speed_diff', 'acc_diff', 'cc'].mean().reset_index()\n",
      "/var/folders/ng/l4j590g95vl5r33ctw59y6cr0000gn/T/ipykernel_26977/3673897783.py:12: FutureWarning: Indexing with multiple keys (implicitly converted to a tuple of keys) will be deprecated, use a list instead.\n",
      "  bootstrapped_upward = tmp.groupby(['#t(centisec)'])['ang_pos', 'dist', 'speed_diff', 'acc_diff', 'cc'].mean().reset_index()\n",
      "/var/folders/ng/l4j590g95vl5r33ctw59y6cr0000gn/T/ipykernel_26977/3673897783.py:12: FutureWarning: Indexing with multiple keys (implicitly converted to a tuple of keys) will be deprecated, use a list instead.\n",
      "  bootstrapped_upward = tmp.groupby(['#t(centisec)'])['ang_pos', 'dist', 'speed_diff', 'acc_diff', 'cc'].mean().reset_index()\n",
      "/var/folders/ng/l4j590g95vl5r33ctw59y6cr0000gn/T/ipykernel_26977/3673897783.py:12: FutureWarning: Indexing with multiple keys (implicitly converted to a tuple of keys) will be deprecated, use a list instead.\n",
      "  bootstrapped_upward = tmp.groupby(['#t(centisec)'])['ang_pos', 'dist', 'speed_diff', 'acc_diff', 'cc'].mean().reset_index()\n",
      "/var/folders/ng/l4j590g95vl5r33ctw59y6cr0000gn/T/ipykernel_26977/3673897783.py:12: FutureWarning: Indexing with multiple keys (implicitly converted to a tuple of keys) will be deprecated, use a list instead.\n",
      "  bootstrapped_upward = tmp.groupby(['#t(centisec)'])['ang_pos', 'dist', 'speed_diff', 'acc_diff', 'cc'].mean().reset_index()\n",
      "/var/folders/ng/l4j590g95vl5r33ctw59y6cr0000gn/T/ipykernel_26977/3673897783.py:12: FutureWarning: Indexing with multiple keys (implicitly converted to a tuple of keys) will be deprecated, use a list instead.\n",
      "  bootstrapped_upward = tmp.groupby(['#t(centisec)'])['ang_pos', 'dist', 'speed_diff', 'acc_diff', 'cc'].mean().reset_index()\n",
      "/var/folders/ng/l4j590g95vl5r33ctw59y6cr0000gn/T/ipykernel_26977/3673897783.py:12: FutureWarning: Indexing with multiple keys (implicitly converted to a tuple of keys) will be deprecated, use a list instead.\n",
      "  bootstrapped_upward = tmp.groupby(['#t(centisec)'])['ang_pos', 'dist', 'speed_diff', 'acc_diff', 'cc'].mean().reset_index()\n",
      "/var/folders/ng/l4j590g95vl5r33ctw59y6cr0000gn/T/ipykernel_26977/3673897783.py:12: FutureWarning: Indexing with multiple keys (implicitly converted to a tuple of keys) will be deprecated, use a list instead.\n",
      "  bootstrapped_upward = tmp.groupby(['#t(centisec)'])['ang_pos', 'dist', 'speed_diff', 'acc_diff', 'cc'].mean().reset_index()\n",
      "/var/folders/ng/l4j590g95vl5r33ctw59y6cr0000gn/T/ipykernel_26977/3673897783.py:12: FutureWarning: Indexing with multiple keys (implicitly converted to a tuple of keys) will be deprecated, use a list instead.\n",
      "  bootstrapped_upward = tmp.groupby(['#t(centisec)'])['ang_pos', 'dist', 'speed_diff', 'acc_diff', 'cc'].mean().reset_index()\n",
      "/var/folders/ng/l4j590g95vl5r33ctw59y6cr0000gn/T/ipykernel_26977/3673897783.py:12: FutureWarning: Indexing with multiple keys (implicitly converted to a tuple of keys) will be deprecated, use a list instead.\n",
      "  bootstrapped_upward = tmp.groupby(['#t(centisec)'])['ang_pos', 'dist', 'speed_diff', 'acc_diff', 'cc'].mean().reset_index()\n"
     ]
    },
    {
     "name": "stdout",
     "output_type": "stream",
     "text": [
      "220\n"
     ]
    },
    {
     "name": "stderr",
     "output_type": "stream",
     "text": [
      "/var/folders/ng/l4j590g95vl5r33ctw59y6cr0000gn/T/ipykernel_26977/3673897783.py:12: FutureWarning: Indexing with multiple keys (implicitly converted to a tuple of keys) will be deprecated, use a list instead.\n",
      "  bootstrapped_upward = tmp.groupby(['#t(centisec)'])['ang_pos', 'dist', 'speed_diff', 'acc_diff', 'cc'].mean().reset_index()\n",
      "/var/folders/ng/l4j590g95vl5r33ctw59y6cr0000gn/T/ipykernel_26977/3673897783.py:12: FutureWarning: Indexing with multiple keys (implicitly converted to a tuple of keys) will be deprecated, use a list instead.\n",
      "  bootstrapped_upward = tmp.groupby(['#t(centisec)'])['ang_pos', 'dist', 'speed_diff', 'acc_diff', 'cc'].mean().reset_index()\n",
      "/var/folders/ng/l4j590g95vl5r33ctw59y6cr0000gn/T/ipykernel_26977/3673897783.py:12: FutureWarning: Indexing with multiple keys (implicitly converted to a tuple of keys) will be deprecated, use a list instead.\n",
      "  bootstrapped_upward = tmp.groupby(['#t(centisec)'])['ang_pos', 'dist', 'speed_diff', 'acc_diff', 'cc'].mean().reset_index()\n",
      "/var/folders/ng/l4j590g95vl5r33ctw59y6cr0000gn/T/ipykernel_26977/3673897783.py:12: FutureWarning: Indexing with multiple keys (implicitly converted to a tuple of keys) will be deprecated, use a list instead.\n",
      "  bootstrapped_upward = tmp.groupby(['#t(centisec)'])['ang_pos', 'dist', 'speed_diff', 'acc_diff', 'cc'].mean().reset_index()\n",
      "/var/folders/ng/l4j590g95vl5r33ctw59y6cr0000gn/T/ipykernel_26977/3673897783.py:12: FutureWarning: Indexing with multiple keys (implicitly converted to a tuple of keys) will be deprecated, use a list instead.\n",
      "  bootstrapped_upward = tmp.groupby(['#t(centisec)'])['ang_pos', 'dist', 'speed_diff', 'acc_diff', 'cc'].mean().reset_index()\n",
      "/var/folders/ng/l4j590g95vl5r33ctw59y6cr0000gn/T/ipykernel_26977/3673897783.py:12: FutureWarning: Indexing with multiple keys (implicitly converted to a tuple of keys) will be deprecated, use a list instead.\n",
      "  bootstrapped_upward = tmp.groupby(['#t(centisec)'])['ang_pos', 'dist', 'speed_diff', 'acc_diff', 'cc'].mean().reset_index()\n",
      "/var/folders/ng/l4j590g95vl5r33ctw59y6cr0000gn/T/ipykernel_26977/3673897783.py:12: FutureWarning: Indexing with multiple keys (implicitly converted to a tuple of keys) will be deprecated, use a list instead.\n",
      "  bootstrapped_upward = tmp.groupby(['#t(centisec)'])['ang_pos', 'dist', 'speed_diff', 'acc_diff', 'cc'].mean().reset_index()\n",
      "/var/folders/ng/l4j590g95vl5r33ctw59y6cr0000gn/T/ipykernel_26977/3673897783.py:12: FutureWarning: Indexing with multiple keys (implicitly converted to a tuple of keys) will be deprecated, use a list instead.\n",
      "  bootstrapped_upward = tmp.groupby(['#t(centisec)'])['ang_pos', 'dist', 'speed_diff', 'acc_diff', 'cc'].mean().reset_index()\n",
      "/var/folders/ng/l4j590g95vl5r33ctw59y6cr0000gn/T/ipykernel_26977/3673897783.py:12: FutureWarning: Indexing with multiple keys (implicitly converted to a tuple of keys) will be deprecated, use a list instead.\n",
      "  bootstrapped_upward = tmp.groupby(['#t(centisec)'])['ang_pos', 'dist', 'speed_diff', 'acc_diff', 'cc'].mean().reset_index()\n",
      "/var/folders/ng/l4j590g95vl5r33ctw59y6cr0000gn/T/ipykernel_26977/3673897783.py:12: FutureWarning: Indexing with multiple keys (implicitly converted to a tuple of keys) will be deprecated, use a list instead.\n",
      "  bootstrapped_upward = tmp.groupby(['#t(centisec)'])['ang_pos', 'dist', 'speed_diff', 'acc_diff', 'cc'].mean().reset_index()\n"
     ]
    },
    {
     "name": "stdout",
     "output_type": "stream",
     "text": [
      "230\n"
     ]
    },
    {
     "name": "stderr",
     "output_type": "stream",
     "text": [
      "/var/folders/ng/l4j590g95vl5r33ctw59y6cr0000gn/T/ipykernel_26977/3673897783.py:12: FutureWarning: Indexing with multiple keys (implicitly converted to a tuple of keys) will be deprecated, use a list instead.\n",
      "  bootstrapped_upward = tmp.groupby(['#t(centisec)'])['ang_pos', 'dist', 'speed_diff', 'acc_diff', 'cc'].mean().reset_index()\n",
      "/var/folders/ng/l4j590g95vl5r33ctw59y6cr0000gn/T/ipykernel_26977/3673897783.py:12: FutureWarning: Indexing with multiple keys (implicitly converted to a tuple of keys) will be deprecated, use a list instead.\n",
      "  bootstrapped_upward = tmp.groupby(['#t(centisec)'])['ang_pos', 'dist', 'speed_diff', 'acc_diff', 'cc'].mean().reset_index()\n",
      "/var/folders/ng/l4j590g95vl5r33ctw59y6cr0000gn/T/ipykernel_26977/3673897783.py:12: FutureWarning: Indexing with multiple keys (implicitly converted to a tuple of keys) will be deprecated, use a list instead.\n",
      "  bootstrapped_upward = tmp.groupby(['#t(centisec)'])['ang_pos', 'dist', 'speed_diff', 'acc_diff', 'cc'].mean().reset_index()\n",
      "/var/folders/ng/l4j590g95vl5r33ctw59y6cr0000gn/T/ipykernel_26977/3673897783.py:12: FutureWarning: Indexing with multiple keys (implicitly converted to a tuple of keys) will be deprecated, use a list instead.\n",
      "  bootstrapped_upward = tmp.groupby(['#t(centisec)'])['ang_pos', 'dist', 'speed_diff', 'acc_diff', 'cc'].mean().reset_index()\n",
      "/var/folders/ng/l4j590g95vl5r33ctw59y6cr0000gn/T/ipykernel_26977/3673897783.py:12: FutureWarning: Indexing with multiple keys (implicitly converted to a tuple of keys) will be deprecated, use a list instead.\n",
      "  bootstrapped_upward = tmp.groupby(['#t(centisec)'])['ang_pos', 'dist', 'speed_diff', 'acc_diff', 'cc'].mean().reset_index()\n",
      "/var/folders/ng/l4j590g95vl5r33ctw59y6cr0000gn/T/ipykernel_26977/3673897783.py:12: FutureWarning: Indexing with multiple keys (implicitly converted to a tuple of keys) will be deprecated, use a list instead.\n",
      "  bootstrapped_upward = tmp.groupby(['#t(centisec)'])['ang_pos', 'dist', 'speed_diff', 'acc_diff', 'cc'].mean().reset_index()\n",
      "/var/folders/ng/l4j590g95vl5r33ctw59y6cr0000gn/T/ipykernel_26977/3673897783.py:12: FutureWarning: Indexing with multiple keys (implicitly converted to a tuple of keys) will be deprecated, use a list instead.\n",
      "  bootstrapped_upward = tmp.groupby(['#t(centisec)'])['ang_pos', 'dist', 'speed_diff', 'acc_diff', 'cc'].mean().reset_index()\n",
      "/var/folders/ng/l4j590g95vl5r33ctw59y6cr0000gn/T/ipykernel_26977/3673897783.py:12: FutureWarning: Indexing with multiple keys (implicitly converted to a tuple of keys) will be deprecated, use a list instead.\n",
      "  bootstrapped_upward = tmp.groupby(['#t(centisec)'])['ang_pos', 'dist', 'speed_diff', 'acc_diff', 'cc'].mean().reset_index()\n",
      "/var/folders/ng/l4j590g95vl5r33ctw59y6cr0000gn/T/ipykernel_26977/3673897783.py:12: FutureWarning: Indexing with multiple keys (implicitly converted to a tuple of keys) will be deprecated, use a list instead.\n",
      "  bootstrapped_upward = tmp.groupby(['#t(centisec)'])['ang_pos', 'dist', 'speed_diff', 'acc_diff', 'cc'].mean().reset_index()\n",
      "/var/folders/ng/l4j590g95vl5r33ctw59y6cr0000gn/T/ipykernel_26977/3673897783.py:12: FutureWarning: Indexing with multiple keys (implicitly converted to a tuple of keys) will be deprecated, use a list instead.\n",
      "  bootstrapped_upward = tmp.groupby(['#t(centisec)'])['ang_pos', 'dist', 'speed_diff', 'acc_diff', 'cc'].mean().reset_index()\n"
     ]
    },
    {
     "name": "stdout",
     "output_type": "stream",
     "text": [
      "240\n"
     ]
    },
    {
     "name": "stderr",
     "output_type": "stream",
     "text": [
      "/var/folders/ng/l4j590g95vl5r33ctw59y6cr0000gn/T/ipykernel_26977/3673897783.py:12: FutureWarning: Indexing with multiple keys (implicitly converted to a tuple of keys) will be deprecated, use a list instead.\n",
      "  bootstrapped_upward = tmp.groupby(['#t(centisec)'])['ang_pos', 'dist', 'speed_diff', 'acc_diff', 'cc'].mean().reset_index()\n",
      "/var/folders/ng/l4j590g95vl5r33ctw59y6cr0000gn/T/ipykernel_26977/3673897783.py:12: FutureWarning: Indexing with multiple keys (implicitly converted to a tuple of keys) will be deprecated, use a list instead.\n",
      "  bootstrapped_upward = tmp.groupby(['#t(centisec)'])['ang_pos', 'dist', 'speed_diff', 'acc_diff', 'cc'].mean().reset_index()\n",
      "/var/folders/ng/l4j590g95vl5r33ctw59y6cr0000gn/T/ipykernel_26977/3673897783.py:12: FutureWarning: Indexing with multiple keys (implicitly converted to a tuple of keys) will be deprecated, use a list instead.\n",
      "  bootstrapped_upward = tmp.groupby(['#t(centisec)'])['ang_pos', 'dist', 'speed_diff', 'acc_diff', 'cc'].mean().reset_index()\n",
      "/var/folders/ng/l4j590g95vl5r33ctw59y6cr0000gn/T/ipykernel_26977/3673897783.py:12: FutureWarning: Indexing with multiple keys (implicitly converted to a tuple of keys) will be deprecated, use a list instead.\n",
      "  bootstrapped_upward = tmp.groupby(['#t(centisec)'])['ang_pos', 'dist', 'speed_diff', 'acc_diff', 'cc'].mean().reset_index()\n",
      "/var/folders/ng/l4j590g95vl5r33ctw59y6cr0000gn/T/ipykernel_26977/3673897783.py:12: FutureWarning: Indexing with multiple keys (implicitly converted to a tuple of keys) will be deprecated, use a list instead.\n",
      "  bootstrapped_upward = tmp.groupby(['#t(centisec)'])['ang_pos', 'dist', 'speed_diff', 'acc_diff', 'cc'].mean().reset_index()\n",
      "/var/folders/ng/l4j590g95vl5r33ctw59y6cr0000gn/T/ipykernel_26977/3673897783.py:12: FutureWarning: Indexing with multiple keys (implicitly converted to a tuple of keys) will be deprecated, use a list instead.\n",
      "  bootstrapped_upward = tmp.groupby(['#t(centisec)'])['ang_pos', 'dist', 'speed_diff', 'acc_diff', 'cc'].mean().reset_index()\n",
      "/var/folders/ng/l4j590g95vl5r33ctw59y6cr0000gn/T/ipykernel_26977/3673897783.py:12: FutureWarning: Indexing with multiple keys (implicitly converted to a tuple of keys) will be deprecated, use a list instead.\n",
      "  bootstrapped_upward = tmp.groupby(['#t(centisec)'])['ang_pos', 'dist', 'speed_diff', 'acc_diff', 'cc'].mean().reset_index()\n",
      "/var/folders/ng/l4j590g95vl5r33ctw59y6cr0000gn/T/ipykernel_26977/3673897783.py:12: FutureWarning: Indexing with multiple keys (implicitly converted to a tuple of keys) will be deprecated, use a list instead.\n",
      "  bootstrapped_upward = tmp.groupby(['#t(centisec)'])['ang_pos', 'dist', 'speed_diff', 'acc_diff', 'cc'].mean().reset_index()\n",
      "/var/folders/ng/l4j590g95vl5r33ctw59y6cr0000gn/T/ipykernel_26977/3673897783.py:12: FutureWarning: Indexing with multiple keys (implicitly converted to a tuple of keys) will be deprecated, use a list instead.\n",
      "  bootstrapped_upward = tmp.groupby(['#t(centisec)'])['ang_pos', 'dist', 'speed_diff', 'acc_diff', 'cc'].mean().reset_index()\n",
      "/var/folders/ng/l4j590g95vl5r33ctw59y6cr0000gn/T/ipykernel_26977/3673897783.py:12: FutureWarning: Indexing with multiple keys (implicitly converted to a tuple of keys) will be deprecated, use a list instead.\n",
      "  bootstrapped_upward = tmp.groupby(['#t(centisec)'])['ang_pos', 'dist', 'speed_diff', 'acc_diff', 'cc'].mean().reset_index()\n"
     ]
    },
    {
     "name": "stdout",
     "output_type": "stream",
     "text": [
      "250\n"
     ]
    },
    {
     "name": "stderr",
     "output_type": "stream",
     "text": [
      "/var/folders/ng/l4j590g95vl5r33ctw59y6cr0000gn/T/ipykernel_26977/3673897783.py:12: FutureWarning: Indexing with multiple keys (implicitly converted to a tuple of keys) will be deprecated, use a list instead.\n",
      "  bootstrapped_upward = tmp.groupby(['#t(centisec)'])['ang_pos', 'dist', 'speed_diff', 'acc_diff', 'cc'].mean().reset_index()\n",
      "/var/folders/ng/l4j590g95vl5r33ctw59y6cr0000gn/T/ipykernel_26977/3673897783.py:12: FutureWarning: Indexing with multiple keys (implicitly converted to a tuple of keys) will be deprecated, use a list instead.\n",
      "  bootstrapped_upward = tmp.groupby(['#t(centisec)'])['ang_pos', 'dist', 'speed_diff', 'acc_diff', 'cc'].mean().reset_index()\n",
      "/var/folders/ng/l4j590g95vl5r33ctw59y6cr0000gn/T/ipykernel_26977/3673897783.py:12: FutureWarning: Indexing with multiple keys (implicitly converted to a tuple of keys) will be deprecated, use a list instead.\n",
      "  bootstrapped_upward = tmp.groupby(['#t(centisec)'])['ang_pos', 'dist', 'speed_diff', 'acc_diff', 'cc'].mean().reset_index()\n",
      "/var/folders/ng/l4j590g95vl5r33ctw59y6cr0000gn/T/ipykernel_26977/3673897783.py:12: FutureWarning: Indexing with multiple keys (implicitly converted to a tuple of keys) will be deprecated, use a list instead.\n",
      "  bootstrapped_upward = tmp.groupby(['#t(centisec)'])['ang_pos', 'dist', 'speed_diff', 'acc_diff', 'cc'].mean().reset_index()\n",
      "/var/folders/ng/l4j590g95vl5r33ctw59y6cr0000gn/T/ipykernel_26977/3673897783.py:12: FutureWarning: Indexing with multiple keys (implicitly converted to a tuple of keys) will be deprecated, use a list instead.\n",
      "  bootstrapped_upward = tmp.groupby(['#t(centisec)'])['ang_pos', 'dist', 'speed_diff', 'acc_diff', 'cc'].mean().reset_index()\n",
      "/var/folders/ng/l4j590g95vl5r33ctw59y6cr0000gn/T/ipykernel_26977/3673897783.py:12: FutureWarning: Indexing with multiple keys (implicitly converted to a tuple of keys) will be deprecated, use a list instead.\n",
      "  bootstrapped_upward = tmp.groupby(['#t(centisec)'])['ang_pos', 'dist', 'speed_diff', 'acc_diff', 'cc'].mean().reset_index()\n",
      "/var/folders/ng/l4j590g95vl5r33ctw59y6cr0000gn/T/ipykernel_26977/3673897783.py:12: FutureWarning: Indexing with multiple keys (implicitly converted to a tuple of keys) will be deprecated, use a list instead.\n",
      "  bootstrapped_upward = tmp.groupby(['#t(centisec)'])['ang_pos', 'dist', 'speed_diff', 'acc_diff', 'cc'].mean().reset_index()\n",
      "/var/folders/ng/l4j590g95vl5r33ctw59y6cr0000gn/T/ipykernel_26977/3673897783.py:12: FutureWarning: Indexing with multiple keys (implicitly converted to a tuple of keys) will be deprecated, use a list instead.\n",
      "  bootstrapped_upward = tmp.groupby(['#t(centisec)'])['ang_pos', 'dist', 'speed_diff', 'acc_diff', 'cc'].mean().reset_index()\n",
      "/var/folders/ng/l4j590g95vl5r33ctw59y6cr0000gn/T/ipykernel_26977/3673897783.py:12: FutureWarning: Indexing with multiple keys (implicitly converted to a tuple of keys) will be deprecated, use a list instead.\n",
      "  bootstrapped_upward = tmp.groupby(['#t(centisec)'])['ang_pos', 'dist', 'speed_diff', 'acc_diff', 'cc'].mean().reset_index()\n",
      "/var/folders/ng/l4j590g95vl5r33ctw59y6cr0000gn/T/ipykernel_26977/3673897783.py:12: FutureWarning: Indexing with multiple keys (implicitly converted to a tuple of keys) will be deprecated, use a list instead.\n",
      "  bootstrapped_upward = tmp.groupby(['#t(centisec)'])['ang_pos', 'dist', 'speed_diff', 'acc_diff', 'cc'].mean().reset_index()\n"
     ]
    },
    {
     "name": "stdout",
     "output_type": "stream",
     "text": [
      "260\n"
     ]
    },
    {
     "name": "stderr",
     "output_type": "stream",
     "text": [
      "/var/folders/ng/l4j590g95vl5r33ctw59y6cr0000gn/T/ipykernel_26977/3673897783.py:12: FutureWarning: Indexing with multiple keys (implicitly converted to a tuple of keys) will be deprecated, use a list instead.\n",
      "  bootstrapped_upward = tmp.groupby(['#t(centisec)'])['ang_pos', 'dist', 'speed_diff', 'acc_diff', 'cc'].mean().reset_index()\n",
      "/var/folders/ng/l4j590g95vl5r33ctw59y6cr0000gn/T/ipykernel_26977/3673897783.py:12: FutureWarning: Indexing with multiple keys (implicitly converted to a tuple of keys) will be deprecated, use a list instead.\n",
      "  bootstrapped_upward = tmp.groupby(['#t(centisec)'])['ang_pos', 'dist', 'speed_diff', 'acc_diff', 'cc'].mean().reset_index()\n",
      "/var/folders/ng/l4j590g95vl5r33ctw59y6cr0000gn/T/ipykernel_26977/3673897783.py:12: FutureWarning: Indexing with multiple keys (implicitly converted to a tuple of keys) will be deprecated, use a list instead.\n",
      "  bootstrapped_upward = tmp.groupby(['#t(centisec)'])['ang_pos', 'dist', 'speed_diff', 'acc_diff', 'cc'].mean().reset_index()\n",
      "/var/folders/ng/l4j590g95vl5r33ctw59y6cr0000gn/T/ipykernel_26977/3673897783.py:12: FutureWarning: Indexing with multiple keys (implicitly converted to a tuple of keys) will be deprecated, use a list instead.\n",
      "  bootstrapped_upward = tmp.groupby(['#t(centisec)'])['ang_pos', 'dist', 'speed_diff', 'acc_diff', 'cc'].mean().reset_index()\n",
      "/var/folders/ng/l4j590g95vl5r33ctw59y6cr0000gn/T/ipykernel_26977/3673897783.py:12: FutureWarning: Indexing with multiple keys (implicitly converted to a tuple of keys) will be deprecated, use a list instead.\n",
      "  bootstrapped_upward = tmp.groupby(['#t(centisec)'])['ang_pos', 'dist', 'speed_diff', 'acc_diff', 'cc'].mean().reset_index()\n",
      "/var/folders/ng/l4j590g95vl5r33ctw59y6cr0000gn/T/ipykernel_26977/3673897783.py:12: FutureWarning: Indexing with multiple keys (implicitly converted to a tuple of keys) will be deprecated, use a list instead.\n",
      "  bootstrapped_upward = tmp.groupby(['#t(centisec)'])['ang_pos', 'dist', 'speed_diff', 'acc_diff', 'cc'].mean().reset_index()\n",
      "/var/folders/ng/l4j590g95vl5r33ctw59y6cr0000gn/T/ipykernel_26977/3673897783.py:12: FutureWarning: Indexing with multiple keys (implicitly converted to a tuple of keys) will be deprecated, use a list instead.\n",
      "  bootstrapped_upward = tmp.groupby(['#t(centisec)'])['ang_pos', 'dist', 'speed_diff', 'acc_diff', 'cc'].mean().reset_index()\n",
      "/var/folders/ng/l4j590g95vl5r33ctw59y6cr0000gn/T/ipykernel_26977/3673897783.py:12: FutureWarning: Indexing with multiple keys (implicitly converted to a tuple of keys) will be deprecated, use a list instead.\n",
      "  bootstrapped_upward = tmp.groupby(['#t(centisec)'])['ang_pos', 'dist', 'speed_diff', 'acc_diff', 'cc'].mean().reset_index()\n",
      "/var/folders/ng/l4j590g95vl5r33ctw59y6cr0000gn/T/ipykernel_26977/3673897783.py:12: FutureWarning: Indexing with multiple keys (implicitly converted to a tuple of keys) will be deprecated, use a list instead.\n",
      "  bootstrapped_upward = tmp.groupby(['#t(centisec)'])['ang_pos', 'dist', 'speed_diff', 'acc_diff', 'cc'].mean().reset_index()\n",
      "/var/folders/ng/l4j590g95vl5r33ctw59y6cr0000gn/T/ipykernel_26977/3673897783.py:12: FutureWarning: Indexing with multiple keys (implicitly converted to a tuple of keys) will be deprecated, use a list instead.\n",
      "  bootstrapped_upward = tmp.groupby(['#t(centisec)'])['ang_pos', 'dist', 'speed_diff', 'acc_diff', 'cc'].mean().reset_index()\n"
     ]
    },
    {
     "name": "stdout",
     "output_type": "stream",
     "text": [
      "270\n"
     ]
    },
    {
     "name": "stderr",
     "output_type": "stream",
     "text": [
      "/var/folders/ng/l4j590g95vl5r33ctw59y6cr0000gn/T/ipykernel_26977/3673897783.py:12: FutureWarning: Indexing with multiple keys (implicitly converted to a tuple of keys) will be deprecated, use a list instead.\n",
      "  bootstrapped_upward = tmp.groupby(['#t(centisec)'])['ang_pos', 'dist', 'speed_diff', 'acc_diff', 'cc'].mean().reset_index()\n",
      "/var/folders/ng/l4j590g95vl5r33ctw59y6cr0000gn/T/ipykernel_26977/3673897783.py:12: FutureWarning: Indexing with multiple keys (implicitly converted to a tuple of keys) will be deprecated, use a list instead.\n",
      "  bootstrapped_upward = tmp.groupby(['#t(centisec)'])['ang_pos', 'dist', 'speed_diff', 'acc_diff', 'cc'].mean().reset_index()\n",
      "/var/folders/ng/l4j590g95vl5r33ctw59y6cr0000gn/T/ipykernel_26977/3673897783.py:12: FutureWarning: Indexing with multiple keys (implicitly converted to a tuple of keys) will be deprecated, use a list instead.\n",
      "  bootstrapped_upward = tmp.groupby(['#t(centisec)'])['ang_pos', 'dist', 'speed_diff', 'acc_diff', 'cc'].mean().reset_index()\n",
      "/var/folders/ng/l4j590g95vl5r33ctw59y6cr0000gn/T/ipykernel_26977/3673897783.py:12: FutureWarning: Indexing with multiple keys (implicitly converted to a tuple of keys) will be deprecated, use a list instead.\n",
      "  bootstrapped_upward = tmp.groupby(['#t(centisec)'])['ang_pos', 'dist', 'speed_diff', 'acc_diff', 'cc'].mean().reset_index()\n",
      "/var/folders/ng/l4j590g95vl5r33ctw59y6cr0000gn/T/ipykernel_26977/3673897783.py:12: FutureWarning: Indexing with multiple keys (implicitly converted to a tuple of keys) will be deprecated, use a list instead.\n",
      "  bootstrapped_upward = tmp.groupby(['#t(centisec)'])['ang_pos', 'dist', 'speed_diff', 'acc_diff', 'cc'].mean().reset_index()\n",
      "/var/folders/ng/l4j590g95vl5r33ctw59y6cr0000gn/T/ipykernel_26977/3673897783.py:12: FutureWarning: Indexing with multiple keys (implicitly converted to a tuple of keys) will be deprecated, use a list instead.\n",
      "  bootstrapped_upward = tmp.groupby(['#t(centisec)'])['ang_pos', 'dist', 'speed_diff', 'acc_diff', 'cc'].mean().reset_index()\n",
      "/var/folders/ng/l4j590g95vl5r33ctw59y6cr0000gn/T/ipykernel_26977/3673897783.py:12: FutureWarning: Indexing with multiple keys (implicitly converted to a tuple of keys) will be deprecated, use a list instead.\n",
      "  bootstrapped_upward = tmp.groupby(['#t(centisec)'])['ang_pos', 'dist', 'speed_diff', 'acc_diff', 'cc'].mean().reset_index()\n",
      "/var/folders/ng/l4j590g95vl5r33ctw59y6cr0000gn/T/ipykernel_26977/3673897783.py:12: FutureWarning: Indexing with multiple keys (implicitly converted to a tuple of keys) will be deprecated, use a list instead.\n",
      "  bootstrapped_upward = tmp.groupby(['#t(centisec)'])['ang_pos', 'dist', 'speed_diff', 'acc_diff', 'cc'].mean().reset_index()\n",
      "/var/folders/ng/l4j590g95vl5r33ctw59y6cr0000gn/T/ipykernel_26977/3673897783.py:12: FutureWarning: Indexing with multiple keys (implicitly converted to a tuple of keys) will be deprecated, use a list instead.\n",
      "  bootstrapped_upward = tmp.groupby(['#t(centisec)'])['ang_pos', 'dist', 'speed_diff', 'acc_diff', 'cc'].mean().reset_index()\n",
      "/var/folders/ng/l4j590g95vl5r33ctw59y6cr0000gn/T/ipykernel_26977/3673897783.py:12: FutureWarning: Indexing with multiple keys (implicitly converted to a tuple of keys) will be deprecated, use a list instead.\n",
      "  bootstrapped_upward = tmp.groupby(['#t(centisec)'])['ang_pos', 'dist', 'speed_diff', 'acc_diff', 'cc'].mean().reset_index()\n"
     ]
    },
    {
     "name": "stdout",
     "output_type": "stream",
     "text": [
      "280\n"
     ]
    },
    {
     "name": "stderr",
     "output_type": "stream",
     "text": [
      "/var/folders/ng/l4j590g95vl5r33ctw59y6cr0000gn/T/ipykernel_26977/3673897783.py:12: FutureWarning: Indexing with multiple keys (implicitly converted to a tuple of keys) will be deprecated, use a list instead.\n",
      "  bootstrapped_upward = tmp.groupby(['#t(centisec)'])['ang_pos', 'dist', 'speed_diff', 'acc_diff', 'cc'].mean().reset_index()\n",
      "/var/folders/ng/l4j590g95vl5r33ctw59y6cr0000gn/T/ipykernel_26977/3673897783.py:12: FutureWarning: Indexing with multiple keys (implicitly converted to a tuple of keys) will be deprecated, use a list instead.\n",
      "  bootstrapped_upward = tmp.groupby(['#t(centisec)'])['ang_pos', 'dist', 'speed_diff', 'acc_diff', 'cc'].mean().reset_index()\n",
      "/var/folders/ng/l4j590g95vl5r33ctw59y6cr0000gn/T/ipykernel_26977/3673897783.py:12: FutureWarning: Indexing with multiple keys (implicitly converted to a tuple of keys) will be deprecated, use a list instead.\n",
      "  bootstrapped_upward = tmp.groupby(['#t(centisec)'])['ang_pos', 'dist', 'speed_diff', 'acc_diff', 'cc'].mean().reset_index()\n",
      "/var/folders/ng/l4j590g95vl5r33ctw59y6cr0000gn/T/ipykernel_26977/3673897783.py:12: FutureWarning: Indexing with multiple keys (implicitly converted to a tuple of keys) will be deprecated, use a list instead.\n",
      "  bootstrapped_upward = tmp.groupby(['#t(centisec)'])['ang_pos', 'dist', 'speed_diff', 'acc_diff', 'cc'].mean().reset_index()\n",
      "/var/folders/ng/l4j590g95vl5r33ctw59y6cr0000gn/T/ipykernel_26977/3673897783.py:12: FutureWarning: Indexing with multiple keys (implicitly converted to a tuple of keys) will be deprecated, use a list instead.\n",
      "  bootstrapped_upward = tmp.groupby(['#t(centisec)'])['ang_pos', 'dist', 'speed_diff', 'acc_diff', 'cc'].mean().reset_index()\n",
      "/var/folders/ng/l4j590g95vl5r33ctw59y6cr0000gn/T/ipykernel_26977/3673897783.py:12: FutureWarning: Indexing with multiple keys (implicitly converted to a tuple of keys) will be deprecated, use a list instead.\n",
      "  bootstrapped_upward = tmp.groupby(['#t(centisec)'])['ang_pos', 'dist', 'speed_diff', 'acc_diff', 'cc'].mean().reset_index()\n",
      "/var/folders/ng/l4j590g95vl5r33ctw59y6cr0000gn/T/ipykernel_26977/3673897783.py:12: FutureWarning: Indexing with multiple keys (implicitly converted to a tuple of keys) will be deprecated, use a list instead.\n",
      "  bootstrapped_upward = tmp.groupby(['#t(centisec)'])['ang_pos', 'dist', 'speed_diff', 'acc_diff', 'cc'].mean().reset_index()\n",
      "/var/folders/ng/l4j590g95vl5r33ctw59y6cr0000gn/T/ipykernel_26977/3673897783.py:12: FutureWarning: Indexing with multiple keys (implicitly converted to a tuple of keys) will be deprecated, use a list instead.\n",
      "  bootstrapped_upward = tmp.groupby(['#t(centisec)'])['ang_pos', 'dist', 'speed_diff', 'acc_diff', 'cc'].mean().reset_index()\n",
      "/var/folders/ng/l4j590g95vl5r33ctw59y6cr0000gn/T/ipykernel_26977/3673897783.py:12: FutureWarning: Indexing with multiple keys (implicitly converted to a tuple of keys) will be deprecated, use a list instead.\n",
      "  bootstrapped_upward = tmp.groupby(['#t(centisec)'])['ang_pos', 'dist', 'speed_diff', 'acc_diff', 'cc'].mean().reset_index()\n",
      "/var/folders/ng/l4j590g95vl5r33ctw59y6cr0000gn/T/ipykernel_26977/3673897783.py:12: FutureWarning: Indexing with multiple keys (implicitly converted to a tuple of keys) will be deprecated, use a list instead.\n",
      "  bootstrapped_upward = tmp.groupby(['#t(centisec)'])['ang_pos', 'dist', 'speed_diff', 'acc_diff', 'cc'].mean().reset_index()\n"
     ]
    },
    {
     "name": "stdout",
     "output_type": "stream",
     "text": [
      "290\n"
     ]
    },
    {
     "name": "stderr",
     "output_type": "stream",
     "text": [
      "/var/folders/ng/l4j590g95vl5r33ctw59y6cr0000gn/T/ipykernel_26977/3673897783.py:12: FutureWarning: Indexing with multiple keys (implicitly converted to a tuple of keys) will be deprecated, use a list instead.\n",
      "  bootstrapped_upward = tmp.groupby(['#t(centisec)'])['ang_pos', 'dist', 'speed_diff', 'acc_diff', 'cc'].mean().reset_index()\n",
      "/var/folders/ng/l4j590g95vl5r33ctw59y6cr0000gn/T/ipykernel_26977/3673897783.py:12: FutureWarning: Indexing with multiple keys (implicitly converted to a tuple of keys) will be deprecated, use a list instead.\n",
      "  bootstrapped_upward = tmp.groupby(['#t(centisec)'])['ang_pos', 'dist', 'speed_diff', 'acc_diff', 'cc'].mean().reset_index()\n",
      "/var/folders/ng/l4j590g95vl5r33ctw59y6cr0000gn/T/ipykernel_26977/3673897783.py:12: FutureWarning: Indexing with multiple keys (implicitly converted to a tuple of keys) will be deprecated, use a list instead.\n",
      "  bootstrapped_upward = tmp.groupby(['#t(centisec)'])['ang_pos', 'dist', 'speed_diff', 'acc_diff', 'cc'].mean().reset_index()\n",
      "/var/folders/ng/l4j590g95vl5r33ctw59y6cr0000gn/T/ipykernel_26977/3673897783.py:12: FutureWarning: Indexing with multiple keys (implicitly converted to a tuple of keys) will be deprecated, use a list instead.\n",
      "  bootstrapped_upward = tmp.groupby(['#t(centisec)'])['ang_pos', 'dist', 'speed_diff', 'acc_diff', 'cc'].mean().reset_index()\n",
      "/var/folders/ng/l4j590g95vl5r33ctw59y6cr0000gn/T/ipykernel_26977/3673897783.py:12: FutureWarning: Indexing with multiple keys (implicitly converted to a tuple of keys) will be deprecated, use a list instead.\n",
      "  bootstrapped_upward = tmp.groupby(['#t(centisec)'])['ang_pos', 'dist', 'speed_diff', 'acc_diff', 'cc'].mean().reset_index()\n",
      "/var/folders/ng/l4j590g95vl5r33ctw59y6cr0000gn/T/ipykernel_26977/3673897783.py:12: FutureWarning: Indexing with multiple keys (implicitly converted to a tuple of keys) will be deprecated, use a list instead.\n",
      "  bootstrapped_upward = tmp.groupby(['#t(centisec)'])['ang_pos', 'dist', 'speed_diff', 'acc_diff', 'cc'].mean().reset_index()\n",
      "/var/folders/ng/l4j590g95vl5r33ctw59y6cr0000gn/T/ipykernel_26977/3673897783.py:12: FutureWarning: Indexing with multiple keys (implicitly converted to a tuple of keys) will be deprecated, use a list instead.\n",
      "  bootstrapped_upward = tmp.groupby(['#t(centisec)'])['ang_pos', 'dist', 'speed_diff', 'acc_diff', 'cc'].mean().reset_index()\n",
      "/var/folders/ng/l4j590g95vl5r33ctw59y6cr0000gn/T/ipykernel_26977/3673897783.py:12: FutureWarning: Indexing with multiple keys (implicitly converted to a tuple of keys) will be deprecated, use a list instead.\n",
      "  bootstrapped_upward = tmp.groupby(['#t(centisec)'])['ang_pos', 'dist', 'speed_diff', 'acc_diff', 'cc'].mean().reset_index()\n",
      "/var/folders/ng/l4j590g95vl5r33ctw59y6cr0000gn/T/ipykernel_26977/3673897783.py:12: FutureWarning: Indexing with multiple keys (implicitly converted to a tuple of keys) will be deprecated, use a list instead.\n",
      "  bootstrapped_upward = tmp.groupby(['#t(centisec)'])['ang_pos', 'dist', 'speed_diff', 'acc_diff', 'cc'].mean().reset_index()\n",
      "/var/folders/ng/l4j590g95vl5r33ctw59y6cr0000gn/T/ipykernel_26977/3673897783.py:12: FutureWarning: Indexing with multiple keys (implicitly converted to a tuple of keys) will be deprecated, use a list instead.\n",
      "  bootstrapped_upward = tmp.groupby(['#t(centisec)'])['ang_pos', 'dist', 'speed_diff', 'acc_diff', 'cc'].mean().reset_index()\n"
     ]
    },
    {
     "name": "stdout",
     "output_type": "stream",
     "text": [
      "300\n"
     ]
    },
    {
     "name": "stderr",
     "output_type": "stream",
     "text": [
      "/var/folders/ng/l4j590g95vl5r33ctw59y6cr0000gn/T/ipykernel_26977/3673897783.py:12: FutureWarning: Indexing with multiple keys (implicitly converted to a tuple of keys) will be deprecated, use a list instead.\n",
      "  bootstrapped_upward = tmp.groupby(['#t(centisec)'])['ang_pos', 'dist', 'speed_diff', 'acc_diff', 'cc'].mean().reset_index()\n",
      "/var/folders/ng/l4j590g95vl5r33ctw59y6cr0000gn/T/ipykernel_26977/3673897783.py:12: FutureWarning: Indexing with multiple keys (implicitly converted to a tuple of keys) will be deprecated, use a list instead.\n",
      "  bootstrapped_upward = tmp.groupby(['#t(centisec)'])['ang_pos', 'dist', 'speed_diff', 'acc_diff', 'cc'].mean().reset_index()\n",
      "/var/folders/ng/l4j590g95vl5r33ctw59y6cr0000gn/T/ipykernel_26977/3673897783.py:12: FutureWarning: Indexing with multiple keys (implicitly converted to a tuple of keys) will be deprecated, use a list instead.\n",
      "  bootstrapped_upward = tmp.groupby(['#t(centisec)'])['ang_pos', 'dist', 'speed_diff', 'acc_diff', 'cc'].mean().reset_index()\n",
      "/var/folders/ng/l4j590g95vl5r33ctw59y6cr0000gn/T/ipykernel_26977/3673897783.py:12: FutureWarning: Indexing with multiple keys (implicitly converted to a tuple of keys) will be deprecated, use a list instead.\n",
      "  bootstrapped_upward = tmp.groupby(['#t(centisec)'])['ang_pos', 'dist', 'speed_diff', 'acc_diff', 'cc'].mean().reset_index()\n",
      "/var/folders/ng/l4j590g95vl5r33ctw59y6cr0000gn/T/ipykernel_26977/3673897783.py:12: FutureWarning: Indexing with multiple keys (implicitly converted to a tuple of keys) will be deprecated, use a list instead.\n",
      "  bootstrapped_upward = tmp.groupby(['#t(centisec)'])['ang_pos', 'dist', 'speed_diff', 'acc_diff', 'cc'].mean().reset_index()\n",
      "/var/folders/ng/l4j590g95vl5r33ctw59y6cr0000gn/T/ipykernel_26977/3673897783.py:12: FutureWarning: Indexing with multiple keys (implicitly converted to a tuple of keys) will be deprecated, use a list instead.\n",
      "  bootstrapped_upward = tmp.groupby(['#t(centisec)'])['ang_pos', 'dist', 'speed_diff', 'acc_diff', 'cc'].mean().reset_index()\n",
      "/var/folders/ng/l4j590g95vl5r33ctw59y6cr0000gn/T/ipykernel_26977/3673897783.py:12: FutureWarning: Indexing with multiple keys (implicitly converted to a tuple of keys) will be deprecated, use a list instead.\n",
      "  bootstrapped_upward = tmp.groupby(['#t(centisec)'])['ang_pos', 'dist', 'speed_diff', 'acc_diff', 'cc'].mean().reset_index()\n",
      "/var/folders/ng/l4j590g95vl5r33ctw59y6cr0000gn/T/ipykernel_26977/3673897783.py:12: FutureWarning: Indexing with multiple keys (implicitly converted to a tuple of keys) will be deprecated, use a list instead.\n",
      "  bootstrapped_upward = tmp.groupby(['#t(centisec)'])['ang_pos', 'dist', 'speed_diff', 'acc_diff', 'cc'].mean().reset_index()\n",
      "/var/folders/ng/l4j590g95vl5r33ctw59y6cr0000gn/T/ipykernel_26977/3673897783.py:12: FutureWarning: Indexing with multiple keys (implicitly converted to a tuple of keys) will be deprecated, use a list instead.\n",
      "  bootstrapped_upward = tmp.groupby(['#t(centisec)'])['ang_pos', 'dist', 'speed_diff', 'acc_diff', 'cc'].mean().reset_index()\n",
      "/var/folders/ng/l4j590g95vl5r33ctw59y6cr0000gn/T/ipykernel_26977/3673897783.py:12: FutureWarning: Indexing with multiple keys (implicitly converted to a tuple of keys) will be deprecated, use a list instead.\n",
      "  bootstrapped_upward = tmp.groupby(['#t(centisec)'])['ang_pos', 'dist', 'speed_diff', 'acc_diff', 'cc'].mean().reset_index()\n"
     ]
    },
    {
     "name": "stdout",
     "output_type": "stream",
     "text": [
      "310\n"
     ]
    },
    {
     "name": "stderr",
     "output_type": "stream",
     "text": [
      "/var/folders/ng/l4j590g95vl5r33ctw59y6cr0000gn/T/ipykernel_26977/3673897783.py:12: FutureWarning: Indexing with multiple keys (implicitly converted to a tuple of keys) will be deprecated, use a list instead.\n",
      "  bootstrapped_upward = tmp.groupby(['#t(centisec)'])['ang_pos', 'dist', 'speed_diff', 'acc_diff', 'cc'].mean().reset_index()\n",
      "/var/folders/ng/l4j590g95vl5r33ctw59y6cr0000gn/T/ipykernel_26977/3673897783.py:12: FutureWarning: Indexing with multiple keys (implicitly converted to a tuple of keys) will be deprecated, use a list instead.\n",
      "  bootstrapped_upward = tmp.groupby(['#t(centisec)'])['ang_pos', 'dist', 'speed_diff', 'acc_diff', 'cc'].mean().reset_index()\n",
      "/var/folders/ng/l4j590g95vl5r33ctw59y6cr0000gn/T/ipykernel_26977/3673897783.py:12: FutureWarning: Indexing with multiple keys (implicitly converted to a tuple of keys) will be deprecated, use a list instead.\n",
      "  bootstrapped_upward = tmp.groupby(['#t(centisec)'])['ang_pos', 'dist', 'speed_diff', 'acc_diff', 'cc'].mean().reset_index()\n",
      "/var/folders/ng/l4j590g95vl5r33ctw59y6cr0000gn/T/ipykernel_26977/3673897783.py:12: FutureWarning: Indexing with multiple keys (implicitly converted to a tuple of keys) will be deprecated, use a list instead.\n",
      "  bootstrapped_upward = tmp.groupby(['#t(centisec)'])['ang_pos', 'dist', 'speed_diff', 'acc_diff', 'cc'].mean().reset_index()\n",
      "/var/folders/ng/l4j590g95vl5r33ctw59y6cr0000gn/T/ipykernel_26977/3673897783.py:12: FutureWarning: Indexing with multiple keys (implicitly converted to a tuple of keys) will be deprecated, use a list instead.\n",
      "  bootstrapped_upward = tmp.groupby(['#t(centisec)'])['ang_pos', 'dist', 'speed_diff', 'acc_diff', 'cc'].mean().reset_index()\n",
      "/var/folders/ng/l4j590g95vl5r33ctw59y6cr0000gn/T/ipykernel_26977/3673897783.py:12: FutureWarning: Indexing with multiple keys (implicitly converted to a tuple of keys) will be deprecated, use a list instead.\n",
      "  bootstrapped_upward = tmp.groupby(['#t(centisec)'])['ang_pos', 'dist', 'speed_diff', 'acc_diff', 'cc'].mean().reset_index()\n",
      "/var/folders/ng/l4j590g95vl5r33ctw59y6cr0000gn/T/ipykernel_26977/3673897783.py:12: FutureWarning: Indexing with multiple keys (implicitly converted to a tuple of keys) will be deprecated, use a list instead.\n",
      "  bootstrapped_upward = tmp.groupby(['#t(centisec)'])['ang_pos', 'dist', 'speed_diff', 'acc_diff', 'cc'].mean().reset_index()\n",
      "/var/folders/ng/l4j590g95vl5r33ctw59y6cr0000gn/T/ipykernel_26977/3673897783.py:12: FutureWarning: Indexing with multiple keys (implicitly converted to a tuple of keys) will be deprecated, use a list instead.\n",
      "  bootstrapped_upward = tmp.groupby(['#t(centisec)'])['ang_pos', 'dist', 'speed_diff', 'acc_diff', 'cc'].mean().reset_index()\n",
      "/var/folders/ng/l4j590g95vl5r33ctw59y6cr0000gn/T/ipykernel_26977/3673897783.py:12: FutureWarning: Indexing with multiple keys (implicitly converted to a tuple of keys) will be deprecated, use a list instead.\n",
      "  bootstrapped_upward = tmp.groupby(['#t(centisec)'])['ang_pos', 'dist', 'speed_diff', 'acc_diff', 'cc'].mean().reset_index()\n",
      "/var/folders/ng/l4j590g95vl5r33ctw59y6cr0000gn/T/ipykernel_26977/3673897783.py:12: FutureWarning: Indexing with multiple keys (implicitly converted to a tuple of keys) will be deprecated, use a list instead.\n",
      "  bootstrapped_upward = tmp.groupby(['#t(centisec)'])['ang_pos', 'dist', 'speed_diff', 'acc_diff', 'cc'].mean().reset_index()\n"
     ]
    },
    {
     "name": "stdout",
     "output_type": "stream",
     "text": [
      "320\n"
     ]
    },
    {
     "name": "stderr",
     "output_type": "stream",
     "text": [
      "/var/folders/ng/l4j590g95vl5r33ctw59y6cr0000gn/T/ipykernel_26977/3673897783.py:12: FutureWarning: Indexing with multiple keys (implicitly converted to a tuple of keys) will be deprecated, use a list instead.\n",
      "  bootstrapped_upward = tmp.groupby(['#t(centisec)'])['ang_pos', 'dist', 'speed_diff', 'acc_diff', 'cc'].mean().reset_index()\n",
      "/var/folders/ng/l4j590g95vl5r33ctw59y6cr0000gn/T/ipykernel_26977/3673897783.py:12: FutureWarning: Indexing with multiple keys (implicitly converted to a tuple of keys) will be deprecated, use a list instead.\n",
      "  bootstrapped_upward = tmp.groupby(['#t(centisec)'])['ang_pos', 'dist', 'speed_diff', 'acc_diff', 'cc'].mean().reset_index()\n",
      "/var/folders/ng/l4j590g95vl5r33ctw59y6cr0000gn/T/ipykernel_26977/3673897783.py:12: FutureWarning: Indexing with multiple keys (implicitly converted to a tuple of keys) will be deprecated, use a list instead.\n",
      "  bootstrapped_upward = tmp.groupby(['#t(centisec)'])['ang_pos', 'dist', 'speed_diff', 'acc_diff', 'cc'].mean().reset_index()\n",
      "/var/folders/ng/l4j590g95vl5r33ctw59y6cr0000gn/T/ipykernel_26977/3673897783.py:12: FutureWarning: Indexing with multiple keys (implicitly converted to a tuple of keys) will be deprecated, use a list instead.\n",
      "  bootstrapped_upward = tmp.groupby(['#t(centisec)'])['ang_pos', 'dist', 'speed_diff', 'acc_diff', 'cc'].mean().reset_index()\n",
      "/var/folders/ng/l4j590g95vl5r33ctw59y6cr0000gn/T/ipykernel_26977/3673897783.py:12: FutureWarning: Indexing with multiple keys (implicitly converted to a tuple of keys) will be deprecated, use a list instead.\n",
      "  bootstrapped_upward = tmp.groupby(['#t(centisec)'])['ang_pos', 'dist', 'speed_diff', 'acc_diff', 'cc'].mean().reset_index()\n",
      "/var/folders/ng/l4j590g95vl5r33ctw59y6cr0000gn/T/ipykernel_26977/3673897783.py:12: FutureWarning: Indexing with multiple keys (implicitly converted to a tuple of keys) will be deprecated, use a list instead.\n",
      "  bootstrapped_upward = tmp.groupby(['#t(centisec)'])['ang_pos', 'dist', 'speed_diff', 'acc_diff', 'cc'].mean().reset_index()\n",
      "/var/folders/ng/l4j590g95vl5r33ctw59y6cr0000gn/T/ipykernel_26977/3673897783.py:12: FutureWarning: Indexing with multiple keys (implicitly converted to a tuple of keys) will be deprecated, use a list instead.\n",
      "  bootstrapped_upward = tmp.groupby(['#t(centisec)'])['ang_pos', 'dist', 'speed_diff', 'acc_diff', 'cc'].mean().reset_index()\n",
      "/var/folders/ng/l4j590g95vl5r33ctw59y6cr0000gn/T/ipykernel_26977/3673897783.py:12: FutureWarning: Indexing with multiple keys (implicitly converted to a tuple of keys) will be deprecated, use a list instead.\n",
      "  bootstrapped_upward = tmp.groupby(['#t(centisec)'])['ang_pos', 'dist', 'speed_diff', 'acc_diff', 'cc'].mean().reset_index()\n",
      "/var/folders/ng/l4j590g95vl5r33ctw59y6cr0000gn/T/ipykernel_26977/3673897783.py:12: FutureWarning: Indexing with multiple keys (implicitly converted to a tuple of keys) will be deprecated, use a list instead.\n",
      "  bootstrapped_upward = tmp.groupby(['#t(centisec)'])['ang_pos', 'dist', 'speed_diff', 'acc_diff', 'cc'].mean().reset_index()\n",
      "/var/folders/ng/l4j590g95vl5r33ctw59y6cr0000gn/T/ipykernel_26977/3673897783.py:12: FutureWarning: Indexing with multiple keys (implicitly converted to a tuple of keys) will be deprecated, use a list instead.\n",
      "  bootstrapped_upward = tmp.groupby(['#t(centisec)'])['ang_pos', 'dist', 'speed_diff', 'acc_diff', 'cc'].mean().reset_index()\n"
     ]
    },
    {
     "name": "stdout",
     "output_type": "stream",
     "text": [
      "330\n"
     ]
    },
    {
     "name": "stderr",
     "output_type": "stream",
     "text": [
      "/var/folders/ng/l4j590g95vl5r33ctw59y6cr0000gn/T/ipykernel_26977/3673897783.py:12: FutureWarning: Indexing with multiple keys (implicitly converted to a tuple of keys) will be deprecated, use a list instead.\n",
      "  bootstrapped_upward = tmp.groupby(['#t(centisec)'])['ang_pos', 'dist', 'speed_diff', 'acc_diff', 'cc'].mean().reset_index()\n",
      "/var/folders/ng/l4j590g95vl5r33ctw59y6cr0000gn/T/ipykernel_26977/3673897783.py:12: FutureWarning: Indexing with multiple keys (implicitly converted to a tuple of keys) will be deprecated, use a list instead.\n",
      "  bootstrapped_upward = tmp.groupby(['#t(centisec)'])['ang_pos', 'dist', 'speed_diff', 'acc_diff', 'cc'].mean().reset_index()\n",
      "/var/folders/ng/l4j590g95vl5r33ctw59y6cr0000gn/T/ipykernel_26977/3673897783.py:12: FutureWarning: Indexing with multiple keys (implicitly converted to a tuple of keys) will be deprecated, use a list instead.\n",
      "  bootstrapped_upward = tmp.groupby(['#t(centisec)'])['ang_pos', 'dist', 'speed_diff', 'acc_diff', 'cc'].mean().reset_index()\n",
      "/var/folders/ng/l4j590g95vl5r33ctw59y6cr0000gn/T/ipykernel_26977/3673897783.py:12: FutureWarning: Indexing with multiple keys (implicitly converted to a tuple of keys) will be deprecated, use a list instead.\n",
      "  bootstrapped_upward = tmp.groupby(['#t(centisec)'])['ang_pos', 'dist', 'speed_diff', 'acc_diff', 'cc'].mean().reset_index()\n",
      "/var/folders/ng/l4j590g95vl5r33ctw59y6cr0000gn/T/ipykernel_26977/3673897783.py:12: FutureWarning: Indexing with multiple keys (implicitly converted to a tuple of keys) will be deprecated, use a list instead.\n",
      "  bootstrapped_upward = tmp.groupby(['#t(centisec)'])['ang_pos', 'dist', 'speed_diff', 'acc_diff', 'cc'].mean().reset_index()\n",
      "/var/folders/ng/l4j590g95vl5r33ctw59y6cr0000gn/T/ipykernel_26977/3673897783.py:12: FutureWarning: Indexing with multiple keys (implicitly converted to a tuple of keys) will be deprecated, use a list instead.\n",
      "  bootstrapped_upward = tmp.groupby(['#t(centisec)'])['ang_pos', 'dist', 'speed_diff', 'acc_diff', 'cc'].mean().reset_index()\n",
      "/var/folders/ng/l4j590g95vl5r33ctw59y6cr0000gn/T/ipykernel_26977/3673897783.py:12: FutureWarning: Indexing with multiple keys (implicitly converted to a tuple of keys) will be deprecated, use a list instead.\n",
      "  bootstrapped_upward = tmp.groupby(['#t(centisec)'])['ang_pos', 'dist', 'speed_diff', 'acc_diff', 'cc'].mean().reset_index()\n",
      "/var/folders/ng/l4j590g95vl5r33ctw59y6cr0000gn/T/ipykernel_26977/3673897783.py:12: FutureWarning: Indexing with multiple keys (implicitly converted to a tuple of keys) will be deprecated, use a list instead.\n",
      "  bootstrapped_upward = tmp.groupby(['#t(centisec)'])['ang_pos', 'dist', 'speed_diff', 'acc_diff', 'cc'].mean().reset_index()\n",
      "/var/folders/ng/l4j590g95vl5r33ctw59y6cr0000gn/T/ipykernel_26977/3673897783.py:12: FutureWarning: Indexing with multiple keys (implicitly converted to a tuple of keys) will be deprecated, use a list instead.\n",
      "  bootstrapped_upward = tmp.groupby(['#t(centisec)'])['ang_pos', 'dist', 'speed_diff', 'acc_diff', 'cc'].mean().reset_index()\n",
      "/var/folders/ng/l4j590g95vl5r33ctw59y6cr0000gn/T/ipykernel_26977/3673897783.py:12: FutureWarning: Indexing with multiple keys (implicitly converted to a tuple of keys) will be deprecated, use a list instead.\n",
      "  bootstrapped_upward = tmp.groupby(['#t(centisec)'])['ang_pos', 'dist', 'speed_diff', 'acc_diff', 'cc'].mean().reset_index()\n"
     ]
    },
    {
     "name": "stdout",
     "output_type": "stream",
     "text": [
      "340\n"
     ]
    },
    {
     "name": "stderr",
     "output_type": "stream",
     "text": [
      "/var/folders/ng/l4j590g95vl5r33ctw59y6cr0000gn/T/ipykernel_26977/3673897783.py:12: FutureWarning: Indexing with multiple keys (implicitly converted to a tuple of keys) will be deprecated, use a list instead.\n",
      "  bootstrapped_upward = tmp.groupby(['#t(centisec)'])['ang_pos', 'dist', 'speed_diff', 'acc_diff', 'cc'].mean().reset_index()\n",
      "/var/folders/ng/l4j590g95vl5r33ctw59y6cr0000gn/T/ipykernel_26977/3673897783.py:12: FutureWarning: Indexing with multiple keys (implicitly converted to a tuple of keys) will be deprecated, use a list instead.\n",
      "  bootstrapped_upward = tmp.groupby(['#t(centisec)'])['ang_pos', 'dist', 'speed_diff', 'acc_diff', 'cc'].mean().reset_index()\n",
      "/var/folders/ng/l4j590g95vl5r33ctw59y6cr0000gn/T/ipykernel_26977/3673897783.py:12: FutureWarning: Indexing with multiple keys (implicitly converted to a tuple of keys) will be deprecated, use a list instead.\n",
      "  bootstrapped_upward = tmp.groupby(['#t(centisec)'])['ang_pos', 'dist', 'speed_diff', 'acc_diff', 'cc'].mean().reset_index()\n",
      "/var/folders/ng/l4j590g95vl5r33ctw59y6cr0000gn/T/ipykernel_26977/3673897783.py:12: FutureWarning: Indexing with multiple keys (implicitly converted to a tuple of keys) will be deprecated, use a list instead.\n",
      "  bootstrapped_upward = tmp.groupby(['#t(centisec)'])['ang_pos', 'dist', 'speed_diff', 'acc_diff', 'cc'].mean().reset_index()\n",
      "/var/folders/ng/l4j590g95vl5r33ctw59y6cr0000gn/T/ipykernel_26977/3673897783.py:12: FutureWarning: Indexing with multiple keys (implicitly converted to a tuple of keys) will be deprecated, use a list instead.\n",
      "  bootstrapped_upward = tmp.groupby(['#t(centisec)'])['ang_pos', 'dist', 'speed_diff', 'acc_diff', 'cc'].mean().reset_index()\n",
      "/var/folders/ng/l4j590g95vl5r33ctw59y6cr0000gn/T/ipykernel_26977/3673897783.py:12: FutureWarning: Indexing with multiple keys (implicitly converted to a tuple of keys) will be deprecated, use a list instead.\n",
      "  bootstrapped_upward = tmp.groupby(['#t(centisec)'])['ang_pos', 'dist', 'speed_diff', 'acc_diff', 'cc'].mean().reset_index()\n",
      "/var/folders/ng/l4j590g95vl5r33ctw59y6cr0000gn/T/ipykernel_26977/3673897783.py:12: FutureWarning: Indexing with multiple keys (implicitly converted to a tuple of keys) will be deprecated, use a list instead.\n",
      "  bootstrapped_upward = tmp.groupby(['#t(centisec)'])['ang_pos', 'dist', 'speed_diff', 'acc_diff', 'cc'].mean().reset_index()\n",
      "/var/folders/ng/l4j590g95vl5r33ctw59y6cr0000gn/T/ipykernel_26977/3673897783.py:12: FutureWarning: Indexing with multiple keys (implicitly converted to a tuple of keys) will be deprecated, use a list instead.\n",
      "  bootstrapped_upward = tmp.groupby(['#t(centisec)'])['ang_pos', 'dist', 'speed_diff', 'acc_diff', 'cc'].mean().reset_index()\n",
      "/var/folders/ng/l4j590g95vl5r33ctw59y6cr0000gn/T/ipykernel_26977/3673897783.py:12: FutureWarning: Indexing with multiple keys (implicitly converted to a tuple of keys) will be deprecated, use a list instead.\n",
      "  bootstrapped_upward = tmp.groupby(['#t(centisec)'])['ang_pos', 'dist', 'speed_diff', 'acc_diff', 'cc'].mean().reset_index()\n",
      "/var/folders/ng/l4j590g95vl5r33ctw59y6cr0000gn/T/ipykernel_26977/3673897783.py:12: FutureWarning: Indexing with multiple keys (implicitly converted to a tuple of keys) will be deprecated, use a list instead.\n",
      "  bootstrapped_upward = tmp.groupby(['#t(centisec)'])['ang_pos', 'dist', 'speed_diff', 'acc_diff', 'cc'].mean().reset_index()\n"
     ]
    },
    {
     "name": "stdout",
     "output_type": "stream",
     "text": [
      "350\n"
     ]
    },
    {
     "name": "stderr",
     "output_type": "stream",
     "text": [
      "/var/folders/ng/l4j590g95vl5r33ctw59y6cr0000gn/T/ipykernel_26977/3673897783.py:12: FutureWarning: Indexing with multiple keys (implicitly converted to a tuple of keys) will be deprecated, use a list instead.\n",
      "  bootstrapped_upward = tmp.groupby(['#t(centisec)'])['ang_pos', 'dist', 'speed_diff', 'acc_diff', 'cc'].mean().reset_index()\n",
      "/var/folders/ng/l4j590g95vl5r33ctw59y6cr0000gn/T/ipykernel_26977/3673897783.py:12: FutureWarning: Indexing with multiple keys (implicitly converted to a tuple of keys) will be deprecated, use a list instead.\n",
      "  bootstrapped_upward = tmp.groupby(['#t(centisec)'])['ang_pos', 'dist', 'speed_diff', 'acc_diff', 'cc'].mean().reset_index()\n",
      "/var/folders/ng/l4j590g95vl5r33ctw59y6cr0000gn/T/ipykernel_26977/3673897783.py:12: FutureWarning: Indexing with multiple keys (implicitly converted to a tuple of keys) will be deprecated, use a list instead.\n",
      "  bootstrapped_upward = tmp.groupby(['#t(centisec)'])['ang_pos', 'dist', 'speed_diff', 'acc_diff', 'cc'].mean().reset_index()\n",
      "/var/folders/ng/l4j590g95vl5r33ctw59y6cr0000gn/T/ipykernel_26977/3673897783.py:12: FutureWarning: Indexing with multiple keys (implicitly converted to a tuple of keys) will be deprecated, use a list instead.\n",
      "  bootstrapped_upward = tmp.groupby(['#t(centisec)'])['ang_pos', 'dist', 'speed_diff', 'acc_diff', 'cc'].mean().reset_index()\n",
      "/var/folders/ng/l4j590g95vl5r33ctw59y6cr0000gn/T/ipykernel_26977/3673897783.py:12: FutureWarning: Indexing with multiple keys (implicitly converted to a tuple of keys) will be deprecated, use a list instead.\n",
      "  bootstrapped_upward = tmp.groupby(['#t(centisec)'])['ang_pos', 'dist', 'speed_diff', 'acc_diff', 'cc'].mean().reset_index()\n",
      "/var/folders/ng/l4j590g95vl5r33ctw59y6cr0000gn/T/ipykernel_26977/3673897783.py:12: FutureWarning: Indexing with multiple keys (implicitly converted to a tuple of keys) will be deprecated, use a list instead.\n",
      "  bootstrapped_upward = tmp.groupby(['#t(centisec)'])['ang_pos', 'dist', 'speed_diff', 'acc_diff', 'cc'].mean().reset_index()\n",
      "/var/folders/ng/l4j590g95vl5r33ctw59y6cr0000gn/T/ipykernel_26977/3673897783.py:12: FutureWarning: Indexing with multiple keys (implicitly converted to a tuple of keys) will be deprecated, use a list instead.\n",
      "  bootstrapped_upward = tmp.groupby(['#t(centisec)'])['ang_pos', 'dist', 'speed_diff', 'acc_diff', 'cc'].mean().reset_index()\n",
      "/var/folders/ng/l4j590g95vl5r33ctw59y6cr0000gn/T/ipykernel_26977/3673897783.py:12: FutureWarning: Indexing with multiple keys (implicitly converted to a tuple of keys) will be deprecated, use a list instead.\n",
      "  bootstrapped_upward = tmp.groupby(['#t(centisec)'])['ang_pos', 'dist', 'speed_diff', 'acc_diff', 'cc'].mean().reset_index()\n",
      "/var/folders/ng/l4j590g95vl5r33ctw59y6cr0000gn/T/ipykernel_26977/3673897783.py:12: FutureWarning: Indexing with multiple keys (implicitly converted to a tuple of keys) will be deprecated, use a list instead.\n",
      "  bootstrapped_upward = tmp.groupby(['#t(centisec)'])['ang_pos', 'dist', 'speed_diff', 'acc_diff', 'cc'].mean().reset_index()\n",
      "/var/folders/ng/l4j590g95vl5r33ctw59y6cr0000gn/T/ipykernel_26977/3673897783.py:12: FutureWarning: Indexing with multiple keys (implicitly converted to a tuple of keys) will be deprecated, use a list instead.\n",
      "  bootstrapped_upward = tmp.groupby(['#t(centisec)'])['ang_pos', 'dist', 'speed_diff', 'acc_diff', 'cc'].mean().reset_index()\n"
     ]
    },
    {
     "name": "stdout",
     "output_type": "stream",
     "text": [
      "360\n"
     ]
    },
    {
     "name": "stderr",
     "output_type": "stream",
     "text": [
      "/var/folders/ng/l4j590g95vl5r33ctw59y6cr0000gn/T/ipykernel_26977/3673897783.py:12: FutureWarning: Indexing with multiple keys (implicitly converted to a tuple of keys) will be deprecated, use a list instead.\n",
      "  bootstrapped_upward = tmp.groupby(['#t(centisec)'])['ang_pos', 'dist', 'speed_diff', 'acc_diff', 'cc'].mean().reset_index()\n",
      "/var/folders/ng/l4j590g95vl5r33ctw59y6cr0000gn/T/ipykernel_26977/3673897783.py:12: FutureWarning: Indexing with multiple keys (implicitly converted to a tuple of keys) will be deprecated, use a list instead.\n",
      "  bootstrapped_upward = tmp.groupby(['#t(centisec)'])['ang_pos', 'dist', 'speed_diff', 'acc_diff', 'cc'].mean().reset_index()\n",
      "/var/folders/ng/l4j590g95vl5r33ctw59y6cr0000gn/T/ipykernel_26977/3673897783.py:12: FutureWarning: Indexing with multiple keys (implicitly converted to a tuple of keys) will be deprecated, use a list instead.\n",
      "  bootstrapped_upward = tmp.groupby(['#t(centisec)'])['ang_pos', 'dist', 'speed_diff', 'acc_diff', 'cc'].mean().reset_index()\n",
      "/var/folders/ng/l4j590g95vl5r33ctw59y6cr0000gn/T/ipykernel_26977/3673897783.py:12: FutureWarning: Indexing with multiple keys (implicitly converted to a tuple of keys) will be deprecated, use a list instead.\n",
      "  bootstrapped_upward = tmp.groupby(['#t(centisec)'])['ang_pos', 'dist', 'speed_diff', 'acc_diff', 'cc'].mean().reset_index()\n",
      "/var/folders/ng/l4j590g95vl5r33ctw59y6cr0000gn/T/ipykernel_26977/3673897783.py:12: FutureWarning: Indexing with multiple keys (implicitly converted to a tuple of keys) will be deprecated, use a list instead.\n",
      "  bootstrapped_upward = tmp.groupby(['#t(centisec)'])['ang_pos', 'dist', 'speed_diff', 'acc_diff', 'cc'].mean().reset_index()\n",
      "/var/folders/ng/l4j590g95vl5r33ctw59y6cr0000gn/T/ipykernel_26977/3673897783.py:12: FutureWarning: Indexing with multiple keys (implicitly converted to a tuple of keys) will be deprecated, use a list instead.\n",
      "  bootstrapped_upward = tmp.groupby(['#t(centisec)'])['ang_pos', 'dist', 'speed_diff', 'acc_diff', 'cc'].mean().reset_index()\n",
      "/var/folders/ng/l4j590g95vl5r33ctw59y6cr0000gn/T/ipykernel_26977/3673897783.py:12: FutureWarning: Indexing with multiple keys (implicitly converted to a tuple of keys) will be deprecated, use a list instead.\n",
      "  bootstrapped_upward = tmp.groupby(['#t(centisec)'])['ang_pos', 'dist', 'speed_diff', 'acc_diff', 'cc'].mean().reset_index()\n",
      "/var/folders/ng/l4j590g95vl5r33ctw59y6cr0000gn/T/ipykernel_26977/3673897783.py:12: FutureWarning: Indexing with multiple keys (implicitly converted to a tuple of keys) will be deprecated, use a list instead.\n",
      "  bootstrapped_upward = tmp.groupby(['#t(centisec)'])['ang_pos', 'dist', 'speed_diff', 'acc_diff', 'cc'].mean().reset_index()\n",
      "/var/folders/ng/l4j590g95vl5r33ctw59y6cr0000gn/T/ipykernel_26977/3673897783.py:12: FutureWarning: Indexing with multiple keys (implicitly converted to a tuple of keys) will be deprecated, use a list instead.\n",
      "  bootstrapped_upward = tmp.groupby(['#t(centisec)'])['ang_pos', 'dist', 'speed_diff', 'acc_diff', 'cc'].mean().reset_index()\n",
      "/var/folders/ng/l4j590g95vl5r33ctw59y6cr0000gn/T/ipykernel_26977/3673897783.py:12: FutureWarning: Indexing with multiple keys (implicitly converted to a tuple of keys) will be deprecated, use a list instead.\n",
      "  bootstrapped_upward = tmp.groupby(['#t(centisec)'])['ang_pos', 'dist', 'speed_diff', 'acc_diff', 'cc'].mean().reset_index()\n"
     ]
    },
    {
     "name": "stdout",
     "output_type": "stream",
     "text": [
      "370\n"
     ]
    },
    {
     "name": "stderr",
     "output_type": "stream",
     "text": [
      "/var/folders/ng/l4j590g95vl5r33ctw59y6cr0000gn/T/ipykernel_26977/3673897783.py:12: FutureWarning: Indexing with multiple keys (implicitly converted to a tuple of keys) will be deprecated, use a list instead.\n",
      "  bootstrapped_upward = tmp.groupby(['#t(centisec)'])['ang_pos', 'dist', 'speed_diff', 'acc_diff', 'cc'].mean().reset_index()\n",
      "/var/folders/ng/l4j590g95vl5r33ctw59y6cr0000gn/T/ipykernel_26977/3673897783.py:12: FutureWarning: Indexing with multiple keys (implicitly converted to a tuple of keys) will be deprecated, use a list instead.\n",
      "  bootstrapped_upward = tmp.groupby(['#t(centisec)'])['ang_pos', 'dist', 'speed_diff', 'acc_diff', 'cc'].mean().reset_index()\n",
      "/var/folders/ng/l4j590g95vl5r33ctw59y6cr0000gn/T/ipykernel_26977/3673897783.py:12: FutureWarning: Indexing with multiple keys (implicitly converted to a tuple of keys) will be deprecated, use a list instead.\n",
      "  bootstrapped_upward = tmp.groupby(['#t(centisec)'])['ang_pos', 'dist', 'speed_diff', 'acc_diff', 'cc'].mean().reset_index()\n",
      "/var/folders/ng/l4j590g95vl5r33ctw59y6cr0000gn/T/ipykernel_26977/3673897783.py:12: FutureWarning: Indexing with multiple keys (implicitly converted to a tuple of keys) will be deprecated, use a list instead.\n",
      "  bootstrapped_upward = tmp.groupby(['#t(centisec)'])['ang_pos', 'dist', 'speed_diff', 'acc_diff', 'cc'].mean().reset_index()\n",
      "/var/folders/ng/l4j590g95vl5r33ctw59y6cr0000gn/T/ipykernel_26977/3673897783.py:12: FutureWarning: Indexing with multiple keys (implicitly converted to a tuple of keys) will be deprecated, use a list instead.\n",
      "  bootstrapped_upward = tmp.groupby(['#t(centisec)'])['ang_pos', 'dist', 'speed_diff', 'acc_diff', 'cc'].mean().reset_index()\n",
      "/var/folders/ng/l4j590g95vl5r33ctw59y6cr0000gn/T/ipykernel_26977/3673897783.py:12: FutureWarning: Indexing with multiple keys (implicitly converted to a tuple of keys) will be deprecated, use a list instead.\n",
      "  bootstrapped_upward = tmp.groupby(['#t(centisec)'])['ang_pos', 'dist', 'speed_diff', 'acc_diff', 'cc'].mean().reset_index()\n",
      "/var/folders/ng/l4j590g95vl5r33ctw59y6cr0000gn/T/ipykernel_26977/3673897783.py:12: FutureWarning: Indexing with multiple keys (implicitly converted to a tuple of keys) will be deprecated, use a list instead.\n",
      "  bootstrapped_upward = tmp.groupby(['#t(centisec)'])['ang_pos', 'dist', 'speed_diff', 'acc_diff', 'cc'].mean().reset_index()\n",
      "/var/folders/ng/l4j590g95vl5r33ctw59y6cr0000gn/T/ipykernel_26977/3673897783.py:12: FutureWarning: Indexing with multiple keys (implicitly converted to a tuple of keys) will be deprecated, use a list instead.\n",
      "  bootstrapped_upward = tmp.groupby(['#t(centisec)'])['ang_pos', 'dist', 'speed_diff', 'acc_diff', 'cc'].mean().reset_index()\n",
      "/var/folders/ng/l4j590g95vl5r33ctw59y6cr0000gn/T/ipykernel_26977/3673897783.py:12: FutureWarning: Indexing with multiple keys (implicitly converted to a tuple of keys) will be deprecated, use a list instead.\n",
      "  bootstrapped_upward = tmp.groupby(['#t(centisec)'])['ang_pos', 'dist', 'speed_diff', 'acc_diff', 'cc'].mean().reset_index()\n",
      "/var/folders/ng/l4j590g95vl5r33ctw59y6cr0000gn/T/ipykernel_26977/3673897783.py:12: FutureWarning: Indexing with multiple keys (implicitly converted to a tuple of keys) will be deprecated, use a list instead.\n",
      "  bootstrapped_upward = tmp.groupby(['#t(centisec)'])['ang_pos', 'dist', 'speed_diff', 'acc_diff', 'cc'].mean().reset_index()\n"
     ]
    },
    {
     "name": "stdout",
     "output_type": "stream",
     "text": [
      "380\n"
     ]
    },
    {
     "name": "stderr",
     "output_type": "stream",
     "text": [
      "/var/folders/ng/l4j590g95vl5r33ctw59y6cr0000gn/T/ipykernel_26977/3673897783.py:12: FutureWarning: Indexing with multiple keys (implicitly converted to a tuple of keys) will be deprecated, use a list instead.\n",
      "  bootstrapped_upward = tmp.groupby(['#t(centisec)'])['ang_pos', 'dist', 'speed_diff', 'acc_diff', 'cc'].mean().reset_index()\n",
      "/var/folders/ng/l4j590g95vl5r33ctw59y6cr0000gn/T/ipykernel_26977/3673897783.py:12: FutureWarning: Indexing with multiple keys (implicitly converted to a tuple of keys) will be deprecated, use a list instead.\n",
      "  bootstrapped_upward = tmp.groupby(['#t(centisec)'])['ang_pos', 'dist', 'speed_diff', 'acc_diff', 'cc'].mean().reset_index()\n",
      "/var/folders/ng/l4j590g95vl5r33ctw59y6cr0000gn/T/ipykernel_26977/3673897783.py:12: FutureWarning: Indexing with multiple keys (implicitly converted to a tuple of keys) will be deprecated, use a list instead.\n",
      "  bootstrapped_upward = tmp.groupby(['#t(centisec)'])['ang_pos', 'dist', 'speed_diff', 'acc_diff', 'cc'].mean().reset_index()\n",
      "/var/folders/ng/l4j590g95vl5r33ctw59y6cr0000gn/T/ipykernel_26977/3673897783.py:12: FutureWarning: Indexing with multiple keys (implicitly converted to a tuple of keys) will be deprecated, use a list instead.\n",
      "  bootstrapped_upward = tmp.groupby(['#t(centisec)'])['ang_pos', 'dist', 'speed_diff', 'acc_diff', 'cc'].mean().reset_index()\n",
      "/var/folders/ng/l4j590g95vl5r33ctw59y6cr0000gn/T/ipykernel_26977/3673897783.py:12: FutureWarning: Indexing with multiple keys (implicitly converted to a tuple of keys) will be deprecated, use a list instead.\n",
      "  bootstrapped_upward = tmp.groupby(['#t(centisec)'])['ang_pos', 'dist', 'speed_diff', 'acc_diff', 'cc'].mean().reset_index()\n",
      "/var/folders/ng/l4j590g95vl5r33ctw59y6cr0000gn/T/ipykernel_26977/3673897783.py:12: FutureWarning: Indexing with multiple keys (implicitly converted to a tuple of keys) will be deprecated, use a list instead.\n",
      "  bootstrapped_upward = tmp.groupby(['#t(centisec)'])['ang_pos', 'dist', 'speed_diff', 'acc_diff', 'cc'].mean().reset_index()\n",
      "/var/folders/ng/l4j590g95vl5r33ctw59y6cr0000gn/T/ipykernel_26977/3673897783.py:12: FutureWarning: Indexing with multiple keys (implicitly converted to a tuple of keys) will be deprecated, use a list instead.\n",
      "  bootstrapped_upward = tmp.groupby(['#t(centisec)'])['ang_pos', 'dist', 'speed_diff', 'acc_diff', 'cc'].mean().reset_index()\n",
      "/var/folders/ng/l4j590g95vl5r33ctw59y6cr0000gn/T/ipykernel_26977/3673897783.py:12: FutureWarning: Indexing with multiple keys (implicitly converted to a tuple of keys) will be deprecated, use a list instead.\n",
      "  bootstrapped_upward = tmp.groupby(['#t(centisec)'])['ang_pos', 'dist', 'speed_diff', 'acc_diff', 'cc'].mean().reset_index()\n",
      "/var/folders/ng/l4j590g95vl5r33ctw59y6cr0000gn/T/ipykernel_26977/3673897783.py:12: FutureWarning: Indexing with multiple keys (implicitly converted to a tuple of keys) will be deprecated, use a list instead.\n",
      "  bootstrapped_upward = tmp.groupby(['#t(centisec)'])['ang_pos', 'dist', 'speed_diff', 'acc_diff', 'cc'].mean().reset_index()\n",
      "/var/folders/ng/l4j590g95vl5r33ctw59y6cr0000gn/T/ipykernel_26977/3673897783.py:12: FutureWarning: Indexing with multiple keys (implicitly converted to a tuple of keys) will be deprecated, use a list instead.\n",
      "  bootstrapped_upward = tmp.groupby(['#t(centisec)'])['ang_pos', 'dist', 'speed_diff', 'acc_diff', 'cc'].mean().reset_index()\n"
     ]
    },
    {
     "name": "stdout",
     "output_type": "stream",
     "text": [
      "390\n"
     ]
    },
    {
     "name": "stderr",
     "output_type": "stream",
     "text": [
      "/var/folders/ng/l4j590g95vl5r33ctw59y6cr0000gn/T/ipykernel_26977/3673897783.py:12: FutureWarning: Indexing with multiple keys (implicitly converted to a tuple of keys) will be deprecated, use a list instead.\n",
      "  bootstrapped_upward = tmp.groupby(['#t(centisec)'])['ang_pos', 'dist', 'speed_diff', 'acc_diff', 'cc'].mean().reset_index()\n",
      "/var/folders/ng/l4j590g95vl5r33ctw59y6cr0000gn/T/ipykernel_26977/3673897783.py:12: FutureWarning: Indexing with multiple keys (implicitly converted to a tuple of keys) will be deprecated, use a list instead.\n",
      "  bootstrapped_upward = tmp.groupby(['#t(centisec)'])['ang_pos', 'dist', 'speed_diff', 'acc_diff', 'cc'].mean().reset_index()\n",
      "/var/folders/ng/l4j590g95vl5r33ctw59y6cr0000gn/T/ipykernel_26977/3673897783.py:12: FutureWarning: Indexing with multiple keys (implicitly converted to a tuple of keys) will be deprecated, use a list instead.\n",
      "  bootstrapped_upward = tmp.groupby(['#t(centisec)'])['ang_pos', 'dist', 'speed_diff', 'acc_diff', 'cc'].mean().reset_index()\n",
      "/var/folders/ng/l4j590g95vl5r33ctw59y6cr0000gn/T/ipykernel_26977/3673897783.py:12: FutureWarning: Indexing with multiple keys (implicitly converted to a tuple of keys) will be deprecated, use a list instead.\n",
      "  bootstrapped_upward = tmp.groupby(['#t(centisec)'])['ang_pos', 'dist', 'speed_diff', 'acc_diff', 'cc'].mean().reset_index()\n",
      "/var/folders/ng/l4j590g95vl5r33ctw59y6cr0000gn/T/ipykernel_26977/3673897783.py:12: FutureWarning: Indexing with multiple keys (implicitly converted to a tuple of keys) will be deprecated, use a list instead.\n",
      "  bootstrapped_upward = tmp.groupby(['#t(centisec)'])['ang_pos', 'dist', 'speed_diff', 'acc_diff', 'cc'].mean().reset_index()\n",
      "/var/folders/ng/l4j590g95vl5r33ctw59y6cr0000gn/T/ipykernel_26977/3673897783.py:12: FutureWarning: Indexing with multiple keys (implicitly converted to a tuple of keys) will be deprecated, use a list instead.\n",
      "  bootstrapped_upward = tmp.groupby(['#t(centisec)'])['ang_pos', 'dist', 'speed_diff', 'acc_diff', 'cc'].mean().reset_index()\n",
      "/var/folders/ng/l4j590g95vl5r33ctw59y6cr0000gn/T/ipykernel_26977/3673897783.py:12: FutureWarning: Indexing with multiple keys (implicitly converted to a tuple of keys) will be deprecated, use a list instead.\n",
      "  bootstrapped_upward = tmp.groupby(['#t(centisec)'])['ang_pos', 'dist', 'speed_diff', 'acc_diff', 'cc'].mean().reset_index()\n",
      "/var/folders/ng/l4j590g95vl5r33ctw59y6cr0000gn/T/ipykernel_26977/3673897783.py:12: FutureWarning: Indexing with multiple keys (implicitly converted to a tuple of keys) will be deprecated, use a list instead.\n",
      "  bootstrapped_upward = tmp.groupby(['#t(centisec)'])['ang_pos', 'dist', 'speed_diff', 'acc_diff', 'cc'].mean().reset_index()\n",
      "/var/folders/ng/l4j590g95vl5r33ctw59y6cr0000gn/T/ipykernel_26977/3673897783.py:12: FutureWarning: Indexing with multiple keys (implicitly converted to a tuple of keys) will be deprecated, use a list instead.\n",
      "  bootstrapped_upward = tmp.groupby(['#t(centisec)'])['ang_pos', 'dist', 'speed_diff', 'acc_diff', 'cc'].mean().reset_index()\n",
      "/var/folders/ng/l4j590g95vl5r33ctw59y6cr0000gn/T/ipykernel_26977/3673897783.py:12: FutureWarning: Indexing with multiple keys (implicitly converted to a tuple of keys) will be deprecated, use a list instead.\n",
      "  bootstrapped_upward = tmp.groupby(['#t(centisec)'])['ang_pos', 'dist', 'speed_diff', 'acc_diff', 'cc'].mean().reset_index()\n"
     ]
    },
    {
     "name": "stdout",
     "output_type": "stream",
     "text": [
      "400\n"
     ]
    },
    {
     "name": "stderr",
     "output_type": "stream",
     "text": [
      "/var/folders/ng/l4j590g95vl5r33ctw59y6cr0000gn/T/ipykernel_26977/3673897783.py:12: FutureWarning: Indexing with multiple keys (implicitly converted to a tuple of keys) will be deprecated, use a list instead.\n",
      "  bootstrapped_upward = tmp.groupby(['#t(centisec)'])['ang_pos', 'dist', 'speed_diff', 'acc_diff', 'cc'].mean().reset_index()\n",
      "/var/folders/ng/l4j590g95vl5r33ctw59y6cr0000gn/T/ipykernel_26977/3673897783.py:12: FutureWarning: Indexing with multiple keys (implicitly converted to a tuple of keys) will be deprecated, use a list instead.\n",
      "  bootstrapped_upward = tmp.groupby(['#t(centisec)'])['ang_pos', 'dist', 'speed_diff', 'acc_diff', 'cc'].mean().reset_index()\n",
      "/var/folders/ng/l4j590g95vl5r33ctw59y6cr0000gn/T/ipykernel_26977/3673897783.py:12: FutureWarning: Indexing with multiple keys (implicitly converted to a tuple of keys) will be deprecated, use a list instead.\n",
      "  bootstrapped_upward = tmp.groupby(['#t(centisec)'])['ang_pos', 'dist', 'speed_diff', 'acc_diff', 'cc'].mean().reset_index()\n",
      "/var/folders/ng/l4j590g95vl5r33ctw59y6cr0000gn/T/ipykernel_26977/3673897783.py:12: FutureWarning: Indexing with multiple keys (implicitly converted to a tuple of keys) will be deprecated, use a list instead.\n",
      "  bootstrapped_upward = tmp.groupby(['#t(centisec)'])['ang_pos', 'dist', 'speed_diff', 'acc_diff', 'cc'].mean().reset_index()\n",
      "/var/folders/ng/l4j590g95vl5r33ctw59y6cr0000gn/T/ipykernel_26977/3673897783.py:12: FutureWarning: Indexing with multiple keys (implicitly converted to a tuple of keys) will be deprecated, use a list instead.\n",
      "  bootstrapped_upward = tmp.groupby(['#t(centisec)'])['ang_pos', 'dist', 'speed_diff', 'acc_diff', 'cc'].mean().reset_index()\n",
      "/var/folders/ng/l4j590g95vl5r33ctw59y6cr0000gn/T/ipykernel_26977/3673897783.py:12: FutureWarning: Indexing with multiple keys (implicitly converted to a tuple of keys) will be deprecated, use a list instead.\n",
      "  bootstrapped_upward = tmp.groupby(['#t(centisec)'])['ang_pos', 'dist', 'speed_diff', 'acc_diff', 'cc'].mean().reset_index()\n",
      "/var/folders/ng/l4j590g95vl5r33ctw59y6cr0000gn/T/ipykernel_26977/3673897783.py:12: FutureWarning: Indexing with multiple keys (implicitly converted to a tuple of keys) will be deprecated, use a list instead.\n",
      "  bootstrapped_upward = tmp.groupby(['#t(centisec)'])['ang_pos', 'dist', 'speed_diff', 'acc_diff', 'cc'].mean().reset_index()\n",
      "/var/folders/ng/l4j590g95vl5r33ctw59y6cr0000gn/T/ipykernel_26977/3673897783.py:12: FutureWarning: Indexing with multiple keys (implicitly converted to a tuple of keys) will be deprecated, use a list instead.\n",
      "  bootstrapped_upward = tmp.groupby(['#t(centisec)'])['ang_pos', 'dist', 'speed_diff', 'acc_diff', 'cc'].mean().reset_index()\n",
      "/var/folders/ng/l4j590g95vl5r33ctw59y6cr0000gn/T/ipykernel_26977/3673897783.py:12: FutureWarning: Indexing with multiple keys (implicitly converted to a tuple of keys) will be deprecated, use a list instead.\n",
      "  bootstrapped_upward = tmp.groupby(['#t(centisec)'])['ang_pos', 'dist', 'speed_diff', 'acc_diff', 'cc'].mean().reset_index()\n",
      "/var/folders/ng/l4j590g95vl5r33ctw59y6cr0000gn/T/ipykernel_26977/3673897783.py:12: FutureWarning: Indexing with multiple keys (implicitly converted to a tuple of keys) will be deprecated, use a list instead.\n",
      "  bootstrapped_upward = tmp.groupby(['#t(centisec)'])['ang_pos', 'dist', 'speed_diff', 'acc_diff', 'cc'].mean().reset_index()\n"
     ]
    },
    {
     "name": "stdout",
     "output_type": "stream",
     "text": [
      "410\n"
     ]
    },
    {
     "name": "stderr",
     "output_type": "stream",
     "text": [
      "/var/folders/ng/l4j590g95vl5r33ctw59y6cr0000gn/T/ipykernel_26977/3673897783.py:12: FutureWarning: Indexing with multiple keys (implicitly converted to a tuple of keys) will be deprecated, use a list instead.\n",
      "  bootstrapped_upward = tmp.groupby(['#t(centisec)'])['ang_pos', 'dist', 'speed_diff', 'acc_diff', 'cc'].mean().reset_index()\n",
      "/var/folders/ng/l4j590g95vl5r33ctw59y6cr0000gn/T/ipykernel_26977/3673897783.py:12: FutureWarning: Indexing with multiple keys (implicitly converted to a tuple of keys) will be deprecated, use a list instead.\n",
      "  bootstrapped_upward = tmp.groupby(['#t(centisec)'])['ang_pos', 'dist', 'speed_diff', 'acc_diff', 'cc'].mean().reset_index()\n",
      "/var/folders/ng/l4j590g95vl5r33ctw59y6cr0000gn/T/ipykernel_26977/3673897783.py:12: FutureWarning: Indexing with multiple keys (implicitly converted to a tuple of keys) will be deprecated, use a list instead.\n",
      "  bootstrapped_upward = tmp.groupby(['#t(centisec)'])['ang_pos', 'dist', 'speed_diff', 'acc_diff', 'cc'].mean().reset_index()\n",
      "/var/folders/ng/l4j590g95vl5r33ctw59y6cr0000gn/T/ipykernel_26977/3673897783.py:12: FutureWarning: Indexing with multiple keys (implicitly converted to a tuple of keys) will be deprecated, use a list instead.\n",
      "  bootstrapped_upward = tmp.groupby(['#t(centisec)'])['ang_pos', 'dist', 'speed_diff', 'acc_diff', 'cc'].mean().reset_index()\n",
      "/var/folders/ng/l4j590g95vl5r33ctw59y6cr0000gn/T/ipykernel_26977/3673897783.py:12: FutureWarning: Indexing with multiple keys (implicitly converted to a tuple of keys) will be deprecated, use a list instead.\n",
      "  bootstrapped_upward = tmp.groupby(['#t(centisec)'])['ang_pos', 'dist', 'speed_diff', 'acc_diff', 'cc'].mean().reset_index()\n",
      "/var/folders/ng/l4j590g95vl5r33ctw59y6cr0000gn/T/ipykernel_26977/3673897783.py:12: FutureWarning: Indexing with multiple keys (implicitly converted to a tuple of keys) will be deprecated, use a list instead.\n",
      "  bootstrapped_upward = tmp.groupby(['#t(centisec)'])['ang_pos', 'dist', 'speed_diff', 'acc_diff', 'cc'].mean().reset_index()\n",
      "/var/folders/ng/l4j590g95vl5r33ctw59y6cr0000gn/T/ipykernel_26977/3673897783.py:12: FutureWarning: Indexing with multiple keys (implicitly converted to a tuple of keys) will be deprecated, use a list instead.\n",
      "  bootstrapped_upward = tmp.groupby(['#t(centisec)'])['ang_pos', 'dist', 'speed_diff', 'acc_diff', 'cc'].mean().reset_index()\n",
      "/var/folders/ng/l4j590g95vl5r33ctw59y6cr0000gn/T/ipykernel_26977/3673897783.py:12: FutureWarning: Indexing with multiple keys (implicitly converted to a tuple of keys) will be deprecated, use a list instead.\n",
      "  bootstrapped_upward = tmp.groupby(['#t(centisec)'])['ang_pos', 'dist', 'speed_diff', 'acc_diff', 'cc'].mean().reset_index()\n",
      "/var/folders/ng/l4j590g95vl5r33ctw59y6cr0000gn/T/ipykernel_26977/3673897783.py:12: FutureWarning: Indexing with multiple keys (implicitly converted to a tuple of keys) will be deprecated, use a list instead.\n",
      "  bootstrapped_upward = tmp.groupby(['#t(centisec)'])['ang_pos', 'dist', 'speed_diff', 'acc_diff', 'cc'].mean().reset_index()\n",
      "/var/folders/ng/l4j590g95vl5r33ctw59y6cr0000gn/T/ipykernel_26977/3673897783.py:12: FutureWarning: Indexing with multiple keys (implicitly converted to a tuple of keys) will be deprecated, use a list instead.\n",
      "  bootstrapped_upward = tmp.groupby(['#t(centisec)'])['ang_pos', 'dist', 'speed_diff', 'acc_diff', 'cc'].mean().reset_index()\n"
     ]
    },
    {
     "name": "stdout",
     "output_type": "stream",
     "text": [
      "420\n"
     ]
    },
    {
     "name": "stderr",
     "output_type": "stream",
     "text": [
      "/var/folders/ng/l4j590g95vl5r33ctw59y6cr0000gn/T/ipykernel_26977/3673897783.py:12: FutureWarning: Indexing with multiple keys (implicitly converted to a tuple of keys) will be deprecated, use a list instead.\n",
      "  bootstrapped_upward = tmp.groupby(['#t(centisec)'])['ang_pos', 'dist', 'speed_diff', 'acc_diff', 'cc'].mean().reset_index()\n",
      "/var/folders/ng/l4j590g95vl5r33ctw59y6cr0000gn/T/ipykernel_26977/3673897783.py:12: FutureWarning: Indexing with multiple keys (implicitly converted to a tuple of keys) will be deprecated, use a list instead.\n",
      "  bootstrapped_upward = tmp.groupby(['#t(centisec)'])['ang_pos', 'dist', 'speed_diff', 'acc_diff', 'cc'].mean().reset_index()\n",
      "/var/folders/ng/l4j590g95vl5r33ctw59y6cr0000gn/T/ipykernel_26977/3673897783.py:12: FutureWarning: Indexing with multiple keys (implicitly converted to a tuple of keys) will be deprecated, use a list instead.\n",
      "  bootstrapped_upward = tmp.groupby(['#t(centisec)'])['ang_pos', 'dist', 'speed_diff', 'acc_diff', 'cc'].mean().reset_index()\n",
      "/var/folders/ng/l4j590g95vl5r33ctw59y6cr0000gn/T/ipykernel_26977/3673897783.py:12: FutureWarning: Indexing with multiple keys (implicitly converted to a tuple of keys) will be deprecated, use a list instead.\n",
      "  bootstrapped_upward = tmp.groupby(['#t(centisec)'])['ang_pos', 'dist', 'speed_diff', 'acc_diff', 'cc'].mean().reset_index()\n",
      "/var/folders/ng/l4j590g95vl5r33ctw59y6cr0000gn/T/ipykernel_26977/3673897783.py:12: FutureWarning: Indexing with multiple keys (implicitly converted to a tuple of keys) will be deprecated, use a list instead.\n",
      "  bootstrapped_upward = tmp.groupby(['#t(centisec)'])['ang_pos', 'dist', 'speed_diff', 'acc_diff', 'cc'].mean().reset_index()\n",
      "/var/folders/ng/l4j590g95vl5r33ctw59y6cr0000gn/T/ipykernel_26977/3673897783.py:12: FutureWarning: Indexing with multiple keys (implicitly converted to a tuple of keys) will be deprecated, use a list instead.\n",
      "  bootstrapped_upward = tmp.groupby(['#t(centisec)'])['ang_pos', 'dist', 'speed_diff', 'acc_diff', 'cc'].mean().reset_index()\n",
      "/var/folders/ng/l4j590g95vl5r33ctw59y6cr0000gn/T/ipykernel_26977/3673897783.py:12: FutureWarning: Indexing with multiple keys (implicitly converted to a tuple of keys) will be deprecated, use a list instead.\n",
      "  bootstrapped_upward = tmp.groupby(['#t(centisec)'])['ang_pos', 'dist', 'speed_diff', 'acc_diff', 'cc'].mean().reset_index()\n",
      "/var/folders/ng/l4j590g95vl5r33ctw59y6cr0000gn/T/ipykernel_26977/3673897783.py:12: FutureWarning: Indexing with multiple keys (implicitly converted to a tuple of keys) will be deprecated, use a list instead.\n",
      "  bootstrapped_upward = tmp.groupby(['#t(centisec)'])['ang_pos', 'dist', 'speed_diff', 'acc_diff', 'cc'].mean().reset_index()\n",
      "/var/folders/ng/l4j590g95vl5r33ctw59y6cr0000gn/T/ipykernel_26977/3673897783.py:12: FutureWarning: Indexing with multiple keys (implicitly converted to a tuple of keys) will be deprecated, use a list instead.\n",
      "  bootstrapped_upward = tmp.groupby(['#t(centisec)'])['ang_pos', 'dist', 'speed_diff', 'acc_diff', 'cc'].mean().reset_index()\n",
      "/var/folders/ng/l4j590g95vl5r33ctw59y6cr0000gn/T/ipykernel_26977/3673897783.py:12: FutureWarning: Indexing with multiple keys (implicitly converted to a tuple of keys) will be deprecated, use a list instead.\n",
      "  bootstrapped_upward = tmp.groupby(['#t(centisec)'])['ang_pos', 'dist', 'speed_diff', 'acc_diff', 'cc'].mean().reset_index()\n"
     ]
    },
    {
     "name": "stdout",
     "output_type": "stream",
     "text": [
      "430\n"
     ]
    },
    {
     "name": "stderr",
     "output_type": "stream",
     "text": [
      "/var/folders/ng/l4j590g95vl5r33ctw59y6cr0000gn/T/ipykernel_26977/3673897783.py:12: FutureWarning: Indexing with multiple keys (implicitly converted to a tuple of keys) will be deprecated, use a list instead.\n",
      "  bootstrapped_upward = tmp.groupby(['#t(centisec)'])['ang_pos', 'dist', 'speed_diff', 'acc_diff', 'cc'].mean().reset_index()\n",
      "/var/folders/ng/l4j590g95vl5r33ctw59y6cr0000gn/T/ipykernel_26977/3673897783.py:12: FutureWarning: Indexing with multiple keys (implicitly converted to a tuple of keys) will be deprecated, use a list instead.\n",
      "  bootstrapped_upward = tmp.groupby(['#t(centisec)'])['ang_pos', 'dist', 'speed_diff', 'acc_diff', 'cc'].mean().reset_index()\n",
      "/var/folders/ng/l4j590g95vl5r33ctw59y6cr0000gn/T/ipykernel_26977/3673897783.py:12: FutureWarning: Indexing with multiple keys (implicitly converted to a tuple of keys) will be deprecated, use a list instead.\n",
      "  bootstrapped_upward = tmp.groupby(['#t(centisec)'])['ang_pos', 'dist', 'speed_diff', 'acc_diff', 'cc'].mean().reset_index()\n",
      "/var/folders/ng/l4j590g95vl5r33ctw59y6cr0000gn/T/ipykernel_26977/3673897783.py:12: FutureWarning: Indexing with multiple keys (implicitly converted to a tuple of keys) will be deprecated, use a list instead.\n",
      "  bootstrapped_upward = tmp.groupby(['#t(centisec)'])['ang_pos', 'dist', 'speed_diff', 'acc_diff', 'cc'].mean().reset_index()\n",
      "/var/folders/ng/l4j590g95vl5r33ctw59y6cr0000gn/T/ipykernel_26977/3673897783.py:12: FutureWarning: Indexing with multiple keys (implicitly converted to a tuple of keys) will be deprecated, use a list instead.\n",
      "  bootstrapped_upward = tmp.groupby(['#t(centisec)'])['ang_pos', 'dist', 'speed_diff', 'acc_diff', 'cc'].mean().reset_index()\n",
      "/var/folders/ng/l4j590g95vl5r33ctw59y6cr0000gn/T/ipykernel_26977/3673897783.py:12: FutureWarning: Indexing with multiple keys (implicitly converted to a tuple of keys) will be deprecated, use a list instead.\n",
      "  bootstrapped_upward = tmp.groupby(['#t(centisec)'])['ang_pos', 'dist', 'speed_diff', 'acc_diff', 'cc'].mean().reset_index()\n",
      "/var/folders/ng/l4j590g95vl5r33ctw59y6cr0000gn/T/ipykernel_26977/3673897783.py:12: FutureWarning: Indexing with multiple keys (implicitly converted to a tuple of keys) will be deprecated, use a list instead.\n",
      "  bootstrapped_upward = tmp.groupby(['#t(centisec)'])['ang_pos', 'dist', 'speed_diff', 'acc_diff', 'cc'].mean().reset_index()\n",
      "/var/folders/ng/l4j590g95vl5r33ctw59y6cr0000gn/T/ipykernel_26977/3673897783.py:12: FutureWarning: Indexing with multiple keys (implicitly converted to a tuple of keys) will be deprecated, use a list instead.\n",
      "  bootstrapped_upward = tmp.groupby(['#t(centisec)'])['ang_pos', 'dist', 'speed_diff', 'acc_diff', 'cc'].mean().reset_index()\n",
      "/var/folders/ng/l4j590g95vl5r33ctw59y6cr0000gn/T/ipykernel_26977/3673897783.py:12: FutureWarning: Indexing with multiple keys (implicitly converted to a tuple of keys) will be deprecated, use a list instead.\n",
      "  bootstrapped_upward = tmp.groupby(['#t(centisec)'])['ang_pos', 'dist', 'speed_diff', 'acc_diff', 'cc'].mean().reset_index()\n",
      "/var/folders/ng/l4j590g95vl5r33ctw59y6cr0000gn/T/ipykernel_26977/3673897783.py:12: FutureWarning: Indexing with multiple keys (implicitly converted to a tuple of keys) will be deprecated, use a list instead.\n",
      "  bootstrapped_upward = tmp.groupby(['#t(centisec)'])['ang_pos', 'dist', 'speed_diff', 'acc_diff', 'cc'].mean().reset_index()\n"
     ]
    },
    {
     "name": "stdout",
     "output_type": "stream",
     "text": [
      "440\n"
     ]
    },
    {
     "name": "stderr",
     "output_type": "stream",
     "text": [
      "/var/folders/ng/l4j590g95vl5r33ctw59y6cr0000gn/T/ipykernel_26977/3673897783.py:12: FutureWarning: Indexing with multiple keys (implicitly converted to a tuple of keys) will be deprecated, use a list instead.\n",
      "  bootstrapped_upward = tmp.groupby(['#t(centisec)'])['ang_pos', 'dist', 'speed_diff', 'acc_diff', 'cc'].mean().reset_index()\n",
      "/var/folders/ng/l4j590g95vl5r33ctw59y6cr0000gn/T/ipykernel_26977/3673897783.py:12: FutureWarning: Indexing with multiple keys (implicitly converted to a tuple of keys) will be deprecated, use a list instead.\n",
      "  bootstrapped_upward = tmp.groupby(['#t(centisec)'])['ang_pos', 'dist', 'speed_diff', 'acc_diff', 'cc'].mean().reset_index()\n",
      "/var/folders/ng/l4j590g95vl5r33ctw59y6cr0000gn/T/ipykernel_26977/3673897783.py:12: FutureWarning: Indexing with multiple keys (implicitly converted to a tuple of keys) will be deprecated, use a list instead.\n",
      "  bootstrapped_upward = tmp.groupby(['#t(centisec)'])['ang_pos', 'dist', 'speed_diff', 'acc_diff', 'cc'].mean().reset_index()\n",
      "/var/folders/ng/l4j590g95vl5r33ctw59y6cr0000gn/T/ipykernel_26977/3673897783.py:12: FutureWarning: Indexing with multiple keys (implicitly converted to a tuple of keys) will be deprecated, use a list instead.\n",
      "  bootstrapped_upward = tmp.groupby(['#t(centisec)'])['ang_pos', 'dist', 'speed_diff', 'acc_diff', 'cc'].mean().reset_index()\n",
      "/var/folders/ng/l4j590g95vl5r33ctw59y6cr0000gn/T/ipykernel_26977/3673897783.py:12: FutureWarning: Indexing with multiple keys (implicitly converted to a tuple of keys) will be deprecated, use a list instead.\n",
      "  bootstrapped_upward = tmp.groupby(['#t(centisec)'])['ang_pos', 'dist', 'speed_diff', 'acc_diff', 'cc'].mean().reset_index()\n",
      "/var/folders/ng/l4j590g95vl5r33ctw59y6cr0000gn/T/ipykernel_26977/3673897783.py:12: FutureWarning: Indexing with multiple keys (implicitly converted to a tuple of keys) will be deprecated, use a list instead.\n",
      "  bootstrapped_upward = tmp.groupby(['#t(centisec)'])['ang_pos', 'dist', 'speed_diff', 'acc_diff', 'cc'].mean().reset_index()\n",
      "/var/folders/ng/l4j590g95vl5r33ctw59y6cr0000gn/T/ipykernel_26977/3673897783.py:12: FutureWarning: Indexing with multiple keys (implicitly converted to a tuple of keys) will be deprecated, use a list instead.\n",
      "  bootstrapped_upward = tmp.groupby(['#t(centisec)'])['ang_pos', 'dist', 'speed_diff', 'acc_diff', 'cc'].mean().reset_index()\n",
      "/var/folders/ng/l4j590g95vl5r33ctw59y6cr0000gn/T/ipykernel_26977/3673897783.py:12: FutureWarning: Indexing with multiple keys (implicitly converted to a tuple of keys) will be deprecated, use a list instead.\n",
      "  bootstrapped_upward = tmp.groupby(['#t(centisec)'])['ang_pos', 'dist', 'speed_diff', 'acc_diff', 'cc'].mean().reset_index()\n",
      "/var/folders/ng/l4j590g95vl5r33ctw59y6cr0000gn/T/ipykernel_26977/3673897783.py:12: FutureWarning: Indexing with multiple keys (implicitly converted to a tuple of keys) will be deprecated, use a list instead.\n",
      "  bootstrapped_upward = tmp.groupby(['#t(centisec)'])['ang_pos', 'dist', 'speed_diff', 'acc_diff', 'cc'].mean().reset_index()\n",
      "/var/folders/ng/l4j590g95vl5r33ctw59y6cr0000gn/T/ipykernel_26977/3673897783.py:12: FutureWarning: Indexing with multiple keys (implicitly converted to a tuple of keys) will be deprecated, use a list instead.\n",
      "  bootstrapped_upward = tmp.groupby(['#t(centisec)'])['ang_pos', 'dist', 'speed_diff', 'acc_diff', 'cc'].mean().reset_index()\n"
     ]
    },
    {
     "name": "stdout",
     "output_type": "stream",
     "text": [
      "450\n"
     ]
    },
    {
     "name": "stderr",
     "output_type": "stream",
     "text": [
      "/var/folders/ng/l4j590g95vl5r33ctw59y6cr0000gn/T/ipykernel_26977/3673897783.py:12: FutureWarning: Indexing with multiple keys (implicitly converted to a tuple of keys) will be deprecated, use a list instead.\n",
      "  bootstrapped_upward = tmp.groupby(['#t(centisec)'])['ang_pos', 'dist', 'speed_diff', 'acc_diff', 'cc'].mean().reset_index()\n",
      "/var/folders/ng/l4j590g95vl5r33ctw59y6cr0000gn/T/ipykernel_26977/3673897783.py:12: FutureWarning: Indexing with multiple keys (implicitly converted to a tuple of keys) will be deprecated, use a list instead.\n",
      "  bootstrapped_upward = tmp.groupby(['#t(centisec)'])['ang_pos', 'dist', 'speed_diff', 'acc_diff', 'cc'].mean().reset_index()\n",
      "/var/folders/ng/l4j590g95vl5r33ctw59y6cr0000gn/T/ipykernel_26977/3673897783.py:12: FutureWarning: Indexing with multiple keys (implicitly converted to a tuple of keys) will be deprecated, use a list instead.\n",
      "  bootstrapped_upward = tmp.groupby(['#t(centisec)'])['ang_pos', 'dist', 'speed_diff', 'acc_diff', 'cc'].mean().reset_index()\n",
      "/var/folders/ng/l4j590g95vl5r33ctw59y6cr0000gn/T/ipykernel_26977/3673897783.py:12: FutureWarning: Indexing with multiple keys (implicitly converted to a tuple of keys) will be deprecated, use a list instead.\n",
      "  bootstrapped_upward = tmp.groupby(['#t(centisec)'])['ang_pos', 'dist', 'speed_diff', 'acc_diff', 'cc'].mean().reset_index()\n",
      "/var/folders/ng/l4j590g95vl5r33ctw59y6cr0000gn/T/ipykernel_26977/3673897783.py:12: FutureWarning: Indexing with multiple keys (implicitly converted to a tuple of keys) will be deprecated, use a list instead.\n",
      "  bootstrapped_upward = tmp.groupby(['#t(centisec)'])['ang_pos', 'dist', 'speed_diff', 'acc_diff', 'cc'].mean().reset_index()\n",
      "/var/folders/ng/l4j590g95vl5r33ctw59y6cr0000gn/T/ipykernel_26977/3673897783.py:12: FutureWarning: Indexing with multiple keys (implicitly converted to a tuple of keys) will be deprecated, use a list instead.\n",
      "  bootstrapped_upward = tmp.groupby(['#t(centisec)'])['ang_pos', 'dist', 'speed_diff', 'acc_diff', 'cc'].mean().reset_index()\n",
      "/var/folders/ng/l4j590g95vl5r33ctw59y6cr0000gn/T/ipykernel_26977/3673897783.py:12: FutureWarning: Indexing with multiple keys (implicitly converted to a tuple of keys) will be deprecated, use a list instead.\n",
      "  bootstrapped_upward = tmp.groupby(['#t(centisec)'])['ang_pos', 'dist', 'speed_diff', 'acc_diff', 'cc'].mean().reset_index()\n",
      "/var/folders/ng/l4j590g95vl5r33ctw59y6cr0000gn/T/ipykernel_26977/3673897783.py:12: FutureWarning: Indexing with multiple keys (implicitly converted to a tuple of keys) will be deprecated, use a list instead.\n",
      "  bootstrapped_upward = tmp.groupby(['#t(centisec)'])['ang_pos', 'dist', 'speed_diff', 'acc_diff', 'cc'].mean().reset_index()\n",
      "/var/folders/ng/l4j590g95vl5r33ctw59y6cr0000gn/T/ipykernel_26977/3673897783.py:12: FutureWarning: Indexing with multiple keys (implicitly converted to a tuple of keys) will be deprecated, use a list instead.\n",
      "  bootstrapped_upward = tmp.groupby(['#t(centisec)'])['ang_pos', 'dist', 'speed_diff', 'acc_diff', 'cc'].mean().reset_index()\n",
      "/var/folders/ng/l4j590g95vl5r33ctw59y6cr0000gn/T/ipykernel_26977/3673897783.py:12: FutureWarning: Indexing with multiple keys (implicitly converted to a tuple of keys) will be deprecated, use a list instead.\n",
      "  bootstrapped_upward = tmp.groupby(['#t(centisec)'])['ang_pos', 'dist', 'speed_diff', 'acc_diff', 'cc'].mean().reset_index()\n"
     ]
    },
    {
     "name": "stdout",
     "output_type": "stream",
     "text": [
      "460\n"
     ]
    },
    {
     "name": "stderr",
     "output_type": "stream",
     "text": [
      "/var/folders/ng/l4j590g95vl5r33ctw59y6cr0000gn/T/ipykernel_26977/3673897783.py:12: FutureWarning: Indexing with multiple keys (implicitly converted to a tuple of keys) will be deprecated, use a list instead.\n",
      "  bootstrapped_upward = tmp.groupby(['#t(centisec)'])['ang_pos', 'dist', 'speed_diff', 'acc_diff', 'cc'].mean().reset_index()\n",
      "/var/folders/ng/l4j590g95vl5r33ctw59y6cr0000gn/T/ipykernel_26977/3673897783.py:12: FutureWarning: Indexing with multiple keys (implicitly converted to a tuple of keys) will be deprecated, use a list instead.\n",
      "  bootstrapped_upward = tmp.groupby(['#t(centisec)'])['ang_pos', 'dist', 'speed_diff', 'acc_diff', 'cc'].mean().reset_index()\n",
      "/var/folders/ng/l4j590g95vl5r33ctw59y6cr0000gn/T/ipykernel_26977/3673897783.py:12: FutureWarning: Indexing with multiple keys (implicitly converted to a tuple of keys) will be deprecated, use a list instead.\n",
      "  bootstrapped_upward = tmp.groupby(['#t(centisec)'])['ang_pos', 'dist', 'speed_diff', 'acc_diff', 'cc'].mean().reset_index()\n",
      "/var/folders/ng/l4j590g95vl5r33ctw59y6cr0000gn/T/ipykernel_26977/3673897783.py:12: FutureWarning: Indexing with multiple keys (implicitly converted to a tuple of keys) will be deprecated, use a list instead.\n",
      "  bootstrapped_upward = tmp.groupby(['#t(centisec)'])['ang_pos', 'dist', 'speed_diff', 'acc_diff', 'cc'].mean().reset_index()\n",
      "/var/folders/ng/l4j590g95vl5r33ctw59y6cr0000gn/T/ipykernel_26977/3673897783.py:12: FutureWarning: Indexing with multiple keys (implicitly converted to a tuple of keys) will be deprecated, use a list instead.\n",
      "  bootstrapped_upward = tmp.groupby(['#t(centisec)'])['ang_pos', 'dist', 'speed_diff', 'acc_diff', 'cc'].mean().reset_index()\n",
      "/var/folders/ng/l4j590g95vl5r33ctw59y6cr0000gn/T/ipykernel_26977/3673897783.py:12: FutureWarning: Indexing with multiple keys (implicitly converted to a tuple of keys) will be deprecated, use a list instead.\n",
      "  bootstrapped_upward = tmp.groupby(['#t(centisec)'])['ang_pos', 'dist', 'speed_diff', 'acc_diff', 'cc'].mean().reset_index()\n",
      "/var/folders/ng/l4j590g95vl5r33ctw59y6cr0000gn/T/ipykernel_26977/3673897783.py:12: FutureWarning: Indexing with multiple keys (implicitly converted to a tuple of keys) will be deprecated, use a list instead.\n",
      "  bootstrapped_upward = tmp.groupby(['#t(centisec)'])['ang_pos', 'dist', 'speed_diff', 'acc_diff', 'cc'].mean().reset_index()\n",
      "/var/folders/ng/l4j590g95vl5r33ctw59y6cr0000gn/T/ipykernel_26977/3673897783.py:12: FutureWarning: Indexing with multiple keys (implicitly converted to a tuple of keys) will be deprecated, use a list instead.\n",
      "  bootstrapped_upward = tmp.groupby(['#t(centisec)'])['ang_pos', 'dist', 'speed_diff', 'acc_diff', 'cc'].mean().reset_index()\n",
      "/var/folders/ng/l4j590g95vl5r33ctw59y6cr0000gn/T/ipykernel_26977/3673897783.py:12: FutureWarning: Indexing with multiple keys (implicitly converted to a tuple of keys) will be deprecated, use a list instead.\n",
      "  bootstrapped_upward = tmp.groupby(['#t(centisec)'])['ang_pos', 'dist', 'speed_diff', 'acc_diff', 'cc'].mean().reset_index()\n",
      "/var/folders/ng/l4j590g95vl5r33ctw59y6cr0000gn/T/ipykernel_26977/3673897783.py:12: FutureWarning: Indexing with multiple keys (implicitly converted to a tuple of keys) will be deprecated, use a list instead.\n",
      "  bootstrapped_upward = tmp.groupby(['#t(centisec)'])['ang_pos', 'dist', 'speed_diff', 'acc_diff', 'cc'].mean().reset_index()\n"
     ]
    },
    {
     "name": "stdout",
     "output_type": "stream",
     "text": [
      "470\n"
     ]
    },
    {
     "name": "stderr",
     "output_type": "stream",
     "text": [
      "/var/folders/ng/l4j590g95vl5r33ctw59y6cr0000gn/T/ipykernel_26977/3673897783.py:12: FutureWarning: Indexing with multiple keys (implicitly converted to a tuple of keys) will be deprecated, use a list instead.\n",
      "  bootstrapped_upward = tmp.groupby(['#t(centisec)'])['ang_pos', 'dist', 'speed_diff', 'acc_diff', 'cc'].mean().reset_index()\n",
      "/var/folders/ng/l4j590g95vl5r33ctw59y6cr0000gn/T/ipykernel_26977/3673897783.py:12: FutureWarning: Indexing with multiple keys (implicitly converted to a tuple of keys) will be deprecated, use a list instead.\n",
      "  bootstrapped_upward = tmp.groupby(['#t(centisec)'])['ang_pos', 'dist', 'speed_diff', 'acc_diff', 'cc'].mean().reset_index()\n",
      "/var/folders/ng/l4j590g95vl5r33ctw59y6cr0000gn/T/ipykernel_26977/3673897783.py:12: FutureWarning: Indexing with multiple keys (implicitly converted to a tuple of keys) will be deprecated, use a list instead.\n",
      "  bootstrapped_upward = tmp.groupby(['#t(centisec)'])['ang_pos', 'dist', 'speed_diff', 'acc_diff', 'cc'].mean().reset_index()\n",
      "/var/folders/ng/l4j590g95vl5r33ctw59y6cr0000gn/T/ipykernel_26977/3673897783.py:12: FutureWarning: Indexing with multiple keys (implicitly converted to a tuple of keys) will be deprecated, use a list instead.\n",
      "  bootstrapped_upward = tmp.groupby(['#t(centisec)'])['ang_pos', 'dist', 'speed_diff', 'acc_diff', 'cc'].mean().reset_index()\n",
      "/var/folders/ng/l4j590g95vl5r33ctw59y6cr0000gn/T/ipykernel_26977/3673897783.py:12: FutureWarning: Indexing with multiple keys (implicitly converted to a tuple of keys) will be deprecated, use a list instead.\n",
      "  bootstrapped_upward = tmp.groupby(['#t(centisec)'])['ang_pos', 'dist', 'speed_diff', 'acc_diff', 'cc'].mean().reset_index()\n",
      "/var/folders/ng/l4j590g95vl5r33ctw59y6cr0000gn/T/ipykernel_26977/3673897783.py:12: FutureWarning: Indexing with multiple keys (implicitly converted to a tuple of keys) will be deprecated, use a list instead.\n",
      "  bootstrapped_upward = tmp.groupby(['#t(centisec)'])['ang_pos', 'dist', 'speed_diff', 'acc_diff', 'cc'].mean().reset_index()\n",
      "/var/folders/ng/l4j590g95vl5r33ctw59y6cr0000gn/T/ipykernel_26977/3673897783.py:12: FutureWarning: Indexing with multiple keys (implicitly converted to a tuple of keys) will be deprecated, use a list instead.\n",
      "  bootstrapped_upward = tmp.groupby(['#t(centisec)'])['ang_pos', 'dist', 'speed_diff', 'acc_diff', 'cc'].mean().reset_index()\n",
      "/var/folders/ng/l4j590g95vl5r33ctw59y6cr0000gn/T/ipykernel_26977/3673897783.py:12: FutureWarning: Indexing with multiple keys (implicitly converted to a tuple of keys) will be deprecated, use a list instead.\n",
      "  bootstrapped_upward = tmp.groupby(['#t(centisec)'])['ang_pos', 'dist', 'speed_diff', 'acc_diff', 'cc'].mean().reset_index()\n",
      "/var/folders/ng/l4j590g95vl5r33ctw59y6cr0000gn/T/ipykernel_26977/3673897783.py:12: FutureWarning: Indexing with multiple keys (implicitly converted to a tuple of keys) will be deprecated, use a list instead.\n",
      "  bootstrapped_upward = tmp.groupby(['#t(centisec)'])['ang_pos', 'dist', 'speed_diff', 'acc_diff', 'cc'].mean().reset_index()\n",
      "/var/folders/ng/l4j590g95vl5r33ctw59y6cr0000gn/T/ipykernel_26977/3673897783.py:12: FutureWarning: Indexing with multiple keys (implicitly converted to a tuple of keys) will be deprecated, use a list instead.\n",
      "  bootstrapped_upward = tmp.groupby(['#t(centisec)'])['ang_pos', 'dist', 'speed_diff', 'acc_diff', 'cc'].mean().reset_index()\n"
     ]
    },
    {
     "name": "stdout",
     "output_type": "stream",
     "text": [
      "480\n"
     ]
    },
    {
     "name": "stderr",
     "output_type": "stream",
     "text": [
      "/var/folders/ng/l4j590g95vl5r33ctw59y6cr0000gn/T/ipykernel_26977/3673897783.py:12: FutureWarning: Indexing with multiple keys (implicitly converted to a tuple of keys) will be deprecated, use a list instead.\n",
      "  bootstrapped_upward = tmp.groupby(['#t(centisec)'])['ang_pos', 'dist', 'speed_diff', 'acc_diff', 'cc'].mean().reset_index()\n",
      "/var/folders/ng/l4j590g95vl5r33ctw59y6cr0000gn/T/ipykernel_26977/3673897783.py:12: FutureWarning: Indexing with multiple keys (implicitly converted to a tuple of keys) will be deprecated, use a list instead.\n",
      "  bootstrapped_upward = tmp.groupby(['#t(centisec)'])['ang_pos', 'dist', 'speed_diff', 'acc_diff', 'cc'].mean().reset_index()\n",
      "/var/folders/ng/l4j590g95vl5r33ctw59y6cr0000gn/T/ipykernel_26977/3673897783.py:12: FutureWarning: Indexing with multiple keys (implicitly converted to a tuple of keys) will be deprecated, use a list instead.\n",
      "  bootstrapped_upward = tmp.groupby(['#t(centisec)'])['ang_pos', 'dist', 'speed_diff', 'acc_diff', 'cc'].mean().reset_index()\n",
      "/var/folders/ng/l4j590g95vl5r33ctw59y6cr0000gn/T/ipykernel_26977/3673897783.py:12: FutureWarning: Indexing with multiple keys (implicitly converted to a tuple of keys) will be deprecated, use a list instead.\n",
      "  bootstrapped_upward = tmp.groupby(['#t(centisec)'])['ang_pos', 'dist', 'speed_diff', 'acc_diff', 'cc'].mean().reset_index()\n",
      "/var/folders/ng/l4j590g95vl5r33ctw59y6cr0000gn/T/ipykernel_26977/3673897783.py:12: FutureWarning: Indexing with multiple keys (implicitly converted to a tuple of keys) will be deprecated, use a list instead.\n",
      "  bootstrapped_upward = tmp.groupby(['#t(centisec)'])['ang_pos', 'dist', 'speed_diff', 'acc_diff', 'cc'].mean().reset_index()\n",
      "/var/folders/ng/l4j590g95vl5r33ctw59y6cr0000gn/T/ipykernel_26977/3673897783.py:12: FutureWarning: Indexing with multiple keys (implicitly converted to a tuple of keys) will be deprecated, use a list instead.\n",
      "  bootstrapped_upward = tmp.groupby(['#t(centisec)'])['ang_pos', 'dist', 'speed_diff', 'acc_diff', 'cc'].mean().reset_index()\n",
      "/var/folders/ng/l4j590g95vl5r33ctw59y6cr0000gn/T/ipykernel_26977/3673897783.py:12: FutureWarning: Indexing with multiple keys (implicitly converted to a tuple of keys) will be deprecated, use a list instead.\n",
      "  bootstrapped_upward = tmp.groupby(['#t(centisec)'])['ang_pos', 'dist', 'speed_diff', 'acc_diff', 'cc'].mean().reset_index()\n",
      "/var/folders/ng/l4j590g95vl5r33ctw59y6cr0000gn/T/ipykernel_26977/3673897783.py:12: FutureWarning: Indexing with multiple keys (implicitly converted to a tuple of keys) will be deprecated, use a list instead.\n",
      "  bootstrapped_upward = tmp.groupby(['#t(centisec)'])['ang_pos', 'dist', 'speed_diff', 'acc_diff', 'cc'].mean().reset_index()\n",
      "/var/folders/ng/l4j590g95vl5r33ctw59y6cr0000gn/T/ipykernel_26977/3673897783.py:12: FutureWarning: Indexing with multiple keys (implicitly converted to a tuple of keys) will be deprecated, use a list instead.\n",
      "  bootstrapped_upward = tmp.groupby(['#t(centisec)'])['ang_pos', 'dist', 'speed_diff', 'acc_diff', 'cc'].mean().reset_index()\n",
      "/var/folders/ng/l4j590g95vl5r33ctw59y6cr0000gn/T/ipykernel_26977/3673897783.py:12: FutureWarning: Indexing with multiple keys (implicitly converted to a tuple of keys) will be deprecated, use a list instead.\n",
      "  bootstrapped_upward = tmp.groupby(['#t(centisec)'])['ang_pos', 'dist', 'speed_diff', 'acc_diff', 'cc'].mean().reset_index()\n"
     ]
    },
    {
     "name": "stdout",
     "output_type": "stream",
     "text": [
      "490\n"
     ]
    },
    {
     "name": "stderr",
     "output_type": "stream",
     "text": [
      "/var/folders/ng/l4j590g95vl5r33ctw59y6cr0000gn/T/ipykernel_26977/3673897783.py:12: FutureWarning: Indexing with multiple keys (implicitly converted to a tuple of keys) will be deprecated, use a list instead.\n",
      "  bootstrapped_upward = tmp.groupby(['#t(centisec)'])['ang_pos', 'dist', 'speed_diff', 'acc_diff', 'cc'].mean().reset_index()\n",
      "/var/folders/ng/l4j590g95vl5r33ctw59y6cr0000gn/T/ipykernel_26977/3673897783.py:12: FutureWarning: Indexing with multiple keys (implicitly converted to a tuple of keys) will be deprecated, use a list instead.\n",
      "  bootstrapped_upward = tmp.groupby(['#t(centisec)'])['ang_pos', 'dist', 'speed_diff', 'acc_diff', 'cc'].mean().reset_index()\n",
      "/var/folders/ng/l4j590g95vl5r33ctw59y6cr0000gn/T/ipykernel_26977/3673897783.py:12: FutureWarning: Indexing with multiple keys (implicitly converted to a tuple of keys) will be deprecated, use a list instead.\n",
      "  bootstrapped_upward = tmp.groupby(['#t(centisec)'])['ang_pos', 'dist', 'speed_diff', 'acc_diff', 'cc'].mean().reset_index()\n",
      "/var/folders/ng/l4j590g95vl5r33ctw59y6cr0000gn/T/ipykernel_26977/3673897783.py:12: FutureWarning: Indexing with multiple keys (implicitly converted to a tuple of keys) will be deprecated, use a list instead.\n",
      "  bootstrapped_upward = tmp.groupby(['#t(centisec)'])['ang_pos', 'dist', 'speed_diff', 'acc_diff', 'cc'].mean().reset_index()\n",
      "/var/folders/ng/l4j590g95vl5r33ctw59y6cr0000gn/T/ipykernel_26977/3673897783.py:12: FutureWarning: Indexing with multiple keys (implicitly converted to a tuple of keys) will be deprecated, use a list instead.\n",
      "  bootstrapped_upward = tmp.groupby(['#t(centisec)'])['ang_pos', 'dist', 'speed_diff', 'acc_diff', 'cc'].mean().reset_index()\n",
      "/var/folders/ng/l4j590g95vl5r33ctw59y6cr0000gn/T/ipykernel_26977/3673897783.py:12: FutureWarning: Indexing with multiple keys (implicitly converted to a tuple of keys) will be deprecated, use a list instead.\n",
      "  bootstrapped_upward = tmp.groupby(['#t(centisec)'])['ang_pos', 'dist', 'speed_diff', 'acc_diff', 'cc'].mean().reset_index()\n",
      "/var/folders/ng/l4j590g95vl5r33ctw59y6cr0000gn/T/ipykernel_26977/3673897783.py:12: FutureWarning: Indexing with multiple keys (implicitly converted to a tuple of keys) will be deprecated, use a list instead.\n",
      "  bootstrapped_upward = tmp.groupby(['#t(centisec)'])['ang_pos', 'dist', 'speed_diff', 'acc_diff', 'cc'].mean().reset_index()\n",
      "/var/folders/ng/l4j590g95vl5r33ctw59y6cr0000gn/T/ipykernel_26977/3673897783.py:12: FutureWarning: Indexing with multiple keys (implicitly converted to a tuple of keys) will be deprecated, use a list instead.\n",
      "  bootstrapped_upward = tmp.groupby(['#t(centisec)'])['ang_pos', 'dist', 'speed_diff', 'acc_diff', 'cc'].mean().reset_index()\n",
      "/var/folders/ng/l4j590g95vl5r33ctw59y6cr0000gn/T/ipykernel_26977/3673897783.py:12: FutureWarning: Indexing with multiple keys (implicitly converted to a tuple of keys) will be deprecated, use a list instead.\n",
      "  bootstrapped_upward = tmp.groupby(['#t(centisec)'])['ang_pos', 'dist', 'speed_diff', 'acc_diff', 'cc'].mean().reset_index()\n",
      "/var/folders/ng/l4j590g95vl5r33ctw59y6cr0000gn/T/ipykernel_26977/3673897783.py:12: FutureWarning: Indexing with multiple keys (implicitly converted to a tuple of keys) will be deprecated, use a list instead.\n",
      "  bootstrapped_upward = tmp.groupby(['#t(centisec)'])['ang_pos', 'dist', 'speed_diff', 'acc_diff', 'cc'].mean().reset_index()\n"
     ]
    },
    {
     "name": "stdout",
     "output_type": "stream",
     "text": [
      "500\n"
     ]
    },
    {
     "name": "stderr",
     "output_type": "stream",
     "text": [
      "/var/folders/ng/l4j590g95vl5r33ctw59y6cr0000gn/T/ipykernel_26977/3673897783.py:12: FutureWarning: Indexing with multiple keys (implicitly converted to a tuple of keys) will be deprecated, use a list instead.\n",
      "  bootstrapped_upward = tmp.groupby(['#t(centisec)'])['ang_pos', 'dist', 'speed_diff', 'acc_diff', 'cc'].mean().reset_index()\n",
      "/var/folders/ng/l4j590g95vl5r33ctw59y6cr0000gn/T/ipykernel_26977/3673897783.py:12: FutureWarning: Indexing with multiple keys (implicitly converted to a tuple of keys) will be deprecated, use a list instead.\n",
      "  bootstrapped_upward = tmp.groupby(['#t(centisec)'])['ang_pos', 'dist', 'speed_diff', 'acc_diff', 'cc'].mean().reset_index()\n",
      "/var/folders/ng/l4j590g95vl5r33ctw59y6cr0000gn/T/ipykernel_26977/3673897783.py:12: FutureWarning: Indexing with multiple keys (implicitly converted to a tuple of keys) will be deprecated, use a list instead.\n",
      "  bootstrapped_upward = tmp.groupby(['#t(centisec)'])['ang_pos', 'dist', 'speed_diff', 'acc_diff', 'cc'].mean().reset_index()\n",
      "/var/folders/ng/l4j590g95vl5r33ctw59y6cr0000gn/T/ipykernel_26977/3673897783.py:12: FutureWarning: Indexing with multiple keys (implicitly converted to a tuple of keys) will be deprecated, use a list instead.\n",
      "  bootstrapped_upward = tmp.groupby(['#t(centisec)'])['ang_pos', 'dist', 'speed_diff', 'acc_diff', 'cc'].mean().reset_index()\n",
      "/var/folders/ng/l4j590g95vl5r33ctw59y6cr0000gn/T/ipykernel_26977/3673897783.py:12: FutureWarning: Indexing with multiple keys (implicitly converted to a tuple of keys) will be deprecated, use a list instead.\n",
      "  bootstrapped_upward = tmp.groupby(['#t(centisec)'])['ang_pos', 'dist', 'speed_diff', 'acc_diff', 'cc'].mean().reset_index()\n",
      "/var/folders/ng/l4j590g95vl5r33ctw59y6cr0000gn/T/ipykernel_26977/3673897783.py:12: FutureWarning: Indexing with multiple keys (implicitly converted to a tuple of keys) will be deprecated, use a list instead.\n",
      "  bootstrapped_upward = tmp.groupby(['#t(centisec)'])['ang_pos', 'dist', 'speed_diff', 'acc_diff', 'cc'].mean().reset_index()\n",
      "/var/folders/ng/l4j590g95vl5r33ctw59y6cr0000gn/T/ipykernel_26977/3673897783.py:12: FutureWarning: Indexing with multiple keys (implicitly converted to a tuple of keys) will be deprecated, use a list instead.\n",
      "  bootstrapped_upward = tmp.groupby(['#t(centisec)'])['ang_pos', 'dist', 'speed_diff', 'acc_diff', 'cc'].mean().reset_index()\n",
      "/var/folders/ng/l4j590g95vl5r33ctw59y6cr0000gn/T/ipykernel_26977/3673897783.py:12: FutureWarning: Indexing with multiple keys (implicitly converted to a tuple of keys) will be deprecated, use a list instead.\n",
      "  bootstrapped_upward = tmp.groupby(['#t(centisec)'])['ang_pos', 'dist', 'speed_diff', 'acc_diff', 'cc'].mean().reset_index()\n",
      "/var/folders/ng/l4j590g95vl5r33ctw59y6cr0000gn/T/ipykernel_26977/3673897783.py:12: FutureWarning: Indexing with multiple keys (implicitly converted to a tuple of keys) will be deprecated, use a list instead.\n",
      "  bootstrapped_upward = tmp.groupby(['#t(centisec)'])['ang_pos', 'dist', 'speed_diff', 'acc_diff', 'cc'].mean().reset_index()\n",
      "/var/folders/ng/l4j590g95vl5r33ctw59y6cr0000gn/T/ipykernel_26977/3673897783.py:12: FutureWarning: Indexing with multiple keys (implicitly converted to a tuple of keys) will be deprecated, use a list instead.\n",
      "  bootstrapped_upward = tmp.groupby(['#t(centisec)'])['ang_pos', 'dist', 'speed_diff', 'acc_diff', 'cc'].mean().reset_index()\n"
     ]
    },
    {
     "name": "stdout",
     "output_type": "stream",
     "text": [
      "510\n"
     ]
    },
    {
     "name": "stderr",
     "output_type": "stream",
     "text": [
      "/var/folders/ng/l4j590g95vl5r33ctw59y6cr0000gn/T/ipykernel_26977/3673897783.py:12: FutureWarning: Indexing with multiple keys (implicitly converted to a tuple of keys) will be deprecated, use a list instead.\n",
      "  bootstrapped_upward = tmp.groupby(['#t(centisec)'])['ang_pos', 'dist', 'speed_diff', 'acc_diff', 'cc'].mean().reset_index()\n",
      "/var/folders/ng/l4j590g95vl5r33ctw59y6cr0000gn/T/ipykernel_26977/3673897783.py:12: FutureWarning: Indexing with multiple keys (implicitly converted to a tuple of keys) will be deprecated, use a list instead.\n",
      "  bootstrapped_upward = tmp.groupby(['#t(centisec)'])['ang_pos', 'dist', 'speed_diff', 'acc_diff', 'cc'].mean().reset_index()\n",
      "/var/folders/ng/l4j590g95vl5r33ctw59y6cr0000gn/T/ipykernel_26977/3673897783.py:12: FutureWarning: Indexing with multiple keys (implicitly converted to a tuple of keys) will be deprecated, use a list instead.\n",
      "  bootstrapped_upward = tmp.groupby(['#t(centisec)'])['ang_pos', 'dist', 'speed_diff', 'acc_diff', 'cc'].mean().reset_index()\n",
      "/var/folders/ng/l4j590g95vl5r33ctw59y6cr0000gn/T/ipykernel_26977/3673897783.py:12: FutureWarning: Indexing with multiple keys (implicitly converted to a tuple of keys) will be deprecated, use a list instead.\n",
      "  bootstrapped_upward = tmp.groupby(['#t(centisec)'])['ang_pos', 'dist', 'speed_diff', 'acc_diff', 'cc'].mean().reset_index()\n",
      "/var/folders/ng/l4j590g95vl5r33ctw59y6cr0000gn/T/ipykernel_26977/3673897783.py:12: FutureWarning: Indexing with multiple keys (implicitly converted to a tuple of keys) will be deprecated, use a list instead.\n",
      "  bootstrapped_upward = tmp.groupby(['#t(centisec)'])['ang_pos', 'dist', 'speed_diff', 'acc_diff', 'cc'].mean().reset_index()\n",
      "/var/folders/ng/l4j590g95vl5r33ctw59y6cr0000gn/T/ipykernel_26977/3673897783.py:12: FutureWarning: Indexing with multiple keys (implicitly converted to a tuple of keys) will be deprecated, use a list instead.\n",
      "  bootstrapped_upward = tmp.groupby(['#t(centisec)'])['ang_pos', 'dist', 'speed_diff', 'acc_diff', 'cc'].mean().reset_index()\n",
      "/var/folders/ng/l4j590g95vl5r33ctw59y6cr0000gn/T/ipykernel_26977/3673897783.py:12: FutureWarning: Indexing with multiple keys (implicitly converted to a tuple of keys) will be deprecated, use a list instead.\n",
      "  bootstrapped_upward = tmp.groupby(['#t(centisec)'])['ang_pos', 'dist', 'speed_diff', 'acc_diff', 'cc'].mean().reset_index()\n",
      "/var/folders/ng/l4j590g95vl5r33ctw59y6cr0000gn/T/ipykernel_26977/3673897783.py:12: FutureWarning: Indexing with multiple keys (implicitly converted to a tuple of keys) will be deprecated, use a list instead.\n",
      "  bootstrapped_upward = tmp.groupby(['#t(centisec)'])['ang_pos', 'dist', 'speed_diff', 'acc_diff', 'cc'].mean().reset_index()\n",
      "/var/folders/ng/l4j590g95vl5r33ctw59y6cr0000gn/T/ipykernel_26977/3673897783.py:12: FutureWarning: Indexing with multiple keys (implicitly converted to a tuple of keys) will be deprecated, use a list instead.\n",
      "  bootstrapped_upward = tmp.groupby(['#t(centisec)'])['ang_pos', 'dist', 'speed_diff', 'acc_diff', 'cc'].mean().reset_index()\n",
      "/var/folders/ng/l4j590g95vl5r33ctw59y6cr0000gn/T/ipykernel_26977/3673897783.py:12: FutureWarning: Indexing with multiple keys (implicitly converted to a tuple of keys) will be deprecated, use a list instead.\n",
      "  bootstrapped_upward = tmp.groupby(['#t(centisec)'])['ang_pos', 'dist', 'speed_diff', 'acc_diff', 'cc'].mean().reset_index()\n"
     ]
    },
    {
     "name": "stdout",
     "output_type": "stream",
     "text": [
      "520\n"
     ]
    },
    {
     "name": "stderr",
     "output_type": "stream",
     "text": [
      "/var/folders/ng/l4j590g95vl5r33ctw59y6cr0000gn/T/ipykernel_26977/3673897783.py:12: FutureWarning: Indexing with multiple keys (implicitly converted to a tuple of keys) will be deprecated, use a list instead.\n",
      "  bootstrapped_upward = tmp.groupby(['#t(centisec)'])['ang_pos', 'dist', 'speed_diff', 'acc_diff', 'cc'].mean().reset_index()\n",
      "/var/folders/ng/l4j590g95vl5r33ctw59y6cr0000gn/T/ipykernel_26977/3673897783.py:12: FutureWarning: Indexing with multiple keys (implicitly converted to a tuple of keys) will be deprecated, use a list instead.\n",
      "  bootstrapped_upward = tmp.groupby(['#t(centisec)'])['ang_pos', 'dist', 'speed_diff', 'acc_diff', 'cc'].mean().reset_index()\n",
      "/var/folders/ng/l4j590g95vl5r33ctw59y6cr0000gn/T/ipykernel_26977/3673897783.py:12: FutureWarning: Indexing with multiple keys (implicitly converted to a tuple of keys) will be deprecated, use a list instead.\n",
      "  bootstrapped_upward = tmp.groupby(['#t(centisec)'])['ang_pos', 'dist', 'speed_diff', 'acc_diff', 'cc'].mean().reset_index()\n",
      "/var/folders/ng/l4j590g95vl5r33ctw59y6cr0000gn/T/ipykernel_26977/3673897783.py:12: FutureWarning: Indexing with multiple keys (implicitly converted to a tuple of keys) will be deprecated, use a list instead.\n",
      "  bootstrapped_upward = tmp.groupby(['#t(centisec)'])['ang_pos', 'dist', 'speed_diff', 'acc_diff', 'cc'].mean().reset_index()\n",
      "/var/folders/ng/l4j590g95vl5r33ctw59y6cr0000gn/T/ipykernel_26977/3673897783.py:12: FutureWarning: Indexing with multiple keys (implicitly converted to a tuple of keys) will be deprecated, use a list instead.\n",
      "  bootstrapped_upward = tmp.groupby(['#t(centisec)'])['ang_pos', 'dist', 'speed_diff', 'acc_diff', 'cc'].mean().reset_index()\n",
      "/var/folders/ng/l4j590g95vl5r33ctw59y6cr0000gn/T/ipykernel_26977/3673897783.py:12: FutureWarning: Indexing with multiple keys (implicitly converted to a tuple of keys) will be deprecated, use a list instead.\n",
      "  bootstrapped_upward = tmp.groupby(['#t(centisec)'])['ang_pos', 'dist', 'speed_diff', 'acc_diff', 'cc'].mean().reset_index()\n",
      "/var/folders/ng/l4j590g95vl5r33ctw59y6cr0000gn/T/ipykernel_26977/3673897783.py:12: FutureWarning: Indexing with multiple keys (implicitly converted to a tuple of keys) will be deprecated, use a list instead.\n",
      "  bootstrapped_upward = tmp.groupby(['#t(centisec)'])['ang_pos', 'dist', 'speed_diff', 'acc_diff', 'cc'].mean().reset_index()\n",
      "/var/folders/ng/l4j590g95vl5r33ctw59y6cr0000gn/T/ipykernel_26977/3673897783.py:12: FutureWarning: Indexing with multiple keys (implicitly converted to a tuple of keys) will be deprecated, use a list instead.\n",
      "  bootstrapped_upward = tmp.groupby(['#t(centisec)'])['ang_pos', 'dist', 'speed_diff', 'acc_diff', 'cc'].mean().reset_index()\n",
      "/var/folders/ng/l4j590g95vl5r33ctw59y6cr0000gn/T/ipykernel_26977/3673897783.py:12: FutureWarning: Indexing with multiple keys (implicitly converted to a tuple of keys) will be deprecated, use a list instead.\n",
      "  bootstrapped_upward = tmp.groupby(['#t(centisec)'])['ang_pos', 'dist', 'speed_diff', 'acc_diff', 'cc'].mean().reset_index()\n",
      "/var/folders/ng/l4j590g95vl5r33ctw59y6cr0000gn/T/ipykernel_26977/3673897783.py:12: FutureWarning: Indexing with multiple keys (implicitly converted to a tuple of keys) will be deprecated, use a list instead.\n",
      "  bootstrapped_upward = tmp.groupby(['#t(centisec)'])['ang_pos', 'dist', 'speed_diff', 'acc_diff', 'cc'].mean().reset_index()\n"
     ]
    },
    {
     "name": "stdout",
     "output_type": "stream",
     "text": [
      "530\n"
     ]
    },
    {
     "name": "stderr",
     "output_type": "stream",
     "text": [
      "/var/folders/ng/l4j590g95vl5r33ctw59y6cr0000gn/T/ipykernel_26977/3673897783.py:12: FutureWarning: Indexing with multiple keys (implicitly converted to a tuple of keys) will be deprecated, use a list instead.\n",
      "  bootstrapped_upward = tmp.groupby(['#t(centisec)'])['ang_pos', 'dist', 'speed_diff', 'acc_diff', 'cc'].mean().reset_index()\n",
      "/var/folders/ng/l4j590g95vl5r33ctw59y6cr0000gn/T/ipykernel_26977/3673897783.py:12: FutureWarning: Indexing with multiple keys (implicitly converted to a tuple of keys) will be deprecated, use a list instead.\n",
      "  bootstrapped_upward = tmp.groupby(['#t(centisec)'])['ang_pos', 'dist', 'speed_diff', 'acc_diff', 'cc'].mean().reset_index()\n",
      "/var/folders/ng/l4j590g95vl5r33ctw59y6cr0000gn/T/ipykernel_26977/3673897783.py:12: FutureWarning: Indexing with multiple keys (implicitly converted to a tuple of keys) will be deprecated, use a list instead.\n",
      "  bootstrapped_upward = tmp.groupby(['#t(centisec)'])['ang_pos', 'dist', 'speed_diff', 'acc_diff', 'cc'].mean().reset_index()\n",
      "/var/folders/ng/l4j590g95vl5r33ctw59y6cr0000gn/T/ipykernel_26977/3673897783.py:12: FutureWarning: Indexing with multiple keys (implicitly converted to a tuple of keys) will be deprecated, use a list instead.\n",
      "  bootstrapped_upward = tmp.groupby(['#t(centisec)'])['ang_pos', 'dist', 'speed_diff', 'acc_diff', 'cc'].mean().reset_index()\n",
      "/var/folders/ng/l4j590g95vl5r33ctw59y6cr0000gn/T/ipykernel_26977/3673897783.py:12: FutureWarning: Indexing with multiple keys (implicitly converted to a tuple of keys) will be deprecated, use a list instead.\n",
      "  bootstrapped_upward = tmp.groupby(['#t(centisec)'])['ang_pos', 'dist', 'speed_diff', 'acc_diff', 'cc'].mean().reset_index()\n",
      "/var/folders/ng/l4j590g95vl5r33ctw59y6cr0000gn/T/ipykernel_26977/3673897783.py:12: FutureWarning: Indexing with multiple keys (implicitly converted to a tuple of keys) will be deprecated, use a list instead.\n",
      "  bootstrapped_upward = tmp.groupby(['#t(centisec)'])['ang_pos', 'dist', 'speed_diff', 'acc_diff', 'cc'].mean().reset_index()\n",
      "/var/folders/ng/l4j590g95vl5r33ctw59y6cr0000gn/T/ipykernel_26977/3673897783.py:12: FutureWarning: Indexing with multiple keys (implicitly converted to a tuple of keys) will be deprecated, use a list instead.\n",
      "  bootstrapped_upward = tmp.groupby(['#t(centisec)'])['ang_pos', 'dist', 'speed_diff', 'acc_diff', 'cc'].mean().reset_index()\n",
      "/var/folders/ng/l4j590g95vl5r33ctw59y6cr0000gn/T/ipykernel_26977/3673897783.py:12: FutureWarning: Indexing with multiple keys (implicitly converted to a tuple of keys) will be deprecated, use a list instead.\n",
      "  bootstrapped_upward = tmp.groupby(['#t(centisec)'])['ang_pos', 'dist', 'speed_diff', 'acc_diff', 'cc'].mean().reset_index()\n",
      "/var/folders/ng/l4j590g95vl5r33ctw59y6cr0000gn/T/ipykernel_26977/3673897783.py:12: FutureWarning: Indexing with multiple keys (implicitly converted to a tuple of keys) will be deprecated, use a list instead.\n",
      "  bootstrapped_upward = tmp.groupby(['#t(centisec)'])['ang_pos', 'dist', 'speed_diff', 'acc_diff', 'cc'].mean().reset_index()\n",
      "/var/folders/ng/l4j590g95vl5r33ctw59y6cr0000gn/T/ipykernel_26977/3673897783.py:12: FutureWarning: Indexing with multiple keys (implicitly converted to a tuple of keys) will be deprecated, use a list instead.\n",
      "  bootstrapped_upward = tmp.groupby(['#t(centisec)'])['ang_pos', 'dist', 'speed_diff', 'acc_diff', 'cc'].mean().reset_index()\n"
     ]
    },
    {
     "name": "stdout",
     "output_type": "stream",
     "text": [
      "540\n"
     ]
    },
    {
     "name": "stderr",
     "output_type": "stream",
     "text": [
      "/var/folders/ng/l4j590g95vl5r33ctw59y6cr0000gn/T/ipykernel_26977/3673897783.py:12: FutureWarning: Indexing with multiple keys (implicitly converted to a tuple of keys) will be deprecated, use a list instead.\n",
      "  bootstrapped_upward = tmp.groupby(['#t(centisec)'])['ang_pos', 'dist', 'speed_diff', 'acc_diff', 'cc'].mean().reset_index()\n",
      "/var/folders/ng/l4j590g95vl5r33ctw59y6cr0000gn/T/ipykernel_26977/3673897783.py:12: FutureWarning: Indexing with multiple keys (implicitly converted to a tuple of keys) will be deprecated, use a list instead.\n",
      "  bootstrapped_upward = tmp.groupby(['#t(centisec)'])['ang_pos', 'dist', 'speed_diff', 'acc_diff', 'cc'].mean().reset_index()\n",
      "/var/folders/ng/l4j590g95vl5r33ctw59y6cr0000gn/T/ipykernel_26977/3673897783.py:12: FutureWarning: Indexing with multiple keys (implicitly converted to a tuple of keys) will be deprecated, use a list instead.\n",
      "  bootstrapped_upward = tmp.groupby(['#t(centisec)'])['ang_pos', 'dist', 'speed_diff', 'acc_diff', 'cc'].mean().reset_index()\n",
      "/var/folders/ng/l4j590g95vl5r33ctw59y6cr0000gn/T/ipykernel_26977/3673897783.py:12: FutureWarning: Indexing with multiple keys (implicitly converted to a tuple of keys) will be deprecated, use a list instead.\n",
      "  bootstrapped_upward = tmp.groupby(['#t(centisec)'])['ang_pos', 'dist', 'speed_diff', 'acc_diff', 'cc'].mean().reset_index()\n",
      "/var/folders/ng/l4j590g95vl5r33ctw59y6cr0000gn/T/ipykernel_26977/3673897783.py:12: FutureWarning: Indexing with multiple keys (implicitly converted to a tuple of keys) will be deprecated, use a list instead.\n",
      "  bootstrapped_upward = tmp.groupby(['#t(centisec)'])['ang_pos', 'dist', 'speed_diff', 'acc_diff', 'cc'].mean().reset_index()\n",
      "/var/folders/ng/l4j590g95vl5r33ctw59y6cr0000gn/T/ipykernel_26977/3673897783.py:12: FutureWarning: Indexing with multiple keys (implicitly converted to a tuple of keys) will be deprecated, use a list instead.\n",
      "  bootstrapped_upward = tmp.groupby(['#t(centisec)'])['ang_pos', 'dist', 'speed_diff', 'acc_diff', 'cc'].mean().reset_index()\n",
      "/var/folders/ng/l4j590g95vl5r33ctw59y6cr0000gn/T/ipykernel_26977/3673897783.py:12: FutureWarning: Indexing with multiple keys (implicitly converted to a tuple of keys) will be deprecated, use a list instead.\n",
      "  bootstrapped_upward = tmp.groupby(['#t(centisec)'])['ang_pos', 'dist', 'speed_diff', 'acc_diff', 'cc'].mean().reset_index()\n",
      "/var/folders/ng/l4j590g95vl5r33ctw59y6cr0000gn/T/ipykernel_26977/3673897783.py:12: FutureWarning: Indexing with multiple keys (implicitly converted to a tuple of keys) will be deprecated, use a list instead.\n",
      "  bootstrapped_upward = tmp.groupby(['#t(centisec)'])['ang_pos', 'dist', 'speed_diff', 'acc_diff', 'cc'].mean().reset_index()\n",
      "/var/folders/ng/l4j590g95vl5r33ctw59y6cr0000gn/T/ipykernel_26977/3673897783.py:12: FutureWarning: Indexing with multiple keys (implicitly converted to a tuple of keys) will be deprecated, use a list instead.\n",
      "  bootstrapped_upward = tmp.groupby(['#t(centisec)'])['ang_pos', 'dist', 'speed_diff', 'acc_diff', 'cc'].mean().reset_index()\n",
      "/var/folders/ng/l4j590g95vl5r33ctw59y6cr0000gn/T/ipykernel_26977/3673897783.py:12: FutureWarning: Indexing with multiple keys (implicitly converted to a tuple of keys) will be deprecated, use a list instead.\n",
      "  bootstrapped_upward = tmp.groupby(['#t(centisec)'])['ang_pos', 'dist', 'speed_diff', 'acc_diff', 'cc'].mean().reset_index()\n"
     ]
    },
    {
     "name": "stdout",
     "output_type": "stream",
     "text": [
      "550\n"
     ]
    },
    {
     "name": "stderr",
     "output_type": "stream",
     "text": [
      "/var/folders/ng/l4j590g95vl5r33ctw59y6cr0000gn/T/ipykernel_26977/3673897783.py:12: FutureWarning: Indexing with multiple keys (implicitly converted to a tuple of keys) will be deprecated, use a list instead.\n",
      "  bootstrapped_upward = tmp.groupby(['#t(centisec)'])['ang_pos', 'dist', 'speed_diff', 'acc_diff', 'cc'].mean().reset_index()\n",
      "/var/folders/ng/l4j590g95vl5r33ctw59y6cr0000gn/T/ipykernel_26977/3673897783.py:12: FutureWarning: Indexing with multiple keys (implicitly converted to a tuple of keys) will be deprecated, use a list instead.\n",
      "  bootstrapped_upward = tmp.groupby(['#t(centisec)'])['ang_pos', 'dist', 'speed_diff', 'acc_diff', 'cc'].mean().reset_index()\n",
      "/var/folders/ng/l4j590g95vl5r33ctw59y6cr0000gn/T/ipykernel_26977/3673897783.py:12: FutureWarning: Indexing with multiple keys (implicitly converted to a tuple of keys) will be deprecated, use a list instead.\n",
      "  bootstrapped_upward = tmp.groupby(['#t(centisec)'])['ang_pos', 'dist', 'speed_diff', 'acc_diff', 'cc'].mean().reset_index()\n",
      "/var/folders/ng/l4j590g95vl5r33ctw59y6cr0000gn/T/ipykernel_26977/3673897783.py:12: FutureWarning: Indexing with multiple keys (implicitly converted to a tuple of keys) will be deprecated, use a list instead.\n",
      "  bootstrapped_upward = tmp.groupby(['#t(centisec)'])['ang_pos', 'dist', 'speed_diff', 'acc_diff', 'cc'].mean().reset_index()\n",
      "/var/folders/ng/l4j590g95vl5r33ctw59y6cr0000gn/T/ipykernel_26977/3673897783.py:12: FutureWarning: Indexing with multiple keys (implicitly converted to a tuple of keys) will be deprecated, use a list instead.\n",
      "  bootstrapped_upward = tmp.groupby(['#t(centisec)'])['ang_pos', 'dist', 'speed_diff', 'acc_diff', 'cc'].mean().reset_index()\n",
      "/var/folders/ng/l4j590g95vl5r33ctw59y6cr0000gn/T/ipykernel_26977/3673897783.py:12: FutureWarning: Indexing with multiple keys (implicitly converted to a tuple of keys) will be deprecated, use a list instead.\n",
      "  bootstrapped_upward = tmp.groupby(['#t(centisec)'])['ang_pos', 'dist', 'speed_diff', 'acc_diff', 'cc'].mean().reset_index()\n",
      "/var/folders/ng/l4j590g95vl5r33ctw59y6cr0000gn/T/ipykernel_26977/3673897783.py:12: FutureWarning: Indexing with multiple keys (implicitly converted to a tuple of keys) will be deprecated, use a list instead.\n",
      "  bootstrapped_upward = tmp.groupby(['#t(centisec)'])['ang_pos', 'dist', 'speed_diff', 'acc_diff', 'cc'].mean().reset_index()\n",
      "/var/folders/ng/l4j590g95vl5r33ctw59y6cr0000gn/T/ipykernel_26977/3673897783.py:12: FutureWarning: Indexing with multiple keys (implicitly converted to a tuple of keys) will be deprecated, use a list instead.\n",
      "  bootstrapped_upward = tmp.groupby(['#t(centisec)'])['ang_pos', 'dist', 'speed_diff', 'acc_diff', 'cc'].mean().reset_index()\n",
      "/var/folders/ng/l4j590g95vl5r33ctw59y6cr0000gn/T/ipykernel_26977/3673897783.py:12: FutureWarning: Indexing with multiple keys (implicitly converted to a tuple of keys) will be deprecated, use a list instead.\n",
      "  bootstrapped_upward = tmp.groupby(['#t(centisec)'])['ang_pos', 'dist', 'speed_diff', 'acc_diff', 'cc'].mean().reset_index()\n",
      "/var/folders/ng/l4j590g95vl5r33ctw59y6cr0000gn/T/ipykernel_26977/3673897783.py:12: FutureWarning: Indexing with multiple keys (implicitly converted to a tuple of keys) will be deprecated, use a list instead.\n",
      "  bootstrapped_upward = tmp.groupby(['#t(centisec)'])['ang_pos', 'dist', 'speed_diff', 'acc_diff', 'cc'].mean().reset_index()\n"
     ]
    },
    {
     "name": "stdout",
     "output_type": "stream",
     "text": [
      "560\n"
     ]
    },
    {
     "name": "stderr",
     "output_type": "stream",
     "text": [
      "/var/folders/ng/l4j590g95vl5r33ctw59y6cr0000gn/T/ipykernel_26977/3673897783.py:12: FutureWarning: Indexing with multiple keys (implicitly converted to a tuple of keys) will be deprecated, use a list instead.\n",
      "  bootstrapped_upward = tmp.groupby(['#t(centisec)'])['ang_pos', 'dist', 'speed_diff', 'acc_diff', 'cc'].mean().reset_index()\n",
      "/var/folders/ng/l4j590g95vl5r33ctw59y6cr0000gn/T/ipykernel_26977/3673897783.py:12: FutureWarning: Indexing with multiple keys (implicitly converted to a tuple of keys) will be deprecated, use a list instead.\n",
      "  bootstrapped_upward = tmp.groupby(['#t(centisec)'])['ang_pos', 'dist', 'speed_diff', 'acc_diff', 'cc'].mean().reset_index()\n",
      "/var/folders/ng/l4j590g95vl5r33ctw59y6cr0000gn/T/ipykernel_26977/3673897783.py:12: FutureWarning: Indexing with multiple keys (implicitly converted to a tuple of keys) will be deprecated, use a list instead.\n",
      "  bootstrapped_upward = tmp.groupby(['#t(centisec)'])['ang_pos', 'dist', 'speed_diff', 'acc_diff', 'cc'].mean().reset_index()\n",
      "/var/folders/ng/l4j590g95vl5r33ctw59y6cr0000gn/T/ipykernel_26977/3673897783.py:12: FutureWarning: Indexing with multiple keys (implicitly converted to a tuple of keys) will be deprecated, use a list instead.\n",
      "  bootstrapped_upward = tmp.groupby(['#t(centisec)'])['ang_pos', 'dist', 'speed_diff', 'acc_diff', 'cc'].mean().reset_index()\n",
      "/var/folders/ng/l4j590g95vl5r33ctw59y6cr0000gn/T/ipykernel_26977/3673897783.py:12: FutureWarning: Indexing with multiple keys (implicitly converted to a tuple of keys) will be deprecated, use a list instead.\n",
      "  bootstrapped_upward = tmp.groupby(['#t(centisec)'])['ang_pos', 'dist', 'speed_diff', 'acc_diff', 'cc'].mean().reset_index()\n",
      "/var/folders/ng/l4j590g95vl5r33ctw59y6cr0000gn/T/ipykernel_26977/3673897783.py:12: FutureWarning: Indexing with multiple keys (implicitly converted to a tuple of keys) will be deprecated, use a list instead.\n",
      "  bootstrapped_upward = tmp.groupby(['#t(centisec)'])['ang_pos', 'dist', 'speed_diff', 'acc_diff', 'cc'].mean().reset_index()\n",
      "/var/folders/ng/l4j590g95vl5r33ctw59y6cr0000gn/T/ipykernel_26977/3673897783.py:12: FutureWarning: Indexing with multiple keys (implicitly converted to a tuple of keys) will be deprecated, use a list instead.\n",
      "  bootstrapped_upward = tmp.groupby(['#t(centisec)'])['ang_pos', 'dist', 'speed_diff', 'acc_diff', 'cc'].mean().reset_index()\n",
      "/var/folders/ng/l4j590g95vl5r33ctw59y6cr0000gn/T/ipykernel_26977/3673897783.py:12: FutureWarning: Indexing with multiple keys (implicitly converted to a tuple of keys) will be deprecated, use a list instead.\n",
      "  bootstrapped_upward = tmp.groupby(['#t(centisec)'])['ang_pos', 'dist', 'speed_diff', 'acc_diff', 'cc'].mean().reset_index()\n",
      "/var/folders/ng/l4j590g95vl5r33ctw59y6cr0000gn/T/ipykernel_26977/3673897783.py:12: FutureWarning: Indexing with multiple keys (implicitly converted to a tuple of keys) will be deprecated, use a list instead.\n",
      "  bootstrapped_upward = tmp.groupby(['#t(centisec)'])['ang_pos', 'dist', 'speed_diff', 'acc_diff', 'cc'].mean().reset_index()\n",
      "/var/folders/ng/l4j590g95vl5r33ctw59y6cr0000gn/T/ipykernel_26977/3673897783.py:12: FutureWarning: Indexing with multiple keys (implicitly converted to a tuple of keys) will be deprecated, use a list instead.\n",
      "  bootstrapped_upward = tmp.groupby(['#t(centisec)'])['ang_pos', 'dist', 'speed_diff', 'acc_diff', 'cc'].mean().reset_index()\n"
     ]
    },
    {
     "name": "stdout",
     "output_type": "stream",
     "text": [
      "570\n"
     ]
    },
    {
     "name": "stderr",
     "output_type": "stream",
     "text": [
      "/var/folders/ng/l4j590g95vl5r33ctw59y6cr0000gn/T/ipykernel_26977/3673897783.py:12: FutureWarning: Indexing with multiple keys (implicitly converted to a tuple of keys) will be deprecated, use a list instead.\n",
      "  bootstrapped_upward = tmp.groupby(['#t(centisec)'])['ang_pos', 'dist', 'speed_diff', 'acc_diff', 'cc'].mean().reset_index()\n",
      "/var/folders/ng/l4j590g95vl5r33ctw59y6cr0000gn/T/ipykernel_26977/3673897783.py:12: FutureWarning: Indexing with multiple keys (implicitly converted to a tuple of keys) will be deprecated, use a list instead.\n",
      "  bootstrapped_upward = tmp.groupby(['#t(centisec)'])['ang_pos', 'dist', 'speed_diff', 'acc_diff', 'cc'].mean().reset_index()\n",
      "/var/folders/ng/l4j590g95vl5r33ctw59y6cr0000gn/T/ipykernel_26977/3673897783.py:12: FutureWarning: Indexing with multiple keys (implicitly converted to a tuple of keys) will be deprecated, use a list instead.\n",
      "  bootstrapped_upward = tmp.groupby(['#t(centisec)'])['ang_pos', 'dist', 'speed_diff', 'acc_diff', 'cc'].mean().reset_index()\n",
      "/var/folders/ng/l4j590g95vl5r33ctw59y6cr0000gn/T/ipykernel_26977/3673897783.py:12: FutureWarning: Indexing with multiple keys (implicitly converted to a tuple of keys) will be deprecated, use a list instead.\n",
      "  bootstrapped_upward = tmp.groupby(['#t(centisec)'])['ang_pos', 'dist', 'speed_diff', 'acc_diff', 'cc'].mean().reset_index()\n",
      "/var/folders/ng/l4j590g95vl5r33ctw59y6cr0000gn/T/ipykernel_26977/3673897783.py:12: FutureWarning: Indexing with multiple keys (implicitly converted to a tuple of keys) will be deprecated, use a list instead.\n",
      "  bootstrapped_upward = tmp.groupby(['#t(centisec)'])['ang_pos', 'dist', 'speed_diff', 'acc_diff', 'cc'].mean().reset_index()\n",
      "/var/folders/ng/l4j590g95vl5r33ctw59y6cr0000gn/T/ipykernel_26977/3673897783.py:12: FutureWarning: Indexing with multiple keys (implicitly converted to a tuple of keys) will be deprecated, use a list instead.\n",
      "  bootstrapped_upward = tmp.groupby(['#t(centisec)'])['ang_pos', 'dist', 'speed_diff', 'acc_diff', 'cc'].mean().reset_index()\n",
      "/var/folders/ng/l4j590g95vl5r33ctw59y6cr0000gn/T/ipykernel_26977/3673897783.py:12: FutureWarning: Indexing with multiple keys (implicitly converted to a tuple of keys) will be deprecated, use a list instead.\n",
      "  bootstrapped_upward = tmp.groupby(['#t(centisec)'])['ang_pos', 'dist', 'speed_diff', 'acc_diff', 'cc'].mean().reset_index()\n",
      "/var/folders/ng/l4j590g95vl5r33ctw59y6cr0000gn/T/ipykernel_26977/3673897783.py:12: FutureWarning: Indexing with multiple keys (implicitly converted to a tuple of keys) will be deprecated, use a list instead.\n",
      "  bootstrapped_upward = tmp.groupby(['#t(centisec)'])['ang_pos', 'dist', 'speed_diff', 'acc_diff', 'cc'].mean().reset_index()\n",
      "/var/folders/ng/l4j590g95vl5r33ctw59y6cr0000gn/T/ipykernel_26977/3673897783.py:12: FutureWarning: Indexing with multiple keys (implicitly converted to a tuple of keys) will be deprecated, use a list instead.\n",
      "  bootstrapped_upward = tmp.groupby(['#t(centisec)'])['ang_pos', 'dist', 'speed_diff', 'acc_diff', 'cc'].mean().reset_index()\n",
      "/var/folders/ng/l4j590g95vl5r33ctw59y6cr0000gn/T/ipykernel_26977/3673897783.py:12: FutureWarning: Indexing with multiple keys (implicitly converted to a tuple of keys) will be deprecated, use a list instead.\n",
      "  bootstrapped_upward = tmp.groupby(['#t(centisec)'])['ang_pos', 'dist', 'speed_diff', 'acc_diff', 'cc'].mean().reset_index()\n"
     ]
    },
    {
     "name": "stdout",
     "output_type": "stream",
     "text": [
      "580\n"
     ]
    },
    {
     "name": "stderr",
     "output_type": "stream",
     "text": [
      "/var/folders/ng/l4j590g95vl5r33ctw59y6cr0000gn/T/ipykernel_26977/3673897783.py:12: FutureWarning: Indexing with multiple keys (implicitly converted to a tuple of keys) will be deprecated, use a list instead.\n",
      "  bootstrapped_upward = tmp.groupby(['#t(centisec)'])['ang_pos', 'dist', 'speed_diff', 'acc_diff', 'cc'].mean().reset_index()\n",
      "/var/folders/ng/l4j590g95vl5r33ctw59y6cr0000gn/T/ipykernel_26977/3673897783.py:12: FutureWarning: Indexing with multiple keys (implicitly converted to a tuple of keys) will be deprecated, use a list instead.\n",
      "  bootstrapped_upward = tmp.groupby(['#t(centisec)'])['ang_pos', 'dist', 'speed_diff', 'acc_diff', 'cc'].mean().reset_index()\n",
      "/var/folders/ng/l4j590g95vl5r33ctw59y6cr0000gn/T/ipykernel_26977/3673897783.py:12: FutureWarning: Indexing with multiple keys (implicitly converted to a tuple of keys) will be deprecated, use a list instead.\n",
      "  bootstrapped_upward = tmp.groupby(['#t(centisec)'])['ang_pos', 'dist', 'speed_diff', 'acc_diff', 'cc'].mean().reset_index()\n",
      "/var/folders/ng/l4j590g95vl5r33ctw59y6cr0000gn/T/ipykernel_26977/3673897783.py:12: FutureWarning: Indexing with multiple keys (implicitly converted to a tuple of keys) will be deprecated, use a list instead.\n",
      "  bootstrapped_upward = tmp.groupby(['#t(centisec)'])['ang_pos', 'dist', 'speed_diff', 'acc_diff', 'cc'].mean().reset_index()\n",
      "/var/folders/ng/l4j590g95vl5r33ctw59y6cr0000gn/T/ipykernel_26977/3673897783.py:12: FutureWarning: Indexing with multiple keys (implicitly converted to a tuple of keys) will be deprecated, use a list instead.\n",
      "  bootstrapped_upward = tmp.groupby(['#t(centisec)'])['ang_pos', 'dist', 'speed_diff', 'acc_diff', 'cc'].mean().reset_index()\n",
      "/var/folders/ng/l4j590g95vl5r33ctw59y6cr0000gn/T/ipykernel_26977/3673897783.py:12: FutureWarning: Indexing with multiple keys (implicitly converted to a tuple of keys) will be deprecated, use a list instead.\n",
      "  bootstrapped_upward = tmp.groupby(['#t(centisec)'])['ang_pos', 'dist', 'speed_diff', 'acc_diff', 'cc'].mean().reset_index()\n",
      "/var/folders/ng/l4j590g95vl5r33ctw59y6cr0000gn/T/ipykernel_26977/3673897783.py:12: FutureWarning: Indexing with multiple keys (implicitly converted to a tuple of keys) will be deprecated, use a list instead.\n",
      "  bootstrapped_upward = tmp.groupby(['#t(centisec)'])['ang_pos', 'dist', 'speed_diff', 'acc_diff', 'cc'].mean().reset_index()\n",
      "/var/folders/ng/l4j590g95vl5r33ctw59y6cr0000gn/T/ipykernel_26977/3673897783.py:12: FutureWarning: Indexing with multiple keys (implicitly converted to a tuple of keys) will be deprecated, use a list instead.\n",
      "  bootstrapped_upward = tmp.groupby(['#t(centisec)'])['ang_pos', 'dist', 'speed_diff', 'acc_diff', 'cc'].mean().reset_index()\n",
      "/var/folders/ng/l4j590g95vl5r33ctw59y6cr0000gn/T/ipykernel_26977/3673897783.py:12: FutureWarning: Indexing with multiple keys (implicitly converted to a tuple of keys) will be deprecated, use a list instead.\n",
      "  bootstrapped_upward = tmp.groupby(['#t(centisec)'])['ang_pos', 'dist', 'speed_diff', 'acc_diff', 'cc'].mean().reset_index()\n",
      "/var/folders/ng/l4j590g95vl5r33ctw59y6cr0000gn/T/ipykernel_26977/3673897783.py:12: FutureWarning: Indexing with multiple keys (implicitly converted to a tuple of keys) will be deprecated, use a list instead.\n",
      "  bootstrapped_upward = tmp.groupby(['#t(centisec)'])['ang_pos', 'dist', 'speed_diff', 'acc_diff', 'cc'].mean().reset_index()\n"
     ]
    },
    {
     "name": "stdout",
     "output_type": "stream",
     "text": [
      "590\n"
     ]
    },
    {
     "name": "stderr",
     "output_type": "stream",
     "text": [
      "/var/folders/ng/l4j590g95vl5r33ctw59y6cr0000gn/T/ipykernel_26977/3673897783.py:12: FutureWarning: Indexing with multiple keys (implicitly converted to a tuple of keys) will be deprecated, use a list instead.\n",
      "  bootstrapped_upward = tmp.groupby(['#t(centisec)'])['ang_pos', 'dist', 'speed_diff', 'acc_diff', 'cc'].mean().reset_index()\n",
      "/var/folders/ng/l4j590g95vl5r33ctw59y6cr0000gn/T/ipykernel_26977/3673897783.py:12: FutureWarning: Indexing with multiple keys (implicitly converted to a tuple of keys) will be deprecated, use a list instead.\n",
      "  bootstrapped_upward = tmp.groupby(['#t(centisec)'])['ang_pos', 'dist', 'speed_diff', 'acc_diff', 'cc'].mean().reset_index()\n",
      "/var/folders/ng/l4j590g95vl5r33ctw59y6cr0000gn/T/ipykernel_26977/3673897783.py:12: FutureWarning: Indexing with multiple keys (implicitly converted to a tuple of keys) will be deprecated, use a list instead.\n",
      "  bootstrapped_upward = tmp.groupby(['#t(centisec)'])['ang_pos', 'dist', 'speed_diff', 'acc_diff', 'cc'].mean().reset_index()\n",
      "/var/folders/ng/l4j590g95vl5r33ctw59y6cr0000gn/T/ipykernel_26977/3673897783.py:12: FutureWarning: Indexing with multiple keys (implicitly converted to a tuple of keys) will be deprecated, use a list instead.\n",
      "  bootstrapped_upward = tmp.groupby(['#t(centisec)'])['ang_pos', 'dist', 'speed_diff', 'acc_diff', 'cc'].mean().reset_index()\n",
      "/var/folders/ng/l4j590g95vl5r33ctw59y6cr0000gn/T/ipykernel_26977/3673897783.py:12: FutureWarning: Indexing with multiple keys (implicitly converted to a tuple of keys) will be deprecated, use a list instead.\n",
      "  bootstrapped_upward = tmp.groupby(['#t(centisec)'])['ang_pos', 'dist', 'speed_diff', 'acc_diff', 'cc'].mean().reset_index()\n",
      "/var/folders/ng/l4j590g95vl5r33ctw59y6cr0000gn/T/ipykernel_26977/3673897783.py:12: FutureWarning: Indexing with multiple keys (implicitly converted to a tuple of keys) will be deprecated, use a list instead.\n",
      "  bootstrapped_upward = tmp.groupby(['#t(centisec)'])['ang_pos', 'dist', 'speed_diff', 'acc_diff', 'cc'].mean().reset_index()\n",
      "/var/folders/ng/l4j590g95vl5r33ctw59y6cr0000gn/T/ipykernel_26977/3673897783.py:12: FutureWarning: Indexing with multiple keys (implicitly converted to a tuple of keys) will be deprecated, use a list instead.\n",
      "  bootstrapped_upward = tmp.groupby(['#t(centisec)'])['ang_pos', 'dist', 'speed_diff', 'acc_diff', 'cc'].mean().reset_index()\n",
      "/var/folders/ng/l4j590g95vl5r33ctw59y6cr0000gn/T/ipykernel_26977/3673897783.py:12: FutureWarning: Indexing with multiple keys (implicitly converted to a tuple of keys) will be deprecated, use a list instead.\n",
      "  bootstrapped_upward = tmp.groupby(['#t(centisec)'])['ang_pos', 'dist', 'speed_diff', 'acc_diff', 'cc'].mean().reset_index()\n",
      "/var/folders/ng/l4j590g95vl5r33ctw59y6cr0000gn/T/ipykernel_26977/3673897783.py:12: FutureWarning: Indexing with multiple keys (implicitly converted to a tuple of keys) will be deprecated, use a list instead.\n",
      "  bootstrapped_upward = tmp.groupby(['#t(centisec)'])['ang_pos', 'dist', 'speed_diff', 'acc_diff', 'cc'].mean().reset_index()\n",
      "/var/folders/ng/l4j590g95vl5r33ctw59y6cr0000gn/T/ipykernel_26977/3673897783.py:12: FutureWarning: Indexing with multiple keys (implicitly converted to a tuple of keys) will be deprecated, use a list instead.\n",
      "  bootstrapped_upward = tmp.groupby(['#t(centisec)'])['ang_pos', 'dist', 'speed_diff', 'acc_diff', 'cc'].mean().reset_index()\n"
     ]
    },
    {
     "name": "stdout",
     "output_type": "stream",
     "text": [
      "600\n"
     ]
    },
    {
     "name": "stderr",
     "output_type": "stream",
     "text": [
      "/var/folders/ng/l4j590g95vl5r33ctw59y6cr0000gn/T/ipykernel_26977/3673897783.py:12: FutureWarning: Indexing with multiple keys (implicitly converted to a tuple of keys) will be deprecated, use a list instead.\n",
      "  bootstrapped_upward = tmp.groupby(['#t(centisec)'])['ang_pos', 'dist', 'speed_diff', 'acc_diff', 'cc'].mean().reset_index()\n",
      "/var/folders/ng/l4j590g95vl5r33ctw59y6cr0000gn/T/ipykernel_26977/3673897783.py:12: FutureWarning: Indexing with multiple keys (implicitly converted to a tuple of keys) will be deprecated, use a list instead.\n",
      "  bootstrapped_upward = tmp.groupby(['#t(centisec)'])['ang_pos', 'dist', 'speed_diff', 'acc_diff', 'cc'].mean().reset_index()\n",
      "/var/folders/ng/l4j590g95vl5r33ctw59y6cr0000gn/T/ipykernel_26977/3673897783.py:12: FutureWarning: Indexing with multiple keys (implicitly converted to a tuple of keys) will be deprecated, use a list instead.\n",
      "  bootstrapped_upward = tmp.groupby(['#t(centisec)'])['ang_pos', 'dist', 'speed_diff', 'acc_diff', 'cc'].mean().reset_index()\n",
      "/var/folders/ng/l4j590g95vl5r33ctw59y6cr0000gn/T/ipykernel_26977/3673897783.py:12: FutureWarning: Indexing with multiple keys (implicitly converted to a tuple of keys) will be deprecated, use a list instead.\n",
      "  bootstrapped_upward = tmp.groupby(['#t(centisec)'])['ang_pos', 'dist', 'speed_diff', 'acc_diff', 'cc'].mean().reset_index()\n",
      "/var/folders/ng/l4j590g95vl5r33ctw59y6cr0000gn/T/ipykernel_26977/3673897783.py:12: FutureWarning: Indexing with multiple keys (implicitly converted to a tuple of keys) will be deprecated, use a list instead.\n",
      "  bootstrapped_upward = tmp.groupby(['#t(centisec)'])['ang_pos', 'dist', 'speed_diff', 'acc_diff', 'cc'].mean().reset_index()\n",
      "/var/folders/ng/l4j590g95vl5r33ctw59y6cr0000gn/T/ipykernel_26977/3673897783.py:12: FutureWarning: Indexing with multiple keys (implicitly converted to a tuple of keys) will be deprecated, use a list instead.\n",
      "  bootstrapped_upward = tmp.groupby(['#t(centisec)'])['ang_pos', 'dist', 'speed_diff', 'acc_diff', 'cc'].mean().reset_index()\n",
      "/var/folders/ng/l4j590g95vl5r33ctw59y6cr0000gn/T/ipykernel_26977/3673897783.py:12: FutureWarning: Indexing with multiple keys (implicitly converted to a tuple of keys) will be deprecated, use a list instead.\n",
      "  bootstrapped_upward = tmp.groupby(['#t(centisec)'])['ang_pos', 'dist', 'speed_diff', 'acc_diff', 'cc'].mean().reset_index()\n",
      "/var/folders/ng/l4j590g95vl5r33ctw59y6cr0000gn/T/ipykernel_26977/3673897783.py:12: FutureWarning: Indexing with multiple keys (implicitly converted to a tuple of keys) will be deprecated, use a list instead.\n",
      "  bootstrapped_upward = tmp.groupby(['#t(centisec)'])['ang_pos', 'dist', 'speed_diff', 'acc_diff', 'cc'].mean().reset_index()\n",
      "/var/folders/ng/l4j590g95vl5r33ctw59y6cr0000gn/T/ipykernel_26977/3673897783.py:12: FutureWarning: Indexing with multiple keys (implicitly converted to a tuple of keys) will be deprecated, use a list instead.\n",
      "  bootstrapped_upward = tmp.groupby(['#t(centisec)'])['ang_pos', 'dist', 'speed_diff', 'acc_diff', 'cc'].mean().reset_index()\n",
      "/var/folders/ng/l4j590g95vl5r33ctw59y6cr0000gn/T/ipykernel_26977/3673897783.py:12: FutureWarning: Indexing with multiple keys (implicitly converted to a tuple of keys) will be deprecated, use a list instead.\n",
      "  bootstrapped_upward = tmp.groupby(['#t(centisec)'])['ang_pos', 'dist', 'speed_diff', 'acc_diff', 'cc'].mean().reset_index()\n"
     ]
    },
    {
     "name": "stdout",
     "output_type": "stream",
     "text": [
      "610\n"
     ]
    },
    {
     "name": "stderr",
     "output_type": "stream",
     "text": [
      "/var/folders/ng/l4j590g95vl5r33ctw59y6cr0000gn/T/ipykernel_26977/3673897783.py:12: FutureWarning: Indexing with multiple keys (implicitly converted to a tuple of keys) will be deprecated, use a list instead.\n",
      "  bootstrapped_upward = tmp.groupby(['#t(centisec)'])['ang_pos', 'dist', 'speed_diff', 'acc_diff', 'cc'].mean().reset_index()\n",
      "/var/folders/ng/l4j590g95vl5r33ctw59y6cr0000gn/T/ipykernel_26977/3673897783.py:12: FutureWarning: Indexing with multiple keys (implicitly converted to a tuple of keys) will be deprecated, use a list instead.\n",
      "  bootstrapped_upward = tmp.groupby(['#t(centisec)'])['ang_pos', 'dist', 'speed_diff', 'acc_diff', 'cc'].mean().reset_index()\n",
      "/var/folders/ng/l4j590g95vl5r33ctw59y6cr0000gn/T/ipykernel_26977/3673897783.py:12: FutureWarning: Indexing with multiple keys (implicitly converted to a tuple of keys) will be deprecated, use a list instead.\n",
      "  bootstrapped_upward = tmp.groupby(['#t(centisec)'])['ang_pos', 'dist', 'speed_diff', 'acc_diff', 'cc'].mean().reset_index()\n",
      "/var/folders/ng/l4j590g95vl5r33ctw59y6cr0000gn/T/ipykernel_26977/3673897783.py:12: FutureWarning: Indexing with multiple keys (implicitly converted to a tuple of keys) will be deprecated, use a list instead.\n",
      "  bootstrapped_upward = tmp.groupby(['#t(centisec)'])['ang_pos', 'dist', 'speed_diff', 'acc_diff', 'cc'].mean().reset_index()\n",
      "/var/folders/ng/l4j590g95vl5r33ctw59y6cr0000gn/T/ipykernel_26977/3673897783.py:12: FutureWarning: Indexing with multiple keys (implicitly converted to a tuple of keys) will be deprecated, use a list instead.\n",
      "  bootstrapped_upward = tmp.groupby(['#t(centisec)'])['ang_pos', 'dist', 'speed_diff', 'acc_diff', 'cc'].mean().reset_index()\n",
      "/var/folders/ng/l4j590g95vl5r33ctw59y6cr0000gn/T/ipykernel_26977/3673897783.py:12: FutureWarning: Indexing with multiple keys (implicitly converted to a tuple of keys) will be deprecated, use a list instead.\n",
      "  bootstrapped_upward = tmp.groupby(['#t(centisec)'])['ang_pos', 'dist', 'speed_diff', 'acc_diff', 'cc'].mean().reset_index()\n",
      "/var/folders/ng/l4j590g95vl5r33ctw59y6cr0000gn/T/ipykernel_26977/3673897783.py:12: FutureWarning: Indexing with multiple keys (implicitly converted to a tuple of keys) will be deprecated, use a list instead.\n",
      "  bootstrapped_upward = tmp.groupby(['#t(centisec)'])['ang_pos', 'dist', 'speed_diff', 'acc_diff', 'cc'].mean().reset_index()\n",
      "/var/folders/ng/l4j590g95vl5r33ctw59y6cr0000gn/T/ipykernel_26977/3673897783.py:12: FutureWarning: Indexing with multiple keys (implicitly converted to a tuple of keys) will be deprecated, use a list instead.\n",
      "  bootstrapped_upward = tmp.groupby(['#t(centisec)'])['ang_pos', 'dist', 'speed_diff', 'acc_diff', 'cc'].mean().reset_index()\n",
      "/var/folders/ng/l4j590g95vl5r33ctw59y6cr0000gn/T/ipykernel_26977/3673897783.py:12: FutureWarning: Indexing with multiple keys (implicitly converted to a tuple of keys) will be deprecated, use a list instead.\n",
      "  bootstrapped_upward = tmp.groupby(['#t(centisec)'])['ang_pos', 'dist', 'speed_diff', 'acc_diff', 'cc'].mean().reset_index()\n",
      "/var/folders/ng/l4j590g95vl5r33ctw59y6cr0000gn/T/ipykernel_26977/3673897783.py:12: FutureWarning: Indexing with multiple keys (implicitly converted to a tuple of keys) will be deprecated, use a list instead.\n",
      "  bootstrapped_upward = tmp.groupby(['#t(centisec)'])['ang_pos', 'dist', 'speed_diff', 'acc_diff', 'cc'].mean().reset_index()\n"
     ]
    },
    {
     "name": "stdout",
     "output_type": "stream",
     "text": [
      "620\n"
     ]
    },
    {
     "name": "stderr",
     "output_type": "stream",
     "text": [
      "/var/folders/ng/l4j590g95vl5r33ctw59y6cr0000gn/T/ipykernel_26977/3673897783.py:12: FutureWarning: Indexing with multiple keys (implicitly converted to a tuple of keys) will be deprecated, use a list instead.\n",
      "  bootstrapped_upward = tmp.groupby(['#t(centisec)'])['ang_pos', 'dist', 'speed_diff', 'acc_diff', 'cc'].mean().reset_index()\n",
      "/var/folders/ng/l4j590g95vl5r33ctw59y6cr0000gn/T/ipykernel_26977/3673897783.py:12: FutureWarning: Indexing with multiple keys (implicitly converted to a tuple of keys) will be deprecated, use a list instead.\n",
      "  bootstrapped_upward = tmp.groupby(['#t(centisec)'])['ang_pos', 'dist', 'speed_diff', 'acc_diff', 'cc'].mean().reset_index()\n",
      "/var/folders/ng/l4j590g95vl5r33ctw59y6cr0000gn/T/ipykernel_26977/3673897783.py:12: FutureWarning: Indexing with multiple keys (implicitly converted to a tuple of keys) will be deprecated, use a list instead.\n",
      "  bootstrapped_upward = tmp.groupby(['#t(centisec)'])['ang_pos', 'dist', 'speed_diff', 'acc_diff', 'cc'].mean().reset_index()\n",
      "/var/folders/ng/l4j590g95vl5r33ctw59y6cr0000gn/T/ipykernel_26977/3673897783.py:12: FutureWarning: Indexing with multiple keys (implicitly converted to a tuple of keys) will be deprecated, use a list instead.\n",
      "  bootstrapped_upward = tmp.groupby(['#t(centisec)'])['ang_pos', 'dist', 'speed_diff', 'acc_diff', 'cc'].mean().reset_index()\n",
      "/var/folders/ng/l4j590g95vl5r33ctw59y6cr0000gn/T/ipykernel_26977/3673897783.py:12: FutureWarning: Indexing with multiple keys (implicitly converted to a tuple of keys) will be deprecated, use a list instead.\n",
      "  bootstrapped_upward = tmp.groupby(['#t(centisec)'])['ang_pos', 'dist', 'speed_diff', 'acc_diff', 'cc'].mean().reset_index()\n",
      "/var/folders/ng/l4j590g95vl5r33ctw59y6cr0000gn/T/ipykernel_26977/3673897783.py:12: FutureWarning: Indexing with multiple keys (implicitly converted to a tuple of keys) will be deprecated, use a list instead.\n",
      "  bootstrapped_upward = tmp.groupby(['#t(centisec)'])['ang_pos', 'dist', 'speed_diff', 'acc_diff', 'cc'].mean().reset_index()\n",
      "/var/folders/ng/l4j590g95vl5r33ctw59y6cr0000gn/T/ipykernel_26977/3673897783.py:12: FutureWarning: Indexing with multiple keys (implicitly converted to a tuple of keys) will be deprecated, use a list instead.\n",
      "  bootstrapped_upward = tmp.groupby(['#t(centisec)'])['ang_pos', 'dist', 'speed_diff', 'acc_diff', 'cc'].mean().reset_index()\n",
      "/var/folders/ng/l4j590g95vl5r33ctw59y6cr0000gn/T/ipykernel_26977/3673897783.py:12: FutureWarning: Indexing with multiple keys (implicitly converted to a tuple of keys) will be deprecated, use a list instead.\n",
      "  bootstrapped_upward = tmp.groupby(['#t(centisec)'])['ang_pos', 'dist', 'speed_diff', 'acc_diff', 'cc'].mean().reset_index()\n",
      "/var/folders/ng/l4j590g95vl5r33ctw59y6cr0000gn/T/ipykernel_26977/3673897783.py:12: FutureWarning: Indexing with multiple keys (implicitly converted to a tuple of keys) will be deprecated, use a list instead.\n",
      "  bootstrapped_upward = tmp.groupby(['#t(centisec)'])['ang_pos', 'dist', 'speed_diff', 'acc_diff', 'cc'].mean().reset_index()\n",
      "/var/folders/ng/l4j590g95vl5r33ctw59y6cr0000gn/T/ipykernel_26977/3673897783.py:12: FutureWarning: Indexing with multiple keys (implicitly converted to a tuple of keys) will be deprecated, use a list instead.\n",
      "  bootstrapped_upward = tmp.groupby(['#t(centisec)'])['ang_pos', 'dist', 'speed_diff', 'acc_diff', 'cc'].mean().reset_index()\n"
     ]
    },
    {
     "name": "stdout",
     "output_type": "stream",
     "text": [
      "630\n"
     ]
    },
    {
     "name": "stderr",
     "output_type": "stream",
     "text": [
      "/var/folders/ng/l4j590g95vl5r33ctw59y6cr0000gn/T/ipykernel_26977/3673897783.py:12: FutureWarning: Indexing with multiple keys (implicitly converted to a tuple of keys) will be deprecated, use a list instead.\n",
      "  bootstrapped_upward = tmp.groupby(['#t(centisec)'])['ang_pos', 'dist', 'speed_diff', 'acc_diff', 'cc'].mean().reset_index()\n",
      "/var/folders/ng/l4j590g95vl5r33ctw59y6cr0000gn/T/ipykernel_26977/3673897783.py:12: FutureWarning: Indexing with multiple keys (implicitly converted to a tuple of keys) will be deprecated, use a list instead.\n",
      "  bootstrapped_upward = tmp.groupby(['#t(centisec)'])['ang_pos', 'dist', 'speed_diff', 'acc_diff', 'cc'].mean().reset_index()\n",
      "/var/folders/ng/l4j590g95vl5r33ctw59y6cr0000gn/T/ipykernel_26977/3673897783.py:12: FutureWarning: Indexing with multiple keys (implicitly converted to a tuple of keys) will be deprecated, use a list instead.\n",
      "  bootstrapped_upward = tmp.groupby(['#t(centisec)'])['ang_pos', 'dist', 'speed_diff', 'acc_diff', 'cc'].mean().reset_index()\n",
      "/var/folders/ng/l4j590g95vl5r33ctw59y6cr0000gn/T/ipykernel_26977/3673897783.py:12: FutureWarning: Indexing with multiple keys (implicitly converted to a tuple of keys) will be deprecated, use a list instead.\n",
      "  bootstrapped_upward = tmp.groupby(['#t(centisec)'])['ang_pos', 'dist', 'speed_diff', 'acc_diff', 'cc'].mean().reset_index()\n",
      "/var/folders/ng/l4j590g95vl5r33ctw59y6cr0000gn/T/ipykernel_26977/3673897783.py:12: FutureWarning: Indexing with multiple keys (implicitly converted to a tuple of keys) will be deprecated, use a list instead.\n",
      "  bootstrapped_upward = tmp.groupby(['#t(centisec)'])['ang_pos', 'dist', 'speed_diff', 'acc_diff', 'cc'].mean().reset_index()\n",
      "/var/folders/ng/l4j590g95vl5r33ctw59y6cr0000gn/T/ipykernel_26977/3673897783.py:12: FutureWarning: Indexing with multiple keys (implicitly converted to a tuple of keys) will be deprecated, use a list instead.\n",
      "  bootstrapped_upward = tmp.groupby(['#t(centisec)'])['ang_pos', 'dist', 'speed_diff', 'acc_diff', 'cc'].mean().reset_index()\n",
      "/var/folders/ng/l4j590g95vl5r33ctw59y6cr0000gn/T/ipykernel_26977/3673897783.py:12: FutureWarning: Indexing with multiple keys (implicitly converted to a tuple of keys) will be deprecated, use a list instead.\n",
      "  bootstrapped_upward = tmp.groupby(['#t(centisec)'])['ang_pos', 'dist', 'speed_diff', 'acc_diff', 'cc'].mean().reset_index()\n",
      "/var/folders/ng/l4j590g95vl5r33ctw59y6cr0000gn/T/ipykernel_26977/3673897783.py:12: FutureWarning: Indexing with multiple keys (implicitly converted to a tuple of keys) will be deprecated, use a list instead.\n",
      "  bootstrapped_upward = tmp.groupby(['#t(centisec)'])['ang_pos', 'dist', 'speed_diff', 'acc_diff', 'cc'].mean().reset_index()\n",
      "/var/folders/ng/l4j590g95vl5r33ctw59y6cr0000gn/T/ipykernel_26977/3673897783.py:12: FutureWarning: Indexing with multiple keys (implicitly converted to a tuple of keys) will be deprecated, use a list instead.\n",
      "  bootstrapped_upward = tmp.groupby(['#t(centisec)'])['ang_pos', 'dist', 'speed_diff', 'acc_diff', 'cc'].mean().reset_index()\n",
      "/var/folders/ng/l4j590g95vl5r33ctw59y6cr0000gn/T/ipykernel_26977/3673897783.py:12: FutureWarning: Indexing with multiple keys (implicitly converted to a tuple of keys) will be deprecated, use a list instead.\n",
      "  bootstrapped_upward = tmp.groupby(['#t(centisec)'])['ang_pos', 'dist', 'speed_diff', 'acc_diff', 'cc'].mean().reset_index()\n"
     ]
    },
    {
     "name": "stdout",
     "output_type": "stream",
     "text": [
      "640\n"
     ]
    },
    {
     "name": "stderr",
     "output_type": "stream",
     "text": [
      "/var/folders/ng/l4j590g95vl5r33ctw59y6cr0000gn/T/ipykernel_26977/3673897783.py:12: FutureWarning: Indexing with multiple keys (implicitly converted to a tuple of keys) will be deprecated, use a list instead.\n",
      "  bootstrapped_upward = tmp.groupby(['#t(centisec)'])['ang_pos', 'dist', 'speed_diff', 'acc_diff', 'cc'].mean().reset_index()\n",
      "/var/folders/ng/l4j590g95vl5r33ctw59y6cr0000gn/T/ipykernel_26977/3673897783.py:12: FutureWarning: Indexing with multiple keys (implicitly converted to a tuple of keys) will be deprecated, use a list instead.\n",
      "  bootstrapped_upward = tmp.groupby(['#t(centisec)'])['ang_pos', 'dist', 'speed_diff', 'acc_diff', 'cc'].mean().reset_index()\n",
      "/var/folders/ng/l4j590g95vl5r33ctw59y6cr0000gn/T/ipykernel_26977/3673897783.py:12: FutureWarning: Indexing with multiple keys (implicitly converted to a tuple of keys) will be deprecated, use a list instead.\n",
      "  bootstrapped_upward = tmp.groupby(['#t(centisec)'])['ang_pos', 'dist', 'speed_diff', 'acc_diff', 'cc'].mean().reset_index()\n",
      "/var/folders/ng/l4j590g95vl5r33ctw59y6cr0000gn/T/ipykernel_26977/3673897783.py:12: FutureWarning: Indexing with multiple keys (implicitly converted to a tuple of keys) will be deprecated, use a list instead.\n",
      "  bootstrapped_upward = tmp.groupby(['#t(centisec)'])['ang_pos', 'dist', 'speed_diff', 'acc_diff', 'cc'].mean().reset_index()\n",
      "/var/folders/ng/l4j590g95vl5r33ctw59y6cr0000gn/T/ipykernel_26977/3673897783.py:12: FutureWarning: Indexing with multiple keys (implicitly converted to a tuple of keys) will be deprecated, use a list instead.\n",
      "  bootstrapped_upward = tmp.groupby(['#t(centisec)'])['ang_pos', 'dist', 'speed_diff', 'acc_diff', 'cc'].mean().reset_index()\n",
      "/var/folders/ng/l4j590g95vl5r33ctw59y6cr0000gn/T/ipykernel_26977/3673897783.py:12: FutureWarning: Indexing with multiple keys (implicitly converted to a tuple of keys) will be deprecated, use a list instead.\n",
      "  bootstrapped_upward = tmp.groupby(['#t(centisec)'])['ang_pos', 'dist', 'speed_diff', 'acc_diff', 'cc'].mean().reset_index()\n",
      "/var/folders/ng/l4j590g95vl5r33ctw59y6cr0000gn/T/ipykernel_26977/3673897783.py:12: FutureWarning: Indexing with multiple keys (implicitly converted to a tuple of keys) will be deprecated, use a list instead.\n",
      "  bootstrapped_upward = tmp.groupby(['#t(centisec)'])['ang_pos', 'dist', 'speed_diff', 'acc_diff', 'cc'].mean().reset_index()\n",
      "/var/folders/ng/l4j590g95vl5r33ctw59y6cr0000gn/T/ipykernel_26977/3673897783.py:12: FutureWarning: Indexing with multiple keys (implicitly converted to a tuple of keys) will be deprecated, use a list instead.\n",
      "  bootstrapped_upward = tmp.groupby(['#t(centisec)'])['ang_pos', 'dist', 'speed_diff', 'acc_diff', 'cc'].mean().reset_index()\n",
      "/var/folders/ng/l4j590g95vl5r33ctw59y6cr0000gn/T/ipykernel_26977/3673897783.py:12: FutureWarning: Indexing with multiple keys (implicitly converted to a tuple of keys) will be deprecated, use a list instead.\n",
      "  bootstrapped_upward = tmp.groupby(['#t(centisec)'])['ang_pos', 'dist', 'speed_diff', 'acc_diff', 'cc'].mean().reset_index()\n",
      "/var/folders/ng/l4j590g95vl5r33ctw59y6cr0000gn/T/ipykernel_26977/3673897783.py:12: FutureWarning: Indexing with multiple keys (implicitly converted to a tuple of keys) will be deprecated, use a list instead.\n",
      "  bootstrapped_upward = tmp.groupby(['#t(centisec)'])['ang_pos', 'dist', 'speed_diff', 'acc_diff', 'cc'].mean().reset_index()\n"
     ]
    },
    {
     "name": "stdout",
     "output_type": "stream",
     "text": [
      "650\n"
     ]
    },
    {
     "name": "stderr",
     "output_type": "stream",
     "text": [
      "/var/folders/ng/l4j590g95vl5r33ctw59y6cr0000gn/T/ipykernel_26977/3673897783.py:12: FutureWarning: Indexing with multiple keys (implicitly converted to a tuple of keys) will be deprecated, use a list instead.\n",
      "  bootstrapped_upward = tmp.groupby(['#t(centisec)'])['ang_pos', 'dist', 'speed_diff', 'acc_diff', 'cc'].mean().reset_index()\n",
      "/var/folders/ng/l4j590g95vl5r33ctw59y6cr0000gn/T/ipykernel_26977/3673897783.py:12: FutureWarning: Indexing with multiple keys (implicitly converted to a tuple of keys) will be deprecated, use a list instead.\n",
      "  bootstrapped_upward = tmp.groupby(['#t(centisec)'])['ang_pos', 'dist', 'speed_diff', 'acc_diff', 'cc'].mean().reset_index()\n",
      "/var/folders/ng/l4j590g95vl5r33ctw59y6cr0000gn/T/ipykernel_26977/3673897783.py:12: FutureWarning: Indexing with multiple keys (implicitly converted to a tuple of keys) will be deprecated, use a list instead.\n",
      "  bootstrapped_upward = tmp.groupby(['#t(centisec)'])['ang_pos', 'dist', 'speed_diff', 'acc_diff', 'cc'].mean().reset_index()\n",
      "/var/folders/ng/l4j590g95vl5r33ctw59y6cr0000gn/T/ipykernel_26977/3673897783.py:12: FutureWarning: Indexing with multiple keys (implicitly converted to a tuple of keys) will be deprecated, use a list instead.\n",
      "  bootstrapped_upward = tmp.groupby(['#t(centisec)'])['ang_pos', 'dist', 'speed_diff', 'acc_diff', 'cc'].mean().reset_index()\n",
      "/var/folders/ng/l4j590g95vl5r33ctw59y6cr0000gn/T/ipykernel_26977/3673897783.py:12: FutureWarning: Indexing with multiple keys (implicitly converted to a tuple of keys) will be deprecated, use a list instead.\n",
      "  bootstrapped_upward = tmp.groupby(['#t(centisec)'])['ang_pos', 'dist', 'speed_diff', 'acc_diff', 'cc'].mean().reset_index()\n",
      "/var/folders/ng/l4j590g95vl5r33ctw59y6cr0000gn/T/ipykernel_26977/3673897783.py:12: FutureWarning: Indexing with multiple keys (implicitly converted to a tuple of keys) will be deprecated, use a list instead.\n",
      "  bootstrapped_upward = tmp.groupby(['#t(centisec)'])['ang_pos', 'dist', 'speed_diff', 'acc_diff', 'cc'].mean().reset_index()\n",
      "/var/folders/ng/l4j590g95vl5r33ctw59y6cr0000gn/T/ipykernel_26977/3673897783.py:12: FutureWarning: Indexing with multiple keys (implicitly converted to a tuple of keys) will be deprecated, use a list instead.\n",
      "  bootstrapped_upward = tmp.groupby(['#t(centisec)'])['ang_pos', 'dist', 'speed_diff', 'acc_diff', 'cc'].mean().reset_index()\n",
      "/var/folders/ng/l4j590g95vl5r33ctw59y6cr0000gn/T/ipykernel_26977/3673897783.py:12: FutureWarning: Indexing with multiple keys (implicitly converted to a tuple of keys) will be deprecated, use a list instead.\n",
      "  bootstrapped_upward = tmp.groupby(['#t(centisec)'])['ang_pos', 'dist', 'speed_diff', 'acc_diff', 'cc'].mean().reset_index()\n",
      "/var/folders/ng/l4j590g95vl5r33ctw59y6cr0000gn/T/ipykernel_26977/3673897783.py:12: FutureWarning: Indexing with multiple keys (implicitly converted to a tuple of keys) will be deprecated, use a list instead.\n",
      "  bootstrapped_upward = tmp.groupby(['#t(centisec)'])['ang_pos', 'dist', 'speed_diff', 'acc_diff', 'cc'].mean().reset_index()\n",
      "/var/folders/ng/l4j590g95vl5r33ctw59y6cr0000gn/T/ipykernel_26977/3673897783.py:12: FutureWarning: Indexing with multiple keys (implicitly converted to a tuple of keys) will be deprecated, use a list instead.\n",
      "  bootstrapped_upward = tmp.groupby(['#t(centisec)'])['ang_pos', 'dist', 'speed_diff', 'acc_diff', 'cc'].mean().reset_index()\n"
     ]
    },
    {
     "name": "stdout",
     "output_type": "stream",
     "text": [
      "660\n"
     ]
    },
    {
     "name": "stderr",
     "output_type": "stream",
     "text": [
      "/var/folders/ng/l4j590g95vl5r33ctw59y6cr0000gn/T/ipykernel_26977/3673897783.py:12: FutureWarning: Indexing with multiple keys (implicitly converted to a tuple of keys) will be deprecated, use a list instead.\n",
      "  bootstrapped_upward = tmp.groupby(['#t(centisec)'])['ang_pos', 'dist', 'speed_diff', 'acc_diff', 'cc'].mean().reset_index()\n",
      "/var/folders/ng/l4j590g95vl5r33ctw59y6cr0000gn/T/ipykernel_26977/3673897783.py:12: FutureWarning: Indexing with multiple keys (implicitly converted to a tuple of keys) will be deprecated, use a list instead.\n",
      "  bootstrapped_upward = tmp.groupby(['#t(centisec)'])['ang_pos', 'dist', 'speed_diff', 'acc_diff', 'cc'].mean().reset_index()\n",
      "/var/folders/ng/l4j590g95vl5r33ctw59y6cr0000gn/T/ipykernel_26977/3673897783.py:12: FutureWarning: Indexing with multiple keys (implicitly converted to a tuple of keys) will be deprecated, use a list instead.\n",
      "  bootstrapped_upward = tmp.groupby(['#t(centisec)'])['ang_pos', 'dist', 'speed_diff', 'acc_diff', 'cc'].mean().reset_index()\n",
      "/var/folders/ng/l4j590g95vl5r33ctw59y6cr0000gn/T/ipykernel_26977/3673897783.py:12: FutureWarning: Indexing with multiple keys (implicitly converted to a tuple of keys) will be deprecated, use a list instead.\n",
      "  bootstrapped_upward = tmp.groupby(['#t(centisec)'])['ang_pos', 'dist', 'speed_diff', 'acc_diff', 'cc'].mean().reset_index()\n",
      "/var/folders/ng/l4j590g95vl5r33ctw59y6cr0000gn/T/ipykernel_26977/3673897783.py:12: FutureWarning: Indexing with multiple keys (implicitly converted to a tuple of keys) will be deprecated, use a list instead.\n",
      "  bootstrapped_upward = tmp.groupby(['#t(centisec)'])['ang_pos', 'dist', 'speed_diff', 'acc_diff', 'cc'].mean().reset_index()\n",
      "/var/folders/ng/l4j590g95vl5r33ctw59y6cr0000gn/T/ipykernel_26977/3673897783.py:12: FutureWarning: Indexing with multiple keys (implicitly converted to a tuple of keys) will be deprecated, use a list instead.\n",
      "  bootstrapped_upward = tmp.groupby(['#t(centisec)'])['ang_pos', 'dist', 'speed_diff', 'acc_diff', 'cc'].mean().reset_index()\n",
      "/var/folders/ng/l4j590g95vl5r33ctw59y6cr0000gn/T/ipykernel_26977/3673897783.py:12: FutureWarning: Indexing with multiple keys (implicitly converted to a tuple of keys) will be deprecated, use a list instead.\n",
      "  bootstrapped_upward = tmp.groupby(['#t(centisec)'])['ang_pos', 'dist', 'speed_diff', 'acc_diff', 'cc'].mean().reset_index()\n",
      "/var/folders/ng/l4j590g95vl5r33ctw59y6cr0000gn/T/ipykernel_26977/3673897783.py:12: FutureWarning: Indexing with multiple keys (implicitly converted to a tuple of keys) will be deprecated, use a list instead.\n",
      "  bootstrapped_upward = tmp.groupby(['#t(centisec)'])['ang_pos', 'dist', 'speed_diff', 'acc_diff', 'cc'].mean().reset_index()\n",
      "/var/folders/ng/l4j590g95vl5r33ctw59y6cr0000gn/T/ipykernel_26977/3673897783.py:12: FutureWarning: Indexing with multiple keys (implicitly converted to a tuple of keys) will be deprecated, use a list instead.\n",
      "  bootstrapped_upward = tmp.groupby(['#t(centisec)'])['ang_pos', 'dist', 'speed_diff', 'acc_diff', 'cc'].mean().reset_index()\n",
      "/var/folders/ng/l4j590g95vl5r33ctw59y6cr0000gn/T/ipykernel_26977/3673897783.py:12: FutureWarning: Indexing with multiple keys (implicitly converted to a tuple of keys) will be deprecated, use a list instead.\n",
      "  bootstrapped_upward = tmp.groupby(['#t(centisec)'])['ang_pos', 'dist', 'speed_diff', 'acc_diff', 'cc'].mean().reset_index()\n"
     ]
    },
    {
     "name": "stdout",
     "output_type": "stream",
     "text": [
      "670\n"
     ]
    },
    {
     "name": "stderr",
     "output_type": "stream",
     "text": [
      "/var/folders/ng/l4j590g95vl5r33ctw59y6cr0000gn/T/ipykernel_26977/3673897783.py:12: FutureWarning: Indexing with multiple keys (implicitly converted to a tuple of keys) will be deprecated, use a list instead.\n",
      "  bootstrapped_upward = tmp.groupby(['#t(centisec)'])['ang_pos', 'dist', 'speed_diff', 'acc_diff', 'cc'].mean().reset_index()\n",
      "/var/folders/ng/l4j590g95vl5r33ctw59y6cr0000gn/T/ipykernel_26977/3673897783.py:12: FutureWarning: Indexing with multiple keys (implicitly converted to a tuple of keys) will be deprecated, use a list instead.\n",
      "  bootstrapped_upward = tmp.groupby(['#t(centisec)'])['ang_pos', 'dist', 'speed_diff', 'acc_diff', 'cc'].mean().reset_index()\n",
      "/var/folders/ng/l4j590g95vl5r33ctw59y6cr0000gn/T/ipykernel_26977/3673897783.py:12: FutureWarning: Indexing with multiple keys (implicitly converted to a tuple of keys) will be deprecated, use a list instead.\n",
      "  bootstrapped_upward = tmp.groupby(['#t(centisec)'])['ang_pos', 'dist', 'speed_diff', 'acc_diff', 'cc'].mean().reset_index()\n",
      "/var/folders/ng/l4j590g95vl5r33ctw59y6cr0000gn/T/ipykernel_26977/3673897783.py:12: FutureWarning: Indexing with multiple keys (implicitly converted to a tuple of keys) will be deprecated, use a list instead.\n",
      "  bootstrapped_upward = tmp.groupby(['#t(centisec)'])['ang_pos', 'dist', 'speed_diff', 'acc_diff', 'cc'].mean().reset_index()\n",
      "/var/folders/ng/l4j590g95vl5r33ctw59y6cr0000gn/T/ipykernel_26977/3673897783.py:12: FutureWarning: Indexing with multiple keys (implicitly converted to a tuple of keys) will be deprecated, use a list instead.\n",
      "  bootstrapped_upward = tmp.groupby(['#t(centisec)'])['ang_pos', 'dist', 'speed_diff', 'acc_diff', 'cc'].mean().reset_index()\n",
      "/var/folders/ng/l4j590g95vl5r33ctw59y6cr0000gn/T/ipykernel_26977/3673897783.py:12: FutureWarning: Indexing with multiple keys (implicitly converted to a tuple of keys) will be deprecated, use a list instead.\n",
      "  bootstrapped_upward = tmp.groupby(['#t(centisec)'])['ang_pos', 'dist', 'speed_diff', 'acc_diff', 'cc'].mean().reset_index()\n",
      "/var/folders/ng/l4j590g95vl5r33ctw59y6cr0000gn/T/ipykernel_26977/3673897783.py:12: FutureWarning: Indexing with multiple keys (implicitly converted to a tuple of keys) will be deprecated, use a list instead.\n",
      "  bootstrapped_upward = tmp.groupby(['#t(centisec)'])['ang_pos', 'dist', 'speed_diff', 'acc_diff', 'cc'].mean().reset_index()\n",
      "/var/folders/ng/l4j590g95vl5r33ctw59y6cr0000gn/T/ipykernel_26977/3673897783.py:12: FutureWarning: Indexing with multiple keys (implicitly converted to a tuple of keys) will be deprecated, use a list instead.\n",
      "  bootstrapped_upward = tmp.groupby(['#t(centisec)'])['ang_pos', 'dist', 'speed_diff', 'acc_diff', 'cc'].mean().reset_index()\n",
      "/var/folders/ng/l4j590g95vl5r33ctw59y6cr0000gn/T/ipykernel_26977/3673897783.py:12: FutureWarning: Indexing with multiple keys (implicitly converted to a tuple of keys) will be deprecated, use a list instead.\n",
      "  bootstrapped_upward = tmp.groupby(['#t(centisec)'])['ang_pos', 'dist', 'speed_diff', 'acc_diff', 'cc'].mean().reset_index()\n",
      "/var/folders/ng/l4j590g95vl5r33ctw59y6cr0000gn/T/ipykernel_26977/3673897783.py:12: FutureWarning: Indexing with multiple keys (implicitly converted to a tuple of keys) will be deprecated, use a list instead.\n",
      "  bootstrapped_upward = tmp.groupby(['#t(centisec)'])['ang_pos', 'dist', 'speed_diff', 'acc_diff', 'cc'].mean().reset_index()\n"
     ]
    },
    {
     "name": "stdout",
     "output_type": "stream",
     "text": [
      "680\n"
     ]
    },
    {
     "name": "stderr",
     "output_type": "stream",
     "text": [
      "/var/folders/ng/l4j590g95vl5r33ctw59y6cr0000gn/T/ipykernel_26977/3673897783.py:12: FutureWarning: Indexing with multiple keys (implicitly converted to a tuple of keys) will be deprecated, use a list instead.\n",
      "  bootstrapped_upward = tmp.groupby(['#t(centisec)'])['ang_pos', 'dist', 'speed_diff', 'acc_diff', 'cc'].mean().reset_index()\n",
      "/var/folders/ng/l4j590g95vl5r33ctw59y6cr0000gn/T/ipykernel_26977/3673897783.py:12: FutureWarning: Indexing with multiple keys (implicitly converted to a tuple of keys) will be deprecated, use a list instead.\n",
      "  bootstrapped_upward = tmp.groupby(['#t(centisec)'])['ang_pos', 'dist', 'speed_diff', 'acc_diff', 'cc'].mean().reset_index()\n",
      "/var/folders/ng/l4j590g95vl5r33ctw59y6cr0000gn/T/ipykernel_26977/3673897783.py:12: FutureWarning: Indexing with multiple keys (implicitly converted to a tuple of keys) will be deprecated, use a list instead.\n",
      "  bootstrapped_upward = tmp.groupby(['#t(centisec)'])['ang_pos', 'dist', 'speed_diff', 'acc_diff', 'cc'].mean().reset_index()\n",
      "/var/folders/ng/l4j590g95vl5r33ctw59y6cr0000gn/T/ipykernel_26977/3673897783.py:12: FutureWarning: Indexing with multiple keys (implicitly converted to a tuple of keys) will be deprecated, use a list instead.\n",
      "  bootstrapped_upward = tmp.groupby(['#t(centisec)'])['ang_pos', 'dist', 'speed_diff', 'acc_diff', 'cc'].mean().reset_index()\n",
      "/var/folders/ng/l4j590g95vl5r33ctw59y6cr0000gn/T/ipykernel_26977/3673897783.py:12: FutureWarning: Indexing with multiple keys (implicitly converted to a tuple of keys) will be deprecated, use a list instead.\n",
      "  bootstrapped_upward = tmp.groupby(['#t(centisec)'])['ang_pos', 'dist', 'speed_diff', 'acc_diff', 'cc'].mean().reset_index()\n",
      "/var/folders/ng/l4j590g95vl5r33ctw59y6cr0000gn/T/ipykernel_26977/3673897783.py:12: FutureWarning: Indexing with multiple keys (implicitly converted to a tuple of keys) will be deprecated, use a list instead.\n",
      "  bootstrapped_upward = tmp.groupby(['#t(centisec)'])['ang_pos', 'dist', 'speed_diff', 'acc_diff', 'cc'].mean().reset_index()\n",
      "/var/folders/ng/l4j590g95vl5r33ctw59y6cr0000gn/T/ipykernel_26977/3673897783.py:12: FutureWarning: Indexing with multiple keys (implicitly converted to a tuple of keys) will be deprecated, use a list instead.\n",
      "  bootstrapped_upward = tmp.groupby(['#t(centisec)'])['ang_pos', 'dist', 'speed_diff', 'acc_diff', 'cc'].mean().reset_index()\n",
      "/var/folders/ng/l4j590g95vl5r33ctw59y6cr0000gn/T/ipykernel_26977/3673897783.py:12: FutureWarning: Indexing with multiple keys (implicitly converted to a tuple of keys) will be deprecated, use a list instead.\n",
      "  bootstrapped_upward = tmp.groupby(['#t(centisec)'])['ang_pos', 'dist', 'speed_diff', 'acc_diff', 'cc'].mean().reset_index()\n",
      "/var/folders/ng/l4j590g95vl5r33ctw59y6cr0000gn/T/ipykernel_26977/3673897783.py:12: FutureWarning: Indexing with multiple keys (implicitly converted to a tuple of keys) will be deprecated, use a list instead.\n",
      "  bootstrapped_upward = tmp.groupby(['#t(centisec)'])['ang_pos', 'dist', 'speed_diff', 'acc_diff', 'cc'].mean().reset_index()\n",
      "/var/folders/ng/l4j590g95vl5r33ctw59y6cr0000gn/T/ipykernel_26977/3673897783.py:12: FutureWarning: Indexing with multiple keys (implicitly converted to a tuple of keys) will be deprecated, use a list instead.\n",
      "  bootstrapped_upward = tmp.groupby(['#t(centisec)'])['ang_pos', 'dist', 'speed_diff', 'acc_diff', 'cc'].mean().reset_index()\n"
     ]
    },
    {
     "name": "stdout",
     "output_type": "stream",
     "text": [
      "690\n"
     ]
    },
    {
     "name": "stderr",
     "output_type": "stream",
     "text": [
      "/var/folders/ng/l4j590g95vl5r33ctw59y6cr0000gn/T/ipykernel_26977/3673897783.py:12: FutureWarning: Indexing with multiple keys (implicitly converted to a tuple of keys) will be deprecated, use a list instead.\n",
      "  bootstrapped_upward = tmp.groupby(['#t(centisec)'])['ang_pos', 'dist', 'speed_diff', 'acc_diff', 'cc'].mean().reset_index()\n",
      "/var/folders/ng/l4j590g95vl5r33ctw59y6cr0000gn/T/ipykernel_26977/3673897783.py:12: FutureWarning: Indexing with multiple keys (implicitly converted to a tuple of keys) will be deprecated, use a list instead.\n",
      "  bootstrapped_upward = tmp.groupby(['#t(centisec)'])['ang_pos', 'dist', 'speed_diff', 'acc_diff', 'cc'].mean().reset_index()\n",
      "/var/folders/ng/l4j590g95vl5r33ctw59y6cr0000gn/T/ipykernel_26977/3673897783.py:12: FutureWarning: Indexing with multiple keys (implicitly converted to a tuple of keys) will be deprecated, use a list instead.\n",
      "  bootstrapped_upward = tmp.groupby(['#t(centisec)'])['ang_pos', 'dist', 'speed_diff', 'acc_diff', 'cc'].mean().reset_index()\n",
      "/var/folders/ng/l4j590g95vl5r33ctw59y6cr0000gn/T/ipykernel_26977/3673897783.py:12: FutureWarning: Indexing with multiple keys (implicitly converted to a tuple of keys) will be deprecated, use a list instead.\n",
      "  bootstrapped_upward = tmp.groupby(['#t(centisec)'])['ang_pos', 'dist', 'speed_diff', 'acc_diff', 'cc'].mean().reset_index()\n",
      "/var/folders/ng/l4j590g95vl5r33ctw59y6cr0000gn/T/ipykernel_26977/3673897783.py:12: FutureWarning: Indexing with multiple keys (implicitly converted to a tuple of keys) will be deprecated, use a list instead.\n",
      "  bootstrapped_upward = tmp.groupby(['#t(centisec)'])['ang_pos', 'dist', 'speed_diff', 'acc_diff', 'cc'].mean().reset_index()\n",
      "/var/folders/ng/l4j590g95vl5r33ctw59y6cr0000gn/T/ipykernel_26977/3673897783.py:12: FutureWarning: Indexing with multiple keys (implicitly converted to a tuple of keys) will be deprecated, use a list instead.\n",
      "  bootstrapped_upward = tmp.groupby(['#t(centisec)'])['ang_pos', 'dist', 'speed_diff', 'acc_diff', 'cc'].mean().reset_index()\n",
      "/var/folders/ng/l4j590g95vl5r33ctw59y6cr0000gn/T/ipykernel_26977/3673897783.py:12: FutureWarning: Indexing with multiple keys (implicitly converted to a tuple of keys) will be deprecated, use a list instead.\n",
      "  bootstrapped_upward = tmp.groupby(['#t(centisec)'])['ang_pos', 'dist', 'speed_diff', 'acc_diff', 'cc'].mean().reset_index()\n",
      "/var/folders/ng/l4j590g95vl5r33ctw59y6cr0000gn/T/ipykernel_26977/3673897783.py:12: FutureWarning: Indexing with multiple keys (implicitly converted to a tuple of keys) will be deprecated, use a list instead.\n",
      "  bootstrapped_upward = tmp.groupby(['#t(centisec)'])['ang_pos', 'dist', 'speed_diff', 'acc_diff', 'cc'].mean().reset_index()\n",
      "/var/folders/ng/l4j590g95vl5r33ctw59y6cr0000gn/T/ipykernel_26977/3673897783.py:12: FutureWarning: Indexing with multiple keys (implicitly converted to a tuple of keys) will be deprecated, use a list instead.\n",
      "  bootstrapped_upward = tmp.groupby(['#t(centisec)'])['ang_pos', 'dist', 'speed_diff', 'acc_diff', 'cc'].mean().reset_index()\n",
      "/var/folders/ng/l4j590g95vl5r33ctw59y6cr0000gn/T/ipykernel_26977/3673897783.py:12: FutureWarning: Indexing with multiple keys (implicitly converted to a tuple of keys) will be deprecated, use a list instead.\n",
      "  bootstrapped_upward = tmp.groupby(['#t(centisec)'])['ang_pos', 'dist', 'speed_diff', 'acc_diff', 'cc'].mean().reset_index()\n"
     ]
    },
    {
     "name": "stdout",
     "output_type": "stream",
     "text": [
      "700\n"
     ]
    },
    {
     "name": "stderr",
     "output_type": "stream",
     "text": [
      "/var/folders/ng/l4j590g95vl5r33ctw59y6cr0000gn/T/ipykernel_26977/3673897783.py:12: FutureWarning: Indexing with multiple keys (implicitly converted to a tuple of keys) will be deprecated, use a list instead.\n",
      "  bootstrapped_upward = tmp.groupby(['#t(centisec)'])['ang_pos', 'dist', 'speed_diff', 'acc_diff', 'cc'].mean().reset_index()\n",
      "/var/folders/ng/l4j590g95vl5r33ctw59y6cr0000gn/T/ipykernel_26977/3673897783.py:12: FutureWarning: Indexing with multiple keys (implicitly converted to a tuple of keys) will be deprecated, use a list instead.\n",
      "  bootstrapped_upward = tmp.groupby(['#t(centisec)'])['ang_pos', 'dist', 'speed_diff', 'acc_diff', 'cc'].mean().reset_index()\n",
      "/var/folders/ng/l4j590g95vl5r33ctw59y6cr0000gn/T/ipykernel_26977/3673897783.py:12: FutureWarning: Indexing with multiple keys (implicitly converted to a tuple of keys) will be deprecated, use a list instead.\n",
      "  bootstrapped_upward = tmp.groupby(['#t(centisec)'])['ang_pos', 'dist', 'speed_diff', 'acc_diff', 'cc'].mean().reset_index()\n",
      "/var/folders/ng/l4j590g95vl5r33ctw59y6cr0000gn/T/ipykernel_26977/3673897783.py:12: FutureWarning: Indexing with multiple keys (implicitly converted to a tuple of keys) will be deprecated, use a list instead.\n",
      "  bootstrapped_upward = tmp.groupby(['#t(centisec)'])['ang_pos', 'dist', 'speed_diff', 'acc_diff', 'cc'].mean().reset_index()\n",
      "/var/folders/ng/l4j590g95vl5r33ctw59y6cr0000gn/T/ipykernel_26977/3673897783.py:12: FutureWarning: Indexing with multiple keys (implicitly converted to a tuple of keys) will be deprecated, use a list instead.\n",
      "  bootstrapped_upward = tmp.groupby(['#t(centisec)'])['ang_pos', 'dist', 'speed_diff', 'acc_diff', 'cc'].mean().reset_index()\n",
      "/var/folders/ng/l4j590g95vl5r33ctw59y6cr0000gn/T/ipykernel_26977/3673897783.py:12: FutureWarning: Indexing with multiple keys (implicitly converted to a tuple of keys) will be deprecated, use a list instead.\n",
      "  bootstrapped_upward = tmp.groupby(['#t(centisec)'])['ang_pos', 'dist', 'speed_diff', 'acc_diff', 'cc'].mean().reset_index()\n",
      "/var/folders/ng/l4j590g95vl5r33ctw59y6cr0000gn/T/ipykernel_26977/3673897783.py:12: FutureWarning: Indexing with multiple keys (implicitly converted to a tuple of keys) will be deprecated, use a list instead.\n",
      "  bootstrapped_upward = tmp.groupby(['#t(centisec)'])['ang_pos', 'dist', 'speed_diff', 'acc_diff', 'cc'].mean().reset_index()\n",
      "/var/folders/ng/l4j590g95vl5r33ctw59y6cr0000gn/T/ipykernel_26977/3673897783.py:12: FutureWarning: Indexing with multiple keys (implicitly converted to a tuple of keys) will be deprecated, use a list instead.\n",
      "  bootstrapped_upward = tmp.groupby(['#t(centisec)'])['ang_pos', 'dist', 'speed_diff', 'acc_diff', 'cc'].mean().reset_index()\n",
      "/var/folders/ng/l4j590g95vl5r33ctw59y6cr0000gn/T/ipykernel_26977/3673897783.py:12: FutureWarning: Indexing with multiple keys (implicitly converted to a tuple of keys) will be deprecated, use a list instead.\n",
      "  bootstrapped_upward = tmp.groupby(['#t(centisec)'])['ang_pos', 'dist', 'speed_diff', 'acc_diff', 'cc'].mean().reset_index()\n",
      "/var/folders/ng/l4j590g95vl5r33ctw59y6cr0000gn/T/ipykernel_26977/3673897783.py:12: FutureWarning: Indexing with multiple keys (implicitly converted to a tuple of keys) will be deprecated, use a list instead.\n",
      "  bootstrapped_upward = tmp.groupby(['#t(centisec)'])['ang_pos', 'dist', 'speed_diff', 'acc_diff', 'cc'].mean().reset_index()\n"
     ]
    },
    {
     "name": "stdout",
     "output_type": "stream",
     "text": [
      "710\n"
     ]
    },
    {
     "name": "stderr",
     "output_type": "stream",
     "text": [
      "/var/folders/ng/l4j590g95vl5r33ctw59y6cr0000gn/T/ipykernel_26977/3673897783.py:12: FutureWarning: Indexing with multiple keys (implicitly converted to a tuple of keys) will be deprecated, use a list instead.\n",
      "  bootstrapped_upward = tmp.groupby(['#t(centisec)'])['ang_pos', 'dist', 'speed_diff', 'acc_diff', 'cc'].mean().reset_index()\n",
      "/var/folders/ng/l4j590g95vl5r33ctw59y6cr0000gn/T/ipykernel_26977/3673897783.py:12: FutureWarning: Indexing with multiple keys (implicitly converted to a tuple of keys) will be deprecated, use a list instead.\n",
      "  bootstrapped_upward = tmp.groupby(['#t(centisec)'])['ang_pos', 'dist', 'speed_diff', 'acc_diff', 'cc'].mean().reset_index()\n",
      "/var/folders/ng/l4j590g95vl5r33ctw59y6cr0000gn/T/ipykernel_26977/3673897783.py:12: FutureWarning: Indexing with multiple keys (implicitly converted to a tuple of keys) will be deprecated, use a list instead.\n",
      "  bootstrapped_upward = tmp.groupby(['#t(centisec)'])['ang_pos', 'dist', 'speed_diff', 'acc_diff', 'cc'].mean().reset_index()\n",
      "/var/folders/ng/l4j590g95vl5r33ctw59y6cr0000gn/T/ipykernel_26977/3673897783.py:12: FutureWarning: Indexing with multiple keys (implicitly converted to a tuple of keys) will be deprecated, use a list instead.\n",
      "  bootstrapped_upward = tmp.groupby(['#t(centisec)'])['ang_pos', 'dist', 'speed_diff', 'acc_diff', 'cc'].mean().reset_index()\n",
      "/var/folders/ng/l4j590g95vl5r33ctw59y6cr0000gn/T/ipykernel_26977/3673897783.py:12: FutureWarning: Indexing with multiple keys (implicitly converted to a tuple of keys) will be deprecated, use a list instead.\n",
      "  bootstrapped_upward = tmp.groupby(['#t(centisec)'])['ang_pos', 'dist', 'speed_diff', 'acc_diff', 'cc'].mean().reset_index()\n",
      "/var/folders/ng/l4j590g95vl5r33ctw59y6cr0000gn/T/ipykernel_26977/3673897783.py:12: FutureWarning: Indexing with multiple keys (implicitly converted to a tuple of keys) will be deprecated, use a list instead.\n",
      "  bootstrapped_upward = tmp.groupby(['#t(centisec)'])['ang_pos', 'dist', 'speed_diff', 'acc_diff', 'cc'].mean().reset_index()\n",
      "/var/folders/ng/l4j590g95vl5r33ctw59y6cr0000gn/T/ipykernel_26977/3673897783.py:12: FutureWarning: Indexing with multiple keys (implicitly converted to a tuple of keys) will be deprecated, use a list instead.\n",
      "  bootstrapped_upward = tmp.groupby(['#t(centisec)'])['ang_pos', 'dist', 'speed_diff', 'acc_diff', 'cc'].mean().reset_index()\n",
      "/var/folders/ng/l4j590g95vl5r33ctw59y6cr0000gn/T/ipykernel_26977/3673897783.py:12: FutureWarning: Indexing with multiple keys (implicitly converted to a tuple of keys) will be deprecated, use a list instead.\n",
      "  bootstrapped_upward = tmp.groupby(['#t(centisec)'])['ang_pos', 'dist', 'speed_diff', 'acc_diff', 'cc'].mean().reset_index()\n",
      "/var/folders/ng/l4j590g95vl5r33ctw59y6cr0000gn/T/ipykernel_26977/3673897783.py:12: FutureWarning: Indexing with multiple keys (implicitly converted to a tuple of keys) will be deprecated, use a list instead.\n",
      "  bootstrapped_upward = tmp.groupby(['#t(centisec)'])['ang_pos', 'dist', 'speed_diff', 'acc_diff', 'cc'].mean().reset_index()\n",
      "/var/folders/ng/l4j590g95vl5r33ctw59y6cr0000gn/T/ipykernel_26977/3673897783.py:12: FutureWarning: Indexing with multiple keys (implicitly converted to a tuple of keys) will be deprecated, use a list instead.\n",
      "  bootstrapped_upward = tmp.groupby(['#t(centisec)'])['ang_pos', 'dist', 'speed_diff', 'acc_diff', 'cc'].mean().reset_index()\n"
     ]
    },
    {
     "name": "stdout",
     "output_type": "stream",
     "text": [
      "720\n"
     ]
    },
    {
     "name": "stderr",
     "output_type": "stream",
     "text": [
      "/var/folders/ng/l4j590g95vl5r33ctw59y6cr0000gn/T/ipykernel_26977/3673897783.py:12: FutureWarning: Indexing with multiple keys (implicitly converted to a tuple of keys) will be deprecated, use a list instead.\n",
      "  bootstrapped_upward = tmp.groupby(['#t(centisec)'])['ang_pos', 'dist', 'speed_diff', 'acc_diff', 'cc'].mean().reset_index()\n",
      "/var/folders/ng/l4j590g95vl5r33ctw59y6cr0000gn/T/ipykernel_26977/3673897783.py:12: FutureWarning: Indexing with multiple keys (implicitly converted to a tuple of keys) will be deprecated, use a list instead.\n",
      "  bootstrapped_upward = tmp.groupby(['#t(centisec)'])['ang_pos', 'dist', 'speed_diff', 'acc_diff', 'cc'].mean().reset_index()\n",
      "/var/folders/ng/l4j590g95vl5r33ctw59y6cr0000gn/T/ipykernel_26977/3673897783.py:12: FutureWarning: Indexing with multiple keys (implicitly converted to a tuple of keys) will be deprecated, use a list instead.\n",
      "  bootstrapped_upward = tmp.groupby(['#t(centisec)'])['ang_pos', 'dist', 'speed_diff', 'acc_diff', 'cc'].mean().reset_index()\n",
      "/var/folders/ng/l4j590g95vl5r33ctw59y6cr0000gn/T/ipykernel_26977/3673897783.py:12: FutureWarning: Indexing with multiple keys (implicitly converted to a tuple of keys) will be deprecated, use a list instead.\n",
      "  bootstrapped_upward = tmp.groupby(['#t(centisec)'])['ang_pos', 'dist', 'speed_diff', 'acc_diff', 'cc'].mean().reset_index()\n",
      "/var/folders/ng/l4j590g95vl5r33ctw59y6cr0000gn/T/ipykernel_26977/3673897783.py:12: FutureWarning: Indexing with multiple keys (implicitly converted to a tuple of keys) will be deprecated, use a list instead.\n",
      "  bootstrapped_upward = tmp.groupby(['#t(centisec)'])['ang_pos', 'dist', 'speed_diff', 'acc_diff', 'cc'].mean().reset_index()\n",
      "/var/folders/ng/l4j590g95vl5r33ctw59y6cr0000gn/T/ipykernel_26977/3673897783.py:12: FutureWarning: Indexing with multiple keys (implicitly converted to a tuple of keys) will be deprecated, use a list instead.\n",
      "  bootstrapped_upward = tmp.groupby(['#t(centisec)'])['ang_pos', 'dist', 'speed_diff', 'acc_diff', 'cc'].mean().reset_index()\n",
      "/var/folders/ng/l4j590g95vl5r33ctw59y6cr0000gn/T/ipykernel_26977/3673897783.py:12: FutureWarning: Indexing with multiple keys (implicitly converted to a tuple of keys) will be deprecated, use a list instead.\n",
      "  bootstrapped_upward = tmp.groupby(['#t(centisec)'])['ang_pos', 'dist', 'speed_diff', 'acc_diff', 'cc'].mean().reset_index()\n",
      "/var/folders/ng/l4j590g95vl5r33ctw59y6cr0000gn/T/ipykernel_26977/3673897783.py:12: FutureWarning: Indexing with multiple keys (implicitly converted to a tuple of keys) will be deprecated, use a list instead.\n",
      "  bootstrapped_upward = tmp.groupby(['#t(centisec)'])['ang_pos', 'dist', 'speed_diff', 'acc_diff', 'cc'].mean().reset_index()\n",
      "/var/folders/ng/l4j590g95vl5r33ctw59y6cr0000gn/T/ipykernel_26977/3673897783.py:12: FutureWarning: Indexing with multiple keys (implicitly converted to a tuple of keys) will be deprecated, use a list instead.\n",
      "  bootstrapped_upward = tmp.groupby(['#t(centisec)'])['ang_pos', 'dist', 'speed_diff', 'acc_diff', 'cc'].mean().reset_index()\n",
      "/var/folders/ng/l4j590g95vl5r33ctw59y6cr0000gn/T/ipykernel_26977/3673897783.py:12: FutureWarning: Indexing with multiple keys (implicitly converted to a tuple of keys) will be deprecated, use a list instead.\n",
      "  bootstrapped_upward = tmp.groupby(['#t(centisec)'])['ang_pos', 'dist', 'speed_diff', 'acc_diff', 'cc'].mean().reset_index()\n"
     ]
    },
    {
     "name": "stdout",
     "output_type": "stream",
     "text": [
      "730\n"
     ]
    },
    {
     "name": "stderr",
     "output_type": "stream",
     "text": [
      "/var/folders/ng/l4j590g95vl5r33ctw59y6cr0000gn/T/ipykernel_26977/3673897783.py:12: FutureWarning: Indexing with multiple keys (implicitly converted to a tuple of keys) will be deprecated, use a list instead.\n",
      "  bootstrapped_upward = tmp.groupby(['#t(centisec)'])['ang_pos', 'dist', 'speed_diff', 'acc_diff', 'cc'].mean().reset_index()\n",
      "/var/folders/ng/l4j590g95vl5r33ctw59y6cr0000gn/T/ipykernel_26977/3673897783.py:12: FutureWarning: Indexing with multiple keys (implicitly converted to a tuple of keys) will be deprecated, use a list instead.\n",
      "  bootstrapped_upward = tmp.groupby(['#t(centisec)'])['ang_pos', 'dist', 'speed_diff', 'acc_diff', 'cc'].mean().reset_index()\n",
      "/var/folders/ng/l4j590g95vl5r33ctw59y6cr0000gn/T/ipykernel_26977/3673897783.py:12: FutureWarning: Indexing with multiple keys (implicitly converted to a tuple of keys) will be deprecated, use a list instead.\n",
      "  bootstrapped_upward = tmp.groupby(['#t(centisec)'])['ang_pos', 'dist', 'speed_diff', 'acc_diff', 'cc'].mean().reset_index()\n",
      "/var/folders/ng/l4j590g95vl5r33ctw59y6cr0000gn/T/ipykernel_26977/3673897783.py:12: FutureWarning: Indexing with multiple keys (implicitly converted to a tuple of keys) will be deprecated, use a list instead.\n",
      "  bootstrapped_upward = tmp.groupby(['#t(centisec)'])['ang_pos', 'dist', 'speed_diff', 'acc_diff', 'cc'].mean().reset_index()\n",
      "/var/folders/ng/l4j590g95vl5r33ctw59y6cr0000gn/T/ipykernel_26977/3673897783.py:12: FutureWarning: Indexing with multiple keys (implicitly converted to a tuple of keys) will be deprecated, use a list instead.\n",
      "  bootstrapped_upward = tmp.groupby(['#t(centisec)'])['ang_pos', 'dist', 'speed_diff', 'acc_diff', 'cc'].mean().reset_index()\n",
      "/var/folders/ng/l4j590g95vl5r33ctw59y6cr0000gn/T/ipykernel_26977/3673897783.py:12: FutureWarning: Indexing with multiple keys (implicitly converted to a tuple of keys) will be deprecated, use a list instead.\n",
      "  bootstrapped_upward = tmp.groupby(['#t(centisec)'])['ang_pos', 'dist', 'speed_diff', 'acc_diff', 'cc'].mean().reset_index()\n",
      "/var/folders/ng/l4j590g95vl5r33ctw59y6cr0000gn/T/ipykernel_26977/3673897783.py:12: FutureWarning: Indexing with multiple keys (implicitly converted to a tuple of keys) will be deprecated, use a list instead.\n",
      "  bootstrapped_upward = tmp.groupby(['#t(centisec)'])['ang_pos', 'dist', 'speed_diff', 'acc_diff', 'cc'].mean().reset_index()\n",
      "/var/folders/ng/l4j590g95vl5r33ctw59y6cr0000gn/T/ipykernel_26977/3673897783.py:12: FutureWarning: Indexing with multiple keys (implicitly converted to a tuple of keys) will be deprecated, use a list instead.\n",
      "  bootstrapped_upward = tmp.groupby(['#t(centisec)'])['ang_pos', 'dist', 'speed_diff', 'acc_diff', 'cc'].mean().reset_index()\n",
      "/var/folders/ng/l4j590g95vl5r33ctw59y6cr0000gn/T/ipykernel_26977/3673897783.py:12: FutureWarning: Indexing with multiple keys (implicitly converted to a tuple of keys) will be deprecated, use a list instead.\n",
      "  bootstrapped_upward = tmp.groupby(['#t(centisec)'])['ang_pos', 'dist', 'speed_diff', 'acc_diff', 'cc'].mean().reset_index()\n",
      "/var/folders/ng/l4j590g95vl5r33ctw59y6cr0000gn/T/ipykernel_26977/3673897783.py:12: FutureWarning: Indexing with multiple keys (implicitly converted to a tuple of keys) will be deprecated, use a list instead.\n",
      "  bootstrapped_upward = tmp.groupby(['#t(centisec)'])['ang_pos', 'dist', 'speed_diff', 'acc_diff', 'cc'].mean().reset_index()\n"
     ]
    },
    {
     "name": "stdout",
     "output_type": "stream",
     "text": [
      "740\n"
     ]
    },
    {
     "name": "stderr",
     "output_type": "stream",
     "text": [
      "/var/folders/ng/l4j590g95vl5r33ctw59y6cr0000gn/T/ipykernel_26977/3673897783.py:12: FutureWarning: Indexing with multiple keys (implicitly converted to a tuple of keys) will be deprecated, use a list instead.\n",
      "  bootstrapped_upward = tmp.groupby(['#t(centisec)'])['ang_pos', 'dist', 'speed_diff', 'acc_diff', 'cc'].mean().reset_index()\n",
      "/var/folders/ng/l4j590g95vl5r33ctw59y6cr0000gn/T/ipykernel_26977/3673897783.py:12: FutureWarning: Indexing with multiple keys (implicitly converted to a tuple of keys) will be deprecated, use a list instead.\n",
      "  bootstrapped_upward = tmp.groupby(['#t(centisec)'])['ang_pos', 'dist', 'speed_diff', 'acc_diff', 'cc'].mean().reset_index()\n",
      "/var/folders/ng/l4j590g95vl5r33ctw59y6cr0000gn/T/ipykernel_26977/3673897783.py:12: FutureWarning: Indexing with multiple keys (implicitly converted to a tuple of keys) will be deprecated, use a list instead.\n",
      "  bootstrapped_upward = tmp.groupby(['#t(centisec)'])['ang_pos', 'dist', 'speed_diff', 'acc_diff', 'cc'].mean().reset_index()\n",
      "/var/folders/ng/l4j590g95vl5r33ctw59y6cr0000gn/T/ipykernel_26977/3673897783.py:12: FutureWarning: Indexing with multiple keys (implicitly converted to a tuple of keys) will be deprecated, use a list instead.\n",
      "  bootstrapped_upward = tmp.groupby(['#t(centisec)'])['ang_pos', 'dist', 'speed_diff', 'acc_diff', 'cc'].mean().reset_index()\n",
      "/var/folders/ng/l4j590g95vl5r33ctw59y6cr0000gn/T/ipykernel_26977/3673897783.py:12: FutureWarning: Indexing with multiple keys (implicitly converted to a tuple of keys) will be deprecated, use a list instead.\n",
      "  bootstrapped_upward = tmp.groupby(['#t(centisec)'])['ang_pos', 'dist', 'speed_diff', 'acc_diff', 'cc'].mean().reset_index()\n",
      "/var/folders/ng/l4j590g95vl5r33ctw59y6cr0000gn/T/ipykernel_26977/3673897783.py:12: FutureWarning: Indexing with multiple keys (implicitly converted to a tuple of keys) will be deprecated, use a list instead.\n",
      "  bootstrapped_upward = tmp.groupby(['#t(centisec)'])['ang_pos', 'dist', 'speed_diff', 'acc_diff', 'cc'].mean().reset_index()\n",
      "/var/folders/ng/l4j590g95vl5r33ctw59y6cr0000gn/T/ipykernel_26977/3673897783.py:12: FutureWarning: Indexing with multiple keys (implicitly converted to a tuple of keys) will be deprecated, use a list instead.\n",
      "  bootstrapped_upward = tmp.groupby(['#t(centisec)'])['ang_pos', 'dist', 'speed_diff', 'acc_diff', 'cc'].mean().reset_index()\n",
      "/var/folders/ng/l4j590g95vl5r33ctw59y6cr0000gn/T/ipykernel_26977/3673897783.py:12: FutureWarning: Indexing with multiple keys (implicitly converted to a tuple of keys) will be deprecated, use a list instead.\n",
      "  bootstrapped_upward = tmp.groupby(['#t(centisec)'])['ang_pos', 'dist', 'speed_diff', 'acc_diff', 'cc'].mean().reset_index()\n",
      "/var/folders/ng/l4j590g95vl5r33ctw59y6cr0000gn/T/ipykernel_26977/3673897783.py:12: FutureWarning: Indexing with multiple keys (implicitly converted to a tuple of keys) will be deprecated, use a list instead.\n",
      "  bootstrapped_upward = tmp.groupby(['#t(centisec)'])['ang_pos', 'dist', 'speed_diff', 'acc_diff', 'cc'].mean().reset_index()\n",
      "/var/folders/ng/l4j590g95vl5r33ctw59y6cr0000gn/T/ipykernel_26977/3673897783.py:12: FutureWarning: Indexing with multiple keys (implicitly converted to a tuple of keys) will be deprecated, use a list instead.\n",
      "  bootstrapped_upward = tmp.groupby(['#t(centisec)'])['ang_pos', 'dist', 'speed_diff', 'acc_diff', 'cc'].mean().reset_index()\n"
     ]
    },
    {
     "name": "stdout",
     "output_type": "stream",
     "text": [
      "750\n"
     ]
    },
    {
     "name": "stderr",
     "output_type": "stream",
     "text": [
      "/var/folders/ng/l4j590g95vl5r33ctw59y6cr0000gn/T/ipykernel_26977/3673897783.py:12: FutureWarning: Indexing with multiple keys (implicitly converted to a tuple of keys) will be deprecated, use a list instead.\n",
      "  bootstrapped_upward = tmp.groupby(['#t(centisec)'])['ang_pos', 'dist', 'speed_diff', 'acc_diff', 'cc'].mean().reset_index()\n",
      "/var/folders/ng/l4j590g95vl5r33ctw59y6cr0000gn/T/ipykernel_26977/3673897783.py:12: FutureWarning: Indexing with multiple keys (implicitly converted to a tuple of keys) will be deprecated, use a list instead.\n",
      "  bootstrapped_upward = tmp.groupby(['#t(centisec)'])['ang_pos', 'dist', 'speed_diff', 'acc_diff', 'cc'].mean().reset_index()\n",
      "/var/folders/ng/l4j590g95vl5r33ctw59y6cr0000gn/T/ipykernel_26977/3673897783.py:12: FutureWarning: Indexing with multiple keys (implicitly converted to a tuple of keys) will be deprecated, use a list instead.\n",
      "  bootstrapped_upward = tmp.groupby(['#t(centisec)'])['ang_pos', 'dist', 'speed_diff', 'acc_diff', 'cc'].mean().reset_index()\n",
      "/var/folders/ng/l4j590g95vl5r33ctw59y6cr0000gn/T/ipykernel_26977/3673897783.py:12: FutureWarning: Indexing with multiple keys (implicitly converted to a tuple of keys) will be deprecated, use a list instead.\n",
      "  bootstrapped_upward = tmp.groupby(['#t(centisec)'])['ang_pos', 'dist', 'speed_diff', 'acc_diff', 'cc'].mean().reset_index()\n",
      "/var/folders/ng/l4j590g95vl5r33ctw59y6cr0000gn/T/ipykernel_26977/3673897783.py:12: FutureWarning: Indexing with multiple keys (implicitly converted to a tuple of keys) will be deprecated, use a list instead.\n",
      "  bootstrapped_upward = tmp.groupby(['#t(centisec)'])['ang_pos', 'dist', 'speed_diff', 'acc_diff', 'cc'].mean().reset_index()\n",
      "/var/folders/ng/l4j590g95vl5r33ctw59y6cr0000gn/T/ipykernel_26977/3673897783.py:12: FutureWarning: Indexing with multiple keys (implicitly converted to a tuple of keys) will be deprecated, use a list instead.\n",
      "  bootstrapped_upward = tmp.groupby(['#t(centisec)'])['ang_pos', 'dist', 'speed_diff', 'acc_diff', 'cc'].mean().reset_index()\n",
      "/var/folders/ng/l4j590g95vl5r33ctw59y6cr0000gn/T/ipykernel_26977/3673897783.py:12: FutureWarning: Indexing with multiple keys (implicitly converted to a tuple of keys) will be deprecated, use a list instead.\n",
      "  bootstrapped_upward = tmp.groupby(['#t(centisec)'])['ang_pos', 'dist', 'speed_diff', 'acc_diff', 'cc'].mean().reset_index()\n",
      "/var/folders/ng/l4j590g95vl5r33ctw59y6cr0000gn/T/ipykernel_26977/3673897783.py:12: FutureWarning: Indexing with multiple keys (implicitly converted to a tuple of keys) will be deprecated, use a list instead.\n",
      "  bootstrapped_upward = tmp.groupby(['#t(centisec)'])['ang_pos', 'dist', 'speed_diff', 'acc_diff', 'cc'].mean().reset_index()\n",
      "/var/folders/ng/l4j590g95vl5r33ctw59y6cr0000gn/T/ipykernel_26977/3673897783.py:12: FutureWarning: Indexing with multiple keys (implicitly converted to a tuple of keys) will be deprecated, use a list instead.\n",
      "  bootstrapped_upward = tmp.groupby(['#t(centisec)'])['ang_pos', 'dist', 'speed_diff', 'acc_diff', 'cc'].mean().reset_index()\n",
      "/var/folders/ng/l4j590g95vl5r33ctw59y6cr0000gn/T/ipykernel_26977/3673897783.py:12: FutureWarning: Indexing with multiple keys (implicitly converted to a tuple of keys) will be deprecated, use a list instead.\n",
      "  bootstrapped_upward = tmp.groupby(['#t(centisec)'])['ang_pos', 'dist', 'speed_diff', 'acc_diff', 'cc'].mean().reset_index()\n"
     ]
    },
    {
     "name": "stdout",
     "output_type": "stream",
     "text": [
      "760\n"
     ]
    },
    {
     "name": "stderr",
     "output_type": "stream",
     "text": [
      "/var/folders/ng/l4j590g95vl5r33ctw59y6cr0000gn/T/ipykernel_26977/3673897783.py:12: FutureWarning: Indexing with multiple keys (implicitly converted to a tuple of keys) will be deprecated, use a list instead.\n",
      "  bootstrapped_upward = tmp.groupby(['#t(centisec)'])['ang_pos', 'dist', 'speed_diff', 'acc_diff', 'cc'].mean().reset_index()\n",
      "/var/folders/ng/l4j590g95vl5r33ctw59y6cr0000gn/T/ipykernel_26977/3673897783.py:12: FutureWarning: Indexing with multiple keys (implicitly converted to a tuple of keys) will be deprecated, use a list instead.\n",
      "  bootstrapped_upward = tmp.groupby(['#t(centisec)'])['ang_pos', 'dist', 'speed_diff', 'acc_diff', 'cc'].mean().reset_index()\n",
      "/var/folders/ng/l4j590g95vl5r33ctw59y6cr0000gn/T/ipykernel_26977/3673897783.py:12: FutureWarning: Indexing with multiple keys (implicitly converted to a tuple of keys) will be deprecated, use a list instead.\n",
      "  bootstrapped_upward = tmp.groupby(['#t(centisec)'])['ang_pos', 'dist', 'speed_diff', 'acc_diff', 'cc'].mean().reset_index()\n",
      "/var/folders/ng/l4j590g95vl5r33ctw59y6cr0000gn/T/ipykernel_26977/3673897783.py:12: FutureWarning: Indexing with multiple keys (implicitly converted to a tuple of keys) will be deprecated, use a list instead.\n",
      "  bootstrapped_upward = tmp.groupby(['#t(centisec)'])['ang_pos', 'dist', 'speed_diff', 'acc_diff', 'cc'].mean().reset_index()\n",
      "/var/folders/ng/l4j590g95vl5r33ctw59y6cr0000gn/T/ipykernel_26977/3673897783.py:12: FutureWarning: Indexing with multiple keys (implicitly converted to a tuple of keys) will be deprecated, use a list instead.\n",
      "  bootstrapped_upward = tmp.groupby(['#t(centisec)'])['ang_pos', 'dist', 'speed_diff', 'acc_diff', 'cc'].mean().reset_index()\n",
      "/var/folders/ng/l4j590g95vl5r33ctw59y6cr0000gn/T/ipykernel_26977/3673897783.py:12: FutureWarning: Indexing with multiple keys (implicitly converted to a tuple of keys) will be deprecated, use a list instead.\n",
      "  bootstrapped_upward = tmp.groupby(['#t(centisec)'])['ang_pos', 'dist', 'speed_diff', 'acc_diff', 'cc'].mean().reset_index()\n",
      "/var/folders/ng/l4j590g95vl5r33ctw59y6cr0000gn/T/ipykernel_26977/3673897783.py:12: FutureWarning: Indexing with multiple keys (implicitly converted to a tuple of keys) will be deprecated, use a list instead.\n",
      "  bootstrapped_upward = tmp.groupby(['#t(centisec)'])['ang_pos', 'dist', 'speed_diff', 'acc_diff', 'cc'].mean().reset_index()\n",
      "/var/folders/ng/l4j590g95vl5r33ctw59y6cr0000gn/T/ipykernel_26977/3673897783.py:12: FutureWarning: Indexing with multiple keys (implicitly converted to a tuple of keys) will be deprecated, use a list instead.\n",
      "  bootstrapped_upward = tmp.groupby(['#t(centisec)'])['ang_pos', 'dist', 'speed_diff', 'acc_diff', 'cc'].mean().reset_index()\n",
      "/var/folders/ng/l4j590g95vl5r33ctw59y6cr0000gn/T/ipykernel_26977/3673897783.py:12: FutureWarning: Indexing with multiple keys (implicitly converted to a tuple of keys) will be deprecated, use a list instead.\n",
      "  bootstrapped_upward = tmp.groupby(['#t(centisec)'])['ang_pos', 'dist', 'speed_diff', 'acc_diff', 'cc'].mean().reset_index()\n",
      "/var/folders/ng/l4j590g95vl5r33ctw59y6cr0000gn/T/ipykernel_26977/3673897783.py:12: FutureWarning: Indexing with multiple keys (implicitly converted to a tuple of keys) will be deprecated, use a list instead.\n",
      "  bootstrapped_upward = tmp.groupby(['#t(centisec)'])['ang_pos', 'dist', 'speed_diff', 'acc_diff', 'cc'].mean().reset_index()\n"
     ]
    },
    {
     "name": "stdout",
     "output_type": "stream",
     "text": [
      "770\n"
     ]
    },
    {
     "name": "stderr",
     "output_type": "stream",
     "text": [
      "/var/folders/ng/l4j590g95vl5r33ctw59y6cr0000gn/T/ipykernel_26977/3673897783.py:12: FutureWarning: Indexing with multiple keys (implicitly converted to a tuple of keys) will be deprecated, use a list instead.\n",
      "  bootstrapped_upward = tmp.groupby(['#t(centisec)'])['ang_pos', 'dist', 'speed_diff', 'acc_diff', 'cc'].mean().reset_index()\n",
      "/var/folders/ng/l4j590g95vl5r33ctw59y6cr0000gn/T/ipykernel_26977/3673897783.py:12: FutureWarning: Indexing with multiple keys (implicitly converted to a tuple of keys) will be deprecated, use a list instead.\n",
      "  bootstrapped_upward = tmp.groupby(['#t(centisec)'])['ang_pos', 'dist', 'speed_diff', 'acc_diff', 'cc'].mean().reset_index()\n",
      "/var/folders/ng/l4j590g95vl5r33ctw59y6cr0000gn/T/ipykernel_26977/3673897783.py:12: FutureWarning: Indexing with multiple keys (implicitly converted to a tuple of keys) will be deprecated, use a list instead.\n",
      "  bootstrapped_upward = tmp.groupby(['#t(centisec)'])['ang_pos', 'dist', 'speed_diff', 'acc_diff', 'cc'].mean().reset_index()\n",
      "/var/folders/ng/l4j590g95vl5r33ctw59y6cr0000gn/T/ipykernel_26977/3673897783.py:12: FutureWarning: Indexing with multiple keys (implicitly converted to a tuple of keys) will be deprecated, use a list instead.\n",
      "  bootstrapped_upward = tmp.groupby(['#t(centisec)'])['ang_pos', 'dist', 'speed_diff', 'acc_diff', 'cc'].mean().reset_index()\n",
      "/var/folders/ng/l4j590g95vl5r33ctw59y6cr0000gn/T/ipykernel_26977/3673897783.py:12: FutureWarning: Indexing with multiple keys (implicitly converted to a tuple of keys) will be deprecated, use a list instead.\n",
      "  bootstrapped_upward = tmp.groupby(['#t(centisec)'])['ang_pos', 'dist', 'speed_diff', 'acc_diff', 'cc'].mean().reset_index()\n",
      "/var/folders/ng/l4j590g95vl5r33ctw59y6cr0000gn/T/ipykernel_26977/3673897783.py:12: FutureWarning: Indexing with multiple keys (implicitly converted to a tuple of keys) will be deprecated, use a list instead.\n",
      "  bootstrapped_upward = tmp.groupby(['#t(centisec)'])['ang_pos', 'dist', 'speed_diff', 'acc_diff', 'cc'].mean().reset_index()\n",
      "/var/folders/ng/l4j590g95vl5r33ctw59y6cr0000gn/T/ipykernel_26977/3673897783.py:12: FutureWarning: Indexing with multiple keys (implicitly converted to a tuple of keys) will be deprecated, use a list instead.\n",
      "  bootstrapped_upward = tmp.groupby(['#t(centisec)'])['ang_pos', 'dist', 'speed_diff', 'acc_diff', 'cc'].mean().reset_index()\n",
      "/var/folders/ng/l4j590g95vl5r33ctw59y6cr0000gn/T/ipykernel_26977/3673897783.py:12: FutureWarning: Indexing with multiple keys (implicitly converted to a tuple of keys) will be deprecated, use a list instead.\n",
      "  bootstrapped_upward = tmp.groupby(['#t(centisec)'])['ang_pos', 'dist', 'speed_diff', 'acc_diff', 'cc'].mean().reset_index()\n",
      "/var/folders/ng/l4j590g95vl5r33ctw59y6cr0000gn/T/ipykernel_26977/3673897783.py:12: FutureWarning: Indexing with multiple keys (implicitly converted to a tuple of keys) will be deprecated, use a list instead.\n",
      "  bootstrapped_upward = tmp.groupby(['#t(centisec)'])['ang_pos', 'dist', 'speed_diff', 'acc_diff', 'cc'].mean().reset_index()\n",
      "/var/folders/ng/l4j590g95vl5r33ctw59y6cr0000gn/T/ipykernel_26977/3673897783.py:12: FutureWarning: Indexing with multiple keys (implicitly converted to a tuple of keys) will be deprecated, use a list instead.\n",
      "  bootstrapped_upward = tmp.groupby(['#t(centisec)'])['ang_pos', 'dist', 'speed_diff', 'acc_diff', 'cc'].mean().reset_index()\n"
     ]
    },
    {
     "name": "stdout",
     "output_type": "stream",
     "text": [
      "780\n"
     ]
    },
    {
     "name": "stderr",
     "output_type": "stream",
     "text": [
      "/var/folders/ng/l4j590g95vl5r33ctw59y6cr0000gn/T/ipykernel_26977/3673897783.py:12: FutureWarning: Indexing with multiple keys (implicitly converted to a tuple of keys) will be deprecated, use a list instead.\n",
      "  bootstrapped_upward = tmp.groupby(['#t(centisec)'])['ang_pos', 'dist', 'speed_diff', 'acc_diff', 'cc'].mean().reset_index()\n",
      "/var/folders/ng/l4j590g95vl5r33ctw59y6cr0000gn/T/ipykernel_26977/3673897783.py:12: FutureWarning: Indexing with multiple keys (implicitly converted to a tuple of keys) will be deprecated, use a list instead.\n",
      "  bootstrapped_upward = tmp.groupby(['#t(centisec)'])['ang_pos', 'dist', 'speed_diff', 'acc_diff', 'cc'].mean().reset_index()\n",
      "/var/folders/ng/l4j590g95vl5r33ctw59y6cr0000gn/T/ipykernel_26977/3673897783.py:12: FutureWarning: Indexing with multiple keys (implicitly converted to a tuple of keys) will be deprecated, use a list instead.\n",
      "  bootstrapped_upward = tmp.groupby(['#t(centisec)'])['ang_pos', 'dist', 'speed_diff', 'acc_diff', 'cc'].mean().reset_index()\n",
      "/var/folders/ng/l4j590g95vl5r33ctw59y6cr0000gn/T/ipykernel_26977/3673897783.py:12: FutureWarning: Indexing with multiple keys (implicitly converted to a tuple of keys) will be deprecated, use a list instead.\n",
      "  bootstrapped_upward = tmp.groupby(['#t(centisec)'])['ang_pos', 'dist', 'speed_diff', 'acc_diff', 'cc'].mean().reset_index()\n",
      "/var/folders/ng/l4j590g95vl5r33ctw59y6cr0000gn/T/ipykernel_26977/3673897783.py:12: FutureWarning: Indexing with multiple keys (implicitly converted to a tuple of keys) will be deprecated, use a list instead.\n",
      "  bootstrapped_upward = tmp.groupby(['#t(centisec)'])['ang_pos', 'dist', 'speed_diff', 'acc_diff', 'cc'].mean().reset_index()\n",
      "/var/folders/ng/l4j590g95vl5r33ctw59y6cr0000gn/T/ipykernel_26977/3673897783.py:12: FutureWarning: Indexing with multiple keys (implicitly converted to a tuple of keys) will be deprecated, use a list instead.\n",
      "  bootstrapped_upward = tmp.groupby(['#t(centisec)'])['ang_pos', 'dist', 'speed_diff', 'acc_diff', 'cc'].mean().reset_index()\n",
      "/var/folders/ng/l4j590g95vl5r33ctw59y6cr0000gn/T/ipykernel_26977/3673897783.py:12: FutureWarning: Indexing with multiple keys (implicitly converted to a tuple of keys) will be deprecated, use a list instead.\n",
      "  bootstrapped_upward = tmp.groupby(['#t(centisec)'])['ang_pos', 'dist', 'speed_diff', 'acc_diff', 'cc'].mean().reset_index()\n",
      "/var/folders/ng/l4j590g95vl5r33ctw59y6cr0000gn/T/ipykernel_26977/3673897783.py:12: FutureWarning: Indexing with multiple keys (implicitly converted to a tuple of keys) will be deprecated, use a list instead.\n",
      "  bootstrapped_upward = tmp.groupby(['#t(centisec)'])['ang_pos', 'dist', 'speed_diff', 'acc_diff', 'cc'].mean().reset_index()\n",
      "/var/folders/ng/l4j590g95vl5r33ctw59y6cr0000gn/T/ipykernel_26977/3673897783.py:12: FutureWarning: Indexing with multiple keys (implicitly converted to a tuple of keys) will be deprecated, use a list instead.\n",
      "  bootstrapped_upward = tmp.groupby(['#t(centisec)'])['ang_pos', 'dist', 'speed_diff', 'acc_diff', 'cc'].mean().reset_index()\n",
      "/var/folders/ng/l4j590g95vl5r33ctw59y6cr0000gn/T/ipykernel_26977/3673897783.py:12: FutureWarning: Indexing with multiple keys (implicitly converted to a tuple of keys) will be deprecated, use a list instead.\n",
      "  bootstrapped_upward = tmp.groupby(['#t(centisec)'])['ang_pos', 'dist', 'speed_diff', 'acc_diff', 'cc'].mean().reset_index()\n"
     ]
    },
    {
     "name": "stdout",
     "output_type": "stream",
     "text": [
      "790\n"
     ]
    },
    {
     "name": "stderr",
     "output_type": "stream",
     "text": [
      "/var/folders/ng/l4j590g95vl5r33ctw59y6cr0000gn/T/ipykernel_26977/3673897783.py:12: FutureWarning: Indexing with multiple keys (implicitly converted to a tuple of keys) will be deprecated, use a list instead.\n",
      "  bootstrapped_upward = tmp.groupby(['#t(centisec)'])['ang_pos', 'dist', 'speed_diff', 'acc_diff', 'cc'].mean().reset_index()\n",
      "/var/folders/ng/l4j590g95vl5r33ctw59y6cr0000gn/T/ipykernel_26977/3673897783.py:12: FutureWarning: Indexing with multiple keys (implicitly converted to a tuple of keys) will be deprecated, use a list instead.\n",
      "  bootstrapped_upward = tmp.groupby(['#t(centisec)'])['ang_pos', 'dist', 'speed_diff', 'acc_diff', 'cc'].mean().reset_index()\n",
      "/var/folders/ng/l4j590g95vl5r33ctw59y6cr0000gn/T/ipykernel_26977/3673897783.py:12: FutureWarning: Indexing with multiple keys (implicitly converted to a tuple of keys) will be deprecated, use a list instead.\n",
      "  bootstrapped_upward = tmp.groupby(['#t(centisec)'])['ang_pos', 'dist', 'speed_diff', 'acc_diff', 'cc'].mean().reset_index()\n",
      "/var/folders/ng/l4j590g95vl5r33ctw59y6cr0000gn/T/ipykernel_26977/3673897783.py:12: FutureWarning: Indexing with multiple keys (implicitly converted to a tuple of keys) will be deprecated, use a list instead.\n",
      "  bootstrapped_upward = tmp.groupby(['#t(centisec)'])['ang_pos', 'dist', 'speed_diff', 'acc_diff', 'cc'].mean().reset_index()\n",
      "/var/folders/ng/l4j590g95vl5r33ctw59y6cr0000gn/T/ipykernel_26977/3673897783.py:12: FutureWarning: Indexing with multiple keys (implicitly converted to a tuple of keys) will be deprecated, use a list instead.\n",
      "  bootstrapped_upward = tmp.groupby(['#t(centisec)'])['ang_pos', 'dist', 'speed_diff', 'acc_diff', 'cc'].mean().reset_index()\n",
      "/var/folders/ng/l4j590g95vl5r33ctw59y6cr0000gn/T/ipykernel_26977/3673897783.py:12: FutureWarning: Indexing with multiple keys (implicitly converted to a tuple of keys) will be deprecated, use a list instead.\n",
      "  bootstrapped_upward = tmp.groupby(['#t(centisec)'])['ang_pos', 'dist', 'speed_diff', 'acc_diff', 'cc'].mean().reset_index()\n",
      "/var/folders/ng/l4j590g95vl5r33ctw59y6cr0000gn/T/ipykernel_26977/3673897783.py:12: FutureWarning: Indexing with multiple keys (implicitly converted to a tuple of keys) will be deprecated, use a list instead.\n",
      "  bootstrapped_upward = tmp.groupby(['#t(centisec)'])['ang_pos', 'dist', 'speed_diff', 'acc_diff', 'cc'].mean().reset_index()\n",
      "/var/folders/ng/l4j590g95vl5r33ctw59y6cr0000gn/T/ipykernel_26977/3673897783.py:12: FutureWarning: Indexing with multiple keys (implicitly converted to a tuple of keys) will be deprecated, use a list instead.\n",
      "  bootstrapped_upward = tmp.groupby(['#t(centisec)'])['ang_pos', 'dist', 'speed_diff', 'acc_diff', 'cc'].mean().reset_index()\n",
      "/var/folders/ng/l4j590g95vl5r33ctw59y6cr0000gn/T/ipykernel_26977/3673897783.py:12: FutureWarning: Indexing with multiple keys (implicitly converted to a tuple of keys) will be deprecated, use a list instead.\n",
      "  bootstrapped_upward = tmp.groupby(['#t(centisec)'])['ang_pos', 'dist', 'speed_diff', 'acc_diff', 'cc'].mean().reset_index()\n",
      "/var/folders/ng/l4j590g95vl5r33ctw59y6cr0000gn/T/ipykernel_26977/3673897783.py:12: FutureWarning: Indexing with multiple keys (implicitly converted to a tuple of keys) will be deprecated, use a list instead.\n",
      "  bootstrapped_upward = tmp.groupby(['#t(centisec)'])['ang_pos', 'dist', 'speed_diff', 'acc_diff', 'cc'].mean().reset_index()\n"
     ]
    },
    {
     "name": "stdout",
     "output_type": "stream",
     "text": [
      "800\n"
     ]
    },
    {
     "name": "stderr",
     "output_type": "stream",
     "text": [
      "/var/folders/ng/l4j590g95vl5r33ctw59y6cr0000gn/T/ipykernel_26977/3673897783.py:12: FutureWarning: Indexing with multiple keys (implicitly converted to a tuple of keys) will be deprecated, use a list instead.\n",
      "  bootstrapped_upward = tmp.groupby(['#t(centisec)'])['ang_pos', 'dist', 'speed_diff', 'acc_diff', 'cc'].mean().reset_index()\n",
      "/var/folders/ng/l4j590g95vl5r33ctw59y6cr0000gn/T/ipykernel_26977/3673897783.py:12: FutureWarning: Indexing with multiple keys (implicitly converted to a tuple of keys) will be deprecated, use a list instead.\n",
      "  bootstrapped_upward = tmp.groupby(['#t(centisec)'])['ang_pos', 'dist', 'speed_diff', 'acc_diff', 'cc'].mean().reset_index()\n",
      "/var/folders/ng/l4j590g95vl5r33ctw59y6cr0000gn/T/ipykernel_26977/3673897783.py:12: FutureWarning: Indexing with multiple keys (implicitly converted to a tuple of keys) will be deprecated, use a list instead.\n",
      "  bootstrapped_upward = tmp.groupby(['#t(centisec)'])['ang_pos', 'dist', 'speed_diff', 'acc_diff', 'cc'].mean().reset_index()\n",
      "/var/folders/ng/l4j590g95vl5r33ctw59y6cr0000gn/T/ipykernel_26977/3673897783.py:12: FutureWarning: Indexing with multiple keys (implicitly converted to a tuple of keys) will be deprecated, use a list instead.\n",
      "  bootstrapped_upward = tmp.groupby(['#t(centisec)'])['ang_pos', 'dist', 'speed_diff', 'acc_diff', 'cc'].mean().reset_index()\n",
      "/var/folders/ng/l4j590g95vl5r33ctw59y6cr0000gn/T/ipykernel_26977/3673897783.py:12: FutureWarning: Indexing with multiple keys (implicitly converted to a tuple of keys) will be deprecated, use a list instead.\n",
      "  bootstrapped_upward = tmp.groupby(['#t(centisec)'])['ang_pos', 'dist', 'speed_diff', 'acc_diff', 'cc'].mean().reset_index()\n",
      "/var/folders/ng/l4j590g95vl5r33ctw59y6cr0000gn/T/ipykernel_26977/3673897783.py:12: FutureWarning: Indexing with multiple keys (implicitly converted to a tuple of keys) will be deprecated, use a list instead.\n",
      "  bootstrapped_upward = tmp.groupby(['#t(centisec)'])['ang_pos', 'dist', 'speed_diff', 'acc_diff', 'cc'].mean().reset_index()\n",
      "/var/folders/ng/l4j590g95vl5r33ctw59y6cr0000gn/T/ipykernel_26977/3673897783.py:12: FutureWarning: Indexing with multiple keys (implicitly converted to a tuple of keys) will be deprecated, use a list instead.\n",
      "  bootstrapped_upward = tmp.groupby(['#t(centisec)'])['ang_pos', 'dist', 'speed_diff', 'acc_diff', 'cc'].mean().reset_index()\n",
      "/var/folders/ng/l4j590g95vl5r33ctw59y6cr0000gn/T/ipykernel_26977/3673897783.py:12: FutureWarning: Indexing with multiple keys (implicitly converted to a tuple of keys) will be deprecated, use a list instead.\n",
      "  bootstrapped_upward = tmp.groupby(['#t(centisec)'])['ang_pos', 'dist', 'speed_diff', 'acc_diff', 'cc'].mean().reset_index()\n",
      "/var/folders/ng/l4j590g95vl5r33ctw59y6cr0000gn/T/ipykernel_26977/3673897783.py:12: FutureWarning: Indexing with multiple keys (implicitly converted to a tuple of keys) will be deprecated, use a list instead.\n",
      "  bootstrapped_upward = tmp.groupby(['#t(centisec)'])['ang_pos', 'dist', 'speed_diff', 'acc_diff', 'cc'].mean().reset_index()\n",
      "/var/folders/ng/l4j590g95vl5r33ctw59y6cr0000gn/T/ipykernel_26977/3673897783.py:12: FutureWarning: Indexing with multiple keys (implicitly converted to a tuple of keys) will be deprecated, use a list instead.\n",
      "  bootstrapped_upward = tmp.groupby(['#t(centisec)'])['ang_pos', 'dist', 'speed_diff', 'acc_diff', 'cc'].mean().reset_index()\n"
     ]
    },
    {
     "name": "stdout",
     "output_type": "stream",
     "text": [
      "810\n"
     ]
    },
    {
     "name": "stderr",
     "output_type": "stream",
     "text": [
      "/var/folders/ng/l4j590g95vl5r33ctw59y6cr0000gn/T/ipykernel_26977/3673897783.py:12: FutureWarning: Indexing with multiple keys (implicitly converted to a tuple of keys) will be deprecated, use a list instead.\n",
      "  bootstrapped_upward = tmp.groupby(['#t(centisec)'])['ang_pos', 'dist', 'speed_diff', 'acc_diff', 'cc'].mean().reset_index()\n",
      "/var/folders/ng/l4j590g95vl5r33ctw59y6cr0000gn/T/ipykernel_26977/3673897783.py:12: FutureWarning: Indexing with multiple keys (implicitly converted to a tuple of keys) will be deprecated, use a list instead.\n",
      "  bootstrapped_upward = tmp.groupby(['#t(centisec)'])['ang_pos', 'dist', 'speed_diff', 'acc_diff', 'cc'].mean().reset_index()\n",
      "/var/folders/ng/l4j590g95vl5r33ctw59y6cr0000gn/T/ipykernel_26977/3673897783.py:12: FutureWarning: Indexing with multiple keys (implicitly converted to a tuple of keys) will be deprecated, use a list instead.\n",
      "  bootstrapped_upward = tmp.groupby(['#t(centisec)'])['ang_pos', 'dist', 'speed_diff', 'acc_diff', 'cc'].mean().reset_index()\n",
      "/var/folders/ng/l4j590g95vl5r33ctw59y6cr0000gn/T/ipykernel_26977/3673897783.py:12: FutureWarning: Indexing with multiple keys (implicitly converted to a tuple of keys) will be deprecated, use a list instead.\n",
      "  bootstrapped_upward = tmp.groupby(['#t(centisec)'])['ang_pos', 'dist', 'speed_diff', 'acc_diff', 'cc'].mean().reset_index()\n",
      "/var/folders/ng/l4j590g95vl5r33ctw59y6cr0000gn/T/ipykernel_26977/3673897783.py:12: FutureWarning: Indexing with multiple keys (implicitly converted to a tuple of keys) will be deprecated, use a list instead.\n",
      "  bootstrapped_upward = tmp.groupby(['#t(centisec)'])['ang_pos', 'dist', 'speed_diff', 'acc_diff', 'cc'].mean().reset_index()\n",
      "/var/folders/ng/l4j590g95vl5r33ctw59y6cr0000gn/T/ipykernel_26977/3673897783.py:12: FutureWarning: Indexing with multiple keys (implicitly converted to a tuple of keys) will be deprecated, use a list instead.\n",
      "  bootstrapped_upward = tmp.groupby(['#t(centisec)'])['ang_pos', 'dist', 'speed_diff', 'acc_diff', 'cc'].mean().reset_index()\n",
      "/var/folders/ng/l4j590g95vl5r33ctw59y6cr0000gn/T/ipykernel_26977/3673897783.py:12: FutureWarning: Indexing with multiple keys (implicitly converted to a tuple of keys) will be deprecated, use a list instead.\n",
      "  bootstrapped_upward = tmp.groupby(['#t(centisec)'])['ang_pos', 'dist', 'speed_diff', 'acc_diff', 'cc'].mean().reset_index()\n",
      "/var/folders/ng/l4j590g95vl5r33ctw59y6cr0000gn/T/ipykernel_26977/3673897783.py:12: FutureWarning: Indexing with multiple keys (implicitly converted to a tuple of keys) will be deprecated, use a list instead.\n",
      "  bootstrapped_upward = tmp.groupby(['#t(centisec)'])['ang_pos', 'dist', 'speed_diff', 'acc_diff', 'cc'].mean().reset_index()\n",
      "/var/folders/ng/l4j590g95vl5r33ctw59y6cr0000gn/T/ipykernel_26977/3673897783.py:12: FutureWarning: Indexing with multiple keys (implicitly converted to a tuple of keys) will be deprecated, use a list instead.\n",
      "  bootstrapped_upward = tmp.groupby(['#t(centisec)'])['ang_pos', 'dist', 'speed_diff', 'acc_diff', 'cc'].mean().reset_index()\n",
      "/var/folders/ng/l4j590g95vl5r33ctw59y6cr0000gn/T/ipykernel_26977/3673897783.py:12: FutureWarning: Indexing with multiple keys (implicitly converted to a tuple of keys) will be deprecated, use a list instead.\n",
      "  bootstrapped_upward = tmp.groupby(['#t(centisec)'])['ang_pos', 'dist', 'speed_diff', 'acc_diff', 'cc'].mean().reset_index()\n"
     ]
    },
    {
     "name": "stdout",
     "output_type": "stream",
     "text": [
      "820\n"
     ]
    },
    {
     "name": "stderr",
     "output_type": "stream",
     "text": [
      "/var/folders/ng/l4j590g95vl5r33ctw59y6cr0000gn/T/ipykernel_26977/3673897783.py:12: FutureWarning: Indexing with multiple keys (implicitly converted to a tuple of keys) will be deprecated, use a list instead.\n",
      "  bootstrapped_upward = tmp.groupby(['#t(centisec)'])['ang_pos', 'dist', 'speed_diff', 'acc_diff', 'cc'].mean().reset_index()\n",
      "/var/folders/ng/l4j590g95vl5r33ctw59y6cr0000gn/T/ipykernel_26977/3673897783.py:12: FutureWarning: Indexing with multiple keys (implicitly converted to a tuple of keys) will be deprecated, use a list instead.\n",
      "  bootstrapped_upward = tmp.groupby(['#t(centisec)'])['ang_pos', 'dist', 'speed_diff', 'acc_diff', 'cc'].mean().reset_index()\n",
      "/var/folders/ng/l4j590g95vl5r33ctw59y6cr0000gn/T/ipykernel_26977/3673897783.py:12: FutureWarning: Indexing with multiple keys (implicitly converted to a tuple of keys) will be deprecated, use a list instead.\n",
      "  bootstrapped_upward = tmp.groupby(['#t(centisec)'])['ang_pos', 'dist', 'speed_diff', 'acc_diff', 'cc'].mean().reset_index()\n",
      "/var/folders/ng/l4j590g95vl5r33ctw59y6cr0000gn/T/ipykernel_26977/3673897783.py:12: FutureWarning: Indexing with multiple keys (implicitly converted to a tuple of keys) will be deprecated, use a list instead.\n",
      "  bootstrapped_upward = tmp.groupby(['#t(centisec)'])['ang_pos', 'dist', 'speed_diff', 'acc_diff', 'cc'].mean().reset_index()\n",
      "/var/folders/ng/l4j590g95vl5r33ctw59y6cr0000gn/T/ipykernel_26977/3673897783.py:12: FutureWarning: Indexing with multiple keys (implicitly converted to a tuple of keys) will be deprecated, use a list instead.\n",
      "  bootstrapped_upward = tmp.groupby(['#t(centisec)'])['ang_pos', 'dist', 'speed_diff', 'acc_diff', 'cc'].mean().reset_index()\n",
      "/var/folders/ng/l4j590g95vl5r33ctw59y6cr0000gn/T/ipykernel_26977/3673897783.py:12: FutureWarning: Indexing with multiple keys (implicitly converted to a tuple of keys) will be deprecated, use a list instead.\n",
      "  bootstrapped_upward = tmp.groupby(['#t(centisec)'])['ang_pos', 'dist', 'speed_diff', 'acc_diff', 'cc'].mean().reset_index()\n",
      "/var/folders/ng/l4j590g95vl5r33ctw59y6cr0000gn/T/ipykernel_26977/3673897783.py:12: FutureWarning: Indexing with multiple keys (implicitly converted to a tuple of keys) will be deprecated, use a list instead.\n",
      "  bootstrapped_upward = tmp.groupby(['#t(centisec)'])['ang_pos', 'dist', 'speed_diff', 'acc_diff', 'cc'].mean().reset_index()\n",
      "/var/folders/ng/l4j590g95vl5r33ctw59y6cr0000gn/T/ipykernel_26977/3673897783.py:12: FutureWarning: Indexing with multiple keys (implicitly converted to a tuple of keys) will be deprecated, use a list instead.\n",
      "  bootstrapped_upward = tmp.groupby(['#t(centisec)'])['ang_pos', 'dist', 'speed_diff', 'acc_diff', 'cc'].mean().reset_index()\n",
      "/var/folders/ng/l4j590g95vl5r33ctw59y6cr0000gn/T/ipykernel_26977/3673897783.py:12: FutureWarning: Indexing with multiple keys (implicitly converted to a tuple of keys) will be deprecated, use a list instead.\n",
      "  bootstrapped_upward = tmp.groupby(['#t(centisec)'])['ang_pos', 'dist', 'speed_diff', 'acc_diff', 'cc'].mean().reset_index()\n",
      "/var/folders/ng/l4j590g95vl5r33ctw59y6cr0000gn/T/ipykernel_26977/3673897783.py:12: FutureWarning: Indexing with multiple keys (implicitly converted to a tuple of keys) will be deprecated, use a list instead.\n",
      "  bootstrapped_upward = tmp.groupby(['#t(centisec)'])['ang_pos', 'dist', 'speed_diff', 'acc_diff', 'cc'].mean().reset_index()\n"
     ]
    },
    {
     "name": "stdout",
     "output_type": "stream",
     "text": [
      "830\n"
     ]
    },
    {
     "name": "stderr",
     "output_type": "stream",
     "text": [
      "/var/folders/ng/l4j590g95vl5r33ctw59y6cr0000gn/T/ipykernel_26977/3673897783.py:12: FutureWarning: Indexing with multiple keys (implicitly converted to a tuple of keys) will be deprecated, use a list instead.\n",
      "  bootstrapped_upward = tmp.groupby(['#t(centisec)'])['ang_pos', 'dist', 'speed_diff', 'acc_diff', 'cc'].mean().reset_index()\n",
      "/var/folders/ng/l4j590g95vl5r33ctw59y6cr0000gn/T/ipykernel_26977/3673897783.py:12: FutureWarning: Indexing with multiple keys (implicitly converted to a tuple of keys) will be deprecated, use a list instead.\n",
      "  bootstrapped_upward = tmp.groupby(['#t(centisec)'])['ang_pos', 'dist', 'speed_diff', 'acc_diff', 'cc'].mean().reset_index()\n",
      "/var/folders/ng/l4j590g95vl5r33ctw59y6cr0000gn/T/ipykernel_26977/3673897783.py:12: FutureWarning: Indexing with multiple keys (implicitly converted to a tuple of keys) will be deprecated, use a list instead.\n",
      "  bootstrapped_upward = tmp.groupby(['#t(centisec)'])['ang_pos', 'dist', 'speed_diff', 'acc_diff', 'cc'].mean().reset_index()\n",
      "/var/folders/ng/l4j590g95vl5r33ctw59y6cr0000gn/T/ipykernel_26977/3673897783.py:12: FutureWarning: Indexing with multiple keys (implicitly converted to a tuple of keys) will be deprecated, use a list instead.\n",
      "  bootstrapped_upward = tmp.groupby(['#t(centisec)'])['ang_pos', 'dist', 'speed_diff', 'acc_diff', 'cc'].mean().reset_index()\n",
      "/var/folders/ng/l4j590g95vl5r33ctw59y6cr0000gn/T/ipykernel_26977/3673897783.py:12: FutureWarning: Indexing with multiple keys (implicitly converted to a tuple of keys) will be deprecated, use a list instead.\n",
      "  bootstrapped_upward = tmp.groupby(['#t(centisec)'])['ang_pos', 'dist', 'speed_diff', 'acc_diff', 'cc'].mean().reset_index()\n",
      "/var/folders/ng/l4j590g95vl5r33ctw59y6cr0000gn/T/ipykernel_26977/3673897783.py:12: FutureWarning: Indexing with multiple keys (implicitly converted to a tuple of keys) will be deprecated, use a list instead.\n",
      "  bootstrapped_upward = tmp.groupby(['#t(centisec)'])['ang_pos', 'dist', 'speed_diff', 'acc_diff', 'cc'].mean().reset_index()\n",
      "/var/folders/ng/l4j590g95vl5r33ctw59y6cr0000gn/T/ipykernel_26977/3673897783.py:12: FutureWarning: Indexing with multiple keys (implicitly converted to a tuple of keys) will be deprecated, use a list instead.\n",
      "  bootstrapped_upward = tmp.groupby(['#t(centisec)'])['ang_pos', 'dist', 'speed_diff', 'acc_diff', 'cc'].mean().reset_index()\n",
      "/var/folders/ng/l4j590g95vl5r33ctw59y6cr0000gn/T/ipykernel_26977/3673897783.py:12: FutureWarning: Indexing with multiple keys (implicitly converted to a tuple of keys) will be deprecated, use a list instead.\n",
      "  bootstrapped_upward = tmp.groupby(['#t(centisec)'])['ang_pos', 'dist', 'speed_diff', 'acc_diff', 'cc'].mean().reset_index()\n",
      "/var/folders/ng/l4j590g95vl5r33ctw59y6cr0000gn/T/ipykernel_26977/3673897783.py:12: FutureWarning: Indexing with multiple keys (implicitly converted to a tuple of keys) will be deprecated, use a list instead.\n",
      "  bootstrapped_upward = tmp.groupby(['#t(centisec)'])['ang_pos', 'dist', 'speed_diff', 'acc_diff', 'cc'].mean().reset_index()\n",
      "/var/folders/ng/l4j590g95vl5r33ctw59y6cr0000gn/T/ipykernel_26977/3673897783.py:12: FutureWarning: Indexing with multiple keys (implicitly converted to a tuple of keys) will be deprecated, use a list instead.\n",
      "  bootstrapped_upward = tmp.groupby(['#t(centisec)'])['ang_pos', 'dist', 'speed_diff', 'acc_diff', 'cc'].mean().reset_index()\n"
     ]
    },
    {
     "name": "stdout",
     "output_type": "stream",
     "text": [
      "840\n"
     ]
    },
    {
     "name": "stderr",
     "output_type": "stream",
     "text": [
      "/var/folders/ng/l4j590g95vl5r33ctw59y6cr0000gn/T/ipykernel_26977/3673897783.py:12: FutureWarning: Indexing with multiple keys (implicitly converted to a tuple of keys) will be deprecated, use a list instead.\n",
      "  bootstrapped_upward = tmp.groupby(['#t(centisec)'])['ang_pos', 'dist', 'speed_diff', 'acc_diff', 'cc'].mean().reset_index()\n",
      "/var/folders/ng/l4j590g95vl5r33ctw59y6cr0000gn/T/ipykernel_26977/3673897783.py:12: FutureWarning: Indexing with multiple keys (implicitly converted to a tuple of keys) will be deprecated, use a list instead.\n",
      "  bootstrapped_upward = tmp.groupby(['#t(centisec)'])['ang_pos', 'dist', 'speed_diff', 'acc_diff', 'cc'].mean().reset_index()\n",
      "/var/folders/ng/l4j590g95vl5r33ctw59y6cr0000gn/T/ipykernel_26977/3673897783.py:12: FutureWarning: Indexing with multiple keys (implicitly converted to a tuple of keys) will be deprecated, use a list instead.\n",
      "  bootstrapped_upward = tmp.groupby(['#t(centisec)'])['ang_pos', 'dist', 'speed_diff', 'acc_diff', 'cc'].mean().reset_index()\n",
      "/var/folders/ng/l4j590g95vl5r33ctw59y6cr0000gn/T/ipykernel_26977/3673897783.py:12: FutureWarning: Indexing with multiple keys (implicitly converted to a tuple of keys) will be deprecated, use a list instead.\n",
      "  bootstrapped_upward = tmp.groupby(['#t(centisec)'])['ang_pos', 'dist', 'speed_diff', 'acc_diff', 'cc'].mean().reset_index()\n",
      "/var/folders/ng/l4j590g95vl5r33ctw59y6cr0000gn/T/ipykernel_26977/3673897783.py:12: FutureWarning: Indexing with multiple keys (implicitly converted to a tuple of keys) will be deprecated, use a list instead.\n",
      "  bootstrapped_upward = tmp.groupby(['#t(centisec)'])['ang_pos', 'dist', 'speed_diff', 'acc_diff', 'cc'].mean().reset_index()\n",
      "/var/folders/ng/l4j590g95vl5r33ctw59y6cr0000gn/T/ipykernel_26977/3673897783.py:12: FutureWarning: Indexing with multiple keys (implicitly converted to a tuple of keys) will be deprecated, use a list instead.\n",
      "  bootstrapped_upward = tmp.groupby(['#t(centisec)'])['ang_pos', 'dist', 'speed_diff', 'acc_diff', 'cc'].mean().reset_index()\n",
      "/var/folders/ng/l4j590g95vl5r33ctw59y6cr0000gn/T/ipykernel_26977/3673897783.py:12: FutureWarning: Indexing with multiple keys (implicitly converted to a tuple of keys) will be deprecated, use a list instead.\n",
      "  bootstrapped_upward = tmp.groupby(['#t(centisec)'])['ang_pos', 'dist', 'speed_diff', 'acc_diff', 'cc'].mean().reset_index()\n",
      "/var/folders/ng/l4j590g95vl5r33ctw59y6cr0000gn/T/ipykernel_26977/3673897783.py:12: FutureWarning: Indexing with multiple keys (implicitly converted to a tuple of keys) will be deprecated, use a list instead.\n",
      "  bootstrapped_upward = tmp.groupby(['#t(centisec)'])['ang_pos', 'dist', 'speed_diff', 'acc_diff', 'cc'].mean().reset_index()\n",
      "/var/folders/ng/l4j590g95vl5r33ctw59y6cr0000gn/T/ipykernel_26977/3673897783.py:12: FutureWarning: Indexing with multiple keys (implicitly converted to a tuple of keys) will be deprecated, use a list instead.\n",
      "  bootstrapped_upward = tmp.groupby(['#t(centisec)'])['ang_pos', 'dist', 'speed_diff', 'acc_diff', 'cc'].mean().reset_index()\n",
      "/var/folders/ng/l4j590g95vl5r33ctw59y6cr0000gn/T/ipykernel_26977/3673897783.py:12: FutureWarning: Indexing with multiple keys (implicitly converted to a tuple of keys) will be deprecated, use a list instead.\n",
      "  bootstrapped_upward = tmp.groupby(['#t(centisec)'])['ang_pos', 'dist', 'speed_diff', 'acc_diff', 'cc'].mean().reset_index()\n"
     ]
    },
    {
     "name": "stdout",
     "output_type": "stream",
     "text": [
      "850\n"
     ]
    },
    {
     "name": "stderr",
     "output_type": "stream",
     "text": [
      "/var/folders/ng/l4j590g95vl5r33ctw59y6cr0000gn/T/ipykernel_26977/3673897783.py:12: FutureWarning: Indexing with multiple keys (implicitly converted to a tuple of keys) will be deprecated, use a list instead.\n",
      "  bootstrapped_upward = tmp.groupby(['#t(centisec)'])['ang_pos', 'dist', 'speed_diff', 'acc_diff', 'cc'].mean().reset_index()\n",
      "/var/folders/ng/l4j590g95vl5r33ctw59y6cr0000gn/T/ipykernel_26977/3673897783.py:12: FutureWarning: Indexing with multiple keys (implicitly converted to a tuple of keys) will be deprecated, use a list instead.\n",
      "  bootstrapped_upward = tmp.groupby(['#t(centisec)'])['ang_pos', 'dist', 'speed_diff', 'acc_diff', 'cc'].mean().reset_index()\n",
      "/var/folders/ng/l4j590g95vl5r33ctw59y6cr0000gn/T/ipykernel_26977/3673897783.py:12: FutureWarning: Indexing with multiple keys (implicitly converted to a tuple of keys) will be deprecated, use a list instead.\n",
      "  bootstrapped_upward = tmp.groupby(['#t(centisec)'])['ang_pos', 'dist', 'speed_diff', 'acc_diff', 'cc'].mean().reset_index()\n",
      "/var/folders/ng/l4j590g95vl5r33ctw59y6cr0000gn/T/ipykernel_26977/3673897783.py:12: FutureWarning: Indexing with multiple keys (implicitly converted to a tuple of keys) will be deprecated, use a list instead.\n",
      "  bootstrapped_upward = tmp.groupby(['#t(centisec)'])['ang_pos', 'dist', 'speed_diff', 'acc_diff', 'cc'].mean().reset_index()\n",
      "/var/folders/ng/l4j590g95vl5r33ctw59y6cr0000gn/T/ipykernel_26977/3673897783.py:12: FutureWarning: Indexing with multiple keys (implicitly converted to a tuple of keys) will be deprecated, use a list instead.\n",
      "  bootstrapped_upward = tmp.groupby(['#t(centisec)'])['ang_pos', 'dist', 'speed_diff', 'acc_diff', 'cc'].mean().reset_index()\n",
      "/var/folders/ng/l4j590g95vl5r33ctw59y6cr0000gn/T/ipykernel_26977/3673897783.py:12: FutureWarning: Indexing with multiple keys (implicitly converted to a tuple of keys) will be deprecated, use a list instead.\n",
      "  bootstrapped_upward = tmp.groupby(['#t(centisec)'])['ang_pos', 'dist', 'speed_diff', 'acc_diff', 'cc'].mean().reset_index()\n",
      "/var/folders/ng/l4j590g95vl5r33ctw59y6cr0000gn/T/ipykernel_26977/3673897783.py:12: FutureWarning: Indexing with multiple keys (implicitly converted to a tuple of keys) will be deprecated, use a list instead.\n",
      "  bootstrapped_upward = tmp.groupby(['#t(centisec)'])['ang_pos', 'dist', 'speed_diff', 'acc_diff', 'cc'].mean().reset_index()\n",
      "/var/folders/ng/l4j590g95vl5r33ctw59y6cr0000gn/T/ipykernel_26977/3673897783.py:12: FutureWarning: Indexing with multiple keys (implicitly converted to a tuple of keys) will be deprecated, use a list instead.\n",
      "  bootstrapped_upward = tmp.groupby(['#t(centisec)'])['ang_pos', 'dist', 'speed_diff', 'acc_diff', 'cc'].mean().reset_index()\n",
      "/var/folders/ng/l4j590g95vl5r33ctw59y6cr0000gn/T/ipykernel_26977/3673897783.py:12: FutureWarning: Indexing with multiple keys (implicitly converted to a tuple of keys) will be deprecated, use a list instead.\n",
      "  bootstrapped_upward = tmp.groupby(['#t(centisec)'])['ang_pos', 'dist', 'speed_diff', 'acc_diff', 'cc'].mean().reset_index()\n",
      "/var/folders/ng/l4j590g95vl5r33ctw59y6cr0000gn/T/ipykernel_26977/3673897783.py:12: FutureWarning: Indexing with multiple keys (implicitly converted to a tuple of keys) will be deprecated, use a list instead.\n",
      "  bootstrapped_upward = tmp.groupby(['#t(centisec)'])['ang_pos', 'dist', 'speed_diff', 'acc_diff', 'cc'].mean().reset_index()\n"
     ]
    },
    {
     "name": "stdout",
     "output_type": "stream",
     "text": [
      "860\n"
     ]
    },
    {
     "name": "stderr",
     "output_type": "stream",
     "text": [
      "/var/folders/ng/l4j590g95vl5r33ctw59y6cr0000gn/T/ipykernel_26977/3673897783.py:12: FutureWarning: Indexing with multiple keys (implicitly converted to a tuple of keys) will be deprecated, use a list instead.\n",
      "  bootstrapped_upward = tmp.groupby(['#t(centisec)'])['ang_pos', 'dist', 'speed_diff', 'acc_diff', 'cc'].mean().reset_index()\n",
      "/var/folders/ng/l4j590g95vl5r33ctw59y6cr0000gn/T/ipykernel_26977/3673897783.py:12: FutureWarning: Indexing with multiple keys (implicitly converted to a tuple of keys) will be deprecated, use a list instead.\n",
      "  bootstrapped_upward = tmp.groupby(['#t(centisec)'])['ang_pos', 'dist', 'speed_diff', 'acc_diff', 'cc'].mean().reset_index()\n",
      "/var/folders/ng/l4j590g95vl5r33ctw59y6cr0000gn/T/ipykernel_26977/3673897783.py:12: FutureWarning: Indexing with multiple keys (implicitly converted to a tuple of keys) will be deprecated, use a list instead.\n",
      "  bootstrapped_upward = tmp.groupby(['#t(centisec)'])['ang_pos', 'dist', 'speed_diff', 'acc_diff', 'cc'].mean().reset_index()\n",
      "/var/folders/ng/l4j590g95vl5r33ctw59y6cr0000gn/T/ipykernel_26977/3673897783.py:12: FutureWarning: Indexing with multiple keys (implicitly converted to a tuple of keys) will be deprecated, use a list instead.\n",
      "  bootstrapped_upward = tmp.groupby(['#t(centisec)'])['ang_pos', 'dist', 'speed_diff', 'acc_diff', 'cc'].mean().reset_index()\n",
      "/var/folders/ng/l4j590g95vl5r33ctw59y6cr0000gn/T/ipykernel_26977/3673897783.py:12: FutureWarning: Indexing with multiple keys (implicitly converted to a tuple of keys) will be deprecated, use a list instead.\n",
      "  bootstrapped_upward = tmp.groupby(['#t(centisec)'])['ang_pos', 'dist', 'speed_diff', 'acc_diff', 'cc'].mean().reset_index()\n",
      "/var/folders/ng/l4j590g95vl5r33ctw59y6cr0000gn/T/ipykernel_26977/3673897783.py:12: FutureWarning: Indexing with multiple keys (implicitly converted to a tuple of keys) will be deprecated, use a list instead.\n",
      "  bootstrapped_upward = tmp.groupby(['#t(centisec)'])['ang_pos', 'dist', 'speed_diff', 'acc_diff', 'cc'].mean().reset_index()\n",
      "/var/folders/ng/l4j590g95vl5r33ctw59y6cr0000gn/T/ipykernel_26977/3673897783.py:12: FutureWarning: Indexing with multiple keys (implicitly converted to a tuple of keys) will be deprecated, use a list instead.\n",
      "  bootstrapped_upward = tmp.groupby(['#t(centisec)'])['ang_pos', 'dist', 'speed_diff', 'acc_diff', 'cc'].mean().reset_index()\n",
      "/var/folders/ng/l4j590g95vl5r33ctw59y6cr0000gn/T/ipykernel_26977/3673897783.py:12: FutureWarning: Indexing with multiple keys (implicitly converted to a tuple of keys) will be deprecated, use a list instead.\n",
      "  bootstrapped_upward = tmp.groupby(['#t(centisec)'])['ang_pos', 'dist', 'speed_diff', 'acc_diff', 'cc'].mean().reset_index()\n",
      "/var/folders/ng/l4j590g95vl5r33ctw59y6cr0000gn/T/ipykernel_26977/3673897783.py:12: FutureWarning: Indexing with multiple keys (implicitly converted to a tuple of keys) will be deprecated, use a list instead.\n",
      "  bootstrapped_upward = tmp.groupby(['#t(centisec)'])['ang_pos', 'dist', 'speed_diff', 'acc_diff', 'cc'].mean().reset_index()\n",
      "/var/folders/ng/l4j590g95vl5r33ctw59y6cr0000gn/T/ipykernel_26977/3673897783.py:12: FutureWarning: Indexing with multiple keys (implicitly converted to a tuple of keys) will be deprecated, use a list instead.\n",
      "  bootstrapped_upward = tmp.groupby(['#t(centisec)'])['ang_pos', 'dist', 'speed_diff', 'acc_diff', 'cc'].mean().reset_index()\n"
     ]
    },
    {
     "name": "stdout",
     "output_type": "stream",
     "text": [
      "870\n"
     ]
    },
    {
     "name": "stderr",
     "output_type": "stream",
     "text": [
      "/var/folders/ng/l4j590g95vl5r33ctw59y6cr0000gn/T/ipykernel_26977/3673897783.py:12: FutureWarning: Indexing with multiple keys (implicitly converted to a tuple of keys) will be deprecated, use a list instead.\n",
      "  bootstrapped_upward = tmp.groupby(['#t(centisec)'])['ang_pos', 'dist', 'speed_diff', 'acc_diff', 'cc'].mean().reset_index()\n",
      "/var/folders/ng/l4j590g95vl5r33ctw59y6cr0000gn/T/ipykernel_26977/3673897783.py:12: FutureWarning: Indexing with multiple keys (implicitly converted to a tuple of keys) will be deprecated, use a list instead.\n",
      "  bootstrapped_upward = tmp.groupby(['#t(centisec)'])['ang_pos', 'dist', 'speed_diff', 'acc_diff', 'cc'].mean().reset_index()\n",
      "/var/folders/ng/l4j590g95vl5r33ctw59y6cr0000gn/T/ipykernel_26977/3673897783.py:12: FutureWarning: Indexing with multiple keys (implicitly converted to a tuple of keys) will be deprecated, use a list instead.\n",
      "  bootstrapped_upward = tmp.groupby(['#t(centisec)'])['ang_pos', 'dist', 'speed_diff', 'acc_diff', 'cc'].mean().reset_index()\n",
      "/var/folders/ng/l4j590g95vl5r33ctw59y6cr0000gn/T/ipykernel_26977/3673897783.py:12: FutureWarning: Indexing with multiple keys (implicitly converted to a tuple of keys) will be deprecated, use a list instead.\n",
      "  bootstrapped_upward = tmp.groupby(['#t(centisec)'])['ang_pos', 'dist', 'speed_diff', 'acc_diff', 'cc'].mean().reset_index()\n",
      "/var/folders/ng/l4j590g95vl5r33ctw59y6cr0000gn/T/ipykernel_26977/3673897783.py:12: FutureWarning: Indexing with multiple keys (implicitly converted to a tuple of keys) will be deprecated, use a list instead.\n",
      "  bootstrapped_upward = tmp.groupby(['#t(centisec)'])['ang_pos', 'dist', 'speed_diff', 'acc_diff', 'cc'].mean().reset_index()\n",
      "/var/folders/ng/l4j590g95vl5r33ctw59y6cr0000gn/T/ipykernel_26977/3673897783.py:12: FutureWarning: Indexing with multiple keys (implicitly converted to a tuple of keys) will be deprecated, use a list instead.\n",
      "  bootstrapped_upward = tmp.groupby(['#t(centisec)'])['ang_pos', 'dist', 'speed_diff', 'acc_diff', 'cc'].mean().reset_index()\n",
      "/var/folders/ng/l4j590g95vl5r33ctw59y6cr0000gn/T/ipykernel_26977/3673897783.py:12: FutureWarning: Indexing with multiple keys (implicitly converted to a tuple of keys) will be deprecated, use a list instead.\n",
      "  bootstrapped_upward = tmp.groupby(['#t(centisec)'])['ang_pos', 'dist', 'speed_diff', 'acc_diff', 'cc'].mean().reset_index()\n",
      "/var/folders/ng/l4j590g95vl5r33ctw59y6cr0000gn/T/ipykernel_26977/3673897783.py:12: FutureWarning: Indexing with multiple keys (implicitly converted to a tuple of keys) will be deprecated, use a list instead.\n",
      "  bootstrapped_upward = tmp.groupby(['#t(centisec)'])['ang_pos', 'dist', 'speed_diff', 'acc_diff', 'cc'].mean().reset_index()\n",
      "/var/folders/ng/l4j590g95vl5r33ctw59y6cr0000gn/T/ipykernel_26977/3673897783.py:12: FutureWarning: Indexing with multiple keys (implicitly converted to a tuple of keys) will be deprecated, use a list instead.\n",
      "  bootstrapped_upward = tmp.groupby(['#t(centisec)'])['ang_pos', 'dist', 'speed_diff', 'acc_diff', 'cc'].mean().reset_index()\n",
      "/var/folders/ng/l4j590g95vl5r33ctw59y6cr0000gn/T/ipykernel_26977/3673897783.py:12: FutureWarning: Indexing with multiple keys (implicitly converted to a tuple of keys) will be deprecated, use a list instead.\n",
      "  bootstrapped_upward = tmp.groupby(['#t(centisec)'])['ang_pos', 'dist', 'speed_diff', 'acc_diff', 'cc'].mean().reset_index()\n"
     ]
    },
    {
     "name": "stdout",
     "output_type": "stream",
     "text": [
      "880\n"
     ]
    },
    {
     "name": "stderr",
     "output_type": "stream",
     "text": [
      "/var/folders/ng/l4j590g95vl5r33ctw59y6cr0000gn/T/ipykernel_26977/3673897783.py:12: FutureWarning: Indexing with multiple keys (implicitly converted to a tuple of keys) will be deprecated, use a list instead.\n",
      "  bootstrapped_upward = tmp.groupby(['#t(centisec)'])['ang_pos', 'dist', 'speed_diff', 'acc_diff', 'cc'].mean().reset_index()\n",
      "/var/folders/ng/l4j590g95vl5r33ctw59y6cr0000gn/T/ipykernel_26977/3673897783.py:12: FutureWarning: Indexing with multiple keys (implicitly converted to a tuple of keys) will be deprecated, use a list instead.\n",
      "  bootstrapped_upward = tmp.groupby(['#t(centisec)'])['ang_pos', 'dist', 'speed_diff', 'acc_diff', 'cc'].mean().reset_index()\n",
      "/var/folders/ng/l4j590g95vl5r33ctw59y6cr0000gn/T/ipykernel_26977/3673897783.py:12: FutureWarning: Indexing with multiple keys (implicitly converted to a tuple of keys) will be deprecated, use a list instead.\n",
      "  bootstrapped_upward = tmp.groupby(['#t(centisec)'])['ang_pos', 'dist', 'speed_diff', 'acc_diff', 'cc'].mean().reset_index()\n",
      "/var/folders/ng/l4j590g95vl5r33ctw59y6cr0000gn/T/ipykernel_26977/3673897783.py:12: FutureWarning: Indexing with multiple keys (implicitly converted to a tuple of keys) will be deprecated, use a list instead.\n",
      "  bootstrapped_upward = tmp.groupby(['#t(centisec)'])['ang_pos', 'dist', 'speed_diff', 'acc_diff', 'cc'].mean().reset_index()\n",
      "/var/folders/ng/l4j590g95vl5r33ctw59y6cr0000gn/T/ipykernel_26977/3673897783.py:12: FutureWarning: Indexing with multiple keys (implicitly converted to a tuple of keys) will be deprecated, use a list instead.\n",
      "  bootstrapped_upward = tmp.groupby(['#t(centisec)'])['ang_pos', 'dist', 'speed_diff', 'acc_diff', 'cc'].mean().reset_index()\n",
      "/var/folders/ng/l4j590g95vl5r33ctw59y6cr0000gn/T/ipykernel_26977/3673897783.py:12: FutureWarning: Indexing with multiple keys (implicitly converted to a tuple of keys) will be deprecated, use a list instead.\n",
      "  bootstrapped_upward = tmp.groupby(['#t(centisec)'])['ang_pos', 'dist', 'speed_diff', 'acc_diff', 'cc'].mean().reset_index()\n",
      "/var/folders/ng/l4j590g95vl5r33ctw59y6cr0000gn/T/ipykernel_26977/3673897783.py:12: FutureWarning: Indexing with multiple keys (implicitly converted to a tuple of keys) will be deprecated, use a list instead.\n",
      "  bootstrapped_upward = tmp.groupby(['#t(centisec)'])['ang_pos', 'dist', 'speed_diff', 'acc_diff', 'cc'].mean().reset_index()\n",
      "/var/folders/ng/l4j590g95vl5r33ctw59y6cr0000gn/T/ipykernel_26977/3673897783.py:12: FutureWarning: Indexing with multiple keys (implicitly converted to a tuple of keys) will be deprecated, use a list instead.\n",
      "  bootstrapped_upward = tmp.groupby(['#t(centisec)'])['ang_pos', 'dist', 'speed_diff', 'acc_diff', 'cc'].mean().reset_index()\n",
      "/var/folders/ng/l4j590g95vl5r33ctw59y6cr0000gn/T/ipykernel_26977/3673897783.py:12: FutureWarning: Indexing with multiple keys (implicitly converted to a tuple of keys) will be deprecated, use a list instead.\n",
      "  bootstrapped_upward = tmp.groupby(['#t(centisec)'])['ang_pos', 'dist', 'speed_diff', 'acc_diff', 'cc'].mean().reset_index()\n",
      "/var/folders/ng/l4j590g95vl5r33ctw59y6cr0000gn/T/ipykernel_26977/3673897783.py:12: FutureWarning: Indexing with multiple keys (implicitly converted to a tuple of keys) will be deprecated, use a list instead.\n",
      "  bootstrapped_upward = tmp.groupby(['#t(centisec)'])['ang_pos', 'dist', 'speed_diff', 'acc_diff', 'cc'].mean().reset_index()\n"
     ]
    },
    {
     "name": "stdout",
     "output_type": "stream",
     "text": [
      "890\n"
     ]
    },
    {
     "name": "stderr",
     "output_type": "stream",
     "text": [
      "/var/folders/ng/l4j590g95vl5r33ctw59y6cr0000gn/T/ipykernel_26977/3673897783.py:12: FutureWarning: Indexing with multiple keys (implicitly converted to a tuple of keys) will be deprecated, use a list instead.\n",
      "  bootstrapped_upward = tmp.groupby(['#t(centisec)'])['ang_pos', 'dist', 'speed_diff', 'acc_diff', 'cc'].mean().reset_index()\n",
      "/var/folders/ng/l4j590g95vl5r33ctw59y6cr0000gn/T/ipykernel_26977/3673897783.py:12: FutureWarning: Indexing with multiple keys (implicitly converted to a tuple of keys) will be deprecated, use a list instead.\n",
      "  bootstrapped_upward = tmp.groupby(['#t(centisec)'])['ang_pos', 'dist', 'speed_diff', 'acc_diff', 'cc'].mean().reset_index()\n",
      "/var/folders/ng/l4j590g95vl5r33ctw59y6cr0000gn/T/ipykernel_26977/3673897783.py:12: FutureWarning: Indexing with multiple keys (implicitly converted to a tuple of keys) will be deprecated, use a list instead.\n",
      "  bootstrapped_upward = tmp.groupby(['#t(centisec)'])['ang_pos', 'dist', 'speed_diff', 'acc_diff', 'cc'].mean().reset_index()\n",
      "/var/folders/ng/l4j590g95vl5r33ctw59y6cr0000gn/T/ipykernel_26977/3673897783.py:12: FutureWarning: Indexing with multiple keys (implicitly converted to a tuple of keys) will be deprecated, use a list instead.\n",
      "  bootstrapped_upward = tmp.groupby(['#t(centisec)'])['ang_pos', 'dist', 'speed_diff', 'acc_diff', 'cc'].mean().reset_index()\n",
      "/var/folders/ng/l4j590g95vl5r33ctw59y6cr0000gn/T/ipykernel_26977/3673897783.py:12: FutureWarning: Indexing with multiple keys (implicitly converted to a tuple of keys) will be deprecated, use a list instead.\n",
      "  bootstrapped_upward = tmp.groupby(['#t(centisec)'])['ang_pos', 'dist', 'speed_diff', 'acc_diff', 'cc'].mean().reset_index()\n",
      "/var/folders/ng/l4j590g95vl5r33ctw59y6cr0000gn/T/ipykernel_26977/3673897783.py:12: FutureWarning: Indexing with multiple keys (implicitly converted to a tuple of keys) will be deprecated, use a list instead.\n",
      "  bootstrapped_upward = tmp.groupby(['#t(centisec)'])['ang_pos', 'dist', 'speed_diff', 'acc_diff', 'cc'].mean().reset_index()\n",
      "/var/folders/ng/l4j590g95vl5r33ctw59y6cr0000gn/T/ipykernel_26977/3673897783.py:12: FutureWarning: Indexing with multiple keys (implicitly converted to a tuple of keys) will be deprecated, use a list instead.\n",
      "  bootstrapped_upward = tmp.groupby(['#t(centisec)'])['ang_pos', 'dist', 'speed_diff', 'acc_diff', 'cc'].mean().reset_index()\n",
      "/var/folders/ng/l4j590g95vl5r33ctw59y6cr0000gn/T/ipykernel_26977/3673897783.py:12: FutureWarning: Indexing with multiple keys (implicitly converted to a tuple of keys) will be deprecated, use a list instead.\n",
      "  bootstrapped_upward = tmp.groupby(['#t(centisec)'])['ang_pos', 'dist', 'speed_diff', 'acc_diff', 'cc'].mean().reset_index()\n",
      "/var/folders/ng/l4j590g95vl5r33ctw59y6cr0000gn/T/ipykernel_26977/3673897783.py:12: FutureWarning: Indexing with multiple keys (implicitly converted to a tuple of keys) will be deprecated, use a list instead.\n",
      "  bootstrapped_upward = tmp.groupby(['#t(centisec)'])['ang_pos', 'dist', 'speed_diff', 'acc_diff', 'cc'].mean().reset_index()\n",
      "/var/folders/ng/l4j590g95vl5r33ctw59y6cr0000gn/T/ipykernel_26977/3673897783.py:12: FutureWarning: Indexing with multiple keys (implicitly converted to a tuple of keys) will be deprecated, use a list instead.\n",
      "  bootstrapped_upward = tmp.groupby(['#t(centisec)'])['ang_pos', 'dist', 'speed_diff', 'acc_diff', 'cc'].mean().reset_index()\n"
     ]
    },
    {
     "name": "stdout",
     "output_type": "stream",
     "text": [
      "900\n"
     ]
    },
    {
     "name": "stderr",
     "output_type": "stream",
     "text": [
      "/var/folders/ng/l4j590g95vl5r33ctw59y6cr0000gn/T/ipykernel_26977/3673897783.py:12: FutureWarning: Indexing with multiple keys (implicitly converted to a tuple of keys) will be deprecated, use a list instead.\n",
      "  bootstrapped_upward = tmp.groupby(['#t(centisec)'])['ang_pos', 'dist', 'speed_diff', 'acc_diff', 'cc'].mean().reset_index()\n",
      "/var/folders/ng/l4j590g95vl5r33ctw59y6cr0000gn/T/ipykernel_26977/3673897783.py:12: FutureWarning: Indexing with multiple keys (implicitly converted to a tuple of keys) will be deprecated, use a list instead.\n",
      "  bootstrapped_upward = tmp.groupby(['#t(centisec)'])['ang_pos', 'dist', 'speed_diff', 'acc_diff', 'cc'].mean().reset_index()\n",
      "/var/folders/ng/l4j590g95vl5r33ctw59y6cr0000gn/T/ipykernel_26977/3673897783.py:12: FutureWarning: Indexing with multiple keys (implicitly converted to a tuple of keys) will be deprecated, use a list instead.\n",
      "  bootstrapped_upward = tmp.groupby(['#t(centisec)'])['ang_pos', 'dist', 'speed_diff', 'acc_diff', 'cc'].mean().reset_index()\n",
      "/var/folders/ng/l4j590g95vl5r33ctw59y6cr0000gn/T/ipykernel_26977/3673897783.py:12: FutureWarning: Indexing with multiple keys (implicitly converted to a tuple of keys) will be deprecated, use a list instead.\n",
      "  bootstrapped_upward = tmp.groupby(['#t(centisec)'])['ang_pos', 'dist', 'speed_diff', 'acc_diff', 'cc'].mean().reset_index()\n",
      "/var/folders/ng/l4j590g95vl5r33ctw59y6cr0000gn/T/ipykernel_26977/3673897783.py:12: FutureWarning: Indexing with multiple keys (implicitly converted to a tuple of keys) will be deprecated, use a list instead.\n",
      "  bootstrapped_upward = tmp.groupby(['#t(centisec)'])['ang_pos', 'dist', 'speed_diff', 'acc_diff', 'cc'].mean().reset_index()\n",
      "/var/folders/ng/l4j590g95vl5r33ctw59y6cr0000gn/T/ipykernel_26977/3673897783.py:12: FutureWarning: Indexing with multiple keys (implicitly converted to a tuple of keys) will be deprecated, use a list instead.\n",
      "  bootstrapped_upward = tmp.groupby(['#t(centisec)'])['ang_pos', 'dist', 'speed_diff', 'acc_diff', 'cc'].mean().reset_index()\n",
      "/var/folders/ng/l4j590g95vl5r33ctw59y6cr0000gn/T/ipykernel_26977/3673897783.py:12: FutureWarning: Indexing with multiple keys (implicitly converted to a tuple of keys) will be deprecated, use a list instead.\n",
      "  bootstrapped_upward = tmp.groupby(['#t(centisec)'])['ang_pos', 'dist', 'speed_diff', 'acc_diff', 'cc'].mean().reset_index()\n",
      "/var/folders/ng/l4j590g95vl5r33ctw59y6cr0000gn/T/ipykernel_26977/3673897783.py:12: FutureWarning: Indexing with multiple keys (implicitly converted to a tuple of keys) will be deprecated, use a list instead.\n",
      "  bootstrapped_upward = tmp.groupby(['#t(centisec)'])['ang_pos', 'dist', 'speed_diff', 'acc_diff', 'cc'].mean().reset_index()\n",
      "/var/folders/ng/l4j590g95vl5r33ctw59y6cr0000gn/T/ipykernel_26977/3673897783.py:12: FutureWarning: Indexing with multiple keys (implicitly converted to a tuple of keys) will be deprecated, use a list instead.\n",
      "  bootstrapped_upward = tmp.groupby(['#t(centisec)'])['ang_pos', 'dist', 'speed_diff', 'acc_diff', 'cc'].mean().reset_index()\n",
      "/var/folders/ng/l4j590g95vl5r33ctw59y6cr0000gn/T/ipykernel_26977/3673897783.py:12: FutureWarning: Indexing with multiple keys (implicitly converted to a tuple of keys) will be deprecated, use a list instead.\n",
      "  bootstrapped_upward = tmp.groupby(['#t(centisec)'])['ang_pos', 'dist', 'speed_diff', 'acc_diff', 'cc'].mean().reset_index()\n"
     ]
    },
    {
     "name": "stdout",
     "output_type": "stream",
     "text": [
      "910\n"
     ]
    },
    {
     "name": "stderr",
     "output_type": "stream",
     "text": [
      "/var/folders/ng/l4j590g95vl5r33ctw59y6cr0000gn/T/ipykernel_26977/3673897783.py:12: FutureWarning: Indexing with multiple keys (implicitly converted to a tuple of keys) will be deprecated, use a list instead.\n",
      "  bootstrapped_upward = tmp.groupby(['#t(centisec)'])['ang_pos', 'dist', 'speed_diff', 'acc_diff', 'cc'].mean().reset_index()\n",
      "/var/folders/ng/l4j590g95vl5r33ctw59y6cr0000gn/T/ipykernel_26977/3673897783.py:12: FutureWarning: Indexing with multiple keys (implicitly converted to a tuple of keys) will be deprecated, use a list instead.\n",
      "  bootstrapped_upward = tmp.groupby(['#t(centisec)'])['ang_pos', 'dist', 'speed_diff', 'acc_diff', 'cc'].mean().reset_index()\n",
      "/var/folders/ng/l4j590g95vl5r33ctw59y6cr0000gn/T/ipykernel_26977/3673897783.py:12: FutureWarning: Indexing with multiple keys (implicitly converted to a tuple of keys) will be deprecated, use a list instead.\n",
      "  bootstrapped_upward = tmp.groupby(['#t(centisec)'])['ang_pos', 'dist', 'speed_diff', 'acc_diff', 'cc'].mean().reset_index()\n",
      "/var/folders/ng/l4j590g95vl5r33ctw59y6cr0000gn/T/ipykernel_26977/3673897783.py:12: FutureWarning: Indexing with multiple keys (implicitly converted to a tuple of keys) will be deprecated, use a list instead.\n",
      "  bootstrapped_upward = tmp.groupby(['#t(centisec)'])['ang_pos', 'dist', 'speed_diff', 'acc_diff', 'cc'].mean().reset_index()\n",
      "/var/folders/ng/l4j590g95vl5r33ctw59y6cr0000gn/T/ipykernel_26977/3673897783.py:12: FutureWarning: Indexing with multiple keys (implicitly converted to a tuple of keys) will be deprecated, use a list instead.\n",
      "  bootstrapped_upward = tmp.groupby(['#t(centisec)'])['ang_pos', 'dist', 'speed_diff', 'acc_diff', 'cc'].mean().reset_index()\n",
      "/var/folders/ng/l4j590g95vl5r33ctw59y6cr0000gn/T/ipykernel_26977/3673897783.py:12: FutureWarning: Indexing with multiple keys (implicitly converted to a tuple of keys) will be deprecated, use a list instead.\n",
      "  bootstrapped_upward = tmp.groupby(['#t(centisec)'])['ang_pos', 'dist', 'speed_diff', 'acc_diff', 'cc'].mean().reset_index()\n",
      "/var/folders/ng/l4j590g95vl5r33ctw59y6cr0000gn/T/ipykernel_26977/3673897783.py:12: FutureWarning: Indexing with multiple keys (implicitly converted to a tuple of keys) will be deprecated, use a list instead.\n",
      "  bootstrapped_upward = tmp.groupby(['#t(centisec)'])['ang_pos', 'dist', 'speed_diff', 'acc_diff', 'cc'].mean().reset_index()\n",
      "/var/folders/ng/l4j590g95vl5r33ctw59y6cr0000gn/T/ipykernel_26977/3673897783.py:12: FutureWarning: Indexing with multiple keys (implicitly converted to a tuple of keys) will be deprecated, use a list instead.\n",
      "  bootstrapped_upward = tmp.groupby(['#t(centisec)'])['ang_pos', 'dist', 'speed_diff', 'acc_diff', 'cc'].mean().reset_index()\n",
      "/var/folders/ng/l4j590g95vl5r33ctw59y6cr0000gn/T/ipykernel_26977/3673897783.py:12: FutureWarning: Indexing with multiple keys (implicitly converted to a tuple of keys) will be deprecated, use a list instead.\n",
      "  bootstrapped_upward = tmp.groupby(['#t(centisec)'])['ang_pos', 'dist', 'speed_diff', 'acc_diff', 'cc'].mean().reset_index()\n",
      "/var/folders/ng/l4j590g95vl5r33ctw59y6cr0000gn/T/ipykernel_26977/3673897783.py:12: FutureWarning: Indexing with multiple keys (implicitly converted to a tuple of keys) will be deprecated, use a list instead.\n",
      "  bootstrapped_upward = tmp.groupby(['#t(centisec)'])['ang_pos', 'dist', 'speed_diff', 'acc_diff', 'cc'].mean().reset_index()\n"
     ]
    },
    {
     "name": "stdout",
     "output_type": "stream",
     "text": [
      "920\n"
     ]
    },
    {
     "name": "stderr",
     "output_type": "stream",
     "text": [
      "/var/folders/ng/l4j590g95vl5r33ctw59y6cr0000gn/T/ipykernel_26977/3673897783.py:12: FutureWarning: Indexing with multiple keys (implicitly converted to a tuple of keys) will be deprecated, use a list instead.\n",
      "  bootstrapped_upward = tmp.groupby(['#t(centisec)'])['ang_pos', 'dist', 'speed_diff', 'acc_diff', 'cc'].mean().reset_index()\n",
      "/var/folders/ng/l4j590g95vl5r33ctw59y6cr0000gn/T/ipykernel_26977/3673897783.py:12: FutureWarning: Indexing with multiple keys (implicitly converted to a tuple of keys) will be deprecated, use a list instead.\n",
      "  bootstrapped_upward = tmp.groupby(['#t(centisec)'])['ang_pos', 'dist', 'speed_diff', 'acc_diff', 'cc'].mean().reset_index()\n",
      "/var/folders/ng/l4j590g95vl5r33ctw59y6cr0000gn/T/ipykernel_26977/3673897783.py:12: FutureWarning: Indexing with multiple keys (implicitly converted to a tuple of keys) will be deprecated, use a list instead.\n",
      "  bootstrapped_upward = tmp.groupby(['#t(centisec)'])['ang_pos', 'dist', 'speed_diff', 'acc_diff', 'cc'].mean().reset_index()\n",
      "/var/folders/ng/l4j590g95vl5r33ctw59y6cr0000gn/T/ipykernel_26977/3673897783.py:12: FutureWarning: Indexing with multiple keys (implicitly converted to a tuple of keys) will be deprecated, use a list instead.\n",
      "  bootstrapped_upward = tmp.groupby(['#t(centisec)'])['ang_pos', 'dist', 'speed_diff', 'acc_diff', 'cc'].mean().reset_index()\n",
      "/var/folders/ng/l4j590g95vl5r33ctw59y6cr0000gn/T/ipykernel_26977/3673897783.py:12: FutureWarning: Indexing with multiple keys (implicitly converted to a tuple of keys) will be deprecated, use a list instead.\n",
      "  bootstrapped_upward = tmp.groupby(['#t(centisec)'])['ang_pos', 'dist', 'speed_diff', 'acc_diff', 'cc'].mean().reset_index()\n",
      "/var/folders/ng/l4j590g95vl5r33ctw59y6cr0000gn/T/ipykernel_26977/3673897783.py:12: FutureWarning: Indexing with multiple keys (implicitly converted to a tuple of keys) will be deprecated, use a list instead.\n",
      "  bootstrapped_upward = tmp.groupby(['#t(centisec)'])['ang_pos', 'dist', 'speed_diff', 'acc_diff', 'cc'].mean().reset_index()\n",
      "/var/folders/ng/l4j590g95vl5r33ctw59y6cr0000gn/T/ipykernel_26977/3673897783.py:12: FutureWarning: Indexing with multiple keys (implicitly converted to a tuple of keys) will be deprecated, use a list instead.\n",
      "  bootstrapped_upward = tmp.groupby(['#t(centisec)'])['ang_pos', 'dist', 'speed_diff', 'acc_diff', 'cc'].mean().reset_index()\n",
      "/var/folders/ng/l4j590g95vl5r33ctw59y6cr0000gn/T/ipykernel_26977/3673897783.py:12: FutureWarning: Indexing with multiple keys (implicitly converted to a tuple of keys) will be deprecated, use a list instead.\n",
      "  bootstrapped_upward = tmp.groupby(['#t(centisec)'])['ang_pos', 'dist', 'speed_diff', 'acc_diff', 'cc'].mean().reset_index()\n",
      "/var/folders/ng/l4j590g95vl5r33ctw59y6cr0000gn/T/ipykernel_26977/3673897783.py:12: FutureWarning: Indexing with multiple keys (implicitly converted to a tuple of keys) will be deprecated, use a list instead.\n",
      "  bootstrapped_upward = tmp.groupby(['#t(centisec)'])['ang_pos', 'dist', 'speed_diff', 'acc_diff', 'cc'].mean().reset_index()\n",
      "/var/folders/ng/l4j590g95vl5r33ctw59y6cr0000gn/T/ipykernel_26977/3673897783.py:12: FutureWarning: Indexing with multiple keys (implicitly converted to a tuple of keys) will be deprecated, use a list instead.\n",
      "  bootstrapped_upward = tmp.groupby(['#t(centisec)'])['ang_pos', 'dist', 'speed_diff', 'acc_diff', 'cc'].mean().reset_index()\n"
     ]
    },
    {
     "name": "stdout",
     "output_type": "stream",
     "text": [
      "930\n"
     ]
    },
    {
     "name": "stderr",
     "output_type": "stream",
     "text": [
      "/var/folders/ng/l4j590g95vl5r33ctw59y6cr0000gn/T/ipykernel_26977/3673897783.py:12: FutureWarning: Indexing with multiple keys (implicitly converted to a tuple of keys) will be deprecated, use a list instead.\n",
      "  bootstrapped_upward = tmp.groupby(['#t(centisec)'])['ang_pos', 'dist', 'speed_diff', 'acc_diff', 'cc'].mean().reset_index()\n",
      "/var/folders/ng/l4j590g95vl5r33ctw59y6cr0000gn/T/ipykernel_26977/3673897783.py:12: FutureWarning: Indexing with multiple keys (implicitly converted to a tuple of keys) will be deprecated, use a list instead.\n",
      "  bootstrapped_upward = tmp.groupby(['#t(centisec)'])['ang_pos', 'dist', 'speed_diff', 'acc_diff', 'cc'].mean().reset_index()\n",
      "/var/folders/ng/l4j590g95vl5r33ctw59y6cr0000gn/T/ipykernel_26977/3673897783.py:12: FutureWarning: Indexing with multiple keys (implicitly converted to a tuple of keys) will be deprecated, use a list instead.\n",
      "  bootstrapped_upward = tmp.groupby(['#t(centisec)'])['ang_pos', 'dist', 'speed_diff', 'acc_diff', 'cc'].mean().reset_index()\n",
      "/var/folders/ng/l4j590g95vl5r33ctw59y6cr0000gn/T/ipykernel_26977/3673897783.py:12: FutureWarning: Indexing with multiple keys (implicitly converted to a tuple of keys) will be deprecated, use a list instead.\n",
      "  bootstrapped_upward = tmp.groupby(['#t(centisec)'])['ang_pos', 'dist', 'speed_diff', 'acc_diff', 'cc'].mean().reset_index()\n",
      "/var/folders/ng/l4j590g95vl5r33ctw59y6cr0000gn/T/ipykernel_26977/3673897783.py:12: FutureWarning: Indexing with multiple keys (implicitly converted to a tuple of keys) will be deprecated, use a list instead.\n",
      "  bootstrapped_upward = tmp.groupby(['#t(centisec)'])['ang_pos', 'dist', 'speed_diff', 'acc_diff', 'cc'].mean().reset_index()\n",
      "/var/folders/ng/l4j590g95vl5r33ctw59y6cr0000gn/T/ipykernel_26977/3673897783.py:12: FutureWarning: Indexing with multiple keys (implicitly converted to a tuple of keys) will be deprecated, use a list instead.\n",
      "  bootstrapped_upward = tmp.groupby(['#t(centisec)'])['ang_pos', 'dist', 'speed_diff', 'acc_diff', 'cc'].mean().reset_index()\n",
      "/var/folders/ng/l4j590g95vl5r33ctw59y6cr0000gn/T/ipykernel_26977/3673897783.py:12: FutureWarning: Indexing with multiple keys (implicitly converted to a tuple of keys) will be deprecated, use a list instead.\n",
      "  bootstrapped_upward = tmp.groupby(['#t(centisec)'])['ang_pos', 'dist', 'speed_diff', 'acc_diff', 'cc'].mean().reset_index()\n",
      "/var/folders/ng/l4j590g95vl5r33ctw59y6cr0000gn/T/ipykernel_26977/3673897783.py:12: FutureWarning: Indexing with multiple keys (implicitly converted to a tuple of keys) will be deprecated, use a list instead.\n",
      "  bootstrapped_upward = tmp.groupby(['#t(centisec)'])['ang_pos', 'dist', 'speed_diff', 'acc_diff', 'cc'].mean().reset_index()\n",
      "/var/folders/ng/l4j590g95vl5r33ctw59y6cr0000gn/T/ipykernel_26977/3673897783.py:12: FutureWarning: Indexing with multiple keys (implicitly converted to a tuple of keys) will be deprecated, use a list instead.\n",
      "  bootstrapped_upward = tmp.groupby(['#t(centisec)'])['ang_pos', 'dist', 'speed_diff', 'acc_diff', 'cc'].mean().reset_index()\n",
      "/var/folders/ng/l4j590g95vl5r33ctw59y6cr0000gn/T/ipykernel_26977/3673897783.py:12: FutureWarning: Indexing with multiple keys (implicitly converted to a tuple of keys) will be deprecated, use a list instead.\n",
      "  bootstrapped_upward = tmp.groupby(['#t(centisec)'])['ang_pos', 'dist', 'speed_diff', 'acc_diff', 'cc'].mean().reset_index()\n"
     ]
    },
    {
     "name": "stdout",
     "output_type": "stream",
     "text": [
      "940\n"
     ]
    },
    {
     "name": "stderr",
     "output_type": "stream",
     "text": [
      "/var/folders/ng/l4j590g95vl5r33ctw59y6cr0000gn/T/ipykernel_26977/3673897783.py:12: FutureWarning: Indexing with multiple keys (implicitly converted to a tuple of keys) will be deprecated, use a list instead.\n",
      "  bootstrapped_upward = tmp.groupby(['#t(centisec)'])['ang_pos', 'dist', 'speed_diff', 'acc_diff', 'cc'].mean().reset_index()\n",
      "/var/folders/ng/l4j590g95vl5r33ctw59y6cr0000gn/T/ipykernel_26977/3673897783.py:12: FutureWarning: Indexing with multiple keys (implicitly converted to a tuple of keys) will be deprecated, use a list instead.\n",
      "  bootstrapped_upward = tmp.groupby(['#t(centisec)'])['ang_pos', 'dist', 'speed_diff', 'acc_diff', 'cc'].mean().reset_index()\n",
      "/var/folders/ng/l4j590g95vl5r33ctw59y6cr0000gn/T/ipykernel_26977/3673897783.py:12: FutureWarning: Indexing with multiple keys (implicitly converted to a tuple of keys) will be deprecated, use a list instead.\n",
      "  bootstrapped_upward = tmp.groupby(['#t(centisec)'])['ang_pos', 'dist', 'speed_diff', 'acc_diff', 'cc'].mean().reset_index()\n",
      "/var/folders/ng/l4j590g95vl5r33ctw59y6cr0000gn/T/ipykernel_26977/3673897783.py:12: FutureWarning: Indexing with multiple keys (implicitly converted to a tuple of keys) will be deprecated, use a list instead.\n",
      "  bootstrapped_upward = tmp.groupby(['#t(centisec)'])['ang_pos', 'dist', 'speed_diff', 'acc_diff', 'cc'].mean().reset_index()\n",
      "/var/folders/ng/l4j590g95vl5r33ctw59y6cr0000gn/T/ipykernel_26977/3673897783.py:12: FutureWarning: Indexing with multiple keys (implicitly converted to a tuple of keys) will be deprecated, use a list instead.\n",
      "  bootstrapped_upward = tmp.groupby(['#t(centisec)'])['ang_pos', 'dist', 'speed_diff', 'acc_diff', 'cc'].mean().reset_index()\n",
      "/var/folders/ng/l4j590g95vl5r33ctw59y6cr0000gn/T/ipykernel_26977/3673897783.py:12: FutureWarning: Indexing with multiple keys (implicitly converted to a tuple of keys) will be deprecated, use a list instead.\n",
      "  bootstrapped_upward = tmp.groupby(['#t(centisec)'])['ang_pos', 'dist', 'speed_diff', 'acc_diff', 'cc'].mean().reset_index()\n",
      "/var/folders/ng/l4j590g95vl5r33ctw59y6cr0000gn/T/ipykernel_26977/3673897783.py:12: FutureWarning: Indexing with multiple keys (implicitly converted to a tuple of keys) will be deprecated, use a list instead.\n",
      "  bootstrapped_upward = tmp.groupby(['#t(centisec)'])['ang_pos', 'dist', 'speed_diff', 'acc_diff', 'cc'].mean().reset_index()\n",
      "/var/folders/ng/l4j590g95vl5r33ctw59y6cr0000gn/T/ipykernel_26977/3673897783.py:12: FutureWarning: Indexing with multiple keys (implicitly converted to a tuple of keys) will be deprecated, use a list instead.\n",
      "  bootstrapped_upward = tmp.groupby(['#t(centisec)'])['ang_pos', 'dist', 'speed_diff', 'acc_diff', 'cc'].mean().reset_index()\n",
      "/var/folders/ng/l4j590g95vl5r33ctw59y6cr0000gn/T/ipykernel_26977/3673897783.py:12: FutureWarning: Indexing with multiple keys (implicitly converted to a tuple of keys) will be deprecated, use a list instead.\n",
      "  bootstrapped_upward = tmp.groupby(['#t(centisec)'])['ang_pos', 'dist', 'speed_diff', 'acc_diff', 'cc'].mean().reset_index()\n",
      "/var/folders/ng/l4j590g95vl5r33ctw59y6cr0000gn/T/ipykernel_26977/3673897783.py:12: FutureWarning: Indexing with multiple keys (implicitly converted to a tuple of keys) will be deprecated, use a list instead.\n",
      "  bootstrapped_upward = tmp.groupby(['#t(centisec)'])['ang_pos', 'dist', 'speed_diff', 'acc_diff', 'cc'].mean().reset_index()\n"
     ]
    },
    {
     "name": "stdout",
     "output_type": "stream",
     "text": [
      "950\n"
     ]
    },
    {
     "name": "stderr",
     "output_type": "stream",
     "text": [
      "/var/folders/ng/l4j590g95vl5r33ctw59y6cr0000gn/T/ipykernel_26977/3673897783.py:12: FutureWarning: Indexing with multiple keys (implicitly converted to a tuple of keys) will be deprecated, use a list instead.\n",
      "  bootstrapped_upward = tmp.groupby(['#t(centisec)'])['ang_pos', 'dist', 'speed_diff', 'acc_diff', 'cc'].mean().reset_index()\n",
      "/var/folders/ng/l4j590g95vl5r33ctw59y6cr0000gn/T/ipykernel_26977/3673897783.py:12: FutureWarning: Indexing with multiple keys (implicitly converted to a tuple of keys) will be deprecated, use a list instead.\n",
      "  bootstrapped_upward = tmp.groupby(['#t(centisec)'])['ang_pos', 'dist', 'speed_diff', 'acc_diff', 'cc'].mean().reset_index()\n",
      "/var/folders/ng/l4j590g95vl5r33ctw59y6cr0000gn/T/ipykernel_26977/3673897783.py:12: FutureWarning: Indexing with multiple keys (implicitly converted to a tuple of keys) will be deprecated, use a list instead.\n",
      "  bootstrapped_upward = tmp.groupby(['#t(centisec)'])['ang_pos', 'dist', 'speed_diff', 'acc_diff', 'cc'].mean().reset_index()\n",
      "/var/folders/ng/l4j590g95vl5r33ctw59y6cr0000gn/T/ipykernel_26977/3673897783.py:12: FutureWarning: Indexing with multiple keys (implicitly converted to a tuple of keys) will be deprecated, use a list instead.\n",
      "  bootstrapped_upward = tmp.groupby(['#t(centisec)'])['ang_pos', 'dist', 'speed_diff', 'acc_diff', 'cc'].mean().reset_index()\n",
      "/var/folders/ng/l4j590g95vl5r33ctw59y6cr0000gn/T/ipykernel_26977/3673897783.py:12: FutureWarning: Indexing with multiple keys (implicitly converted to a tuple of keys) will be deprecated, use a list instead.\n",
      "  bootstrapped_upward = tmp.groupby(['#t(centisec)'])['ang_pos', 'dist', 'speed_diff', 'acc_diff', 'cc'].mean().reset_index()\n",
      "/var/folders/ng/l4j590g95vl5r33ctw59y6cr0000gn/T/ipykernel_26977/3673897783.py:12: FutureWarning: Indexing with multiple keys (implicitly converted to a tuple of keys) will be deprecated, use a list instead.\n",
      "  bootstrapped_upward = tmp.groupby(['#t(centisec)'])['ang_pos', 'dist', 'speed_diff', 'acc_diff', 'cc'].mean().reset_index()\n",
      "/var/folders/ng/l4j590g95vl5r33ctw59y6cr0000gn/T/ipykernel_26977/3673897783.py:12: FutureWarning: Indexing with multiple keys (implicitly converted to a tuple of keys) will be deprecated, use a list instead.\n",
      "  bootstrapped_upward = tmp.groupby(['#t(centisec)'])['ang_pos', 'dist', 'speed_diff', 'acc_diff', 'cc'].mean().reset_index()\n",
      "/var/folders/ng/l4j590g95vl5r33ctw59y6cr0000gn/T/ipykernel_26977/3673897783.py:12: FutureWarning: Indexing with multiple keys (implicitly converted to a tuple of keys) will be deprecated, use a list instead.\n",
      "  bootstrapped_upward = tmp.groupby(['#t(centisec)'])['ang_pos', 'dist', 'speed_diff', 'acc_diff', 'cc'].mean().reset_index()\n",
      "/var/folders/ng/l4j590g95vl5r33ctw59y6cr0000gn/T/ipykernel_26977/3673897783.py:12: FutureWarning: Indexing with multiple keys (implicitly converted to a tuple of keys) will be deprecated, use a list instead.\n",
      "  bootstrapped_upward = tmp.groupby(['#t(centisec)'])['ang_pos', 'dist', 'speed_diff', 'acc_diff', 'cc'].mean().reset_index()\n",
      "/var/folders/ng/l4j590g95vl5r33ctw59y6cr0000gn/T/ipykernel_26977/3673897783.py:12: FutureWarning: Indexing with multiple keys (implicitly converted to a tuple of keys) will be deprecated, use a list instead.\n",
      "  bootstrapped_upward = tmp.groupby(['#t(centisec)'])['ang_pos', 'dist', 'speed_diff', 'acc_diff', 'cc'].mean().reset_index()\n"
     ]
    },
    {
     "name": "stdout",
     "output_type": "stream",
     "text": [
      "960\n"
     ]
    },
    {
     "name": "stderr",
     "output_type": "stream",
     "text": [
      "/var/folders/ng/l4j590g95vl5r33ctw59y6cr0000gn/T/ipykernel_26977/3673897783.py:12: FutureWarning: Indexing with multiple keys (implicitly converted to a tuple of keys) will be deprecated, use a list instead.\n",
      "  bootstrapped_upward = tmp.groupby(['#t(centisec)'])['ang_pos', 'dist', 'speed_diff', 'acc_diff', 'cc'].mean().reset_index()\n",
      "/var/folders/ng/l4j590g95vl5r33ctw59y6cr0000gn/T/ipykernel_26977/3673897783.py:12: FutureWarning: Indexing with multiple keys (implicitly converted to a tuple of keys) will be deprecated, use a list instead.\n",
      "  bootstrapped_upward = tmp.groupby(['#t(centisec)'])['ang_pos', 'dist', 'speed_diff', 'acc_diff', 'cc'].mean().reset_index()\n",
      "/var/folders/ng/l4j590g95vl5r33ctw59y6cr0000gn/T/ipykernel_26977/3673897783.py:12: FutureWarning: Indexing with multiple keys (implicitly converted to a tuple of keys) will be deprecated, use a list instead.\n",
      "  bootstrapped_upward = tmp.groupby(['#t(centisec)'])['ang_pos', 'dist', 'speed_diff', 'acc_diff', 'cc'].mean().reset_index()\n",
      "/var/folders/ng/l4j590g95vl5r33ctw59y6cr0000gn/T/ipykernel_26977/3673897783.py:12: FutureWarning: Indexing with multiple keys (implicitly converted to a tuple of keys) will be deprecated, use a list instead.\n",
      "  bootstrapped_upward = tmp.groupby(['#t(centisec)'])['ang_pos', 'dist', 'speed_diff', 'acc_diff', 'cc'].mean().reset_index()\n",
      "/var/folders/ng/l4j590g95vl5r33ctw59y6cr0000gn/T/ipykernel_26977/3673897783.py:12: FutureWarning: Indexing with multiple keys (implicitly converted to a tuple of keys) will be deprecated, use a list instead.\n",
      "  bootstrapped_upward = tmp.groupby(['#t(centisec)'])['ang_pos', 'dist', 'speed_diff', 'acc_diff', 'cc'].mean().reset_index()\n",
      "/var/folders/ng/l4j590g95vl5r33ctw59y6cr0000gn/T/ipykernel_26977/3673897783.py:12: FutureWarning: Indexing with multiple keys (implicitly converted to a tuple of keys) will be deprecated, use a list instead.\n",
      "  bootstrapped_upward = tmp.groupby(['#t(centisec)'])['ang_pos', 'dist', 'speed_diff', 'acc_diff', 'cc'].mean().reset_index()\n",
      "/var/folders/ng/l4j590g95vl5r33ctw59y6cr0000gn/T/ipykernel_26977/3673897783.py:12: FutureWarning: Indexing with multiple keys (implicitly converted to a tuple of keys) will be deprecated, use a list instead.\n",
      "  bootstrapped_upward = tmp.groupby(['#t(centisec)'])['ang_pos', 'dist', 'speed_diff', 'acc_diff', 'cc'].mean().reset_index()\n",
      "/var/folders/ng/l4j590g95vl5r33ctw59y6cr0000gn/T/ipykernel_26977/3673897783.py:12: FutureWarning: Indexing with multiple keys (implicitly converted to a tuple of keys) will be deprecated, use a list instead.\n",
      "  bootstrapped_upward = tmp.groupby(['#t(centisec)'])['ang_pos', 'dist', 'speed_diff', 'acc_diff', 'cc'].mean().reset_index()\n",
      "/var/folders/ng/l4j590g95vl5r33ctw59y6cr0000gn/T/ipykernel_26977/3673897783.py:12: FutureWarning: Indexing with multiple keys (implicitly converted to a tuple of keys) will be deprecated, use a list instead.\n",
      "  bootstrapped_upward = tmp.groupby(['#t(centisec)'])['ang_pos', 'dist', 'speed_diff', 'acc_diff', 'cc'].mean().reset_index()\n",
      "/var/folders/ng/l4j590g95vl5r33ctw59y6cr0000gn/T/ipykernel_26977/3673897783.py:12: FutureWarning: Indexing with multiple keys (implicitly converted to a tuple of keys) will be deprecated, use a list instead.\n",
      "  bootstrapped_upward = tmp.groupby(['#t(centisec)'])['ang_pos', 'dist', 'speed_diff', 'acc_diff', 'cc'].mean().reset_index()\n"
     ]
    },
    {
     "name": "stdout",
     "output_type": "stream",
     "text": [
      "970\n"
     ]
    },
    {
     "name": "stderr",
     "output_type": "stream",
     "text": [
      "/var/folders/ng/l4j590g95vl5r33ctw59y6cr0000gn/T/ipykernel_26977/3673897783.py:12: FutureWarning: Indexing with multiple keys (implicitly converted to a tuple of keys) will be deprecated, use a list instead.\n",
      "  bootstrapped_upward = tmp.groupby(['#t(centisec)'])['ang_pos', 'dist', 'speed_diff', 'acc_diff', 'cc'].mean().reset_index()\n",
      "/var/folders/ng/l4j590g95vl5r33ctw59y6cr0000gn/T/ipykernel_26977/3673897783.py:12: FutureWarning: Indexing with multiple keys (implicitly converted to a tuple of keys) will be deprecated, use a list instead.\n",
      "  bootstrapped_upward = tmp.groupby(['#t(centisec)'])['ang_pos', 'dist', 'speed_diff', 'acc_diff', 'cc'].mean().reset_index()\n",
      "/var/folders/ng/l4j590g95vl5r33ctw59y6cr0000gn/T/ipykernel_26977/3673897783.py:12: FutureWarning: Indexing with multiple keys (implicitly converted to a tuple of keys) will be deprecated, use a list instead.\n",
      "  bootstrapped_upward = tmp.groupby(['#t(centisec)'])['ang_pos', 'dist', 'speed_diff', 'acc_diff', 'cc'].mean().reset_index()\n",
      "/var/folders/ng/l4j590g95vl5r33ctw59y6cr0000gn/T/ipykernel_26977/3673897783.py:12: FutureWarning: Indexing with multiple keys (implicitly converted to a tuple of keys) will be deprecated, use a list instead.\n",
      "  bootstrapped_upward = tmp.groupby(['#t(centisec)'])['ang_pos', 'dist', 'speed_diff', 'acc_diff', 'cc'].mean().reset_index()\n",
      "/var/folders/ng/l4j590g95vl5r33ctw59y6cr0000gn/T/ipykernel_26977/3673897783.py:12: FutureWarning: Indexing with multiple keys (implicitly converted to a tuple of keys) will be deprecated, use a list instead.\n",
      "  bootstrapped_upward = tmp.groupby(['#t(centisec)'])['ang_pos', 'dist', 'speed_diff', 'acc_diff', 'cc'].mean().reset_index()\n",
      "/var/folders/ng/l4j590g95vl5r33ctw59y6cr0000gn/T/ipykernel_26977/3673897783.py:12: FutureWarning: Indexing with multiple keys (implicitly converted to a tuple of keys) will be deprecated, use a list instead.\n",
      "  bootstrapped_upward = tmp.groupby(['#t(centisec)'])['ang_pos', 'dist', 'speed_diff', 'acc_diff', 'cc'].mean().reset_index()\n",
      "/var/folders/ng/l4j590g95vl5r33ctw59y6cr0000gn/T/ipykernel_26977/3673897783.py:12: FutureWarning: Indexing with multiple keys (implicitly converted to a tuple of keys) will be deprecated, use a list instead.\n",
      "  bootstrapped_upward = tmp.groupby(['#t(centisec)'])['ang_pos', 'dist', 'speed_diff', 'acc_diff', 'cc'].mean().reset_index()\n",
      "/var/folders/ng/l4j590g95vl5r33ctw59y6cr0000gn/T/ipykernel_26977/3673897783.py:12: FutureWarning: Indexing with multiple keys (implicitly converted to a tuple of keys) will be deprecated, use a list instead.\n",
      "  bootstrapped_upward = tmp.groupby(['#t(centisec)'])['ang_pos', 'dist', 'speed_diff', 'acc_diff', 'cc'].mean().reset_index()\n",
      "/var/folders/ng/l4j590g95vl5r33ctw59y6cr0000gn/T/ipykernel_26977/3673897783.py:12: FutureWarning: Indexing with multiple keys (implicitly converted to a tuple of keys) will be deprecated, use a list instead.\n",
      "  bootstrapped_upward = tmp.groupby(['#t(centisec)'])['ang_pos', 'dist', 'speed_diff', 'acc_diff', 'cc'].mean().reset_index()\n",
      "/var/folders/ng/l4j590g95vl5r33ctw59y6cr0000gn/T/ipykernel_26977/3673897783.py:12: FutureWarning: Indexing with multiple keys (implicitly converted to a tuple of keys) will be deprecated, use a list instead.\n",
      "  bootstrapped_upward = tmp.groupby(['#t(centisec)'])['ang_pos', 'dist', 'speed_diff', 'acc_diff', 'cc'].mean().reset_index()\n"
     ]
    },
    {
     "name": "stdout",
     "output_type": "stream",
     "text": [
      "980\n"
     ]
    },
    {
     "name": "stderr",
     "output_type": "stream",
     "text": [
      "/var/folders/ng/l4j590g95vl5r33ctw59y6cr0000gn/T/ipykernel_26977/3673897783.py:12: FutureWarning: Indexing with multiple keys (implicitly converted to a tuple of keys) will be deprecated, use a list instead.\n",
      "  bootstrapped_upward = tmp.groupby(['#t(centisec)'])['ang_pos', 'dist', 'speed_diff', 'acc_diff', 'cc'].mean().reset_index()\n",
      "/var/folders/ng/l4j590g95vl5r33ctw59y6cr0000gn/T/ipykernel_26977/3673897783.py:12: FutureWarning: Indexing with multiple keys (implicitly converted to a tuple of keys) will be deprecated, use a list instead.\n",
      "  bootstrapped_upward = tmp.groupby(['#t(centisec)'])['ang_pos', 'dist', 'speed_diff', 'acc_diff', 'cc'].mean().reset_index()\n",
      "/var/folders/ng/l4j590g95vl5r33ctw59y6cr0000gn/T/ipykernel_26977/3673897783.py:12: FutureWarning: Indexing with multiple keys (implicitly converted to a tuple of keys) will be deprecated, use a list instead.\n",
      "  bootstrapped_upward = tmp.groupby(['#t(centisec)'])['ang_pos', 'dist', 'speed_diff', 'acc_diff', 'cc'].mean().reset_index()\n",
      "/var/folders/ng/l4j590g95vl5r33ctw59y6cr0000gn/T/ipykernel_26977/3673897783.py:12: FutureWarning: Indexing with multiple keys (implicitly converted to a tuple of keys) will be deprecated, use a list instead.\n",
      "  bootstrapped_upward = tmp.groupby(['#t(centisec)'])['ang_pos', 'dist', 'speed_diff', 'acc_diff', 'cc'].mean().reset_index()\n",
      "/var/folders/ng/l4j590g95vl5r33ctw59y6cr0000gn/T/ipykernel_26977/3673897783.py:12: FutureWarning: Indexing with multiple keys (implicitly converted to a tuple of keys) will be deprecated, use a list instead.\n",
      "  bootstrapped_upward = tmp.groupby(['#t(centisec)'])['ang_pos', 'dist', 'speed_diff', 'acc_diff', 'cc'].mean().reset_index()\n",
      "/var/folders/ng/l4j590g95vl5r33ctw59y6cr0000gn/T/ipykernel_26977/3673897783.py:12: FutureWarning: Indexing with multiple keys (implicitly converted to a tuple of keys) will be deprecated, use a list instead.\n",
      "  bootstrapped_upward = tmp.groupby(['#t(centisec)'])['ang_pos', 'dist', 'speed_diff', 'acc_diff', 'cc'].mean().reset_index()\n",
      "/var/folders/ng/l4j590g95vl5r33ctw59y6cr0000gn/T/ipykernel_26977/3673897783.py:12: FutureWarning: Indexing with multiple keys (implicitly converted to a tuple of keys) will be deprecated, use a list instead.\n",
      "  bootstrapped_upward = tmp.groupby(['#t(centisec)'])['ang_pos', 'dist', 'speed_diff', 'acc_diff', 'cc'].mean().reset_index()\n",
      "/var/folders/ng/l4j590g95vl5r33ctw59y6cr0000gn/T/ipykernel_26977/3673897783.py:12: FutureWarning: Indexing with multiple keys (implicitly converted to a tuple of keys) will be deprecated, use a list instead.\n",
      "  bootstrapped_upward = tmp.groupby(['#t(centisec)'])['ang_pos', 'dist', 'speed_diff', 'acc_diff', 'cc'].mean().reset_index()\n",
      "/var/folders/ng/l4j590g95vl5r33ctw59y6cr0000gn/T/ipykernel_26977/3673897783.py:12: FutureWarning: Indexing with multiple keys (implicitly converted to a tuple of keys) will be deprecated, use a list instead.\n",
      "  bootstrapped_upward = tmp.groupby(['#t(centisec)'])['ang_pos', 'dist', 'speed_diff', 'acc_diff', 'cc'].mean().reset_index()\n",
      "/var/folders/ng/l4j590g95vl5r33ctw59y6cr0000gn/T/ipykernel_26977/3673897783.py:12: FutureWarning: Indexing with multiple keys (implicitly converted to a tuple of keys) will be deprecated, use a list instead.\n",
      "  bootstrapped_upward = tmp.groupby(['#t(centisec)'])['ang_pos', 'dist', 'speed_diff', 'acc_diff', 'cc'].mean().reset_index()\n"
     ]
    },
    {
     "name": "stdout",
     "output_type": "stream",
     "text": [
      "990\n"
     ]
    },
    {
     "name": "stderr",
     "output_type": "stream",
     "text": [
      "/var/folders/ng/l4j590g95vl5r33ctw59y6cr0000gn/T/ipykernel_26977/3673897783.py:12: FutureWarning: Indexing with multiple keys (implicitly converted to a tuple of keys) will be deprecated, use a list instead.\n",
      "  bootstrapped_upward = tmp.groupby(['#t(centisec)'])['ang_pos', 'dist', 'speed_diff', 'acc_diff', 'cc'].mean().reset_index()\n",
      "/var/folders/ng/l4j590g95vl5r33ctw59y6cr0000gn/T/ipykernel_26977/3673897783.py:12: FutureWarning: Indexing with multiple keys (implicitly converted to a tuple of keys) will be deprecated, use a list instead.\n",
      "  bootstrapped_upward = tmp.groupby(['#t(centisec)'])['ang_pos', 'dist', 'speed_diff', 'acc_diff', 'cc'].mean().reset_index()\n",
      "/var/folders/ng/l4j590g95vl5r33ctw59y6cr0000gn/T/ipykernel_26977/3673897783.py:12: FutureWarning: Indexing with multiple keys (implicitly converted to a tuple of keys) will be deprecated, use a list instead.\n",
      "  bootstrapped_upward = tmp.groupby(['#t(centisec)'])['ang_pos', 'dist', 'speed_diff', 'acc_diff', 'cc'].mean().reset_index()\n",
      "/var/folders/ng/l4j590g95vl5r33ctw59y6cr0000gn/T/ipykernel_26977/3673897783.py:12: FutureWarning: Indexing with multiple keys (implicitly converted to a tuple of keys) will be deprecated, use a list instead.\n",
      "  bootstrapped_upward = tmp.groupby(['#t(centisec)'])['ang_pos', 'dist', 'speed_diff', 'acc_diff', 'cc'].mean().reset_index()\n",
      "/var/folders/ng/l4j590g95vl5r33ctw59y6cr0000gn/T/ipykernel_26977/3673897783.py:12: FutureWarning: Indexing with multiple keys (implicitly converted to a tuple of keys) will be deprecated, use a list instead.\n",
      "  bootstrapped_upward = tmp.groupby(['#t(centisec)'])['ang_pos', 'dist', 'speed_diff', 'acc_diff', 'cc'].mean().reset_index()\n",
      "/var/folders/ng/l4j590g95vl5r33ctw59y6cr0000gn/T/ipykernel_26977/3673897783.py:12: FutureWarning: Indexing with multiple keys (implicitly converted to a tuple of keys) will be deprecated, use a list instead.\n",
      "  bootstrapped_upward = tmp.groupby(['#t(centisec)'])['ang_pos', 'dist', 'speed_diff', 'acc_diff', 'cc'].mean().reset_index()\n",
      "/var/folders/ng/l4j590g95vl5r33ctw59y6cr0000gn/T/ipykernel_26977/3673897783.py:12: FutureWarning: Indexing with multiple keys (implicitly converted to a tuple of keys) will be deprecated, use a list instead.\n",
      "  bootstrapped_upward = tmp.groupby(['#t(centisec)'])['ang_pos', 'dist', 'speed_diff', 'acc_diff', 'cc'].mean().reset_index()\n",
      "/var/folders/ng/l4j590g95vl5r33ctw59y6cr0000gn/T/ipykernel_26977/3673897783.py:12: FutureWarning: Indexing with multiple keys (implicitly converted to a tuple of keys) will be deprecated, use a list instead.\n",
      "  bootstrapped_upward = tmp.groupby(['#t(centisec)'])['ang_pos', 'dist', 'speed_diff', 'acc_diff', 'cc'].mean().reset_index()\n",
      "/var/folders/ng/l4j590g95vl5r33ctw59y6cr0000gn/T/ipykernel_26977/3673897783.py:12: FutureWarning: Indexing with multiple keys (implicitly converted to a tuple of keys) will be deprecated, use a list instead.\n",
      "  bootstrapped_upward = tmp.groupby(['#t(centisec)'])['ang_pos', 'dist', 'speed_diff', 'acc_diff', 'cc'].mean().reset_index()\n"
     ]
    }
   ],
   "source": [
    "bootu = pd.DataFrame()\n",
    "\n",
    "for i in range(n_boots):\n",
    "    tmp_list = []\n",
    "    events = np.random.choice(np.unique(segments_upward['event']), size=len(np.unique(segments_upward['event'])))\n",
    "    for j,ev in enumerate(events):\n",
    "        tmp = segments_upward[segments_upward['event'] == ev].values.tolist()\n",
    "        tmp_list.extend(tmp)\n",
    "    \n",
    "    tmp = pd.DataFrame(np.array(tmp_list), columns=list(segments_upward))\n",
    "    \n",
    "    bootstrapped_upward = tmp.groupby(['#t(centisec)'])['ang_pos', 'dist', 'speed_diff', 'acc_diff', 'cc'].mean().reset_index()\n",
    "    bootstrapped_upward.columns = ['#t(centisec)', 'apu', 'distu', 'sdu', 'adu', 'ccu']\n",
    "    \n",
    "    bootu = pd.concat([bootu, bootstrapped_upward])\n",
    "    bootu['perm'] = i\n",
    "    \n",
    "    if i%10==0:\n",
    "        print(i)\n",
    "    \n",
    "    del tmp\n",
    "    del tmp_list\n",
    "    del bootstrapped_upward\n",
    "    gc.collect()\n",
    "    \n",
    "bootu.to_csv('/Users/vivekhsridhar/Library/Mobile Documents/com~apple~CloudDocs/Documents/Code/DirectionalCorrelation/Data/Output/pigeons/' + thresh_folder + '/bootup_' + scale + '_seq' + str(int(seq_length/fps)) + '.csv', mode='w')"
   ]
  },
  {
   "cell_type": "code",
   "execution_count": 5,
   "metadata": {
    "scrolled": true
   },
   "outputs": [
    {
     "name": "stderr",
     "output_type": "stream",
     "text": [
      "/var/folders/ng/l4j590g95vl5r33ctw59y6cr0000gn/T/ipykernel_26977/3258036297.py:12: FutureWarning: Indexing with multiple keys (implicitly converted to a tuple of keys) will be deprecated, use a list instead.\n",
      "  bootstrapped_downward = tmp.groupby(['#t(centisec)'])['ang_pos', 'dist', 'speed_diff', 'acc_diff', 'cc'].mean().reset_index()\n"
     ]
    },
    {
     "name": "stdout",
     "output_type": "stream",
     "text": [
      "0\n"
     ]
    },
    {
     "name": "stderr",
     "output_type": "stream",
     "text": [
      "/var/folders/ng/l4j590g95vl5r33ctw59y6cr0000gn/T/ipykernel_26977/3258036297.py:12: FutureWarning: Indexing with multiple keys (implicitly converted to a tuple of keys) will be deprecated, use a list instead.\n",
      "  bootstrapped_downward = tmp.groupby(['#t(centisec)'])['ang_pos', 'dist', 'speed_diff', 'acc_diff', 'cc'].mean().reset_index()\n",
      "/var/folders/ng/l4j590g95vl5r33ctw59y6cr0000gn/T/ipykernel_26977/3258036297.py:12: FutureWarning: Indexing with multiple keys (implicitly converted to a tuple of keys) will be deprecated, use a list instead.\n",
      "  bootstrapped_downward = tmp.groupby(['#t(centisec)'])['ang_pos', 'dist', 'speed_diff', 'acc_diff', 'cc'].mean().reset_index()\n",
      "/var/folders/ng/l4j590g95vl5r33ctw59y6cr0000gn/T/ipykernel_26977/3258036297.py:12: FutureWarning: Indexing with multiple keys (implicitly converted to a tuple of keys) will be deprecated, use a list instead.\n",
      "  bootstrapped_downward = tmp.groupby(['#t(centisec)'])['ang_pos', 'dist', 'speed_diff', 'acc_diff', 'cc'].mean().reset_index()\n",
      "/var/folders/ng/l4j590g95vl5r33ctw59y6cr0000gn/T/ipykernel_26977/3258036297.py:12: FutureWarning: Indexing with multiple keys (implicitly converted to a tuple of keys) will be deprecated, use a list instead.\n",
      "  bootstrapped_downward = tmp.groupby(['#t(centisec)'])['ang_pos', 'dist', 'speed_diff', 'acc_diff', 'cc'].mean().reset_index()\n",
      "/var/folders/ng/l4j590g95vl5r33ctw59y6cr0000gn/T/ipykernel_26977/3258036297.py:12: FutureWarning: Indexing with multiple keys (implicitly converted to a tuple of keys) will be deprecated, use a list instead.\n",
      "  bootstrapped_downward = tmp.groupby(['#t(centisec)'])['ang_pos', 'dist', 'speed_diff', 'acc_diff', 'cc'].mean().reset_index()\n",
      "/var/folders/ng/l4j590g95vl5r33ctw59y6cr0000gn/T/ipykernel_26977/3258036297.py:12: FutureWarning: Indexing with multiple keys (implicitly converted to a tuple of keys) will be deprecated, use a list instead.\n",
      "  bootstrapped_downward = tmp.groupby(['#t(centisec)'])['ang_pos', 'dist', 'speed_diff', 'acc_diff', 'cc'].mean().reset_index()\n",
      "/var/folders/ng/l4j590g95vl5r33ctw59y6cr0000gn/T/ipykernel_26977/3258036297.py:12: FutureWarning: Indexing with multiple keys (implicitly converted to a tuple of keys) will be deprecated, use a list instead.\n",
      "  bootstrapped_downward = tmp.groupby(['#t(centisec)'])['ang_pos', 'dist', 'speed_diff', 'acc_diff', 'cc'].mean().reset_index()\n",
      "/var/folders/ng/l4j590g95vl5r33ctw59y6cr0000gn/T/ipykernel_26977/3258036297.py:12: FutureWarning: Indexing with multiple keys (implicitly converted to a tuple of keys) will be deprecated, use a list instead.\n",
      "  bootstrapped_downward = tmp.groupby(['#t(centisec)'])['ang_pos', 'dist', 'speed_diff', 'acc_diff', 'cc'].mean().reset_index()\n",
      "/var/folders/ng/l4j590g95vl5r33ctw59y6cr0000gn/T/ipykernel_26977/3258036297.py:12: FutureWarning: Indexing with multiple keys (implicitly converted to a tuple of keys) will be deprecated, use a list instead.\n",
      "  bootstrapped_downward = tmp.groupby(['#t(centisec)'])['ang_pos', 'dist', 'speed_diff', 'acc_diff', 'cc'].mean().reset_index()\n",
      "/var/folders/ng/l4j590g95vl5r33ctw59y6cr0000gn/T/ipykernel_26977/3258036297.py:12: FutureWarning: Indexing with multiple keys (implicitly converted to a tuple of keys) will be deprecated, use a list instead.\n",
      "  bootstrapped_downward = tmp.groupby(['#t(centisec)'])['ang_pos', 'dist', 'speed_diff', 'acc_diff', 'cc'].mean().reset_index()\n"
     ]
    },
    {
     "name": "stdout",
     "output_type": "stream",
     "text": [
      "10\n"
     ]
    },
    {
     "name": "stderr",
     "output_type": "stream",
     "text": [
      "/var/folders/ng/l4j590g95vl5r33ctw59y6cr0000gn/T/ipykernel_26977/3258036297.py:12: FutureWarning: Indexing with multiple keys (implicitly converted to a tuple of keys) will be deprecated, use a list instead.\n",
      "  bootstrapped_downward = tmp.groupby(['#t(centisec)'])['ang_pos', 'dist', 'speed_diff', 'acc_diff', 'cc'].mean().reset_index()\n",
      "/var/folders/ng/l4j590g95vl5r33ctw59y6cr0000gn/T/ipykernel_26977/3258036297.py:12: FutureWarning: Indexing with multiple keys (implicitly converted to a tuple of keys) will be deprecated, use a list instead.\n",
      "  bootstrapped_downward = tmp.groupby(['#t(centisec)'])['ang_pos', 'dist', 'speed_diff', 'acc_diff', 'cc'].mean().reset_index()\n",
      "/var/folders/ng/l4j590g95vl5r33ctw59y6cr0000gn/T/ipykernel_26977/3258036297.py:12: FutureWarning: Indexing with multiple keys (implicitly converted to a tuple of keys) will be deprecated, use a list instead.\n",
      "  bootstrapped_downward = tmp.groupby(['#t(centisec)'])['ang_pos', 'dist', 'speed_diff', 'acc_diff', 'cc'].mean().reset_index()\n",
      "/var/folders/ng/l4j590g95vl5r33ctw59y6cr0000gn/T/ipykernel_26977/3258036297.py:12: FutureWarning: Indexing with multiple keys (implicitly converted to a tuple of keys) will be deprecated, use a list instead.\n",
      "  bootstrapped_downward = tmp.groupby(['#t(centisec)'])['ang_pos', 'dist', 'speed_diff', 'acc_diff', 'cc'].mean().reset_index()\n",
      "/var/folders/ng/l4j590g95vl5r33ctw59y6cr0000gn/T/ipykernel_26977/3258036297.py:12: FutureWarning: Indexing with multiple keys (implicitly converted to a tuple of keys) will be deprecated, use a list instead.\n",
      "  bootstrapped_downward = tmp.groupby(['#t(centisec)'])['ang_pos', 'dist', 'speed_diff', 'acc_diff', 'cc'].mean().reset_index()\n",
      "/var/folders/ng/l4j590g95vl5r33ctw59y6cr0000gn/T/ipykernel_26977/3258036297.py:12: FutureWarning: Indexing with multiple keys (implicitly converted to a tuple of keys) will be deprecated, use a list instead.\n",
      "  bootstrapped_downward = tmp.groupby(['#t(centisec)'])['ang_pos', 'dist', 'speed_diff', 'acc_diff', 'cc'].mean().reset_index()\n",
      "/var/folders/ng/l4j590g95vl5r33ctw59y6cr0000gn/T/ipykernel_26977/3258036297.py:12: FutureWarning: Indexing with multiple keys (implicitly converted to a tuple of keys) will be deprecated, use a list instead.\n",
      "  bootstrapped_downward = tmp.groupby(['#t(centisec)'])['ang_pos', 'dist', 'speed_diff', 'acc_diff', 'cc'].mean().reset_index()\n",
      "/var/folders/ng/l4j590g95vl5r33ctw59y6cr0000gn/T/ipykernel_26977/3258036297.py:12: FutureWarning: Indexing with multiple keys (implicitly converted to a tuple of keys) will be deprecated, use a list instead.\n",
      "  bootstrapped_downward = tmp.groupby(['#t(centisec)'])['ang_pos', 'dist', 'speed_diff', 'acc_diff', 'cc'].mean().reset_index()\n",
      "/var/folders/ng/l4j590g95vl5r33ctw59y6cr0000gn/T/ipykernel_26977/3258036297.py:12: FutureWarning: Indexing with multiple keys (implicitly converted to a tuple of keys) will be deprecated, use a list instead.\n",
      "  bootstrapped_downward = tmp.groupby(['#t(centisec)'])['ang_pos', 'dist', 'speed_diff', 'acc_diff', 'cc'].mean().reset_index()\n",
      "/var/folders/ng/l4j590g95vl5r33ctw59y6cr0000gn/T/ipykernel_26977/3258036297.py:12: FutureWarning: Indexing with multiple keys (implicitly converted to a tuple of keys) will be deprecated, use a list instead.\n",
      "  bootstrapped_downward = tmp.groupby(['#t(centisec)'])['ang_pos', 'dist', 'speed_diff', 'acc_diff', 'cc'].mean().reset_index()\n"
     ]
    },
    {
     "name": "stdout",
     "output_type": "stream",
     "text": [
      "20\n"
     ]
    },
    {
     "name": "stderr",
     "output_type": "stream",
     "text": [
      "/var/folders/ng/l4j590g95vl5r33ctw59y6cr0000gn/T/ipykernel_26977/3258036297.py:12: FutureWarning: Indexing with multiple keys (implicitly converted to a tuple of keys) will be deprecated, use a list instead.\n",
      "  bootstrapped_downward = tmp.groupby(['#t(centisec)'])['ang_pos', 'dist', 'speed_diff', 'acc_diff', 'cc'].mean().reset_index()\n",
      "/var/folders/ng/l4j590g95vl5r33ctw59y6cr0000gn/T/ipykernel_26977/3258036297.py:12: FutureWarning: Indexing with multiple keys (implicitly converted to a tuple of keys) will be deprecated, use a list instead.\n",
      "  bootstrapped_downward = tmp.groupby(['#t(centisec)'])['ang_pos', 'dist', 'speed_diff', 'acc_diff', 'cc'].mean().reset_index()\n",
      "/var/folders/ng/l4j590g95vl5r33ctw59y6cr0000gn/T/ipykernel_26977/3258036297.py:12: FutureWarning: Indexing with multiple keys (implicitly converted to a tuple of keys) will be deprecated, use a list instead.\n",
      "  bootstrapped_downward = tmp.groupby(['#t(centisec)'])['ang_pos', 'dist', 'speed_diff', 'acc_diff', 'cc'].mean().reset_index()\n",
      "/var/folders/ng/l4j590g95vl5r33ctw59y6cr0000gn/T/ipykernel_26977/3258036297.py:12: FutureWarning: Indexing with multiple keys (implicitly converted to a tuple of keys) will be deprecated, use a list instead.\n",
      "  bootstrapped_downward = tmp.groupby(['#t(centisec)'])['ang_pos', 'dist', 'speed_diff', 'acc_diff', 'cc'].mean().reset_index()\n",
      "/var/folders/ng/l4j590g95vl5r33ctw59y6cr0000gn/T/ipykernel_26977/3258036297.py:12: FutureWarning: Indexing with multiple keys (implicitly converted to a tuple of keys) will be deprecated, use a list instead.\n",
      "  bootstrapped_downward = tmp.groupby(['#t(centisec)'])['ang_pos', 'dist', 'speed_diff', 'acc_diff', 'cc'].mean().reset_index()\n",
      "/var/folders/ng/l4j590g95vl5r33ctw59y6cr0000gn/T/ipykernel_26977/3258036297.py:12: FutureWarning: Indexing with multiple keys (implicitly converted to a tuple of keys) will be deprecated, use a list instead.\n",
      "  bootstrapped_downward = tmp.groupby(['#t(centisec)'])['ang_pos', 'dist', 'speed_diff', 'acc_diff', 'cc'].mean().reset_index()\n",
      "/var/folders/ng/l4j590g95vl5r33ctw59y6cr0000gn/T/ipykernel_26977/3258036297.py:12: FutureWarning: Indexing with multiple keys (implicitly converted to a tuple of keys) will be deprecated, use a list instead.\n",
      "  bootstrapped_downward = tmp.groupby(['#t(centisec)'])['ang_pos', 'dist', 'speed_diff', 'acc_diff', 'cc'].mean().reset_index()\n",
      "/var/folders/ng/l4j590g95vl5r33ctw59y6cr0000gn/T/ipykernel_26977/3258036297.py:12: FutureWarning: Indexing with multiple keys (implicitly converted to a tuple of keys) will be deprecated, use a list instead.\n",
      "  bootstrapped_downward = tmp.groupby(['#t(centisec)'])['ang_pos', 'dist', 'speed_diff', 'acc_diff', 'cc'].mean().reset_index()\n",
      "/var/folders/ng/l4j590g95vl5r33ctw59y6cr0000gn/T/ipykernel_26977/3258036297.py:12: FutureWarning: Indexing with multiple keys (implicitly converted to a tuple of keys) will be deprecated, use a list instead.\n",
      "  bootstrapped_downward = tmp.groupby(['#t(centisec)'])['ang_pos', 'dist', 'speed_diff', 'acc_diff', 'cc'].mean().reset_index()\n",
      "/var/folders/ng/l4j590g95vl5r33ctw59y6cr0000gn/T/ipykernel_26977/3258036297.py:12: FutureWarning: Indexing with multiple keys (implicitly converted to a tuple of keys) will be deprecated, use a list instead.\n",
      "  bootstrapped_downward = tmp.groupby(['#t(centisec)'])['ang_pos', 'dist', 'speed_diff', 'acc_diff', 'cc'].mean().reset_index()\n"
     ]
    },
    {
     "name": "stdout",
     "output_type": "stream",
     "text": [
      "30\n"
     ]
    },
    {
     "name": "stderr",
     "output_type": "stream",
     "text": [
      "/var/folders/ng/l4j590g95vl5r33ctw59y6cr0000gn/T/ipykernel_26977/3258036297.py:12: FutureWarning: Indexing with multiple keys (implicitly converted to a tuple of keys) will be deprecated, use a list instead.\n",
      "  bootstrapped_downward = tmp.groupby(['#t(centisec)'])['ang_pos', 'dist', 'speed_diff', 'acc_diff', 'cc'].mean().reset_index()\n",
      "/var/folders/ng/l4j590g95vl5r33ctw59y6cr0000gn/T/ipykernel_26977/3258036297.py:12: FutureWarning: Indexing with multiple keys (implicitly converted to a tuple of keys) will be deprecated, use a list instead.\n",
      "  bootstrapped_downward = tmp.groupby(['#t(centisec)'])['ang_pos', 'dist', 'speed_diff', 'acc_diff', 'cc'].mean().reset_index()\n",
      "/var/folders/ng/l4j590g95vl5r33ctw59y6cr0000gn/T/ipykernel_26977/3258036297.py:12: FutureWarning: Indexing with multiple keys (implicitly converted to a tuple of keys) will be deprecated, use a list instead.\n",
      "  bootstrapped_downward = tmp.groupby(['#t(centisec)'])['ang_pos', 'dist', 'speed_diff', 'acc_diff', 'cc'].mean().reset_index()\n",
      "/var/folders/ng/l4j590g95vl5r33ctw59y6cr0000gn/T/ipykernel_26977/3258036297.py:12: FutureWarning: Indexing with multiple keys (implicitly converted to a tuple of keys) will be deprecated, use a list instead.\n",
      "  bootstrapped_downward = tmp.groupby(['#t(centisec)'])['ang_pos', 'dist', 'speed_diff', 'acc_diff', 'cc'].mean().reset_index()\n",
      "/var/folders/ng/l4j590g95vl5r33ctw59y6cr0000gn/T/ipykernel_26977/3258036297.py:12: FutureWarning: Indexing with multiple keys (implicitly converted to a tuple of keys) will be deprecated, use a list instead.\n",
      "  bootstrapped_downward = tmp.groupby(['#t(centisec)'])['ang_pos', 'dist', 'speed_diff', 'acc_diff', 'cc'].mean().reset_index()\n",
      "/var/folders/ng/l4j590g95vl5r33ctw59y6cr0000gn/T/ipykernel_26977/3258036297.py:12: FutureWarning: Indexing with multiple keys (implicitly converted to a tuple of keys) will be deprecated, use a list instead.\n",
      "  bootstrapped_downward = tmp.groupby(['#t(centisec)'])['ang_pos', 'dist', 'speed_diff', 'acc_diff', 'cc'].mean().reset_index()\n",
      "/var/folders/ng/l4j590g95vl5r33ctw59y6cr0000gn/T/ipykernel_26977/3258036297.py:12: FutureWarning: Indexing with multiple keys (implicitly converted to a tuple of keys) will be deprecated, use a list instead.\n",
      "  bootstrapped_downward = tmp.groupby(['#t(centisec)'])['ang_pos', 'dist', 'speed_diff', 'acc_diff', 'cc'].mean().reset_index()\n",
      "/var/folders/ng/l4j590g95vl5r33ctw59y6cr0000gn/T/ipykernel_26977/3258036297.py:12: FutureWarning: Indexing with multiple keys (implicitly converted to a tuple of keys) will be deprecated, use a list instead.\n",
      "  bootstrapped_downward = tmp.groupby(['#t(centisec)'])['ang_pos', 'dist', 'speed_diff', 'acc_diff', 'cc'].mean().reset_index()\n",
      "/var/folders/ng/l4j590g95vl5r33ctw59y6cr0000gn/T/ipykernel_26977/3258036297.py:12: FutureWarning: Indexing with multiple keys (implicitly converted to a tuple of keys) will be deprecated, use a list instead.\n",
      "  bootstrapped_downward = tmp.groupby(['#t(centisec)'])['ang_pos', 'dist', 'speed_diff', 'acc_diff', 'cc'].mean().reset_index()\n",
      "/var/folders/ng/l4j590g95vl5r33ctw59y6cr0000gn/T/ipykernel_26977/3258036297.py:12: FutureWarning: Indexing with multiple keys (implicitly converted to a tuple of keys) will be deprecated, use a list instead.\n",
      "  bootstrapped_downward = tmp.groupby(['#t(centisec)'])['ang_pos', 'dist', 'speed_diff', 'acc_diff', 'cc'].mean().reset_index()\n"
     ]
    },
    {
     "name": "stdout",
     "output_type": "stream",
     "text": [
      "40\n"
     ]
    },
    {
     "name": "stderr",
     "output_type": "stream",
     "text": [
      "/var/folders/ng/l4j590g95vl5r33ctw59y6cr0000gn/T/ipykernel_26977/3258036297.py:12: FutureWarning: Indexing with multiple keys (implicitly converted to a tuple of keys) will be deprecated, use a list instead.\n",
      "  bootstrapped_downward = tmp.groupby(['#t(centisec)'])['ang_pos', 'dist', 'speed_diff', 'acc_diff', 'cc'].mean().reset_index()\n",
      "/var/folders/ng/l4j590g95vl5r33ctw59y6cr0000gn/T/ipykernel_26977/3258036297.py:12: FutureWarning: Indexing with multiple keys (implicitly converted to a tuple of keys) will be deprecated, use a list instead.\n",
      "  bootstrapped_downward = tmp.groupby(['#t(centisec)'])['ang_pos', 'dist', 'speed_diff', 'acc_diff', 'cc'].mean().reset_index()\n",
      "/var/folders/ng/l4j590g95vl5r33ctw59y6cr0000gn/T/ipykernel_26977/3258036297.py:12: FutureWarning: Indexing with multiple keys (implicitly converted to a tuple of keys) will be deprecated, use a list instead.\n",
      "  bootstrapped_downward = tmp.groupby(['#t(centisec)'])['ang_pos', 'dist', 'speed_diff', 'acc_diff', 'cc'].mean().reset_index()\n",
      "/var/folders/ng/l4j590g95vl5r33ctw59y6cr0000gn/T/ipykernel_26977/3258036297.py:12: FutureWarning: Indexing with multiple keys (implicitly converted to a tuple of keys) will be deprecated, use a list instead.\n",
      "  bootstrapped_downward = tmp.groupby(['#t(centisec)'])['ang_pos', 'dist', 'speed_diff', 'acc_diff', 'cc'].mean().reset_index()\n",
      "/var/folders/ng/l4j590g95vl5r33ctw59y6cr0000gn/T/ipykernel_26977/3258036297.py:12: FutureWarning: Indexing with multiple keys (implicitly converted to a tuple of keys) will be deprecated, use a list instead.\n",
      "  bootstrapped_downward = tmp.groupby(['#t(centisec)'])['ang_pos', 'dist', 'speed_diff', 'acc_diff', 'cc'].mean().reset_index()\n",
      "/var/folders/ng/l4j590g95vl5r33ctw59y6cr0000gn/T/ipykernel_26977/3258036297.py:12: FutureWarning: Indexing with multiple keys (implicitly converted to a tuple of keys) will be deprecated, use a list instead.\n",
      "  bootstrapped_downward = tmp.groupby(['#t(centisec)'])['ang_pos', 'dist', 'speed_diff', 'acc_diff', 'cc'].mean().reset_index()\n",
      "/var/folders/ng/l4j590g95vl5r33ctw59y6cr0000gn/T/ipykernel_26977/3258036297.py:12: FutureWarning: Indexing with multiple keys (implicitly converted to a tuple of keys) will be deprecated, use a list instead.\n",
      "  bootstrapped_downward = tmp.groupby(['#t(centisec)'])['ang_pos', 'dist', 'speed_diff', 'acc_diff', 'cc'].mean().reset_index()\n",
      "/var/folders/ng/l4j590g95vl5r33ctw59y6cr0000gn/T/ipykernel_26977/3258036297.py:12: FutureWarning: Indexing with multiple keys (implicitly converted to a tuple of keys) will be deprecated, use a list instead.\n",
      "  bootstrapped_downward = tmp.groupby(['#t(centisec)'])['ang_pos', 'dist', 'speed_diff', 'acc_diff', 'cc'].mean().reset_index()\n",
      "/var/folders/ng/l4j590g95vl5r33ctw59y6cr0000gn/T/ipykernel_26977/3258036297.py:12: FutureWarning: Indexing with multiple keys (implicitly converted to a tuple of keys) will be deprecated, use a list instead.\n",
      "  bootstrapped_downward = tmp.groupby(['#t(centisec)'])['ang_pos', 'dist', 'speed_diff', 'acc_diff', 'cc'].mean().reset_index()\n",
      "/var/folders/ng/l4j590g95vl5r33ctw59y6cr0000gn/T/ipykernel_26977/3258036297.py:12: FutureWarning: Indexing with multiple keys (implicitly converted to a tuple of keys) will be deprecated, use a list instead.\n",
      "  bootstrapped_downward = tmp.groupby(['#t(centisec)'])['ang_pos', 'dist', 'speed_diff', 'acc_diff', 'cc'].mean().reset_index()\n"
     ]
    },
    {
     "name": "stdout",
     "output_type": "stream",
     "text": [
      "50\n"
     ]
    },
    {
     "name": "stderr",
     "output_type": "stream",
     "text": [
      "/var/folders/ng/l4j590g95vl5r33ctw59y6cr0000gn/T/ipykernel_26977/3258036297.py:12: FutureWarning: Indexing with multiple keys (implicitly converted to a tuple of keys) will be deprecated, use a list instead.\n",
      "  bootstrapped_downward = tmp.groupby(['#t(centisec)'])['ang_pos', 'dist', 'speed_diff', 'acc_diff', 'cc'].mean().reset_index()\n",
      "/var/folders/ng/l4j590g95vl5r33ctw59y6cr0000gn/T/ipykernel_26977/3258036297.py:12: FutureWarning: Indexing with multiple keys (implicitly converted to a tuple of keys) will be deprecated, use a list instead.\n",
      "  bootstrapped_downward = tmp.groupby(['#t(centisec)'])['ang_pos', 'dist', 'speed_diff', 'acc_diff', 'cc'].mean().reset_index()\n",
      "/var/folders/ng/l4j590g95vl5r33ctw59y6cr0000gn/T/ipykernel_26977/3258036297.py:12: FutureWarning: Indexing with multiple keys (implicitly converted to a tuple of keys) will be deprecated, use a list instead.\n",
      "  bootstrapped_downward = tmp.groupby(['#t(centisec)'])['ang_pos', 'dist', 'speed_diff', 'acc_diff', 'cc'].mean().reset_index()\n",
      "/var/folders/ng/l4j590g95vl5r33ctw59y6cr0000gn/T/ipykernel_26977/3258036297.py:12: FutureWarning: Indexing with multiple keys (implicitly converted to a tuple of keys) will be deprecated, use a list instead.\n",
      "  bootstrapped_downward = tmp.groupby(['#t(centisec)'])['ang_pos', 'dist', 'speed_diff', 'acc_diff', 'cc'].mean().reset_index()\n",
      "/var/folders/ng/l4j590g95vl5r33ctw59y6cr0000gn/T/ipykernel_26977/3258036297.py:12: FutureWarning: Indexing with multiple keys (implicitly converted to a tuple of keys) will be deprecated, use a list instead.\n",
      "  bootstrapped_downward = tmp.groupby(['#t(centisec)'])['ang_pos', 'dist', 'speed_diff', 'acc_diff', 'cc'].mean().reset_index()\n",
      "/var/folders/ng/l4j590g95vl5r33ctw59y6cr0000gn/T/ipykernel_26977/3258036297.py:12: FutureWarning: Indexing with multiple keys (implicitly converted to a tuple of keys) will be deprecated, use a list instead.\n",
      "  bootstrapped_downward = tmp.groupby(['#t(centisec)'])['ang_pos', 'dist', 'speed_diff', 'acc_diff', 'cc'].mean().reset_index()\n",
      "/var/folders/ng/l4j590g95vl5r33ctw59y6cr0000gn/T/ipykernel_26977/3258036297.py:12: FutureWarning: Indexing with multiple keys (implicitly converted to a tuple of keys) will be deprecated, use a list instead.\n",
      "  bootstrapped_downward = tmp.groupby(['#t(centisec)'])['ang_pos', 'dist', 'speed_diff', 'acc_diff', 'cc'].mean().reset_index()\n",
      "/var/folders/ng/l4j590g95vl5r33ctw59y6cr0000gn/T/ipykernel_26977/3258036297.py:12: FutureWarning: Indexing with multiple keys (implicitly converted to a tuple of keys) will be deprecated, use a list instead.\n",
      "  bootstrapped_downward = tmp.groupby(['#t(centisec)'])['ang_pos', 'dist', 'speed_diff', 'acc_diff', 'cc'].mean().reset_index()\n",
      "/var/folders/ng/l4j590g95vl5r33ctw59y6cr0000gn/T/ipykernel_26977/3258036297.py:12: FutureWarning: Indexing with multiple keys (implicitly converted to a tuple of keys) will be deprecated, use a list instead.\n",
      "  bootstrapped_downward = tmp.groupby(['#t(centisec)'])['ang_pos', 'dist', 'speed_diff', 'acc_diff', 'cc'].mean().reset_index()\n",
      "/var/folders/ng/l4j590g95vl5r33ctw59y6cr0000gn/T/ipykernel_26977/3258036297.py:12: FutureWarning: Indexing with multiple keys (implicitly converted to a tuple of keys) will be deprecated, use a list instead.\n",
      "  bootstrapped_downward = tmp.groupby(['#t(centisec)'])['ang_pos', 'dist', 'speed_diff', 'acc_diff', 'cc'].mean().reset_index()\n"
     ]
    },
    {
     "name": "stdout",
     "output_type": "stream",
     "text": [
      "60\n"
     ]
    },
    {
     "name": "stderr",
     "output_type": "stream",
     "text": [
      "/var/folders/ng/l4j590g95vl5r33ctw59y6cr0000gn/T/ipykernel_26977/3258036297.py:12: FutureWarning: Indexing with multiple keys (implicitly converted to a tuple of keys) will be deprecated, use a list instead.\n",
      "  bootstrapped_downward = tmp.groupby(['#t(centisec)'])['ang_pos', 'dist', 'speed_diff', 'acc_diff', 'cc'].mean().reset_index()\n",
      "/var/folders/ng/l4j590g95vl5r33ctw59y6cr0000gn/T/ipykernel_26977/3258036297.py:12: FutureWarning: Indexing with multiple keys (implicitly converted to a tuple of keys) will be deprecated, use a list instead.\n",
      "  bootstrapped_downward = tmp.groupby(['#t(centisec)'])['ang_pos', 'dist', 'speed_diff', 'acc_diff', 'cc'].mean().reset_index()\n",
      "/var/folders/ng/l4j590g95vl5r33ctw59y6cr0000gn/T/ipykernel_26977/3258036297.py:12: FutureWarning: Indexing with multiple keys (implicitly converted to a tuple of keys) will be deprecated, use a list instead.\n",
      "  bootstrapped_downward = tmp.groupby(['#t(centisec)'])['ang_pos', 'dist', 'speed_diff', 'acc_diff', 'cc'].mean().reset_index()\n",
      "/var/folders/ng/l4j590g95vl5r33ctw59y6cr0000gn/T/ipykernel_26977/3258036297.py:12: FutureWarning: Indexing with multiple keys (implicitly converted to a tuple of keys) will be deprecated, use a list instead.\n",
      "  bootstrapped_downward = tmp.groupby(['#t(centisec)'])['ang_pos', 'dist', 'speed_diff', 'acc_diff', 'cc'].mean().reset_index()\n",
      "/var/folders/ng/l4j590g95vl5r33ctw59y6cr0000gn/T/ipykernel_26977/3258036297.py:12: FutureWarning: Indexing with multiple keys (implicitly converted to a tuple of keys) will be deprecated, use a list instead.\n",
      "  bootstrapped_downward = tmp.groupby(['#t(centisec)'])['ang_pos', 'dist', 'speed_diff', 'acc_diff', 'cc'].mean().reset_index()\n",
      "/var/folders/ng/l4j590g95vl5r33ctw59y6cr0000gn/T/ipykernel_26977/3258036297.py:12: FutureWarning: Indexing with multiple keys (implicitly converted to a tuple of keys) will be deprecated, use a list instead.\n",
      "  bootstrapped_downward = tmp.groupby(['#t(centisec)'])['ang_pos', 'dist', 'speed_diff', 'acc_diff', 'cc'].mean().reset_index()\n",
      "/var/folders/ng/l4j590g95vl5r33ctw59y6cr0000gn/T/ipykernel_26977/3258036297.py:12: FutureWarning: Indexing with multiple keys (implicitly converted to a tuple of keys) will be deprecated, use a list instead.\n",
      "  bootstrapped_downward = tmp.groupby(['#t(centisec)'])['ang_pos', 'dist', 'speed_diff', 'acc_diff', 'cc'].mean().reset_index()\n",
      "/var/folders/ng/l4j590g95vl5r33ctw59y6cr0000gn/T/ipykernel_26977/3258036297.py:12: FutureWarning: Indexing with multiple keys (implicitly converted to a tuple of keys) will be deprecated, use a list instead.\n",
      "  bootstrapped_downward = tmp.groupby(['#t(centisec)'])['ang_pos', 'dist', 'speed_diff', 'acc_diff', 'cc'].mean().reset_index()\n",
      "/var/folders/ng/l4j590g95vl5r33ctw59y6cr0000gn/T/ipykernel_26977/3258036297.py:12: FutureWarning: Indexing with multiple keys (implicitly converted to a tuple of keys) will be deprecated, use a list instead.\n",
      "  bootstrapped_downward = tmp.groupby(['#t(centisec)'])['ang_pos', 'dist', 'speed_diff', 'acc_diff', 'cc'].mean().reset_index()\n",
      "/var/folders/ng/l4j590g95vl5r33ctw59y6cr0000gn/T/ipykernel_26977/3258036297.py:12: FutureWarning: Indexing with multiple keys (implicitly converted to a tuple of keys) will be deprecated, use a list instead.\n",
      "  bootstrapped_downward = tmp.groupby(['#t(centisec)'])['ang_pos', 'dist', 'speed_diff', 'acc_diff', 'cc'].mean().reset_index()\n"
     ]
    },
    {
     "name": "stdout",
     "output_type": "stream",
     "text": [
      "70\n"
     ]
    },
    {
     "name": "stderr",
     "output_type": "stream",
     "text": [
      "/var/folders/ng/l4j590g95vl5r33ctw59y6cr0000gn/T/ipykernel_26977/3258036297.py:12: FutureWarning: Indexing with multiple keys (implicitly converted to a tuple of keys) will be deprecated, use a list instead.\n",
      "  bootstrapped_downward = tmp.groupby(['#t(centisec)'])['ang_pos', 'dist', 'speed_diff', 'acc_diff', 'cc'].mean().reset_index()\n",
      "/var/folders/ng/l4j590g95vl5r33ctw59y6cr0000gn/T/ipykernel_26977/3258036297.py:12: FutureWarning: Indexing with multiple keys (implicitly converted to a tuple of keys) will be deprecated, use a list instead.\n",
      "  bootstrapped_downward = tmp.groupby(['#t(centisec)'])['ang_pos', 'dist', 'speed_diff', 'acc_diff', 'cc'].mean().reset_index()\n",
      "/var/folders/ng/l4j590g95vl5r33ctw59y6cr0000gn/T/ipykernel_26977/3258036297.py:12: FutureWarning: Indexing with multiple keys (implicitly converted to a tuple of keys) will be deprecated, use a list instead.\n",
      "  bootstrapped_downward = tmp.groupby(['#t(centisec)'])['ang_pos', 'dist', 'speed_diff', 'acc_diff', 'cc'].mean().reset_index()\n",
      "/var/folders/ng/l4j590g95vl5r33ctw59y6cr0000gn/T/ipykernel_26977/3258036297.py:12: FutureWarning: Indexing with multiple keys (implicitly converted to a tuple of keys) will be deprecated, use a list instead.\n",
      "  bootstrapped_downward = tmp.groupby(['#t(centisec)'])['ang_pos', 'dist', 'speed_diff', 'acc_diff', 'cc'].mean().reset_index()\n",
      "/var/folders/ng/l4j590g95vl5r33ctw59y6cr0000gn/T/ipykernel_26977/3258036297.py:12: FutureWarning: Indexing with multiple keys (implicitly converted to a tuple of keys) will be deprecated, use a list instead.\n",
      "  bootstrapped_downward = tmp.groupby(['#t(centisec)'])['ang_pos', 'dist', 'speed_diff', 'acc_diff', 'cc'].mean().reset_index()\n",
      "/var/folders/ng/l4j590g95vl5r33ctw59y6cr0000gn/T/ipykernel_26977/3258036297.py:12: FutureWarning: Indexing with multiple keys (implicitly converted to a tuple of keys) will be deprecated, use a list instead.\n",
      "  bootstrapped_downward = tmp.groupby(['#t(centisec)'])['ang_pos', 'dist', 'speed_diff', 'acc_diff', 'cc'].mean().reset_index()\n",
      "/var/folders/ng/l4j590g95vl5r33ctw59y6cr0000gn/T/ipykernel_26977/3258036297.py:12: FutureWarning: Indexing with multiple keys (implicitly converted to a tuple of keys) will be deprecated, use a list instead.\n",
      "  bootstrapped_downward = tmp.groupby(['#t(centisec)'])['ang_pos', 'dist', 'speed_diff', 'acc_diff', 'cc'].mean().reset_index()\n",
      "/var/folders/ng/l4j590g95vl5r33ctw59y6cr0000gn/T/ipykernel_26977/3258036297.py:12: FutureWarning: Indexing with multiple keys (implicitly converted to a tuple of keys) will be deprecated, use a list instead.\n",
      "  bootstrapped_downward = tmp.groupby(['#t(centisec)'])['ang_pos', 'dist', 'speed_diff', 'acc_diff', 'cc'].mean().reset_index()\n",
      "/var/folders/ng/l4j590g95vl5r33ctw59y6cr0000gn/T/ipykernel_26977/3258036297.py:12: FutureWarning: Indexing with multiple keys (implicitly converted to a tuple of keys) will be deprecated, use a list instead.\n",
      "  bootstrapped_downward = tmp.groupby(['#t(centisec)'])['ang_pos', 'dist', 'speed_diff', 'acc_diff', 'cc'].mean().reset_index()\n",
      "/var/folders/ng/l4j590g95vl5r33ctw59y6cr0000gn/T/ipykernel_26977/3258036297.py:12: FutureWarning: Indexing with multiple keys (implicitly converted to a tuple of keys) will be deprecated, use a list instead.\n",
      "  bootstrapped_downward = tmp.groupby(['#t(centisec)'])['ang_pos', 'dist', 'speed_diff', 'acc_diff', 'cc'].mean().reset_index()\n"
     ]
    },
    {
     "name": "stdout",
     "output_type": "stream",
     "text": [
      "80\n"
     ]
    },
    {
     "name": "stderr",
     "output_type": "stream",
     "text": [
      "/var/folders/ng/l4j590g95vl5r33ctw59y6cr0000gn/T/ipykernel_26977/3258036297.py:12: FutureWarning: Indexing with multiple keys (implicitly converted to a tuple of keys) will be deprecated, use a list instead.\n",
      "  bootstrapped_downward = tmp.groupby(['#t(centisec)'])['ang_pos', 'dist', 'speed_diff', 'acc_diff', 'cc'].mean().reset_index()\n",
      "/var/folders/ng/l4j590g95vl5r33ctw59y6cr0000gn/T/ipykernel_26977/3258036297.py:12: FutureWarning: Indexing with multiple keys (implicitly converted to a tuple of keys) will be deprecated, use a list instead.\n",
      "  bootstrapped_downward = tmp.groupby(['#t(centisec)'])['ang_pos', 'dist', 'speed_diff', 'acc_diff', 'cc'].mean().reset_index()\n",
      "/var/folders/ng/l4j590g95vl5r33ctw59y6cr0000gn/T/ipykernel_26977/3258036297.py:12: FutureWarning: Indexing with multiple keys (implicitly converted to a tuple of keys) will be deprecated, use a list instead.\n",
      "  bootstrapped_downward = tmp.groupby(['#t(centisec)'])['ang_pos', 'dist', 'speed_diff', 'acc_diff', 'cc'].mean().reset_index()\n",
      "/var/folders/ng/l4j590g95vl5r33ctw59y6cr0000gn/T/ipykernel_26977/3258036297.py:12: FutureWarning: Indexing with multiple keys (implicitly converted to a tuple of keys) will be deprecated, use a list instead.\n",
      "  bootstrapped_downward = tmp.groupby(['#t(centisec)'])['ang_pos', 'dist', 'speed_diff', 'acc_diff', 'cc'].mean().reset_index()\n",
      "/var/folders/ng/l4j590g95vl5r33ctw59y6cr0000gn/T/ipykernel_26977/3258036297.py:12: FutureWarning: Indexing with multiple keys (implicitly converted to a tuple of keys) will be deprecated, use a list instead.\n",
      "  bootstrapped_downward = tmp.groupby(['#t(centisec)'])['ang_pos', 'dist', 'speed_diff', 'acc_diff', 'cc'].mean().reset_index()\n",
      "/var/folders/ng/l4j590g95vl5r33ctw59y6cr0000gn/T/ipykernel_26977/3258036297.py:12: FutureWarning: Indexing with multiple keys (implicitly converted to a tuple of keys) will be deprecated, use a list instead.\n",
      "  bootstrapped_downward = tmp.groupby(['#t(centisec)'])['ang_pos', 'dist', 'speed_diff', 'acc_diff', 'cc'].mean().reset_index()\n",
      "/var/folders/ng/l4j590g95vl5r33ctw59y6cr0000gn/T/ipykernel_26977/3258036297.py:12: FutureWarning: Indexing with multiple keys (implicitly converted to a tuple of keys) will be deprecated, use a list instead.\n",
      "  bootstrapped_downward = tmp.groupby(['#t(centisec)'])['ang_pos', 'dist', 'speed_diff', 'acc_diff', 'cc'].mean().reset_index()\n",
      "/var/folders/ng/l4j590g95vl5r33ctw59y6cr0000gn/T/ipykernel_26977/3258036297.py:12: FutureWarning: Indexing with multiple keys (implicitly converted to a tuple of keys) will be deprecated, use a list instead.\n",
      "  bootstrapped_downward = tmp.groupby(['#t(centisec)'])['ang_pos', 'dist', 'speed_diff', 'acc_diff', 'cc'].mean().reset_index()\n",
      "/var/folders/ng/l4j590g95vl5r33ctw59y6cr0000gn/T/ipykernel_26977/3258036297.py:12: FutureWarning: Indexing with multiple keys (implicitly converted to a tuple of keys) will be deprecated, use a list instead.\n",
      "  bootstrapped_downward = tmp.groupby(['#t(centisec)'])['ang_pos', 'dist', 'speed_diff', 'acc_diff', 'cc'].mean().reset_index()\n",
      "/var/folders/ng/l4j590g95vl5r33ctw59y6cr0000gn/T/ipykernel_26977/3258036297.py:12: FutureWarning: Indexing with multiple keys (implicitly converted to a tuple of keys) will be deprecated, use a list instead.\n",
      "  bootstrapped_downward = tmp.groupby(['#t(centisec)'])['ang_pos', 'dist', 'speed_diff', 'acc_diff', 'cc'].mean().reset_index()\n"
     ]
    },
    {
     "name": "stdout",
     "output_type": "stream",
     "text": [
      "90\n"
     ]
    },
    {
     "name": "stderr",
     "output_type": "stream",
     "text": [
      "/var/folders/ng/l4j590g95vl5r33ctw59y6cr0000gn/T/ipykernel_26977/3258036297.py:12: FutureWarning: Indexing with multiple keys (implicitly converted to a tuple of keys) will be deprecated, use a list instead.\n",
      "  bootstrapped_downward = tmp.groupby(['#t(centisec)'])['ang_pos', 'dist', 'speed_diff', 'acc_diff', 'cc'].mean().reset_index()\n",
      "/var/folders/ng/l4j590g95vl5r33ctw59y6cr0000gn/T/ipykernel_26977/3258036297.py:12: FutureWarning: Indexing with multiple keys (implicitly converted to a tuple of keys) will be deprecated, use a list instead.\n",
      "  bootstrapped_downward = tmp.groupby(['#t(centisec)'])['ang_pos', 'dist', 'speed_diff', 'acc_diff', 'cc'].mean().reset_index()\n",
      "/var/folders/ng/l4j590g95vl5r33ctw59y6cr0000gn/T/ipykernel_26977/3258036297.py:12: FutureWarning: Indexing with multiple keys (implicitly converted to a tuple of keys) will be deprecated, use a list instead.\n",
      "  bootstrapped_downward = tmp.groupby(['#t(centisec)'])['ang_pos', 'dist', 'speed_diff', 'acc_diff', 'cc'].mean().reset_index()\n",
      "/var/folders/ng/l4j590g95vl5r33ctw59y6cr0000gn/T/ipykernel_26977/3258036297.py:12: FutureWarning: Indexing with multiple keys (implicitly converted to a tuple of keys) will be deprecated, use a list instead.\n",
      "  bootstrapped_downward = tmp.groupby(['#t(centisec)'])['ang_pos', 'dist', 'speed_diff', 'acc_diff', 'cc'].mean().reset_index()\n",
      "/var/folders/ng/l4j590g95vl5r33ctw59y6cr0000gn/T/ipykernel_26977/3258036297.py:12: FutureWarning: Indexing with multiple keys (implicitly converted to a tuple of keys) will be deprecated, use a list instead.\n",
      "  bootstrapped_downward = tmp.groupby(['#t(centisec)'])['ang_pos', 'dist', 'speed_diff', 'acc_diff', 'cc'].mean().reset_index()\n",
      "/var/folders/ng/l4j590g95vl5r33ctw59y6cr0000gn/T/ipykernel_26977/3258036297.py:12: FutureWarning: Indexing with multiple keys (implicitly converted to a tuple of keys) will be deprecated, use a list instead.\n",
      "  bootstrapped_downward = tmp.groupby(['#t(centisec)'])['ang_pos', 'dist', 'speed_diff', 'acc_diff', 'cc'].mean().reset_index()\n",
      "/var/folders/ng/l4j590g95vl5r33ctw59y6cr0000gn/T/ipykernel_26977/3258036297.py:12: FutureWarning: Indexing with multiple keys (implicitly converted to a tuple of keys) will be deprecated, use a list instead.\n",
      "  bootstrapped_downward = tmp.groupby(['#t(centisec)'])['ang_pos', 'dist', 'speed_diff', 'acc_diff', 'cc'].mean().reset_index()\n",
      "/var/folders/ng/l4j590g95vl5r33ctw59y6cr0000gn/T/ipykernel_26977/3258036297.py:12: FutureWarning: Indexing with multiple keys (implicitly converted to a tuple of keys) will be deprecated, use a list instead.\n",
      "  bootstrapped_downward = tmp.groupby(['#t(centisec)'])['ang_pos', 'dist', 'speed_diff', 'acc_diff', 'cc'].mean().reset_index()\n",
      "/var/folders/ng/l4j590g95vl5r33ctw59y6cr0000gn/T/ipykernel_26977/3258036297.py:12: FutureWarning: Indexing with multiple keys (implicitly converted to a tuple of keys) will be deprecated, use a list instead.\n",
      "  bootstrapped_downward = tmp.groupby(['#t(centisec)'])['ang_pos', 'dist', 'speed_diff', 'acc_diff', 'cc'].mean().reset_index()\n",
      "/var/folders/ng/l4j590g95vl5r33ctw59y6cr0000gn/T/ipykernel_26977/3258036297.py:12: FutureWarning: Indexing with multiple keys (implicitly converted to a tuple of keys) will be deprecated, use a list instead.\n",
      "  bootstrapped_downward = tmp.groupby(['#t(centisec)'])['ang_pos', 'dist', 'speed_diff', 'acc_diff', 'cc'].mean().reset_index()\n"
     ]
    },
    {
     "name": "stdout",
     "output_type": "stream",
     "text": [
      "100\n"
     ]
    },
    {
     "name": "stderr",
     "output_type": "stream",
     "text": [
      "/var/folders/ng/l4j590g95vl5r33ctw59y6cr0000gn/T/ipykernel_26977/3258036297.py:12: FutureWarning: Indexing with multiple keys (implicitly converted to a tuple of keys) will be deprecated, use a list instead.\n",
      "  bootstrapped_downward = tmp.groupby(['#t(centisec)'])['ang_pos', 'dist', 'speed_diff', 'acc_diff', 'cc'].mean().reset_index()\n",
      "/var/folders/ng/l4j590g95vl5r33ctw59y6cr0000gn/T/ipykernel_26977/3258036297.py:12: FutureWarning: Indexing with multiple keys (implicitly converted to a tuple of keys) will be deprecated, use a list instead.\n",
      "  bootstrapped_downward = tmp.groupby(['#t(centisec)'])['ang_pos', 'dist', 'speed_diff', 'acc_diff', 'cc'].mean().reset_index()\n",
      "/var/folders/ng/l4j590g95vl5r33ctw59y6cr0000gn/T/ipykernel_26977/3258036297.py:12: FutureWarning: Indexing with multiple keys (implicitly converted to a tuple of keys) will be deprecated, use a list instead.\n",
      "  bootstrapped_downward = tmp.groupby(['#t(centisec)'])['ang_pos', 'dist', 'speed_diff', 'acc_diff', 'cc'].mean().reset_index()\n",
      "/var/folders/ng/l4j590g95vl5r33ctw59y6cr0000gn/T/ipykernel_26977/3258036297.py:12: FutureWarning: Indexing with multiple keys (implicitly converted to a tuple of keys) will be deprecated, use a list instead.\n",
      "  bootstrapped_downward = tmp.groupby(['#t(centisec)'])['ang_pos', 'dist', 'speed_diff', 'acc_diff', 'cc'].mean().reset_index()\n",
      "/var/folders/ng/l4j590g95vl5r33ctw59y6cr0000gn/T/ipykernel_26977/3258036297.py:12: FutureWarning: Indexing with multiple keys (implicitly converted to a tuple of keys) will be deprecated, use a list instead.\n",
      "  bootstrapped_downward = tmp.groupby(['#t(centisec)'])['ang_pos', 'dist', 'speed_diff', 'acc_diff', 'cc'].mean().reset_index()\n",
      "/var/folders/ng/l4j590g95vl5r33ctw59y6cr0000gn/T/ipykernel_26977/3258036297.py:12: FutureWarning: Indexing with multiple keys (implicitly converted to a tuple of keys) will be deprecated, use a list instead.\n",
      "  bootstrapped_downward = tmp.groupby(['#t(centisec)'])['ang_pos', 'dist', 'speed_diff', 'acc_diff', 'cc'].mean().reset_index()\n",
      "/var/folders/ng/l4j590g95vl5r33ctw59y6cr0000gn/T/ipykernel_26977/3258036297.py:12: FutureWarning: Indexing with multiple keys (implicitly converted to a tuple of keys) will be deprecated, use a list instead.\n",
      "  bootstrapped_downward = tmp.groupby(['#t(centisec)'])['ang_pos', 'dist', 'speed_diff', 'acc_diff', 'cc'].mean().reset_index()\n",
      "/var/folders/ng/l4j590g95vl5r33ctw59y6cr0000gn/T/ipykernel_26977/3258036297.py:12: FutureWarning: Indexing with multiple keys (implicitly converted to a tuple of keys) will be deprecated, use a list instead.\n",
      "  bootstrapped_downward = tmp.groupby(['#t(centisec)'])['ang_pos', 'dist', 'speed_diff', 'acc_diff', 'cc'].mean().reset_index()\n",
      "/var/folders/ng/l4j590g95vl5r33ctw59y6cr0000gn/T/ipykernel_26977/3258036297.py:12: FutureWarning: Indexing with multiple keys (implicitly converted to a tuple of keys) will be deprecated, use a list instead.\n",
      "  bootstrapped_downward = tmp.groupby(['#t(centisec)'])['ang_pos', 'dist', 'speed_diff', 'acc_diff', 'cc'].mean().reset_index()\n",
      "/var/folders/ng/l4j590g95vl5r33ctw59y6cr0000gn/T/ipykernel_26977/3258036297.py:12: FutureWarning: Indexing with multiple keys (implicitly converted to a tuple of keys) will be deprecated, use a list instead.\n",
      "  bootstrapped_downward = tmp.groupby(['#t(centisec)'])['ang_pos', 'dist', 'speed_diff', 'acc_diff', 'cc'].mean().reset_index()\n"
     ]
    },
    {
     "name": "stdout",
     "output_type": "stream",
     "text": [
      "110\n"
     ]
    },
    {
     "name": "stderr",
     "output_type": "stream",
     "text": [
      "/var/folders/ng/l4j590g95vl5r33ctw59y6cr0000gn/T/ipykernel_26977/3258036297.py:12: FutureWarning: Indexing with multiple keys (implicitly converted to a tuple of keys) will be deprecated, use a list instead.\n",
      "  bootstrapped_downward = tmp.groupby(['#t(centisec)'])['ang_pos', 'dist', 'speed_diff', 'acc_diff', 'cc'].mean().reset_index()\n",
      "/var/folders/ng/l4j590g95vl5r33ctw59y6cr0000gn/T/ipykernel_26977/3258036297.py:12: FutureWarning: Indexing with multiple keys (implicitly converted to a tuple of keys) will be deprecated, use a list instead.\n",
      "  bootstrapped_downward = tmp.groupby(['#t(centisec)'])['ang_pos', 'dist', 'speed_diff', 'acc_diff', 'cc'].mean().reset_index()\n",
      "/var/folders/ng/l4j590g95vl5r33ctw59y6cr0000gn/T/ipykernel_26977/3258036297.py:12: FutureWarning: Indexing with multiple keys (implicitly converted to a tuple of keys) will be deprecated, use a list instead.\n",
      "  bootstrapped_downward = tmp.groupby(['#t(centisec)'])['ang_pos', 'dist', 'speed_diff', 'acc_diff', 'cc'].mean().reset_index()\n",
      "/var/folders/ng/l4j590g95vl5r33ctw59y6cr0000gn/T/ipykernel_26977/3258036297.py:12: FutureWarning: Indexing with multiple keys (implicitly converted to a tuple of keys) will be deprecated, use a list instead.\n",
      "  bootstrapped_downward = tmp.groupby(['#t(centisec)'])['ang_pos', 'dist', 'speed_diff', 'acc_diff', 'cc'].mean().reset_index()\n",
      "/var/folders/ng/l4j590g95vl5r33ctw59y6cr0000gn/T/ipykernel_26977/3258036297.py:12: FutureWarning: Indexing with multiple keys (implicitly converted to a tuple of keys) will be deprecated, use a list instead.\n",
      "  bootstrapped_downward = tmp.groupby(['#t(centisec)'])['ang_pos', 'dist', 'speed_diff', 'acc_diff', 'cc'].mean().reset_index()\n",
      "/var/folders/ng/l4j590g95vl5r33ctw59y6cr0000gn/T/ipykernel_26977/3258036297.py:12: FutureWarning: Indexing with multiple keys (implicitly converted to a tuple of keys) will be deprecated, use a list instead.\n",
      "  bootstrapped_downward = tmp.groupby(['#t(centisec)'])['ang_pos', 'dist', 'speed_diff', 'acc_diff', 'cc'].mean().reset_index()\n",
      "/var/folders/ng/l4j590g95vl5r33ctw59y6cr0000gn/T/ipykernel_26977/3258036297.py:12: FutureWarning: Indexing with multiple keys (implicitly converted to a tuple of keys) will be deprecated, use a list instead.\n",
      "  bootstrapped_downward = tmp.groupby(['#t(centisec)'])['ang_pos', 'dist', 'speed_diff', 'acc_diff', 'cc'].mean().reset_index()\n",
      "/var/folders/ng/l4j590g95vl5r33ctw59y6cr0000gn/T/ipykernel_26977/3258036297.py:12: FutureWarning: Indexing with multiple keys (implicitly converted to a tuple of keys) will be deprecated, use a list instead.\n",
      "  bootstrapped_downward = tmp.groupby(['#t(centisec)'])['ang_pos', 'dist', 'speed_diff', 'acc_diff', 'cc'].mean().reset_index()\n",
      "/var/folders/ng/l4j590g95vl5r33ctw59y6cr0000gn/T/ipykernel_26977/3258036297.py:12: FutureWarning: Indexing with multiple keys (implicitly converted to a tuple of keys) will be deprecated, use a list instead.\n",
      "  bootstrapped_downward = tmp.groupby(['#t(centisec)'])['ang_pos', 'dist', 'speed_diff', 'acc_diff', 'cc'].mean().reset_index()\n",
      "/var/folders/ng/l4j590g95vl5r33ctw59y6cr0000gn/T/ipykernel_26977/3258036297.py:12: FutureWarning: Indexing with multiple keys (implicitly converted to a tuple of keys) will be deprecated, use a list instead.\n",
      "  bootstrapped_downward = tmp.groupby(['#t(centisec)'])['ang_pos', 'dist', 'speed_diff', 'acc_diff', 'cc'].mean().reset_index()\n"
     ]
    },
    {
     "name": "stdout",
     "output_type": "stream",
     "text": [
      "120\n"
     ]
    },
    {
     "name": "stderr",
     "output_type": "stream",
     "text": [
      "/var/folders/ng/l4j590g95vl5r33ctw59y6cr0000gn/T/ipykernel_26977/3258036297.py:12: FutureWarning: Indexing with multiple keys (implicitly converted to a tuple of keys) will be deprecated, use a list instead.\n",
      "  bootstrapped_downward = tmp.groupby(['#t(centisec)'])['ang_pos', 'dist', 'speed_diff', 'acc_diff', 'cc'].mean().reset_index()\n",
      "/var/folders/ng/l4j590g95vl5r33ctw59y6cr0000gn/T/ipykernel_26977/3258036297.py:12: FutureWarning: Indexing with multiple keys (implicitly converted to a tuple of keys) will be deprecated, use a list instead.\n",
      "  bootstrapped_downward = tmp.groupby(['#t(centisec)'])['ang_pos', 'dist', 'speed_diff', 'acc_diff', 'cc'].mean().reset_index()\n",
      "/var/folders/ng/l4j590g95vl5r33ctw59y6cr0000gn/T/ipykernel_26977/3258036297.py:12: FutureWarning: Indexing with multiple keys (implicitly converted to a tuple of keys) will be deprecated, use a list instead.\n",
      "  bootstrapped_downward = tmp.groupby(['#t(centisec)'])['ang_pos', 'dist', 'speed_diff', 'acc_diff', 'cc'].mean().reset_index()\n",
      "/var/folders/ng/l4j590g95vl5r33ctw59y6cr0000gn/T/ipykernel_26977/3258036297.py:12: FutureWarning: Indexing with multiple keys (implicitly converted to a tuple of keys) will be deprecated, use a list instead.\n",
      "  bootstrapped_downward = tmp.groupby(['#t(centisec)'])['ang_pos', 'dist', 'speed_diff', 'acc_diff', 'cc'].mean().reset_index()\n",
      "/var/folders/ng/l4j590g95vl5r33ctw59y6cr0000gn/T/ipykernel_26977/3258036297.py:12: FutureWarning: Indexing with multiple keys (implicitly converted to a tuple of keys) will be deprecated, use a list instead.\n",
      "  bootstrapped_downward = tmp.groupby(['#t(centisec)'])['ang_pos', 'dist', 'speed_diff', 'acc_diff', 'cc'].mean().reset_index()\n",
      "/var/folders/ng/l4j590g95vl5r33ctw59y6cr0000gn/T/ipykernel_26977/3258036297.py:12: FutureWarning: Indexing with multiple keys (implicitly converted to a tuple of keys) will be deprecated, use a list instead.\n",
      "  bootstrapped_downward = tmp.groupby(['#t(centisec)'])['ang_pos', 'dist', 'speed_diff', 'acc_diff', 'cc'].mean().reset_index()\n",
      "/var/folders/ng/l4j590g95vl5r33ctw59y6cr0000gn/T/ipykernel_26977/3258036297.py:12: FutureWarning: Indexing with multiple keys (implicitly converted to a tuple of keys) will be deprecated, use a list instead.\n",
      "  bootstrapped_downward = tmp.groupby(['#t(centisec)'])['ang_pos', 'dist', 'speed_diff', 'acc_diff', 'cc'].mean().reset_index()\n",
      "/var/folders/ng/l4j590g95vl5r33ctw59y6cr0000gn/T/ipykernel_26977/3258036297.py:12: FutureWarning: Indexing with multiple keys (implicitly converted to a tuple of keys) will be deprecated, use a list instead.\n",
      "  bootstrapped_downward = tmp.groupby(['#t(centisec)'])['ang_pos', 'dist', 'speed_diff', 'acc_diff', 'cc'].mean().reset_index()\n",
      "/var/folders/ng/l4j590g95vl5r33ctw59y6cr0000gn/T/ipykernel_26977/3258036297.py:12: FutureWarning: Indexing with multiple keys (implicitly converted to a tuple of keys) will be deprecated, use a list instead.\n",
      "  bootstrapped_downward = tmp.groupby(['#t(centisec)'])['ang_pos', 'dist', 'speed_diff', 'acc_diff', 'cc'].mean().reset_index()\n",
      "/var/folders/ng/l4j590g95vl5r33ctw59y6cr0000gn/T/ipykernel_26977/3258036297.py:12: FutureWarning: Indexing with multiple keys (implicitly converted to a tuple of keys) will be deprecated, use a list instead.\n",
      "  bootstrapped_downward = tmp.groupby(['#t(centisec)'])['ang_pos', 'dist', 'speed_diff', 'acc_diff', 'cc'].mean().reset_index()\n"
     ]
    },
    {
     "name": "stdout",
     "output_type": "stream",
     "text": [
      "130\n"
     ]
    },
    {
     "name": "stderr",
     "output_type": "stream",
     "text": [
      "/var/folders/ng/l4j590g95vl5r33ctw59y6cr0000gn/T/ipykernel_26977/3258036297.py:12: FutureWarning: Indexing with multiple keys (implicitly converted to a tuple of keys) will be deprecated, use a list instead.\n",
      "  bootstrapped_downward = tmp.groupby(['#t(centisec)'])['ang_pos', 'dist', 'speed_diff', 'acc_diff', 'cc'].mean().reset_index()\n",
      "/var/folders/ng/l4j590g95vl5r33ctw59y6cr0000gn/T/ipykernel_26977/3258036297.py:12: FutureWarning: Indexing with multiple keys (implicitly converted to a tuple of keys) will be deprecated, use a list instead.\n",
      "  bootstrapped_downward = tmp.groupby(['#t(centisec)'])['ang_pos', 'dist', 'speed_diff', 'acc_diff', 'cc'].mean().reset_index()\n",
      "/var/folders/ng/l4j590g95vl5r33ctw59y6cr0000gn/T/ipykernel_26977/3258036297.py:12: FutureWarning: Indexing with multiple keys (implicitly converted to a tuple of keys) will be deprecated, use a list instead.\n",
      "  bootstrapped_downward = tmp.groupby(['#t(centisec)'])['ang_pos', 'dist', 'speed_diff', 'acc_diff', 'cc'].mean().reset_index()\n",
      "/var/folders/ng/l4j590g95vl5r33ctw59y6cr0000gn/T/ipykernel_26977/3258036297.py:12: FutureWarning: Indexing with multiple keys (implicitly converted to a tuple of keys) will be deprecated, use a list instead.\n",
      "  bootstrapped_downward = tmp.groupby(['#t(centisec)'])['ang_pos', 'dist', 'speed_diff', 'acc_diff', 'cc'].mean().reset_index()\n",
      "/var/folders/ng/l4j590g95vl5r33ctw59y6cr0000gn/T/ipykernel_26977/3258036297.py:12: FutureWarning: Indexing with multiple keys (implicitly converted to a tuple of keys) will be deprecated, use a list instead.\n",
      "  bootstrapped_downward = tmp.groupby(['#t(centisec)'])['ang_pos', 'dist', 'speed_diff', 'acc_diff', 'cc'].mean().reset_index()\n",
      "/var/folders/ng/l4j590g95vl5r33ctw59y6cr0000gn/T/ipykernel_26977/3258036297.py:12: FutureWarning: Indexing with multiple keys (implicitly converted to a tuple of keys) will be deprecated, use a list instead.\n",
      "  bootstrapped_downward = tmp.groupby(['#t(centisec)'])['ang_pos', 'dist', 'speed_diff', 'acc_diff', 'cc'].mean().reset_index()\n",
      "/var/folders/ng/l4j590g95vl5r33ctw59y6cr0000gn/T/ipykernel_26977/3258036297.py:12: FutureWarning: Indexing with multiple keys (implicitly converted to a tuple of keys) will be deprecated, use a list instead.\n",
      "  bootstrapped_downward = tmp.groupby(['#t(centisec)'])['ang_pos', 'dist', 'speed_diff', 'acc_diff', 'cc'].mean().reset_index()\n",
      "/var/folders/ng/l4j590g95vl5r33ctw59y6cr0000gn/T/ipykernel_26977/3258036297.py:12: FutureWarning: Indexing with multiple keys (implicitly converted to a tuple of keys) will be deprecated, use a list instead.\n",
      "  bootstrapped_downward = tmp.groupby(['#t(centisec)'])['ang_pos', 'dist', 'speed_diff', 'acc_diff', 'cc'].mean().reset_index()\n",
      "/var/folders/ng/l4j590g95vl5r33ctw59y6cr0000gn/T/ipykernel_26977/3258036297.py:12: FutureWarning: Indexing with multiple keys (implicitly converted to a tuple of keys) will be deprecated, use a list instead.\n",
      "  bootstrapped_downward = tmp.groupby(['#t(centisec)'])['ang_pos', 'dist', 'speed_diff', 'acc_diff', 'cc'].mean().reset_index()\n",
      "/var/folders/ng/l4j590g95vl5r33ctw59y6cr0000gn/T/ipykernel_26977/3258036297.py:12: FutureWarning: Indexing with multiple keys (implicitly converted to a tuple of keys) will be deprecated, use a list instead.\n",
      "  bootstrapped_downward = tmp.groupby(['#t(centisec)'])['ang_pos', 'dist', 'speed_diff', 'acc_diff', 'cc'].mean().reset_index()\n"
     ]
    },
    {
     "name": "stdout",
     "output_type": "stream",
     "text": [
      "140\n"
     ]
    },
    {
     "name": "stderr",
     "output_type": "stream",
     "text": [
      "/var/folders/ng/l4j590g95vl5r33ctw59y6cr0000gn/T/ipykernel_26977/3258036297.py:12: FutureWarning: Indexing with multiple keys (implicitly converted to a tuple of keys) will be deprecated, use a list instead.\n",
      "  bootstrapped_downward = tmp.groupby(['#t(centisec)'])['ang_pos', 'dist', 'speed_diff', 'acc_diff', 'cc'].mean().reset_index()\n",
      "/var/folders/ng/l4j590g95vl5r33ctw59y6cr0000gn/T/ipykernel_26977/3258036297.py:12: FutureWarning: Indexing with multiple keys (implicitly converted to a tuple of keys) will be deprecated, use a list instead.\n",
      "  bootstrapped_downward = tmp.groupby(['#t(centisec)'])['ang_pos', 'dist', 'speed_diff', 'acc_diff', 'cc'].mean().reset_index()\n",
      "/var/folders/ng/l4j590g95vl5r33ctw59y6cr0000gn/T/ipykernel_26977/3258036297.py:12: FutureWarning: Indexing with multiple keys (implicitly converted to a tuple of keys) will be deprecated, use a list instead.\n",
      "  bootstrapped_downward = tmp.groupby(['#t(centisec)'])['ang_pos', 'dist', 'speed_diff', 'acc_diff', 'cc'].mean().reset_index()\n",
      "/var/folders/ng/l4j590g95vl5r33ctw59y6cr0000gn/T/ipykernel_26977/3258036297.py:12: FutureWarning: Indexing with multiple keys (implicitly converted to a tuple of keys) will be deprecated, use a list instead.\n",
      "  bootstrapped_downward = tmp.groupby(['#t(centisec)'])['ang_pos', 'dist', 'speed_diff', 'acc_diff', 'cc'].mean().reset_index()\n",
      "/var/folders/ng/l4j590g95vl5r33ctw59y6cr0000gn/T/ipykernel_26977/3258036297.py:12: FutureWarning: Indexing with multiple keys (implicitly converted to a tuple of keys) will be deprecated, use a list instead.\n",
      "  bootstrapped_downward = tmp.groupby(['#t(centisec)'])['ang_pos', 'dist', 'speed_diff', 'acc_diff', 'cc'].mean().reset_index()\n",
      "/var/folders/ng/l4j590g95vl5r33ctw59y6cr0000gn/T/ipykernel_26977/3258036297.py:12: FutureWarning: Indexing with multiple keys (implicitly converted to a tuple of keys) will be deprecated, use a list instead.\n",
      "  bootstrapped_downward = tmp.groupby(['#t(centisec)'])['ang_pos', 'dist', 'speed_diff', 'acc_diff', 'cc'].mean().reset_index()\n",
      "/var/folders/ng/l4j590g95vl5r33ctw59y6cr0000gn/T/ipykernel_26977/3258036297.py:12: FutureWarning: Indexing with multiple keys (implicitly converted to a tuple of keys) will be deprecated, use a list instead.\n",
      "  bootstrapped_downward = tmp.groupby(['#t(centisec)'])['ang_pos', 'dist', 'speed_diff', 'acc_diff', 'cc'].mean().reset_index()\n",
      "/var/folders/ng/l4j590g95vl5r33ctw59y6cr0000gn/T/ipykernel_26977/3258036297.py:12: FutureWarning: Indexing with multiple keys (implicitly converted to a tuple of keys) will be deprecated, use a list instead.\n",
      "  bootstrapped_downward = tmp.groupby(['#t(centisec)'])['ang_pos', 'dist', 'speed_diff', 'acc_diff', 'cc'].mean().reset_index()\n",
      "/var/folders/ng/l4j590g95vl5r33ctw59y6cr0000gn/T/ipykernel_26977/3258036297.py:12: FutureWarning: Indexing with multiple keys (implicitly converted to a tuple of keys) will be deprecated, use a list instead.\n",
      "  bootstrapped_downward = tmp.groupby(['#t(centisec)'])['ang_pos', 'dist', 'speed_diff', 'acc_diff', 'cc'].mean().reset_index()\n",
      "/var/folders/ng/l4j590g95vl5r33ctw59y6cr0000gn/T/ipykernel_26977/3258036297.py:12: FutureWarning: Indexing with multiple keys (implicitly converted to a tuple of keys) will be deprecated, use a list instead.\n",
      "  bootstrapped_downward = tmp.groupby(['#t(centisec)'])['ang_pos', 'dist', 'speed_diff', 'acc_diff', 'cc'].mean().reset_index()\n"
     ]
    },
    {
     "name": "stdout",
     "output_type": "stream",
     "text": [
      "150\n"
     ]
    },
    {
     "name": "stderr",
     "output_type": "stream",
     "text": [
      "/var/folders/ng/l4j590g95vl5r33ctw59y6cr0000gn/T/ipykernel_26977/3258036297.py:12: FutureWarning: Indexing with multiple keys (implicitly converted to a tuple of keys) will be deprecated, use a list instead.\n",
      "  bootstrapped_downward = tmp.groupby(['#t(centisec)'])['ang_pos', 'dist', 'speed_diff', 'acc_diff', 'cc'].mean().reset_index()\n",
      "/var/folders/ng/l4j590g95vl5r33ctw59y6cr0000gn/T/ipykernel_26977/3258036297.py:12: FutureWarning: Indexing with multiple keys (implicitly converted to a tuple of keys) will be deprecated, use a list instead.\n",
      "  bootstrapped_downward = tmp.groupby(['#t(centisec)'])['ang_pos', 'dist', 'speed_diff', 'acc_diff', 'cc'].mean().reset_index()\n",
      "/var/folders/ng/l4j590g95vl5r33ctw59y6cr0000gn/T/ipykernel_26977/3258036297.py:12: FutureWarning: Indexing with multiple keys (implicitly converted to a tuple of keys) will be deprecated, use a list instead.\n",
      "  bootstrapped_downward = tmp.groupby(['#t(centisec)'])['ang_pos', 'dist', 'speed_diff', 'acc_diff', 'cc'].mean().reset_index()\n",
      "/var/folders/ng/l4j590g95vl5r33ctw59y6cr0000gn/T/ipykernel_26977/3258036297.py:12: FutureWarning: Indexing with multiple keys (implicitly converted to a tuple of keys) will be deprecated, use a list instead.\n",
      "  bootstrapped_downward = tmp.groupby(['#t(centisec)'])['ang_pos', 'dist', 'speed_diff', 'acc_diff', 'cc'].mean().reset_index()\n",
      "/var/folders/ng/l4j590g95vl5r33ctw59y6cr0000gn/T/ipykernel_26977/3258036297.py:12: FutureWarning: Indexing with multiple keys (implicitly converted to a tuple of keys) will be deprecated, use a list instead.\n",
      "  bootstrapped_downward = tmp.groupby(['#t(centisec)'])['ang_pos', 'dist', 'speed_diff', 'acc_diff', 'cc'].mean().reset_index()\n",
      "/var/folders/ng/l4j590g95vl5r33ctw59y6cr0000gn/T/ipykernel_26977/3258036297.py:12: FutureWarning: Indexing with multiple keys (implicitly converted to a tuple of keys) will be deprecated, use a list instead.\n",
      "  bootstrapped_downward = tmp.groupby(['#t(centisec)'])['ang_pos', 'dist', 'speed_diff', 'acc_diff', 'cc'].mean().reset_index()\n",
      "/var/folders/ng/l4j590g95vl5r33ctw59y6cr0000gn/T/ipykernel_26977/3258036297.py:12: FutureWarning: Indexing with multiple keys (implicitly converted to a tuple of keys) will be deprecated, use a list instead.\n",
      "  bootstrapped_downward = tmp.groupby(['#t(centisec)'])['ang_pos', 'dist', 'speed_diff', 'acc_diff', 'cc'].mean().reset_index()\n",
      "/var/folders/ng/l4j590g95vl5r33ctw59y6cr0000gn/T/ipykernel_26977/3258036297.py:12: FutureWarning: Indexing with multiple keys (implicitly converted to a tuple of keys) will be deprecated, use a list instead.\n",
      "  bootstrapped_downward = tmp.groupby(['#t(centisec)'])['ang_pos', 'dist', 'speed_diff', 'acc_diff', 'cc'].mean().reset_index()\n",
      "/var/folders/ng/l4j590g95vl5r33ctw59y6cr0000gn/T/ipykernel_26977/3258036297.py:12: FutureWarning: Indexing with multiple keys (implicitly converted to a tuple of keys) will be deprecated, use a list instead.\n",
      "  bootstrapped_downward = tmp.groupby(['#t(centisec)'])['ang_pos', 'dist', 'speed_diff', 'acc_diff', 'cc'].mean().reset_index()\n",
      "/var/folders/ng/l4j590g95vl5r33ctw59y6cr0000gn/T/ipykernel_26977/3258036297.py:12: FutureWarning: Indexing with multiple keys (implicitly converted to a tuple of keys) will be deprecated, use a list instead.\n",
      "  bootstrapped_downward = tmp.groupby(['#t(centisec)'])['ang_pos', 'dist', 'speed_diff', 'acc_diff', 'cc'].mean().reset_index()\n"
     ]
    },
    {
     "name": "stdout",
     "output_type": "stream",
     "text": [
      "160\n"
     ]
    },
    {
     "name": "stderr",
     "output_type": "stream",
     "text": [
      "/var/folders/ng/l4j590g95vl5r33ctw59y6cr0000gn/T/ipykernel_26977/3258036297.py:12: FutureWarning: Indexing with multiple keys (implicitly converted to a tuple of keys) will be deprecated, use a list instead.\n",
      "  bootstrapped_downward = tmp.groupby(['#t(centisec)'])['ang_pos', 'dist', 'speed_diff', 'acc_diff', 'cc'].mean().reset_index()\n",
      "/var/folders/ng/l4j590g95vl5r33ctw59y6cr0000gn/T/ipykernel_26977/3258036297.py:12: FutureWarning: Indexing with multiple keys (implicitly converted to a tuple of keys) will be deprecated, use a list instead.\n",
      "  bootstrapped_downward = tmp.groupby(['#t(centisec)'])['ang_pos', 'dist', 'speed_diff', 'acc_diff', 'cc'].mean().reset_index()\n",
      "/var/folders/ng/l4j590g95vl5r33ctw59y6cr0000gn/T/ipykernel_26977/3258036297.py:12: FutureWarning: Indexing with multiple keys (implicitly converted to a tuple of keys) will be deprecated, use a list instead.\n",
      "  bootstrapped_downward = tmp.groupby(['#t(centisec)'])['ang_pos', 'dist', 'speed_diff', 'acc_diff', 'cc'].mean().reset_index()\n",
      "/var/folders/ng/l4j590g95vl5r33ctw59y6cr0000gn/T/ipykernel_26977/3258036297.py:12: FutureWarning: Indexing with multiple keys (implicitly converted to a tuple of keys) will be deprecated, use a list instead.\n",
      "  bootstrapped_downward = tmp.groupby(['#t(centisec)'])['ang_pos', 'dist', 'speed_diff', 'acc_diff', 'cc'].mean().reset_index()\n",
      "/var/folders/ng/l4j590g95vl5r33ctw59y6cr0000gn/T/ipykernel_26977/3258036297.py:12: FutureWarning: Indexing with multiple keys (implicitly converted to a tuple of keys) will be deprecated, use a list instead.\n",
      "  bootstrapped_downward = tmp.groupby(['#t(centisec)'])['ang_pos', 'dist', 'speed_diff', 'acc_diff', 'cc'].mean().reset_index()\n",
      "/var/folders/ng/l4j590g95vl5r33ctw59y6cr0000gn/T/ipykernel_26977/3258036297.py:12: FutureWarning: Indexing with multiple keys (implicitly converted to a tuple of keys) will be deprecated, use a list instead.\n",
      "  bootstrapped_downward = tmp.groupby(['#t(centisec)'])['ang_pos', 'dist', 'speed_diff', 'acc_diff', 'cc'].mean().reset_index()\n",
      "/var/folders/ng/l4j590g95vl5r33ctw59y6cr0000gn/T/ipykernel_26977/3258036297.py:12: FutureWarning: Indexing with multiple keys (implicitly converted to a tuple of keys) will be deprecated, use a list instead.\n",
      "  bootstrapped_downward = tmp.groupby(['#t(centisec)'])['ang_pos', 'dist', 'speed_diff', 'acc_diff', 'cc'].mean().reset_index()\n",
      "/var/folders/ng/l4j590g95vl5r33ctw59y6cr0000gn/T/ipykernel_26977/3258036297.py:12: FutureWarning: Indexing with multiple keys (implicitly converted to a tuple of keys) will be deprecated, use a list instead.\n",
      "  bootstrapped_downward = tmp.groupby(['#t(centisec)'])['ang_pos', 'dist', 'speed_diff', 'acc_diff', 'cc'].mean().reset_index()\n",
      "/var/folders/ng/l4j590g95vl5r33ctw59y6cr0000gn/T/ipykernel_26977/3258036297.py:12: FutureWarning: Indexing with multiple keys (implicitly converted to a tuple of keys) will be deprecated, use a list instead.\n",
      "  bootstrapped_downward = tmp.groupby(['#t(centisec)'])['ang_pos', 'dist', 'speed_diff', 'acc_diff', 'cc'].mean().reset_index()\n",
      "/var/folders/ng/l4j590g95vl5r33ctw59y6cr0000gn/T/ipykernel_26977/3258036297.py:12: FutureWarning: Indexing with multiple keys (implicitly converted to a tuple of keys) will be deprecated, use a list instead.\n",
      "  bootstrapped_downward = tmp.groupby(['#t(centisec)'])['ang_pos', 'dist', 'speed_diff', 'acc_diff', 'cc'].mean().reset_index()\n"
     ]
    },
    {
     "name": "stdout",
     "output_type": "stream",
     "text": [
      "170\n"
     ]
    },
    {
     "name": "stderr",
     "output_type": "stream",
     "text": [
      "/var/folders/ng/l4j590g95vl5r33ctw59y6cr0000gn/T/ipykernel_26977/3258036297.py:12: FutureWarning: Indexing with multiple keys (implicitly converted to a tuple of keys) will be deprecated, use a list instead.\n",
      "  bootstrapped_downward = tmp.groupby(['#t(centisec)'])['ang_pos', 'dist', 'speed_diff', 'acc_diff', 'cc'].mean().reset_index()\n",
      "/var/folders/ng/l4j590g95vl5r33ctw59y6cr0000gn/T/ipykernel_26977/3258036297.py:12: FutureWarning: Indexing with multiple keys (implicitly converted to a tuple of keys) will be deprecated, use a list instead.\n",
      "  bootstrapped_downward = tmp.groupby(['#t(centisec)'])['ang_pos', 'dist', 'speed_diff', 'acc_diff', 'cc'].mean().reset_index()\n",
      "/var/folders/ng/l4j590g95vl5r33ctw59y6cr0000gn/T/ipykernel_26977/3258036297.py:12: FutureWarning: Indexing with multiple keys (implicitly converted to a tuple of keys) will be deprecated, use a list instead.\n",
      "  bootstrapped_downward = tmp.groupby(['#t(centisec)'])['ang_pos', 'dist', 'speed_diff', 'acc_diff', 'cc'].mean().reset_index()\n",
      "/var/folders/ng/l4j590g95vl5r33ctw59y6cr0000gn/T/ipykernel_26977/3258036297.py:12: FutureWarning: Indexing with multiple keys (implicitly converted to a tuple of keys) will be deprecated, use a list instead.\n",
      "  bootstrapped_downward = tmp.groupby(['#t(centisec)'])['ang_pos', 'dist', 'speed_diff', 'acc_diff', 'cc'].mean().reset_index()\n",
      "/var/folders/ng/l4j590g95vl5r33ctw59y6cr0000gn/T/ipykernel_26977/3258036297.py:12: FutureWarning: Indexing with multiple keys (implicitly converted to a tuple of keys) will be deprecated, use a list instead.\n",
      "  bootstrapped_downward = tmp.groupby(['#t(centisec)'])['ang_pos', 'dist', 'speed_diff', 'acc_diff', 'cc'].mean().reset_index()\n",
      "/var/folders/ng/l4j590g95vl5r33ctw59y6cr0000gn/T/ipykernel_26977/3258036297.py:12: FutureWarning: Indexing with multiple keys (implicitly converted to a tuple of keys) will be deprecated, use a list instead.\n",
      "  bootstrapped_downward = tmp.groupby(['#t(centisec)'])['ang_pos', 'dist', 'speed_diff', 'acc_diff', 'cc'].mean().reset_index()\n",
      "/var/folders/ng/l4j590g95vl5r33ctw59y6cr0000gn/T/ipykernel_26977/3258036297.py:12: FutureWarning: Indexing with multiple keys (implicitly converted to a tuple of keys) will be deprecated, use a list instead.\n",
      "  bootstrapped_downward = tmp.groupby(['#t(centisec)'])['ang_pos', 'dist', 'speed_diff', 'acc_diff', 'cc'].mean().reset_index()\n",
      "/var/folders/ng/l4j590g95vl5r33ctw59y6cr0000gn/T/ipykernel_26977/3258036297.py:12: FutureWarning: Indexing with multiple keys (implicitly converted to a tuple of keys) will be deprecated, use a list instead.\n",
      "  bootstrapped_downward = tmp.groupby(['#t(centisec)'])['ang_pos', 'dist', 'speed_diff', 'acc_diff', 'cc'].mean().reset_index()\n",
      "/var/folders/ng/l4j590g95vl5r33ctw59y6cr0000gn/T/ipykernel_26977/3258036297.py:12: FutureWarning: Indexing with multiple keys (implicitly converted to a tuple of keys) will be deprecated, use a list instead.\n",
      "  bootstrapped_downward = tmp.groupby(['#t(centisec)'])['ang_pos', 'dist', 'speed_diff', 'acc_diff', 'cc'].mean().reset_index()\n",
      "/var/folders/ng/l4j590g95vl5r33ctw59y6cr0000gn/T/ipykernel_26977/3258036297.py:12: FutureWarning: Indexing with multiple keys (implicitly converted to a tuple of keys) will be deprecated, use a list instead.\n",
      "  bootstrapped_downward = tmp.groupby(['#t(centisec)'])['ang_pos', 'dist', 'speed_diff', 'acc_diff', 'cc'].mean().reset_index()\n"
     ]
    },
    {
     "name": "stdout",
     "output_type": "stream",
     "text": [
      "180\n"
     ]
    },
    {
     "name": "stderr",
     "output_type": "stream",
     "text": [
      "/var/folders/ng/l4j590g95vl5r33ctw59y6cr0000gn/T/ipykernel_26977/3258036297.py:12: FutureWarning: Indexing with multiple keys (implicitly converted to a tuple of keys) will be deprecated, use a list instead.\n",
      "  bootstrapped_downward = tmp.groupby(['#t(centisec)'])['ang_pos', 'dist', 'speed_diff', 'acc_diff', 'cc'].mean().reset_index()\n",
      "/var/folders/ng/l4j590g95vl5r33ctw59y6cr0000gn/T/ipykernel_26977/3258036297.py:12: FutureWarning: Indexing with multiple keys (implicitly converted to a tuple of keys) will be deprecated, use a list instead.\n",
      "  bootstrapped_downward = tmp.groupby(['#t(centisec)'])['ang_pos', 'dist', 'speed_diff', 'acc_diff', 'cc'].mean().reset_index()\n",
      "/var/folders/ng/l4j590g95vl5r33ctw59y6cr0000gn/T/ipykernel_26977/3258036297.py:12: FutureWarning: Indexing with multiple keys (implicitly converted to a tuple of keys) will be deprecated, use a list instead.\n",
      "  bootstrapped_downward = tmp.groupby(['#t(centisec)'])['ang_pos', 'dist', 'speed_diff', 'acc_diff', 'cc'].mean().reset_index()\n",
      "/var/folders/ng/l4j590g95vl5r33ctw59y6cr0000gn/T/ipykernel_26977/3258036297.py:12: FutureWarning: Indexing with multiple keys (implicitly converted to a tuple of keys) will be deprecated, use a list instead.\n",
      "  bootstrapped_downward = tmp.groupby(['#t(centisec)'])['ang_pos', 'dist', 'speed_diff', 'acc_diff', 'cc'].mean().reset_index()\n",
      "/var/folders/ng/l4j590g95vl5r33ctw59y6cr0000gn/T/ipykernel_26977/3258036297.py:12: FutureWarning: Indexing with multiple keys (implicitly converted to a tuple of keys) will be deprecated, use a list instead.\n",
      "  bootstrapped_downward = tmp.groupby(['#t(centisec)'])['ang_pos', 'dist', 'speed_diff', 'acc_diff', 'cc'].mean().reset_index()\n",
      "/var/folders/ng/l4j590g95vl5r33ctw59y6cr0000gn/T/ipykernel_26977/3258036297.py:12: FutureWarning: Indexing with multiple keys (implicitly converted to a tuple of keys) will be deprecated, use a list instead.\n",
      "  bootstrapped_downward = tmp.groupby(['#t(centisec)'])['ang_pos', 'dist', 'speed_diff', 'acc_diff', 'cc'].mean().reset_index()\n",
      "/var/folders/ng/l4j590g95vl5r33ctw59y6cr0000gn/T/ipykernel_26977/3258036297.py:12: FutureWarning: Indexing with multiple keys (implicitly converted to a tuple of keys) will be deprecated, use a list instead.\n",
      "  bootstrapped_downward = tmp.groupby(['#t(centisec)'])['ang_pos', 'dist', 'speed_diff', 'acc_diff', 'cc'].mean().reset_index()\n",
      "/var/folders/ng/l4j590g95vl5r33ctw59y6cr0000gn/T/ipykernel_26977/3258036297.py:12: FutureWarning: Indexing with multiple keys (implicitly converted to a tuple of keys) will be deprecated, use a list instead.\n",
      "  bootstrapped_downward = tmp.groupby(['#t(centisec)'])['ang_pos', 'dist', 'speed_diff', 'acc_diff', 'cc'].mean().reset_index()\n",
      "/var/folders/ng/l4j590g95vl5r33ctw59y6cr0000gn/T/ipykernel_26977/3258036297.py:12: FutureWarning: Indexing with multiple keys (implicitly converted to a tuple of keys) will be deprecated, use a list instead.\n",
      "  bootstrapped_downward = tmp.groupby(['#t(centisec)'])['ang_pos', 'dist', 'speed_diff', 'acc_diff', 'cc'].mean().reset_index()\n",
      "/var/folders/ng/l4j590g95vl5r33ctw59y6cr0000gn/T/ipykernel_26977/3258036297.py:12: FutureWarning: Indexing with multiple keys (implicitly converted to a tuple of keys) will be deprecated, use a list instead.\n",
      "  bootstrapped_downward = tmp.groupby(['#t(centisec)'])['ang_pos', 'dist', 'speed_diff', 'acc_diff', 'cc'].mean().reset_index()\n"
     ]
    },
    {
     "name": "stdout",
     "output_type": "stream",
     "text": [
      "190\n"
     ]
    },
    {
     "name": "stderr",
     "output_type": "stream",
     "text": [
      "/var/folders/ng/l4j590g95vl5r33ctw59y6cr0000gn/T/ipykernel_26977/3258036297.py:12: FutureWarning: Indexing with multiple keys (implicitly converted to a tuple of keys) will be deprecated, use a list instead.\n",
      "  bootstrapped_downward = tmp.groupby(['#t(centisec)'])['ang_pos', 'dist', 'speed_diff', 'acc_diff', 'cc'].mean().reset_index()\n",
      "/var/folders/ng/l4j590g95vl5r33ctw59y6cr0000gn/T/ipykernel_26977/3258036297.py:12: FutureWarning: Indexing with multiple keys (implicitly converted to a tuple of keys) will be deprecated, use a list instead.\n",
      "  bootstrapped_downward = tmp.groupby(['#t(centisec)'])['ang_pos', 'dist', 'speed_diff', 'acc_diff', 'cc'].mean().reset_index()\n",
      "/var/folders/ng/l4j590g95vl5r33ctw59y6cr0000gn/T/ipykernel_26977/3258036297.py:12: FutureWarning: Indexing with multiple keys (implicitly converted to a tuple of keys) will be deprecated, use a list instead.\n",
      "  bootstrapped_downward = tmp.groupby(['#t(centisec)'])['ang_pos', 'dist', 'speed_diff', 'acc_diff', 'cc'].mean().reset_index()\n",
      "/var/folders/ng/l4j590g95vl5r33ctw59y6cr0000gn/T/ipykernel_26977/3258036297.py:12: FutureWarning: Indexing with multiple keys (implicitly converted to a tuple of keys) will be deprecated, use a list instead.\n",
      "  bootstrapped_downward = tmp.groupby(['#t(centisec)'])['ang_pos', 'dist', 'speed_diff', 'acc_diff', 'cc'].mean().reset_index()\n",
      "/var/folders/ng/l4j590g95vl5r33ctw59y6cr0000gn/T/ipykernel_26977/3258036297.py:12: FutureWarning: Indexing with multiple keys (implicitly converted to a tuple of keys) will be deprecated, use a list instead.\n",
      "  bootstrapped_downward = tmp.groupby(['#t(centisec)'])['ang_pos', 'dist', 'speed_diff', 'acc_diff', 'cc'].mean().reset_index()\n",
      "/var/folders/ng/l4j590g95vl5r33ctw59y6cr0000gn/T/ipykernel_26977/3258036297.py:12: FutureWarning: Indexing with multiple keys (implicitly converted to a tuple of keys) will be deprecated, use a list instead.\n",
      "  bootstrapped_downward = tmp.groupby(['#t(centisec)'])['ang_pos', 'dist', 'speed_diff', 'acc_diff', 'cc'].mean().reset_index()\n",
      "/var/folders/ng/l4j590g95vl5r33ctw59y6cr0000gn/T/ipykernel_26977/3258036297.py:12: FutureWarning: Indexing with multiple keys (implicitly converted to a tuple of keys) will be deprecated, use a list instead.\n",
      "  bootstrapped_downward = tmp.groupby(['#t(centisec)'])['ang_pos', 'dist', 'speed_diff', 'acc_diff', 'cc'].mean().reset_index()\n",
      "/var/folders/ng/l4j590g95vl5r33ctw59y6cr0000gn/T/ipykernel_26977/3258036297.py:12: FutureWarning: Indexing with multiple keys (implicitly converted to a tuple of keys) will be deprecated, use a list instead.\n",
      "  bootstrapped_downward = tmp.groupby(['#t(centisec)'])['ang_pos', 'dist', 'speed_diff', 'acc_diff', 'cc'].mean().reset_index()\n",
      "/var/folders/ng/l4j590g95vl5r33ctw59y6cr0000gn/T/ipykernel_26977/3258036297.py:12: FutureWarning: Indexing with multiple keys (implicitly converted to a tuple of keys) will be deprecated, use a list instead.\n",
      "  bootstrapped_downward = tmp.groupby(['#t(centisec)'])['ang_pos', 'dist', 'speed_diff', 'acc_diff', 'cc'].mean().reset_index()\n",
      "/var/folders/ng/l4j590g95vl5r33ctw59y6cr0000gn/T/ipykernel_26977/3258036297.py:12: FutureWarning: Indexing with multiple keys (implicitly converted to a tuple of keys) will be deprecated, use a list instead.\n",
      "  bootstrapped_downward = tmp.groupby(['#t(centisec)'])['ang_pos', 'dist', 'speed_diff', 'acc_diff', 'cc'].mean().reset_index()\n"
     ]
    },
    {
     "name": "stdout",
     "output_type": "stream",
     "text": [
      "200\n"
     ]
    },
    {
     "name": "stderr",
     "output_type": "stream",
     "text": [
      "/var/folders/ng/l4j590g95vl5r33ctw59y6cr0000gn/T/ipykernel_26977/3258036297.py:12: FutureWarning: Indexing with multiple keys (implicitly converted to a tuple of keys) will be deprecated, use a list instead.\n",
      "  bootstrapped_downward = tmp.groupby(['#t(centisec)'])['ang_pos', 'dist', 'speed_diff', 'acc_diff', 'cc'].mean().reset_index()\n",
      "/var/folders/ng/l4j590g95vl5r33ctw59y6cr0000gn/T/ipykernel_26977/3258036297.py:12: FutureWarning: Indexing with multiple keys (implicitly converted to a tuple of keys) will be deprecated, use a list instead.\n",
      "  bootstrapped_downward = tmp.groupby(['#t(centisec)'])['ang_pos', 'dist', 'speed_diff', 'acc_diff', 'cc'].mean().reset_index()\n",
      "/var/folders/ng/l4j590g95vl5r33ctw59y6cr0000gn/T/ipykernel_26977/3258036297.py:12: FutureWarning: Indexing with multiple keys (implicitly converted to a tuple of keys) will be deprecated, use a list instead.\n",
      "  bootstrapped_downward = tmp.groupby(['#t(centisec)'])['ang_pos', 'dist', 'speed_diff', 'acc_diff', 'cc'].mean().reset_index()\n",
      "/var/folders/ng/l4j590g95vl5r33ctw59y6cr0000gn/T/ipykernel_26977/3258036297.py:12: FutureWarning: Indexing with multiple keys (implicitly converted to a tuple of keys) will be deprecated, use a list instead.\n",
      "  bootstrapped_downward = tmp.groupby(['#t(centisec)'])['ang_pos', 'dist', 'speed_diff', 'acc_diff', 'cc'].mean().reset_index()\n",
      "/var/folders/ng/l4j590g95vl5r33ctw59y6cr0000gn/T/ipykernel_26977/3258036297.py:12: FutureWarning: Indexing with multiple keys (implicitly converted to a tuple of keys) will be deprecated, use a list instead.\n",
      "  bootstrapped_downward = tmp.groupby(['#t(centisec)'])['ang_pos', 'dist', 'speed_diff', 'acc_diff', 'cc'].mean().reset_index()\n",
      "/var/folders/ng/l4j590g95vl5r33ctw59y6cr0000gn/T/ipykernel_26977/3258036297.py:12: FutureWarning: Indexing with multiple keys (implicitly converted to a tuple of keys) will be deprecated, use a list instead.\n",
      "  bootstrapped_downward = tmp.groupby(['#t(centisec)'])['ang_pos', 'dist', 'speed_diff', 'acc_diff', 'cc'].mean().reset_index()\n",
      "/var/folders/ng/l4j590g95vl5r33ctw59y6cr0000gn/T/ipykernel_26977/3258036297.py:12: FutureWarning: Indexing with multiple keys (implicitly converted to a tuple of keys) will be deprecated, use a list instead.\n",
      "  bootstrapped_downward = tmp.groupby(['#t(centisec)'])['ang_pos', 'dist', 'speed_diff', 'acc_diff', 'cc'].mean().reset_index()\n",
      "/var/folders/ng/l4j590g95vl5r33ctw59y6cr0000gn/T/ipykernel_26977/3258036297.py:12: FutureWarning: Indexing with multiple keys (implicitly converted to a tuple of keys) will be deprecated, use a list instead.\n",
      "  bootstrapped_downward = tmp.groupby(['#t(centisec)'])['ang_pos', 'dist', 'speed_diff', 'acc_diff', 'cc'].mean().reset_index()\n",
      "/var/folders/ng/l4j590g95vl5r33ctw59y6cr0000gn/T/ipykernel_26977/3258036297.py:12: FutureWarning: Indexing with multiple keys (implicitly converted to a tuple of keys) will be deprecated, use a list instead.\n",
      "  bootstrapped_downward = tmp.groupby(['#t(centisec)'])['ang_pos', 'dist', 'speed_diff', 'acc_diff', 'cc'].mean().reset_index()\n",
      "/var/folders/ng/l4j590g95vl5r33ctw59y6cr0000gn/T/ipykernel_26977/3258036297.py:12: FutureWarning: Indexing with multiple keys (implicitly converted to a tuple of keys) will be deprecated, use a list instead.\n",
      "  bootstrapped_downward = tmp.groupby(['#t(centisec)'])['ang_pos', 'dist', 'speed_diff', 'acc_diff', 'cc'].mean().reset_index()\n"
     ]
    },
    {
     "name": "stdout",
     "output_type": "stream",
     "text": [
      "210\n"
     ]
    },
    {
     "name": "stderr",
     "output_type": "stream",
     "text": [
      "/var/folders/ng/l4j590g95vl5r33ctw59y6cr0000gn/T/ipykernel_26977/3258036297.py:12: FutureWarning: Indexing with multiple keys (implicitly converted to a tuple of keys) will be deprecated, use a list instead.\n",
      "  bootstrapped_downward = tmp.groupby(['#t(centisec)'])['ang_pos', 'dist', 'speed_diff', 'acc_diff', 'cc'].mean().reset_index()\n",
      "/var/folders/ng/l4j590g95vl5r33ctw59y6cr0000gn/T/ipykernel_26977/3258036297.py:12: FutureWarning: Indexing with multiple keys (implicitly converted to a tuple of keys) will be deprecated, use a list instead.\n",
      "  bootstrapped_downward = tmp.groupby(['#t(centisec)'])['ang_pos', 'dist', 'speed_diff', 'acc_diff', 'cc'].mean().reset_index()\n",
      "/var/folders/ng/l4j590g95vl5r33ctw59y6cr0000gn/T/ipykernel_26977/3258036297.py:12: FutureWarning: Indexing with multiple keys (implicitly converted to a tuple of keys) will be deprecated, use a list instead.\n",
      "  bootstrapped_downward = tmp.groupby(['#t(centisec)'])['ang_pos', 'dist', 'speed_diff', 'acc_diff', 'cc'].mean().reset_index()\n",
      "/var/folders/ng/l4j590g95vl5r33ctw59y6cr0000gn/T/ipykernel_26977/3258036297.py:12: FutureWarning: Indexing with multiple keys (implicitly converted to a tuple of keys) will be deprecated, use a list instead.\n",
      "  bootstrapped_downward = tmp.groupby(['#t(centisec)'])['ang_pos', 'dist', 'speed_diff', 'acc_diff', 'cc'].mean().reset_index()\n",
      "/var/folders/ng/l4j590g95vl5r33ctw59y6cr0000gn/T/ipykernel_26977/3258036297.py:12: FutureWarning: Indexing with multiple keys (implicitly converted to a tuple of keys) will be deprecated, use a list instead.\n",
      "  bootstrapped_downward = tmp.groupby(['#t(centisec)'])['ang_pos', 'dist', 'speed_diff', 'acc_diff', 'cc'].mean().reset_index()\n",
      "/var/folders/ng/l4j590g95vl5r33ctw59y6cr0000gn/T/ipykernel_26977/3258036297.py:12: FutureWarning: Indexing with multiple keys (implicitly converted to a tuple of keys) will be deprecated, use a list instead.\n",
      "  bootstrapped_downward = tmp.groupby(['#t(centisec)'])['ang_pos', 'dist', 'speed_diff', 'acc_diff', 'cc'].mean().reset_index()\n",
      "/var/folders/ng/l4j590g95vl5r33ctw59y6cr0000gn/T/ipykernel_26977/3258036297.py:12: FutureWarning: Indexing with multiple keys (implicitly converted to a tuple of keys) will be deprecated, use a list instead.\n",
      "  bootstrapped_downward = tmp.groupby(['#t(centisec)'])['ang_pos', 'dist', 'speed_diff', 'acc_diff', 'cc'].mean().reset_index()\n",
      "/var/folders/ng/l4j590g95vl5r33ctw59y6cr0000gn/T/ipykernel_26977/3258036297.py:12: FutureWarning: Indexing with multiple keys (implicitly converted to a tuple of keys) will be deprecated, use a list instead.\n",
      "  bootstrapped_downward = tmp.groupby(['#t(centisec)'])['ang_pos', 'dist', 'speed_diff', 'acc_diff', 'cc'].mean().reset_index()\n",
      "/var/folders/ng/l4j590g95vl5r33ctw59y6cr0000gn/T/ipykernel_26977/3258036297.py:12: FutureWarning: Indexing with multiple keys (implicitly converted to a tuple of keys) will be deprecated, use a list instead.\n",
      "  bootstrapped_downward = tmp.groupby(['#t(centisec)'])['ang_pos', 'dist', 'speed_diff', 'acc_diff', 'cc'].mean().reset_index()\n",
      "/var/folders/ng/l4j590g95vl5r33ctw59y6cr0000gn/T/ipykernel_26977/3258036297.py:12: FutureWarning: Indexing with multiple keys (implicitly converted to a tuple of keys) will be deprecated, use a list instead.\n",
      "  bootstrapped_downward = tmp.groupby(['#t(centisec)'])['ang_pos', 'dist', 'speed_diff', 'acc_diff', 'cc'].mean().reset_index()\n"
     ]
    },
    {
     "name": "stdout",
     "output_type": "stream",
     "text": [
      "220\n"
     ]
    },
    {
     "name": "stderr",
     "output_type": "stream",
     "text": [
      "/var/folders/ng/l4j590g95vl5r33ctw59y6cr0000gn/T/ipykernel_26977/3258036297.py:12: FutureWarning: Indexing with multiple keys (implicitly converted to a tuple of keys) will be deprecated, use a list instead.\n",
      "  bootstrapped_downward = tmp.groupby(['#t(centisec)'])['ang_pos', 'dist', 'speed_diff', 'acc_diff', 'cc'].mean().reset_index()\n",
      "/var/folders/ng/l4j590g95vl5r33ctw59y6cr0000gn/T/ipykernel_26977/3258036297.py:12: FutureWarning: Indexing with multiple keys (implicitly converted to a tuple of keys) will be deprecated, use a list instead.\n",
      "  bootstrapped_downward = tmp.groupby(['#t(centisec)'])['ang_pos', 'dist', 'speed_diff', 'acc_diff', 'cc'].mean().reset_index()\n",
      "/var/folders/ng/l4j590g95vl5r33ctw59y6cr0000gn/T/ipykernel_26977/3258036297.py:12: FutureWarning: Indexing with multiple keys (implicitly converted to a tuple of keys) will be deprecated, use a list instead.\n",
      "  bootstrapped_downward = tmp.groupby(['#t(centisec)'])['ang_pos', 'dist', 'speed_diff', 'acc_diff', 'cc'].mean().reset_index()\n",
      "/var/folders/ng/l4j590g95vl5r33ctw59y6cr0000gn/T/ipykernel_26977/3258036297.py:12: FutureWarning: Indexing with multiple keys (implicitly converted to a tuple of keys) will be deprecated, use a list instead.\n",
      "  bootstrapped_downward = tmp.groupby(['#t(centisec)'])['ang_pos', 'dist', 'speed_diff', 'acc_diff', 'cc'].mean().reset_index()\n",
      "/var/folders/ng/l4j590g95vl5r33ctw59y6cr0000gn/T/ipykernel_26977/3258036297.py:12: FutureWarning: Indexing with multiple keys (implicitly converted to a tuple of keys) will be deprecated, use a list instead.\n",
      "  bootstrapped_downward = tmp.groupby(['#t(centisec)'])['ang_pos', 'dist', 'speed_diff', 'acc_diff', 'cc'].mean().reset_index()\n",
      "/var/folders/ng/l4j590g95vl5r33ctw59y6cr0000gn/T/ipykernel_26977/3258036297.py:12: FutureWarning: Indexing with multiple keys (implicitly converted to a tuple of keys) will be deprecated, use a list instead.\n",
      "  bootstrapped_downward = tmp.groupby(['#t(centisec)'])['ang_pos', 'dist', 'speed_diff', 'acc_diff', 'cc'].mean().reset_index()\n",
      "/var/folders/ng/l4j590g95vl5r33ctw59y6cr0000gn/T/ipykernel_26977/3258036297.py:12: FutureWarning: Indexing with multiple keys (implicitly converted to a tuple of keys) will be deprecated, use a list instead.\n",
      "  bootstrapped_downward = tmp.groupby(['#t(centisec)'])['ang_pos', 'dist', 'speed_diff', 'acc_diff', 'cc'].mean().reset_index()\n",
      "/var/folders/ng/l4j590g95vl5r33ctw59y6cr0000gn/T/ipykernel_26977/3258036297.py:12: FutureWarning: Indexing with multiple keys (implicitly converted to a tuple of keys) will be deprecated, use a list instead.\n",
      "  bootstrapped_downward = tmp.groupby(['#t(centisec)'])['ang_pos', 'dist', 'speed_diff', 'acc_diff', 'cc'].mean().reset_index()\n",
      "/var/folders/ng/l4j590g95vl5r33ctw59y6cr0000gn/T/ipykernel_26977/3258036297.py:12: FutureWarning: Indexing with multiple keys (implicitly converted to a tuple of keys) will be deprecated, use a list instead.\n",
      "  bootstrapped_downward = tmp.groupby(['#t(centisec)'])['ang_pos', 'dist', 'speed_diff', 'acc_diff', 'cc'].mean().reset_index()\n",
      "/var/folders/ng/l4j590g95vl5r33ctw59y6cr0000gn/T/ipykernel_26977/3258036297.py:12: FutureWarning: Indexing with multiple keys (implicitly converted to a tuple of keys) will be deprecated, use a list instead.\n",
      "  bootstrapped_downward = tmp.groupby(['#t(centisec)'])['ang_pos', 'dist', 'speed_diff', 'acc_diff', 'cc'].mean().reset_index()\n"
     ]
    },
    {
     "name": "stdout",
     "output_type": "stream",
     "text": [
      "230\n"
     ]
    },
    {
     "name": "stderr",
     "output_type": "stream",
     "text": [
      "/var/folders/ng/l4j590g95vl5r33ctw59y6cr0000gn/T/ipykernel_26977/3258036297.py:12: FutureWarning: Indexing with multiple keys (implicitly converted to a tuple of keys) will be deprecated, use a list instead.\n",
      "  bootstrapped_downward = tmp.groupby(['#t(centisec)'])['ang_pos', 'dist', 'speed_diff', 'acc_diff', 'cc'].mean().reset_index()\n",
      "/var/folders/ng/l4j590g95vl5r33ctw59y6cr0000gn/T/ipykernel_26977/3258036297.py:12: FutureWarning: Indexing with multiple keys (implicitly converted to a tuple of keys) will be deprecated, use a list instead.\n",
      "  bootstrapped_downward = tmp.groupby(['#t(centisec)'])['ang_pos', 'dist', 'speed_diff', 'acc_diff', 'cc'].mean().reset_index()\n",
      "/var/folders/ng/l4j590g95vl5r33ctw59y6cr0000gn/T/ipykernel_26977/3258036297.py:12: FutureWarning: Indexing with multiple keys (implicitly converted to a tuple of keys) will be deprecated, use a list instead.\n",
      "  bootstrapped_downward = tmp.groupby(['#t(centisec)'])['ang_pos', 'dist', 'speed_diff', 'acc_diff', 'cc'].mean().reset_index()\n",
      "/var/folders/ng/l4j590g95vl5r33ctw59y6cr0000gn/T/ipykernel_26977/3258036297.py:12: FutureWarning: Indexing with multiple keys (implicitly converted to a tuple of keys) will be deprecated, use a list instead.\n",
      "  bootstrapped_downward = tmp.groupby(['#t(centisec)'])['ang_pos', 'dist', 'speed_diff', 'acc_diff', 'cc'].mean().reset_index()\n",
      "/var/folders/ng/l4j590g95vl5r33ctw59y6cr0000gn/T/ipykernel_26977/3258036297.py:12: FutureWarning: Indexing with multiple keys (implicitly converted to a tuple of keys) will be deprecated, use a list instead.\n",
      "  bootstrapped_downward = tmp.groupby(['#t(centisec)'])['ang_pos', 'dist', 'speed_diff', 'acc_diff', 'cc'].mean().reset_index()\n",
      "/var/folders/ng/l4j590g95vl5r33ctw59y6cr0000gn/T/ipykernel_26977/3258036297.py:12: FutureWarning: Indexing with multiple keys (implicitly converted to a tuple of keys) will be deprecated, use a list instead.\n",
      "  bootstrapped_downward = tmp.groupby(['#t(centisec)'])['ang_pos', 'dist', 'speed_diff', 'acc_diff', 'cc'].mean().reset_index()\n",
      "/var/folders/ng/l4j590g95vl5r33ctw59y6cr0000gn/T/ipykernel_26977/3258036297.py:12: FutureWarning: Indexing with multiple keys (implicitly converted to a tuple of keys) will be deprecated, use a list instead.\n",
      "  bootstrapped_downward = tmp.groupby(['#t(centisec)'])['ang_pos', 'dist', 'speed_diff', 'acc_diff', 'cc'].mean().reset_index()\n",
      "/var/folders/ng/l4j590g95vl5r33ctw59y6cr0000gn/T/ipykernel_26977/3258036297.py:12: FutureWarning: Indexing with multiple keys (implicitly converted to a tuple of keys) will be deprecated, use a list instead.\n",
      "  bootstrapped_downward = tmp.groupby(['#t(centisec)'])['ang_pos', 'dist', 'speed_diff', 'acc_diff', 'cc'].mean().reset_index()\n",
      "/var/folders/ng/l4j590g95vl5r33ctw59y6cr0000gn/T/ipykernel_26977/3258036297.py:12: FutureWarning: Indexing with multiple keys (implicitly converted to a tuple of keys) will be deprecated, use a list instead.\n",
      "  bootstrapped_downward = tmp.groupby(['#t(centisec)'])['ang_pos', 'dist', 'speed_diff', 'acc_diff', 'cc'].mean().reset_index()\n",
      "/var/folders/ng/l4j590g95vl5r33ctw59y6cr0000gn/T/ipykernel_26977/3258036297.py:12: FutureWarning: Indexing with multiple keys (implicitly converted to a tuple of keys) will be deprecated, use a list instead.\n",
      "  bootstrapped_downward = tmp.groupby(['#t(centisec)'])['ang_pos', 'dist', 'speed_diff', 'acc_diff', 'cc'].mean().reset_index()\n"
     ]
    },
    {
     "name": "stdout",
     "output_type": "stream",
     "text": [
      "240\n"
     ]
    },
    {
     "name": "stderr",
     "output_type": "stream",
     "text": [
      "/var/folders/ng/l4j590g95vl5r33ctw59y6cr0000gn/T/ipykernel_26977/3258036297.py:12: FutureWarning: Indexing with multiple keys (implicitly converted to a tuple of keys) will be deprecated, use a list instead.\n",
      "  bootstrapped_downward = tmp.groupby(['#t(centisec)'])['ang_pos', 'dist', 'speed_diff', 'acc_diff', 'cc'].mean().reset_index()\n",
      "/var/folders/ng/l4j590g95vl5r33ctw59y6cr0000gn/T/ipykernel_26977/3258036297.py:12: FutureWarning: Indexing with multiple keys (implicitly converted to a tuple of keys) will be deprecated, use a list instead.\n",
      "  bootstrapped_downward = tmp.groupby(['#t(centisec)'])['ang_pos', 'dist', 'speed_diff', 'acc_diff', 'cc'].mean().reset_index()\n",
      "/var/folders/ng/l4j590g95vl5r33ctw59y6cr0000gn/T/ipykernel_26977/3258036297.py:12: FutureWarning: Indexing with multiple keys (implicitly converted to a tuple of keys) will be deprecated, use a list instead.\n",
      "  bootstrapped_downward = tmp.groupby(['#t(centisec)'])['ang_pos', 'dist', 'speed_diff', 'acc_diff', 'cc'].mean().reset_index()\n",
      "/var/folders/ng/l4j590g95vl5r33ctw59y6cr0000gn/T/ipykernel_26977/3258036297.py:12: FutureWarning: Indexing with multiple keys (implicitly converted to a tuple of keys) will be deprecated, use a list instead.\n",
      "  bootstrapped_downward = tmp.groupby(['#t(centisec)'])['ang_pos', 'dist', 'speed_diff', 'acc_diff', 'cc'].mean().reset_index()\n",
      "/var/folders/ng/l4j590g95vl5r33ctw59y6cr0000gn/T/ipykernel_26977/3258036297.py:12: FutureWarning: Indexing with multiple keys (implicitly converted to a tuple of keys) will be deprecated, use a list instead.\n",
      "  bootstrapped_downward = tmp.groupby(['#t(centisec)'])['ang_pos', 'dist', 'speed_diff', 'acc_diff', 'cc'].mean().reset_index()\n",
      "/var/folders/ng/l4j590g95vl5r33ctw59y6cr0000gn/T/ipykernel_26977/3258036297.py:12: FutureWarning: Indexing with multiple keys (implicitly converted to a tuple of keys) will be deprecated, use a list instead.\n",
      "  bootstrapped_downward = tmp.groupby(['#t(centisec)'])['ang_pos', 'dist', 'speed_diff', 'acc_diff', 'cc'].mean().reset_index()\n",
      "/var/folders/ng/l4j590g95vl5r33ctw59y6cr0000gn/T/ipykernel_26977/3258036297.py:12: FutureWarning: Indexing with multiple keys (implicitly converted to a tuple of keys) will be deprecated, use a list instead.\n",
      "  bootstrapped_downward = tmp.groupby(['#t(centisec)'])['ang_pos', 'dist', 'speed_diff', 'acc_diff', 'cc'].mean().reset_index()\n",
      "/var/folders/ng/l4j590g95vl5r33ctw59y6cr0000gn/T/ipykernel_26977/3258036297.py:12: FutureWarning: Indexing with multiple keys (implicitly converted to a tuple of keys) will be deprecated, use a list instead.\n",
      "  bootstrapped_downward = tmp.groupby(['#t(centisec)'])['ang_pos', 'dist', 'speed_diff', 'acc_diff', 'cc'].mean().reset_index()\n",
      "/var/folders/ng/l4j590g95vl5r33ctw59y6cr0000gn/T/ipykernel_26977/3258036297.py:12: FutureWarning: Indexing with multiple keys (implicitly converted to a tuple of keys) will be deprecated, use a list instead.\n",
      "  bootstrapped_downward = tmp.groupby(['#t(centisec)'])['ang_pos', 'dist', 'speed_diff', 'acc_diff', 'cc'].mean().reset_index()\n",
      "/var/folders/ng/l4j590g95vl5r33ctw59y6cr0000gn/T/ipykernel_26977/3258036297.py:12: FutureWarning: Indexing with multiple keys (implicitly converted to a tuple of keys) will be deprecated, use a list instead.\n",
      "  bootstrapped_downward = tmp.groupby(['#t(centisec)'])['ang_pos', 'dist', 'speed_diff', 'acc_diff', 'cc'].mean().reset_index()\n"
     ]
    },
    {
     "name": "stdout",
     "output_type": "stream",
     "text": [
      "250\n"
     ]
    },
    {
     "name": "stderr",
     "output_type": "stream",
     "text": [
      "/var/folders/ng/l4j590g95vl5r33ctw59y6cr0000gn/T/ipykernel_26977/3258036297.py:12: FutureWarning: Indexing with multiple keys (implicitly converted to a tuple of keys) will be deprecated, use a list instead.\n",
      "  bootstrapped_downward = tmp.groupby(['#t(centisec)'])['ang_pos', 'dist', 'speed_diff', 'acc_diff', 'cc'].mean().reset_index()\n",
      "/var/folders/ng/l4j590g95vl5r33ctw59y6cr0000gn/T/ipykernel_26977/3258036297.py:12: FutureWarning: Indexing with multiple keys (implicitly converted to a tuple of keys) will be deprecated, use a list instead.\n",
      "  bootstrapped_downward = tmp.groupby(['#t(centisec)'])['ang_pos', 'dist', 'speed_diff', 'acc_diff', 'cc'].mean().reset_index()\n",
      "/var/folders/ng/l4j590g95vl5r33ctw59y6cr0000gn/T/ipykernel_26977/3258036297.py:12: FutureWarning: Indexing with multiple keys (implicitly converted to a tuple of keys) will be deprecated, use a list instead.\n",
      "  bootstrapped_downward = tmp.groupby(['#t(centisec)'])['ang_pos', 'dist', 'speed_diff', 'acc_diff', 'cc'].mean().reset_index()\n",
      "/var/folders/ng/l4j590g95vl5r33ctw59y6cr0000gn/T/ipykernel_26977/3258036297.py:12: FutureWarning: Indexing with multiple keys (implicitly converted to a tuple of keys) will be deprecated, use a list instead.\n",
      "  bootstrapped_downward = tmp.groupby(['#t(centisec)'])['ang_pos', 'dist', 'speed_diff', 'acc_diff', 'cc'].mean().reset_index()\n",
      "/var/folders/ng/l4j590g95vl5r33ctw59y6cr0000gn/T/ipykernel_26977/3258036297.py:12: FutureWarning: Indexing with multiple keys (implicitly converted to a tuple of keys) will be deprecated, use a list instead.\n",
      "  bootstrapped_downward = tmp.groupby(['#t(centisec)'])['ang_pos', 'dist', 'speed_diff', 'acc_diff', 'cc'].mean().reset_index()\n",
      "/var/folders/ng/l4j590g95vl5r33ctw59y6cr0000gn/T/ipykernel_26977/3258036297.py:12: FutureWarning: Indexing with multiple keys (implicitly converted to a tuple of keys) will be deprecated, use a list instead.\n",
      "  bootstrapped_downward = tmp.groupby(['#t(centisec)'])['ang_pos', 'dist', 'speed_diff', 'acc_diff', 'cc'].mean().reset_index()\n",
      "/var/folders/ng/l4j590g95vl5r33ctw59y6cr0000gn/T/ipykernel_26977/3258036297.py:12: FutureWarning: Indexing with multiple keys (implicitly converted to a tuple of keys) will be deprecated, use a list instead.\n",
      "  bootstrapped_downward = tmp.groupby(['#t(centisec)'])['ang_pos', 'dist', 'speed_diff', 'acc_diff', 'cc'].mean().reset_index()\n",
      "/var/folders/ng/l4j590g95vl5r33ctw59y6cr0000gn/T/ipykernel_26977/3258036297.py:12: FutureWarning: Indexing with multiple keys (implicitly converted to a tuple of keys) will be deprecated, use a list instead.\n",
      "  bootstrapped_downward = tmp.groupby(['#t(centisec)'])['ang_pos', 'dist', 'speed_diff', 'acc_diff', 'cc'].mean().reset_index()\n",
      "/var/folders/ng/l4j590g95vl5r33ctw59y6cr0000gn/T/ipykernel_26977/3258036297.py:12: FutureWarning: Indexing with multiple keys (implicitly converted to a tuple of keys) will be deprecated, use a list instead.\n",
      "  bootstrapped_downward = tmp.groupby(['#t(centisec)'])['ang_pos', 'dist', 'speed_diff', 'acc_diff', 'cc'].mean().reset_index()\n",
      "/var/folders/ng/l4j590g95vl5r33ctw59y6cr0000gn/T/ipykernel_26977/3258036297.py:12: FutureWarning: Indexing with multiple keys (implicitly converted to a tuple of keys) will be deprecated, use a list instead.\n",
      "  bootstrapped_downward = tmp.groupby(['#t(centisec)'])['ang_pos', 'dist', 'speed_diff', 'acc_diff', 'cc'].mean().reset_index()\n"
     ]
    },
    {
     "name": "stdout",
     "output_type": "stream",
     "text": [
      "260\n"
     ]
    },
    {
     "name": "stderr",
     "output_type": "stream",
     "text": [
      "/var/folders/ng/l4j590g95vl5r33ctw59y6cr0000gn/T/ipykernel_26977/3258036297.py:12: FutureWarning: Indexing with multiple keys (implicitly converted to a tuple of keys) will be deprecated, use a list instead.\n",
      "  bootstrapped_downward = tmp.groupby(['#t(centisec)'])['ang_pos', 'dist', 'speed_diff', 'acc_diff', 'cc'].mean().reset_index()\n",
      "/var/folders/ng/l4j590g95vl5r33ctw59y6cr0000gn/T/ipykernel_26977/3258036297.py:12: FutureWarning: Indexing with multiple keys (implicitly converted to a tuple of keys) will be deprecated, use a list instead.\n",
      "  bootstrapped_downward = tmp.groupby(['#t(centisec)'])['ang_pos', 'dist', 'speed_diff', 'acc_diff', 'cc'].mean().reset_index()\n",
      "/var/folders/ng/l4j590g95vl5r33ctw59y6cr0000gn/T/ipykernel_26977/3258036297.py:12: FutureWarning: Indexing with multiple keys (implicitly converted to a tuple of keys) will be deprecated, use a list instead.\n",
      "  bootstrapped_downward = tmp.groupby(['#t(centisec)'])['ang_pos', 'dist', 'speed_diff', 'acc_diff', 'cc'].mean().reset_index()\n",
      "/var/folders/ng/l4j590g95vl5r33ctw59y6cr0000gn/T/ipykernel_26977/3258036297.py:12: FutureWarning: Indexing with multiple keys (implicitly converted to a tuple of keys) will be deprecated, use a list instead.\n",
      "  bootstrapped_downward = tmp.groupby(['#t(centisec)'])['ang_pos', 'dist', 'speed_diff', 'acc_diff', 'cc'].mean().reset_index()\n",
      "/var/folders/ng/l4j590g95vl5r33ctw59y6cr0000gn/T/ipykernel_26977/3258036297.py:12: FutureWarning: Indexing with multiple keys (implicitly converted to a tuple of keys) will be deprecated, use a list instead.\n",
      "  bootstrapped_downward = tmp.groupby(['#t(centisec)'])['ang_pos', 'dist', 'speed_diff', 'acc_diff', 'cc'].mean().reset_index()\n",
      "/var/folders/ng/l4j590g95vl5r33ctw59y6cr0000gn/T/ipykernel_26977/3258036297.py:12: FutureWarning: Indexing with multiple keys (implicitly converted to a tuple of keys) will be deprecated, use a list instead.\n",
      "  bootstrapped_downward = tmp.groupby(['#t(centisec)'])['ang_pos', 'dist', 'speed_diff', 'acc_diff', 'cc'].mean().reset_index()\n",
      "/var/folders/ng/l4j590g95vl5r33ctw59y6cr0000gn/T/ipykernel_26977/3258036297.py:12: FutureWarning: Indexing with multiple keys (implicitly converted to a tuple of keys) will be deprecated, use a list instead.\n",
      "  bootstrapped_downward = tmp.groupby(['#t(centisec)'])['ang_pos', 'dist', 'speed_diff', 'acc_diff', 'cc'].mean().reset_index()\n",
      "/var/folders/ng/l4j590g95vl5r33ctw59y6cr0000gn/T/ipykernel_26977/3258036297.py:12: FutureWarning: Indexing with multiple keys (implicitly converted to a tuple of keys) will be deprecated, use a list instead.\n",
      "  bootstrapped_downward = tmp.groupby(['#t(centisec)'])['ang_pos', 'dist', 'speed_diff', 'acc_diff', 'cc'].mean().reset_index()\n",
      "/var/folders/ng/l4j590g95vl5r33ctw59y6cr0000gn/T/ipykernel_26977/3258036297.py:12: FutureWarning: Indexing with multiple keys (implicitly converted to a tuple of keys) will be deprecated, use a list instead.\n",
      "  bootstrapped_downward = tmp.groupby(['#t(centisec)'])['ang_pos', 'dist', 'speed_diff', 'acc_diff', 'cc'].mean().reset_index()\n",
      "/var/folders/ng/l4j590g95vl5r33ctw59y6cr0000gn/T/ipykernel_26977/3258036297.py:12: FutureWarning: Indexing with multiple keys (implicitly converted to a tuple of keys) will be deprecated, use a list instead.\n",
      "  bootstrapped_downward = tmp.groupby(['#t(centisec)'])['ang_pos', 'dist', 'speed_diff', 'acc_diff', 'cc'].mean().reset_index()\n"
     ]
    },
    {
     "name": "stdout",
     "output_type": "stream",
     "text": [
      "270\n"
     ]
    },
    {
     "name": "stderr",
     "output_type": "stream",
     "text": [
      "/var/folders/ng/l4j590g95vl5r33ctw59y6cr0000gn/T/ipykernel_26977/3258036297.py:12: FutureWarning: Indexing with multiple keys (implicitly converted to a tuple of keys) will be deprecated, use a list instead.\n",
      "  bootstrapped_downward = tmp.groupby(['#t(centisec)'])['ang_pos', 'dist', 'speed_diff', 'acc_diff', 'cc'].mean().reset_index()\n",
      "/var/folders/ng/l4j590g95vl5r33ctw59y6cr0000gn/T/ipykernel_26977/3258036297.py:12: FutureWarning: Indexing with multiple keys (implicitly converted to a tuple of keys) will be deprecated, use a list instead.\n",
      "  bootstrapped_downward = tmp.groupby(['#t(centisec)'])['ang_pos', 'dist', 'speed_diff', 'acc_diff', 'cc'].mean().reset_index()\n",
      "/var/folders/ng/l4j590g95vl5r33ctw59y6cr0000gn/T/ipykernel_26977/3258036297.py:12: FutureWarning: Indexing with multiple keys (implicitly converted to a tuple of keys) will be deprecated, use a list instead.\n",
      "  bootstrapped_downward = tmp.groupby(['#t(centisec)'])['ang_pos', 'dist', 'speed_diff', 'acc_diff', 'cc'].mean().reset_index()\n",
      "/var/folders/ng/l4j590g95vl5r33ctw59y6cr0000gn/T/ipykernel_26977/3258036297.py:12: FutureWarning: Indexing with multiple keys (implicitly converted to a tuple of keys) will be deprecated, use a list instead.\n",
      "  bootstrapped_downward = tmp.groupby(['#t(centisec)'])['ang_pos', 'dist', 'speed_diff', 'acc_diff', 'cc'].mean().reset_index()\n",
      "/var/folders/ng/l4j590g95vl5r33ctw59y6cr0000gn/T/ipykernel_26977/3258036297.py:12: FutureWarning: Indexing with multiple keys (implicitly converted to a tuple of keys) will be deprecated, use a list instead.\n",
      "  bootstrapped_downward = tmp.groupby(['#t(centisec)'])['ang_pos', 'dist', 'speed_diff', 'acc_diff', 'cc'].mean().reset_index()\n",
      "/var/folders/ng/l4j590g95vl5r33ctw59y6cr0000gn/T/ipykernel_26977/3258036297.py:12: FutureWarning: Indexing with multiple keys (implicitly converted to a tuple of keys) will be deprecated, use a list instead.\n",
      "  bootstrapped_downward = tmp.groupby(['#t(centisec)'])['ang_pos', 'dist', 'speed_diff', 'acc_diff', 'cc'].mean().reset_index()\n",
      "/var/folders/ng/l4j590g95vl5r33ctw59y6cr0000gn/T/ipykernel_26977/3258036297.py:12: FutureWarning: Indexing with multiple keys (implicitly converted to a tuple of keys) will be deprecated, use a list instead.\n",
      "  bootstrapped_downward = tmp.groupby(['#t(centisec)'])['ang_pos', 'dist', 'speed_diff', 'acc_diff', 'cc'].mean().reset_index()\n",
      "/var/folders/ng/l4j590g95vl5r33ctw59y6cr0000gn/T/ipykernel_26977/3258036297.py:12: FutureWarning: Indexing with multiple keys (implicitly converted to a tuple of keys) will be deprecated, use a list instead.\n",
      "  bootstrapped_downward = tmp.groupby(['#t(centisec)'])['ang_pos', 'dist', 'speed_diff', 'acc_diff', 'cc'].mean().reset_index()\n",
      "/var/folders/ng/l4j590g95vl5r33ctw59y6cr0000gn/T/ipykernel_26977/3258036297.py:12: FutureWarning: Indexing with multiple keys (implicitly converted to a tuple of keys) will be deprecated, use a list instead.\n",
      "  bootstrapped_downward = tmp.groupby(['#t(centisec)'])['ang_pos', 'dist', 'speed_diff', 'acc_diff', 'cc'].mean().reset_index()\n",
      "/var/folders/ng/l4j590g95vl5r33ctw59y6cr0000gn/T/ipykernel_26977/3258036297.py:12: FutureWarning: Indexing with multiple keys (implicitly converted to a tuple of keys) will be deprecated, use a list instead.\n",
      "  bootstrapped_downward = tmp.groupby(['#t(centisec)'])['ang_pos', 'dist', 'speed_diff', 'acc_diff', 'cc'].mean().reset_index()\n"
     ]
    },
    {
     "name": "stdout",
     "output_type": "stream",
     "text": [
      "280\n"
     ]
    },
    {
     "name": "stderr",
     "output_type": "stream",
     "text": [
      "/var/folders/ng/l4j590g95vl5r33ctw59y6cr0000gn/T/ipykernel_26977/3258036297.py:12: FutureWarning: Indexing with multiple keys (implicitly converted to a tuple of keys) will be deprecated, use a list instead.\n",
      "  bootstrapped_downward = tmp.groupby(['#t(centisec)'])['ang_pos', 'dist', 'speed_diff', 'acc_diff', 'cc'].mean().reset_index()\n",
      "/var/folders/ng/l4j590g95vl5r33ctw59y6cr0000gn/T/ipykernel_26977/3258036297.py:12: FutureWarning: Indexing with multiple keys (implicitly converted to a tuple of keys) will be deprecated, use a list instead.\n",
      "  bootstrapped_downward = tmp.groupby(['#t(centisec)'])['ang_pos', 'dist', 'speed_diff', 'acc_diff', 'cc'].mean().reset_index()\n",
      "/var/folders/ng/l4j590g95vl5r33ctw59y6cr0000gn/T/ipykernel_26977/3258036297.py:12: FutureWarning: Indexing with multiple keys (implicitly converted to a tuple of keys) will be deprecated, use a list instead.\n",
      "  bootstrapped_downward = tmp.groupby(['#t(centisec)'])['ang_pos', 'dist', 'speed_diff', 'acc_diff', 'cc'].mean().reset_index()\n",
      "/var/folders/ng/l4j590g95vl5r33ctw59y6cr0000gn/T/ipykernel_26977/3258036297.py:12: FutureWarning: Indexing with multiple keys (implicitly converted to a tuple of keys) will be deprecated, use a list instead.\n",
      "  bootstrapped_downward = tmp.groupby(['#t(centisec)'])['ang_pos', 'dist', 'speed_diff', 'acc_diff', 'cc'].mean().reset_index()\n",
      "/var/folders/ng/l4j590g95vl5r33ctw59y6cr0000gn/T/ipykernel_26977/3258036297.py:12: FutureWarning: Indexing with multiple keys (implicitly converted to a tuple of keys) will be deprecated, use a list instead.\n",
      "  bootstrapped_downward = tmp.groupby(['#t(centisec)'])['ang_pos', 'dist', 'speed_diff', 'acc_diff', 'cc'].mean().reset_index()\n",
      "/var/folders/ng/l4j590g95vl5r33ctw59y6cr0000gn/T/ipykernel_26977/3258036297.py:12: FutureWarning: Indexing with multiple keys (implicitly converted to a tuple of keys) will be deprecated, use a list instead.\n",
      "  bootstrapped_downward = tmp.groupby(['#t(centisec)'])['ang_pos', 'dist', 'speed_diff', 'acc_diff', 'cc'].mean().reset_index()\n",
      "/var/folders/ng/l4j590g95vl5r33ctw59y6cr0000gn/T/ipykernel_26977/3258036297.py:12: FutureWarning: Indexing with multiple keys (implicitly converted to a tuple of keys) will be deprecated, use a list instead.\n",
      "  bootstrapped_downward = tmp.groupby(['#t(centisec)'])['ang_pos', 'dist', 'speed_diff', 'acc_diff', 'cc'].mean().reset_index()\n",
      "/var/folders/ng/l4j590g95vl5r33ctw59y6cr0000gn/T/ipykernel_26977/3258036297.py:12: FutureWarning: Indexing with multiple keys (implicitly converted to a tuple of keys) will be deprecated, use a list instead.\n",
      "  bootstrapped_downward = tmp.groupby(['#t(centisec)'])['ang_pos', 'dist', 'speed_diff', 'acc_diff', 'cc'].mean().reset_index()\n",
      "/var/folders/ng/l4j590g95vl5r33ctw59y6cr0000gn/T/ipykernel_26977/3258036297.py:12: FutureWarning: Indexing with multiple keys (implicitly converted to a tuple of keys) will be deprecated, use a list instead.\n",
      "  bootstrapped_downward = tmp.groupby(['#t(centisec)'])['ang_pos', 'dist', 'speed_diff', 'acc_diff', 'cc'].mean().reset_index()\n",
      "/var/folders/ng/l4j590g95vl5r33ctw59y6cr0000gn/T/ipykernel_26977/3258036297.py:12: FutureWarning: Indexing with multiple keys (implicitly converted to a tuple of keys) will be deprecated, use a list instead.\n",
      "  bootstrapped_downward = tmp.groupby(['#t(centisec)'])['ang_pos', 'dist', 'speed_diff', 'acc_diff', 'cc'].mean().reset_index()\n"
     ]
    },
    {
     "name": "stdout",
     "output_type": "stream",
     "text": [
      "290\n"
     ]
    },
    {
     "name": "stderr",
     "output_type": "stream",
     "text": [
      "/var/folders/ng/l4j590g95vl5r33ctw59y6cr0000gn/T/ipykernel_26977/3258036297.py:12: FutureWarning: Indexing with multiple keys (implicitly converted to a tuple of keys) will be deprecated, use a list instead.\n",
      "  bootstrapped_downward = tmp.groupby(['#t(centisec)'])['ang_pos', 'dist', 'speed_diff', 'acc_diff', 'cc'].mean().reset_index()\n",
      "/var/folders/ng/l4j590g95vl5r33ctw59y6cr0000gn/T/ipykernel_26977/3258036297.py:12: FutureWarning: Indexing with multiple keys (implicitly converted to a tuple of keys) will be deprecated, use a list instead.\n",
      "  bootstrapped_downward = tmp.groupby(['#t(centisec)'])['ang_pos', 'dist', 'speed_diff', 'acc_diff', 'cc'].mean().reset_index()\n",
      "/var/folders/ng/l4j590g95vl5r33ctw59y6cr0000gn/T/ipykernel_26977/3258036297.py:12: FutureWarning: Indexing with multiple keys (implicitly converted to a tuple of keys) will be deprecated, use a list instead.\n",
      "  bootstrapped_downward = tmp.groupby(['#t(centisec)'])['ang_pos', 'dist', 'speed_diff', 'acc_diff', 'cc'].mean().reset_index()\n",
      "/var/folders/ng/l4j590g95vl5r33ctw59y6cr0000gn/T/ipykernel_26977/3258036297.py:12: FutureWarning: Indexing with multiple keys (implicitly converted to a tuple of keys) will be deprecated, use a list instead.\n",
      "  bootstrapped_downward = tmp.groupby(['#t(centisec)'])['ang_pos', 'dist', 'speed_diff', 'acc_diff', 'cc'].mean().reset_index()\n",
      "/var/folders/ng/l4j590g95vl5r33ctw59y6cr0000gn/T/ipykernel_26977/3258036297.py:12: FutureWarning: Indexing with multiple keys (implicitly converted to a tuple of keys) will be deprecated, use a list instead.\n",
      "  bootstrapped_downward = tmp.groupby(['#t(centisec)'])['ang_pos', 'dist', 'speed_diff', 'acc_diff', 'cc'].mean().reset_index()\n",
      "/var/folders/ng/l4j590g95vl5r33ctw59y6cr0000gn/T/ipykernel_26977/3258036297.py:12: FutureWarning: Indexing with multiple keys (implicitly converted to a tuple of keys) will be deprecated, use a list instead.\n",
      "  bootstrapped_downward = tmp.groupby(['#t(centisec)'])['ang_pos', 'dist', 'speed_diff', 'acc_diff', 'cc'].mean().reset_index()\n",
      "/var/folders/ng/l4j590g95vl5r33ctw59y6cr0000gn/T/ipykernel_26977/3258036297.py:12: FutureWarning: Indexing with multiple keys (implicitly converted to a tuple of keys) will be deprecated, use a list instead.\n",
      "  bootstrapped_downward = tmp.groupby(['#t(centisec)'])['ang_pos', 'dist', 'speed_diff', 'acc_diff', 'cc'].mean().reset_index()\n",
      "/var/folders/ng/l4j590g95vl5r33ctw59y6cr0000gn/T/ipykernel_26977/3258036297.py:12: FutureWarning: Indexing with multiple keys (implicitly converted to a tuple of keys) will be deprecated, use a list instead.\n",
      "  bootstrapped_downward = tmp.groupby(['#t(centisec)'])['ang_pos', 'dist', 'speed_diff', 'acc_diff', 'cc'].mean().reset_index()\n",
      "/var/folders/ng/l4j590g95vl5r33ctw59y6cr0000gn/T/ipykernel_26977/3258036297.py:12: FutureWarning: Indexing with multiple keys (implicitly converted to a tuple of keys) will be deprecated, use a list instead.\n",
      "  bootstrapped_downward = tmp.groupby(['#t(centisec)'])['ang_pos', 'dist', 'speed_diff', 'acc_diff', 'cc'].mean().reset_index()\n",
      "/var/folders/ng/l4j590g95vl5r33ctw59y6cr0000gn/T/ipykernel_26977/3258036297.py:12: FutureWarning: Indexing with multiple keys (implicitly converted to a tuple of keys) will be deprecated, use a list instead.\n",
      "  bootstrapped_downward = tmp.groupby(['#t(centisec)'])['ang_pos', 'dist', 'speed_diff', 'acc_diff', 'cc'].mean().reset_index()\n"
     ]
    },
    {
     "name": "stdout",
     "output_type": "stream",
     "text": [
      "300\n"
     ]
    },
    {
     "name": "stderr",
     "output_type": "stream",
     "text": [
      "/var/folders/ng/l4j590g95vl5r33ctw59y6cr0000gn/T/ipykernel_26977/3258036297.py:12: FutureWarning: Indexing with multiple keys (implicitly converted to a tuple of keys) will be deprecated, use a list instead.\n",
      "  bootstrapped_downward = tmp.groupby(['#t(centisec)'])['ang_pos', 'dist', 'speed_diff', 'acc_diff', 'cc'].mean().reset_index()\n",
      "/var/folders/ng/l4j590g95vl5r33ctw59y6cr0000gn/T/ipykernel_26977/3258036297.py:12: FutureWarning: Indexing with multiple keys (implicitly converted to a tuple of keys) will be deprecated, use a list instead.\n",
      "  bootstrapped_downward = tmp.groupby(['#t(centisec)'])['ang_pos', 'dist', 'speed_diff', 'acc_diff', 'cc'].mean().reset_index()\n",
      "/var/folders/ng/l4j590g95vl5r33ctw59y6cr0000gn/T/ipykernel_26977/3258036297.py:12: FutureWarning: Indexing with multiple keys (implicitly converted to a tuple of keys) will be deprecated, use a list instead.\n",
      "  bootstrapped_downward = tmp.groupby(['#t(centisec)'])['ang_pos', 'dist', 'speed_diff', 'acc_diff', 'cc'].mean().reset_index()\n",
      "/var/folders/ng/l4j590g95vl5r33ctw59y6cr0000gn/T/ipykernel_26977/3258036297.py:12: FutureWarning: Indexing with multiple keys (implicitly converted to a tuple of keys) will be deprecated, use a list instead.\n",
      "  bootstrapped_downward = tmp.groupby(['#t(centisec)'])['ang_pos', 'dist', 'speed_diff', 'acc_diff', 'cc'].mean().reset_index()\n",
      "/var/folders/ng/l4j590g95vl5r33ctw59y6cr0000gn/T/ipykernel_26977/3258036297.py:12: FutureWarning: Indexing with multiple keys (implicitly converted to a tuple of keys) will be deprecated, use a list instead.\n",
      "  bootstrapped_downward = tmp.groupby(['#t(centisec)'])['ang_pos', 'dist', 'speed_diff', 'acc_diff', 'cc'].mean().reset_index()\n",
      "/var/folders/ng/l4j590g95vl5r33ctw59y6cr0000gn/T/ipykernel_26977/3258036297.py:12: FutureWarning: Indexing with multiple keys (implicitly converted to a tuple of keys) will be deprecated, use a list instead.\n",
      "  bootstrapped_downward = tmp.groupby(['#t(centisec)'])['ang_pos', 'dist', 'speed_diff', 'acc_diff', 'cc'].mean().reset_index()\n",
      "/var/folders/ng/l4j590g95vl5r33ctw59y6cr0000gn/T/ipykernel_26977/3258036297.py:12: FutureWarning: Indexing with multiple keys (implicitly converted to a tuple of keys) will be deprecated, use a list instead.\n",
      "  bootstrapped_downward = tmp.groupby(['#t(centisec)'])['ang_pos', 'dist', 'speed_diff', 'acc_diff', 'cc'].mean().reset_index()\n",
      "/var/folders/ng/l4j590g95vl5r33ctw59y6cr0000gn/T/ipykernel_26977/3258036297.py:12: FutureWarning: Indexing with multiple keys (implicitly converted to a tuple of keys) will be deprecated, use a list instead.\n",
      "  bootstrapped_downward = tmp.groupby(['#t(centisec)'])['ang_pos', 'dist', 'speed_diff', 'acc_diff', 'cc'].mean().reset_index()\n",
      "/var/folders/ng/l4j590g95vl5r33ctw59y6cr0000gn/T/ipykernel_26977/3258036297.py:12: FutureWarning: Indexing with multiple keys (implicitly converted to a tuple of keys) will be deprecated, use a list instead.\n",
      "  bootstrapped_downward = tmp.groupby(['#t(centisec)'])['ang_pos', 'dist', 'speed_diff', 'acc_diff', 'cc'].mean().reset_index()\n",
      "/var/folders/ng/l4j590g95vl5r33ctw59y6cr0000gn/T/ipykernel_26977/3258036297.py:12: FutureWarning: Indexing with multiple keys (implicitly converted to a tuple of keys) will be deprecated, use a list instead.\n",
      "  bootstrapped_downward = tmp.groupby(['#t(centisec)'])['ang_pos', 'dist', 'speed_diff', 'acc_diff', 'cc'].mean().reset_index()\n"
     ]
    },
    {
     "name": "stdout",
     "output_type": "stream",
     "text": [
      "310\n"
     ]
    },
    {
     "name": "stderr",
     "output_type": "stream",
     "text": [
      "/var/folders/ng/l4j590g95vl5r33ctw59y6cr0000gn/T/ipykernel_26977/3258036297.py:12: FutureWarning: Indexing with multiple keys (implicitly converted to a tuple of keys) will be deprecated, use a list instead.\n",
      "  bootstrapped_downward = tmp.groupby(['#t(centisec)'])['ang_pos', 'dist', 'speed_diff', 'acc_diff', 'cc'].mean().reset_index()\n",
      "/var/folders/ng/l4j590g95vl5r33ctw59y6cr0000gn/T/ipykernel_26977/3258036297.py:12: FutureWarning: Indexing with multiple keys (implicitly converted to a tuple of keys) will be deprecated, use a list instead.\n",
      "  bootstrapped_downward = tmp.groupby(['#t(centisec)'])['ang_pos', 'dist', 'speed_diff', 'acc_diff', 'cc'].mean().reset_index()\n",
      "/var/folders/ng/l4j590g95vl5r33ctw59y6cr0000gn/T/ipykernel_26977/3258036297.py:12: FutureWarning: Indexing with multiple keys (implicitly converted to a tuple of keys) will be deprecated, use a list instead.\n",
      "  bootstrapped_downward = tmp.groupby(['#t(centisec)'])['ang_pos', 'dist', 'speed_diff', 'acc_diff', 'cc'].mean().reset_index()\n",
      "/var/folders/ng/l4j590g95vl5r33ctw59y6cr0000gn/T/ipykernel_26977/3258036297.py:12: FutureWarning: Indexing with multiple keys (implicitly converted to a tuple of keys) will be deprecated, use a list instead.\n",
      "  bootstrapped_downward = tmp.groupby(['#t(centisec)'])['ang_pos', 'dist', 'speed_diff', 'acc_diff', 'cc'].mean().reset_index()\n",
      "/var/folders/ng/l4j590g95vl5r33ctw59y6cr0000gn/T/ipykernel_26977/3258036297.py:12: FutureWarning: Indexing with multiple keys (implicitly converted to a tuple of keys) will be deprecated, use a list instead.\n",
      "  bootstrapped_downward = tmp.groupby(['#t(centisec)'])['ang_pos', 'dist', 'speed_diff', 'acc_diff', 'cc'].mean().reset_index()\n",
      "/var/folders/ng/l4j590g95vl5r33ctw59y6cr0000gn/T/ipykernel_26977/3258036297.py:12: FutureWarning: Indexing with multiple keys (implicitly converted to a tuple of keys) will be deprecated, use a list instead.\n",
      "  bootstrapped_downward = tmp.groupby(['#t(centisec)'])['ang_pos', 'dist', 'speed_diff', 'acc_diff', 'cc'].mean().reset_index()\n",
      "/var/folders/ng/l4j590g95vl5r33ctw59y6cr0000gn/T/ipykernel_26977/3258036297.py:12: FutureWarning: Indexing with multiple keys (implicitly converted to a tuple of keys) will be deprecated, use a list instead.\n",
      "  bootstrapped_downward = tmp.groupby(['#t(centisec)'])['ang_pos', 'dist', 'speed_diff', 'acc_diff', 'cc'].mean().reset_index()\n",
      "/var/folders/ng/l4j590g95vl5r33ctw59y6cr0000gn/T/ipykernel_26977/3258036297.py:12: FutureWarning: Indexing with multiple keys (implicitly converted to a tuple of keys) will be deprecated, use a list instead.\n",
      "  bootstrapped_downward = tmp.groupby(['#t(centisec)'])['ang_pos', 'dist', 'speed_diff', 'acc_diff', 'cc'].mean().reset_index()\n",
      "/var/folders/ng/l4j590g95vl5r33ctw59y6cr0000gn/T/ipykernel_26977/3258036297.py:12: FutureWarning: Indexing with multiple keys (implicitly converted to a tuple of keys) will be deprecated, use a list instead.\n",
      "  bootstrapped_downward = tmp.groupby(['#t(centisec)'])['ang_pos', 'dist', 'speed_diff', 'acc_diff', 'cc'].mean().reset_index()\n",
      "/var/folders/ng/l4j590g95vl5r33ctw59y6cr0000gn/T/ipykernel_26977/3258036297.py:12: FutureWarning: Indexing with multiple keys (implicitly converted to a tuple of keys) will be deprecated, use a list instead.\n",
      "  bootstrapped_downward = tmp.groupby(['#t(centisec)'])['ang_pos', 'dist', 'speed_diff', 'acc_diff', 'cc'].mean().reset_index()\n"
     ]
    },
    {
     "name": "stdout",
     "output_type": "stream",
     "text": [
      "320\n"
     ]
    },
    {
     "name": "stderr",
     "output_type": "stream",
     "text": [
      "/var/folders/ng/l4j590g95vl5r33ctw59y6cr0000gn/T/ipykernel_26977/3258036297.py:12: FutureWarning: Indexing with multiple keys (implicitly converted to a tuple of keys) will be deprecated, use a list instead.\n",
      "  bootstrapped_downward = tmp.groupby(['#t(centisec)'])['ang_pos', 'dist', 'speed_diff', 'acc_diff', 'cc'].mean().reset_index()\n",
      "/var/folders/ng/l4j590g95vl5r33ctw59y6cr0000gn/T/ipykernel_26977/3258036297.py:12: FutureWarning: Indexing with multiple keys (implicitly converted to a tuple of keys) will be deprecated, use a list instead.\n",
      "  bootstrapped_downward = tmp.groupby(['#t(centisec)'])['ang_pos', 'dist', 'speed_diff', 'acc_diff', 'cc'].mean().reset_index()\n",
      "/var/folders/ng/l4j590g95vl5r33ctw59y6cr0000gn/T/ipykernel_26977/3258036297.py:12: FutureWarning: Indexing with multiple keys (implicitly converted to a tuple of keys) will be deprecated, use a list instead.\n",
      "  bootstrapped_downward = tmp.groupby(['#t(centisec)'])['ang_pos', 'dist', 'speed_diff', 'acc_diff', 'cc'].mean().reset_index()\n",
      "/var/folders/ng/l4j590g95vl5r33ctw59y6cr0000gn/T/ipykernel_26977/3258036297.py:12: FutureWarning: Indexing with multiple keys (implicitly converted to a tuple of keys) will be deprecated, use a list instead.\n",
      "  bootstrapped_downward = tmp.groupby(['#t(centisec)'])['ang_pos', 'dist', 'speed_diff', 'acc_diff', 'cc'].mean().reset_index()\n",
      "/var/folders/ng/l4j590g95vl5r33ctw59y6cr0000gn/T/ipykernel_26977/3258036297.py:12: FutureWarning: Indexing with multiple keys (implicitly converted to a tuple of keys) will be deprecated, use a list instead.\n",
      "  bootstrapped_downward = tmp.groupby(['#t(centisec)'])['ang_pos', 'dist', 'speed_diff', 'acc_diff', 'cc'].mean().reset_index()\n",
      "/var/folders/ng/l4j590g95vl5r33ctw59y6cr0000gn/T/ipykernel_26977/3258036297.py:12: FutureWarning: Indexing with multiple keys (implicitly converted to a tuple of keys) will be deprecated, use a list instead.\n",
      "  bootstrapped_downward = tmp.groupby(['#t(centisec)'])['ang_pos', 'dist', 'speed_diff', 'acc_diff', 'cc'].mean().reset_index()\n",
      "/var/folders/ng/l4j590g95vl5r33ctw59y6cr0000gn/T/ipykernel_26977/3258036297.py:12: FutureWarning: Indexing with multiple keys (implicitly converted to a tuple of keys) will be deprecated, use a list instead.\n",
      "  bootstrapped_downward = tmp.groupby(['#t(centisec)'])['ang_pos', 'dist', 'speed_diff', 'acc_diff', 'cc'].mean().reset_index()\n",
      "/var/folders/ng/l4j590g95vl5r33ctw59y6cr0000gn/T/ipykernel_26977/3258036297.py:12: FutureWarning: Indexing with multiple keys (implicitly converted to a tuple of keys) will be deprecated, use a list instead.\n",
      "  bootstrapped_downward = tmp.groupby(['#t(centisec)'])['ang_pos', 'dist', 'speed_diff', 'acc_diff', 'cc'].mean().reset_index()\n",
      "/var/folders/ng/l4j590g95vl5r33ctw59y6cr0000gn/T/ipykernel_26977/3258036297.py:12: FutureWarning: Indexing with multiple keys (implicitly converted to a tuple of keys) will be deprecated, use a list instead.\n",
      "  bootstrapped_downward = tmp.groupby(['#t(centisec)'])['ang_pos', 'dist', 'speed_diff', 'acc_diff', 'cc'].mean().reset_index()\n",
      "/var/folders/ng/l4j590g95vl5r33ctw59y6cr0000gn/T/ipykernel_26977/3258036297.py:12: FutureWarning: Indexing with multiple keys (implicitly converted to a tuple of keys) will be deprecated, use a list instead.\n",
      "  bootstrapped_downward = tmp.groupby(['#t(centisec)'])['ang_pos', 'dist', 'speed_diff', 'acc_diff', 'cc'].mean().reset_index()\n"
     ]
    },
    {
     "name": "stdout",
     "output_type": "stream",
     "text": [
      "330\n"
     ]
    },
    {
     "name": "stderr",
     "output_type": "stream",
     "text": [
      "/var/folders/ng/l4j590g95vl5r33ctw59y6cr0000gn/T/ipykernel_26977/3258036297.py:12: FutureWarning: Indexing with multiple keys (implicitly converted to a tuple of keys) will be deprecated, use a list instead.\n",
      "  bootstrapped_downward = tmp.groupby(['#t(centisec)'])['ang_pos', 'dist', 'speed_diff', 'acc_diff', 'cc'].mean().reset_index()\n",
      "/var/folders/ng/l4j590g95vl5r33ctw59y6cr0000gn/T/ipykernel_26977/3258036297.py:12: FutureWarning: Indexing with multiple keys (implicitly converted to a tuple of keys) will be deprecated, use a list instead.\n",
      "  bootstrapped_downward = tmp.groupby(['#t(centisec)'])['ang_pos', 'dist', 'speed_diff', 'acc_diff', 'cc'].mean().reset_index()\n",
      "/var/folders/ng/l4j590g95vl5r33ctw59y6cr0000gn/T/ipykernel_26977/3258036297.py:12: FutureWarning: Indexing with multiple keys (implicitly converted to a tuple of keys) will be deprecated, use a list instead.\n",
      "  bootstrapped_downward = tmp.groupby(['#t(centisec)'])['ang_pos', 'dist', 'speed_diff', 'acc_diff', 'cc'].mean().reset_index()\n",
      "/var/folders/ng/l4j590g95vl5r33ctw59y6cr0000gn/T/ipykernel_26977/3258036297.py:12: FutureWarning: Indexing with multiple keys (implicitly converted to a tuple of keys) will be deprecated, use a list instead.\n",
      "  bootstrapped_downward = tmp.groupby(['#t(centisec)'])['ang_pos', 'dist', 'speed_diff', 'acc_diff', 'cc'].mean().reset_index()\n",
      "/var/folders/ng/l4j590g95vl5r33ctw59y6cr0000gn/T/ipykernel_26977/3258036297.py:12: FutureWarning: Indexing with multiple keys (implicitly converted to a tuple of keys) will be deprecated, use a list instead.\n",
      "  bootstrapped_downward = tmp.groupby(['#t(centisec)'])['ang_pos', 'dist', 'speed_diff', 'acc_diff', 'cc'].mean().reset_index()\n",
      "/var/folders/ng/l4j590g95vl5r33ctw59y6cr0000gn/T/ipykernel_26977/3258036297.py:12: FutureWarning: Indexing with multiple keys (implicitly converted to a tuple of keys) will be deprecated, use a list instead.\n",
      "  bootstrapped_downward = tmp.groupby(['#t(centisec)'])['ang_pos', 'dist', 'speed_diff', 'acc_diff', 'cc'].mean().reset_index()\n",
      "/var/folders/ng/l4j590g95vl5r33ctw59y6cr0000gn/T/ipykernel_26977/3258036297.py:12: FutureWarning: Indexing with multiple keys (implicitly converted to a tuple of keys) will be deprecated, use a list instead.\n",
      "  bootstrapped_downward = tmp.groupby(['#t(centisec)'])['ang_pos', 'dist', 'speed_diff', 'acc_diff', 'cc'].mean().reset_index()\n",
      "/var/folders/ng/l4j590g95vl5r33ctw59y6cr0000gn/T/ipykernel_26977/3258036297.py:12: FutureWarning: Indexing with multiple keys (implicitly converted to a tuple of keys) will be deprecated, use a list instead.\n",
      "  bootstrapped_downward = tmp.groupby(['#t(centisec)'])['ang_pos', 'dist', 'speed_diff', 'acc_diff', 'cc'].mean().reset_index()\n",
      "/var/folders/ng/l4j590g95vl5r33ctw59y6cr0000gn/T/ipykernel_26977/3258036297.py:12: FutureWarning: Indexing with multiple keys (implicitly converted to a tuple of keys) will be deprecated, use a list instead.\n",
      "  bootstrapped_downward = tmp.groupby(['#t(centisec)'])['ang_pos', 'dist', 'speed_diff', 'acc_diff', 'cc'].mean().reset_index()\n",
      "/var/folders/ng/l4j590g95vl5r33ctw59y6cr0000gn/T/ipykernel_26977/3258036297.py:12: FutureWarning: Indexing with multiple keys (implicitly converted to a tuple of keys) will be deprecated, use a list instead.\n",
      "  bootstrapped_downward = tmp.groupby(['#t(centisec)'])['ang_pos', 'dist', 'speed_diff', 'acc_diff', 'cc'].mean().reset_index()\n"
     ]
    },
    {
     "name": "stdout",
     "output_type": "stream",
     "text": [
      "340\n"
     ]
    },
    {
     "name": "stderr",
     "output_type": "stream",
     "text": [
      "/var/folders/ng/l4j590g95vl5r33ctw59y6cr0000gn/T/ipykernel_26977/3258036297.py:12: FutureWarning: Indexing with multiple keys (implicitly converted to a tuple of keys) will be deprecated, use a list instead.\n",
      "  bootstrapped_downward = tmp.groupby(['#t(centisec)'])['ang_pos', 'dist', 'speed_diff', 'acc_diff', 'cc'].mean().reset_index()\n",
      "/var/folders/ng/l4j590g95vl5r33ctw59y6cr0000gn/T/ipykernel_26977/3258036297.py:12: FutureWarning: Indexing with multiple keys (implicitly converted to a tuple of keys) will be deprecated, use a list instead.\n",
      "  bootstrapped_downward = tmp.groupby(['#t(centisec)'])['ang_pos', 'dist', 'speed_diff', 'acc_diff', 'cc'].mean().reset_index()\n",
      "/var/folders/ng/l4j590g95vl5r33ctw59y6cr0000gn/T/ipykernel_26977/3258036297.py:12: FutureWarning: Indexing with multiple keys (implicitly converted to a tuple of keys) will be deprecated, use a list instead.\n",
      "  bootstrapped_downward = tmp.groupby(['#t(centisec)'])['ang_pos', 'dist', 'speed_diff', 'acc_diff', 'cc'].mean().reset_index()\n",
      "/var/folders/ng/l4j590g95vl5r33ctw59y6cr0000gn/T/ipykernel_26977/3258036297.py:12: FutureWarning: Indexing with multiple keys (implicitly converted to a tuple of keys) will be deprecated, use a list instead.\n",
      "  bootstrapped_downward = tmp.groupby(['#t(centisec)'])['ang_pos', 'dist', 'speed_diff', 'acc_diff', 'cc'].mean().reset_index()\n",
      "/var/folders/ng/l4j590g95vl5r33ctw59y6cr0000gn/T/ipykernel_26977/3258036297.py:12: FutureWarning: Indexing with multiple keys (implicitly converted to a tuple of keys) will be deprecated, use a list instead.\n",
      "  bootstrapped_downward = tmp.groupby(['#t(centisec)'])['ang_pos', 'dist', 'speed_diff', 'acc_diff', 'cc'].mean().reset_index()\n",
      "/var/folders/ng/l4j590g95vl5r33ctw59y6cr0000gn/T/ipykernel_26977/3258036297.py:12: FutureWarning: Indexing with multiple keys (implicitly converted to a tuple of keys) will be deprecated, use a list instead.\n",
      "  bootstrapped_downward = tmp.groupby(['#t(centisec)'])['ang_pos', 'dist', 'speed_diff', 'acc_diff', 'cc'].mean().reset_index()\n",
      "/var/folders/ng/l4j590g95vl5r33ctw59y6cr0000gn/T/ipykernel_26977/3258036297.py:12: FutureWarning: Indexing with multiple keys (implicitly converted to a tuple of keys) will be deprecated, use a list instead.\n",
      "  bootstrapped_downward = tmp.groupby(['#t(centisec)'])['ang_pos', 'dist', 'speed_diff', 'acc_diff', 'cc'].mean().reset_index()\n",
      "/var/folders/ng/l4j590g95vl5r33ctw59y6cr0000gn/T/ipykernel_26977/3258036297.py:12: FutureWarning: Indexing with multiple keys (implicitly converted to a tuple of keys) will be deprecated, use a list instead.\n",
      "  bootstrapped_downward = tmp.groupby(['#t(centisec)'])['ang_pos', 'dist', 'speed_diff', 'acc_diff', 'cc'].mean().reset_index()\n",
      "/var/folders/ng/l4j590g95vl5r33ctw59y6cr0000gn/T/ipykernel_26977/3258036297.py:12: FutureWarning: Indexing with multiple keys (implicitly converted to a tuple of keys) will be deprecated, use a list instead.\n",
      "  bootstrapped_downward = tmp.groupby(['#t(centisec)'])['ang_pos', 'dist', 'speed_diff', 'acc_diff', 'cc'].mean().reset_index()\n",
      "/var/folders/ng/l4j590g95vl5r33ctw59y6cr0000gn/T/ipykernel_26977/3258036297.py:12: FutureWarning: Indexing with multiple keys (implicitly converted to a tuple of keys) will be deprecated, use a list instead.\n",
      "  bootstrapped_downward = tmp.groupby(['#t(centisec)'])['ang_pos', 'dist', 'speed_diff', 'acc_diff', 'cc'].mean().reset_index()\n"
     ]
    },
    {
     "name": "stdout",
     "output_type": "stream",
     "text": [
      "350\n"
     ]
    },
    {
     "name": "stderr",
     "output_type": "stream",
     "text": [
      "/var/folders/ng/l4j590g95vl5r33ctw59y6cr0000gn/T/ipykernel_26977/3258036297.py:12: FutureWarning: Indexing with multiple keys (implicitly converted to a tuple of keys) will be deprecated, use a list instead.\n",
      "  bootstrapped_downward = tmp.groupby(['#t(centisec)'])['ang_pos', 'dist', 'speed_diff', 'acc_diff', 'cc'].mean().reset_index()\n",
      "/var/folders/ng/l4j590g95vl5r33ctw59y6cr0000gn/T/ipykernel_26977/3258036297.py:12: FutureWarning: Indexing with multiple keys (implicitly converted to a tuple of keys) will be deprecated, use a list instead.\n",
      "  bootstrapped_downward = tmp.groupby(['#t(centisec)'])['ang_pos', 'dist', 'speed_diff', 'acc_diff', 'cc'].mean().reset_index()\n",
      "/var/folders/ng/l4j590g95vl5r33ctw59y6cr0000gn/T/ipykernel_26977/3258036297.py:12: FutureWarning: Indexing with multiple keys (implicitly converted to a tuple of keys) will be deprecated, use a list instead.\n",
      "  bootstrapped_downward = tmp.groupby(['#t(centisec)'])['ang_pos', 'dist', 'speed_diff', 'acc_diff', 'cc'].mean().reset_index()\n",
      "/var/folders/ng/l4j590g95vl5r33ctw59y6cr0000gn/T/ipykernel_26977/3258036297.py:12: FutureWarning: Indexing with multiple keys (implicitly converted to a tuple of keys) will be deprecated, use a list instead.\n",
      "  bootstrapped_downward = tmp.groupby(['#t(centisec)'])['ang_pos', 'dist', 'speed_diff', 'acc_diff', 'cc'].mean().reset_index()\n",
      "/var/folders/ng/l4j590g95vl5r33ctw59y6cr0000gn/T/ipykernel_26977/3258036297.py:12: FutureWarning: Indexing with multiple keys (implicitly converted to a tuple of keys) will be deprecated, use a list instead.\n",
      "  bootstrapped_downward = tmp.groupby(['#t(centisec)'])['ang_pos', 'dist', 'speed_diff', 'acc_diff', 'cc'].mean().reset_index()\n",
      "/var/folders/ng/l4j590g95vl5r33ctw59y6cr0000gn/T/ipykernel_26977/3258036297.py:12: FutureWarning: Indexing with multiple keys (implicitly converted to a tuple of keys) will be deprecated, use a list instead.\n",
      "  bootstrapped_downward = tmp.groupby(['#t(centisec)'])['ang_pos', 'dist', 'speed_diff', 'acc_diff', 'cc'].mean().reset_index()\n",
      "/var/folders/ng/l4j590g95vl5r33ctw59y6cr0000gn/T/ipykernel_26977/3258036297.py:12: FutureWarning: Indexing with multiple keys (implicitly converted to a tuple of keys) will be deprecated, use a list instead.\n",
      "  bootstrapped_downward = tmp.groupby(['#t(centisec)'])['ang_pos', 'dist', 'speed_diff', 'acc_diff', 'cc'].mean().reset_index()\n",
      "/var/folders/ng/l4j590g95vl5r33ctw59y6cr0000gn/T/ipykernel_26977/3258036297.py:12: FutureWarning: Indexing with multiple keys (implicitly converted to a tuple of keys) will be deprecated, use a list instead.\n",
      "  bootstrapped_downward = tmp.groupby(['#t(centisec)'])['ang_pos', 'dist', 'speed_diff', 'acc_diff', 'cc'].mean().reset_index()\n",
      "/var/folders/ng/l4j590g95vl5r33ctw59y6cr0000gn/T/ipykernel_26977/3258036297.py:12: FutureWarning: Indexing with multiple keys (implicitly converted to a tuple of keys) will be deprecated, use a list instead.\n",
      "  bootstrapped_downward = tmp.groupby(['#t(centisec)'])['ang_pos', 'dist', 'speed_diff', 'acc_diff', 'cc'].mean().reset_index()\n",
      "/var/folders/ng/l4j590g95vl5r33ctw59y6cr0000gn/T/ipykernel_26977/3258036297.py:12: FutureWarning: Indexing with multiple keys (implicitly converted to a tuple of keys) will be deprecated, use a list instead.\n",
      "  bootstrapped_downward = tmp.groupby(['#t(centisec)'])['ang_pos', 'dist', 'speed_diff', 'acc_diff', 'cc'].mean().reset_index()\n"
     ]
    },
    {
     "name": "stdout",
     "output_type": "stream",
     "text": [
      "360\n"
     ]
    },
    {
     "name": "stderr",
     "output_type": "stream",
     "text": [
      "/var/folders/ng/l4j590g95vl5r33ctw59y6cr0000gn/T/ipykernel_26977/3258036297.py:12: FutureWarning: Indexing with multiple keys (implicitly converted to a tuple of keys) will be deprecated, use a list instead.\n",
      "  bootstrapped_downward = tmp.groupby(['#t(centisec)'])['ang_pos', 'dist', 'speed_diff', 'acc_diff', 'cc'].mean().reset_index()\n",
      "/var/folders/ng/l4j590g95vl5r33ctw59y6cr0000gn/T/ipykernel_26977/3258036297.py:12: FutureWarning: Indexing with multiple keys (implicitly converted to a tuple of keys) will be deprecated, use a list instead.\n",
      "  bootstrapped_downward = tmp.groupby(['#t(centisec)'])['ang_pos', 'dist', 'speed_diff', 'acc_diff', 'cc'].mean().reset_index()\n",
      "/var/folders/ng/l4j590g95vl5r33ctw59y6cr0000gn/T/ipykernel_26977/3258036297.py:12: FutureWarning: Indexing with multiple keys (implicitly converted to a tuple of keys) will be deprecated, use a list instead.\n",
      "  bootstrapped_downward = tmp.groupby(['#t(centisec)'])['ang_pos', 'dist', 'speed_diff', 'acc_diff', 'cc'].mean().reset_index()\n",
      "/var/folders/ng/l4j590g95vl5r33ctw59y6cr0000gn/T/ipykernel_26977/3258036297.py:12: FutureWarning: Indexing with multiple keys (implicitly converted to a tuple of keys) will be deprecated, use a list instead.\n",
      "  bootstrapped_downward = tmp.groupby(['#t(centisec)'])['ang_pos', 'dist', 'speed_diff', 'acc_diff', 'cc'].mean().reset_index()\n",
      "/var/folders/ng/l4j590g95vl5r33ctw59y6cr0000gn/T/ipykernel_26977/3258036297.py:12: FutureWarning: Indexing with multiple keys (implicitly converted to a tuple of keys) will be deprecated, use a list instead.\n",
      "  bootstrapped_downward = tmp.groupby(['#t(centisec)'])['ang_pos', 'dist', 'speed_diff', 'acc_diff', 'cc'].mean().reset_index()\n",
      "/var/folders/ng/l4j590g95vl5r33ctw59y6cr0000gn/T/ipykernel_26977/3258036297.py:12: FutureWarning: Indexing with multiple keys (implicitly converted to a tuple of keys) will be deprecated, use a list instead.\n",
      "  bootstrapped_downward = tmp.groupby(['#t(centisec)'])['ang_pos', 'dist', 'speed_diff', 'acc_diff', 'cc'].mean().reset_index()\n",
      "/var/folders/ng/l4j590g95vl5r33ctw59y6cr0000gn/T/ipykernel_26977/3258036297.py:12: FutureWarning: Indexing with multiple keys (implicitly converted to a tuple of keys) will be deprecated, use a list instead.\n",
      "  bootstrapped_downward = tmp.groupby(['#t(centisec)'])['ang_pos', 'dist', 'speed_diff', 'acc_diff', 'cc'].mean().reset_index()\n",
      "/var/folders/ng/l4j590g95vl5r33ctw59y6cr0000gn/T/ipykernel_26977/3258036297.py:12: FutureWarning: Indexing with multiple keys (implicitly converted to a tuple of keys) will be deprecated, use a list instead.\n",
      "  bootstrapped_downward = tmp.groupby(['#t(centisec)'])['ang_pos', 'dist', 'speed_diff', 'acc_diff', 'cc'].mean().reset_index()\n",
      "/var/folders/ng/l4j590g95vl5r33ctw59y6cr0000gn/T/ipykernel_26977/3258036297.py:12: FutureWarning: Indexing with multiple keys (implicitly converted to a tuple of keys) will be deprecated, use a list instead.\n",
      "  bootstrapped_downward = tmp.groupby(['#t(centisec)'])['ang_pos', 'dist', 'speed_diff', 'acc_diff', 'cc'].mean().reset_index()\n",
      "/var/folders/ng/l4j590g95vl5r33ctw59y6cr0000gn/T/ipykernel_26977/3258036297.py:12: FutureWarning: Indexing with multiple keys (implicitly converted to a tuple of keys) will be deprecated, use a list instead.\n",
      "  bootstrapped_downward = tmp.groupby(['#t(centisec)'])['ang_pos', 'dist', 'speed_diff', 'acc_diff', 'cc'].mean().reset_index()\n"
     ]
    },
    {
     "name": "stdout",
     "output_type": "stream",
     "text": [
      "370\n"
     ]
    },
    {
     "name": "stderr",
     "output_type": "stream",
     "text": [
      "/var/folders/ng/l4j590g95vl5r33ctw59y6cr0000gn/T/ipykernel_26977/3258036297.py:12: FutureWarning: Indexing with multiple keys (implicitly converted to a tuple of keys) will be deprecated, use a list instead.\n",
      "  bootstrapped_downward = tmp.groupby(['#t(centisec)'])['ang_pos', 'dist', 'speed_diff', 'acc_diff', 'cc'].mean().reset_index()\n",
      "/var/folders/ng/l4j590g95vl5r33ctw59y6cr0000gn/T/ipykernel_26977/3258036297.py:12: FutureWarning: Indexing with multiple keys (implicitly converted to a tuple of keys) will be deprecated, use a list instead.\n",
      "  bootstrapped_downward = tmp.groupby(['#t(centisec)'])['ang_pos', 'dist', 'speed_diff', 'acc_diff', 'cc'].mean().reset_index()\n",
      "/var/folders/ng/l4j590g95vl5r33ctw59y6cr0000gn/T/ipykernel_26977/3258036297.py:12: FutureWarning: Indexing with multiple keys (implicitly converted to a tuple of keys) will be deprecated, use a list instead.\n",
      "  bootstrapped_downward = tmp.groupby(['#t(centisec)'])['ang_pos', 'dist', 'speed_diff', 'acc_diff', 'cc'].mean().reset_index()\n",
      "/var/folders/ng/l4j590g95vl5r33ctw59y6cr0000gn/T/ipykernel_26977/3258036297.py:12: FutureWarning: Indexing with multiple keys (implicitly converted to a tuple of keys) will be deprecated, use a list instead.\n",
      "  bootstrapped_downward = tmp.groupby(['#t(centisec)'])['ang_pos', 'dist', 'speed_diff', 'acc_diff', 'cc'].mean().reset_index()\n",
      "/var/folders/ng/l4j590g95vl5r33ctw59y6cr0000gn/T/ipykernel_26977/3258036297.py:12: FutureWarning: Indexing with multiple keys (implicitly converted to a tuple of keys) will be deprecated, use a list instead.\n",
      "  bootstrapped_downward = tmp.groupby(['#t(centisec)'])['ang_pos', 'dist', 'speed_diff', 'acc_diff', 'cc'].mean().reset_index()\n",
      "/var/folders/ng/l4j590g95vl5r33ctw59y6cr0000gn/T/ipykernel_26977/3258036297.py:12: FutureWarning: Indexing with multiple keys (implicitly converted to a tuple of keys) will be deprecated, use a list instead.\n",
      "  bootstrapped_downward = tmp.groupby(['#t(centisec)'])['ang_pos', 'dist', 'speed_diff', 'acc_diff', 'cc'].mean().reset_index()\n",
      "/var/folders/ng/l4j590g95vl5r33ctw59y6cr0000gn/T/ipykernel_26977/3258036297.py:12: FutureWarning: Indexing with multiple keys (implicitly converted to a tuple of keys) will be deprecated, use a list instead.\n",
      "  bootstrapped_downward = tmp.groupby(['#t(centisec)'])['ang_pos', 'dist', 'speed_diff', 'acc_diff', 'cc'].mean().reset_index()\n",
      "/var/folders/ng/l4j590g95vl5r33ctw59y6cr0000gn/T/ipykernel_26977/3258036297.py:12: FutureWarning: Indexing with multiple keys (implicitly converted to a tuple of keys) will be deprecated, use a list instead.\n",
      "  bootstrapped_downward = tmp.groupby(['#t(centisec)'])['ang_pos', 'dist', 'speed_diff', 'acc_diff', 'cc'].mean().reset_index()\n",
      "/var/folders/ng/l4j590g95vl5r33ctw59y6cr0000gn/T/ipykernel_26977/3258036297.py:12: FutureWarning: Indexing with multiple keys (implicitly converted to a tuple of keys) will be deprecated, use a list instead.\n",
      "  bootstrapped_downward = tmp.groupby(['#t(centisec)'])['ang_pos', 'dist', 'speed_diff', 'acc_diff', 'cc'].mean().reset_index()\n",
      "/var/folders/ng/l4j590g95vl5r33ctw59y6cr0000gn/T/ipykernel_26977/3258036297.py:12: FutureWarning: Indexing with multiple keys (implicitly converted to a tuple of keys) will be deprecated, use a list instead.\n",
      "  bootstrapped_downward = tmp.groupby(['#t(centisec)'])['ang_pos', 'dist', 'speed_diff', 'acc_diff', 'cc'].mean().reset_index()\n"
     ]
    },
    {
     "name": "stdout",
     "output_type": "stream",
     "text": [
      "380\n"
     ]
    },
    {
     "name": "stderr",
     "output_type": "stream",
     "text": [
      "/var/folders/ng/l4j590g95vl5r33ctw59y6cr0000gn/T/ipykernel_26977/3258036297.py:12: FutureWarning: Indexing with multiple keys (implicitly converted to a tuple of keys) will be deprecated, use a list instead.\n",
      "  bootstrapped_downward = tmp.groupby(['#t(centisec)'])['ang_pos', 'dist', 'speed_diff', 'acc_diff', 'cc'].mean().reset_index()\n",
      "/var/folders/ng/l4j590g95vl5r33ctw59y6cr0000gn/T/ipykernel_26977/3258036297.py:12: FutureWarning: Indexing with multiple keys (implicitly converted to a tuple of keys) will be deprecated, use a list instead.\n",
      "  bootstrapped_downward = tmp.groupby(['#t(centisec)'])['ang_pos', 'dist', 'speed_diff', 'acc_diff', 'cc'].mean().reset_index()\n",
      "/var/folders/ng/l4j590g95vl5r33ctw59y6cr0000gn/T/ipykernel_26977/3258036297.py:12: FutureWarning: Indexing with multiple keys (implicitly converted to a tuple of keys) will be deprecated, use a list instead.\n",
      "  bootstrapped_downward = tmp.groupby(['#t(centisec)'])['ang_pos', 'dist', 'speed_diff', 'acc_diff', 'cc'].mean().reset_index()\n",
      "/var/folders/ng/l4j590g95vl5r33ctw59y6cr0000gn/T/ipykernel_26977/3258036297.py:12: FutureWarning: Indexing with multiple keys (implicitly converted to a tuple of keys) will be deprecated, use a list instead.\n",
      "  bootstrapped_downward = tmp.groupby(['#t(centisec)'])['ang_pos', 'dist', 'speed_diff', 'acc_diff', 'cc'].mean().reset_index()\n",
      "/var/folders/ng/l4j590g95vl5r33ctw59y6cr0000gn/T/ipykernel_26977/3258036297.py:12: FutureWarning: Indexing with multiple keys (implicitly converted to a tuple of keys) will be deprecated, use a list instead.\n",
      "  bootstrapped_downward = tmp.groupby(['#t(centisec)'])['ang_pos', 'dist', 'speed_diff', 'acc_diff', 'cc'].mean().reset_index()\n",
      "/var/folders/ng/l4j590g95vl5r33ctw59y6cr0000gn/T/ipykernel_26977/3258036297.py:12: FutureWarning: Indexing with multiple keys (implicitly converted to a tuple of keys) will be deprecated, use a list instead.\n",
      "  bootstrapped_downward = tmp.groupby(['#t(centisec)'])['ang_pos', 'dist', 'speed_diff', 'acc_diff', 'cc'].mean().reset_index()\n",
      "/var/folders/ng/l4j590g95vl5r33ctw59y6cr0000gn/T/ipykernel_26977/3258036297.py:12: FutureWarning: Indexing with multiple keys (implicitly converted to a tuple of keys) will be deprecated, use a list instead.\n",
      "  bootstrapped_downward = tmp.groupby(['#t(centisec)'])['ang_pos', 'dist', 'speed_diff', 'acc_diff', 'cc'].mean().reset_index()\n",
      "/var/folders/ng/l4j590g95vl5r33ctw59y6cr0000gn/T/ipykernel_26977/3258036297.py:12: FutureWarning: Indexing with multiple keys (implicitly converted to a tuple of keys) will be deprecated, use a list instead.\n",
      "  bootstrapped_downward = tmp.groupby(['#t(centisec)'])['ang_pos', 'dist', 'speed_diff', 'acc_diff', 'cc'].mean().reset_index()\n",
      "/var/folders/ng/l4j590g95vl5r33ctw59y6cr0000gn/T/ipykernel_26977/3258036297.py:12: FutureWarning: Indexing with multiple keys (implicitly converted to a tuple of keys) will be deprecated, use a list instead.\n",
      "  bootstrapped_downward = tmp.groupby(['#t(centisec)'])['ang_pos', 'dist', 'speed_diff', 'acc_diff', 'cc'].mean().reset_index()\n",
      "/var/folders/ng/l4j590g95vl5r33ctw59y6cr0000gn/T/ipykernel_26977/3258036297.py:12: FutureWarning: Indexing with multiple keys (implicitly converted to a tuple of keys) will be deprecated, use a list instead.\n",
      "  bootstrapped_downward = tmp.groupby(['#t(centisec)'])['ang_pos', 'dist', 'speed_diff', 'acc_diff', 'cc'].mean().reset_index()\n"
     ]
    },
    {
     "name": "stdout",
     "output_type": "stream",
     "text": [
      "390\n"
     ]
    },
    {
     "name": "stderr",
     "output_type": "stream",
     "text": [
      "/var/folders/ng/l4j590g95vl5r33ctw59y6cr0000gn/T/ipykernel_26977/3258036297.py:12: FutureWarning: Indexing with multiple keys (implicitly converted to a tuple of keys) will be deprecated, use a list instead.\n",
      "  bootstrapped_downward = tmp.groupby(['#t(centisec)'])['ang_pos', 'dist', 'speed_diff', 'acc_diff', 'cc'].mean().reset_index()\n",
      "/var/folders/ng/l4j590g95vl5r33ctw59y6cr0000gn/T/ipykernel_26977/3258036297.py:12: FutureWarning: Indexing with multiple keys (implicitly converted to a tuple of keys) will be deprecated, use a list instead.\n",
      "  bootstrapped_downward = tmp.groupby(['#t(centisec)'])['ang_pos', 'dist', 'speed_diff', 'acc_diff', 'cc'].mean().reset_index()\n",
      "/var/folders/ng/l4j590g95vl5r33ctw59y6cr0000gn/T/ipykernel_26977/3258036297.py:12: FutureWarning: Indexing with multiple keys (implicitly converted to a tuple of keys) will be deprecated, use a list instead.\n",
      "  bootstrapped_downward = tmp.groupby(['#t(centisec)'])['ang_pos', 'dist', 'speed_diff', 'acc_diff', 'cc'].mean().reset_index()\n",
      "/var/folders/ng/l4j590g95vl5r33ctw59y6cr0000gn/T/ipykernel_26977/3258036297.py:12: FutureWarning: Indexing with multiple keys (implicitly converted to a tuple of keys) will be deprecated, use a list instead.\n",
      "  bootstrapped_downward = tmp.groupby(['#t(centisec)'])['ang_pos', 'dist', 'speed_diff', 'acc_diff', 'cc'].mean().reset_index()\n",
      "/var/folders/ng/l4j590g95vl5r33ctw59y6cr0000gn/T/ipykernel_26977/3258036297.py:12: FutureWarning: Indexing with multiple keys (implicitly converted to a tuple of keys) will be deprecated, use a list instead.\n",
      "  bootstrapped_downward = tmp.groupby(['#t(centisec)'])['ang_pos', 'dist', 'speed_diff', 'acc_diff', 'cc'].mean().reset_index()\n",
      "/var/folders/ng/l4j590g95vl5r33ctw59y6cr0000gn/T/ipykernel_26977/3258036297.py:12: FutureWarning: Indexing with multiple keys (implicitly converted to a tuple of keys) will be deprecated, use a list instead.\n",
      "  bootstrapped_downward = tmp.groupby(['#t(centisec)'])['ang_pos', 'dist', 'speed_diff', 'acc_diff', 'cc'].mean().reset_index()\n",
      "/var/folders/ng/l4j590g95vl5r33ctw59y6cr0000gn/T/ipykernel_26977/3258036297.py:12: FutureWarning: Indexing with multiple keys (implicitly converted to a tuple of keys) will be deprecated, use a list instead.\n",
      "  bootstrapped_downward = tmp.groupby(['#t(centisec)'])['ang_pos', 'dist', 'speed_diff', 'acc_diff', 'cc'].mean().reset_index()\n",
      "/var/folders/ng/l4j590g95vl5r33ctw59y6cr0000gn/T/ipykernel_26977/3258036297.py:12: FutureWarning: Indexing with multiple keys (implicitly converted to a tuple of keys) will be deprecated, use a list instead.\n",
      "  bootstrapped_downward = tmp.groupby(['#t(centisec)'])['ang_pos', 'dist', 'speed_diff', 'acc_diff', 'cc'].mean().reset_index()\n",
      "/var/folders/ng/l4j590g95vl5r33ctw59y6cr0000gn/T/ipykernel_26977/3258036297.py:12: FutureWarning: Indexing with multiple keys (implicitly converted to a tuple of keys) will be deprecated, use a list instead.\n",
      "  bootstrapped_downward = tmp.groupby(['#t(centisec)'])['ang_pos', 'dist', 'speed_diff', 'acc_diff', 'cc'].mean().reset_index()\n",
      "/var/folders/ng/l4j590g95vl5r33ctw59y6cr0000gn/T/ipykernel_26977/3258036297.py:12: FutureWarning: Indexing with multiple keys (implicitly converted to a tuple of keys) will be deprecated, use a list instead.\n",
      "  bootstrapped_downward = tmp.groupby(['#t(centisec)'])['ang_pos', 'dist', 'speed_diff', 'acc_diff', 'cc'].mean().reset_index()\n"
     ]
    },
    {
     "name": "stdout",
     "output_type": "stream",
     "text": [
      "400\n"
     ]
    },
    {
     "name": "stderr",
     "output_type": "stream",
     "text": [
      "/var/folders/ng/l4j590g95vl5r33ctw59y6cr0000gn/T/ipykernel_26977/3258036297.py:12: FutureWarning: Indexing with multiple keys (implicitly converted to a tuple of keys) will be deprecated, use a list instead.\n",
      "  bootstrapped_downward = tmp.groupby(['#t(centisec)'])['ang_pos', 'dist', 'speed_diff', 'acc_diff', 'cc'].mean().reset_index()\n",
      "/var/folders/ng/l4j590g95vl5r33ctw59y6cr0000gn/T/ipykernel_26977/3258036297.py:12: FutureWarning: Indexing with multiple keys (implicitly converted to a tuple of keys) will be deprecated, use a list instead.\n",
      "  bootstrapped_downward = tmp.groupby(['#t(centisec)'])['ang_pos', 'dist', 'speed_diff', 'acc_diff', 'cc'].mean().reset_index()\n",
      "/var/folders/ng/l4j590g95vl5r33ctw59y6cr0000gn/T/ipykernel_26977/3258036297.py:12: FutureWarning: Indexing with multiple keys (implicitly converted to a tuple of keys) will be deprecated, use a list instead.\n",
      "  bootstrapped_downward = tmp.groupby(['#t(centisec)'])['ang_pos', 'dist', 'speed_diff', 'acc_diff', 'cc'].mean().reset_index()\n",
      "/var/folders/ng/l4j590g95vl5r33ctw59y6cr0000gn/T/ipykernel_26977/3258036297.py:12: FutureWarning: Indexing with multiple keys (implicitly converted to a tuple of keys) will be deprecated, use a list instead.\n",
      "  bootstrapped_downward = tmp.groupby(['#t(centisec)'])['ang_pos', 'dist', 'speed_diff', 'acc_diff', 'cc'].mean().reset_index()\n",
      "/var/folders/ng/l4j590g95vl5r33ctw59y6cr0000gn/T/ipykernel_26977/3258036297.py:12: FutureWarning: Indexing with multiple keys (implicitly converted to a tuple of keys) will be deprecated, use a list instead.\n",
      "  bootstrapped_downward = tmp.groupby(['#t(centisec)'])['ang_pos', 'dist', 'speed_diff', 'acc_diff', 'cc'].mean().reset_index()\n",
      "/var/folders/ng/l4j590g95vl5r33ctw59y6cr0000gn/T/ipykernel_26977/3258036297.py:12: FutureWarning: Indexing with multiple keys (implicitly converted to a tuple of keys) will be deprecated, use a list instead.\n",
      "  bootstrapped_downward = tmp.groupby(['#t(centisec)'])['ang_pos', 'dist', 'speed_diff', 'acc_diff', 'cc'].mean().reset_index()\n",
      "/var/folders/ng/l4j590g95vl5r33ctw59y6cr0000gn/T/ipykernel_26977/3258036297.py:12: FutureWarning: Indexing with multiple keys (implicitly converted to a tuple of keys) will be deprecated, use a list instead.\n",
      "  bootstrapped_downward = tmp.groupby(['#t(centisec)'])['ang_pos', 'dist', 'speed_diff', 'acc_diff', 'cc'].mean().reset_index()\n",
      "/var/folders/ng/l4j590g95vl5r33ctw59y6cr0000gn/T/ipykernel_26977/3258036297.py:12: FutureWarning: Indexing with multiple keys (implicitly converted to a tuple of keys) will be deprecated, use a list instead.\n",
      "  bootstrapped_downward = tmp.groupby(['#t(centisec)'])['ang_pos', 'dist', 'speed_diff', 'acc_diff', 'cc'].mean().reset_index()\n",
      "/var/folders/ng/l4j590g95vl5r33ctw59y6cr0000gn/T/ipykernel_26977/3258036297.py:12: FutureWarning: Indexing with multiple keys (implicitly converted to a tuple of keys) will be deprecated, use a list instead.\n",
      "  bootstrapped_downward = tmp.groupby(['#t(centisec)'])['ang_pos', 'dist', 'speed_diff', 'acc_diff', 'cc'].mean().reset_index()\n",
      "/var/folders/ng/l4j590g95vl5r33ctw59y6cr0000gn/T/ipykernel_26977/3258036297.py:12: FutureWarning: Indexing with multiple keys (implicitly converted to a tuple of keys) will be deprecated, use a list instead.\n",
      "  bootstrapped_downward = tmp.groupby(['#t(centisec)'])['ang_pos', 'dist', 'speed_diff', 'acc_diff', 'cc'].mean().reset_index()\n"
     ]
    },
    {
     "name": "stdout",
     "output_type": "stream",
     "text": [
      "410\n"
     ]
    },
    {
     "name": "stderr",
     "output_type": "stream",
     "text": [
      "/var/folders/ng/l4j590g95vl5r33ctw59y6cr0000gn/T/ipykernel_26977/3258036297.py:12: FutureWarning: Indexing with multiple keys (implicitly converted to a tuple of keys) will be deprecated, use a list instead.\n",
      "  bootstrapped_downward = tmp.groupby(['#t(centisec)'])['ang_pos', 'dist', 'speed_diff', 'acc_diff', 'cc'].mean().reset_index()\n",
      "/var/folders/ng/l4j590g95vl5r33ctw59y6cr0000gn/T/ipykernel_26977/3258036297.py:12: FutureWarning: Indexing with multiple keys (implicitly converted to a tuple of keys) will be deprecated, use a list instead.\n",
      "  bootstrapped_downward = tmp.groupby(['#t(centisec)'])['ang_pos', 'dist', 'speed_diff', 'acc_diff', 'cc'].mean().reset_index()\n",
      "/var/folders/ng/l4j590g95vl5r33ctw59y6cr0000gn/T/ipykernel_26977/3258036297.py:12: FutureWarning: Indexing with multiple keys (implicitly converted to a tuple of keys) will be deprecated, use a list instead.\n",
      "  bootstrapped_downward = tmp.groupby(['#t(centisec)'])['ang_pos', 'dist', 'speed_diff', 'acc_diff', 'cc'].mean().reset_index()\n",
      "/var/folders/ng/l4j590g95vl5r33ctw59y6cr0000gn/T/ipykernel_26977/3258036297.py:12: FutureWarning: Indexing with multiple keys (implicitly converted to a tuple of keys) will be deprecated, use a list instead.\n",
      "  bootstrapped_downward = tmp.groupby(['#t(centisec)'])['ang_pos', 'dist', 'speed_diff', 'acc_diff', 'cc'].mean().reset_index()\n",
      "/var/folders/ng/l4j590g95vl5r33ctw59y6cr0000gn/T/ipykernel_26977/3258036297.py:12: FutureWarning: Indexing with multiple keys (implicitly converted to a tuple of keys) will be deprecated, use a list instead.\n",
      "  bootstrapped_downward = tmp.groupby(['#t(centisec)'])['ang_pos', 'dist', 'speed_diff', 'acc_diff', 'cc'].mean().reset_index()\n",
      "/var/folders/ng/l4j590g95vl5r33ctw59y6cr0000gn/T/ipykernel_26977/3258036297.py:12: FutureWarning: Indexing with multiple keys (implicitly converted to a tuple of keys) will be deprecated, use a list instead.\n",
      "  bootstrapped_downward = tmp.groupby(['#t(centisec)'])['ang_pos', 'dist', 'speed_diff', 'acc_diff', 'cc'].mean().reset_index()\n",
      "/var/folders/ng/l4j590g95vl5r33ctw59y6cr0000gn/T/ipykernel_26977/3258036297.py:12: FutureWarning: Indexing with multiple keys (implicitly converted to a tuple of keys) will be deprecated, use a list instead.\n",
      "  bootstrapped_downward = tmp.groupby(['#t(centisec)'])['ang_pos', 'dist', 'speed_diff', 'acc_diff', 'cc'].mean().reset_index()\n",
      "/var/folders/ng/l4j590g95vl5r33ctw59y6cr0000gn/T/ipykernel_26977/3258036297.py:12: FutureWarning: Indexing with multiple keys (implicitly converted to a tuple of keys) will be deprecated, use a list instead.\n",
      "  bootstrapped_downward = tmp.groupby(['#t(centisec)'])['ang_pos', 'dist', 'speed_diff', 'acc_diff', 'cc'].mean().reset_index()\n",
      "/var/folders/ng/l4j590g95vl5r33ctw59y6cr0000gn/T/ipykernel_26977/3258036297.py:12: FutureWarning: Indexing with multiple keys (implicitly converted to a tuple of keys) will be deprecated, use a list instead.\n",
      "  bootstrapped_downward = tmp.groupby(['#t(centisec)'])['ang_pos', 'dist', 'speed_diff', 'acc_diff', 'cc'].mean().reset_index()\n",
      "/var/folders/ng/l4j590g95vl5r33ctw59y6cr0000gn/T/ipykernel_26977/3258036297.py:12: FutureWarning: Indexing with multiple keys (implicitly converted to a tuple of keys) will be deprecated, use a list instead.\n",
      "  bootstrapped_downward = tmp.groupby(['#t(centisec)'])['ang_pos', 'dist', 'speed_diff', 'acc_diff', 'cc'].mean().reset_index()\n"
     ]
    },
    {
     "name": "stdout",
     "output_type": "stream",
     "text": [
      "420\n"
     ]
    },
    {
     "name": "stderr",
     "output_type": "stream",
     "text": [
      "/var/folders/ng/l4j590g95vl5r33ctw59y6cr0000gn/T/ipykernel_26977/3258036297.py:12: FutureWarning: Indexing with multiple keys (implicitly converted to a tuple of keys) will be deprecated, use a list instead.\n",
      "  bootstrapped_downward = tmp.groupby(['#t(centisec)'])['ang_pos', 'dist', 'speed_diff', 'acc_diff', 'cc'].mean().reset_index()\n",
      "/var/folders/ng/l4j590g95vl5r33ctw59y6cr0000gn/T/ipykernel_26977/3258036297.py:12: FutureWarning: Indexing with multiple keys (implicitly converted to a tuple of keys) will be deprecated, use a list instead.\n",
      "  bootstrapped_downward = tmp.groupby(['#t(centisec)'])['ang_pos', 'dist', 'speed_diff', 'acc_diff', 'cc'].mean().reset_index()\n",
      "/var/folders/ng/l4j590g95vl5r33ctw59y6cr0000gn/T/ipykernel_26977/3258036297.py:12: FutureWarning: Indexing with multiple keys (implicitly converted to a tuple of keys) will be deprecated, use a list instead.\n",
      "  bootstrapped_downward = tmp.groupby(['#t(centisec)'])['ang_pos', 'dist', 'speed_diff', 'acc_diff', 'cc'].mean().reset_index()\n",
      "/var/folders/ng/l4j590g95vl5r33ctw59y6cr0000gn/T/ipykernel_26977/3258036297.py:12: FutureWarning: Indexing with multiple keys (implicitly converted to a tuple of keys) will be deprecated, use a list instead.\n",
      "  bootstrapped_downward = tmp.groupby(['#t(centisec)'])['ang_pos', 'dist', 'speed_diff', 'acc_diff', 'cc'].mean().reset_index()\n",
      "/var/folders/ng/l4j590g95vl5r33ctw59y6cr0000gn/T/ipykernel_26977/3258036297.py:12: FutureWarning: Indexing with multiple keys (implicitly converted to a tuple of keys) will be deprecated, use a list instead.\n",
      "  bootstrapped_downward = tmp.groupby(['#t(centisec)'])['ang_pos', 'dist', 'speed_diff', 'acc_diff', 'cc'].mean().reset_index()\n",
      "/var/folders/ng/l4j590g95vl5r33ctw59y6cr0000gn/T/ipykernel_26977/3258036297.py:12: FutureWarning: Indexing with multiple keys (implicitly converted to a tuple of keys) will be deprecated, use a list instead.\n",
      "  bootstrapped_downward = tmp.groupby(['#t(centisec)'])['ang_pos', 'dist', 'speed_diff', 'acc_diff', 'cc'].mean().reset_index()\n",
      "/var/folders/ng/l4j590g95vl5r33ctw59y6cr0000gn/T/ipykernel_26977/3258036297.py:12: FutureWarning: Indexing with multiple keys (implicitly converted to a tuple of keys) will be deprecated, use a list instead.\n",
      "  bootstrapped_downward = tmp.groupby(['#t(centisec)'])['ang_pos', 'dist', 'speed_diff', 'acc_diff', 'cc'].mean().reset_index()\n",
      "/var/folders/ng/l4j590g95vl5r33ctw59y6cr0000gn/T/ipykernel_26977/3258036297.py:12: FutureWarning: Indexing with multiple keys (implicitly converted to a tuple of keys) will be deprecated, use a list instead.\n",
      "  bootstrapped_downward = tmp.groupby(['#t(centisec)'])['ang_pos', 'dist', 'speed_diff', 'acc_diff', 'cc'].mean().reset_index()\n",
      "/var/folders/ng/l4j590g95vl5r33ctw59y6cr0000gn/T/ipykernel_26977/3258036297.py:12: FutureWarning: Indexing with multiple keys (implicitly converted to a tuple of keys) will be deprecated, use a list instead.\n",
      "  bootstrapped_downward = tmp.groupby(['#t(centisec)'])['ang_pos', 'dist', 'speed_diff', 'acc_diff', 'cc'].mean().reset_index()\n",
      "/var/folders/ng/l4j590g95vl5r33ctw59y6cr0000gn/T/ipykernel_26977/3258036297.py:12: FutureWarning: Indexing with multiple keys (implicitly converted to a tuple of keys) will be deprecated, use a list instead.\n",
      "  bootstrapped_downward = tmp.groupby(['#t(centisec)'])['ang_pos', 'dist', 'speed_diff', 'acc_diff', 'cc'].mean().reset_index()\n"
     ]
    },
    {
     "name": "stdout",
     "output_type": "stream",
     "text": [
      "430\n"
     ]
    },
    {
     "name": "stderr",
     "output_type": "stream",
     "text": [
      "/var/folders/ng/l4j590g95vl5r33ctw59y6cr0000gn/T/ipykernel_26977/3258036297.py:12: FutureWarning: Indexing with multiple keys (implicitly converted to a tuple of keys) will be deprecated, use a list instead.\n",
      "  bootstrapped_downward = tmp.groupby(['#t(centisec)'])['ang_pos', 'dist', 'speed_diff', 'acc_diff', 'cc'].mean().reset_index()\n",
      "/var/folders/ng/l4j590g95vl5r33ctw59y6cr0000gn/T/ipykernel_26977/3258036297.py:12: FutureWarning: Indexing with multiple keys (implicitly converted to a tuple of keys) will be deprecated, use a list instead.\n",
      "  bootstrapped_downward = tmp.groupby(['#t(centisec)'])['ang_pos', 'dist', 'speed_diff', 'acc_diff', 'cc'].mean().reset_index()\n",
      "/var/folders/ng/l4j590g95vl5r33ctw59y6cr0000gn/T/ipykernel_26977/3258036297.py:12: FutureWarning: Indexing with multiple keys (implicitly converted to a tuple of keys) will be deprecated, use a list instead.\n",
      "  bootstrapped_downward = tmp.groupby(['#t(centisec)'])['ang_pos', 'dist', 'speed_diff', 'acc_diff', 'cc'].mean().reset_index()\n",
      "/var/folders/ng/l4j590g95vl5r33ctw59y6cr0000gn/T/ipykernel_26977/3258036297.py:12: FutureWarning: Indexing with multiple keys (implicitly converted to a tuple of keys) will be deprecated, use a list instead.\n",
      "  bootstrapped_downward = tmp.groupby(['#t(centisec)'])['ang_pos', 'dist', 'speed_diff', 'acc_diff', 'cc'].mean().reset_index()\n",
      "/var/folders/ng/l4j590g95vl5r33ctw59y6cr0000gn/T/ipykernel_26977/3258036297.py:12: FutureWarning: Indexing with multiple keys (implicitly converted to a tuple of keys) will be deprecated, use a list instead.\n",
      "  bootstrapped_downward = tmp.groupby(['#t(centisec)'])['ang_pos', 'dist', 'speed_diff', 'acc_diff', 'cc'].mean().reset_index()\n",
      "/var/folders/ng/l4j590g95vl5r33ctw59y6cr0000gn/T/ipykernel_26977/3258036297.py:12: FutureWarning: Indexing with multiple keys (implicitly converted to a tuple of keys) will be deprecated, use a list instead.\n",
      "  bootstrapped_downward = tmp.groupby(['#t(centisec)'])['ang_pos', 'dist', 'speed_diff', 'acc_diff', 'cc'].mean().reset_index()\n",
      "/var/folders/ng/l4j590g95vl5r33ctw59y6cr0000gn/T/ipykernel_26977/3258036297.py:12: FutureWarning: Indexing with multiple keys (implicitly converted to a tuple of keys) will be deprecated, use a list instead.\n",
      "  bootstrapped_downward = tmp.groupby(['#t(centisec)'])['ang_pos', 'dist', 'speed_diff', 'acc_diff', 'cc'].mean().reset_index()\n",
      "/var/folders/ng/l4j590g95vl5r33ctw59y6cr0000gn/T/ipykernel_26977/3258036297.py:12: FutureWarning: Indexing with multiple keys (implicitly converted to a tuple of keys) will be deprecated, use a list instead.\n",
      "  bootstrapped_downward = tmp.groupby(['#t(centisec)'])['ang_pos', 'dist', 'speed_diff', 'acc_diff', 'cc'].mean().reset_index()\n",
      "/var/folders/ng/l4j590g95vl5r33ctw59y6cr0000gn/T/ipykernel_26977/3258036297.py:12: FutureWarning: Indexing with multiple keys (implicitly converted to a tuple of keys) will be deprecated, use a list instead.\n",
      "  bootstrapped_downward = tmp.groupby(['#t(centisec)'])['ang_pos', 'dist', 'speed_diff', 'acc_diff', 'cc'].mean().reset_index()\n",
      "/var/folders/ng/l4j590g95vl5r33ctw59y6cr0000gn/T/ipykernel_26977/3258036297.py:12: FutureWarning: Indexing with multiple keys (implicitly converted to a tuple of keys) will be deprecated, use a list instead.\n",
      "  bootstrapped_downward = tmp.groupby(['#t(centisec)'])['ang_pos', 'dist', 'speed_diff', 'acc_diff', 'cc'].mean().reset_index()\n"
     ]
    },
    {
     "name": "stdout",
     "output_type": "stream",
     "text": [
      "440\n"
     ]
    },
    {
     "name": "stderr",
     "output_type": "stream",
     "text": [
      "/var/folders/ng/l4j590g95vl5r33ctw59y6cr0000gn/T/ipykernel_26977/3258036297.py:12: FutureWarning: Indexing with multiple keys (implicitly converted to a tuple of keys) will be deprecated, use a list instead.\n",
      "  bootstrapped_downward = tmp.groupby(['#t(centisec)'])['ang_pos', 'dist', 'speed_diff', 'acc_diff', 'cc'].mean().reset_index()\n",
      "/var/folders/ng/l4j590g95vl5r33ctw59y6cr0000gn/T/ipykernel_26977/3258036297.py:12: FutureWarning: Indexing with multiple keys (implicitly converted to a tuple of keys) will be deprecated, use a list instead.\n",
      "  bootstrapped_downward = tmp.groupby(['#t(centisec)'])['ang_pos', 'dist', 'speed_diff', 'acc_diff', 'cc'].mean().reset_index()\n",
      "/var/folders/ng/l4j590g95vl5r33ctw59y6cr0000gn/T/ipykernel_26977/3258036297.py:12: FutureWarning: Indexing with multiple keys (implicitly converted to a tuple of keys) will be deprecated, use a list instead.\n",
      "  bootstrapped_downward = tmp.groupby(['#t(centisec)'])['ang_pos', 'dist', 'speed_diff', 'acc_diff', 'cc'].mean().reset_index()\n",
      "/var/folders/ng/l4j590g95vl5r33ctw59y6cr0000gn/T/ipykernel_26977/3258036297.py:12: FutureWarning: Indexing with multiple keys (implicitly converted to a tuple of keys) will be deprecated, use a list instead.\n",
      "  bootstrapped_downward = tmp.groupby(['#t(centisec)'])['ang_pos', 'dist', 'speed_diff', 'acc_diff', 'cc'].mean().reset_index()\n",
      "/var/folders/ng/l4j590g95vl5r33ctw59y6cr0000gn/T/ipykernel_26977/3258036297.py:12: FutureWarning: Indexing with multiple keys (implicitly converted to a tuple of keys) will be deprecated, use a list instead.\n",
      "  bootstrapped_downward = tmp.groupby(['#t(centisec)'])['ang_pos', 'dist', 'speed_diff', 'acc_diff', 'cc'].mean().reset_index()\n",
      "/var/folders/ng/l4j590g95vl5r33ctw59y6cr0000gn/T/ipykernel_26977/3258036297.py:12: FutureWarning: Indexing with multiple keys (implicitly converted to a tuple of keys) will be deprecated, use a list instead.\n",
      "  bootstrapped_downward = tmp.groupby(['#t(centisec)'])['ang_pos', 'dist', 'speed_diff', 'acc_diff', 'cc'].mean().reset_index()\n",
      "/var/folders/ng/l4j590g95vl5r33ctw59y6cr0000gn/T/ipykernel_26977/3258036297.py:12: FutureWarning: Indexing with multiple keys (implicitly converted to a tuple of keys) will be deprecated, use a list instead.\n",
      "  bootstrapped_downward = tmp.groupby(['#t(centisec)'])['ang_pos', 'dist', 'speed_diff', 'acc_diff', 'cc'].mean().reset_index()\n",
      "/var/folders/ng/l4j590g95vl5r33ctw59y6cr0000gn/T/ipykernel_26977/3258036297.py:12: FutureWarning: Indexing with multiple keys (implicitly converted to a tuple of keys) will be deprecated, use a list instead.\n",
      "  bootstrapped_downward = tmp.groupby(['#t(centisec)'])['ang_pos', 'dist', 'speed_diff', 'acc_diff', 'cc'].mean().reset_index()\n",
      "/var/folders/ng/l4j590g95vl5r33ctw59y6cr0000gn/T/ipykernel_26977/3258036297.py:12: FutureWarning: Indexing with multiple keys (implicitly converted to a tuple of keys) will be deprecated, use a list instead.\n",
      "  bootstrapped_downward = tmp.groupby(['#t(centisec)'])['ang_pos', 'dist', 'speed_diff', 'acc_diff', 'cc'].mean().reset_index()\n",
      "/var/folders/ng/l4j590g95vl5r33ctw59y6cr0000gn/T/ipykernel_26977/3258036297.py:12: FutureWarning: Indexing with multiple keys (implicitly converted to a tuple of keys) will be deprecated, use a list instead.\n",
      "  bootstrapped_downward = tmp.groupby(['#t(centisec)'])['ang_pos', 'dist', 'speed_diff', 'acc_diff', 'cc'].mean().reset_index()\n"
     ]
    },
    {
     "name": "stdout",
     "output_type": "stream",
     "text": [
      "450\n"
     ]
    },
    {
     "name": "stderr",
     "output_type": "stream",
     "text": [
      "/var/folders/ng/l4j590g95vl5r33ctw59y6cr0000gn/T/ipykernel_26977/3258036297.py:12: FutureWarning: Indexing with multiple keys (implicitly converted to a tuple of keys) will be deprecated, use a list instead.\n",
      "  bootstrapped_downward = tmp.groupby(['#t(centisec)'])['ang_pos', 'dist', 'speed_diff', 'acc_diff', 'cc'].mean().reset_index()\n",
      "/var/folders/ng/l4j590g95vl5r33ctw59y6cr0000gn/T/ipykernel_26977/3258036297.py:12: FutureWarning: Indexing with multiple keys (implicitly converted to a tuple of keys) will be deprecated, use a list instead.\n",
      "  bootstrapped_downward = tmp.groupby(['#t(centisec)'])['ang_pos', 'dist', 'speed_diff', 'acc_diff', 'cc'].mean().reset_index()\n",
      "/var/folders/ng/l4j590g95vl5r33ctw59y6cr0000gn/T/ipykernel_26977/3258036297.py:12: FutureWarning: Indexing with multiple keys (implicitly converted to a tuple of keys) will be deprecated, use a list instead.\n",
      "  bootstrapped_downward = tmp.groupby(['#t(centisec)'])['ang_pos', 'dist', 'speed_diff', 'acc_diff', 'cc'].mean().reset_index()\n",
      "/var/folders/ng/l4j590g95vl5r33ctw59y6cr0000gn/T/ipykernel_26977/3258036297.py:12: FutureWarning: Indexing with multiple keys (implicitly converted to a tuple of keys) will be deprecated, use a list instead.\n",
      "  bootstrapped_downward = tmp.groupby(['#t(centisec)'])['ang_pos', 'dist', 'speed_diff', 'acc_diff', 'cc'].mean().reset_index()\n",
      "/var/folders/ng/l4j590g95vl5r33ctw59y6cr0000gn/T/ipykernel_26977/3258036297.py:12: FutureWarning: Indexing with multiple keys (implicitly converted to a tuple of keys) will be deprecated, use a list instead.\n",
      "  bootstrapped_downward = tmp.groupby(['#t(centisec)'])['ang_pos', 'dist', 'speed_diff', 'acc_diff', 'cc'].mean().reset_index()\n",
      "/var/folders/ng/l4j590g95vl5r33ctw59y6cr0000gn/T/ipykernel_26977/3258036297.py:12: FutureWarning: Indexing with multiple keys (implicitly converted to a tuple of keys) will be deprecated, use a list instead.\n",
      "  bootstrapped_downward = tmp.groupby(['#t(centisec)'])['ang_pos', 'dist', 'speed_diff', 'acc_diff', 'cc'].mean().reset_index()\n",
      "/var/folders/ng/l4j590g95vl5r33ctw59y6cr0000gn/T/ipykernel_26977/3258036297.py:12: FutureWarning: Indexing with multiple keys (implicitly converted to a tuple of keys) will be deprecated, use a list instead.\n",
      "  bootstrapped_downward = tmp.groupby(['#t(centisec)'])['ang_pos', 'dist', 'speed_diff', 'acc_diff', 'cc'].mean().reset_index()\n",
      "/var/folders/ng/l4j590g95vl5r33ctw59y6cr0000gn/T/ipykernel_26977/3258036297.py:12: FutureWarning: Indexing with multiple keys (implicitly converted to a tuple of keys) will be deprecated, use a list instead.\n",
      "  bootstrapped_downward = tmp.groupby(['#t(centisec)'])['ang_pos', 'dist', 'speed_diff', 'acc_diff', 'cc'].mean().reset_index()\n",
      "/var/folders/ng/l4j590g95vl5r33ctw59y6cr0000gn/T/ipykernel_26977/3258036297.py:12: FutureWarning: Indexing with multiple keys (implicitly converted to a tuple of keys) will be deprecated, use a list instead.\n",
      "  bootstrapped_downward = tmp.groupby(['#t(centisec)'])['ang_pos', 'dist', 'speed_diff', 'acc_diff', 'cc'].mean().reset_index()\n",
      "/var/folders/ng/l4j590g95vl5r33ctw59y6cr0000gn/T/ipykernel_26977/3258036297.py:12: FutureWarning: Indexing with multiple keys (implicitly converted to a tuple of keys) will be deprecated, use a list instead.\n",
      "  bootstrapped_downward = tmp.groupby(['#t(centisec)'])['ang_pos', 'dist', 'speed_diff', 'acc_diff', 'cc'].mean().reset_index()\n"
     ]
    },
    {
     "name": "stdout",
     "output_type": "stream",
     "text": [
      "460\n"
     ]
    },
    {
     "name": "stderr",
     "output_type": "stream",
     "text": [
      "/var/folders/ng/l4j590g95vl5r33ctw59y6cr0000gn/T/ipykernel_26977/3258036297.py:12: FutureWarning: Indexing with multiple keys (implicitly converted to a tuple of keys) will be deprecated, use a list instead.\n",
      "  bootstrapped_downward = tmp.groupby(['#t(centisec)'])['ang_pos', 'dist', 'speed_diff', 'acc_diff', 'cc'].mean().reset_index()\n",
      "/var/folders/ng/l4j590g95vl5r33ctw59y6cr0000gn/T/ipykernel_26977/3258036297.py:12: FutureWarning: Indexing with multiple keys (implicitly converted to a tuple of keys) will be deprecated, use a list instead.\n",
      "  bootstrapped_downward = tmp.groupby(['#t(centisec)'])['ang_pos', 'dist', 'speed_diff', 'acc_diff', 'cc'].mean().reset_index()\n",
      "/var/folders/ng/l4j590g95vl5r33ctw59y6cr0000gn/T/ipykernel_26977/3258036297.py:12: FutureWarning: Indexing with multiple keys (implicitly converted to a tuple of keys) will be deprecated, use a list instead.\n",
      "  bootstrapped_downward = tmp.groupby(['#t(centisec)'])['ang_pos', 'dist', 'speed_diff', 'acc_diff', 'cc'].mean().reset_index()\n",
      "/var/folders/ng/l4j590g95vl5r33ctw59y6cr0000gn/T/ipykernel_26977/3258036297.py:12: FutureWarning: Indexing with multiple keys (implicitly converted to a tuple of keys) will be deprecated, use a list instead.\n",
      "  bootstrapped_downward = tmp.groupby(['#t(centisec)'])['ang_pos', 'dist', 'speed_diff', 'acc_diff', 'cc'].mean().reset_index()\n",
      "/var/folders/ng/l4j590g95vl5r33ctw59y6cr0000gn/T/ipykernel_26977/3258036297.py:12: FutureWarning: Indexing with multiple keys (implicitly converted to a tuple of keys) will be deprecated, use a list instead.\n",
      "  bootstrapped_downward = tmp.groupby(['#t(centisec)'])['ang_pos', 'dist', 'speed_diff', 'acc_diff', 'cc'].mean().reset_index()\n",
      "/var/folders/ng/l4j590g95vl5r33ctw59y6cr0000gn/T/ipykernel_26977/3258036297.py:12: FutureWarning: Indexing with multiple keys (implicitly converted to a tuple of keys) will be deprecated, use a list instead.\n",
      "  bootstrapped_downward = tmp.groupby(['#t(centisec)'])['ang_pos', 'dist', 'speed_diff', 'acc_diff', 'cc'].mean().reset_index()\n",
      "/var/folders/ng/l4j590g95vl5r33ctw59y6cr0000gn/T/ipykernel_26977/3258036297.py:12: FutureWarning: Indexing with multiple keys (implicitly converted to a tuple of keys) will be deprecated, use a list instead.\n",
      "  bootstrapped_downward = tmp.groupby(['#t(centisec)'])['ang_pos', 'dist', 'speed_diff', 'acc_diff', 'cc'].mean().reset_index()\n",
      "/var/folders/ng/l4j590g95vl5r33ctw59y6cr0000gn/T/ipykernel_26977/3258036297.py:12: FutureWarning: Indexing with multiple keys (implicitly converted to a tuple of keys) will be deprecated, use a list instead.\n",
      "  bootstrapped_downward = tmp.groupby(['#t(centisec)'])['ang_pos', 'dist', 'speed_diff', 'acc_diff', 'cc'].mean().reset_index()\n",
      "/var/folders/ng/l4j590g95vl5r33ctw59y6cr0000gn/T/ipykernel_26977/3258036297.py:12: FutureWarning: Indexing with multiple keys (implicitly converted to a tuple of keys) will be deprecated, use a list instead.\n",
      "  bootstrapped_downward = tmp.groupby(['#t(centisec)'])['ang_pos', 'dist', 'speed_diff', 'acc_diff', 'cc'].mean().reset_index()\n",
      "/var/folders/ng/l4j590g95vl5r33ctw59y6cr0000gn/T/ipykernel_26977/3258036297.py:12: FutureWarning: Indexing with multiple keys (implicitly converted to a tuple of keys) will be deprecated, use a list instead.\n",
      "  bootstrapped_downward = tmp.groupby(['#t(centisec)'])['ang_pos', 'dist', 'speed_diff', 'acc_diff', 'cc'].mean().reset_index()\n"
     ]
    },
    {
     "name": "stdout",
     "output_type": "stream",
     "text": [
      "470\n"
     ]
    },
    {
     "name": "stderr",
     "output_type": "stream",
     "text": [
      "/var/folders/ng/l4j590g95vl5r33ctw59y6cr0000gn/T/ipykernel_26977/3258036297.py:12: FutureWarning: Indexing with multiple keys (implicitly converted to a tuple of keys) will be deprecated, use a list instead.\n",
      "  bootstrapped_downward = tmp.groupby(['#t(centisec)'])['ang_pos', 'dist', 'speed_diff', 'acc_diff', 'cc'].mean().reset_index()\n",
      "/var/folders/ng/l4j590g95vl5r33ctw59y6cr0000gn/T/ipykernel_26977/3258036297.py:12: FutureWarning: Indexing with multiple keys (implicitly converted to a tuple of keys) will be deprecated, use a list instead.\n",
      "  bootstrapped_downward = tmp.groupby(['#t(centisec)'])['ang_pos', 'dist', 'speed_diff', 'acc_diff', 'cc'].mean().reset_index()\n",
      "/var/folders/ng/l4j590g95vl5r33ctw59y6cr0000gn/T/ipykernel_26977/3258036297.py:12: FutureWarning: Indexing with multiple keys (implicitly converted to a tuple of keys) will be deprecated, use a list instead.\n",
      "  bootstrapped_downward = tmp.groupby(['#t(centisec)'])['ang_pos', 'dist', 'speed_diff', 'acc_diff', 'cc'].mean().reset_index()\n",
      "/var/folders/ng/l4j590g95vl5r33ctw59y6cr0000gn/T/ipykernel_26977/3258036297.py:12: FutureWarning: Indexing with multiple keys (implicitly converted to a tuple of keys) will be deprecated, use a list instead.\n",
      "  bootstrapped_downward = tmp.groupby(['#t(centisec)'])['ang_pos', 'dist', 'speed_diff', 'acc_diff', 'cc'].mean().reset_index()\n",
      "/var/folders/ng/l4j590g95vl5r33ctw59y6cr0000gn/T/ipykernel_26977/3258036297.py:12: FutureWarning: Indexing with multiple keys (implicitly converted to a tuple of keys) will be deprecated, use a list instead.\n",
      "  bootstrapped_downward = tmp.groupby(['#t(centisec)'])['ang_pos', 'dist', 'speed_diff', 'acc_diff', 'cc'].mean().reset_index()\n",
      "/var/folders/ng/l4j590g95vl5r33ctw59y6cr0000gn/T/ipykernel_26977/3258036297.py:12: FutureWarning: Indexing with multiple keys (implicitly converted to a tuple of keys) will be deprecated, use a list instead.\n",
      "  bootstrapped_downward = tmp.groupby(['#t(centisec)'])['ang_pos', 'dist', 'speed_diff', 'acc_diff', 'cc'].mean().reset_index()\n",
      "/var/folders/ng/l4j590g95vl5r33ctw59y6cr0000gn/T/ipykernel_26977/3258036297.py:12: FutureWarning: Indexing with multiple keys (implicitly converted to a tuple of keys) will be deprecated, use a list instead.\n",
      "  bootstrapped_downward = tmp.groupby(['#t(centisec)'])['ang_pos', 'dist', 'speed_diff', 'acc_diff', 'cc'].mean().reset_index()\n",
      "/var/folders/ng/l4j590g95vl5r33ctw59y6cr0000gn/T/ipykernel_26977/3258036297.py:12: FutureWarning: Indexing with multiple keys (implicitly converted to a tuple of keys) will be deprecated, use a list instead.\n",
      "  bootstrapped_downward = tmp.groupby(['#t(centisec)'])['ang_pos', 'dist', 'speed_diff', 'acc_diff', 'cc'].mean().reset_index()\n",
      "/var/folders/ng/l4j590g95vl5r33ctw59y6cr0000gn/T/ipykernel_26977/3258036297.py:12: FutureWarning: Indexing with multiple keys (implicitly converted to a tuple of keys) will be deprecated, use a list instead.\n",
      "  bootstrapped_downward = tmp.groupby(['#t(centisec)'])['ang_pos', 'dist', 'speed_diff', 'acc_diff', 'cc'].mean().reset_index()\n",
      "/var/folders/ng/l4j590g95vl5r33ctw59y6cr0000gn/T/ipykernel_26977/3258036297.py:12: FutureWarning: Indexing with multiple keys (implicitly converted to a tuple of keys) will be deprecated, use a list instead.\n",
      "  bootstrapped_downward = tmp.groupby(['#t(centisec)'])['ang_pos', 'dist', 'speed_diff', 'acc_diff', 'cc'].mean().reset_index()\n"
     ]
    },
    {
     "name": "stdout",
     "output_type": "stream",
     "text": [
      "480\n"
     ]
    },
    {
     "name": "stderr",
     "output_type": "stream",
     "text": [
      "/var/folders/ng/l4j590g95vl5r33ctw59y6cr0000gn/T/ipykernel_26977/3258036297.py:12: FutureWarning: Indexing with multiple keys (implicitly converted to a tuple of keys) will be deprecated, use a list instead.\n",
      "  bootstrapped_downward = tmp.groupby(['#t(centisec)'])['ang_pos', 'dist', 'speed_diff', 'acc_diff', 'cc'].mean().reset_index()\n",
      "/var/folders/ng/l4j590g95vl5r33ctw59y6cr0000gn/T/ipykernel_26977/3258036297.py:12: FutureWarning: Indexing with multiple keys (implicitly converted to a tuple of keys) will be deprecated, use a list instead.\n",
      "  bootstrapped_downward = tmp.groupby(['#t(centisec)'])['ang_pos', 'dist', 'speed_diff', 'acc_diff', 'cc'].mean().reset_index()\n",
      "/var/folders/ng/l4j590g95vl5r33ctw59y6cr0000gn/T/ipykernel_26977/3258036297.py:12: FutureWarning: Indexing with multiple keys (implicitly converted to a tuple of keys) will be deprecated, use a list instead.\n",
      "  bootstrapped_downward = tmp.groupby(['#t(centisec)'])['ang_pos', 'dist', 'speed_diff', 'acc_diff', 'cc'].mean().reset_index()\n",
      "/var/folders/ng/l4j590g95vl5r33ctw59y6cr0000gn/T/ipykernel_26977/3258036297.py:12: FutureWarning: Indexing with multiple keys (implicitly converted to a tuple of keys) will be deprecated, use a list instead.\n",
      "  bootstrapped_downward = tmp.groupby(['#t(centisec)'])['ang_pos', 'dist', 'speed_diff', 'acc_diff', 'cc'].mean().reset_index()\n",
      "/var/folders/ng/l4j590g95vl5r33ctw59y6cr0000gn/T/ipykernel_26977/3258036297.py:12: FutureWarning: Indexing with multiple keys (implicitly converted to a tuple of keys) will be deprecated, use a list instead.\n",
      "  bootstrapped_downward = tmp.groupby(['#t(centisec)'])['ang_pos', 'dist', 'speed_diff', 'acc_diff', 'cc'].mean().reset_index()\n",
      "/var/folders/ng/l4j590g95vl5r33ctw59y6cr0000gn/T/ipykernel_26977/3258036297.py:12: FutureWarning: Indexing with multiple keys (implicitly converted to a tuple of keys) will be deprecated, use a list instead.\n",
      "  bootstrapped_downward = tmp.groupby(['#t(centisec)'])['ang_pos', 'dist', 'speed_diff', 'acc_diff', 'cc'].mean().reset_index()\n",
      "/var/folders/ng/l4j590g95vl5r33ctw59y6cr0000gn/T/ipykernel_26977/3258036297.py:12: FutureWarning: Indexing with multiple keys (implicitly converted to a tuple of keys) will be deprecated, use a list instead.\n",
      "  bootstrapped_downward = tmp.groupby(['#t(centisec)'])['ang_pos', 'dist', 'speed_diff', 'acc_diff', 'cc'].mean().reset_index()\n",
      "/var/folders/ng/l4j590g95vl5r33ctw59y6cr0000gn/T/ipykernel_26977/3258036297.py:12: FutureWarning: Indexing with multiple keys (implicitly converted to a tuple of keys) will be deprecated, use a list instead.\n",
      "  bootstrapped_downward = tmp.groupby(['#t(centisec)'])['ang_pos', 'dist', 'speed_diff', 'acc_diff', 'cc'].mean().reset_index()\n",
      "/var/folders/ng/l4j590g95vl5r33ctw59y6cr0000gn/T/ipykernel_26977/3258036297.py:12: FutureWarning: Indexing with multiple keys (implicitly converted to a tuple of keys) will be deprecated, use a list instead.\n",
      "  bootstrapped_downward = tmp.groupby(['#t(centisec)'])['ang_pos', 'dist', 'speed_diff', 'acc_diff', 'cc'].mean().reset_index()\n",
      "/var/folders/ng/l4j590g95vl5r33ctw59y6cr0000gn/T/ipykernel_26977/3258036297.py:12: FutureWarning: Indexing with multiple keys (implicitly converted to a tuple of keys) will be deprecated, use a list instead.\n",
      "  bootstrapped_downward = tmp.groupby(['#t(centisec)'])['ang_pos', 'dist', 'speed_diff', 'acc_diff', 'cc'].mean().reset_index()\n"
     ]
    },
    {
     "name": "stdout",
     "output_type": "stream",
     "text": [
      "490\n"
     ]
    },
    {
     "name": "stderr",
     "output_type": "stream",
     "text": [
      "/var/folders/ng/l4j590g95vl5r33ctw59y6cr0000gn/T/ipykernel_26977/3258036297.py:12: FutureWarning: Indexing with multiple keys (implicitly converted to a tuple of keys) will be deprecated, use a list instead.\n",
      "  bootstrapped_downward = tmp.groupby(['#t(centisec)'])['ang_pos', 'dist', 'speed_diff', 'acc_diff', 'cc'].mean().reset_index()\n",
      "/var/folders/ng/l4j590g95vl5r33ctw59y6cr0000gn/T/ipykernel_26977/3258036297.py:12: FutureWarning: Indexing with multiple keys (implicitly converted to a tuple of keys) will be deprecated, use a list instead.\n",
      "  bootstrapped_downward = tmp.groupby(['#t(centisec)'])['ang_pos', 'dist', 'speed_diff', 'acc_diff', 'cc'].mean().reset_index()\n",
      "/var/folders/ng/l4j590g95vl5r33ctw59y6cr0000gn/T/ipykernel_26977/3258036297.py:12: FutureWarning: Indexing with multiple keys (implicitly converted to a tuple of keys) will be deprecated, use a list instead.\n",
      "  bootstrapped_downward = tmp.groupby(['#t(centisec)'])['ang_pos', 'dist', 'speed_diff', 'acc_diff', 'cc'].mean().reset_index()\n",
      "/var/folders/ng/l4j590g95vl5r33ctw59y6cr0000gn/T/ipykernel_26977/3258036297.py:12: FutureWarning: Indexing with multiple keys (implicitly converted to a tuple of keys) will be deprecated, use a list instead.\n",
      "  bootstrapped_downward = tmp.groupby(['#t(centisec)'])['ang_pos', 'dist', 'speed_diff', 'acc_diff', 'cc'].mean().reset_index()\n",
      "/var/folders/ng/l4j590g95vl5r33ctw59y6cr0000gn/T/ipykernel_26977/3258036297.py:12: FutureWarning: Indexing with multiple keys (implicitly converted to a tuple of keys) will be deprecated, use a list instead.\n",
      "  bootstrapped_downward = tmp.groupby(['#t(centisec)'])['ang_pos', 'dist', 'speed_diff', 'acc_diff', 'cc'].mean().reset_index()\n",
      "/var/folders/ng/l4j590g95vl5r33ctw59y6cr0000gn/T/ipykernel_26977/3258036297.py:12: FutureWarning: Indexing with multiple keys (implicitly converted to a tuple of keys) will be deprecated, use a list instead.\n",
      "  bootstrapped_downward = tmp.groupby(['#t(centisec)'])['ang_pos', 'dist', 'speed_diff', 'acc_diff', 'cc'].mean().reset_index()\n",
      "/var/folders/ng/l4j590g95vl5r33ctw59y6cr0000gn/T/ipykernel_26977/3258036297.py:12: FutureWarning: Indexing with multiple keys (implicitly converted to a tuple of keys) will be deprecated, use a list instead.\n",
      "  bootstrapped_downward = tmp.groupby(['#t(centisec)'])['ang_pos', 'dist', 'speed_diff', 'acc_diff', 'cc'].mean().reset_index()\n",
      "/var/folders/ng/l4j590g95vl5r33ctw59y6cr0000gn/T/ipykernel_26977/3258036297.py:12: FutureWarning: Indexing with multiple keys (implicitly converted to a tuple of keys) will be deprecated, use a list instead.\n",
      "  bootstrapped_downward = tmp.groupby(['#t(centisec)'])['ang_pos', 'dist', 'speed_diff', 'acc_diff', 'cc'].mean().reset_index()\n",
      "/var/folders/ng/l4j590g95vl5r33ctw59y6cr0000gn/T/ipykernel_26977/3258036297.py:12: FutureWarning: Indexing with multiple keys (implicitly converted to a tuple of keys) will be deprecated, use a list instead.\n",
      "  bootstrapped_downward = tmp.groupby(['#t(centisec)'])['ang_pos', 'dist', 'speed_diff', 'acc_diff', 'cc'].mean().reset_index()\n",
      "/var/folders/ng/l4j590g95vl5r33ctw59y6cr0000gn/T/ipykernel_26977/3258036297.py:12: FutureWarning: Indexing with multiple keys (implicitly converted to a tuple of keys) will be deprecated, use a list instead.\n",
      "  bootstrapped_downward = tmp.groupby(['#t(centisec)'])['ang_pos', 'dist', 'speed_diff', 'acc_diff', 'cc'].mean().reset_index()\n"
     ]
    },
    {
     "name": "stdout",
     "output_type": "stream",
     "text": [
      "500\n"
     ]
    },
    {
     "name": "stderr",
     "output_type": "stream",
     "text": [
      "/var/folders/ng/l4j590g95vl5r33ctw59y6cr0000gn/T/ipykernel_26977/3258036297.py:12: FutureWarning: Indexing with multiple keys (implicitly converted to a tuple of keys) will be deprecated, use a list instead.\n",
      "  bootstrapped_downward = tmp.groupby(['#t(centisec)'])['ang_pos', 'dist', 'speed_diff', 'acc_diff', 'cc'].mean().reset_index()\n",
      "/var/folders/ng/l4j590g95vl5r33ctw59y6cr0000gn/T/ipykernel_26977/3258036297.py:12: FutureWarning: Indexing with multiple keys (implicitly converted to a tuple of keys) will be deprecated, use a list instead.\n",
      "  bootstrapped_downward = tmp.groupby(['#t(centisec)'])['ang_pos', 'dist', 'speed_diff', 'acc_diff', 'cc'].mean().reset_index()\n",
      "/var/folders/ng/l4j590g95vl5r33ctw59y6cr0000gn/T/ipykernel_26977/3258036297.py:12: FutureWarning: Indexing with multiple keys (implicitly converted to a tuple of keys) will be deprecated, use a list instead.\n",
      "  bootstrapped_downward = tmp.groupby(['#t(centisec)'])['ang_pos', 'dist', 'speed_diff', 'acc_diff', 'cc'].mean().reset_index()\n",
      "/var/folders/ng/l4j590g95vl5r33ctw59y6cr0000gn/T/ipykernel_26977/3258036297.py:12: FutureWarning: Indexing with multiple keys (implicitly converted to a tuple of keys) will be deprecated, use a list instead.\n",
      "  bootstrapped_downward = tmp.groupby(['#t(centisec)'])['ang_pos', 'dist', 'speed_diff', 'acc_diff', 'cc'].mean().reset_index()\n",
      "/var/folders/ng/l4j590g95vl5r33ctw59y6cr0000gn/T/ipykernel_26977/3258036297.py:12: FutureWarning: Indexing with multiple keys (implicitly converted to a tuple of keys) will be deprecated, use a list instead.\n",
      "  bootstrapped_downward = tmp.groupby(['#t(centisec)'])['ang_pos', 'dist', 'speed_diff', 'acc_diff', 'cc'].mean().reset_index()\n",
      "/var/folders/ng/l4j590g95vl5r33ctw59y6cr0000gn/T/ipykernel_26977/3258036297.py:12: FutureWarning: Indexing with multiple keys (implicitly converted to a tuple of keys) will be deprecated, use a list instead.\n",
      "  bootstrapped_downward = tmp.groupby(['#t(centisec)'])['ang_pos', 'dist', 'speed_diff', 'acc_diff', 'cc'].mean().reset_index()\n",
      "/var/folders/ng/l4j590g95vl5r33ctw59y6cr0000gn/T/ipykernel_26977/3258036297.py:12: FutureWarning: Indexing with multiple keys (implicitly converted to a tuple of keys) will be deprecated, use a list instead.\n",
      "  bootstrapped_downward = tmp.groupby(['#t(centisec)'])['ang_pos', 'dist', 'speed_diff', 'acc_diff', 'cc'].mean().reset_index()\n",
      "/var/folders/ng/l4j590g95vl5r33ctw59y6cr0000gn/T/ipykernel_26977/3258036297.py:12: FutureWarning: Indexing with multiple keys (implicitly converted to a tuple of keys) will be deprecated, use a list instead.\n",
      "  bootstrapped_downward = tmp.groupby(['#t(centisec)'])['ang_pos', 'dist', 'speed_diff', 'acc_diff', 'cc'].mean().reset_index()\n",
      "/var/folders/ng/l4j590g95vl5r33ctw59y6cr0000gn/T/ipykernel_26977/3258036297.py:12: FutureWarning: Indexing with multiple keys (implicitly converted to a tuple of keys) will be deprecated, use a list instead.\n",
      "  bootstrapped_downward = tmp.groupby(['#t(centisec)'])['ang_pos', 'dist', 'speed_diff', 'acc_diff', 'cc'].mean().reset_index()\n",
      "/var/folders/ng/l4j590g95vl5r33ctw59y6cr0000gn/T/ipykernel_26977/3258036297.py:12: FutureWarning: Indexing with multiple keys (implicitly converted to a tuple of keys) will be deprecated, use a list instead.\n",
      "  bootstrapped_downward = tmp.groupby(['#t(centisec)'])['ang_pos', 'dist', 'speed_diff', 'acc_diff', 'cc'].mean().reset_index()\n"
     ]
    },
    {
     "name": "stdout",
     "output_type": "stream",
     "text": [
      "510\n"
     ]
    },
    {
     "name": "stderr",
     "output_type": "stream",
     "text": [
      "/var/folders/ng/l4j590g95vl5r33ctw59y6cr0000gn/T/ipykernel_26977/3258036297.py:12: FutureWarning: Indexing with multiple keys (implicitly converted to a tuple of keys) will be deprecated, use a list instead.\n",
      "  bootstrapped_downward = tmp.groupby(['#t(centisec)'])['ang_pos', 'dist', 'speed_diff', 'acc_diff', 'cc'].mean().reset_index()\n",
      "/var/folders/ng/l4j590g95vl5r33ctw59y6cr0000gn/T/ipykernel_26977/3258036297.py:12: FutureWarning: Indexing with multiple keys (implicitly converted to a tuple of keys) will be deprecated, use a list instead.\n",
      "  bootstrapped_downward = tmp.groupby(['#t(centisec)'])['ang_pos', 'dist', 'speed_diff', 'acc_diff', 'cc'].mean().reset_index()\n",
      "/var/folders/ng/l4j590g95vl5r33ctw59y6cr0000gn/T/ipykernel_26977/3258036297.py:12: FutureWarning: Indexing with multiple keys (implicitly converted to a tuple of keys) will be deprecated, use a list instead.\n",
      "  bootstrapped_downward = tmp.groupby(['#t(centisec)'])['ang_pos', 'dist', 'speed_diff', 'acc_diff', 'cc'].mean().reset_index()\n",
      "/var/folders/ng/l4j590g95vl5r33ctw59y6cr0000gn/T/ipykernel_26977/3258036297.py:12: FutureWarning: Indexing with multiple keys (implicitly converted to a tuple of keys) will be deprecated, use a list instead.\n",
      "  bootstrapped_downward = tmp.groupby(['#t(centisec)'])['ang_pos', 'dist', 'speed_diff', 'acc_diff', 'cc'].mean().reset_index()\n",
      "/var/folders/ng/l4j590g95vl5r33ctw59y6cr0000gn/T/ipykernel_26977/3258036297.py:12: FutureWarning: Indexing with multiple keys (implicitly converted to a tuple of keys) will be deprecated, use a list instead.\n",
      "  bootstrapped_downward = tmp.groupby(['#t(centisec)'])['ang_pos', 'dist', 'speed_diff', 'acc_diff', 'cc'].mean().reset_index()\n",
      "/var/folders/ng/l4j590g95vl5r33ctw59y6cr0000gn/T/ipykernel_26977/3258036297.py:12: FutureWarning: Indexing with multiple keys (implicitly converted to a tuple of keys) will be deprecated, use a list instead.\n",
      "  bootstrapped_downward = tmp.groupby(['#t(centisec)'])['ang_pos', 'dist', 'speed_diff', 'acc_diff', 'cc'].mean().reset_index()\n",
      "/var/folders/ng/l4j590g95vl5r33ctw59y6cr0000gn/T/ipykernel_26977/3258036297.py:12: FutureWarning: Indexing with multiple keys (implicitly converted to a tuple of keys) will be deprecated, use a list instead.\n",
      "  bootstrapped_downward = tmp.groupby(['#t(centisec)'])['ang_pos', 'dist', 'speed_diff', 'acc_diff', 'cc'].mean().reset_index()\n",
      "/var/folders/ng/l4j590g95vl5r33ctw59y6cr0000gn/T/ipykernel_26977/3258036297.py:12: FutureWarning: Indexing with multiple keys (implicitly converted to a tuple of keys) will be deprecated, use a list instead.\n",
      "  bootstrapped_downward = tmp.groupby(['#t(centisec)'])['ang_pos', 'dist', 'speed_diff', 'acc_diff', 'cc'].mean().reset_index()\n",
      "/var/folders/ng/l4j590g95vl5r33ctw59y6cr0000gn/T/ipykernel_26977/3258036297.py:12: FutureWarning: Indexing with multiple keys (implicitly converted to a tuple of keys) will be deprecated, use a list instead.\n",
      "  bootstrapped_downward = tmp.groupby(['#t(centisec)'])['ang_pos', 'dist', 'speed_diff', 'acc_diff', 'cc'].mean().reset_index()\n",
      "/var/folders/ng/l4j590g95vl5r33ctw59y6cr0000gn/T/ipykernel_26977/3258036297.py:12: FutureWarning: Indexing with multiple keys (implicitly converted to a tuple of keys) will be deprecated, use a list instead.\n",
      "  bootstrapped_downward = tmp.groupby(['#t(centisec)'])['ang_pos', 'dist', 'speed_diff', 'acc_diff', 'cc'].mean().reset_index()\n"
     ]
    },
    {
     "name": "stdout",
     "output_type": "stream",
     "text": [
      "520\n"
     ]
    },
    {
     "name": "stderr",
     "output_type": "stream",
     "text": [
      "/var/folders/ng/l4j590g95vl5r33ctw59y6cr0000gn/T/ipykernel_26977/3258036297.py:12: FutureWarning: Indexing with multiple keys (implicitly converted to a tuple of keys) will be deprecated, use a list instead.\n",
      "  bootstrapped_downward = tmp.groupby(['#t(centisec)'])['ang_pos', 'dist', 'speed_diff', 'acc_diff', 'cc'].mean().reset_index()\n",
      "/var/folders/ng/l4j590g95vl5r33ctw59y6cr0000gn/T/ipykernel_26977/3258036297.py:12: FutureWarning: Indexing with multiple keys (implicitly converted to a tuple of keys) will be deprecated, use a list instead.\n",
      "  bootstrapped_downward = tmp.groupby(['#t(centisec)'])['ang_pos', 'dist', 'speed_diff', 'acc_diff', 'cc'].mean().reset_index()\n",
      "/var/folders/ng/l4j590g95vl5r33ctw59y6cr0000gn/T/ipykernel_26977/3258036297.py:12: FutureWarning: Indexing with multiple keys (implicitly converted to a tuple of keys) will be deprecated, use a list instead.\n",
      "  bootstrapped_downward = tmp.groupby(['#t(centisec)'])['ang_pos', 'dist', 'speed_diff', 'acc_diff', 'cc'].mean().reset_index()\n",
      "/var/folders/ng/l4j590g95vl5r33ctw59y6cr0000gn/T/ipykernel_26977/3258036297.py:12: FutureWarning: Indexing with multiple keys (implicitly converted to a tuple of keys) will be deprecated, use a list instead.\n",
      "  bootstrapped_downward = tmp.groupby(['#t(centisec)'])['ang_pos', 'dist', 'speed_diff', 'acc_diff', 'cc'].mean().reset_index()\n",
      "/var/folders/ng/l4j590g95vl5r33ctw59y6cr0000gn/T/ipykernel_26977/3258036297.py:12: FutureWarning: Indexing with multiple keys (implicitly converted to a tuple of keys) will be deprecated, use a list instead.\n",
      "  bootstrapped_downward = tmp.groupby(['#t(centisec)'])['ang_pos', 'dist', 'speed_diff', 'acc_diff', 'cc'].mean().reset_index()\n",
      "/var/folders/ng/l4j590g95vl5r33ctw59y6cr0000gn/T/ipykernel_26977/3258036297.py:12: FutureWarning: Indexing with multiple keys (implicitly converted to a tuple of keys) will be deprecated, use a list instead.\n",
      "  bootstrapped_downward = tmp.groupby(['#t(centisec)'])['ang_pos', 'dist', 'speed_diff', 'acc_diff', 'cc'].mean().reset_index()\n",
      "/var/folders/ng/l4j590g95vl5r33ctw59y6cr0000gn/T/ipykernel_26977/3258036297.py:12: FutureWarning: Indexing with multiple keys (implicitly converted to a tuple of keys) will be deprecated, use a list instead.\n",
      "  bootstrapped_downward = tmp.groupby(['#t(centisec)'])['ang_pos', 'dist', 'speed_diff', 'acc_diff', 'cc'].mean().reset_index()\n",
      "/var/folders/ng/l4j590g95vl5r33ctw59y6cr0000gn/T/ipykernel_26977/3258036297.py:12: FutureWarning: Indexing with multiple keys (implicitly converted to a tuple of keys) will be deprecated, use a list instead.\n",
      "  bootstrapped_downward = tmp.groupby(['#t(centisec)'])['ang_pos', 'dist', 'speed_diff', 'acc_diff', 'cc'].mean().reset_index()\n",
      "/var/folders/ng/l4j590g95vl5r33ctw59y6cr0000gn/T/ipykernel_26977/3258036297.py:12: FutureWarning: Indexing with multiple keys (implicitly converted to a tuple of keys) will be deprecated, use a list instead.\n",
      "  bootstrapped_downward = tmp.groupby(['#t(centisec)'])['ang_pos', 'dist', 'speed_diff', 'acc_diff', 'cc'].mean().reset_index()\n",
      "/var/folders/ng/l4j590g95vl5r33ctw59y6cr0000gn/T/ipykernel_26977/3258036297.py:12: FutureWarning: Indexing with multiple keys (implicitly converted to a tuple of keys) will be deprecated, use a list instead.\n",
      "  bootstrapped_downward = tmp.groupby(['#t(centisec)'])['ang_pos', 'dist', 'speed_diff', 'acc_diff', 'cc'].mean().reset_index()\n"
     ]
    },
    {
     "name": "stdout",
     "output_type": "stream",
     "text": [
      "530\n"
     ]
    },
    {
     "name": "stderr",
     "output_type": "stream",
     "text": [
      "/var/folders/ng/l4j590g95vl5r33ctw59y6cr0000gn/T/ipykernel_26977/3258036297.py:12: FutureWarning: Indexing with multiple keys (implicitly converted to a tuple of keys) will be deprecated, use a list instead.\n",
      "  bootstrapped_downward = tmp.groupby(['#t(centisec)'])['ang_pos', 'dist', 'speed_diff', 'acc_diff', 'cc'].mean().reset_index()\n",
      "/var/folders/ng/l4j590g95vl5r33ctw59y6cr0000gn/T/ipykernel_26977/3258036297.py:12: FutureWarning: Indexing with multiple keys (implicitly converted to a tuple of keys) will be deprecated, use a list instead.\n",
      "  bootstrapped_downward = tmp.groupby(['#t(centisec)'])['ang_pos', 'dist', 'speed_diff', 'acc_diff', 'cc'].mean().reset_index()\n",
      "/var/folders/ng/l4j590g95vl5r33ctw59y6cr0000gn/T/ipykernel_26977/3258036297.py:12: FutureWarning: Indexing with multiple keys (implicitly converted to a tuple of keys) will be deprecated, use a list instead.\n",
      "  bootstrapped_downward = tmp.groupby(['#t(centisec)'])['ang_pos', 'dist', 'speed_diff', 'acc_diff', 'cc'].mean().reset_index()\n",
      "/var/folders/ng/l4j590g95vl5r33ctw59y6cr0000gn/T/ipykernel_26977/3258036297.py:12: FutureWarning: Indexing with multiple keys (implicitly converted to a tuple of keys) will be deprecated, use a list instead.\n",
      "  bootstrapped_downward = tmp.groupby(['#t(centisec)'])['ang_pos', 'dist', 'speed_diff', 'acc_diff', 'cc'].mean().reset_index()\n",
      "/var/folders/ng/l4j590g95vl5r33ctw59y6cr0000gn/T/ipykernel_26977/3258036297.py:12: FutureWarning: Indexing with multiple keys (implicitly converted to a tuple of keys) will be deprecated, use a list instead.\n",
      "  bootstrapped_downward = tmp.groupby(['#t(centisec)'])['ang_pos', 'dist', 'speed_diff', 'acc_diff', 'cc'].mean().reset_index()\n",
      "/var/folders/ng/l4j590g95vl5r33ctw59y6cr0000gn/T/ipykernel_26977/3258036297.py:12: FutureWarning: Indexing with multiple keys (implicitly converted to a tuple of keys) will be deprecated, use a list instead.\n",
      "  bootstrapped_downward = tmp.groupby(['#t(centisec)'])['ang_pos', 'dist', 'speed_diff', 'acc_diff', 'cc'].mean().reset_index()\n",
      "/var/folders/ng/l4j590g95vl5r33ctw59y6cr0000gn/T/ipykernel_26977/3258036297.py:12: FutureWarning: Indexing with multiple keys (implicitly converted to a tuple of keys) will be deprecated, use a list instead.\n",
      "  bootstrapped_downward = tmp.groupby(['#t(centisec)'])['ang_pos', 'dist', 'speed_diff', 'acc_diff', 'cc'].mean().reset_index()\n",
      "/var/folders/ng/l4j590g95vl5r33ctw59y6cr0000gn/T/ipykernel_26977/3258036297.py:12: FutureWarning: Indexing with multiple keys (implicitly converted to a tuple of keys) will be deprecated, use a list instead.\n",
      "  bootstrapped_downward = tmp.groupby(['#t(centisec)'])['ang_pos', 'dist', 'speed_diff', 'acc_diff', 'cc'].mean().reset_index()\n",
      "/var/folders/ng/l4j590g95vl5r33ctw59y6cr0000gn/T/ipykernel_26977/3258036297.py:12: FutureWarning: Indexing with multiple keys (implicitly converted to a tuple of keys) will be deprecated, use a list instead.\n",
      "  bootstrapped_downward = tmp.groupby(['#t(centisec)'])['ang_pos', 'dist', 'speed_diff', 'acc_diff', 'cc'].mean().reset_index()\n",
      "/var/folders/ng/l4j590g95vl5r33ctw59y6cr0000gn/T/ipykernel_26977/3258036297.py:12: FutureWarning: Indexing with multiple keys (implicitly converted to a tuple of keys) will be deprecated, use a list instead.\n",
      "  bootstrapped_downward = tmp.groupby(['#t(centisec)'])['ang_pos', 'dist', 'speed_diff', 'acc_diff', 'cc'].mean().reset_index()\n"
     ]
    },
    {
     "name": "stdout",
     "output_type": "stream",
     "text": [
      "540\n"
     ]
    },
    {
     "name": "stderr",
     "output_type": "stream",
     "text": [
      "/var/folders/ng/l4j590g95vl5r33ctw59y6cr0000gn/T/ipykernel_26977/3258036297.py:12: FutureWarning: Indexing with multiple keys (implicitly converted to a tuple of keys) will be deprecated, use a list instead.\n",
      "  bootstrapped_downward = tmp.groupby(['#t(centisec)'])['ang_pos', 'dist', 'speed_diff', 'acc_diff', 'cc'].mean().reset_index()\n",
      "/var/folders/ng/l4j590g95vl5r33ctw59y6cr0000gn/T/ipykernel_26977/3258036297.py:12: FutureWarning: Indexing with multiple keys (implicitly converted to a tuple of keys) will be deprecated, use a list instead.\n",
      "  bootstrapped_downward = tmp.groupby(['#t(centisec)'])['ang_pos', 'dist', 'speed_diff', 'acc_diff', 'cc'].mean().reset_index()\n",
      "/var/folders/ng/l4j590g95vl5r33ctw59y6cr0000gn/T/ipykernel_26977/3258036297.py:12: FutureWarning: Indexing with multiple keys (implicitly converted to a tuple of keys) will be deprecated, use a list instead.\n",
      "  bootstrapped_downward = tmp.groupby(['#t(centisec)'])['ang_pos', 'dist', 'speed_diff', 'acc_diff', 'cc'].mean().reset_index()\n",
      "/var/folders/ng/l4j590g95vl5r33ctw59y6cr0000gn/T/ipykernel_26977/3258036297.py:12: FutureWarning: Indexing with multiple keys (implicitly converted to a tuple of keys) will be deprecated, use a list instead.\n",
      "  bootstrapped_downward = tmp.groupby(['#t(centisec)'])['ang_pos', 'dist', 'speed_diff', 'acc_diff', 'cc'].mean().reset_index()\n",
      "/var/folders/ng/l4j590g95vl5r33ctw59y6cr0000gn/T/ipykernel_26977/3258036297.py:12: FutureWarning: Indexing with multiple keys (implicitly converted to a tuple of keys) will be deprecated, use a list instead.\n",
      "  bootstrapped_downward = tmp.groupby(['#t(centisec)'])['ang_pos', 'dist', 'speed_diff', 'acc_diff', 'cc'].mean().reset_index()\n",
      "/var/folders/ng/l4j590g95vl5r33ctw59y6cr0000gn/T/ipykernel_26977/3258036297.py:12: FutureWarning: Indexing with multiple keys (implicitly converted to a tuple of keys) will be deprecated, use a list instead.\n",
      "  bootstrapped_downward = tmp.groupby(['#t(centisec)'])['ang_pos', 'dist', 'speed_diff', 'acc_diff', 'cc'].mean().reset_index()\n",
      "/var/folders/ng/l4j590g95vl5r33ctw59y6cr0000gn/T/ipykernel_26977/3258036297.py:12: FutureWarning: Indexing with multiple keys (implicitly converted to a tuple of keys) will be deprecated, use a list instead.\n",
      "  bootstrapped_downward = tmp.groupby(['#t(centisec)'])['ang_pos', 'dist', 'speed_diff', 'acc_diff', 'cc'].mean().reset_index()\n",
      "/var/folders/ng/l4j590g95vl5r33ctw59y6cr0000gn/T/ipykernel_26977/3258036297.py:12: FutureWarning: Indexing with multiple keys (implicitly converted to a tuple of keys) will be deprecated, use a list instead.\n",
      "  bootstrapped_downward = tmp.groupby(['#t(centisec)'])['ang_pos', 'dist', 'speed_diff', 'acc_diff', 'cc'].mean().reset_index()\n",
      "/var/folders/ng/l4j590g95vl5r33ctw59y6cr0000gn/T/ipykernel_26977/3258036297.py:12: FutureWarning: Indexing with multiple keys (implicitly converted to a tuple of keys) will be deprecated, use a list instead.\n",
      "  bootstrapped_downward = tmp.groupby(['#t(centisec)'])['ang_pos', 'dist', 'speed_diff', 'acc_diff', 'cc'].mean().reset_index()\n",
      "/var/folders/ng/l4j590g95vl5r33ctw59y6cr0000gn/T/ipykernel_26977/3258036297.py:12: FutureWarning: Indexing with multiple keys (implicitly converted to a tuple of keys) will be deprecated, use a list instead.\n",
      "  bootstrapped_downward = tmp.groupby(['#t(centisec)'])['ang_pos', 'dist', 'speed_diff', 'acc_diff', 'cc'].mean().reset_index()\n"
     ]
    },
    {
     "name": "stdout",
     "output_type": "stream",
     "text": [
      "550\n"
     ]
    },
    {
     "name": "stderr",
     "output_type": "stream",
     "text": [
      "/var/folders/ng/l4j590g95vl5r33ctw59y6cr0000gn/T/ipykernel_26977/3258036297.py:12: FutureWarning: Indexing with multiple keys (implicitly converted to a tuple of keys) will be deprecated, use a list instead.\n",
      "  bootstrapped_downward = tmp.groupby(['#t(centisec)'])['ang_pos', 'dist', 'speed_diff', 'acc_diff', 'cc'].mean().reset_index()\n",
      "/var/folders/ng/l4j590g95vl5r33ctw59y6cr0000gn/T/ipykernel_26977/3258036297.py:12: FutureWarning: Indexing with multiple keys (implicitly converted to a tuple of keys) will be deprecated, use a list instead.\n",
      "  bootstrapped_downward = tmp.groupby(['#t(centisec)'])['ang_pos', 'dist', 'speed_diff', 'acc_diff', 'cc'].mean().reset_index()\n",
      "/var/folders/ng/l4j590g95vl5r33ctw59y6cr0000gn/T/ipykernel_26977/3258036297.py:12: FutureWarning: Indexing with multiple keys (implicitly converted to a tuple of keys) will be deprecated, use a list instead.\n",
      "  bootstrapped_downward = tmp.groupby(['#t(centisec)'])['ang_pos', 'dist', 'speed_diff', 'acc_diff', 'cc'].mean().reset_index()\n",
      "/var/folders/ng/l4j590g95vl5r33ctw59y6cr0000gn/T/ipykernel_26977/3258036297.py:12: FutureWarning: Indexing with multiple keys (implicitly converted to a tuple of keys) will be deprecated, use a list instead.\n",
      "  bootstrapped_downward = tmp.groupby(['#t(centisec)'])['ang_pos', 'dist', 'speed_diff', 'acc_diff', 'cc'].mean().reset_index()\n",
      "/var/folders/ng/l4j590g95vl5r33ctw59y6cr0000gn/T/ipykernel_26977/3258036297.py:12: FutureWarning: Indexing with multiple keys (implicitly converted to a tuple of keys) will be deprecated, use a list instead.\n",
      "  bootstrapped_downward = tmp.groupby(['#t(centisec)'])['ang_pos', 'dist', 'speed_diff', 'acc_diff', 'cc'].mean().reset_index()\n",
      "/var/folders/ng/l4j590g95vl5r33ctw59y6cr0000gn/T/ipykernel_26977/3258036297.py:12: FutureWarning: Indexing with multiple keys (implicitly converted to a tuple of keys) will be deprecated, use a list instead.\n",
      "  bootstrapped_downward = tmp.groupby(['#t(centisec)'])['ang_pos', 'dist', 'speed_diff', 'acc_diff', 'cc'].mean().reset_index()\n",
      "/var/folders/ng/l4j590g95vl5r33ctw59y6cr0000gn/T/ipykernel_26977/3258036297.py:12: FutureWarning: Indexing with multiple keys (implicitly converted to a tuple of keys) will be deprecated, use a list instead.\n",
      "  bootstrapped_downward = tmp.groupby(['#t(centisec)'])['ang_pos', 'dist', 'speed_diff', 'acc_diff', 'cc'].mean().reset_index()\n",
      "/var/folders/ng/l4j590g95vl5r33ctw59y6cr0000gn/T/ipykernel_26977/3258036297.py:12: FutureWarning: Indexing with multiple keys (implicitly converted to a tuple of keys) will be deprecated, use a list instead.\n",
      "  bootstrapped_downward = tmp.groupby(['#t(centisec)'])['ang_pos', 'dist', 'speed_diff', 'acc_diff', 'cc'].mean().reset_index()\n",
      "/var/folders/ng/l4j590g95vl5r33ctw59y6cr0000gn/T/ipykernel_26977/3258036297.py:12: FutureWarning: Indexing with multiple keys (implicitly converted to a tuple of keys) will be deprecated, use a list instead.\n",
      "  bootstrapped_downward = tmp.groupby(['#t(centisec)'])['ang_pos', 'dist', 'speed_diff', 'acc_diff', 'cc'].mean().reset_index()\n",
      "/var/folders/ng/l4j590g95vl5r33ctw59y6cr0000gn/T/ipykernel_26977/3258036297.py:12: FutureWarning: Indexing with multiple keys (implicitly converted to a tuple of keys) will be deprecated, use a list instead.\n",
      "  bootstrapped_downward = tmp.groupby(['#t(centisec)'])['ang_pos', 'dist', 'speed_diff', 'acc_diff', 'cc'].mean().reset_index()\n"
     ]
    },
    {
     "name": "stdout",
     "output_type": "stream",
     "text": [
      "560\n"
     ]
    },
    {
     "name": "stderr",
     "output_type": "stream",
     "text": [
      "/var/folders/ng/l4j590g95vl5r33ctw59y6cr0000gn/T/ipykernel_26977/3258036297.py:12: FutureWarning: Indexing with multiple keys (implicitly converted to a tuple of keys) will be deprecated, use a list instead.\n",
      "  bootstrapped_downward = tmp.groupby(['#t(centisec)'])['ang_pos', 'dist', 'speed_diff', 'acc_diff', 'cc'].mean().reset_index()\n",
      "/var/folders/ng/l4j590g95vl5r33ctw59y6cr0000gn/T/ipykernel_26977/3258036297.py:12: FutureWarning: Indexing with multiple keys (implicitly converted to a tuple of keys) will be deprecated, use a list instead.\n",
      "  bootstrapped_downward = tmp.groupby(['#t(centisec)'])['ang_pos', 'dist', 'speed_diff', 'acc_diff', 'cc'].mean().reset_index()\n",
      "/var/folders/ng/l4j590g95vl5r33ctw59y6cr0000gn/T/ipykernel_26977/3258036297.py:12: FutureWarning: Indexing with multiple keys (implicitly converted to a tuple of keys) will be deprecated, use a list instead.\n",
      "  bootstrapped_downward = tmp.groupby(['#t(centisec)'])['ang_pos', 'dist', 'speed_diff', 'acc_diff', 'cc'].mean().reset_index()\n",
      "/var/folders/ng/l4j590g95vl5r33ctw59y6cr0000gn/T/ipykernel_26977/3258036297.py:12: FutureWarning: Indexing with multiple keys (implicitly converted to a tuple of keys) will be deprecated, use a list instead.\n",
      "  bootstrapped_downward = tmp.groupby(['#t(centisec)'])['ang_pos', 'dist', 'speed_diff', 'acc_diff', 'cc'].mean().reset_index()\n",
      "/var/folders/ng/l4j590g95vl5r33ctw59y6cr0000gn/T/ipykernel_26977/3258036297.py:12: FutureWarning: Indexing with multiple keys (implicitly converted to a tuple of keys) will be deprecated, use a list instead.\n",
      "  bootstrapped_downward = tmp.groupby(['#t(centisec)'])['ang_pos', 'dist', 'speed_diff', 'acc_diff', 'cc'].mean().reset_index()\n",
      "/var/folders/ng/l4j590g95vl5r33ctw59y6cr0000gn/T/ipykernel_26977/3258036297.py:12: FutureWarning: Indexing with multiple keys (implicitly converted to a tuple of keys) will be deprecated, use a list instead.\n",
      "  bootstrapped_downward = tmp.groupby(['#t(centisec)'])['ang_pos', 'dist', 'speed_diff', 'acc_diff', 'cc'].mean().reset_index()\n",
      "/var/folders/ng/l4j590g95vl5r33ctw59y6cr0000gn/T/ipykernel_26977/3258036297.py:12: FutureWarning: Indexing with multiple keys (implicitly converted to a tuple of keys) will be deprecated, use a list instead.\n",
      "  bootstrapped_downward = tmp.groupby(['#t(centisec)'])['ang_pos', 'dist', 'speed_diff', 'acc_diff', 'cc'].mean().reset_index()\n",
      "/var/folders/ng/l4j590g95vl5r33ctw59y6cr0000gn/T/ipykernel_26977/3258036297.py:12: FutureWarning: Indexing with multiple keys (implicitly converted to a tuple of keys) will be deprecated, use a list instead.\n",
      "  bootstrapped_downward = tmp.groupby(['#t(centisec)'])['ang_pos', 'dist', 'speed_diff', 'acc_diff', 'cc'].mean().reset_index()\n",
      "/var/folders/ng/l4j590g95vl5r33ctw59y6cr0000gn/T/ipykernel_26977/3258036297.py:12: FutureWarning: Indexing with multiple keys (implicitly converted to a tuple of keys) will be deprecated, use a list instead.\n",
      "  bootstrapped_downward = tmp.groupby(['#t(centisec)'])['ang_pos', 'dist', 'speed_diff', 'acc_diff', 'cc'].mean().reset_index()\n",
      "/var/folders/ng/l4j590g95vl5r33ctw59y6cr0000gn/T/ipykernel_26977/3258036297.py:12: FutureWarning: Indexing with multiple keys (implicitly converted to a tuple of keys) will be deprecated, use a list instead.\n",
      "  bootstrapped_downward = tmp.groupby(['#t(centisec)'])['ang_pos', 'dist', 'speed_diff', 'acc_diff', 'cc'].mean().reset_index()\n"
     ]
    },
    {
     "name": "stdout",
     "output_type": "stream",
     "text": [
      "570\n"
     ]
    },
    {
     "name": "stderr",
     "output_type": "stream",
     "text": [
      "/var/folders/ng/l4j590g95vl5r33ctw59y6cr0000gn/T/ipykernel_26977/3258036297.py:12: FutureWarning: Indexing with multiple keys (implicitly converted to a tuple of keys) will be deprecated, use a list instead.\n",
      "  bootstrapped_downward = tmp.groupby(['#t(centisec)'])['ang_pos', 'dist', 'speed_diff', 'acc_diff', 'cc'].mean().reset_index()\n",
      "/var/folders/ng/l4j590g95vl5r33ctw59y6cr0000gn/T/ipykernel_26977/3258036297.py:12: FutureWarning: Indexing with multiple keys (implicitly converted to a tuple of keys) will be deprecated, use a list instead.\n",
      "  bootstrapped_downward = tmp.groupby(['#t(centisec)'])['ang_pos', 'dist', 'speed_diff', 'acc_diff', 'cc'].mean().reset_index()\n",
      "/var/folders/ng/l4j590g95vl5r33ctw59y6cr0000gn/T/ipykernel_26977/3258036297.py:12: FutureWarning: Indexing with multiple keys (implicitly converted to a tuple of keys) will be deprecated, use a list instead.\n",
      "  bootstrapped_downward = tmp.groupby(['#t(centisec)'])['ang_pos', 'dist', 'speed_diff', 'acc_diff', 'cc'].mean().reset_index()\n",
      "/var/folders/ng/l4j590g95vl5r33ctw59y6cr0000gn/T/ipykernel_26977/3258036297.py:12: FutureWarning: Indexing with multiple keys (implicitly converted to a tuple of keys) will be deprecated, use a list instead.\n",
      "  bootstrapped_downward = tmp.groupby(['#t(centisec)'])['ang_pos', 'dist', 'speed_diff', 'acc_diff', 'cc'].mean().reset_index()\n",
      "/var/folders/ng/l4j590g95vl5r33ctw59y6cr0000gn/T/ipykernel_26977/3258036297.py:12: FutureWarning: Indexing with multiple keys (implicitly converted to a tuple of keys) will be deprecated, use a list instead.\n",
      "  bootstrapped_downward = tmp.groupby(['#t(centisec)'])['ang_pos', 'dist', 'speed_diff', 'acc_diff', 'cc'].mean().reset_index()\n",
      "/var/folders/ng/l4j590g95vl5r33ctw59y6cr0000gn/T/ipykernel_26977/3258036297.py:12: FutureWarning: Indexing with multiple keys (implicitly converted to a tuple of keys) will be deprecated, use a list instead.\n",
      "  bootstrapped_downward = tmp.groupby(['#t(centisec)'])['ang_pos', 'dist', 'speed_diff', 'acc_diff', 'cc'].mean().reset_index()\n",
      "/var/folders/ng/l4j590g95vl5r33ctw59y6cr0000gn/T/ipykernel_26977/3258036297.py:12: FutureWarning: Indexing with multiple keys (implicitly converted to a tuple of keys) will be deprecated, use a list instead.\n",
      "  bootstrapped_downward = tmp.groupby(['#t(centisec)'])['ang_pos', 'dist', 'speed_diff', 'acc_diff', 'cc'].mean().reset_index()\n",
      "/var/folders/ng/l4j590g95vl5r33ctw59y6cr0000gn/T/ipykernel_26977/3258036297.py:12: FutureWarning: Indexing with multiple keys (implicitly converted to a tuple of keys) will be deprecated, use a list instead.\n",
      "  bootstrapped_downward = tmp.groupby(['#t(centisec)'])['ang_pos', 'dist', 'speed_diff', 'acc_diff', 'cc'].mean().reset_index()\n",
      "/var/folders/ng/l4j590g95vl5r33ctw59y6cr0000gn/T/ipykernel_26977/3258036297.py:12: FutureWarning: Indexing with multiple keys (implicitly converted to a tuple of keys) will be deprecated, use a list instead.\n",
      "  bootstrapped_downward = tmp.groupby(['#t(centisec)'])['ang_pos', 'dist', 'speed_diff', 'acc_diff', 'cc'].mean().reset_index()\n",
      "/var/folders/ng/l4j590g95vl5r33ctw59y6cr0000gn/T/ipykernel_26977/3258036297.py:12: FutureWarning: Indexing with multiple keys (implicitly converted to a tuple of keys) will be deprecated, use a list instead.\n",
      "  bootstrapped_downward = tmp.groupby(['#t(centisec)'])['ang_pos', 'dist', 'speed_diff', 'acc_diff', 'cc'].mean().reset_index()\n"
     ]
    },
    {
     "name": "stdout",
     "output_type": "stream",
     "text": [
      "580\n"
     ]
    },
    {
     "name": "stderr",
     "output_type": "stream",
     "text": [
      "/var/folders/ng/l4j590g95vl5r33ctw59y6cr0000gn/T/ipykernel_26977/3258036297.py:12: FutureWarning: Indexing with multiple keys (implicitly converted to a tuple of keys) will be deprecated, use a list instead.\n",
      "  bootstrapped_downward = tmp.groupby(['#t(centisec)'])['ang_pos', 'dist', 'speed_diff', 'acc_diff', 'cc'].mean().reset_index()\n",
      "/var/folders/ng/l4j590g95vl5r33ctw59y6cr0000gn/T/ipykernel_26977/3258036297.py:12: FutureWarning: Indexing with multiple keys (implicitly converted to a tuple of keys) will be deprecated, use a list instead.\n",
      "  bootstrapped_downward = tmp.groupby(['#t(centisec)'])['ang_pos', 'dist', 'speed_diff', 'acc_diff', 'cc'].mean().reset_index()\n",
      "/var/folders/ng/l4j590g95vl5r33ctw59y6cr0000gn/T/ipykernel_26977/3258036297.py:12: FutureWarning: Indexing with multiple keys (implicitly converted to a tuple of keys) will be deprecated, use a list instead.\n",
      "  bootstrapped_downward = tmp.groupby(['#t(centisec)'])['ang_pos', 'dist', 'speed_diff', 'acc_diff', 'cc'].mean().reset_index()\n",
      "/var/folders/ng/l4j590g95vl5r33ctw59y6cr0000gn/T/ipykernel_26977/3258036297.py:12: FutureWarning: Indexing with multiple keys (implicitly converted to a tuple of keys) will be deprecated, use a list instead.\n",
      "  bootstrapped_downward = tmp.groupby(['#t(centisec)'])['ang_pos', 'dist', 'speed_diff', 'acc_diff', 'cc'].mean().reset_index()\n",
      "/var/folders/ng/l4j590g95vl5r33ctw59y6cr0000gn/T/ipykernel_26977/3258036297.py:12: FutureWarning: Indexing with multiple keys (implicitly converted to a tuple of keys) will be deprecated, use a list instead.\n",
      "  bootstrapped_downward = tmp.groupby(['#t(centisec)'])['ang_pos', 'dist', 'speed_diff', 'acc_diff', 'cc'].mean().reset_index()\n",
      "/var/folders/ng/l4j590g95vl5r33ctw59y6cr0000gn/T/ipykernel_26977/3258036297.py:12: FutureWarning: Indexing with multiple keys (implicitly converted to a tuple of keys) will be deprecated, use a list instead.\n",
      "  bootstrapped_downward = tmp.groupby(['#t(centisec)'])['ang_pos', 'dist', 'speed_diff', 'acc_diff', 'cc'].mean().reset_index()\n",
      "/var/folders/ng/l4j590g95vl5r33ctw59y6cr0000gn/T/ipykernel_26977/3258036297.py:12: FutureWarning: Indexing with multiple keys (implicitly converted to a tuple of keys) will be deprecated, use a list instead.\n",
      "  bootstrapped_downward = tmp.groupby(['#t(centisec)'])['ang_pos', 'dist', 'speed_diff', 'acc_diff', 'cc'].mean().reset_index()\n",
      "/var/folders/ng/l4j590g95vl5r33ctw59y6cr0000gn/T/ipykernel_26977/3258036297.py:12: FutureWarning: Indexing with multiple keys (implicitly converted to a tuple of keys) will be deprecated, use a list instead.\n",
      "  bootstrapped_downward = tmp.groupby(['#t(centisec)'])['ang_pos', 'dist', 'speed_diff', 'acc_diff', 'cc'].mean().reset_index()\n",
      "/var/folders/ng/l4j590g95vl5r33ctw59y6cr0000gn/T/ipykernel_26977/3258036297.py:12: FutureWarning: Indexing with multiple keys (implicitly converted to a tuple of keys) will be deprecated, use a list instead.\n",
      "  bootstrapped_downward = tmp.groupby(['#t(centisec)'])['ang_pos', 'dist', 'speed_diff', 'acc_diff', 'cc'].mean().reset_index()\n",
      "/var/folders/ng/l4j590g95vl5r33ctw59y6cr0000gn/T/ipykernel_26977/3258036297.py:12: FutureWarning: Indexing with multiple keys (implicitly converted to a tuple of keys) will be deprecated, use a list instead.\n",
      "  bootstrapped_downward = tmp.groupby(['#t(centisec)'])['ang_pos', 'dist', 'speed_diff', 'acc_diff', 'cc'].mean().reset_index()\n"
     ]
    },
    {
     "name": "stdout",
     "output_type": "stream",
     "text": [
      "590\n"
     ]
    },
    {
     "name": "stderr",
     "output_type": "stream",
     "text": [
      "/var/folders/ng/l4j590g95vl5r33ctw59y6cr0000gn/T/ipykernel_26977/3258036297.py:12: FutureWarning: Indexing with multiple keys (implicitly converted to a tuple of keys) will be deprecated, use a list instead.\n",
      "  bootstrapped_downward = tmp.groupby(['#t(centisec)'])['ang_pos', 'dist', 'speed_diff', 'acc_diff', 'cc'].mean().reset_index()\n",
      "/var/folders/ng/l4j590g95vl5r33ctw59y6cr0000gn/T/ipykernel_26977/3258036297.py:12: FutureWarning: Indexing with multiple keys (implicitly converted to a tuple of keys) will be deprecated, use a list instead.\n",
      "  bootstrapped_downward = tmp.groupby(['#t(centisec)'])['ang_pos', 'dist', 'speed_diff', 'acc_diff', 'cc'].mean().reset_index()\n",
      "/var/folders/ng/l4j590g95vl5r33ctw59y6cr0000gn/T/ipykernel_26977/3258036297.py:12: FutureWarning: Indexing with multiple keys (implicitly converted to a tuple of keys) will be deprecated, use a list instead.\n",
      "  bootstrapped_downward = tmp.groupby(['#t(centisec)'])['ang_pos', 'dist', 'speed_diff', 'acc_diff', 'cc'].mean().reset_index()\n",
      "/var/folders/ng/l4j590g95vl5r33ctw59y6cr0000gn/T/ipykernel_26977/3258036297.py:12: FutureWarning: Indexing with multiple keys (implicitly converted to a tuple of keys) will be deprecated, use a list instead.\n",
      "  bootstrapped_downward = tmp.groupby(['#t(centisec)'])['ang_pos', 'dist', 'speed_diff', 'acc_diff', 'cc'].mean().reset_index()\n",
      "/var/folders/ng/l4j590g95vl5r33ctw59y6cr0000gn/T/ipykernel_26977/3258036297.py:12: FutureWarning: Indexing with multiple keys (implicitly converted to a tuple of keys) will be deprecated, use a list instead.\n",
      "  bootstrapped_downward = tmp.groupby(['#t(centisec)'])['ang_pos', 'dist', 'speed_diff', 'acc_diff', 'cc'].mean().reset_index()\n",
      "/var/folders/ng/l4j590g95vl5r33ctw59y6cr0000gn/T/ipykernel_26977/3258036297.py:12: FutureWarning: Indexing with multiple keys (implicitly converted to a tuple of keys) will be deprecated, use a list instead.\n",
      "  bootstrapped_downward = tmp.groupby(['#t(centisec)'])['ang_pos', 'dist', 'speed_diff', 'acc_diff', 'cc'].mean().reset_index()\n",
      "/var/folders/ng/l4j590g95vl5r33ctw59y6cr0000gn/T/ipykernel_26977/3258036297.py:12: FutureWarning: Indexing with multiple keys (implicitly converted to a tuple of keys) will be deprecated, use a list instead.\n",
      "  bootstrapped_downward = tmp.groupby(['#t(centisec)'])['ang_pos', 'dist', 'speed_diff', 'acc_diff', 'cc'].mean().reset_index()\n",
      "/var/folders/ng/l4j590g95vl5r33ctw59y6cr0000gn/T/ipykernel_26977/3258036297.py:12: FutureWarning: Indexing with multiple keys (implicitly converted to a tuple of keys) will be deprecated, use a list instead.\n",
      "  bootstrapped_downward = tmp.groupby(['#t(centisec)'])['ang_pos', 'dist', 'speed_diff', 'acc_diff', 'cc'].mean().reset_index()\n",
      "/var/folders/ng/l4j590g95vl5r33ctw59y6cr0000gn/T/ipykernel_26977/3258036297.py:12: FutureWarning: Indexing with multiple keys (implicitly converted to a tuple of keys) will be deprecated, use a list instead.\n",
      "  bootstrapped_downward = tmp.groupby(['#t(centisec)'])['ang_pos', 'dist', 'speed_diff', 'acc_diff', 'cc'].mean().reset_index()\n",
      "/var/folders/ng/l4j590g95vl5r33ctw59y6cr0000gn/T/ipykernel_26977/3258036297.py:12: FutureWarning: Indexing with multiple keys (implicitly converted to a tuple of keys) will be deprecated, use a list instead.\n",
      "  bootstrapped_downward = tmp.groupby(['#t(centisec)'])['ang_pos', 'dist', 'speed_diff', 'acc_diff', 'cc'].mean().reset_index()\n"
     ]
    },
    {
     "name": "stdout",
     "output_type": "stream",
     "text": [
      "600\n"
     ]
    },
    {
     "name": "stderr",
     "output_type": "stream",
     "text": [
      "/var/folders/ng/l4j590g95vl5r33ctw59y6cr0000gn/T/ipykernel_26977/3258036297.py:12: FutureWarning: Indexing with multiple keys (implicitly converted to a tuple of keys) will be deprecated, use a list instead.\n",
      "  bootstrapped_downward = tmp.groupby(['#t(centisec)'])['ang_pos', 'dist', 'speed_diff', 'acc_diff', 'cc'].mean().reset_index()\n",
      "/var/folders/ng/l4j590g95vl5r33ctw59y6cr0000gn/T/ipykernel_26977/3258036297.py:12: FutureWarning: Indexing with multiple keys (implicitly converted to a tuple of keys) will be deprecated, use a list instead.\n",
      "  bootstrapped_downward = tmp.groupby(['#t(centisec)'])['ang_pos', 'dist', 'speed_diff', 'acc_diff', 'cc'].mean().reset_index()\n",
      "/var/folders/ng/l4j590g95vl5r33ctw59y6cr0000gn/T/ipykernel_26977/3258036297.py:12: FutureWarning: Indexing with multiple keys (implicitly converted to a tuple of keys) will be deprecated, use a list instead.\n",
      "  bootstrapped_downward = tmp.groupby(['#t(centisec)'])['ang_pos', 'dist', 'speed_diff', 'acc_diff', 'cc'].mean().reset_index()\n",
      "/var/folders/ng/l4j590g95vl5r33ctw59y6cr0000gn/T/ipykernel_26977/3258036297.py:12: FutureWarning: Indexing with multiple keys (implicitly converted to a tuple of keys) will be deprecated, use a list instead.\n",
      "  bootstrapped_downward = tmp.groupby(['#t(centisec)'])['ang_pos', 'dist', 'speed_diff', 'acc_diff', 'cc'].mean().reset_index()\n",
      "/var/folders/ng/l4j590g95vl5r33ctw59y6cr0000gn/T/ipykernel_26977/3258036297.py:12: FutureWarning: Indexing with multiple keys (implicitly converted to a tuple of keys) will be deprecated, use a list instead.\n",
      "  bootstrapped_downward = tmp.groupby(['#t(centisec)'])['ang_pos', 'dist', 'speed_diff', 'acc_diff', 'cc'].mean().reset_index()\n",
      "/var/folders/ng/l4j590g95vl5r33ctw59y6cr0000gn/T/ipykernel_26977/3258036297.py:12: FutureWarning: Indexing with multiple keys (implicitly converted to a tuple of keys) will be deprecated, use a list instead.\n",
      "  bootstrapped_downward = tmp.groupby(['#t(centisec)'])['ang_pos', 'dist', 'speed_diff', 'acc_diff', 'cc'].mean().reset_index()\n",
      "/var/folders/ng/l4j590g95vl5r33ctw59y6cr0000gn/T/ipykernel_26977/3258036297.py:12: FutureWarning: Indexing with multiple keys (implicitly converted to a tuple of keys) will be deprecated, use a list instead.\n",
      "  bootstrapped_downward = tmp.groupby(['#t(centisec)'])['ang_pos', 'dist', 'speed_diff', 'acc_diff', 'cc'].mean().reset_index()\n",
      "/var/folders/ng/l4j590g95vl5r33ctw59y6cr0000gn/T/ipykernel_26977/3258036297.py:12: FutureWarning: Indexing with multiple keys (implicitly converted to a tuple of keys) will be deprecated, use a list instead.\n",
      "  bootstrapped_downward = tmp.groupby(['#t(centisec)'])['ang_pos', 'dist', 'speed_diff', 'acc_diff', 'cc'].mean().reset_index()\n",
      "/var/folders/ng/l4j590g95vl5r33ctw59y6cr0000gn/T/ipykernel_26977/3258036297.py:12: FutureWarning: Indexing with multiple keys (implicitly converted to a tuple of keys) will be deprecated, use a list instead.\n",
      "  bootstrapped_downward = tmp.groupby(['#t(centisec)'])['ang_pos', 'dist', 'speed_diff', 'acc_diff', 'cc'].mean().reset_index()\n",
      "/var/folders/ng/l4j590g95vl5r33ctw59y6cr0000gn/T/ipykernel_26977/3258036297.py:12: FutureWarning: Indexing with multiple keys (implicitly converted to a tuple of keys) will be deprecated, use a list instead.\n",
      "  bootstrapped_downward = tmp.groupby(['#t(centisec)'])['ang_pos', 'dist', 'speed_diff', 'acc_diff', 'cc'].mean().reset_index()\n"
     ]
    },
    {
     "name": "stdout",
     "output_type": "stream",
     "text": [
      "610\n"
     ]
    },
    {
     "name": "stderr",
     "output_type": "stream",
     "text": [
      "/var/folders/ng/l4j590g95vl5r33ctw59y6cr0000gn/T/ipykernel_26977/3258036297.py:12: FutureWarning: Indexing with multiple keys (implicitly converted to a tuple of keys) will be deprecated, use a list instead.\n",
      "  bootstrapped_downward = tmp.groupby(['#t(centisec)'])['ang_pos', 'dist', 'speed_diff', 'acc_diff', 'cc'].mean().reset_index()\n",
      "/var/folders/ng/l4j590g95vl5r33ctw59y6cr0000gn/T/ipykernel_26977/3258036297.py:12: FutureWarning: Indexing with multiple keys (implicitly converted to a tuple of keys) will be deprecated, use a list instead.\n",
      "  bootstrapped_downward = tmp.groupby(['#t(centisec)'])['ang_pos', 'dist', 'speed_diff', 'acc_diff', 'cc'].mean().reset_index()\n",
      "/var/folders/ng/l4j590g95vl5r33ctw59y6cr0000gn/T/ipykernel_26977/3258036297.py:12: FutureWarning: Indexing with multiple keys (implicitly converted to a tuple of keys) will be deprecated, use a list instead.\n",
      "  bootstrapped_downward = tmp.groupby(['#t(centisec)'])['ang_pos', 'dist', 'speed_diff', 'acc_diff', 'cc'].mean().reset_index()\n",
      "/var/folders/ng/l4j590g95vl5r33ctw59y6cr0000gn/T/ipykernel_26977/3258036297.py:12: FutureWarning: Indexing with multiple keys (implicitly converted to a tuple of keys) will be deprecated, use a list instead.\n",
      "  bootstrapped_downward = tmp.groupby(['#t(centisec)'])['ang_pos', 'dist', 'speed_diff', 'acc_diff', 'cc'].mean().reset_index()\n",
      "/var/folders/ng/l4j590g95vl5r33ctw59y6cr0000gn/T/ipykernel_26977/3258036297.py:12: FutureWarning: Indexing with multiple keys (implicitly converted to a tuple of keys) will be deprecated, use a list instead.\n",
      "  bootstrapped_downward = tmp.groupby(['#t(centisec)'])['ang_pos', 'dist', 'speed_diff', 'acc_diff', 'cc'].mean().reset_index()\n",
      "/var/folders/ng/l4j590g95vl5r33ctw59y6cr0000gn/T/ipykernel_26977/3258036297.py:12: FutureWarning: Indexing with multiple keys (implicitly converted to a tuple of keys) will be deprecated, use a list instead.\n",
      "  bootstrapped_downward = tmp.groupby(['#t(centisec)'])['ang_pos', 'dist', 'speed_diff', 'acc_diff', 'cc'].mean().reset_index()\n",
      "/var/folders/ng/l4j590g95vl5r33ctw59y6cr0000gn/T/ipykernel_26977/3258036297.py:12: FutureWarning: Indexing with multiple keys (implicitly converted to a tuple of keys) will be deprecated, use a list instead.\n",
      "  bootstrapped_downward = tmp.groupby(['#t(centisec)'])['ang_pos', 'dist', 'speed_diff', 'acc_diff', 'cc'].mean().reset_index()\n",
      "/var/folders/ng/l4j590g95vl5r33ctw59y6cr0000gn/T/ipykernel_26977/3258036297.py:12: FutureWarning: Indexing with multiple keys (implicitly converted to a tuple of keys) will be deprecated, use a list instead.\n",
      "  bootstrapped_downward = tmp.groupby(['#t(centisec)'])['ang_pos', 'dist', 'speed_diff', 'acc_diff', 'cc'].mean().reset_index()\n",
      "/var/folders/ng/l4j590g95vl5r33ctw59y6cr0000gn/T/ipykernel_26977/3258036297.py:12: FutureWarning: Indexing with multiple keys (implicitly converted to a tuple of keys) will be deprecated, use a list instead.\n",
      "  bootstrapped_downward = tmp.groupby(['#t(centisec)'])['ang_pos', 'dist', 'speed_diff', 'acc_diff', 'cc'].mean().reset_index()\n",
      "/var/folders/ng/l4j590g95vl5r33ctw59y6cr0000gn/T/ipykernel_26977/3258036297.py:12: FutureWarning: Indexing with multiple keys (implicitly converted to a tuple of keys) will be deprecated, use a list instead.\n",
      "  bootstrapped_downward = tmp.groupby(['#t(centisec)'])['ang_pos', 'dist', 'speed_diff', 'acc_diff', 'cc'].mean().reset_index()\n"
     ]
    },
    {
     "name": "stdout",
     "output_type": "stream",
     "text": [
      "620\n"
     ]
    },
    {
     "name": "stderr",
     "output_type": "stream",
     "text": [
      "/var/folders/ng/l4j590g95vl5r33ctw59y6cr0000gn/T/ipykernel_26977/3258036297.py:12: FutureWarning: Indexing with multiple keys (implicitly converted to a tuple of keys) will be deprecated, use a list instead.\n",
      "  bootstrapped_downward = tmp.groupby(['#t(centisec)'])['ang_pos', 'dist', 'speed_diff', 'acc_diff', 'cc'].mean().reset_index()\n",
      "/var/folders/ng/l4j590g95vl5r33ctw59y6cr0000gn/T/ipykernel_26977/3258036297.py:12: FutureWarning: Indexing with multiple keys (implicitly converted to a tuple of keys) will be deprecated, use a list instead.\n",
      "  bootstrapped_downward = tmp.groupby(['#t(centisec)'])['ang_pos', 'dist', 'speed_diff', 'acc_diff', 'cc'].mean().reset_index()\n",
      "/var/folders/ng/l4j590g95vl5r33ctw59y6cr0000gn/T/ipykernel_26977/3258036297.py:12: FutureWarning: Indexing with multiple keys (implicitly converted to a tuple of keys) will be deprecated, use a list instead.\n",
      "  bootstrapped_downward = tmp.groupby(['#t(centisec)'])['ang_pos', 'dist', 'speed_diff', 'acc_diff', 'cc'].mean().reset_index()\n",
      "/var/folders/ng/l4j590g95vl5r33ctw59y6cr0000gn/T/ipykernel_26977/3258036297.py:12: FutureWarning: Indexing with multiple keys (implicitly converted to a tuple of keys) will be deprecated, use a list instead.\n",
      "  bootstrapped_downward = tmp.groupby(['#t(centisec)'])['ang_pos', 'dist', 'speed_diff', 'acc_diff', 'cc'].mean().reset_index()\n",
      "/var/folders/ng/l4j590g95vl5r33ctw59y6cr0000gn/T/ipykernel_26977/3258036297.py:12: FutureWarning: Indexing with multiple keys (implicitly converted to a tuple of keys) will be deprecated, use a list instead.\n",
      "  bootstrapped_downward = tmp.groupby(['#t(centisec)'])['ang_pos', 'dist', 'speed_diff', 'acc_diff', 'cc'].mean().reset_index()\n",
      "/var/folders/ng/l4j590g95vl5r33ctw59y6cr0000gn/T/ipykernel_26977/3258036297.py:12: FutureWarning: Indexing with multiple keys (implicitly converted to a tuple of keys) will be deprecated, use a list instead.\n",
      "  bootstrapped_downward = tmp.groupby(['#t(centisec)'])['ang_pos', 'dist', 'speed_diff', 'acc_diff', 'cc'].mean().reset_index()\n",
      "/var/folders/ng/l4j590g95vl5r33ctw59y6cr0000gn/T/ipykernel_26977/3258036297.py:12: FutureWarning: Indexing with multiple keys (implicitly converted to a tuple of keys) will be deprecated, use a list instead.\n",
      "  bootstrapped_downward = tmp.groupby(['#t(centisec)'])['ang_pos', 'dist', 'speed_diff', 'acc_diff', 'cc'].mean().reset_index()\n",
      "/var/folders/ng/l4j590g95vl5r33ctw59y6cr0000gn/T/ipykernel_26977/3258036297.py:12: FutureWarning: Indexing with multiple keys (implicitly converted to a tuple of keys) will be deprecated, use a list instead.\n",
      "  bootstrapped_downward = tmp.groupby(['#t(centisec)'])['ang_pos', 'dist', 'speed_diff', 'acc_diff', 'cc'].mean().reset_index()\n",
      "/var/folders/ng/l4j590g95vl5r33ctw59y6cr0000gn/T/ipykernel_26977/3258036297.py:12: FutureWarning: Indexing with multiple keys (implicitly converted to a tuple of keys) will be deprecated, use a list instead.\n",
      "  bootstrapped_downward = tmp.groupby(['#t(centisec)'])['ang_pos', 'dist', 'speed_diff', 'acc_diff', 'cc'].mean().reset_index()\n",
      "/var/folders/ng/l4j590g95vl5r33ctw59y6cr0000gn/T/ipykernel_26977/3258036297.py:12: FutureWarning: Indexing with multiple keys (implicitly converted to a tuple of keys) will be deprecated, use a list instead.\n",
      "  bootstrapped_downward = tmp.groupby(['#t(centisec)'])['ang_pos', 'dist', 'speed_diff', 'acc_diff', 'cc'].mean().reset_index()\n"
     ]
    },
    {
     "name": "stdout",
     "output_type": "stream",
     "text": [
      "630\n"
     ]
    },
    {
     "name": "stderr",
     "output_type": "stream",
     "text": [
      "/var/folders/ng/l4j590g95vl5r33ctw59y6cr0000gn/T/ipykernel_26977/3258036297.py:12: FutureWarning: Indexing with multiple keys (implicitly converted to a tuple of keys) will be deprecated, use a list instead.\n",
      "  bootstrapped_downward = tmp.groupby(['#t(centisec)'])['ang_pos', 'dist', 'speed_diff', 'acc_diff', 'cc'].mean().reset_index()\n",
      "/var/folders/ng/l4j590g95vl5r33ctw59y6cr0000gn/T/ipykernel_26977/3258036297.py:12: FutureWarning: Indexing with multiple keys (implicitly converted to a tuple of keys) will be deprecated, use a list instead.\n",
      "  bootstrapped_downward = tmp.groupby(['#t(centisec)'])['ang_pos', 'dist', 'speed_diff', 'acc_diff', 'cc'].mean().reset_index()\n",
      "/var/folders/ng/l4j590g95vl5r33ctw59y6cr0000gn/T/ipykernel_26977/3258036297.py:12: FutureWarning: Indexing with multiple keys (implicitly converted to a tuple of keys) will be deprecated, use a list instead.\n",
      "  bootstrapped_downward = tmp.groupby(['#t(centisec)'])['ang_pos', 'dist', 'speed_diff', 'acc_diff', 'cc'].mean().reset_index()\n",
      "/var/folders/ng/l4j590g95vl5r33ctw59y6cr0000gn/T/ipykernel_26977/3258036297.py:12: FutureWarning: Indexing with multiple keys (implicitly converted to a tuple of keys) will be deprecated, use a list instead.\n",
      "  bootstrapped_downward = tmp.groupby(['#t(centisec)'])['ang_pos', 'dist', 'speed_diff', 'acc_diff', 'cc'].mean().reset_index()\n",
      "/var/folders/ng/l4j590g95vl5r33ctw59y6cr0000gn/T/ipykernel_26977/3258036297.py:12: FutureWarning: Indexing with multiple keys (implicitly converted to a tuple of keys) will be deprecated, use a list instead.\n",
      "  bootstrapped_downward = tmp.groupby(['#t(centisec)'])['ang_pos', 'dist', 'speed_diff', 'acc_diff', 'cc'].mean().reset_index()\n",
      "/var/folders/ng/l4j590g95vl5r33ctw59y6cr0000gn/T/ipykernel_26977/3258036297.py:12: FutureWarning: Indexing with multiple keys (implicitly converted to a tuple of keys) will be deprecated, use a list instead.\n",
      "  bootstrapped_downward = tmp.groupby(['#t(centisec)'])['ang_pos', 'dist', 'speed_diff', 'acc_diff', 'cc'].mean().reset_index()\n",
      "/var/folders/ng/l4j590g95vl5r33ctw59y6cr0000gn/T/ipykernel_26977/3258036297.py:12: FutureWarning: Indexing with multiple keys (implicitly converted to a tuple of keys) will be deprecated, use a list instead.\n",
      "  bootstrapped_downward = tmp.groupby(['#t(centisec)'])['ang_pos', 'dist', 'speed_diff', 'acc_diff', 'cc'].mean().reset_index()\n",
      "/var/folders/ng/l4j590g95vl5r33ctw59y6cr0000gn/T/ipykernel_26977/3258036297.py:12: FutureWarning: Indexing with multiple keys (implicitly converted to a tuple of keys) will be deprecated, use a list instead.\n",
      "  bootstrapped_downward = tmp.groupby(['#t(centisec)'])['ang_pos', 'dist', 'speed_diff', 'acc_diff', 'cc'].mean().reset_index()\n",
      "/var/folders/ng/l4j590g95vl5r33ctw59y6cr0000gn/T/ipykernel_26977/3258036297.py:12: FutureWarning: Indexing with multiple keys (implicitly converted to a tuple of keys) will be deprecated, use a list instead.\n",
      "  bootstrapped_downward = tmp.groupby(['#t(centisec)'])['ang_pos', 'dist', 'speed_diff', 'acc_diff', 'cc'].mean().reset_index()\n",
      "/var/folders/ng/l4j590g95vl5r33ctw59y6cr0000gn/T/ipykernel_26977/3258036297.py:12: FutureWarning: Indexing with multiple keys (implicitly converted to a tuple of keys) will be deprecated, use a list instead.\n",
      "  bootstrapped_downward = tmp.groupby(['#t(centisec)'])['ang_pos', 'dist', 'speed_diff', 'acc_diff', 'cc'].mean().reset_index()\n"
     ]
    },
    {
     "name": "stdout",
     "output_type": "stream",
     "text": [
      "640\n"
     ]
    },
    {
     "name": "stderr",
     "output_type": "stream",
     "text": [
      "/var/folders/ng/l4j590g95vl5r33ctw59y6cr0000gn/T/ipykernel_26977/3258036297.py:12: FutureWarning: Indexing with multiple keys (implicitly converted to a tuple of keys) will be deprecated, use a list instead.\n",
      "  bootstrapped_downward = tmp.groupby(['#t(centisec)'])['ang_pos', 'dist', 'speed_diff', 'acc_diff', 'cc'].mean().reset_index()\n",
      "/var/folders/ng/l4j590g95vl5r33ctw59y6cr0000gn/T/ipykernel_26977/3258036297.py:12: FutureWarning: Indexing with multiple keys (implicitly converted to a tuple of keys) will be deprecated, use a list instead.\n",
      "  bootstrapped_downward = tmp.groupby(['#t(centisec)'])['ang_pos', 'dist', 'speed_diff', 'acc_diff', 'cc'].mean().reset_index()\n",
      "/var/folders/ng/l4j590g95vl5r33ctw59y6cr0000gn/T/ipykernel_26977/3258036297.py:12: FutureWarning: Indexing with multiple keys (implicitly converted to a tuple of keys) will be deprecated, use a list instead.\n",
      "  bootstrapped_downward = tmp.groupby(['#t(centisec)'])['ang_pos', 'dist', 'speed_diff', 'acc_diff', 'cc'].mean().reset_index()\n",
      "/var/folders/ng/l4j590g95vl5r33ctw59y6cr0000gn/T/ipykernel_26977/3258036297.py:12: FutureWarning: Indexing with multiple keys (implicitly converted to a tuple of keys) will be deprecated, use a list instead.\n",
      "  bootstrapped_downward = tmp.groupby(['#t(centisec)'])['ang_pos', 'dist', 'speed_diff', 'acc_diff', 'cc'].mean().reset_index()\n",
      "/var/folders/ng/l4j590g95vl5r33ctw59y6cr0000gn/T/ipykernel_26977/3258036297.py:12: FutureWarning: Indexing with multiple keys (implicitly converted to a tuple of keys) will be deprecated, use a list instead.\n",
      "  bootstrapped_downward = tmp.groupby(['#t(centisec)'])['ang_pos', 'dist', 'speed_diff', 'acc_diff', 'cc'].mean().reset_index()\n",
      "/var/folders/ng/l4j590g95vl5r33ctw59y6cr0000gn/T/ipykernel_26977/3258036297.py:12: FutureWarning: Indexing with multiple keys (implicitly converted to a tuple of keys) will be deprecated, use a list instead.\n",
      "  bootstrapped_downward = tmp.groupby(['#t(centisec)'])['ang_pos', 'dist', 'speed_diff', 'acc_diff', 'cc'].mean().reset_index()\n",
      "/var/folders/ng/l4j590g95vl5r33ctw59y6cr0000gn/T/ipykernel_26977/3258036297.py:12: FutureWarning: Indexing with multiple keys (implicitly converted to a tuple of keys) will be deprecated, use a list instead.\n",
      "  bootstrapped_downward = tmp.groupby(['#t(centisec)'])['ang_pos', 'dist', 'speed_diff', 'acc_diff', 'cc'].mean().reset_index()\n",
      "/var/folders/ng/l4j590g95vl5r33ctw59y6cr0000gn/T/ipykernel_26977/3258036297.py:12: FutureWarning: Indexing with multiple keys (implicitly converted to a tuple of keys) will be deprecated, use a list instead.\n",
      "  bootstrapped_downward = tmp.groupby(['#t(centisec)'])['ang_pos', 'dist', 'speed_diff', 'acc_diff', 'cc'].mean().reset_index()\n",
      "/var/folders/ng/l4j590g95vl5r33ctw59y6cr0000gn/T/ipykernel_26977/3258036297.py:12: FutureWarning: Indexing with multiple keys (implicitly converted to a tuple of keys) will be deprecated, use a list instead.\n",
      "  bootstrapped_downward = tmp.groupby(['#t(centisec)'])['ang_pos', 'dist', 'speed_diff', 'acc_diff', 'cc'].mean().reset_index()\n",
      "/var/folders/ng/l4j590g95vl5r33ctw59y6cr0000gn/T/ipykernel_26977/3258036297.py:12: FutureWarning: Indexing with multiple keys (implicitly converted to a tuple of keys) will be deprecated, use a list instead.\n",
      "  bootstrapped_downward = tmp.groupby(['#t(centisec)'])['ang_pos', 'dist', 'speed_diff', 'acc_diff', 'cc'].mean().reset_index()\n"
     ]
    },
    {
     "name": "stdout",
     "output_type": "stream",
     "text": [
      "650\n"
     ]
    },
    {
     "name": "stderr",
     "output_type": "stream",
     "text": [
      "/var/folders/ng/l4j590g95vl5r33ctw59y6cr0000gn/T/ipykernel_26977/3258036297.py:12: FutureWarning: Indexing with multiple keys (implicitly converted to a tuple of keys) will be deprecated, use a list instead.\n",
      "  bootstrapped_downward = tmp.groupby(['#t(centisec)'])['ang_pos', 'dist', 'speed_diff', 'acc_diff', 'cc'].mean().reset_index()\n",
      "/var/folders/ng/l4j590g95vl5r33ctw59y6cr0000gn/T/ipykernel_26977/3258036297.py:12: FutureWarning: Indexing with multiple keys (implicitly converted to a tuple of keys) will be deprecated, use a list instead.\n",
      "  bootstrapped_downward = tmp.groupby(['#t(centisec)'])['ang_pos', 'dist', 'speed_diff', 'acc_diff', 'cc'].mean().reset_index()\n",
      "/var/folders/ng/l4j590g95vl5r33ctw59y6cr0000gn/T/ipykernel_26977/3258036297.py:12: FutureWarning: Indexing with multiple keys (implicitly converted to a tuple of keys) will be deprecated, use a list instead.\n",
      "  bootstrapped_downward = tmp.groupby(['#t(centisec)'])['ang_pos', 'dist', 'speed_diff', 'acc_diff', 'cc'].mean().reset_index()\n",
      "/var/folders/ng/l4j590g95vl5r33ctw59y6cr0000gn/T/ipykernel_26977/3258036297.py:12: FutureWarning: Indexing with multiple keys (implicitly converted to a tuple of keys) will be deprecated, use a list instead.\n",
      "  bootstrapped_downward = tmp.groupby(['#t(centisec)'])['ang_pos', 'dist', 'speed_diff', 'acc_diff', 'cc'].mean().reset_index()\n",
      "/var/folders/ng/l4j590g95vl5r33ctw59y6cr0000gn/T/ipykernel_26977/3258036297.py:12: FutureWarning: Indexing with multiple keys (implicitly converted to a tuple of keys) will be deprecated, use a list instead.\n",
      "  bootstrapped_downward = tmp.groupby(['#t(centisec)'])['ang_pos', 'dist', 'speed_diff', 'acc_diff', 'cc'].mean().reset_index()\n",
      "/var/folders/ng/l4j590g95vl5r33ctw59y6cr0000gn/T/ipykernel_26977/3258036297.py:12: FutureWarning: Indexing with multiple keys (implicitly converted to a tuple of keys) will be deprecated, use a list instead.\n",
      "  bootstrapped_downward = tmp.groupby(['#t(centisec)'])['ang_pos', 'dist', 'speed_diff', 'acc_diff', 'cc'].mean().reset_index()\n",
      "/var/folders/ng/l4j590g95vl5r33ctw59y6cr0000gn/T/ipykernel_26977/3258036297.py:12: FutureWarning: Indexing with multiple keys (implicitly converted to a tuple of keys) will be deprecated, use a list instead.\n",
      "  bootstrapped_downward = tmp.groupby(['#t(centisec)'])['ang_pos', 'dist', 'speed_diff', 'acc_diff', 'cc'].mean().reset_index()\n",
      "/var/folders/ng/l4j590g95vl5r33ctw59y6cr0000gn/T/ipykernel_26977/3258036297.py:12: FutureWarning: Indexing with multiple keys (implicitly converted to a tuple of keys) will be deprecated, use a list instead.\n",
      "  bootstrapped_downward = tmp.groupby(['#t(centisec)'])['ang_pos', 'dist', 'speed_diff', 'acc_diff', 'cc'].mean().reset_index()\n",
      "/var/folders/ng/l4j590g95vl5r33ctw59y6cr0000gn/T/ipykernel_26977/3258036297.py:12: FutureWarning: Indexing with multiple keys (implicitly converted to a tuple of keys) will be deprecated, use a list instead.\n",
      "  bootstrapped_downward = tmp.groupby(['#t(centisec)'])['ang_pos', 'dist', 'speed_diff', 'acc_diff', 'cc'].mean().reset_index()\n",
      "/var/folders/ng/l4j590g95vl5r33ctw59y6cr0000gn/T/ipykernel_26977/3258036297.py:12: FutureWarning: Indexing with multiple keys (implicitly converted to a tuple of keys) will be deprecated, use a list instead.\n",
      "  bootstrapped_downward = tmp.groupby(['#t(centisec)'])['ang_pos', 'dist', 'speed_diff', 'acc_diff', 'cc'].mean().reset_index()\n"
     ]
    },
    {
     "name": "stdout",
     "output_type": "stream",
     "text": [
      "660\n"
     ]
    },
    {
     "name": "stderr",
     "output_type": "stream",
     "text": [
      "/var/folders/ng/l4j590g95vl5r33ctw59y6cr0000gn/T/ipykernel_26977/3258036297.py:12: FutureWarning: Indexing with multiple keys (implicitly converted to a tuple of keys) will be deprecated, use a list instead.\n",
      "  bootstrapped_downward = tmp.groupby(['#t(centisec)'])['ang_pos', 'dist', 'speed_diff', 'acc_diff', 'cc'].mean().reset_index()\n",
      "/var/folders/ng/l4j590g95vl5r33ctw59y6cr0000gn/T/ipykernel_26977/3258036297.py:12: FutureWarning: Indexing with multiple keys (implicitly converted to a tuple of keys) will be deprecated, use a list instead.\n",
      "  bootstrapped_downward = tmp.groupby(['#t(centisec)'])['ang_pos', 'dist', 'speed_diff', 'acc_diff', 'cc'].mean().reset_index()\n",
      "/var/folders/ng/l4j590g95vl5r33ctw59y6cr0000gn/T/ipykernel_26977/3258036297.py:12: FutureWarning: Indexing with multiple keys (implicitly converted to a tuple of keys) will be deprecated, use a list instead.\n",
      "  bootstrapped_downward = tmp.groupby(['#t(centisec)'])['ang_pos', 'dist', 'speed_diff', 'acc_diff', 'cc'].mean().reset_index()\n",
      "/var/folders/ng/l4j590g95vl5r33ctw59y6cr0000gn/T/ipykernel_26977/3258036297.py:12: FutureWarning: Indexing with multiple keys (implicitly converted to a tuple of keys) will be deprecated, use a list instead.\n",
      "  bootstrapped_downward = tmp.groupby(['#t(centisec)'])['ang_pos', 'dist', 'speed_diff', 'acc_diff', 'cc'].mean().reset_index()\n",
      "/var/folders/ng/l4j590g95vl5r33ctw59y6cr0000gn/T/ipykernel_26977/3258036297.py:12: FutureWarning: Indexing with multiple keys (implicitly converted to a tuple of keys) will be deprecated, use a list instead.\n",
      "  bootstrapped_downward = tmp.groupby(['#t(centisec)'])['ang_pos', 'dist', 'speed_diff', 'acc_diff', 'cc'].mean().reset_index()\n",
      "/var/folders/ng/l4j590g95vl5r33ctw59y6cr0000gn/T/ipykernel_26977/3258036297.py:12: FutureWarning: Indexing with multiple keys (implicitly converted to a tuple of keys) will be deprecated, use a list instead.\n",
      "  bootstrapped_downward = tmp.groupby(['#t(centisec)'])['ang_pos', 'dist', 'speed_diff', 'acc_diff', 'cc'].mean().reset_index()\n",
      "/var/folders/ng/l4j590g95vl5r33ctw59y6cr0000gn/T/ipykernel_26977/3258036297.py:12: FutureWarning: Indexing with multiple keys (implicitly converted to a tuple of keys) will be deprecated, use a list instead.\n",
      "  bootstrapped_downward = tmp.groupby(['#t(centisec)'])['ang_pos', 'dist', 'speed_diff', 'acc_diff', 'cc'].mean().reset_index()\n",
      "/var/folders/ng/l4j590g95vl5r33ctw59y6cr0000gn/T/ipykernel_26977/3258036297.py:12: FutureWarning: Indexing with multiple keys (implicitly converted to a tuple of keys) will be deprecated, use a list instead.\n",
      "  bootstrapped_downward = tmp.groupby(['#t(centisec)'])['ang_pos', 'dist', 'speed_diff', 'acc_diff', 'cc'].mean().reset_index()\n",
      "/var/folders/ng/l4j590g95vl5r33ctw59y6cr0000gn/T/ipykernel_26977/3258036297.py:12: FutureWarning: Indexing with multiple keys (implicitly converted to a tuple of keys) will be deprecated, use a list instead.\n",
      "  bootstrapped_downward = tmp.groupby(['#t(centisec)'])['ang_pos', 'dist', 'speed_diff', 'acc_diff', 'cc'].mean().reset_index()\n",
      "/var/folders/ng/l4j590g95vl5r33ctw59y6cr0000gn/T/ipykernel_26977/3258036297.py:12: FutureWarning: Indexing with multiple keys (implicitly converted to a tuple of keys) will be deprecated, use a list instead.\n",
      "  bootstrapped_downward = tmp.groupby(['#t(centisec)'])['ang_pos', 'dist', 'speed_diff', 'acc_diff', 'cc'].mean().reset_index()\n"
     ]
    },
    {
     "name": "stdout",
     "output_type": "stream",
     "text": [
      "670\n"
     ]
    },
    {
     "name": "stderr",
     "output_type": "stream",
     "text": [
      "/var/folders/ng/l4j590g95vl5r33ctw59y6cr0000gn/T/ipykernel_26977/3258036297.py:12: FutureWarning: Indexing with multiple keys (implicitly converted to a tuple of keys) will be deprecated, use a list instead.\n",
      "  bootstrapped_downward = tmp.groupby(['#t(centisec)'])['ang_pos', 'dist', 'speed_diff', 'acc_diff', 'cc'].mean().reset_index()\n",
      "/var/folders/ng/l4j590g95vl5r33ctw59y6cr0000gn/T/ipykernel_26977/3258036297.py:12: FutureWarning: Indexing with multiple keys (implicitly converted to a tuple of keys) will be deprecated, use a list instead.\n",
      "  bootstrapped_downward = tmp.groupby(['#t(centisec)'])['ang_pos', 'dist', 'speed_diff', 'acc_diff', 'cc'].mean().reset_index()\n",
      "/var/folders/ng/l4j590g95vl5r33ctw59y6cr0000gn/T/ipykernel_26977/3258036297.py:12: FutureWarning: Indexing with multiple keys (implicitly converted to a tuple of keys) will be deprecated, use a list instead.\n",
      "  bootstrapped_downward = tmp.groupby(['#t(centisec)'])['ang_pos', 'dist', 'speed_diff', 'acc_diff', 'cc'].mean().reset_index()\n",
      "/var/folders/ng/l4j590g95vl5r33ctw59y6cr0000gn/T/ipykernel_26977/3258036297.py:12: FutureWarning: Indexing with multiple keys (implicitly converted to a tuple of keys) will be deprecated, use a list instead.\n",
      "  bootstrapped_downward = tmp.groupby(['#t(centisec)'])['ang_pos', 'dist', 'speed_diff', 'acc_diff', 'cc'].mean().reset_index()\n",
      "/var/folders/ng/l4j590g95vl5r33ctw59y6cr0000gn/T/ipykernel_26977/3258036297.py:12: FutureWarning: Indexing with multiple keys (implicitly converted to a tuple of keys) will be deprecated, use a list instead.\n",
      "  bootstrapped_downward = tmp.groupby(['#t(centisec)'])['ang_pos', 'dist', 'speed_diff', 'acc_diff', 'cc'].mean().reset_index()\n",
      "/var/folders/ng/l4j590g95vl5r33ctw59y6cr0000gn/T/ipykernel_26977/3258036297.py:12: FutureWarning: Indexing with multiple keys (implicitly converted to a tuple of keys) will be deprecated, use a list instead.\n",
      "  bootstrapped_downward = tmp.groupby(['#t(centisec)'])['ang_pos', 'dist', 'speed_diff', 'acc_diff', 'cc'].mean().reset_index()\n",
      "/var/folders/ng/l4j590g95vl5r33ctw59y6cr0000gn/T/ipykernel_26977/3258036297.py:12: FutureWarning: Indexing with multiple keys (implicitly converted to a tuple of keys) will be deprecated, use a list instead.\n",
      "  bootstrapped_downward = tmp.groupby(['#t(centisec)'])['ang_pos', 'dist', 'speed_diff', 'acc_diff', 'cc'].mean().reset_index()\n",
      "/var/folders/ng/l4j590g95vl5r33ctw59y6cr0000gn/T/ipykernel_26977/3258036297.py:12: FutureWarning: Indexing with multiple keys (implicitly converted to a tuple of keys) will be deprecated, use a list instead.\n",
      "  bootstrapped_downward = tmp.groupby(['#t(centisec)'])['ang_pos', 'dist', 'speed_diff', 'acc_diff', 'cc'].mean().reset_index()\n",
      "/var/folders/ng/l4j590g95vl5r33ctw59y6cr0000gn/T/ipykernel_26977/3258036297.py:12: FutureWarning: Indexing with multiple keys (implicitly converted to a tuple of keys) will be deprecated, use a list instead.\n",
      "  bootstrapped_downward = tmp.groupby(['#t(centisec)'])['ang_pos', 'dist', 'speed_diff', 'acc_diff', 'cc'].mean().reset_index()\n",
      "/var/folders/ng/l4j590g95vl5r33ctw59y6cr0000gn/T/ipykernel_26977/3258036297.py:12: FutureWarning: Indexing with multiple keys (implicitly converted to a tuple of keys) will be deprecated, use a list instead.\n",
      "  bootstrapped_downward = tmp.groupby(['#t(centisec)'])['ang_pos', 'dist', 'speed_diff', 'acc_diff', 'cc'].mean().reset_index()\n"
     ]
    },
    {
     "name": "stdout",
     "output_type": "stream",
     "text": [
      "680\n"
     ]
    },
    {
     "name": "stderr",
     "output_type": "stream",
     "text": [
      "/var/folders/ng/l4j590g95vl5r33ctw59y6cr0000gn/T/ipykernel_26977/3258036297.py:12: FutureWarning: Indexing with multiple keys (implicitly converted to a tuple of keys) will be deprecated, use a list instead.\n",
      "  bootstrapped_downward = tmp.groupby(['#t(centisec)'])['ang_pos', 'dist', 'speed_diff', 'acc_diff', 'cc'].mean().reset_index()\n",
      "/var/folders/ng/l4j590g95vl5r33ctw59y6cr0000gn/T/ipykernel_26977/3258036297.py:12: FutureWarning: Indexing with multiple keys (implicitly converted to a tuple of keys) will be deprecated, use a list instead.\n",
      "  bootstrapped_downward = tmp.groupby(['#t(centisec)'])['ang_pos', 'dist', 'speed_diff', 'acc_diff', 'cc'].mean().reset_index()\n",
      "/var/folders/ng/l4j590g95vl5r33ctw59y6cr0000gn/T/ipykernel_26977/3258036297.py:12: FutureWarning: Indexing with multiple keys (implicitly converted to a tuple of keys) will be deprecated, use a list instead.\n",
      "  bootstrapped_downward = tmp.groupby(['#t(centisec)'])['ang_pos', 'dist', 'speed_diff', 'acc_diff', 'cc'].mean().reset_index()\n",
      "/var/folders/ng/l4j590g95vl5r33ctw59y6cr0000gn/T/ipykernel_26977/3258036297.py:12: FutureWarning: Indexing with multiple keys (implicitly converted to a tuple of keys) will be deprecated, use a list instead.\n",
      "  bootstrapped_downward = tmp.groupby(['#t(centisec)'])['ang_pos', 'dist', 'speed_diff', 'acc_diff', 'cc'].mean().reset_index()\n",
      "/var/folders/ng/l4j590g95vl5r33ctw59y6cr0000gn/T/ipykernel_26977/3258036297.py:12: FutureWarning: Indexing with multiple keys (implicitly converted to a tuple of keys) will be deprecated, use a list instead.\n",
      "  bootstrapped_downward = tmp.groupby(['#t(centisec)'])['ang_pos', 'dist', 'speed_diff', 'acc_diff', 'cc'].mean().reset_index()\n",
      "/var/folders/ng/l4j590g95vl5r33ctw59y6cr0000gn/T/ipykernel_26977/3258036297.py:12: FutureWarning: Indexing with multiple keys (implicitly converted to a tuple of keys) will be deprecated, use a list instead.\n",
      "  bootstrapped_downward = tmp.groupby(['#t(centisec)'])['ang_pos', 'dist', 'speed_diff', 'acc_diff', 'cc'].mean().reset_index()\n",
      "/var/folders/ng/l4j590g95vl5r33ctw59y6cr0000gn/T/ipykernel_26977/3258036297.py:12: FutureWarning: Indexing with multiple keys (implicitly converted to a tuple of keys) will be deprecated, use a list instead.\n",
      "  bootstrapped_downward = tmp.groupby(['#t(centisec)'])['ang_pos', 'dist', 'speed_diff', 'acc_diff', 'cc'].mean().reset_index()\n",
      "/var/folders/ng/l4j590g95vl5r33ctw59y6cr0000gn/T/ipykernel_26977/3258036297.py:12: FutureWarning: Indexing with multiple keys (implicitly converted to a tuple of keys) will be deprecated, use a list instead.\n",
      "  bootstrapped_downward = tmp.groupby(['#t(centisec)'])['ang_pos', 'dist', 'speed_diff', 'acc_diff', 'cc'].mean().reset_index()\n",
      "/var/folders/ng/l4j590g95vl5r33ctw59y6cr0000gn/T/ipykernel_26977/3258036297.py:12: FutureWarning: Indexing with multiple keys (implicitly converted to a tuple of keys) will be deprecated, use a list instead.\n",
      "  bootstrapped_downward = tmp.groupby(['#t(centisec)'])['ang_pos', 'dist', 'speed_diff', 'acc_diff', 'cc'].mean().reset_index()\n",
      "/var/folders/ng/l4j590g95vl5r33ctw59y6cr0000gn/T/ipykernel_26977/3258036297.py:12: FutureWarning: Indexing with multiple keys (implicitly converted to a tuple of keys) will be deprecated, use a list instead.\n",
      "  bootstrapped_downward = tmp.groupby(['#t(centisec)'])['ang_pos', 'dist', 'speed_diff', 'acc_diff', 'cc'].mean().reset_index()\n"
     ]
    },
    {
     "name": "stdout",
     "output_type": "stream",
     "text": [
      "690\n"
     ]
    },
    {
     "name": "stderr",
     "output_type": "stream",
     "text": [
      "/var/folders/ng/l4j590g95vl5r33ctw59y6cr0000gn/T/ipykernel_26977/3258036297.py:12: FutureWarning: Indexing with multiple keys (implicitly converted to a tuple of keys) will be deprecated, use a list instead.\n",
      "  bootstrapped_downward = tmp.groupby(['#t(centisec)'])['ang_pos', 'dist', 'speed_diff', 'acc_diff', 'cc'].mean().reset_index()\n",
      "/var/folders/ng/l4j590g95vl5r33ctw59y6cr0000gn/T/ipykernel_26977/3258036297.py:12: FutureWarning: Indexing with multiple keys (implicitly converted to a tuple of keys) will be deprecated, use a list instead.\n",
      "  bootstrapped_downward = tmp.groupby(['#t(centisec)'])['ang_pos', 'dist', 'speed_diff', 'acc_diff', 'cc'].mean().reset_index()\n",
      "/var/folders/ng/l4j590g95vl5r33ctw59y6cr0000gn/T/ipykernel_26977/3258036297.py:12: FutureWarning: Indexing with multiple keys (implicitly converted to a tuple of keys) will be deprecated, use a list instead.\n",
      "  bootstrapped_downward = tmp.groupby(['#t(centisec)'])['ang_pos', 'dist', 'speed_diff', 'acc_diff', 'cc'].mean().reset_index()\n",
      "/var/folders/ng/l4j590g95vl5r33ctw59y6cr0000gn/T/ipykernel_26977/3258036297.py:12: FutureWarning: Indexing with multiple keys (implicitly converted to a tuple of keys) will be deprecated, use a list instead.\n",
      "  bootstrapped_downward = tmp.groupby(['#t(centisec)'])['ang_pos', 'dist', 'speed_diff', 'acc_diff', 'cc'].mean().reset_index()\n",
      "/var/folders/ng/l4j590g95vl5r33ctw59y6cr0000gn/T/ipykernel_26977/3258036297.py:12: FutureWarning: Indexing with multiple keys (implicitly converted to a tuple of keys) will be deprecated, use a list instead.\n",
      "  bootstrapped_downward = tmp.groupby(['#t(centisec)'])['ang_pos', 'dist', 'speed_diff', 'acc_diff', 'cc'].mean().reset_index()\n",
      "/var/folders/ng/l4j590g95vl5r33ctw59y6cr0000gn/T/ipykernel_26977/3258036297.py:12: FutureWarning: Indexing with multiple keys (implicitly converted to a tuple of keys) will be deprecated, use a list instead.\n",
      "  bootstrapped_downward = tmp.groupby(['#t(centisec)'])['ang_pos', 'dist', 'speed_diff', 'acc_diff', 'cc'].mean().reset_index()\n",
      "/var/folders/ng/l4j590g95vl5r33ctw59y6cr0000gn/T/ipykernel_26977/3258036297.py:12: FutureWarning: Indexing with multiple keys (implicitly converted to a tuple of keys) will be deprecated, use a list instead.\n",
      "  bootstrapped_downward = tmp.groupby(['#t(centisec)'])['ang_pos', 'dist', 'speed_diff', 'acc_diff', 'cc'].mean().reset_index()\n",
      "/var/folders/ng/l4j590g95vl5r33ctw59y6cr0000gn/T/ipykernel_26977/3258036297.py:12: FutureWarning: Indexing with multiple keys (implicitly converted to a tuple of keys) will be deprecated, use a list instead.\n",
      "  bootstrapped_downward = tmp.groupby(['#t(centisec)'])['ang_pos', 'dist', 'speed_diff', 'acc_diff', 'cc'].mean().reset_index()\n",
      "/var/folders/ng/l4j590g95vl5r33ctw59y6cr0000gn/T/ipykernel_26977/3258036297.py:12: FutureWarning: Indexing with multiple keys (implicitly converted to a tuple of keys) will be deprecated, use a list instead.\n",
      "  bootstrapped_downward = tmp.groupby(['#t(centisec)'])['ang_pos', 'dist', 'speed_diff', 'acc_diff', 'cc'].mean().reset_index()\n",
      "/var/folders/ng/l4j590g95vl5r33ctw59y6cr0000gn/T/ipykernel_26977/3258036297.py:12: FutureWarning: Indexing with multiple keys (implicitly converted to a tuple of keys) will be deprecated, use a list instead.\n",
      "  bootstrapped_downward = tmp.groupby(['#t(centisec)'])['ang_pos', 'dist', 'speed_diff', 'acc_diff', 'cc'].mean().reset_index()\n"
     ]
    },
    {
     "name": "stdout",
     "output_type": "stream",
     "text": [
      "700\n"
     ]
    },
    {
     "name": "stderr",
     "output_type": "stream",
     "text": [
      "/var/folders/ng/l4j590g95vl5r33ctw59y6cr0000gn/T/ipykernel_26977/3258036297.py:12: FutureWarning: Indexing with multiple keys (implicitly converted to a tuple of keys) will be deprecated, use a list instead.\n",
      "  bootstrapped_downward = tmp.groupby(['#t(centisec)'])['ang_pos', 'dist', 'speed_diff', 'acc_diff', 'cc'].mean().reset_index()\n",
      "/var/folders/ng/l4j590g95vl5r33ctw59y6cr0000gn/T/ipykernel_26977/3258036297.py:12: FutureWarning: Indexing with multiple keys (implicitly converted to a tuple of keys) will be deprecated, use a list instead.\n",
      "  bootstrapped_downward = tmp.groupby(['#t(centisec)'])['ang_pos', 'dist', 'speed_diff', 'acc_diff', 'cc'].mean().reset_index()\n",
      "/var/folders/ng/l4j590g95vl5r33ctw59y6cr0000gn/T/ipykernel_26977/3258036297.py:12: FutureWarning: Indexing with multiple keys (implicitly converted to a tuple of keys) will be deprecated, use a list instead.\n",
      "  bootstrapped_downward = tmp.groupby(['#t(centisec)'])['ang_pos', 'dist', 'speed_diff', 'acc_diff', 'cc'].mean().reset_index()\n",
      "/var/folders/ng/l4j590g95vl5r33ctw59y6cr0000gn/T/ipykernel_26977/3258036297.py:12: FutureWarning: Indexing with multiple keys (implicitly converted to a tuple of keys) will be deprecated, use a list instead.\n",
      "  bootstrapped_downward = tmp.groupby(['#t(centisec)'])['ang_pos', 'dist', 'speed_diff', 'acc_diff', 'cc'].mean().reset_index()\n",
      "/var/folders/ng/l4j590g95vl5r33ctw59y6cr0000gn/T/ipykernel_26977/3258036297.py:12: FutureWarning: Indexing with multiple keys (implicitly converted to a tuple of keys) will be deprecated, use a list instead.\n",
      "  bootstrapped_downward = tmp.groupby(['#t(centisec)'])['ang_pos', 'dist', 'speed_diff', 'acc_diff', 'cc'].mean().reset_index()\n",
      "/var/folders/ng/l4j590g95vl5r33ctw59y6cr0000gn/T/ipykernel_26977/3258036297.py:12: FutureWarning: Indexing with multiple keys (implicitly converted to a tuple of keys) will be deprecated, use a list instead.\n",
      "  bootstrapped_downward = tmp.groupby(['#t(centisec)'])['ang_pos', 'dist', 'speed_diff', 'acc_diff', 'cc'].mean().reset_index()\n",
      "/var/folders/ng/l4j590g95vl5r33ctw59y6cr0000gn/T/ipykernel_26977/3258036297.py:12: FutureWarning: Indexing with multiple keys (implicitly converted to a tuple of keys) will be deprecated, use a list instead.\n",
      "  bootstrapped_downward = tmp.groupby(['#t(centisec)'])['ang_pos', 'dist', 'speed_diff', 'acc_diff', 'cc'].mean().reset_index()\n",
      "/var/folders/ng/l4j590g95vl5r33ctw59y6cr0000gn/T/ipykernel_26977/3258036297.py:12: FutureWarning: Indexing with multiple keys (implicitly converted to a tuple of keys) will be deprecated, use a list instead.\n",
      "  bootstrapped_downward = tmp.groupby(['#t(centisec)'])['ang_pos', 'dist', 'speed_diff', 'acc_diff', 'cc'].mean().reset_index()\n",
      "/var/folders/ng/l4j590g95vl5r33ctw59y6cr0000gn/T/ipykernel_26977/3258036297.py:12: FutureWarning: Indexing with multiple keys (implicitly converted to a tuple of keys) will be deprecated, use a list instead.\n",
      "  bootstrapped_downward = tmp.groupby(['#t(centisec)'])['ang_pos', 'dist', 'speed_diff', 'acc_diff', 'cc'].mean().reset_index()\n",
      "/var/folders/ng/l4j590g95vl5r33ctw59y6cr0000gn/T/ipykernel_26977/3258036297.py:12: FutureWarning: Indexing with multiple keys (implicitly converted to a tuple of keys) will be deprecated, use a list instead.\n",
      "  bootstrapped_downward = tmp.groupby(['#t(centisec)'])['ang_pos', 'dist', 'speed_diff', 'acc_diff', 'cc'].mean().reset_index()\n"
     ]
    },
    {
     "name": "stdout",
     "output_type": "stream",
     "text": [
      "710\n"
     ]
    },
    {
     "name": "stderr",
     "output_type": "stream",
     "text": [
      "/var/folders/ng/l4j590g95vl5r33ctw59y6cr0000gn/T/ipykernel_26977/3258036297.py:12: FutureWarning: Indexing with multiple keys (implicitly converted to a tuple of keys) will be deprecated, use a list instead.\n",
      "  bootstrapped_downward = tmp.groupby(['#t(centisec)'])['ang_pos', 'dist', 'speed_diff', 'acc_diff', 'cc'].mean().reset_index()\n",
      "/var/folders/ng/l4j590g95vl5r33ctw59y6cr0000gn/T/ipykernel_26977/3258036297.py:12: FutureWarning: Indexing with multiple keys (implicitly converted to a tuple of keys) will be deprecated, use a list instead.\n",
      "  bootstrapped_downward = tmp.groupby(['#t(centisec)'])['ang_pos', 'dist', 'speed_diff', 'acc_diff', 'cc'].mean().reset_index()\n",
      "/var/folders/ng/l4j590g95vl5r33ctw59y6cr0000gn/T/ipykernel_26977/3258036297.py:12: FutureWarning: Indexing with multiple keys (implicitly converted to a tuple of keys) will be deprecated, use a list instead.\n",
      "  bootstrapped_downward = tmp.groupby(['#t(centisec)'])['ang_pos', 'dist', 'speed_diff', 'acc_diff', 'cc'].mean().reset_index()\n",
      "/var/folders/ng/l4j590g95vl5r33ctw59y6cr0000gn/T/ipykernel_26977/3258036297.py:12: FutureWarning: Indexing with multiple keys (implicitly converted to a tuple of keys) will be deprecated, use a list instead.\n",
      "  bootstrapped_downward = tmp.groupby(['#t(centisec)'])['ang_pos', 'dist', 'speed_diff', 'acc_diff', 'cc'].mean().reset_index()\n",
      "/var/folders/ng/l4j590g95vl5r33ctw59y6cr0000gn/T/ipykernel_26977/3258036297.py:12: FutureWarning: Indexing with multiple keys (implicitly converted to a tuple of keys) will be deprecated, use a list instead.\n",
      "  bootstrapped_downward = tmp.groupby(['#t(centisec)'])['ang_pos', 'dist', 'speed_diff', 'acc_diff', 'cc'].mean().reset_index()\n",
      "/var/folders/ng/l4j590g95vl5r33ctw59y6cr0000gn/T/ipykernel_26977/3258036297.py:12: FutureWarning: Indexing with multiple keys (implicitly converted to a tuple of keys) will be deprecated, use a list instead.\n",
      "  bootstrapped_downward = tmp.groupby(['#t(centisec)'])['ang_pos', 'dist', 'speed_diff', 'acc_diff', 'cc'].mean().reset_index()\n",
      "/var/folders/ng/l4j590g95vl5r33ctw59y6cr0000gn/T/ipykernel_26977/3258036297.py:12: FutureWarning: Indexing with multiple keys (implicitly converted to a tuple of keys) will be deprecated, use a list instead.\n",
      "  bootstrapped_downward = tmp.groupby(['#t(centisec)'])['ang_pos', 'dist', 'speed_diff', 'acc_diff', 'cc'].mean().reset_index()\n",
      "/var/folders/ng/l4j590g95vl5r33ctw59y6cr0000gn/T/ipykernel_26977/3258036297.py:12: FutureWarning: Indexing with multiple keys (implicitly converted to a tuple of keys) will be deprecated, use a list instead.\n",
      "  bootstrapped_downward = tmp.groupby(['#t(centisec)'])['ang_pos', 'dist', 'speed_diff', 'acc_diff', 'cc'].mean().reset_index()\n",
      "/var/folders/ng/l4j590g95vl5r33ctw59y6cr0000gn/T/ipykernel_26977/3258036297.py:12: FutureWarning: Indexing with multiple keys (implicitly converted to a tuple of keys) will be deprecated, use a list instead.\n",
      "  bootstrapped_downward = tmp.groupby(['#t(centisec)'])['ang_pos', 'dist', 'speed_diff', 'acc_diff', 'cc'].mean().reset_index()\n",
      "/var/folders/ng/l4j590g95vl5r33ctw59y6cr0000gn/T/ipykernel_26977/3258036297.py:12: FutureWarning: Indexing with multiple keys (implicitly converted to a tuple of keys) will be deprecated, use a list instead.\n",
      "  bootstrapped_downward = tmp.groupby(['#t(centisec)'])['ang_pos', 'dist', 'speed_diff', 'acc_diff', 'cc'].mean().reset_index()\n"
     ]
    },
    {
     "name": "stdout",
     "output_type": "stream",
     "text": [
      "720\n"
     ]
    },
    {
     "name": "stderr",
     "output_type": "stream",
     "text": [
      "/var/folders/ng/l4j590g95vl5r33ctw59y6cr0000gn/T/ipykernel_26977/3258036297.py:12: FutureWarning: Indexing with multiple keys (implicitly converted to a tuple of keys) will be deprecated, use a list instead.\n",
      "  bootstrapped_downward = tmp.groupby(['#t(centisec)'])['ang_pos', 'dist', 'speed_diff', 'acc_diff', 'cc'].mean().reset_index()\n",
      "/var/folders/ng/l4j590g95vl5r33ctw59y6cr0000gn/T/ipykernel_26977/3258036297.py:12: FutureWarning: Indexing with multiple keys (implicitly converted to a tuple of keys) will be deprecated, use a list instead.\n",
      "  bootstrapped_downward = tmp.groupby(['#t(centisec)'])['ang_pos', 'dist', 'speed_diff', 'acc_diff', 'cc'].mean().reset_index()\n",
      "/var/folders/ng/l4j590g95vl5r33ctw59y6cr0000gn/T/ipykernel_26977/3258036297.py:12: FutureWarning: Indexing with multiple keys (implicitly converted to a tuple of keys) will be deprecated, use a list instead.\n",
      "  bootstrapped_downward = tmp.groupby(['#t(centisec)'])['ang_pos', 'dist', 'speed_diff', 'acc_diff', 'cc'].mean().reset_index()\n",
      "/var/folders/ng/l4j590g95vl5r33ctw59y6cr0000gn/T/ipykernel_26977/3258036297.py:12: FutureWarning: Indexing with multiple keys (implicitly converted to a tuple of keys) will be deprecated, use a list instead.\n",
      "  bootstrapped_downward = tmp.groupby(['#t(centisec)'])['ang_pos', 'dist', 'speed_diff', 'acc_diff', 'cc'].mean().reset_index()\n",
      "/var/folders/ng/l4j590g95vl5r33ctw59y6cr0000gn/T/ipykernel_26977/3258036297.py:12: FutureWarning: Indexing with multiple keys (implicitly converted to a tuple of keys) will be deprecated, use a list instead.\n",
      "  bootstrapped_downward = tmp.groupby(['#t(centisec)'])['ang_pos', 'dist', 'speed_diff', 'acc_diff', 'cc'].mean().reset_index()\n",
      "/var/folders/ng/l4j590g95vl5r33ctw59y6cr0000gn/T/ipykernel_26977/3258036297.py:12: FutureWarning: Indexing with multiple keys (implicitly converted to a tuple of keys) will be deprecated, use a list instead.\n",
      "  bootstrapped_downward = tmp.groupby(['#t(centisec)'])['ang_pos', 'dist', 'speed_diff', 'acc_diff', 'cc'].mean().reset_index()\n",
      "/var/folders/ng/l4j590g95vl5r33ctw59y6cr0000gn/T/ipykernel_26977/3258036297.py:12: FutureWarning: Indexing with multiple keys (implicitly converted to a tuple of keys) will be deprecated, use a list instead.\n",
      "  bootstrapped_downward = tmp.groupby(['#t(centisec)'])['ang_pos', 'dist', 'speed_diff', 'acc_diff', 'cc'].mean().reset_index()\n",
      "/var/folders/ng/l4j590g95vl5r33ctw59y6cr0000gn/T/ipykernel_26977/3258036297.py:12: FutureWarning: Indexing with multiple keys (implicitly converted to a tuple of keys) will be deprecated, use a list instead.\n",
      "  bootstrapped_downward = tmp.groupby(['#t(centisec)'])['ang_pos', 'dist', 'speed_diff', 'acc_diff', 'cc'].mean().reset_index()\n",
      "/var/folders/ng/l4j590g95vl5r33ctw59y6cr0000gn/T/ipykernel_26977/3258036297.py:12: FutureWarning: Indexing with multiple keys (implicitly converted to a tuple of keys) will be deprecated, use a list instead.\n",
      "  bootstrapped_downward = tmp.groupby(['#t(centisec)'])['ang_pos', 'dist', 'speed_diff', 'acc_diff', 'cc'].mean().reset_index()\n",
      "/var/folders/ng/l4j590g95vl5r33ctw59y6cr0000gn/T/ipykernel_26977/3258036297.py:12: FutureWarning: Indexing with multiple keys (implicitly converted to a tuple of keys) will be deprecated, use a list instead.\n",
      "  bootstrapped_downward = tmp.groupby(['#t(centisec)'])['ang_pos', 'dist', 'speed_diff', 'acc_diff', 'cc'].mean().reset_index()\n"
     ]
    },
    {
     "name": "stdout",
     "output_type": "stream",
     "text": [
      "730\n"
     ]
    },
    {
     "name": "stderr",
     "output_type": "stream",
     "text": [
      "/var/folders/ng/l4j590g95vl5r33ctw59y6cr0000gn/T/ipykernel_26977/3258036297.py:12: FutureWarning: Indexing with multiple keys (implicitly converted to a tuple of keys) will be deprecated, use a list instead.\n",
      "  bootstrapped_downward = tmp.groupby(['#t(centisec)'])['ang_pos', 'dist', 'speed_diff', 'acc_diff', 'cc'].mean().reset_index()\n",
      "/var/folders/ng/l4j590g95vl5r33ctw59y6cr0000gn/T/ipykernel_26977/3258036297.py:12: FutureWarning: Indexing with multiple keys (implicitly converted to a tuple of keys) will be deprecated, use a list instead.\n",
      "  bootstrapped_downward = tmp.groupby(['#t(centisec)'])['ang_pos', 'dist', 'speed_diff', 'acc_diff', 'cc'].mean().reset_index()\n",
      "/var/folders/ng/l4j590g95vl5r33ctw59y6cr0000gn/T/ipykernel_26977/3258036297.py:12: FutureWarning: Indexing with multiple keys (implicitly converted to a tuple of keys) will be deprecated, use a list instead.\n",
      "  bootstrapped_downward = tmp.groupby(['#t(centisec)'])['ang_pos', 'dist', 'speed_diff', 'acc_diff', 'cc'].mean().reset_index()\n",
      "/var/folders/ng/l4j590g95vl5r33ctw59y6cr0000gn/T/ipykernel_26977/3258036297.py:12: FutureWarning: Indexing with multiple keys (implicitly converted to a tuple of keys) will be deprecated, use a list instead.\n",
      "  bootstrapped_downward = tmp.groupby(['#t(centisec)'])['ang_pos', 'dist', 'speed_diff', 'acc_diff', 'cc'].mean().reset_index()\n",
      "/var/folders/ng/l4j590g95vl5r33ctw59y6cr0000gn/T/ipykernel_26977/3258036297.py:12: FutureWarning: Indexing with multiple keys (implicitly converted to a tuple of keys) will be deprecated, use a list instead.\n",
      "  bootstrapped_downward = tmp.groupby(['#t(centisec)'])['ang_pos', 'dist', 'speed_diff', 'acc_diff', 'cc'].mean().reset_index()\n",
      "/var/folders/ng/l4j590g95vl5r33ctw59y6cr0000gn/T/ipykernel_26977/3258036297.py:12: FutureWarning: Indexing with multiple keys (implicitly converted to a tuple of keys) will be deprecated, use a list instead.\n",
      "  bootstrapped_downward = tmp.groupby(['#t(centisec)'])['ang_pos', 'dist', 'speed_diff', 'acc_diff', 'cc'].mean().reset_index()\n",
      "/var/folders/ng/l4j590g95vl5r33ctw59y6cr0000gn/T/ipykernel_26977/3258036297.py:12: FutureWarning: Indexing with multiple keys (implicitly converted to a tuple of keys) will be deprecated, use a list instead.\n",
      "  bootstrapped_downward = tmp.groupby(['#t(centisec)'])['ang_pos', 'dist', 'speed_diff', 'acc_diff', 'cc'].mean().reset_index()\n",
      "/var/folders/ng/l4j590g95vl5r33ctw59y6cr0000gn/T/ipykernel_26977/3258036297.py:12: FutureWarning: Indexing with multiple keys (implicitly converted to a tuple of keys) will be deprecated, use a list instead.\n",
      "  bootstrapped_downward = tmp.groupby(['#t(centisec)'])['ang_pos', 'dist', 'speed_diff', 'acc_diff', 'cc'].mean().reset_index()\n",
      "/var/folders/ng/l4j590g95vl5r33ctw59y6cr0000gn/T/ipykernel_26977/3258036297.py:12: FutureWarning: Indexing with multiple keys (implicitly converted to a tuple of keys) will be deprecated, use a list instead.\n",
      "  bootstrapped_downward = tmp.groupby(['#t(centisec)'])['ang_pos', 'dist', 'speed_diff', 'acc_diff', 'cc'].mean().reset_index()\n",
      "/var/folders/ng/l4j590g95vl5r33ctw59y6cr0000gn/T/ipykernel_26977/3258036297.py:12: FutureWarning: Indexing with multiple keys (implicitly converted to a tuple of keys) will be deprecated, use a list instead.\n",
      "  bootstrapped_downward = tmp.groupby(['#t(centisec)'])['ang_pos', 'dist', 'speed_diff', 'acc_diff', 'cc'].mean().reset_index()\n"
     ]
    },
    {
     "name": "stdout",
     "output_type": "stream",
     "text": [
      "740\n"
     ]
    },
    {
     "name": "stderr",
     "output_type": "stream",
     "text": [
      "/var/folders/ng/l4j590g95vl5r33ctw59y6cr0000gn/T/ipykernel_26977/3258036297.py:12: FutureWarning: Indexing with multiple keys (implicitly converted to a tuple of keys) will be deprecated, use a list instead.\n",
      "  bootstrapped_downward = tmp.groupby(['#t(centisec)'])['ang_pos', 'dist', 'speed_diff', 'acc_diff', 'cc'].mean().reset_index()\n",
      "/var/folders/ng/l4j590g95vl5r33ctw59y6cr0000gn/T/ipykernel_26977/3258036297.py:12: FutureWarning: Indexing with multiple keys (implicitly converted to a tuple of keys) will be deprecated, use a list instead.\n",
      "  bootstrapped_downward = tmp.groupby(['#t(centisec)'])['ang_pos', 'dist', 'speed_diff', 'acc_diff', 'cc'].mean().reset_index()\n",
      "/var/folders/ng/l4j590g95vl5r33ctw59y6cr0000gn/T/ipykernel_26977/3258036297.py:12: FutureWarning: Indexing with multiple keys (implicitly converted to a tuple of keys) will be deprecated, use a list instead.\n",
      "  bootstrapped_downward = tmp.groupby(['#t(centisec)'])['ang_pos', 'dist', 'speed_diff', 'acc_diff', 'cc'].mean().reset_index()\n",
      "/var/folders/ng/l4j590g95vl5r33ctw59y6cr0000gn/T/ipykernel_26977/3258036297.py:12: FutureWarning: Indexing with multiple keys (implicitly converted to a tuple of keys) will be deprecated, use a list instead.\n",
      "  bootstrapped_downward = tmp.groupby(['#t(centisec)'])['ang_pos', 'dist', 'speed_diff', 'acc_diff', 'cc'].mean().reset_index()\n",
      "/var/folders/ng/l4j590g95vl5r33ctw59y6cr0000gn/T/ipykernel_26977/3258036297.py:12: FutureWarning: Indexing with multiple keys (implicitly converted to a tuple of keys) will be deprecated, use a list instead.\n",
      "  bootstrapped_downward = tmp.groupby(['#t(centisec)'])['ang_pos', 'dist', 'speed_diff', 'acc_diff', 'cc'].mean().reset_index()\n",
      "/var/folders/ng/l4j590g95vl5r33ctw59y6cr0000gn/T/ipykernel_26977/3258036297.py:12: FutureWarning: Indexing with multiple keys (implicitly converted to a tuple of keys) will be deprecated, use a list instead.\n",
      "  bootstrapped_downward = tmp.groupby(['#t(centisec)'])['ang_pos', 'dist', 'speed_diff', 'acc_diff', 'cc'].mean().reset_index()\n",
      "/var/folders/ng/l4j590g95vl5r33ctw59y6cr0000gn/T/ipykernel_26977/3258036297.py:12: FutureWarning: Indexing with multiple keys (implicitly converted to a tuple of keys) will be deprecated, use a list instead.\n",
      "  bootstrapped_downward = tmp.groupby(['#t(centisec)'])['ang_pos', 'dist', 'speed_diff', 'acc_diff', 'cc'].mean().reset_index()\n",
      "/var/folders/ng/l4j590g95vl5r33ctw59y6cr0000gn/T/ipykernel_26977/3258036297.py:12: FutureWarning: Indexing with multiple keys (implicitly converted to a tuple of keys) will be deprecated, use a list instead.\n",
      "  bootstrapped_downward = tmp.groupby(['#t(centisec)'])['ang_pos', 'dist', 'speed_diff', 'acc_diff', 'cc'].mean().reset_index()\n",
      "/var/folders/ng/l4j590g95vl5r33ctw59y6cr0000gn/T/ipykernel_26977/3258036297.py:12: FutureWarning: Indexing with multiple keys (implicitly converted to a tuple of keys) will be deprecated, use a list instead.\n",
      "  bootstrapped_downward = tmp.groupby(['#t(centisec)'])['ang_pos', 'dist', 'speed_diff', 'acc_diff', 'cc'].mean().reset_index()\n",
      "/var/folders/ng/l4j590g95vl5r33ctw59y6cr0000gn/T/ipykernel_26977/3258036297.py:12: FutureWarning: Indexing with multiple keys (implicitly converted to a tuple of keys) will be deprecated, use a list instead.\n",
      "  bootstrapped_downward = tmp.groupby(['#t(centisec)'])['ang_pos', 'dist', 'speed_diff', 'acc_diff', 'cc'].mean().reset_index()\n"
     ]
    },
    {
     "name": "stdout",
     "output_type": "stream",
     "text": [
      "750\n"
     ]
    },
    {
     "name": "stderr",
     "output_type": "stream",
     "text": [
      "/var/folders/ng/l4j590g95vl5r33ctw59y6cr0000gn/T/ipykernel_26977/3258036297.py:12: FutureWarning: Indexing with multiple keys (implicitly converted to a tuple of keys) will be deprecated, use a list instead.\n",
      "  bootstrapped_downward = tmp.groupby(['#t(centisec)'])['ang_pos', 'dist', 'speed_diff', 'acc_diff', 'cc'].mean().reset_index()\n",
      "/var/folders/ng/l4j590g95vl5r33ctw59y6cr0000gn/T/ipykernel_26977/3258036297.py:12: FutureWarning: Indexing with multiple keys (implicitly converted to a tuple of keys) will be deprecated, use a list instead.\n",
      "  bootstrapped_downward = tmp.groupby(['#t(centisec)'])['ang_pos', 'dist', 'speed_diff', 'acc_diff', 'cc'].mean().reset_index()\n",
      "/var/folders/ng/l4j590g95vl5r33ctw59y6cr0000gn/T/ipykernel_26977/3258036297.py:12: FutureWarning: Indexing with multiple keys (implicitly converted to a tuple of keys) will be deprecated, use a list instead.\n",
      "  bootstrapped_downward = tmp.groupby(['#t(centisec)'])['ang_pos', 'dist', 'speed_diff', 'acc_diff', 'cc'].mean().reset_index()\n",
      "/var/folders/ng/l4j590g95vl5r33ctw59y6cr0000gn/T/ipykernel_26977/3258036297.py:12: FutureWarning: Indexing with multiple keys (implicitly converted to a tuple of keys) will be deprecated, use a list instead.\n",
      "  bootstrapped_downward = tmp.groupby(['#t(centisec)'])['ang_pos', 'dist', 'speed_diff', 'acc_diff', 'cc'].mean().reset_index()\n",
      "/var/folders/ng/l4j590g95vl5r33ctw59y6cr0000gn/T/ipykernel_26977/3258036297.py:12: FutureWarning: Indexing with multiple keys (implicitly converted to a tuple of keys) will be deprecated, use a list instead.\n",
      "  bootstrapped_downward = tmp.groupby(['#t(centisec)'])['ang_pos', 'dist', 'speed_diff', 'acc_diff', 'cc'].mean().reset_index()\n",
      "/var/folders/ng/l4j590g95vl5r33ctw59y6cr0000gn/T/ipykernel_26977/3258036297.py:12: FutureWarning: Indexing with multiple keys (implicitly converted to a tuple of keys) will be deprecated, use a list instead.\n",
      "  bootstrapped_downward = tmp.groupby(['#t(centisec)'])['ang_pos', 'dist', 'speed_diff', 'acc_diff', 'cc'].mean().reset_index()\n",
      "/var/folders/ng/l4j590g95vl5r33ctw59y6cr0000gn/T/ipykernel_26977/3258036297.py:12: FutureWarning: Indexing with multiple keys (implicitly converted to a tuple of keys) will be deprecated, use a list instead.\n",
      "  bootstrapped_downward = tmp.groupby(['#t(centisec)'])['ang_pos', 'dist', 'speed_diff', 'acc_diff', 'cc'].mean().reset_index()\n",
      "/var/folders/ng/l4j590g95vl5r33ctw59y6cr0000gn/T/ipykernel_26977/3258036297.py:12: FutureWarning: Indexing with multiple keys (implicitly converted to a tuple of keys) will be deprecated, use a list instead.\n",
      "  bootstrapped_downward = tmp.groupby(['#t(centisec)'])['ang_pos', 'dist', 'speed_diff', 'acc_diff', 'cc'].mean().reset_index()\n",
      "/var/folders/ng/l4j590g95vl5r33ctw59y6cr0000gn/T/ipykernel_26977/3258036297.py:12: FutureWarning: Indexing with multiple keys (implicitly converted to a tuple of keys) will be deprecated, use a list instead.\n",
      "  bootstrapped_downward = tmp.groupby(['#t(centisec)'])['ang_pos', 'dist', 'speed_diff', 'acc_diff', 'cc'].mean().reset_index()\n",
      "/var/folders/ng/l4j590g95vl5r33ctw59y6cr0000gn/T/ipykernel_26977/3258036297.py:12: FutureWarning: Indexing with multiple keys (implicitly converted to a tuple of keys) will be deprecated, use a list instead.\n",
      "  bootstrapped_downward = tmp.groupby(['#t(centisec)'])['ang_pos', 'dist', 'speed_diff', 'acc_diff', 'cc'].mean().reset_index()\n"
     ]
    },
    {
     "name": "stdout",
     "output_type": "stream",
     "text": [
      "760\n"
     ]
    },
    {
     "name": "stderr",
     "output_type": "stream",
     "text": [
      "/var/folders/ng/l4j590g95vl5r33ctw59y6cr0000gn/T/ipykernel_26977/3258036297.py:12: FutureWarning: Indexing with multiple keys (implicitly converted to a tuple of keys) will be deprecated, use a list instead.\n",
      "  bootstrapped_downward = tmp.groupby(['#t(centisec)'])['ang_pos', 'dist', 'speed_diff', 'acc_diff', 'cc'].mean().reset_index()\n",
      "/var/folders/ng/l4j590g95vl5r33ctw59y6cr0000gn/T/ipykernel_26977/3258036297.py:12: FutureWarning: Indexing with multiple keys (implicitly converted to a tuple of keys) will be deprecated, use a list instead.\n",
      "  bootstrapped_downward = tmp.groupby(['#t(centisec)'])['ang_pos', 'dist', 'speed_diff', 'acc_diff', 'cc'].mean().reset_index()\n",
      "/var/folders/ng/l4j590g95vl5r33ctw59y6cr0000gn/T/ipykernel_26977/3258036297.py:12: FutureWarning: Indexing with multiple keys (implicitly converted to a tuple of keys) will be deprecated, use a list instead.\n",
      "  bootstrapped_downward = tmp.groupby(['#t(centisec)'])['ang_pos', 'dist', 'speed_diff', 'acc_diff', 'cc'].mean().reset_index()\n",
      "/var/folders/ng/l4j590g95vl5r33ctw59y6cr0000gn/T/ipykernel_26977/3258036297.py:12: FutureWarning: Indexing with multiple keys (implicitly converted to a tuple of keys) will be deprecated, use a list instead.\n",
      "  bootstrapped_downward = tmp.groupby(['#t(centisec)'])['ang_pos', 'dist', 'speed_diff', 'acc_diff', 'cc'].mean().reset_index()\n",
      "/var/folders/ng/l4j590g95vl5r33ctw59y6cr0000gn/T/ipykernel_26977/3258036297.py:12: FutureWarning: Indexing with multiple keys (implicitly converted to a tuple of keys) will be deprecated, use a list instead.\n",
      "  bootstrapped_downward = tmp.groupby(['#t(centisec)'])['ang_pos', 'dist', 'speed_diff', 'acc_diff', 'cc'].mean().reset_index()\n",
      "/var/folders/ng/l4j590g95vl5r33ctw59y6cr0000gn/T/ipykernel_26977/3258036297.py:12: FutureWarning: Indexing with multiple keys (implicitly converted to a tuple of keys) will be deprecated, use a list instead.\n",
      "  bootstrapped_downward = tmp.groupby(['#t(centisec)'])['ang_pos', 'dist', 'speed_diff', 'acc_diff', 'cc'].mean().reset_index()\n",
      "/var/folders/ng/l4j590g95vl5r33ctw59y6cr0000gn/T/ipykernel_26977/3258036297.py:12: FutureWarning: Indexing with multiple keys (implicitly converted to a tuple of keys) will be deprecated, use a list instead.\n",
      "  bootstrapped_downward = tmp.groupby(['#t(centisec)'])['ang_pos', 'dist', 'speed_diff', 'acc_diff', 'cc'].mean().reset_index()\n",
      "/var/folders/ng/l4j590g95vl5r33ctw59y6cr0000gn/T/ipykernel_26977/3258036297.py:12: FutureWarning: Indexing with multiple keys (implicitly converted to a tuple of keys) will be deprecated, use a list instead.\n",
      "  bootstrapped_downward = tmp.groupby(['#t(centisec)'])['ang_pos', 'dist', 'speed_diff', 'acc_diff', 'cc'].mean().reset_index()\n",
      "/var/folders/ng/l4j590g95vl5r33ctw59y6cr0000gn/T/ipykernel_26977/3258036297.py:12: FutureWarning: Indexing with multiple keys (implicitly converted to a tuple of keys) will be deprecated, use a list instead.\n",
      "  bootstrapped_downward = tmp.groupby(['#t(centisec)'])['ang_pos', 'dist', 'speed_diff', 'acc_diff', 'cc'].mean().reset_index()\n",
      "/var/folders/ng/l4j590g95vl5r33ctw59y6cr0000gn/T/ipykernel_26977/3258036297.py:12: FutureWarning: Indexing with multiple keys (implicitly converted to a tuple of keys) will be deprecated, use a list instead.\n",
      "  bootstrapped_downward = tmp.groupby(['#t(centisec)'])['ang_pos', 'dist', 'speed_diff', 'acc_diff', 'cc'].mean().reset_index()\n"
     ]
    },
    {
     "name": "stdout",
     "output_type": "stream",
     "text": [
      "770\n"
     ]
    },
    {
     "name": "stderr",
     "output_type": "stream",
     "text": [
      "/var/folders/ng/l4j590g95vl5r33ctw59y6cr0000gn/T/ipykernel_26977/3258036297.py:12: FutureWarning: Indexing with multiple keys (implicitly converted to a tuple of keys) will be deprecated, use a list instead.\n",
      "  bootstrapped_downward = tmp.groupby(['#t(centisec)'])['ang_pos', 'dist', 'speed_diff', 'acc_diff', 'cc'].mean().reset_index()\n",
      "/var/folders/ng/l4j590g95vl5r33ctw59y6cr0000gn/T/ipykernel_26977/3258036297.py:12: FutureWarning: Indexing with multiple keys (implicitly converted to a tuple of keys) will be deprecated, use a list instead.\n",
      "  bootstrapped_downward = tmp.groupby(['#t(centisec)'])['ang_pos', 'dist', 'speed_diff', 'acc_diff', 'cc'].mean().reset_index()\n",
      "/var/folders/ng/l4j590g95vl5r33ctw59y6cr0000gn/T/ipykernel_26977/3258036297.py:12: FutureWarning: Indexing with multiple keys (implicitly converted to a tuple of keys) will be deprecated, use a list instead.\n",
      "  bootstrapped_downward = tmp.groupby(['#t(centisec)'])['ang_pos', 'dist', 'speed_diff', 'acc_diff', 'cc'].mean().reset_index()\n",
      "/var/folders/ng/l4j590g95vl5r33ctw59y6cr0000gn/T/ipykernel_26977/3258036297.py:12: FutureWarning: Indexing with multiple keys (implicitly converted to a tuple of keys) will be deprecated, use a list instead.\n",
      "  bootstrapped_downward = tmp.groupby(['#t(centisec)'])['ang_pos', 'dist', 'speed_diff', 'acc_diff', 'cc'].mean().reset_index()\n",
      "/var/folders/ng/l4j590g95vl5r33ctw59y6cr0000gn/T/ipykernel_26977/3258036297.py:12: FutureWarning: Indexing with multiple keys (implicitly converted to a tuple of keys) will be deprecated, use a list instead.\n",
      "  bootstrapped_downward = tmp.groupby(['#t(centisec)'])['ang_pos', 'dist', 'speed_diff', 'acc_diff', 'cc'].mean().reset_index()\n",
      "/var/folders/ng/l4j590g95vl5r33ctw59y6cr0000gn/T/ipykernel_26977/3258036297.py:12: FutureWarning: Indexing with multiple keys (implicitly converted to a tuple of keys) will be deprecated, use a list instead.\n",
      "  bootstrapped_downward = tmp.groupby(['#t(centisec)'])['ang_pos', 'dist', 'speed_diff', 'acc_diff', 'cc'].mean().reset_index()\n",
      "/var/folders/ng/l4j590g95vl5r33ctw59y6cr0000gn/T/ipykernel_26977/3258036297.py:12: FutureWarning: Indexing with multiple keys (implicitly converted to a tuple of keys) will be deprecated, use a list instead.\n",
      "  bootstrapped_downward = tmp.groupby(['#t(centisec)'])['ang_pos', 'dist', 'speed_diff', 'acc_diff', 'cc'].mean().reset_index()\n",
      "/var/folders/ng/l4j590g95vl5r33ctw59y6cr0000gn/T/ipykernel_26977/3258036297.py:12: FutureWarning: Indexing with multiple keys (implicitly converted to a tuple of keys) will be deprecated, use a list instead.\n",
      "  bootstrapped_downward = tmp.groupby(['#t(centisec)'])['ang_pos', 'dist', 'speed_diff', 'acc_diff', 'cc'].mean().reset_index()\n",
      "/var/folders/ng/l4j590g95vl5r33ctw59y6cr0000gn/T/ipykernel_26977/3258036297.py:12: FutureWarning: Indexing with multiple keys (implicitly converted to a tuple of keys) will be deprecated, use a list instead.\n",
      "  bootstrapped_downward = tmp.groupby(['#t(centisec)'])['ang_pos', 'dist', 'speed_diff', 'acc_diff', 'cc'].mean().reset_index()\n",
      "/var/folders/ng/l4j590g95vl5r33ctw59y6cr0000gn/T/ipykernel_26977/3258036297.py:12: FutureWarning: Indexing with multiple keys (implicitly converted to a tuple of keys) will be deprecated, use a list instead.\n",
      "  bootstrapped_downward = tmp.groupby(['#t(centisec)'])['ang_pos', 'dist', 'speed_diff', 'acc_diff', 'cc'].mean().reset_index()\n"
     ]
    },
    {
     "name": "stdout",
     "output_type": "stream",
     "text": [
      "780\n"
     ]
    },
    {
     "name": "stderr",
     "output_type": "stream",
     "text": [
      "/var/folders/ng/l4j590g95vl5r33ctw59y6cr0000gn/T/ipykernel_26977/3258036297.py:12: FutureWarning: Indexing with multiple keys (implicitly converted to a tuple of keys) will be deprecated, use a list instead.\n",
      "  bootstrapped_downward = tmp.groupby(['#t(centisec)'])['ang_pos', 'dist', 'speed_diff', 'acc_diff', 'cc'].mean().reset_index()\n",
      "/var/folders/ng/l4j590g95vl5r33ctw59y6cr0000gn/T/ipykernel_26977/3258036297.py:12: FutureWarning: Indexing with multiple keys (implicitly converted to a tuple of keys) will be deprecated, use a list instead.\n",
      "  bootstrapped_downward = tmp.groupby(['#t(centisec)'])['ang_pos', 'dist', 'speed_diff', 'acc_diff', 'cc'].mean().reset_index()\n",
      "/var/folders/ng/l4j590g95vl5r33ctw59y6cr0000gn/T/ipykernel_26977/3258036297.py:12: FutureWarning: Indexing with multiple keys (implicitly converted to a tuple of keys) will be deprecated, use a list instead.\n",
      "  bootstrapped_downward = tmp.groupby(['#t(centisec)'])['ang_pos', 'dist', 'speed_diff', 'acc_diff', 'cc'].mean().reset_index()\n",
      "/var/folders/ng/l4j590g95vl5r33ctw59y6cr0000gn/T/ipykernel_26977/3258036297.py:12: FutureWarning: Indexing with multiple keys (implicitly converted to a tuple of keys) will be deprecated, use a list instead.\n",
      "  bootstrapped_downward = tmp.groupby(['#t(centisec)'])['ang_pos', 'dist', 'speed_diff', 'acc_diff', 'cc'].mean().reset_index()\n",
      "/var/folders/ng/l4j590g95vl5r33ctw59y6cr0000gn/T/ipykernel_26977/3258036297.py:12: FutureWarning: Indexing with multiple keys (implicitly converted to a tuple of keys) will be deprecated, use a list instead.\n",
      "  bootstrapped_downward = tmp.groupby(['#t(centisec)'])['ang_pos', 'dist', 'speed_diff', 'acc_diff', 'cc'].mean().reset_index()\n",
      "/var/folders/ng/l4j590g95vl5r33ctw59y6cr0000gn/T/ipykernel_26977/3258036297.py:12: FutureWarning: Indexing with multiple keys (implicitly converted to a tuple of keys) will be deprecated, use a list instead.\n",
      "  bootstrapped_downward = tmp.groupby(['#t(centisec)'])['ang_pos', 'dist', 'speed_diff', 'acc_diff', 'cc'].mean().reset_index()\n",
      "/var/folders/ng/l4j590g95vl5r33ctw59y6cr0000gn/T/ipykernel_26977/3258036297.py:12: FutureWarning: Indexing with multiple keys (implicitly converted to a tuple of keys) will be deprecated, use a list instead.\n",
      "  bootstrapped_downward = tmp.groupby(['#t(centisec)'])['ang_pos', 'dist', 'speed_diff', 'acc_diff', 'cc'].mean().reset_index()\n",
      "/var/folders/ng/l4j590g95vl5r33ctw59y6cr0000gn/T/ipykernel_26977/3258036297.py:12: FutureWarning: Indexing with multiple keys (implicitly converted to a tuple of keys) will be deprecated, use a list instead.\n",
      "  bootstrapped_downward = tmp.groupby(['#t(centisec)'])['ang_pos', 'dist', 'speed_diff', 'acc_diff', 'cc'].mean().reset_index()\n",
      "/var/folders/ng/l4j590g95vl5r33ctw59y6cr0000gn/T/ipykernel_26977/3258036297.py:12: FutureWarning: Indexing with multiple keys (implicitly converted to a tuple of keys) will be deprecated, use a list instead.\n",
      "  bootstrapped_downward = tmp.groupby(['#t(centisec)'])['ang_pos', 'dist', 'speed_diff', 'acc_diff', 'cc'].mean().reset_index()\n",
      "/var/folders/ng/l4j590g95vl5r33ctw59y6cr0000gn/T/ipykernel_26977/3258036297.py:12: FutureWarning: Indexing with multiple keys (implicitly converted to a tuple of keys) will be deprecated, use a list instead.\n",
      "  bootstrapped_downward = tmp.groupby(['#t(centisec)'])['ang_pos', 'dist', 'speed_diff', 'acc_diff', 'cc'].mean().reset_index()\n"
     ]
    },
    {
     "name": "stdout",
     "output_type": "stream",
     "text": [
      "790\n"
     ]
    },
    {
     "name": "stderr",
     "output_type": "stream",
     "text": [
      "/var/folders/ng/l4j590g95vl5r33ctw59y6cr0000gn/T/ipykernel_26977/3258036297.py:12: FutureWarning: Indexing with multiple keys (implicitly converted to a tuple of keys) will be deprecated, use a list instead.\n",
      "  bootstrapped_downward = tmp.groupby(['#t(centisec)'])['ang_pos', 'dist', 'speed_diff', 'acc_diff', 'cc'].mean().reset_index()\n",
      "/var/folders/ng/l4j590g95vl5r33ctw59y6cr0000gn/T/ipykernel_26977/3258036297.py:12: FutureWarning: Indexing with multiple keys (implicitly converted to a tuple of keys) will be deprecated, use a list instead.\n",
      "  bootstrapped_downward = tmp.groupby(['#t(centisec)'])['ang_pos', 'dist', 'speed_diff', 'acc_diff', 'cc'].mean().reset_index()\n",
      "/var/folders/ng/l4j590g95vl5r33ctw59y6cr0000gn/T/ipykernel_26977/3258036297.py:12: FutureWarning: Indexing with multiple keys (implicitly converted to a tuple of keys) will be deprecated, use a list instead.\n",
      "  bootstrapped_downward = tmp.groupby(['#t(centisec)'])['ang_pos', 'dist', 'speed_diff', 'acc_diff', 'cc'].mean().reset_index()\n",
      "/var/folders/ng/l4j590g95vl5r33ctw59y6cr0000gn/T/ipykernel_26977/3258036297.py:12: FutureWarning: Indexing with multiple keys (implicitly converted to a tuple of keys) will be deprecated, use a list instead.\n",
      "  bootstrapped_downward = tmp.groupby(['#t(centisec)'])['ang_pos', 'dist', 'speed_diff', 'acc_diff', 'cc'].mean().reset_index()\n",
      "/var/folders/ng/l4j590g95vl5r33ctw59y6cr0000gn/T/ipykernel_26977/3258036297.py:12: FutureWarning: Indexing with multiple keys (implicitly converted to a tuple of keys) will be deprecated, use a list instead.\n",
      "  bootstrapped_downward = tmp.groupby(['#t(centisec)'])['ang_pos', 'dist', 'speed_diff', 'acc_diff', 'cc'].mean().reset_index()\n",
      "/var/folders/ng/l4j590g95vl5r33ctw59y6cr0000gn/T/ipykernel_26977/3258036297.py:12: FutureWarning: Indexing with multiple keys (implicitly converted to a tuple of keys) will be deprecated, use a list instead.\n",
      "  bootstrapped_downward = tmp.groupby(['#t(centisec)'])['ang_pos', 'dist', 'speed_diff', 'acc_diff', 'cc'].mean().reset_index()\n",
      "/var/folders/ng/l4j590g95vl5r33ctw59y6cr0000gn/T/ipykernel_26977/3258036297.py:12: FutureWarning: Indexing with multiple keys (implicitly converted to a tuple of keys) will be deprecated, use a list instead.\n",
      "  bootstrapped_downward = tmp.groupby(['#t(centisec)'])['ang_pos', 'dist', 'speed_diff', 'acc_diff', 'cc'].mean().reset_index()\n",
      "/var/folders/ng/l4j590g95vl5r33ctw59y6cr0000gn/T/ipykernel_26977/3258036297.py:12: FutureWarning: Indexing with multiple keys (implicitly converted to a tuple of keys) will be deprecated, use a list instead.\n",
      "  bootstrapped_downward = tmp.groupby(['#t(centisec)'])['ang_pos', 'dist', 'speed_diff', 'acc_diff', 'cc'].mean().reset_index()\n",
      "/var/folders/ng/l4j590g95vl5r33ctw59y6cr0000gn/T/ipykernel_26977/3258036297.py:12: FutureWarning: Indexing with multiple keys (implicitly converted to a tuple of keys) will be deprecated, use a list instead.\n",
      "  bootstrapped_downward = tmp.groupby(['#t(centisec)'])['ang_pos', 'dist', 'speed_diff', 'acc_diff', 'cc'].mean().reset_index()\n",
      "/var/folders/ng/l4j590g95vl5r33ctw59y6cr0000gn/T/ipykernel_26977/3258036297.py:12: FutureWarning: Indexing with multiple keys (implicitly converted to a tuple of keys) will be deprecated, use a list instead.\n",
      "  bootstrapped_downward = tmp.groupby(['#t(centisec)'])['ang_pos', 'dist', 'speed_diff', 'acc_diff', 'cc'].mean().reset_index()\n"
     ]
    },
    {
     "name": "stdout",
     "output_type": "stream",
     "text": [
      "800\n"
     ]
    },
    {
     "name": "stderr",
     "output_type": "stream",
     "text": [
      "/var/folders/ng/l4j590g95vl5r33ctw59y6cr0000gn/T/ipykernel_26977/3258036297.py:12: FutureWarning: Indexing with multiple keys (implicitly converted to a tuple of keys) will be deprecated, use a list instead.\n",
      "  bootstrapped_downward = tmp.groupby(['#t(centisec)'])['ang_pos', 'dist', 'speed_diff', 'acc_diff', 'cc'].mean().reset_index()\n",
      "/var/folders/ng/l4j590g95vl5r33ctw59y6cr0000gn/T/ipykernel_26977/3258036297.py:12: FutureWarning: Indexing with multiple keys (implicitly converted to a tuple of keys) will be deprecated, use a list instead.\n",
      "  bootstrapped_downward = tmp.groupby(['#t(centisec)'])['ang_pos', 'dist', 'speed_diff', 'acc_diff', 'cc'].mean().reset_index()\n",
      "/var/folders/ng/l4j590g95vl5r33ctw59y6cr0000gn/T/ipykernel_26977/3258036297.py:12: FutureWarning: Indexing with multiple keys (implicitly converted to a tuple of keys) will be deprecated, use a list instead.\n",
      "  bootstrapped_downward = tmp.groupby(['#t(centisec)'])['ang_pos', 'dist', 'speed_diff', 'acc_diff', 'cc'].mean().reset_index()\n",
      "/var/folders/ng/l4j590g95vl5r33ctw59y6cr0000gn/T/ipykernel_26977/3258036297.py:12: FutureWarning: Indexing with multiple keys (implicitly converted to a tuple of keys) will be deprecated, use a list instead.\n",
      "  bootstrapped_downward = tmp.groupby(['#t(centisec)'])['ang_pos', 'dist', 'speed_diff', 'acc_diff', 'cc'].mean().reset_index()\n",
      "/var/folders/ng/l4j590g95vl5r33ctw59y6cr0000gn/T/ipykernel_26977/3258036297.py:12: FutureWarning: Indexing with multiple keys (implicitly converted to a tuple of keys) will be deprecated, use a list instead.\n",
      "  bootstrapped_downward = tmp.groupby(['#t(centisec)'])['ang_pos', 'dist', 'speed_diff', 'acc_diff', 'cc'].mean().reset_index()\n",
      "/var/folders/ng/l4j590g95vl5r33ctw59y6cr0000gn/T/ipykernel_26977/3258036297.py:12: FutureWarning: Indexing with multiple keys (implicitly converted to a tuple of keys) will be deprecated, use a list instead.\n",
      "  bootstrapped_downward = tmp.groupby(['#t(centisec)'])['ang_pos', 'dist', 'speed_diff', 'acc_diff', 'cc'].mean().reset_index()\n",
      "/var/folders/ng/l4j590g95vl5r33ctw59y6cr0000gn/T/ipykernel_26977/3258036297.py:12: FutureWarning: Indexing with multiple keys (implicitly converted to a tuple of keys) will be deprecated, use a list instead.\n",
      "  bootstrapped_downward = tmp.groupby(['#t(centisec)'])['ang_pos', 'dist', 'speed_diff', 'acc_diff', 'cc'].mean().reset_index()\n",
      "/var/folders/ng/l4j590g95vl5r33ctw59y6cr0000gn/T/ipykernel_26977/3258036297.py:12: FutureWarning: Indexing with multiple keys (implicitly converted to a tuple of keys) will be deprecated, use a list instead.\n",
      "  bootstrapped_downward = tmp.groupby(['#t(centisec)'])['ang_pos', 'dist', 'speed_diff', 'acc_diff', 'cc'].mean().reset_index()\n",
      "/var/folders/ng/l4j590g95vl5r33ctw59y6cr0000gn/T/ipykernel_26977/3258036297.py:12: FutureWarning: Indexing with multiple keys (implicitly converted to a tuple of keys) will be deprecated, use a list instead.\n",
      "  bootstrapped_downward = tmp.groupby(['#t(centisec)'])['ang_pos', 'dist', 'speed_diff', 'acc_diff', 'cc'].mean().reset_index()\n",
      "/var/folders/ng/l4j590g95vl5r33ctw59y6cr0000gn/T/ipykernel_26977/3258036297.py:12: FutureWarning: Indexing with multiple keys (implicitly converted to a tuple of keys) will be deprecated, use a list instead.\n",
      "  bootstrapped_downward = tmp.groupby(['#t(centisec)'])['ang_pos', 'dist', 'speed_diff', 'acc_diff', 'cc'].mean().reset_index()\n"
     ]
    },
    {
     "name": "stdout",
     "output_type": "stream",
     "text": [
      "810\n"
     ]
    },
    {
     "name": "stderr",
     "output_type": "stream",
     "text": [
      "/var/folders/ng/l4j590g95vl5r33ctw59y6cr0000gn/T/ipykernel_26977/3258036297.py:12: FutureWarning: Indexing with multiple keys (implicitly converted to a tuple of keys) will be deprecated, use a list instead.\n",
      "  bootstrapped_downward = tmp.groupby(['#t(centisec)'])['ang_pos', 'dist', 'speed_diff', 'acc_diff', 'cc'].mean().reset_index()\n",
      "/var/folders/ng/l4j590g95vl5r33ctw59y6cr0000gn/T/ipykernel_26977/3258036297.py:12: FutureWarning: Indexing with multiple keys (implicitly converted to a tuple of keys) will be deprecated, use a list instead.\n",
      "  bootstrapped_downward = tmp.groupby(['#t(centisec)'])['ang_pos', 'dist', 'speed_diff', 'acc_diff', 'cc'].mean().reset_index()\n",
      "/var/folders/ng/l4j590g95vl5r33ctw59y6cr0000gn/T/ipykernel_26977/3258036297.py:12: FutureWarning: Indexing with multiple keys (implicitly converted to a tuple of keys) will be deprecated, use a list instead.\n",
      "  bootstrapped_downward = tmp.groupby(['#t(centisec)'])['ang_pos', 'dist', 'speed_diff', 'acc_diff', 'cc'].mean().reset_index()\n",
      "/var/folders/ng/l4j590g95vl5r33ctw59y6cr0000gn/T/ipykernel_26977/3258036297.py:12: FutureWarning: Indexing with multiple keys (implicitly converted to a tuple of keys) will be deprecated, use a list instead.\n",
      "  bootstrapped_downward = tmp.groupby(['#t(centisec)'])['ang_pos', 'dist', 'speed_diff', 'acc_diff', 'cc'].mean().reset_index()\n",
      "/var/folders/ng/l4j590g95vl5r33ctw59y6cr0000gn/T/ipykernel_26977/3258036297.py:12: FutureWarning: Indexing with multiple keys (implicitly converted to a tuple of keys) will be deprecated, use a list instead.\n",
      "  bootstrapped_downward = tmp.groupby(['#t(centisec)'])['ang_pos', 'dist', 'speed_diff', 'acc_diff', 'cc'].mean().reset_index()\n",
      "/var/folders/ng/l4j590g95vl5r33ctw59y6cr0000gn/T/ipykernel_26977/3258036297.py:12: FutureWarning: Indexing with multiple keys (implicitly converted to a tuple of keys) will be deprecated, use a list instead.\n",
      "  bootstrapped_downward = tmp.groupby(['#t(centisec)'])['ang_pos', 'dist', 'speed_diff', 'acc_diff', 'cc'].mean().reset_index()\n",
      "/var/folders/ng/l4j590g95vl5r33ctw59y6cr0000gn/T/ipykernel_26977/3258036297.py:12: FutureWarning: Indexing with multiple keys (implicitly converted to a tuple of keys) will be deprecated, use a list instead.\n",
      "  bootstrapped_downward = tmp.groupby(['#t(centisec)'])['ang_pos', 'dist', 'speed_diff', 'acc_diff', 'cc'].mean().reset_index()\n",
      "/var/folders/ng/l4j590g95vl5r33ctw59y6cr0000gn/T/ipykernel_26977/3258036297.py:12: FutureWarning: Indexing with multiple keys (implicitly converted to a tuple of keys) will be deprecated, use a list instead.\n",
      "  bootstrapped_downward = tmp.groupby(['#t(centisec)'])['ang_pos', 'dist', 'speed_diff', 'acc_diff', 'cc'].mean().reset_index()\n",
      "/var/folders/ng/l4j590g95vl5r33ctw59y6cr0000gn/T/ipykernel_26977/3258036297.py:12: FutureWarning: Indexing with multiple keys (implicitly converted to a tuple of keys) will be deprecated, use a list instead.\n",
      "  bootstrapped_downward = tmp.groupby(['#t(centisec)'])['ang_pos', 'dist', 'speed_diff', 'acc_diff', 'cc'].mean().reset_index()\n",
      "/var/folders/ng/l4j590g95vl5r33ctw59y6cr0000gn/T/ipykernel_26977/3258036297.py:12: FutureWarning: Indexing with multiple keys (implicitly converted to a tuple of keys) will be deprecated, use a list instead.\n",
      "  bootstrapped_downward = tmp.groupby(['#t(centisec)'])['ang_pos', 'dist', 'speed_diff', 'acc_diff', 'cc'].mean().reset_index()\n"
     ]
    },
    {
     "name": "stdout",
     "output_type": "stream",
     "text": [
      "820\n"
     ]
    },
    {
     "name": "stderr",
     "output_type": "stream",
     "text": [
      "/var/folders/ng/l4j590g95vl5r33ctw59y6cr0000gn/T/ipykernel_26977/3258036297.py:12: FutureWarning: Indexing with multiple keys (implicitly converted to a tuple of keys) will be deprecated, use a list instead.\n",
      "  bootstrapped_downward = tmp.groupby(['#t(centisec)'])['ang_pos', 'dist', 'speed_diff', 'acc_diff', 'cc'].mean().reset_index()\n",
      "/var/folders/ng/l4j590g95vl5r33ctw59y6cr0000gn/T/ipykernel_26977/3258036297.py:12: FutureWarning: Indexing with multiple keys (implicitly converted to a tuple of keys) will be deprecated, use a list instead.\n",
      "  bootstrapped_downward = tmp.groupby(['#t(centisec)'])['ang_pos', 'dist', 'speed_diff', 'acc_diff', 'cc'].mean().reset_index()\n",
      "/var/folders/ng/l4j590g95vl5r33ctw59y6cr0000gn/T/ipykernel_26977/3258036297.py:12: FutureWarning: Indexing with multiple keys (implicitly converted to a tuple of keys) will be deprecated, use a list instead.\n",
      "  bootstrapped_downward = tmp.groupby(['#t(centisec)'])['ang_pos', 'dist', 'speed_diff', 'acc_diff', 'cc'].mean().reset_index()\n",
      "/var/folders/ng/l4j590g95vl5r33ctw59y6cr0000gn/T/ipykernel_26977/3258036297.py:12: FutureWarning: Indexing with multiple keys (implicitly converted to a tuple of keys) will be deprecated, use a list instead.\n",
      "  bootstrapped_downward = tmp.groupby(['#t(centisec)'])['ang_pos', 'dist', 'speed_diff', 'acc_diff', 'cc'].mean().reset_index()\n",
      "/var/folders/ng/l4j590g95vl5r33ctw59y6cr0000gn/T/ipykernel_26977/3258036297.py:12: FutureWarning: Indexing with multiple keys (implicitly converted to a tuple of keys) will be deprecated, use a list instead.\n",
      "  bootstrapped_downward = tmp.groupby(['#t(centisec)'])['ang_pos', 'dist', 'speed_diff', 'acc_diff', 'cc'].mean().reset_index()\n",
      "/var/folders/ng/l4j590g95vl5r33ctw59y6cr0000gn/T/ipykernel_26977/3258036297.py:12: FutureWarning: Indexing with multiple keys (implicitly converted to a tuple of keys) will be deprecated, use a list instead.\n",
      "  bootstrapped_downward = tmp.groupby(['#t(centisec)'])['ang_pos', 'dist', 'speed_diff', 'acc_diff', 'cc'].mean().reset_index()\n",
      "/var/folders/ng/l4j590g95vl5r33ctw59y6cr0000gn/T/ipykernel_26977/3258036297.py:12: FutureWarning: Indexing with multiple keys (implicitly converted to a tuple of keys) will be deprecated, use a list instead.\n",
      "  bootstrapped_downward = tmp.groupby(['#t(centisec)'])['ang_pos', 'dist', 'speed_diff', 'acc_diff', 'cc'].mean().reset_index()\n",
      "/var/folders/ng/l4j590g95vl5r33ctw59y6cr0000gn/T/ipykernel_26977/3258036297.py:12: FutureWarning: Indexing with multiple keys (implicitly converted to a tuple of keys) will be deprecated, use a list instead.\n",
      "  bootstrapped_downward = tmp.groupby(['#t(centisec)'])['ang_pos', 'dist', 'speed_diff', 'acc_diff', 'cc'].mean().reset_index()\n",
      "/var/folders/ng/l4j590g95vl5r33ctw59y6cr0000gn/T/ipykernel_26977/3258036297.py:12: FutureWarning: Indexing with multiple keys (implicitly converted to a tuple of keys) will be deprecated, use a list instead.\n",
      "  bootstrapped_downward = tmp.groupby(['#t(centisec)'])['ang_pos', 'dist', 'speed_diff', 'acc_diff', 'cc'].mean().reset_index()\n",
      "/var/folders/ng/l4j590g95vl5r33ctw59y6cr0000gn/T/ipykernel_26977/3258036297.py:12: FutureWarning: Indexing with multiple keys (implicitly converted to a tuple of keys) will be deprecated, use a list instead.\n",
      "  bootstrapped_downward = tmp.groupby(['#t(centisec)'])['ang_pos', 'dist', 'speed_diff', 'acc_diff', 'cc'].mean().reset_index()\n"
     ]
    },
    {
     "name": "stdout",
     "output_type": "stream",
     "text": [
      "830\n"
     ]
    },
    {
     "name": "stderr",
     "output_type": "stream",
     "text": [
      "/var/folders/ng/l4j590g95vl5r33ctw59y6cr0000gn/T/ipykernel_26977/3258036297.py:12: FutureWarning: Indexing with multiple keys (implicitly converted to a tuple of keys) will be deprecated, use a list instead.\n",
      "  bootstrapped_downward = tmp.groupby(['#t(centisec)'])['ang_pos', 'dist', 'speed_diff', 'acc_diff', 'cc'].mean().reset_index()\n",
      "/var/folders/ng/l4j590g95vl5r33ctw59y6cr0000gn/T/ipykernel_26977/3258036297.py:12: FutureWarning: Indexing with multiple keys (implicitly converted to a tuple of keys) will be deprecated, use a list instead.\n",
      "  bootstrapped_downward = tmp.groupby(['#t(centisec)'])['ang_pos', 'dist', 'speed_diff', 'acc_diff', 'cc'].mean().reset_index()\n",
      "/var/folders/ng/l4j590g95vl5r33ctw59y6cr0000gn/T/ipykernel_26977/3258036297.py:12: FutureWarning: Indexing with multiple keys (implicitly converted to a tuple of keys) will be deprecated, use a list instead.\n",
      "  bootstrapped_downward = tmp.groupby(['#t(centisec)'])['ang_pos', 'dist', 'speed_diff', 'acc_diff', 'cc'].mean().reset_index()\n",
      "/var/folders/ng/l4j590g95vl5r33ctw59y6cr0000gn/T/ipykernel_26977/3258036297.py:12: FutureWarning: Indexing with multiple keys (implicitly converted to a tuple of keys) will be deprecated, use a list instead.\n",
      "  bootstrapped_downward = tmp.groupby(['#t(centisec)'])['ang_pos', 'dist', 'speed_diff', 'acc_diff', 'cc'].mean().reset_index()\n",
      "/var/folders/ng/l4j590g95vl5r33ctw59y6cr0000gn/T/ipykernel_26977/3258036297.py:12: FutureWarning: Indexing with multiple keys (implicitly converted to a tuple of keys) will be deprecated, use a list instead.\n",
      "  bootstrapped_downward = tmp.groupby(['#t(centisec)'])['ang_pos', 'dist', 'speed_diff', 'acc_diff', 'cc'].mean().reset_index()\n",
      "/var/folders/ng/l4j590g95vl5r33ctw59y6cr0000gn/T/ipykernel_26977/3258036297.py:12: FutureWarning: Indexing with multiple keys (implicitly converted to a tuple of keys) will be deprecated, use a list instead.\n",
      "  bootstrapped_downward = tmp.groupby(['#t(centisec)'])['ang_pos', 'dist', 'speed_diff', 'acc_diff', 'cc'].mean().reset_index()\n",
      "/var/folders/ng/l4j590g95vl5r33ctw59y6cr0000gn/T/ipykernel_26977/3258036297.py:12: FutureWarning: Indexing with multiple keys (implicitly converted to a tuple of keys) will be deprecated, use a list instead.\n",
      "  bootstrapped_downward = tmp.groupby(['#t(centisec)'])['ang_pos', 'dist', 'speed_diff', 'acc_diff', 'cc'].mean().reset_index()\n",
      "/var/folders/ng/l4j590g95vl5r33ctw59y6cr0000gn/T/ipykernel_26977/3258036297.py:12: FutureWarning: Indexing with multiple keys (implicitly converted to a tuple of keys) will be deprecated, use a list instead.\n",
      "  bootstrapped_downward = tmp.groupby(['#t(centisec)'])['ang_pos', 'dist', 'speed_diff', 'acc_diff', 'cc'].mean().reset_index()\n",
      "/var/folders/ng/l4j590g95vl5r33ctw59y6cr0000gn/T/ipykernel_26977/3258036297.py:12: FutureWarning: Indexing with multiple keys (implicitly converted to a tuple of keys) will be deprecated, use a list instead.\n",
      "  bootstrapped_downward = tmp.groupby(['#t(centisec)'])['ang_pos', 'dist', 'speed_diff', 'acc_diff', 'cc'].mean().reset_index()\n",
      "/var/folders/ng/l4j590g95vl5r33ctw59y6cr0000gn/T/ipykernel_26977/3258036297.py:12: FutureWarning: Indexing with multiple keys (implicitly converted to a tuple of keys) will be deprecated, use a list instead.\n",
      "  bootstrapped_downward = tmp.groupby(['#t(centisec)'])['ang_pos', 'dist', 'speed_diff', 'acc_diff', 'cc'].mean().reset_index()\n"
     ]
    },
    {
     "name": "stdout",
     "output_type": "stream",
     "text": [
      "840\n"
     ]
    },
    {
     "name": "stderr",
     "output_type": "stream",
     "text": [
      "/var/folders/ng/l4j590g95vl5r33ctw59y6cr0000gn/T/ipykernel_26977/3258036297.py:12: FutureWarning: Indexing with multiple keys (implicitly converted to a tuple of keys) will be deprecated, use a list instead.\n",
      "  bootstrapped_downward = tmp.groupby(['#t(centisec)'])['ang_pos', 'dist', 'speed_diff', 'acc_diff', 'cc'].mean().reset_index()\n",
      "/var/folders/ng/l4j590g95vl5r33ctw59y6cr0000gn/T/ipykernel_26977/3258036297.py:12: FutureWarning: Indexing with multiple keys (implicitly converted to a tuple of keys) will be deprecated, use a list instead.\n",
      "  bootstrapped_downward = tmp.groupby(['#t(centisec)'])['ang_pos', 'dist', 'speed_diff', 'acc_diff', 'cc'].mean().reset_index()\n",
      "/var/folders/ng/l4j590g95vl5r33ctw59y6cr0000gn/T/ipykernel_26977/3258036297.py:12: FutureWarning: Indexing with multiple keys (implicitly converted to a tuple of keys) will be deprecated, use a list instead.\n",
      "  bootstrapped_downward = tmp.groupby(['#t(centisec)'])['ang_pos', 'dist', 'speed_diff', 'acc_diff', 'cc'].mean().reset_index()\n",
      "/var/folders/ng/l4j590g95vl5r33ctw59y6cr0000gn/T/ipykernel_26977/3258036297.py:12: FutureWarning: Indexing with multiple keys (implicitly converted to a tuple of keys) will be deprecated, use a list instead.\n",
      "  bootstrapped_downward = tmp.groupby(['#t(centisec)'])['ang_pos', 'dist', 'speed_diff', 'acc_diff', 'cc'].mean().reset_index()\n",
      "/var/folders/ng/l4j590g95vl5r33ctw59y6cr0000gn/T/ipykernel_26977/3258036297.py:12: FutureWarning: Indexing with multiple keys (implicitly converted to a tuple of keys) will be deprecated, use a list instead.\n",
      "  bootstrapped_downward = tmp.groupby(['#t(centisec)'])['ang_pos', 'dist', 'speed_diff', 'acc_diff', 'cc'].mean().reset_index()\n",
      "/var/folders/ng/l4j590g95vl5r33ctw59y6cr0000gn/T/ipykernel_26977/3258036297.py:12: FutureWarning: Indexing with multiple keys (implicitly converted to a tuple of keys) will be deprecated, use a list instead.\n",
      "  bootstrapped_downward = tmp.groupby(['#t(centisec)'])['ang_pos', 'dist', 'speed_diff', 'acc_diff', 'cc'].mean().reset_index()\n",
      "/var/folders/ng/l4j590g95vl5r33ctw59y6cr0000gn/T/ipykernel_26977/3258036297.py:12: FutureWarning: Indexing with multiple keys (implicitly converted to a tuple of keys) will be deprecated, use a list instead.\n",
      "  bootstrapped_downward = tmp.groupby(['#t(centisec)'])['ang_pos', 'dist', 'speed_diff', 'acc_diff', 'cc'].mean().reset_index()\n",
      "/var/folders/ng/l4j590g95vl5r33ctw59y6cr0000gn/T/ipykernel_26977/3258036297.py:12: FutureWarning: Indexing with multiple keys (implicitly converted to a tuple of keys) will be deprecated, use a list instead.\n",
      "  bootstrapped_downward = tmp.groupby(['#t(centisec)'])['ang_pos', 'dist', 'speed_diff', 'acc_diff', 'cc'].mean().reset_index()\n",
      "/var/folders/ng/l4j590g95vl5r33ctw59y6cr0000gn/T/ipykernel_26977/3258036297.py:12: FutureWarning: Indexing with multiple keys (implicitly converted to a tuple of keys) will be deprecated, use a list instead.\n",
      "  bootstrapped_downward = tmp.groupby(['#t(centisec)'])['ang_pos', 'dist', 'speed_diff', 'acc_diff', 'cc'].mean().reset_index()\n",
      "/var/folders/ng/l4j590g95vl5r33ctw59y6cr0000gn/T/ipykernel_26977/3258036297.py:12: FutureWarning: Indexing with multiple keys (implicitly converted to a tuple of keys) will be deprecated, use a list instead.\n",
      "  bootstrapped_downward = tmp.groupby(['#t(centisec)'])['ang_pos', 'dist', 'speed_diff', 'acc_diff', 'cc'].mean().reset_index()\n"
     ]
    },
    {
     "name": "stdout",
     "output_type": "stream",
     "text": [
      "850\n"
     ]
    },
    {
     "name": "stderr",
     "output_type": "stream",
     "text": [
      "/var/folders/ng/l4j590g95vl5r33ctw59y6cr0000gn/T/ipykernel_26977/3258036297.py:12: FutureWarning: Indexing with multiple keys (implicitly converted to a tuple of keys) will be deprecated, use a list instead.\n",
      "  bootstrapped_downward = tmp.groupby(['#t(centisec)'])['ang_pos', 'dist', 'speed_diff', 'acc_diff', 'cc'].mean().reset_index()\n",
      "/var/folders/ng/l4j590g95vl5r33ctw59y6cr0000gn/T/ipykernel_26977/3258036297.py:12: FutureWarning: Indexing with multiple keys (implicitly converted to a tuple of keys) will be deprecated, use a list instead.\n",
      "  bootstrapped_downward = tmp.groupby(['#t(centisec)'])['ang_pos', 'dist', 'speed_diff', 'acc_diff', 'cc'].mean().reset_index()\n",
      "/var/folders/ng/l4j590g95vl5r33ctw59y6cr0000gn/T/ipykernel_26977/3258036297.py:12: FutureWarning: Indexing with multiple keys (implicitly converted to a tuple of keys) will be deprecated, use a list instead.\n",
      "  bootstrapped_downward = tmp.groupby(['#t(centisec)'])['ang_pos', 'dist', 'speed_diff', 'acc_diff', 'cc'].mean().reset_index()\n",
      "/var/folders/ng/l4j590g95vl5r33ctw59y6cr0000gn/T/ipykernel_26977/3258036297.py:12: FutureWarning: Indexing with multiple keys (implicitly converted to a tuple of keys) will be deprecated, use a list instead.\n",
      "  bootstrapped_downward = tmp.groupby(['#t(centisec)'])['ang_pos', 'dist', 'speed_diff', 'acc_diff', 'cc'].mean().reset_index()\n",
      "/var/folders/ng/l4j590g95vl5r33ctw59y6cr0000gn/T/ipykernel_26977/3258036297.py:12: FutureWarning: Indexing with multiple keys (implicitly converted to a tuple of keys) will be deprecated, use a list instead.\n",
      "  bootstrapped_downward = tmp.groupby(['#t(centisec)'])['ang_pos', 'dist', 'speed_diff', 'acc_diff', 'cc'].mean().reset_index()\n",
      "/var/folders/ng/l4j590g95vl5r33ctw59y6cr0000gn/T/ipykernel_26977/3258036297.py:12: FutureWarning: Indexing with multiple keys (implicitly converted to a tuple of keys) will be deprecated, use a list instead.\n",
      "  bootstrapped_downward = tmp.groupby(['#t(centisec)'])['ang_pos', 'dist', 'speed_diff', 'acc_diff', 'cc'].mean().reset_index()\n",
      "/var/folders/ng/l4j590g95vl5r33ctw59y6cr0000gn/T/ipykernel_26977/3258036297.py:12: FutureWarning: Indexing with multiple keys (implicitly converted to a tuple of keys) will be deprecated, use a list instead.\n",
      "  bootstrapped_downward = tmp.groupby(['#t(centisec)'])['ang_pos', 'dist', 'speed_diff', 'acc_diff', 'cc'].mean().reset_index()\n",
      "/var/folders/ng/l4j590g95vl5r33ctw59y6cr0000gn/T/ipykernel_26977/3258036297.py:12: FutureWarning: Indexing with multiple keys (implicitly converted to a tuple of keys) will be deprecated, use a list instead.\n",
      "  bootstrapped_downward = tmp.groupby(['#t(centisec)'])['ang_pos', 'dist', 'speed_diff', 'acc_diff', 'cc'].mean().reset_index()\n",
      "/var/folders/ng/l4j590g95vl5r33ctw59y6cr0000gn/T/ipykernel_26977/3258036297.py:12: FutureWarning: Indexing with multiple keys (implicitly converted to a tuple of keys) will be deprecated, use a list instead.\n",
      "  bootstrapped_downward = tmp.groupby(['#t(centisec)'])['ang_pos', 'dist', 'speed_diff', 'acc_diff', 'cc'].mean().reset_index()\n",
      "/var/folders/ng/l4j590g95vl5r33ctw59y6cr0000gn/T/ipykernel_26977/3258036297.py:12: FutureWarning: Indexing with multiple keys (implicitly converted to a tuple of keys) will be deprecated, use a list instead.\n",
      "  bootstrapped_downward = tmp.groupby(['#t(centisec)'])['ang_pos', 'dist', 'speed_diff', 'acc_diff', 'cc'].mean().reset_index()\n"
     ]
    },
    {
     "name": "stdout",
     "output_type": "stream",
     "text": [
      "860\n"
     ]
    },
    {
     "name": "stderr",
     "output_type": "stream",
     "text": [
      "/var/folders/ng/l4j590g95vl5r33ctw59y6cr0000gn/T/ipykernel_26977/3258036297.py:12: FutureWarning: Indexing with multiple keys (implicitly converted to a tuple of keys) will be deprecated, use a list instead.\n",
      "  bootstrapped_downward = tmp.groupby(['#t(centisec)'])['ang_pos', 'dist', 'speed_diff', 'acc_diff', 'cc'].mean().reset_index()\n",
      "/var/folders/ng/l4j590g95vl5r33ctw59y6cr0000gn/T/ipykernel_26977/3258036297.py:12: FutureWarning: Indexing with multiple keys (implicitly converted to a tuple of keys) will be deprecated, use a list instead.\n",
      "  bootstrapped_downward = tmp.groupby(['#t(centisec)'])['ang_pos', 'dist', 'speed_diff', 'acc_diff', 'cc'].mean().reset_index()\n",
      "/var/folders/ng/l4j590g95vl5r33ctw59y6cr0000gn/T/ipykernel_26977/3258036297.py:12: FutureWarning: Indexing with multiple keys (implicitly converted to a tuple of keys) will be deprecated, use a list instead.\n",
      "  bootstrapped_downward = tmp.groupby(['#t(centisec)'])['ang_pos', 'dist', 'speed_diff', 'acc_diff', 'cc'].mean().reset_index()\n",
      "/var/folders/ng/l4j590g95vl5r33ctw59y6cr0000gn/T/ipykernel_26977/3258036297.py:12: FutureWarning: Indexing with multiple keys (implicitly converted to a tuple of keys) will be deprecated, use a list instead.\n",
      "  bootstrapped_downward = tmp.groupby(['#t(centisec)'])['ang_pos', 'dist', 'speed_diff', 'acc_diff', 'cc'].mean().reset_index()\n",
      "/var/folders/ng/l4j590g95vl5r33ctw59y6cr0000gn/T/ipykernel_26977/3258036297.py:12: FutureWarning: Indexing with multiple keys (implicitly converted to a tuple of keys) will be deprecated, use a list instead.\n",
      "  bootstrapped_downward = tmp.groupby(['#t(centisec)'])['ang_pos', 'dist', 'speed_diff', 'acc_diff', 'cc'].mean().reset_index()\n",
      "/var/folders/ng/l4j590g95vl5r33ctw59y6cr0000gn/T/ipykernel_26977/3258036297.py:12: FutureWarning: Indexing with multiple keys (implicitly converted to a tuple of keys) will be deprecated, use a list instead.\n",
      "  bootstrapped_downward = tmp.groupby(['#t(centisec)'])['ang_pos', 'dist', 'speed_diff', 'acc_diff', 'cc'].mean().reset_index()\n",
      "/var/folders/ng/l4j590g95vl5r33ctw59y6cr0000gn/T/ipykernel_26977/3258036297.py:12: FutureWarning: Indexing with multiple keys (implicitly converted to a tuple of keys) will be deprecated, use a list instead.\n",
      "  bootstrapped_downward = tmp.groupby(['#t(centisec)'])['ang_pos', 'dist', 'speed_diff', 'acc_diff', 'cc'].mean().reset_index()\n",
      "/var/folders/ng/l4j590g95vl5r33ctw59y6cr0000gn/T/ipykernel_26977/3258036297.py:12: FutureWarning: Indexing with multiple keys (implicitly converted to a tuple of keys) will be deprecated, use a list instead.\n",
      "  bootstrapped_downward = tmp.groupby(['#t(centisec)'])['ang_pos', 'dist', 'speed_diff', 'acc_diff', 'cc'].mean().reset_index()\n",
      "/var/folders/ng/l4j590g95vl5r33ctw59y6cr0000gn/T/ipykernel_26977/3258036297.py:12: FutureWarning: Indexing with multiple keys (implicitly converted to a tuple of keys) will be deprecated, use a list instead.\n",
      "  bootstrapped_downward = tmp.groupby(['#t(centisec)'])['ang_pos', 'dist', 'speed_diff', 'acc_diff', 'cc'].mean().reset_index()\n",
      "/var/folders/ng/l4j590g95vl5r33ctw59y6cr0000gn/T/ipykernel_26977/3258036297.py:12: FutureWarning: Indexing with multiple keys (implicitly converted to a tuple of keys) will be deprecated, use a list instead.\n",
      "  bootstrapped_downward = tmp.groupby(['#t(centisec)'])['ang_pos', 'dist', 'speed_diff', 'acc_diff', 'cc'].mean().reset_index()\n"
     ]
    },
    {
     "name": "stdout",
     "output_type": "stream",
     "text": [
      "870\n"
     ]
    },
    {
     "name": "stderr",
     "output_type": "stream",
     "text": [
      "/var/folders/ng/l4j590g95vl5r33ctw59y6cr0000gn/T/ipykernel_26977/3258036297.py:12: FutureWarning: Indexing with multiple keys (implicitly converted to a tuple of keys) will be deprecated, use a list instead.\n",
      "  bootstrapped_downward = tmp.groupby(['#t(centisec)'])['ang_pos', 'dist', 'speed_diff', 'acc_diff', 'cc'].mean().reset_index()\n",
      "/var/folders/ng/l4j590g95vl5r33ctw59y6cr0000gn/T/ipykernel_26977/3258036297.py:12: FutureWarning: Indexing with multiple keys (implicitly converted to a tuple of keys) will be deprecated, use a list instead.\n",
      "  bootstrapped_downward = tmp.groupby(['#t(centisec)'])['ang_pos', 'dist', 'speed_diff', 'acc_diff', 'cc'].mean().reset_index()\n",
      "/var/folders/ng/l4j590g95vl5r33ctw59y6cr0000gn/T/ipykernel_26977/3258036297.py:12: FutureWarning: Indexing with multiple keys (implicitly converted to a tuple of keys) will be deprecated, use a list instead.\n",
      "  bootstrapped_downward = tmp.groupby(['#t(centisec)'])['ang_pos', 'dist', 'speed_diff', 'acc_diff', 'cc'].mean().reset_index()\n",
      "/var/folders/ng/l4j590g95vl5r33ctw59y6cr0000gn/T/ipykernel_26977/3258036297.py:12: FutureWarning: Indexing with multiple keys (implicitly converted to a tuple of keys) will be deprecated, use a list instead.\n",
      "  bootstrapped_downward = tmp.groupby(['#t(centisec)'])['ang_pos', 'dist', 'speed_diff', 'acc_diff', 'cc'].mean().reset_index()\n",
      "/var/folders/ng/l4j590g95vl5r33ctw59y6cr0000gn/T/ipykernel_26977/3258036297.py:12: FutureWarning: Indexing with multiple keys (implicitly converted to a tuple of keys) will be deprecated, use a list instead.\n",
      "  bootstrapped_downward = tmp.groupby(['#t(centisec)'])['ang_pos', 'dist', 'speed_diff', 'acc_diff', 'cc'].mean().reset_index()\n",
      "/var/folders/ng/l4j590g95vl5r33ctw59y6cr0000gn/T/ipykernel_26977/3258036297.py:12: FutureWarning: Indexing with multiple keys (implicitly converted to a tuple of keys) will be deprecated, use a list instead.\n",
      "  bootstrapped_downward = tmp.groupby(['#t(centisec)'])['ang_pos', 'dist', 'speed_diff', 'acc_diff', 'cc'].mean().reset_index()\n",
      "/var/folders/ng/l4j590g95vl5r33ctw59y6cr0000gn/T/ipykernel_26977/3258036297.py:12: FutureWarning: Indexing with multiple keys (implicitly converted to a tuple of keys) will be deprecated, use a list instead.\n",
      "  bootstrapped_downward = tmp.groupby(['#t(centisec)'])['ang_pos', 'dist', 'speed_diff', 'acc_diff', 'cc'].mean().reset_index()\n",
      "/var/folders/ng/l4j590g95vl5r33ctw59y6cr0000gn/T/ipykernel_26977/3258036297.py:12: FutureWarning: Indexing with multiple keys (implicitly converted to a tuple of keys) will be deprecated, use a list instead.\n",
      "  bootstrapped_downward = tmp.groupby(['#t(centisec)'])['ang_pos', 'dist', 'speed_diff', 'acc_diff', 'cc'].mean().reset_index()\n",
      "/var/folders/ng/l4j590g95vl5r33ctw59y6cr0000gn/T/ipykernel_26977/3258036297.py:12: FutureWarning: Indexing with multiple keys (implicitly converted to a tuple of keys) will be deprecated, use a list instead.\n",
      "  bootstrapped_downward = tmp.groupby(['#t(centisec)'])['ang_pos', 'dist', 'speed_diff', 'acc_diff', 'cc'].mean().reset_index()\n",
      "/var/folders/ng/l4j590g95vl5r33ctw59y6cr0000gn/T/ipykernel_26977/3258036297.py:12: FutureWarning: Indexing with multiple keys (implicitly converted to a tuple of keys) will be deprecated, use a list instead.\n",
      "  bootstrapped_downward = tmp.groupby(['#t(centisec)'])['ang_pos', 'dist', 'speed_diff', 'acc_diff', 'cc'].mean().reset_index()\n"
     ]
    },
    {
     "name": "stdout",
     "output_type": "stream",
     "text": [
      "880\n"
     ]
    },
    {
     "name": "stderr",
     "output_type": "stream",
     "text": [
      "/var/folders/ng/l4j590g95vl5r33ctw59y6cr0000gn/T/ipykernel_26977/3258036297.py:12: FutureWarning: Indexing with multiple keys (implicitly converted to a tuple of keys) will be deprecated, use a list instead.\n",
      "  bootstrapped_downward = tmp.groupby(['#t(centisec)'])['ang_pos', 'dist', 'speed_diff', 'acc_diff', 'cc'].mean().reset_index()\n",
      "/var/folders/ng/l4j590g95vl5r33ctw59y6cr0000gn/T/ipykernel_26977/3258036297.py:12: FutureWarning: Indexing with multiple keys (implicitly converted to a tuple of keys) will be deprecated, use a list instead.\n",
      "  bootstrapped_downward = tmp.groupby(['#t(centisec)'])['ang_pos', 'dist', 'speed_diff', 'acc_diff', 'cc'].mean().reset_index()\n",
      "/var/folders/ng/l4j590g95vl5r33ctw59y6cr0000gn/T/ipykernel_26977/3258036297.py:12: FutureWarning: Indexing with multiple keys (implicitly converted to a tuple of keys) will be deprecated, use a list instead.\n",
      "  bootstrapped_downward = tmp.groupby(['#t(centisec)'])['ang_pos', 'dist', 'speed_diff', 'acc_diff', 'cc'].mean().reset_index()\n",
      "/var/folders/ng/l4j590g95vl5r33ctw59y6cr0000gn/T/ipykernel_26977/3258036297.py:12: FutureWarning: Indexing with multiple keys (implicitly converted to a tuple of keys) will be deprecated, use a list instead.\n",
      "  bootstrapped_downward = tmp.groupby(['#t(centisec)'])['ang_pos', 'dist', 'speed_diff', 'acc_diff', 'cc'].mean().reset_index()\n",
      "/var/folders/ng/l4j590g95vl5r33ctw59y6cr0000gn/T/ipykernel_26977/3258036297.py:12: FutureWarning: Indexing with multiple keys (implicitly converted to a tuple of keys) will be deprecated, use a list instead.\n",
      "  bootstrapped_downward = tmp.groupby(['#t(centisec)'])['ang_pos', 'dist', 'speed_diff', 'acc_diff', 'cc'].mean().reset_index()\n",
      "/var/folders/ng/l4j590g95vl5r33ctw59y6cr0000gn/T/ipykernel_26977/3258036297.py:12: FutureWarning: Indexing with multiple keys (implicitly converted to a tuple of keys) will be deprecated, use a list instead.\n",
      "  bootstrapped_downward = tmp.groupby(['#t(centisec)'])['ang_pos', 'dist', 'speed_diff', 'acc_diff', 'cc'].mean().reset_index()\n",
      "/var/folders/ng/l4j590g95vl5r33ctw59y6cr0000gn/T/ipykernel_26977/3258036297.py:12: FutureWarning: Indexing with multiple keys (implicitly converted to a tuple of keys) will be deprecated, use a list instead.\n",
      "  bootstrapped_downward = tmp.groupby(['#t(centisec)'])['ang_pos', 'dist', 'speed_diff', 'acc_diff', 'cc'].mean().reset_index()\n",
      "/var/folders/ng/l4j590g95vl5r33ctw59y6cr0000gn/T/ipykernel_26977/3258036297.py:12: FutureWarning: Indexing with multiple keys (implicitly converted to a tuple of keys) will be deprecated, use a list instead.\n",
      "  bootstrapped_downward = tmp.groupby(['#t(centisec)'])['ang_pos', 'dist', 'speed_diff', 'acc_diff', 'cc'].mean().reset_index()\n",
      "/var/folders/ng/l4j590g95vl5r33ctw59y6cr0000gn/T/ipykernel_26977/3258036297.py:12: FutureWarning: Indexing with multiple keys (implicitly converted to a tuple of keys) will be deprecated, use a list instead.\n",
      "  bootstrapped_downward = tmp.groupby(['#t(centisec)'])['ang_pos', 'dist', 'speed_diff', 'acc_diff', 'cc'].mean().reset_index()\n",
      "/var/folders/ng/l4j590g95vl5r33ctw59y6cr0000gn/T/ipykernel_26977/3258036297.py:12: FutureWarning: Indexing with multiple keys (implicitly converted to a tuple of keys) will be deprecated, use a list instead.\n",
      "  bootstrapped_downward = tmp.groupby(['#t(centisec)'])['ang_pos', 'dist', 'speed_diff', 'acc_diff', 'cc'].mean().reset_index()\n"
     ]
    },
    {
     "name": "stdout",
     "output_type": "stream",
     "text": [
      "890\n"
     ]
    },
    {
     "name": "stderr",
     "output_type": "stream",
     "text": [
      "/var/folders/ng/l4j590g95vl5r33ctw59y6cr0000gn/T/ipykernel_26977/3258036297.py:12: FutureWarning: Indexing with multiple keys (implicitly converted to a tuple of keys) will be deprecated, use a list instead.\n",
      "  bootstrapped_downward = tmp.groupby(['#t(centisec)'])['ang_pos', 'dist', 'speed_diff', 'acc_diff', 'cc'].mean().reset_index()\n",
      "/var/folders/ng/l4j590g95vl5r33ctw59y6cr0000gn/T/ipykernel_26977/3258036297.py:12: FutureWarning: Indexing with multiple keys (implicitly converted to a tuple of keys) will be deprecated, use a list instead.\n",
      "  bootstrapped_downward = tmp.groupby(['#t(centisec)'])['ang_pos', 'dist', 'speed_diff', 'acc_diff', 'cc'].mean().reset_index()\n",
      "/var/folders/ng/l4j590g95vl5r33ctw59y6cr0000gn/T/ipykernel_26977/3258036297.py:12: FutureWarning: Indexing with multiple keys (implicitly converted to a tuple of keys) will be deprecated, use a list instead.\n",
      "  bootstrapped_downward = tmp.groupby(['#t(centisec)'])['ang_pos', 'dist', 'speed_diff', 'acc_diff', 'cc'].mean().reset_index()\n",
      "/var/folders/ng/l4j590g95vl5r33ctw59y6cr0000gn/T/ipykernel_26977/3258036297.py:12: FutureWarning: Indexing with multiple keys (implicitly converted to a tuple of keys) will be deprecated, use a list instead.\n",
      "  bootstrapped_downward = tmp.groupby(['#t(centisec)'])['ang_pos', 'dist', 'speed_diff', 'acc_diff', 'cc'].mean().reset_index()\n",
      "/var/folders/ng/l4j590g95vl5r33ctw59y6cr0000gn/T/ipykernel_26977/3258036297.py:12: FutureWarning: Indexing with multiple keys (implicitly converted to a tuple of keys) will be deprecated, use a list instead.\n",
      "  bootstrapped_downward = tmp.groupby(['#t(centisec)'])['ang_pos', 'dist', 'speed_diff', 'acc_diff', 'cc'].mean().reset_index()\n",
      "/var/folders/ng/l4j590g95vl5r33ctw59y6cr0000gn/T/ipykernel_26977/3258036297.py:12: FutureWarning: Indexing with multiple keys (implicitly converted to a tuple of keys) will be deprecated, use a list instead.\n",
      "  bootstrapped_downward = tmp.groupby(['#t(centisec)'])['ang_pos', 'dist', 'speed_diff', 'acc_diff', 'cc'].mean().reset_index()\n",
      "/var/folders/ng/l4j590g95vl5r33ctw59y6cr0000gn/T/ipykernel_26977/3258036297.py:12: FutureWarning: Indexing with multiple keys (implicitly converted to a tuple of keys) will be deprecated, use a list instead.\n",
      "  bootstrapped_downward = tmp.groupby(['#t(centisec)'])['ang_pos', 'dist', 'speed_diff', 'acc_diff', 'cc'].mean().reset_index()\n",
      "/var/folders/ng/l4j590g95vl5r33ctw59y6cr0000gn/T/ipykernel_26977/3258036297.py:12: FutureWarning: Indexing with multiple keys (implicitly converted to a tuple of keys) will be deprecated, use a list instead.\n",
      "  bootstrapped_downward = tmp.groupby(['#t(centisec)'])['ang_pos', 'dist', 'speed_diff', 'acc_diff', 'cc'].mean().reset_index()\n",
      "/var/folders/ng/l4j590g95vl5r33ctw59y6cr0000gn/T/ipykernel_26977/3258036297.py:12: FutureWarning: Indexing with multiple keys (implicitly converted to a tuple of keys) will be deprecated, use a list instead.\n",
      "  bootstrapped_downward = tmp.groupby(['#t(centisec)'])['ang_pos', 'dist', 'speed_diff', 'acc_diff', 'cc'].mean().reset_index()\n",
      "/var/folders/ng/l4j590g95vl5r33ctw59y6cr0000gn/T/ipykernel_26977/3258036297.py:12: FutureWarning: Indexing with multiple keys (implicitly converted to a tuple of keys) will be deprecated, use a list instead.\n",
      "  bootstrapped_downward = tmp.groupby(['#t(centisec)'])['ang_pos', 'dist', 'speed_diff', 'acc_diff', 'cc'].mean().reset_index()\n"
     ]
    },
    {
     "name": "stdout",
     "output_type": "stream",
     "text": [
      "900\n"
     ]
    },
    {
     "name": "stderr",
     "output_type": "stream",
     "text": [
      "/var/folders/ng/l4j590g95vl5r33ctw59y6cr0000gn/T/ipykernel_26977/3258036297.py:12: FutureWarning: Indexing with multiple keys (implicitly converted to a tuple of keys) will be deprecated, use a list instead.\n",
      "  bootstrapped_downward = tmp.groupby(['#t(centisec)'])['ang_pos', 'dist', 'speed_diff', 'acc_diff', 'cc'].mean().reset_index()\n",
      "/var/folders/ng/l4j590g95vl5r33ctw59y6cr0000gn/T/ipykernel_26977/3258036297.py:12: FutureWarning: Indexing with multiple keys (implicitly converted to a tuple of keys) will be deprecated, use a list instead.\n",
      "  bootstrapped_downward = tmp.groupby(['#t(centisec)'])['ang_pos', 'dist', 'speed_diff', 'acc_diff', 'cc'].mean().reset_index()\n",
      "/var/folders/ng/l4j590g95vl5r33ctw59y6cr0000gn/T/ipykernel_26977/3258036297.py:12: FutureWarning: Indexing with multiple keys (implicitly converted to a tuple of keys) will be deprecated, use a list instead.\n",
      "  bootstrapped_downward = tmp.groupby(['#t(centisec)'])['ang_pos', 'dist', 'speed_diff', 'acc_diff', 'cc'].mean().reset_index()\n",
      "/var/folders/ng/l4j590g95vl5r33ctw59y6cr0000gn/T/ipykernel_26977/3258036297.py:12: FutureWarning: Indexing with multiple keys (implicitly converted to a tuple of keys) will be deprecated, use a list instead.\n",
      "  bootstrapped_downward = tmp.groupby(['#t(centisec)'])['ang_pos', 'dist', 'speed_diff', 'acc_diff', 'cc'].mean().reset_index()\n",
      "/var/folders/ng/l4j590g95vl5r33ctw59y6cr0000gn/T/ipykernel_26977/3258036297.py:12: FutureWarning: Indexing with multiple keys (implicitly converted to a tuple of keys) will be deprecated, use a list instead.\n",
      "  bootstrapped_downward = tmp.groupby(['#t(centisec)'])['ang_pos', 'dist', 'speed_diff', 'acc_diff', 'cc'].mean().reset_index()\n",
      "/var/folders/ng/l4j590g95vl5r33ctw59y6cr0000gn/T/ipykernel_26977/3258036297.py:12: FutureWarning: Indexing with multiple keys (implicitly converted to a tuple of keys) will be deprecated, use a list instead.\n",
      "  bootstrapped_downward = tmp.groupby(['#t(centisec)'])['ang_pos', 'dist', 'speed_diff', 'acc_diff', 'cc'].mean().reset_index()\n",
      "/var/folders/ng/l4j590g95vl5r33ctw59y6cr0000gn/T/ipykernel_26977/3258036297.py:12: FutureWarning: Indexing with multiple keys (implicitly converted to a tuple of keys) will be deprecated, use a list instead.\n",
      "  bootstrapped_downward = tmp.groupby(['#t(centisec)'])['ang_pos', 'dist', 'speed_diff', 'acc_diff', 'cc'].mean().reset_index()\n",
      "/var/folders/ng/l4j590g95vl5r33ctw59y6cr0000gn/T/ipykernel_26977/3258036297.py:12: FutureWarning: Indexing with multiple keys (implicitly converted to a tuple of keys) will be deprecated, use a list instead.\n",
      "  bootstrapped_downward = tmp.groupby(['#t(centisec)'])['ang_pos', 'dist', 'speed_diff', 'acc_diff', 'cc'].mean().reset_index()\n",
      "/var/folders/ng/l4j590g95vl5r33ctw59y6cr0000gn/T/ipykernel_26977/3258036297.py:12: FutureWarning: Indexing with multiple keys (implicitly converted to a tuple of keys) will be deprecated, use a list instead.\n",
      "  bootstrapped_downward = tmp.groupby(['#t(centisec)'])['ang_pos', 'dist', 'speed_diff', 'acc_diff', 'cc'].mean().reset_index()\n",
      "/var/folders/ng/l4j590g95vl5r33ctw59y6cr0000gn/T/ipykernel_26977/3258036297.py:12: FutureWarning: Indexing with multiple keys (implicitly converted to a tuple of keys) will be deprecated, use a list instead.\n",
      "  bootstrapped_downward = tmp.groupby(['#t(centisec)'])['ang_pos', 'dist', 'speed_diff', 'acc_diff', 'cc'].mean().reset_index()\n"
     ]
    },
    {
     "name": "stdout",
     "output_type": "stream",
     "text": [
      "910\n"
     ]
    },
    {
     "name": "stderr",
     "output_type": "stream",
     "text": [
      "/var/folders/ng/l4j590g95vl5r33ctw59y6cr0000gn/T/ipykernel_26977/3258036297.py:12: FutureWarning: Indexing with multiple keys (implicitly converted to a tuple of keys) will be deprecated, use a list instead.\n",
      "  bootstrapped_downward = tmp.groupby(['#t(centisec)'])['ang_pos', 'dist', 'speed_diff', 'acc_diff', 'cc'].mean().reset_index()\n",
      "/var/folders/ng/l4j590g95vl5r33ctw59y6cr0000gn/T/ipykernel_26977/3258036297.py:12: FutureWarning: Indexing with multiple keys (implicitly converted to a tuple of keys) will be deprecated, use a list instead.\n",
      "  bootstrapped_downward = tmp.groupby(['#t(centisec)'])['ang_pos', 'dist', 'speed_diff', 'acc_diff', 'cc'].mean().reset_index()\n",
      "/var/folders/ng/l4j590g95vl5r33ctw59y6cr0000gn/T/ipykernel_26977/3258036297.py:12: FutureWarning: Indexing with multiple keys (implicitly converted to a tuple of keys) will be deprecated, use a list instead.\n",
      "  bootstrapped_downward = tmp.groupby(['#t(centisec)'])['ang_pos', 'dist', 'speed_diff', 'acc_diff', 'cc'].mean().reset_index()\n",
      "/var/folders/ng/l4j590g95vl5r33ctw59y6cr0000gn/T/ipykernel_26977/3258036297.py:12: FutureWarning: Indexing with multiple keys (implicitly converted to a tuple of keys) will be deprecated, use a list instead.\n",
      "  bootstrapped_downward = tmp.groupby(['#t(centisec)'])['ang_pos', 'dist', 'speed_diff', 'acc_diff', 'cc'].mean().reset_index()\n",
      "/var/folders/ng/l4j590g95vl5r33ctw59y6cr0000gn/T/ipykernel_26977/3258036297.py:12: FutureWarning: Indexing with multiple keys (implicitly converted to a tuple of keys) will be deprecated, use a list instead.\n",
      "  bootstrapped_downward = tmp.groupby(['#t(centisec)'])['ang_pos', 'dist', 'speed_diff', 'acc_diff', 'cc'].mean().reset_index()\n",
      "/var/folders/ng/l4j590g95vl5r33ctw59y6cr0000gn/T/ipykernel_26977/3258036297.py:12: FutureWarning: Indexing with multiple keys (implicitly converted to a tuple of keys) will be deprecated, use a list instead.\n",
      "  bootstrapped_downward = tmp.groupby(['#t(centisec)'])['ang_pos', 'dist', 'speed_diff', 'acc_diff', 'cc'].mean().reset_index()\n",
      "/var/folders/ng/l4j590g95vl5r33ctw59y6cr0000gn/T/ipykernel_26977/3258036297.py:12: FutureWarning: Indexing with multiple keys (implicitly converted to a tuple of keys) will be deprecated, use a list instead.\n",
      "  bootstrapped_downward = tmp.groupby(['#t(centisec)'])['ang_pos', 'dist', 'speed_diff', 'acc_diff', 'cc'].mean().reset_index()\n",
      "/var/folders/ng/l4j590g95vl5r33ctw59y6cr0000gn/T/ipykernel_26977/3258036297.py:12: FutureWarning: Indexing with multiple keys (implicitly converted to a tuple of keys) will be deprecated, use a list instead.\n",
      "  bootstrapped_downward = tmp.groupby(['#t(centisec)'])['ang_pos', 'dist', 'speed_diff', 'acc_diff', 'cc'].mean().reset_index()\n",
      "/var/folders/ng/l4j590g95vl5r33ctw59y6cr0000gn/T/ipykernel_26977/3258036297.py:12: FutureWarning: Indexing with multiple keys (implicitly converted to a tuple of keys) will be deprecated, use a list instead.\n",
      "  bootstrapped_downward = tmp.groupby(['#t(centisec)'])['ang_pos', 'dist', 'speed_diff', 'acc_diff', 'cc'].mean().reset_index()\n",
      "/var/folders/ng/l4j590g95vl5r33ctw59y6cr0000gn/T/ipykernel_26977/3258036297.py:12: FutureWarning: Indexing with multiple keys (implicitly converted to a tuple of keys) will be deprecated, use a list instead.\n",
      "  bootstrapped_downward = tmp.groupby(['#t(centisec)'])['ang_pos', 'dist', 'speed_diff', 'acc_diff', 'cc'].mean().reset_index()\n"
     ]
    },
    {
     "name": "stdout",
     "output_type": "stream",
     "text": [
      "920\n"
     ]
    },
    {
     "name": "stderr",
     "output_type": "stream",
     "text": [
      "/var/folders/ng/l4j590g95vl5r33ctw59y6cr0000gn/T/ipykernel_26977/3258036297.py:12: FutureWarning: Indexing with multiple keys (implicitly converted to a tuple of keys) will be deprecated, use a list instead.\n",
      "  bootstrapped_downward = tmp.groupby(['#t(centisec)'])['ang_pos', 'dist', 'speed_diff', 'acc_diff', 'cc'].mean().reset_index()\n",
      "/var/folders/ng/l4j590g95vl5r33ctw59y6cr0000gn/T/ipykernel_26977/3258036297.py:12: FutureWarning: Indexing with multiple keys (implicitly converted to a tuple of keys) will be deprecated, use a list instead.\n",
      "  bootstrapped_downward = tmp.groupby(['#t(centisec)'])['ang_pos', 'dist', 'speed_diff', 'acc_diff', 'cc'].mean().reset_index()\n",
      "/var/folders/ng/l4j590g95vl5r33ctw59y6cr0000gn/T/ipykernel_26977/3258036297.py:12: FutureWarning: Indexing with multiple keys (implicitly converted to a tuple of keys) will be deprecated, use a list instead.\n",
      "  bootstrapped_downward = tmp.groupby(['#t(centisec)'])['ang_pos', 'dist', 'speed_diff', 'acc_diff', 'cc'].mean().reset_index()\n",
      "/var/folders/ng/l4j590g95vl5r33ctw59y6cr0000gn/T/ipykernel_26977/3258036297.py:12: FutureWarning: Indexing with multiple keys (implicitly converted to a tuple of keys) will be deprecated, use a list instead.\n",
      "  bootstrapped_downward = tmp.groupby(['#t(centisec)'])['ang_pos', 'dist', 'speed_diff', 'acc_diff', 'cc'].mean().reset_index()\n",
      "/var/folders/ng/l4j590g95vl5r33ctw59y6cr0000gn/T/ipykernel_26977/3258036297.py:12: FutureWarning: Indexing with multiple keys (implicitly converted to a tuple of keys) will be deprecated, use a list instead.\n",
      "  bootstrapped_downward = tmp.groupby(['#t(centisec)'])['ang_pos', 'dist', 'speed_diff', 'acc_diff', 'cc'].mean().reset_index()\n",
      "/var/folders/ng/l4j590g95vl5r33ctw59y6cr0000gn/T/ipykernel_26977/3258036297.py:12: FutureWarning: Indexing with multiple keys (implicitly converted to a tuple of keys) will be deprecated, use a list instead.\n",
      "  bootstrapped_downward = tmp.groupby(['#t(centisec)'])['ang_pos', 'dist', 'speed_diff', 'acc_diff', 'cc'].mean().reset_index()\n",
      "/var/folders/ng/l4j590g95vl5r33ctw59y6cr0000gn/T/ipykernel_26977/3258036297.py:12: FutureWarning: Indexing with multiple keys (implicitly converted to a tuple of keys) will be deprecated, use a list instead.\n",
      "  bootstrapped_downward = tmp.groupby(['#t(centisec)'])['ang_pos', 'dist', 'speed_diff', 'acc_diff', 'cc'].mean().reset_index()\n",
      "/var/folders/ng/l4j590g95vl5r33ctw59y6cr0000gn/T/ipykernel_26977/3258036297.py:12: FutureWarning: Indexing with multiple keys (implicitly converted to a tuple of keys) will be deprecated, use a list instead.\n",
      "  bootstrapped_downward = tmp.groupby(['#t(centisec)'])['ang_pos', 'dist', 'speed_diff', 'acc_diff', 'cc'].mean().reset_index()\n",
      "/var/folders/ng/l4j590g95vl5r33ctw59y6cr0000gn/T/ipykernel_26977/3258036297.py:12: FutureWarning: Indexing with multiple keys (implicitly converted to a tuple of keys) will be deprecated, use a list instead.\n",
      "  bootstrapped_downward = tmp.groupby(['#t(centisec)'])['ang_pos', 'dist', 'speed_diff', 'acc_diff', 'cc'].mean().reset_index()\n",
      "/var/folders/ng/l4j590g95vl5r33ctw59y6cr0000gn/T/ipykernel_26977/3258036297.py:12: FutureWarning: Indexing with multiple keys (implicitly converted to a tuple of keys) will be deprecated, use a list instead.\n",
      "  bootstrapped_downward = tmp.groupby(['#t(centisec)'])['ang_pos', 'dist', 'speed_diff', 'acc_diff', 'cc'].mean().reset_index()\n"
     ]
    },
    {
     "name": "stdout",
     "output_type": "stream",
     "text": [
      "930\n"
     ]
    },
    {
     "name": "stderr",
     "output_type": "stream",
     "text": [
      "/var/folders/ng/l4j590g95vl5r33ctw59y6cr0000gn/T/ipykernel_26977/3258036297.py:12: FutureWarning: Indexing with multiple keys (implicitly converted to a tuple of keys) will be deprecated, use a list instead.\n",
      "  bootstrapped_downward = tmp.groupby(['#t(centisec)'])['ang_pos', 'dist', 'speed_diff', 'acc_diff', 'cc'].mean().reset_index()\n",
      "/var/folders/ng/l4j590g95vl5r33ctw59y6cr0000gn/T/ipykernel_26977/3258036297.py:12: FutureWarning: Indexing with multiple keys (implicitly converted to a tuple of keys) will be deprecated, use a list instead.\n",
      "  bootstrapped_downward = tmp.groupby(['#t(centisec)'])['ang_pos', 'dist', 'speed_diff', 'acc_diff', 'cc'].mean().reset_index()\n",
      "/var/folders/ng/l4j590g95vl5r33ctw59y6cr0000gn/T/ipykernel_26977/3258036297.py:12: FutureWarning: Indexing with multiple keys (implicitly converted to a tuple of keys) will be deprecated, use a list instead.\n",
      "  bootstrapped_downward = tmp.groupby(['#t(centisec)'])['ang_pos', 'dist', 'speed_diff', 'acc_diff', 'cc'].mean().reset_index()\n",
      "/var/folders/ng/l4j590g95vl5r33ctw59y6cr0000gn/T/ipykernel_26977/3258036297.py:12: FutureWarning: Indexing with multiple keys (implicitly converted to a tuple of keys) will be deprecated, use a list instead.\n",
      "  bootstrapped_downward = tmp.groupby(['#t(centisec)'])['ang_pos', 'dist', 'speed_diff', 'acc_diff', 'cc'].mean().reset_index()\n",
      "/var/folders/ng/l4j590g95vl5r33ctw59y6cr0000gn/T/ipykernel_26977/3258036297.py:12: FutureWarning: Indexing with multiple keys (implicitly converted to a tuple of keys) will be deprecated, use a list instead.\n",
      "  bootstrapped_downward = tmp.groupby(['#t(centisec)'])['ang_pos', 'dist', 'speed_diff', 'acc_diff', 'cc'].mean().reset_index()\n",
      "/var/folders/ng/l4j590g95vl5r33ctw59y6cr0000gn/T/ipykernel_26977/3258036297.py:12: FutureWarning: Indexing with multiple keys (implicitly converted to a tuple of keys) will be deprecated, use a list instead.\n",
      "  bootstrapped_downward = tmp.groupby(['#t(centisec)'])['ang_pos', 'dist', 'speed_diff', 'acc_diff', 'cc'].mean().reset_index()\n",
      "/var/folders/ng/l4j590g95vl5r33ctw59y6cr0000gn/T/ipykernel_26977/3258036297.py:12: FutureWarning: Indexing with multiple keys (implicitly converted to a tuple of keys) will be deprecated, use a list instead.\n",
      "  bootstrapped_downward = tmp.groupby(['#t(centisec)'])['ang_pos', 'dist', 'speed_diff', 'acc_diff', 'cc'].mean().reset_index()\n",
      "/var/folders/ng/l4j590g95vl5r33ctw59y6cr0000gn/T/ipykernel_26977/3258036297.py:12: FutureWarning: Indexing with multiple keys (implicitly converted to a tuple of keys) will be deprecated, use a list instead.\n",
      "  bootstrapped_downward = tmp.groupby(['#t(centisec)'])['ang_pos', 'dist', 'speed_diff', 'acc_diff', 'cc'].mean().reset_index()\n",
      "/var/folders/ng/l4j590g95vl5r33ctw59y6cr0000gn/T/ipykernel_26977/3258036297.py:12: FutureWarning: Indexing with multiple keys (implicitly converted to a tuple of keys) will be deprecated, use a list instead.\n",
      "  bootstrapped_downward = tmp.groupby(['#t(centisec)'])['ang_pos', 'dist', 'speed_diff', 'acc_diff', 'cc'].mean().reset_index()\n",
      "/var/folders/ng/l4j590g95vl5r33ctw59y6cr0000gn/T/ipykernel_26977/3258036297.py:12: FutureWarning: Indexing with multiple keys (implicitly converted to a tuple of keys) will be deprecated, use a list instead.\n",
      "  bootstrapped_downward = tmp.groupby(['#t(centisec)'])['ang_pos', 'dist', 'speed_diff', 'acc_diff', 'cc'].mean().reset_index()\n"
     ]
    },
    {
     "name": "stdout",
     "output_type": "stream",
     "text": [
      "940\n"
     ]
    },
    {
     "name": "stderr",
     "output_type": "stream",
     "text": [
      "/var/folders/ng/l4j590g95vl5r33ctw59y6cr0000gn/T/ipykernel_26977/3258036297.py:12: FutureWarning: Indexing with multiple keys (implicitly converted to a tuple of keys) will be deprecated, use a list instead.\n",
      "  bootstrapped_downward = tmp.groupby(['#t(centisec)'])['ang_pos', 'dist', 'speed_diff', 'acc_diff', 'cc'].mean().reset_index()\n",
      "/var/folders/ng/l4j590g95vl5r33ctw59y6cr0000gn/T/ipykernel_26977/3258036297.py:12: FutureWarning: Indexing with multiple keys (implicitly converted to a tuple of keys) will be deprecated, use a list instead.\n",
      "  bootstrapped_downward = tmp.groupby(['#t(centisec)'])['ang_pos', 'dist', 'speed_diff', 'acc_diff', 'cc'].mean().reset_index()\n",
      "/var/folders/ng/l4j590g95vl5r33ctw59y6cr0000gn/T/ipykernel_26977/3258036297.py:12: FutureWarning: Indexing with multiple keys (implicitly converted to a tuple of keys) will be deprecated, use a list instead.\n",
      "  bootstrapped_downward = tmp.groupby(['#t(centisec)'])['ang_pos', 'dist', 'speed_diff', 'acc_diff', 'cc'].mean().reset_index()\n",
      "/var/folders/ng/l4j590g95vl5r33ctw59y6cr0000gn/T/ipykernel_26977/3258036297.py:12: FutureWarning: Indexing with multiple keys (implicitly converted to a tuple of keys) will be deprecated, use a list instead.\n",
      "  bootstrapped_downward = tmp.groupby(['#t(centisec)'])['ang_pos', 'dist', 'speed_diff', 'acc_diff', 'cc'].mean().reset_index()\n",
      "/var/folders/ng/l4j590g95vl5r33ctw59y6cr0000gn/T/ipykernel_26977/3258036297.py:12: FutureWarning: Indexing with multiple keys (implicitly converted to a tuple of keys) will be deprecated, use a list instead.\n",
      "  bootstrapped_downward = tmp.groupby(['#t(centisec)'])['ang_pos', 'dist', 'speed_diff', 'acc_diff', 'cc'].mean().reset_index()\n",
      "/var/folders/ng/l4j590g95vl5r33ctw59y6cr0000gn/T/ipykernel_26977/3258036297.py:12: FutureWarning: Indexing with multiple keys (implicitly converted to a tuple of keys) will be deprecated, use a list instead.\n",
      "  bootstrapped_downward = tmp.groupby(['#t(centisec)'])['ang_pos', 'dist', 'speed_diff', 'acc_diff', 'cc'].mean().reset_index()\n",
      "/var/folders/ng/l4j590g95vl5r33ctw59y6cr0000gn/T/ipykernel_26977/3258036297.py:12: FutureWarning: Indexing with multiple keys (implicitly converted to a tuple of keys) will be deprecated, use a list instead.\n",
      "  bootstrapped_downward = tmp.groupby(['#t(centisec)'])['ang_pos', 'dist', 'speed_diff', 'acc_diff', 'cc'].mean().reset_index()\n",
      "/var/folders/ng/l4j590g95vl5r33ctw59y6cr0000gn/T/ipykernel_26977/3258036297.py:12: FutureWarning: Indexing with multiple keys (implicitly converted to a tuple of keys) will be deprecated, use a list instead.\n",
      "  bootstrapped_downward = tmp.groupby(['#t(centisec)'])['ang_pos', 'dist', 'speed_diff', 'acc_diff', 'cc'].mean().reset_index()\n",
      "/var/folders/ng/l4j590g95vl5r33ctw59y6cr0000gn/T/ipykernel_26977/3258036297.py:12: FutureWarning: Indexing with multiple keys (implicitly converted to a tuple of keys) will be deprecated, use a list instead.\n",
      "  bootstrapped_downward = tmp.groupby(['#t(centisec)'])['ang_pos', 'dist', 'speed_diff', 'acc_diff', 'cc'].mean().reset_index()\n",
      "/var/folders/ng/l4j590g95vl5r33ctw59y6cr0000gn/T/ipykernel_26977/3258036297.py:12: FutureWarning: Indexing with multiple keys (implicitly converted to a tuple of keys) will be deprecated, use a list instead.\n",
      "  bootstrapped_downward = tmp.groupby(['#t(centisec)'])['ang_pos', 'dist', 'speed_diff', 'acc_diff', 'cc'].mean().reset_index()\n"
     ]
    },
    {
     "name": "stdout",
     "output_type": "stream",
     "text": [
      "950\n"
     ]
    },
    {
     "name": "stderr",
     "output_type": "stream",
     "text": [
      "/var/folders/ng/l4j590g95vl5r33ctw59y6cr0000gn/T/ipykernel_26977/3258036297.py:12: FutureWarning: Indexing with multiple keys (implicitly converted to a tuple of keys) will be deprecated, use a list instead.\n",
      "  bootstrapped_downward = tmp.groupby(['#t(centisec)'])['ang_pos', 'dist', 'speed_diff', 'acc_diff', 'cc'].mean().reset_index()\n",
      "/var/folders/ng/l4j590g95vl5r33ctw59y6cr0000gn/T/ipykernel_26977/3258036297.py:12: FutureWarning: Indexing with multiple keys (implicitly converted to a tuple of keys) will be deprecated, use a list instead.\n",
      "  bootstrapped_downward = tmp.groupby(['#t(centisec)'])['ang_pos', 'dist', 'speed_diff', 'acc_diff', 'cc'].mean().reset_index()\n",
      "/var/folders/ng/l4j590g95vl5r33ctw59y6cr0000gn/T/ipykernel_26977/3258036297.py:12: FutureWarning: Indexing with multiple keys (implicitly converted to a tuple of keys) will be deprecated, use a list instead.\n",
      "  bootstrapped_downward = tmp.groupby(['#t(centisec)'])['ang_pos', 'dist', 'speed_diff', 'acc_diff', 'cc'].mean().reset_index()\n",
      "/var/folders/ng/l4j590g95vl5r33ctw59y6cr0000gn/T/ipykernel_26977/3258036297.py:12: FutureWarning: Indexing with multiple keys (implicitly converted to a tuple of keys) will be deprecated, use a list instead.\n",
      "  bootstrapped_downward = tmp.groupby(['#t(centisec)'])['ang_pos', 'dist', 'speed_diff', 'acc_diff', 'cc'].mean().reset_index()\n",
      "/var/folders/ng/l4j590g95vl5r33ctw59y6cr0000gn/T/ipykernel_26977/3258036297.py:12: FutureWarning: Indexing with multiple keys (implicitly converted to a tuple of keys) will be deprecated, use a list instead.\n",
      "  bootstrapped_downward = tmp.groupby(['#t(centisec)'])['ang_pos', 'dist', 'speed_diff', 'acc_diff', 'cc'].mean().reset_index()\n",
      "/var/folders/ng/l4j590g95vl5r33ctw59y6cr0000gn/T/ipykernel_26977/3258036297.py:12: FutureWarning: Indexing with multiple keys (implicitly converted to a tuple of keys) will be deprecated, use a list instead.\n",
      "  bootstrapped_downward = tmp.groupby(['#t(centisec)'])['ang_pos', 'dist', 'speed_diff', 'acc_diff', 'cc'].mean().reset_index()\n",
      "/var/folders/ng/l4j590g95vl5r33ctw59y6cr0000gn/T/ipykernel_26977/3258036297.py:12: FutureWarning: Indexing with multiple keys (implicitly converted to a tuple of keys) will be deprecated, use a list instead.\n",
      "  bootstrapped_downward = tmp.groupby(['#t(centisec)'])['ang_pos', 'dist', 'speed_diff', 'acc_diff', 'cc'].mean().reset_index()\n",
      "/var/folders/ng/l4j590g95vl5r33ctw59y6cr0000gn/T/ipykernel_26977/3258036297.py:12: FutureWarning: Indexing with multiple keys (implicitly converted to a tuple of keys) will be deprecated, use a list instead.\n",
      "  bootstrapped_downward = tmp.groupby(['#t(centisec)'])['ang_pos', 'dist', 'speed_diff', 'acc_diff', 'cc'].mean().reset_index()\n",
      "/var/folders/ng/l4j590g95vl5r33ctw59y6cr0000gn/T/ipykernel_26977/3258036297.py:12: FutureWarning: Indexing with multiple keys (implicitly converted to a tuple of keys) will be deprecated, use a list instead.\n",
      "  bootstrapped_downward = tmp.groupby(['#t(centisec)'])['ang_pos', 'dist', 'speed_diff', 'acc_diff', 'cc'].mean().reset_index()\n",
      "/var/folders/ng/l4j590g95vl5r33ctw59y6cr0000gn/T/ipykernel_26977/3258036297.py:12: FutureWarning: Indexing with multiple keys (implicitly converted to a tuple of keys) will be deprecated, use a list instead.\n",
      "  bootstrapped_downward = tmp.groupby(['#t(centisec)'])['ang_pos', 'dist', 'speed_diff', 'acc_diff', 'cc'].mean().reset_index()\n"
     ]
    },
    {
     "name": "stdout",
     "output_type": "stream",
     "text": [
      "960\n"
     ]
    },
    {
     "name": "stderr",
     "output_type": "stream",
     "text": [
      "/var/folders/ng/l4j590g95vl5r33ctw59y6cr0000gn/T/ipykernel_26977/3258036297.py:12: FutureWarning: Indexing with multiple keys (implicitly converted to a tuple of keys) will be deprecated, use a list instead.\n",
      "  bootstrapped_downward = tmp.groupby(['#t(centisec)'])['ang_pos', 'dist', 'speed_diff', 'acc_diff', 'cc'].mean().reset_index()\n",
      "/var/folders/ng/l4j590g95vl5r33ctw59y6cr0000gn/T/ipykernel_26977/3258036297.py:12: FutureWarning: Indexing with multiple keys (implicitly converted to a tuple of keys) will be deprecated, use a list instead.\n",
      "  bootstrapped_downward = tmp.groupby(['#t(centisec)'])['ang_pos', 'dist', 'speed_diff', 'acc_diff', 'cc'].mean().reset_index()\n",
      "/var/folders/ng/l4j590g95vl5r33ctw59y6cr0000gn/T/ipykernel_26977/3258036297.py:12: FutureWarning: Indexing with multiple keys (implicitly converted to a tuple of keys) will be deprecated, use a list instead.\n",
      "  bootstrapped_downward = tmp.groupby(['#t(centisec)'])['ang_pos', 'dist', 'speed_diff', 'acc_diff', 'cc'].mean().reset_index()\n",
      "/var/folders/ng/l4j590g95vl5r33ctw59y6cr0000gn/T/ipykernel_26977/3258036297.py:12: FutureWarning: Indexing with multiple keys (implicitly converted to a tuple of keys) will be deprecated, use a list instead.\n",
      "  bootstrapped_downward = tmp.groupby(['#t(centisec)'])['ang_pos', 'dist', 'speed_diff', 'acc_diff', 'cc'].mean().reset_index()\n",
      "/var/folders/ng/l4j590g95vl5r33ctw59y6cr0000gn/T/ipykernel_26977/3258036297.py:12: FutureWarning: Indexing with multiple keys (implicitly converted to a tuple of keys) will be deprecated, use a list instead.\n",
      "  bootstrapped_downward = tmp.groupby(['#t(centisec)'])['ang_pos', 'dist', 'speed_diff', 'acc_diff', 'cc'].mean().reset_index()\n",
      "/var/folders/ng/l4j590g95vl5r33ctw59y6cr0000gn/T/ipykernel_26977/3258036297.py:12: FutureWarning: Indexing with multiple keys (implicitly converted to a tuple of keys) will be deprecated, use a list instead.\n",
      "  bootstrapped_downward = tmp.groupby(['#t(centisec)'])['ang_pos', 'dist', 'speed_diff', 'acc_diff', 'cc'].mean().reset_index()\n",
      "/var/folders/ng/l4j590g95vl5r33ctw59y6cr0000gn/T/ipykernel_26977/3258036297.py:12: FutureWarning: Indexing with multiple keys (implicitly converted to a tuple of keys) will be deprecated, use a list instead.\n",
      "  bootstrapped_downward = tmp.groupby(['#t(centisec)'])['ang_pos', 'dist', 'speed_diff', 'acc_diff', 'cc'].mean().reset_index()\n",
      "/var/folders/ng/l4j590g95vl5r33ctw59y6cr0000gn/T/ipykernel_26977/3258036297.py:12: FutureWarning: Indexing with multiple keys (implicitly converted to a tuple of keys) will be deprecated, use a list instead.\n",
      "  bootstrapped_downward = tmp.groupby(['#t(centisec)'])['ang_pos', 'dist', 'speed_diff', 'acc_diff', 'cc'].mean().reset_index()\n",
      "/var/folders/ng/l4j590g95vl5r33ctw59y6cr0000gn/T/ipykernel_26977/3258036297.py:12: FutureWarning: Indexing with multiple keys (implicitly converted to a tuple of keys) will be deprecated, use a list instead.\n",
      "  bootstrapped_downward = tmp.groupby(['#t(centisec)'])['ang_pos', 'dist', 'speed_diff', 'acc_diff', 'cc'].mean().reset_index()\n",
      "/var/folders/ng/l4j590g95vl5r33ctw59y6cr0000gn/T/ipykernel_26977/3258036297.py:12: FutureWarning: Indexing with multiple keys (implicitly converted to a tuple of keys) will be deprecated, use a list instead.\n",
      "  bootstrapped_downward = tmp.groupby(['#t(centisec)'])['ang_pos', 'dist', 'speed_diff', 'acc_diff', 'cc'].mean().reset_index()\n"
     ]
    },
    {
     "name": "stdout",
     "output_type": "stream",
     "text": [
      "970\n"
     ]
    },
    {
     "name": "stderr",
     "output_type": "stream",
     "text": [
      "/var/folders/ng/l4j590g95vl5r33ctw59y6cr0000gn/T/ipykernel_26977/3258036297.py:12: FutureWarning: Indexing with multiple keys (implicitly converted to a tuple of keys) will be deprecated, use a list instead.\n",
      "  bootstrapped_downward = tmp.groupby(['#t(centisec)'])['ang_pos', 'dist', 'speed_diff', 'acc_diff', 'cc'].mean().reset_index()\n",
      "/var/folders/ng/l4j590g95vl5r33ctw59y6cr0000gn/T/ipykernel_26977/3258036297.py:12: FutureWarning: Indexing with multiple keys (implicitly converted to a tuple of keys) will be deprecated, use a list instead.\n",
      "  bootstrapped_downward = tmp.groupby(['#t(centisec)'])['ang_pos', 'dist', 'speed_diff', 'acc_diff', 'cc'].mean().reset_index()\n",
      "/var/folders/ng/l4j590g95vl5r33ctw59y6cr0000gn/T/ipykernel_26977/3258036297.py:12: FutureWarning: Indexing with multiple keys (implicitly converted to a tuple of keys) will be deprecated, use a list instead.\n",
      "  bootstrapped_downward = tmp.groupby(['#t(centisec)'])['ang_pos', 'dist', 'speed_diff', 'acc_diff', 'cc'].mean().reset_index()\n",
      "/var/folders/ng/l4j590g95vl5r33ctw59y6cr0000gn/T/ipykernel_26977/3258036297.py:12: FutureWarning: Indexing with multiple keys (implicitly converted to a tuple of keys) will be deprecated, use a list instead.\n",
      "  bootstrapped_downward = tmp.groupby(['#t(centisec)'])['ang_pos', 'dist', 'speed_diff', 'acc_diff', 'cc'].mean().reset_index()\n",
      "/var/folders/ng/l4j590g95vl5r33ctw59y6cr0000gn/T/ipykernel_26977/3258036297.py:12: FutureWarning: Indexing with multiple keys (implicitly converted to a tuple of keys) will be deprecated, use a list instead.\n",
      "  bootstrapped_downward = tmp.groupby(['#t(centisec)'])['ang_pos', 'dist', 'speed_diff', 'acc_diff', 'cc'].mean().reset_index()\n",
      "/var/folders/ng/l4j590g95vl5r33ctw59y6cr0000gn/T/ipykernel_26977/3258036297.py:12: FutureWarning: Indexing with multiple keys (implicitly converted to a tuple of keys) will be deprecated, use a list instead.\n",
      "  bootstrapped_downward = tmp.groupby(['#t(centisec)'])['ang_pos', 'dist', 'speed_diff', 'acc_diff', 'cc'].mean().reset_index()\n",
      "/var/folders/ng/l4j590g95vl5r33ctw59y6cr0000gn/T/ipykernel_26977/3258036297.py:12: FutureWarning: Indexing with multiple keys (implicitly converted to a tuple of keys) will be deprecated, use a list instead.\n",
      "  bootstrapped_downward = tmp.groupby(['#t(centisec)'])['ang_pos', 'dist', 'speed_diff', 'acc_diff', 'cc'].mean().reset_index()\n",
      "/var/folders/ng/l4j590g95vl5r33ctw59y6cr0000gn/T/ipykernel_26977/3258036297.py:12: FutureWarning: Indexing with multiple keys (implicitly converted to a tuple of keys) will be deprecated, use a list instead.\n",
      "  bootstrapped_downward = tmp.groupby(['#t(centisec)'])['ang_pos', 'dist', 'speed_diff', 'acc_diff', 'cc'].mean().reset_index()\n",
      "/var/folders/ng/l4j590g95vl5r33ctw59y6cr0000gn/T/ipykernel_26977/3258036297.py:12: FutureWarning: Indexing with multiple keys (implicitly converted to a tuple of keys) will be deprecated, use a list instead.\n",
      "  bootstrapped_downward = tmp.groupby(['#t(centisec)'])['ang_pos', 'dist', 'speed_diff', 'acc_diff', 'cc'].mean().reset_index()\n",
      "/var/folders/ng/l4j590g95vl5r33ctw59y6cr0000gn/T/ipykernel_26977/3258036297.py:12: FutureWarning: Indexing with multiple keys (implicitly converted to a tuple of keys) will be deprecated, use a list instead.\n",
      "  bootstrapped_downward = tmp.groupby(['#t(centisec)'])['ang_pos', 'dist', 'speed_diff', 'acc_diff', 'cc'].mean().reset_index()\n"
     ]
    },
    {
     "name": "stdout",
     "output_type": "stream",
     "text": [
      "980\n"
     ]
    },
    {
     "name": "stderr",
     "output_type": "stream",
     "text": [
      "/var/folders/ng/l4j590g95vl5r33ctw59y6cr0000gn/T/ipykernel_26977/3258036297.py:12: FutureWarning: Indexing with multiple keys (implicitly converted to a tuple of keys) will be deprecated, use a list instead.\n",
      "  bootstrapped_downward = tmp.groupby(['#t(centisec)'])['ang_pos', 'dist', 'speed_diff', 'acc_diff', 'cc'].mean().reset_index()\n",
      "/var/folders/ng/l4j590g95vl5r33ctw59y6cr0000gn/T/ipykernel_26977/3258036297.py:12: FutureWarning: Indexing with multiple keys (implicitly converted to a tuple of keys) will be deprecated, use a list instead.\n",
      "  bootstrapped_downward = tmp.groupby(['#t(centisec)'])['ang_pos', 'dist', 'speed_diff', 'acc_diff', 'cc'].mean().reset_index()\n",
      "/var/folders/ng/l4j590g95vl5r33ctw59y6cr0000gn/T/ipykernel_26977/3258036297.py:12: FutureWarning: Indexing with multiple keys (implicitly converted to a tuple of keys) will be deprecated, use a list instead.\n",
      "  bootstrapped_downward = tmp.groupby(['#t(centisec)'])['ang_pos', 'dist', 'speed_diff', 'acc_diff', 'cc'].mean().reset_index()\n",
      "/var/folders/ng/l4j590g95vl5r33ctw59y6cr0000gn/T/ipykernel_26977/3258036297.py:12: FutureWarning: Indexing with multiple keys (implicitly converted to a tuple of keys) will be deprecated, use a list instead.\n",
      "  bootstrapped_downward = tmp.groupby(['#t(centisec)'])['ang_pos', 'dist', 'speed_diff', 'acc_diff', 'cc'].mean().reset_index()\n",
      "/var/folders/ng/l4j590g95vl5r33ctw59y6cr0000gn/T/ipykernel_26977/3258036297.py:12: FutureWarning: Indexing with multiple keys (implicitly converted to a tuple of keys) will be deprecated, use a list instead.\n",
      "  bootstrapped_downward = tmp.groupby(['#t(centisec)'])['ang_pos', 'dist', 'speed_diff', 'acc_diff', 'cc'].mean().reset_index()\n",
      "/var/folders/ng/l4j590g95vl5r33ctw59y6cr0000gn/T/ipykernel_26977/3258036297.py:12: FutureWarning: Indexing with multiple keys (implicitly converted to a tuple of keys) will be deprecated, use a list instead.\n",
      "  bootstrapped_downward = tmp.groupby(['#t(centisec)'])['ang_pos', 'dist', 'speed_diff', 'acc_diff', 'cc'].mean().reset_index()\n",
      "/var/folders/ng/l4j590g95vl5r33ctw59y6cr0000gn/T/ipykernel_26977/3258036297.py:12: FutureWarning: Indexing with multiple keys (implicitly converted to a tuple of keys) will be deprecated, use a list instead.\n",
      "  bootstrapped_downward = tmp.groupby(['#t(centisec)'])['ang_pos', 'dist', 'speed_diff', 'acc_diff', 'cc'].mean().reset_index()\n",
      "/var/folders/ng/l4j590g95vl5r33ctw59y6cr0000gn/T/ipykernel_26977/3258036297.py:12: FutureWarning: Indexing with multiple keys (implicitly converted to a tuple of keys) will be deprecated, use a list instead.\n",
      "  bootstrapped_downward = tmp.groupby(['#t(centisec)'])['ang_pos', 'dist', 'speed_diff', 'acc_diff', 'cc'].mean().reset_index()\n",
      "/var/folders/ng/l4j590g95vl5r33ctw59y6cr0000gn/T/ipykernel_26977/3258036297.py:12: FutureWarning: Indexing with multiple keys (implicitly converted to a tuple of keys) will be deprecated, use a list instead.\n",
      "  bootstrapped_downward = tmp.groupby(['#t(centisec)'])['ang_pos', 'dist', 'speed_diff', 'acc_diff', 'cc'].mean().reset_index()\n",
      "/var/folders/ng/l4j590g95vl5r33ctw59y6cr0000gn/T/ipykernel_26977/3258036297.py:12: FutureWarning: Indexing with multiple keys (implicitly converted to a tuple of keys) will be deprecated, use a list instead.\n",
      "  bootstrapped_downward = tmp.groupby(['#t(centisec)'])['ang_pos', 'dist', 'speed_diff', 'acc_diff', 'cc'].mean().reset_index()\n"
     ]
    },
    {
     "name": "stdout",
     "output_type": "stream",
     "text": [
      "990\n"
     ]
    },
    {
     "name": "stderr",
     "output_type": "stream",
     "text": [
      "/var/folders/ng/l4j590g95vl5r33ctw59y6cr0000gn/T/ipykernel_26977/3258036297.py:12: FutureWarning: Indexing with multiple keys (implicitly converted to a tuple of keys) will be deprecated, use a list instead.\n",
      "  bootstrapped_downward = tmp.groupby(['#t(centisec)'])['ang_pos', 'dist', 'speed_diff', 'acc_diff', 'cc'].mean().reset_index()\n",
      "/var/folders/ng/l4j590g95vl5r33ctw59y6cr0000gn/T/ipykernel_26977/3258036297.py:12: FutureWarning: Indexing with multiple keys (implicitly converted to a tuple of keys) will be deprecated, use a list instead.\n",
      "  bootstrapped_downward = tmp.groupby(['#t(centisec)'])['ang_pos', 'dist', 'speed_diff', 'acc_diff', 'cc'].mean().reset_index()\n",
      "/var/folders/ng/l4j590g95vl5r33ctw59y6cr0000gn/T/ipykernel_26977/3258036297.py:12: FutureWarning: Indexing with multiple keys (implicitly converted to a tuple of keys) will be deprecated, use a list instead.\n",
      "  bootstrapped_downward = tmp.groupby(['#t(centisec)'])['ang_pos', 'dist', 'speed_diff', 'acc_diff', 'cc'].mean().reset_index()\n",
      "/var/folders/ng/l4j590g95vl5r33ctw59y6cr0000gn/T/ipykernel_26977/3258036297.py:12: FutureWarning: Indexing with multiple keys (implicitly converted to a tuple of keys) will be deprecated, use a list instead.\n",
      "  bootstrapped_downward = tmp.groupby(['#t(centisec)'])['ang_pos', 'dist', 'speed_diff', 'acc_diff', 'cc'].mean().reset_index()\n",
      "/var/folders/ng/l4j590g95vl5r33ctw59y6cr0000gn/T/ipykernel_26977/3258036297.py:12: FutureWarning: Indexing with multiple keys (implicitly converted to a tuple of keys) will be deprecated, use a list instead.\n",
      "  bootstrapped_downward = tmp.groupby(['#t(centisec)'])['ang_pos', 'dist', 'speed_diff', 'acc_diff', 'cc'].mean().reset_index()\n",
      "/var/folders/ng/l4j590g95vl5r33ctw59y6cr0000gn/T/ipykernel_26977/3258036297.py:12: FutureWarning: Indexing with multiple keys (implicitly converted to a tuple of keys) will be deprecated, use a list instead.\n",
      "  bootstrapped_downward = tmp.groupby(['#t(centisec)'])['ang_pos', 'dist', 'speed_diff', 'acc_diff', 'cc'].mean().reset_index()\n",
      "/var/folders/ng/l4j590g95vl5r33ctw59y6cr0000gn/T/ipykernel_26977/3258036297.py:12: FutureWarning: Indexing with multiple keys (implicitly converted to a tuple of keys) will be deprecated, use a list instead.\n",
      "  bootstrapped_downward = tmp.groupby(['#t(centisec)'])['ang_pos', 'dist', 'speed_diff', 'acc_diff', 'cc'].mean().reset_index()\n",
      "/var/folders/ng/l4j590g95vl5r33ctw59y6cr0000gn/T/ipykernel_26977/3258036297.py:12: FutureWarning: Indexing with multiple keys (implicitly converted to a tuple of keys) will be deprecated, use a list instead.\n",
      "  bootstrapped_downward = tmp.groupby(['#t(centisec)'])['ang_pos', 'dist', 'speed_diff', 'acc_diff', 'cc'].mean().reset_index()\n",
      "/var/folders/ng/l4j590g95vl5r33ctw59y6cr0000gn/T/ipykernel_26977/3258036297.py:12: FutureWarning: Indexing with multiple keys (implicitly converted to a tuple of keys) will be deprecated, use a list instead.\n",
      "  bootstrapped_downward = tmp.groupby(['#t(centisec)'])['ang_pos', 'dist', 'speed_diff', 'acc_diff', 'cc'].mean().reset_index()\n"
     ]
    }
   ],
   "source": [
    "bootd = pd.DataFrame()\n",
    "\n",
    "for i in range(n_boots):\n",
    "    tmp_list = []\n",
    "    events = np.random.choice(np.unique(segments_downward['event']), size=len(np.unique(segments_downward['event'])))\n",
    "    for j,ev in enumerate(events):\n",
    "        tmp = segments_downward[segments_downward['event'] == ev].values.tolist()\n",
    "        tmp_list.extend(tmp)\n",
    "    \n",
    "    tmp = pd.DataFrame(np.array(tmp_list), columns=list(segments_downward))\n",
    "    \n",
    "    bootstrapped_downward = tmp.groupby(['#t(centisec)'])['ang_pos', 'dist', 'speed_diff', 'acc_diff', 'cc'].mean().reset_index()\n",
    "    bootstrapped_downward.columns = ['#t(centisec)', 'apd', 'distd', 'sdd', 'add', 'ccd']\n",
    "    \n",
    "    bootd = pd.concat([bootd, bootstrapped_downward])\n",
    "    bootd['perm'] = i\n",
    "    \n",
    "    if i%10==0:\n",
    "        print(i)\n",
    "    \n",
    "    del tmp\n",
    "    del tmp_list\n",
    "    del bootstrapped_downward\n",
    "    gc.collect()\n",
    "    \n",
    "bootd.to_csv('/Users/vivekhsridhar/Library/Mobile Documents/com~apple~CloudDocs/Documents/Code/DirectionalCorrelation/Data/Output/pigeons/' + thresh_folder + '/bootdown_' + scale + '_seq' + str(int(seq_length/fps)) + '.csv', mode='w')"
   ]
  },
  {
   "cell_type": "code",
   "execution_count": null,
   "metadata": {},
   "outputs": [],
   "source": []
  }
 ],
 "metadata": {
  "kernelspec": {
   "display_name": "Python 3 (ipykernel)",
   "language": "python",
   "name": "python3"
  },
  "language_info": {
   "codemirror_mode": {
    "name": "ipython",
    "version": 3
   },
   "file_extension": ".py",
   "mimetype": "text/x-python",
   "name": "python",
   "nbconvert_exporter": "python",
   "pygments_lexer": "ipython3",
   "version": "3.8.9"
  }
 },
 "nbformat": 4,
 "nbformat_minor": 2
}
