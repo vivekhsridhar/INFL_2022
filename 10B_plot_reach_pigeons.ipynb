{
 "cells": [
  {
   "cell_type": "code",
   "execution_count": 1,
   "id": "4fbaea5c",
   "metadata": {},
   "outputs": [],
   "source": [
    "import gc\n",
    "import glob\n",
    "import numpy as np\n",
    "import pandas as pd\n",
    "import matplotlib.pyplot as plt\n",
    "from pylab import *"
   ]
  },
  {
   "cell_type": "code",
   "execution_count": 2,
   "id": "3a093c55",
   "metadata": {},
   "outputs": [],
   "source": [
    "n_inds = 30\n",
    "folders = ['ffABC1']\n",
    "\n",
    "angle_thresh = 30\n",
    "time_thresh = 5\n",
    "thresh_folder = 'angle' + str(angle_thresh) + '_time' + str(time_thresh)"
   ]
  },
  {
   "cell_type": "code",
   "execution_count": 3,
   "id": "d0ea8728",
   "metadata": {},
   "outputs": [],
   "source": [
    "def gini(x):\n",
    "    total = 0\n",
    "    for i, xi in enumerate(x[:-1], 1):\n",
    "        total += np.sum(np.abs(xi - x[i:]))\n",
    "    return total / (len(x)**2 * np.mean(x))"
   ]
  },
  {
   "cell_type": "code",
   "execution_count": 4,
   "id": "9ecf4cc8",
   "metadata": {},
   "outputs": [],
   "source": [
    "for i,name in enumerate(folders):\n",
    "    files = sorted(glob.glob('/Users/vivekhsridhar/Library/Mobile Documents/com~apple~CloudDocs/Documents/Code/DirectionalCorrelation/Data/Output/pigeons/' + str(n_inds) + '_birds/' + name + '/' + thresh_folder + '/individual*.csv'))\n",
    "    \n",
    "    for j,file in enumerate(files):\n",
    "        suffix = file[165:167]\n",
    "        tmp = pd.read_csv(file)\n",
    "\n",
    "        drops = ['Unnamed: 0', 'speed', 'acceleration', 'dev_gspeed', 'dev_gacc', '#t(centisec)', 'rx', 'ry', 'lfinal']\n",
    "        tmp.drop(drops, axis=1, inplace=True)\n",
    "\n",
    "        reach_col = 'reach_' + suffix\n",
    "        score_col = 'lscore_' + suffix\n",
    "        tmp.rename({'reach': reach_col}, axis=1, inplace=True)\n",
    "        tmp.rename({'lscore': score_col}, axis=1, inplace=True)\n",
    "        tmp = tmp.groupby(['f_id']).mean()\n",
    "        tmp = tmp.reset_index()\n",
    "\n",
    "        if j != 0:\n",
    "            scales = pd.merge(scales,tmp)\n",
    "        else:\n",
    "            scales = tmp\n",
    "    \n",
    "    scales['vid_id'] = i\n",
    "    \n",
    "    if i != 0:\n",
    "        df1 = pd.concat([scales,df1])\n",
    "    else:\n",
    "        df1 = scales"
   ]
  },
  {
   "cell_type": "code",
   "execution_count": 5,
   "id": "c2311349",
   "metadata": {},
   "outputs": [],
   "source": [
    "df1_corr = df1.drop(['f_id', 'vid_id', 'lscore_07', 'lscore_15', 'lscore_30', 'lscore_60'], axis=1)\n",
    "lcorr1 = np.array(df1_corr.corr())"
   ]
  },
  {
   "cell_type": "code",
   "execution_count": 6,
   "id": "7d2d4b5f",
   "metadata": {},
   "outputs": [
    {
     "data": {
      "image/png": "[encoded data removed]",
      "text/plain": [
       "<Figure size 432x288 with 2 Axes>"
      ]
     },
     "metadata": {
      "needs_background": "light"
     },
     "output_type": "display_data"
    }
   ],
   "source": [
    "plt.imshow(lcorr1, cmap='viridis', vmin=0.75, vmax=1)\n",
    "plt.axis('off')\n",
    "plt.colorbar()\n",
    "plt.show()"
   ]
  },
  {
   "cell_type": "code",
   "execution_count": 7,
   "id": "af057e30",
   "metadata": {},
   "outputs": [],
   "source": [
    "df1['f_id'] = df1['f_id'].astype(str)\n",
    "df1['reach_07'] /= np.sum(df1['reach_07'])\n",
    "df1['reach_15'] /= np.sum(df1['reach_15'])\n",
    "df1['reach_30'] /= np.sum(df1['reach_30'])\n",
    "df1['reach_60'] /= np.sum(df1['reach_60'])\n",
    "\n",
    "df1_sorted1 = df1.sort_values('reach_07', ascending=False)\n",
    "df1_sorted2 = df1.sort_values('reach_15', ascending=False)\n",
    "df1_sorted3 = df1.sort_values('reach_30', ascending=False)\n",
    "df1_sorted4 = df1.sort_values('reach_60', ascending=False)\n",
    "\n",
    "df1_sorted1['idx'] = np.arange(0,len(df1_sorted1),1)\n",
    "df1_sorted2['idx'] = np.arange(0,len(df1_sorted2),1)\n",
    "df1_sorted3['idx'] = np.arange(0,len(df1_sorted3),1)\n",
    "df1_sorted4['idx'] = np.arange(0,len(df1_sorted4),1)"
   ]
  },
  {
   "cell_type": "code",
   "execution_count": 8,
   "id": "e139e1bb",
   "metadata": {},
   "outputs": [
    {
     "data": {
      "image/png": "[encoded data removed]",
      "text/plain": [
       "<Figure size 432x288 with 1 Axes>"
      ]
     },
     "metadata": {
      "needs_background": "light"
     },
     "output_type": "display_data"
    }
   ],
   "source": [
    "ncols = 12\n",
    "cmap = cm.get_cmap('Greens', ncols)\n",
    "\n",
    "plt.scatter(df1_sorted1['idx'], df1_sorted1['reach_07'], color=cmap(ncols-9))\n",
    "plt.scatter(df1_sorted2['idx'], df1_sorted2['reach_15'], color=cmap(ncols-6))\n",
    "plt.scatter(df1_sorted3['idx'], df1_sorted3['reach_30'], color=cmap(ncols-3))\n",
    "plt.scatter(df1_sorted4['idx'], df1_sorted4['reach_60'], color=cmap(ncols-1))\n",
    "plt.savefig('/Users/vivekhsridhar/Library/Mobile Documents/com~apple~CloudDocs/Documents/Code/DirectionalCorrelation/Figures/pigeons/' + thresh_folder + '/ldist_' + str(n_inds) + '.png', format='png', dpi=600, bbox_inches=\"tight\")"
   ]
  },
  {
   "cell_type": "code",
   "execution_count": 9,
   "id": "7274d9f2",
   "metadata": {},
   "outputs": [],
   "source": [
    "for i,grp in enumerate(np.unique(df1['vid_id'])):\n",
    "    tmp = [gini(df1.loc[df1['vid_id'] == grp, 'reach_07']), gini(df1.loc[df1['vid_id'] == grp, 'reach_15']), \n",
    "             gini(df1.loc[df1['vid_id'] == grp, 'reach_30']), gini(df1.loc[df1['vid_id'] == grp, 'reach_60'])]\n",
    "    idx = ['7','15','30','60']\n",
    "    tmp = pd.DataFrame(np.array([idx, tmp]).T, columns=['timescale', 'gini'])\n",
    "    tmp['vid_id'] = grp\n",
    "    \n",
    "    if i != 0:\n",
    "        ginis1 = pd.concat([ginis1, tmp], axis=0)\n",
    "    else:\n",
    "        ginis1 = tmp"
   ]
  },
  {
   "cell_type": "code",
   "execution_count": 10,
   "id": "72ac57e8",
   "metadata": {},
   "outputs": [],
   "source": [
    "ginis1['gini'] = ginis1['gini'].astype('float64')\n",
    "ginis1['timescale'] = ginis1['timescale'].astype(str)"
   ]
  },
  {
   "cell_type": "code",
   "execution_count": 11,
   "id": "194782ba",
   "metadata": {},
   "outputs": [
    {
     "data": {
      "text/plain": [
       "([<matplotlib.axis.YTick at 0x13590e4c0>,\n",
       "  <matplotlib.axis.YTick at 0x135902e20>,\n",
       "  <matplotlib.axis.YTick at 0x135902220>,\n",
       "  <matplotlib.axis.YTick at 0x135949070>],\n",
       " [Text(0, 0, ''), Text(0, 0, ''), Text(0, 0, ''), Text(0, 0, '')])"
      ]
     },
     "execution_count": 11,
     "metadata": {},
     "output_type": "execute_result"
    },
    {
     "data": {
      "image/png": "[encoded data removed]",
      "text/plain": [
       "<Figure size 432x288 with 1 Axes>"
      ]
     },
     "metadata": {
      "needs_background": "light"
     },
     "output_type": "display_data"
    }
   ],
   "source": [
    "cmap = cm.get_cmap('Purples', ncols)\n",
    "\n",
    "plt.scatter(ginis1.loc[ginis1['timescale'] == '7', 'timescale'], ginis1.loc[ginis1['timescale'] == '7', 'gini'], color=cmap(ncols-9), s=100)\n",
    "plt.scatter(ginis1.loc[ginis1['timescale'] == '15', 'timescale'], ginis1.loc[ginis1['timescale'] == '15', 'gini'], color=cmap(ncols-6), s=100)\n",
    "plt.scatter(ginis1.loc[ginis1['timescale'] == '30', 'timescale'], ginis1.loc[ginis1['timescale'] == '30', 'gini'], color=cmap(ncols-3), s=100)\n",
    "plt.scatter(ginis1.loc[ginis1['timescale'] == '60', 'timescale'], ginis1.loc[ginis1['timescale'] == '60', 'gini'], color=cmap(ncols-1), s=100)\n",
    "plt.ylim(0,0.6)\n",
    "plt.yticks([0.0,0.2,0.4,0.6])"
   ]
  },
  {
   "cell_type": "code",
   "execution_count": 12,
   "id": "c15217e7",
   "metadata": {},
   "outputs": [],
   "source": [
    "n_inds = 10\n",
    "folders = ['ffA3', 'ffA4', 'ffB3', 'ffB4', 'ffC3', 'ffC4']"
   ]
  },
  {
   "cell_type": "code",
   "execution_count": 13,
   "id": "7ec438ce",
   "metadata": {},
   "outputs": [],
   "source": [
    "for i,name in enumerate(folders):\n",
    "    files = sorted(glob.glob('/Users/vivekhsridhar/Library/Mobile Documents/com~apple~CloudDocs/Documents/Code/DirectionalCorrelation/Data/Output/pigeons/' + str(n_inds) + '_birds/' + name + '/' + thresh_folder + '/individual*.csv'))\n",
    "    \n",
    "    for j,file in enumerate(files):\n",
    "        suffix = file[163:165]\n",
    "        tmp = pd.read_csv(file)\n",
    "\n",
    "        drops = ['Unnamed: 0', 'speed', 'acceleration', 'dev_gspeed', 'dev_gacc', '#t(centisec)', 'rx', 'ry', 'lfinal']\n",
    "        tmp.drop(drops, axis=1, inplace=True)\n",
    "\n",
    "        reach_col = 'reach_' + suffix\n",
    "        score_col = 'lscore_' + suffix\n",
    "        tmp.rename({'reach': reach_col}, axis=1, inplace=True)\n",
    "        tmp.rename({'lscore': score_col}, axis=1, inplace=True)\n",
    "        tmp = tmp.groupby(['f_id']).mean()\n",
    "        tmp = tmp.reset_index()\n",
    "\n",
    "        if j != 0:\n",
    "            scales = pd.merge(scales,tmp)\n",
    "        else:\n",
    "            scales = tmp\n",
    "    \n",
    "    scales['vid_id'] = i\n",
    "    \n",
    "    if i != 0:\n",
    "        df2 = pd.concat([scales,df2])\n",
    "    else:\n",
    "        df2 = scales"
   ]
  },
  {
   "cell_type": "code",
   "execution_count": 14,
   "id": "73c98ceb",
   "metadata": {},
   "outputs": [],
   "source": [
    "df2_corr = df2.drop(['f_id', 'vid_id', 'lscore_07', 'lscore_15', 'lscore_30', 'lscore_60'], axis=1)\n",
    "lcorr2 = np.array(df2_corr.corr())"
   ]
  },
  {
   "cell_type": "code",
   "execution_count": 15,
   "id": "2bee967e",
   "metadata": {},
   "outputs": [
    {
     "data": {
      "image/png": "[encoded data removed]",
      "text/plain": [
       "<Figure size 432x288 with 2 Axes>"
      ]
     },
     "metadata": {
      "needs_background": "light"
     },
     "output_type": "display_data"
    }
   ],
   "source": [
    "plt.imshow(lcorr2, cmap='viridis', vmin=0.75, vmax=1)\n",
    "plt.axis('off')\n",
    "plt.colorbar()\n",
    "plt.show()"
   ]
  },
  {
   "cell_type": "code",
   "execution_count": 16,
   "id": "dbc60194",
   "metadata": {},
   "outputs": [],
   "source": [
    "df2_gini = df2.copy()\n",
    "\n",
    "df2['u_fid'] = df2['f_id'] + df2['vid_id']//2*n_inds\n",
    "df2['u_fid'] = df2['u_fid'].astype(str)"
   ]
  },
  {
   "cell_type": "code",
   "execution_count": 17,
   "id": "a1cf0d2c",
   "metadata": {},
   "outputs": [],
   "source": [
    "df2 = df2.drop(['f_id', 'vid_id'], axis=1)\n",
    "df2 = df2.groupby(['u_fid']).mean().reset_index()"
   ]
  },
  {
   "cell_type": "code",
   "execution_count": 18,
   "id": "e519121e",
   "metadata": {},
   "outputs": [],
   "source": [
    "df2['u_fid'] = df2['u_fid'].astype(str)\n",
    "df2['reach_07'] /= np.sum(df2['reach_07'])\n",
    "df2['reach_15'] /= np.sum(df2['reach_15'])\n",
    "df2['reach_30'] /= np.sum(df2['reach_30'])\n",
    "df2['reach_60'] /= np.sum(df2['reach_60'])\n",
    "\n",
    "df2_sorted1 = df2.sort_values('reach_07', ascending=False)\n",
    "df2_sorted2 = df2.sort_values('reach_15', ascending=False)\n",
    "df2_sorted3 = df2.sort_values('reach_30', ascending=False)\n",
    "df2_sorted4 = df2.sort_values('reach_60', ascending=False)\n",
    "\n",
    "df2_sorted1['idx'] = np.arange(0,len(df2_sorted1),1)\n",
    "df2_sorted2['idx'] = np.arange(0,len(df2_sorted2),1)\n",
    "df2_sorted3['idx'] = np.arange(0,len(df2_sorted3),1)\n",
    "df2_sorted4['idx'] = np.arange(0,len(df2_sorted4),1)"
   ]
  },
  {
   "cell_type": "code",
   "execution_count": 19,
   "id": "e42353f1",
   "metadata": {},
   "outputs": [
    {
     "data": {
      "image/png": "[encoded data removed]",
      "text/plain": [
       "<Figure size 432x288 with 1 Axes>"
      ]
     },
     "metadata": {
      "needs_background": "light"
     },
     "output_type": "display_data"
    }
   ],
   "source": [
    "ncols = 12\n",
    "cmap = cm.get_cmap('Greens', ncols)\n",
    "\n",
    "plt.scatter(df2_sorted1['idx'], df2_sorted1['reach_07'], color=cmap(ncols-9))\n",
    "plt.scatter(df2_sorted2['idx'], df2_sorted2['reach_15'], color=cmap(ncols-6))\n",
    "plt.scatter(df2_sorted3['idx'], df2_sorted3['reach_30'], color=cmap(ncols-3))\n",
    "plt.scatter(df2_sorted4['idx'], df2_sorted4['reach_60'], color=cmap(ncols-1))\n",
    "plt.savefig('/Users/vivekhsridhar/Library/Mobile Documents/com~apple~CloudDocs/Documents/Code/DirectionalCorrelation/Figures/pigeons/' + thresh_folder + '/ldist_' + str(n_inds) + '.png', format='png', dpi=600, bbox_inches=\"tight\")"
   ]
  },
  {
   "cell_type": "code",
   "execution_count": 20,
   "id": "2cb3688f",
   "metadata": {},
   "outputs": [],
   "source": [
    "for i,grp in enumerate(np.unique(df2_gini['vid_id'])):\n",
    "    tmp = [gini(df2_gini.loc[df2_gini['vid_id'] == grp, 'reach_07']), gini(df2_gini.loc[df2_gini['vid_id'] == grp, 'reach_15']), \n",
    "             gini(df2_gini.loc[df2_gini['vid_id'] == grp, 'reach_30']), gini(df2_gini.loc[df2_gini['vid_id'] == grp, 'reach_60'])]\n",
    "    idx = ['7','15','30','60']\n",
    "    tmp = pd.DataFrame(np.array([idx, tmp]).T, columns=['timescale', 'gini'])\n",
    "    tmp['vid_id'] = grp\n",
    "    \n",
    "    if i != 0:\n",
    "        ginis2 = pd.concat([ginis2, tmp], axis=0)\n",
    "    else:\n",
    "        ginis2 = tmp"
   ]
  },
  {
   "cell_type": "code",
   "execution_count": 21,
   "id": "26642641",
   "metadata": {},
   "outputs": [],
   "source": [
    "ginis2['gini'] = ginis2['gini'].astype('float64')\n",
    "ginis2['timescale'] = ginis2['timescale'].astype(str)"
   ]
  },
  {
   "cell_type": "code",
   "execution_count": 22,
   "id": "4bbc67e3",
   "metadata": {},
   "outputs": [
    {
     "data": {
      "text/plain": [
       "([<matplotlib.axis.YTick at 0x133a6cc70>,\n",
       "  <matplotlib.axis.YTick at 0x133a6c6a0>,\n",
       "  <matplotlib.axis.YTick at 0x133a5c520>,\n",
       "  <matplotlib.axis.YTick at 0x1353aa7c0>],\n",
       " [Text(0, 0, ''), Text(0, 0, ''), Text(0, 0, ''), Text(0, 0, '')])"
      ]
     },
     "execution_count": 22,
     "metadata": {},
     "output_type": "execute_result"
    },
    {
     "data": {
      "image/png": "[encoded data removed]",
      "text/plain": [
       "<Figure size 432x288 with 1 Axes>"
      ]
     },
     "metadata": {
      "needs_background": "light"
     },
     "output_type": "display_data"
    }
   ],
   "source": [
    "cmap = cm.get_cmap('Purples', ncols)\n",
    "\n",
    "plt.scatter(ginis2.loc[ginis2['timescale'] == '7', 'timescale'], ginis2.loc[ginis2['timescale'] == '7', 'gini'], color=cmap(ncols-9), s=100, alpha=0.9)\n",
    "plt.scatter(ginis2.loc[ginis2['timescale'] == '15', 'timescale'], ginis2.loc[ginis2['timescale'] == '15', 'gini'], color=cmap(ncols-6), s=100, alpha=0.9)\n",
    "plt.scatter(ginis2.loc[ginis2['timescale'] == '30', 'timescale'], ginis2.loc[ginis2['timescale'] == '30', 'gini'], color=cmap(ncols-3), s=100, alpha=0.6)\n",
    "plt.scatter(ginis2.loc[ginis2['timescale'] == '60', 'timescale'], ginis2.loc[ginis2['timescale'] == '60', 'gini'], color=cmap(ncols-1), s=100, alpha=0.6)\n",
    "plt.ylim(0,0.6)\n",
    "plt.yticks([0.0,0.2,0.4,0.6])"
   ]
  },
  {
   "cell_type": "markdown",
   "id": "fcb89d29",
   "metadata": {},
   "source": [
    "#### Overall correlation matrix"
   ]
  },
  {
   "cell_type": "code",
   "execution_count": 23,
   "id": "b0bf67ba",
   "metadata": {},
   "outputs": [],
   "source": [
    "df_corr = pd.concat([df1_corr,df2_corr])\n",
    "lcorr = np.array(df_corr.corr())"
   ]
  },
  {
   "cell_type": "code",
   "execution_count": 24,
   "id": "15b2dec0",
   "metadata": {},
   "outputs": [
    {
     "data": {
      "image/png": "[encoded data removed]",
      "text/plain": [
       "<Figure size 432x288 with 2 Axes>"
      ]
     },
     "metadata": {
      "needs_background": "light"
     },
     "output_type": "display_data"
    }
   ],
   "source": [
    "plt.imshow(lcorr, cmap='viridis', vmin=0.7, vmax=1)\n",
    "plt.axis('off')\n",
    "plt.colorbar()\n",
    "plt.savefig('/Users/vivekhsridhar/Library/Mobile Documents/com~apple~CloudDocs/Documents/Code/DirectionalCorrelation/Figures/pigeons/' + thresh_folder + '/lcorr.png', format='png', dpi=600, bbox_inches=\"tight\")"
   ]
  },
  {
   "cell_type": "markdown",
   "id": "f1314422",
   "metadata": {},
   "source": [
    "#### Overall gini indices"
   ]
  },
  {
   "cell_type": "code",
   "execution_count": 26,
   "id": "63ac833e",
   "metadata": {},
   "outputs": [
    {
     "data": {
      "image/png": "[encoded data removed]",
      "text/plain": [
       "<Figure size 432x288 with 2 Axes>"
      ]
     },
     "metadata": {
      "needs_background": "light"
     },
     "output_type": "display_data"
    }
   ],
   "source": [
    "cmap = cm.get_cmap('Purples', ncols)\n",
    "\n",
    "fig,(ax1,ax2) = plt.subplots(1,2, sharey=True)\n",
    "ax1.scatter(ginis1.loc[ginis1['timescale'] == '7', 'timescale'], ginis1.loc[ginis1['timescale'] == '7', 'gini'], color=cmap(ncols-9), s=100, alpha=0.9)\n",
    "ax1.scatter(ginis1.loc[ginis1['timescale'] == '15', 'timescale'], ginis1.loc[ginis1['timescale'] == '15', 'gini'], color=cmap(ncols-6), s=100, alpha=0.9)\n",
    "ax1.scatter(ginis1.loc[ginis1['timescale'] == '30', 'timescale'], ginis1.loc[ginis1['timescale'] == '30', 'gini'], color=cmap(ncols-3), s=100, alpha=0.6)\n",
    "ax1.scatter(ginis1.loc[ginis1['timescale'] == '60', 'timescale'], ginis1.loc[ginis1['timescale'] == '60', 'gini'], color=cmap(ncols-1), s=100, alpha=0.6)\n",
    "\n",
    "ax2.scatter(ginis2.loc[ginis2['timescale'] == '7', 'timescale'], ginis2.loc[ginis2['timescale'] == '7', 'gini'], color=cmap(ncols-9), s=100, alpha=0.9)\n",
    "ax2.scatter(ginis2.loc[ginis2['timescale'] == '15', 'timescale'], ginis2.loc[ginis2['timescale'] == '15', 'gini'], color=cmap(ncols-6), s=100, alpha=0.9)\n",
    "ax2.scatter(ginis2.loc[ginis2['timescale'] == '30', 'timescale'], ginis2.loc[ginis2['timescale'] == '30', 'gini'], color=cmap(ncols-3), s=100, alpha=0.6)\n",
    "ax2.scatter(ginis2.loc[ginis2['timescale'] == '60', 'timescale'], ginis2.loc[ginis2['timescale'] == '60', 'gini'], color=cmap(ncols-1), s=100, alpha=0.6)\n",
    "ax2.set_ylim(0,0.6)\n",
    "ax2.set_yticks([0.0,0.2,0.4,0.6])\n",
    "plt.savefig('/Users/vivekhsridhar/Library/Mobile Documents/com~apple~CloudDocs/Documents/Code/DirectionalCorrelation/Figures/pigeons/' + thresh_folder + '/gini.png', format='png', dpi=600, bbox_inches=\"tight\")"
   ]
  },
  {
   "cell_type": "code",
   "execution_count": null,
   "id": "8fab9325",
   "metadata": {},
   "outputs": [],
   "source": []
  }
 ],
 "metadata": {
  "kernelspec": {
   "display_name": "Python 3 (ipykernel)",
   "language": "python",
   "name": "python3"
  },
  "language_info": {
   "codemirror_mode": {
    "name": "ipython",
    "version": 3
   },
   "file_extension": ".py",
   "mimetype": "text/x-python",
   "name": "python",
   "nbconvert_exporter": "python",
   "pygments_lexer": "ipython3",
   "version": "3.8.9"
  }
 },
 "nbformat": 4,
 "nbformat_minor": 5
}
